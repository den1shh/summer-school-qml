{
  "cells": [
    {
      "cell_type": "markdown",
      "metadata": {
        "id": "view-in-github",
        "colab_type": "text"
      },
      "source": [
        "<a href=\"https://colab.research.google.com/github/den1shh/summer-school-qml/blob/main/qnn.ipynb\" target=\"_parent\"><img src=\"https://colab.research.google.com/assets/colab-badge.svg\" alt=\"Open In Colab\"/></a>"
      ]
    },
    {
      "cell_type": "code",
      "execution_count": 1,
      "metadata": {
        "colab": {
          "base_uri": "https://localhost:8080/"
        },
        "collapsed": true,
        "id": "PNLus8UehOVs",
        "outputId": "2bfeed05-b6a7-49ba-d291-4effe4aa5395"
      },
      "outputs": [
        {
          "output_type": "stream",
          "name": "stdout",
          "text": [
            "Collecting pennylane\n",
            "  Downloading PennyLane-0.37.0-py3-none-any.whl.metadata (9.3 kB)\n",
            "Collecting qiskit\n",
            "  Downloading qiskit-1.1.1-cp38-abi3-manylinux_2_17_x86_64.manylinux2014_x86_64.whl.metadata (12 kB)\n",
            "Collecting pennylane-qiskit\n",
            "  Downloading PennyLane_qiskit-0.37.0-py3-none-any.whl.metadata (7.0 kB)\n",
            "Collecting ply\n",
            "  Downloading ply-3.11-py2.py3-none-any.whl.metadata (844 bytes)\n",
            "Collecting mitiq\n",
            "  Downloading mitiq-0.38.0-py3-none-any.whl.metadata (18 kB)\n",
            "Requirement already satisfied: numpy<2.0 in /usr/local/lib/python3.10/dist-packages (from pennylane) (1.26.4)\n",
            "Requirement already satisfied: scipy in /usr/local/lib/python3.10/dist-packages (from pennylane) (1.13.1)\n",
            "Requirement already satisfied: networkx in /usr/local/lib/python3.10/dist-packages (from pennylane) (3.3)\n",
            "Collecting rustworkx (from pennylane)\n",
            "  Downloading rustworkx-0.15.1-cp38-abi3-manylinux_2_17_x86_64.manylinux2014_x86_64.whl.metadata (9.9 kB)\n",
            "Requirement already satisfied: autograd in /usr/local/lib/python3.10/dist-packages (from pennylane) (1.6.2)\n",
            "Requirement already satisfied: toml in /usr/local/lib/python3.10/dist-packages (from pennylane) (0.10.2)\n",
            "Collecting appdirs (from pennylane)\n",
            "  Downloading appdirs-1.4.4-py2.py3-none-any.whl.metadata (9.0 kB)\n",
            "Collecting semantic-version>=2.7 (from pennylane)\n",
            "  Downloading semantic_version-2.10.0-py2.py3-none-any.whl.metadata (9.7 kB)\n",
            "Collecting autoray>=0.6.11 (from pennylane)\n",
            "  Downloading autoray-0.6.12-py3-none-any.whl.metadata (5.7 kB)\n",
            "Requirement already satisfied: cachetools in /usr/local/lib/python3.10/dist-packages (from pennylane) (5.4.0)\n",
            "Collecting pennylane-lightning>=0.37 (from pennylane)\n",
            "  Downloading PennyLane_Lightning-0.37.0-cp310-cp310-manylinux_2_28_x86_64.whl.metadata (23 kB)\n",
            "Requirement already satisfied: requests in /usr/local/lib/python3.10/dist-packages (from pennylane) (2.31.0)\n",
            "Requirement already satisfied: typing-extensions in /usr/local/lib/python3.10/dist-packages (from pennylane) (4.12.2)\n",
            "Requirement already satisfied: packaging in /usr/local/lib/python3.10/dist-packages (from pennylane) (24.1)\n",
            "Requirement already satisfied: sympy>=1.3 in /usr/local/lib/python3.10/dist-packages (from qiskit) (1.13.1)\n",
            "Collecting dill>=0.3 (from qiskit)\n",
            "  Downloading dill-0.3.8-py3-none-any.whl.metadata (10 kB)\n",
            "Requirement already satisfied: python-dateutil>=2.8.0 in /usr/local/lib/python3.10/dist-packages (from qiskit) (2.8.2)\n",
            "Collecting stevedore>=3.0.0 (from qiskit)\n",
            "  Downloading stevedore-5.2.0-py3-none-any.whl.metadata (2.3 kB)\n",
            "Collecting symengine>=0.11 (from qiskit)\n",
            "  Downloading symengine-0.11.0-cp310-cp310-manylinux_2_12_x86_64.manylinux2010_x86_64.whl.metadata (1.2 kB)\n",
            "Collecting qiskit-aer (from pennylane-qiskit)\n",
            "  Downloading qiskit_aer-0.14.2-cp310-cp310-manylinux_2_17_x86_64.manylinux2014_x86_64.whl.metadata (8.1 kB)\n",
            "Collecting qiskit-ibm-provider (from pennylane-qiskit)\n",
            "  Downloading qiskit_ibm_provider-0.11.0-py3-none-any.whl.metadata (7.6 kB)\n",
            "Collecting qiskit-ibm-runtime (from pennylane-qiskit)\n",
            "  Downloading qiskit_ibm_runtime-0.25.0-py3-none-any.whl.metadata (19 kB)\n",
            "Collecting sympy>=1.3 (from qiskit)\n",
            "  Downloading sympy-1.12.1-py3-none-any.whl.metadata (12 kB)\n",
            "Collecting cirq-core<1.4.0,>=1.0.0 (from mitiq)\n",
            "  Downloading cirq_core-1.3.0-py3-none-any.whl.metadata (1.9 kB)\n",
            "Requirement already satisfied: tabulate in /usr/local/lib/python3.10/dist-packages (from mitiq) (0.9.0)\n",
            "Collecting duet~=0.2.8 (from cirq-core<1.4.0,>=1.0.0->mitiq)\n",
            "  Downloading duet-0.2.9-py3-none-any.whl.metadata (2.3 kB)\n",
            "Requirement already satisfied: matplotlib~=3.0 in /usr/local/lib/python3.10/dist-packages (from cirq-core<1.4.0,>=1.0.0->mitiq) (3.7.1)\n",
            "Requirement already satisfied: pandas in /usr/local/lib/python3.10/dist-packages (from cirq-core<1.4.0,>=1.0.0->mitiq) (2.1.4)\n",
            "Requirement already satisfied: sortedcontainers~=2.0 in /usr/local/lib/python3.10/dist-packages (from cirq-core<1.4.0,>=1.0.0->mitiq) (2.4.0)\n",
            "Requirement already satisfied: tqdm in /usr/local/lib/python3.10/dist-packages (from cirq-core<1.4.0,>=1.0.0->mitiq) (4.66.4)\n",
            "Requirement already satisfied: six>=1.5 in /usr/local/lib/python3.10/dist-packages (from python-dateutil>=2.8.0->qiskit) (1.16.0)\n",
            "Collecting pbr!=2.1.0,>=2.0.0 (from stevedore>=3.0.0->qiskit)\n",
            "  Downloading pbr-6.0.0-py2.py3-none-any.whl.metadata (1.3 kB)\n",
            "Requirement already satisfied: mpmath<1.4.0,>=1.1.0 in /usr/local/lib/python3.10/dist-packages (from sympy>=1.3->qiskit) (1.3.0)\n",
            "Requirement already satisfied: future>=0.15.2 in /usr/local/lib/python3.10/dist-packages (from autograd->pennylane) (1.0.0)\n",
            "Requirement already satisfied: psutil>=5 in /usr/local/lib/python3.10/dist-packages (from qiskit-aer->pennylane-qiskit) (5.9.5)\n",
            "Collecting requests-ntlm>=1.1.0 (from qiskit-ibm-provider->pennylane-qiskit)\n",
            "  Downloading requests_ntlm-1.3.0-py3-none-any.whl.metadata (2.4 kB)\n",
            "Requirement already satisfied: urllib3>=1.21.1 in /usr/local/lib/python3.10/dist-packages (from qiskit-ibm-provider->pennylane-qiskit) (2.0.7)\n",
            "Requirement already satisfied: websocket-client>=1.5.1 in /usr/local/lib/python3.10/dist-packages (from qiskit-ibm-provider->pennylane-qiskit) (1.8.0)\n",
            "Collecting websockets>=10.0 (from qiskit-ibm-provider->pennylane-qiskit)\n",
            "  Downloading websockets-12.0-cp310-cp310-manylinux_2_5_x86_64.manylinux1_x86_64.manylinux_2_17_x86_64.manylinux2014_x86_64.whl.metadata (6.6 kB)\n",
            "Requirement already satisfied: charset-normalizer<4,>=2 in /usr/local/lib/python3.10/dist-packages (from requests->pennylane) (3.3.2)\n",
            "Requirement already satisfied: idna<4,>=2.5 in /usr/local/lib/python3.10/dist-packages (from requests->pennylane) (3.7)\n",
            "Requirement already satisfied: certifi>=2017.4.17 in /usr/local/lib/python3.10/dist-packages (from requests->pennylane) (2024.7.4)\n",
            "Collecting ibm-platform-services>=0.22.6 (from qiskit-ibm-runtime->pennylane-qiskit)\n",
            "  Downloading ibm-platform-services-0.55.2.tar.gz (323 kB)\n",
            "\u001b[2K     \u001b[90m━━━━━━━━━━━━━━━━━━━━━━━━━━━━━━━━━━━━━━━━\u001b[0m \u001b[32m323.1/323.1 kB\u001b[0m \u001b[31m25.5 MB/s\u001b[0m eta \u001b[36m0:00:00\u001b[0m\n",
            "\u001b[?25h  Installing build dependencies ... \u001b[?25l\u001b[?25hdone\n",
            "  Getting requirements to build wheel ... \u001b[?25l\u001b[?25hdone\n",
            "  Preparing metadata (pyproject.toml) ... \u001b[?25l\u001b[?25hdone\n",
            "Requirement already satisfied: pydantic>=2.5.0 in /usr/local/lib/python3.10/dist-packages (from qiskit-ibm-runtime->pennylane-qiskit) (2.8.2)\n",
            "Collecting ibm-cloud-sdk-core<4.0.0,>=3.20.4 (from ibm-platform-services>=0.22.6->qiskit-ibm-runtime->pennylane-qiskit)\n",
            "  Downloading ibm-cloud-sdk-core-3.20.4.tar.gz (62 kB)\n",
            "\u001b[2K     \u001b[90m━━━━━━━━━━━━━━━━━━━━━━━━━━━━━━━━━━━━━━━━\u001b[0m \u001b[32m62.5/62.5 kB\u001b[0m \u001b[31m5.8 MB/s\u001b[0m eta \u001b[36m0:00:00\u001b[0m\n",
            "\u001b[?25h  Installing build dependencies ... \u001b[?25l\u001b[?25hdone\n",
            "  Getting requirements to build wheel ... \u001b[?25l\u001b[?25hdone\n",
            "  Preparing metadata (pyproject.toml) ... \u001b[?25l\u001b[?25hdone\n",
            "Requirement already satisfied: contourpy>=1.0.1 in /usr/local/lib/python3.10/dist-packages (from matplotlib~=3.0->cirq-core<1.4.0,>=1.0.0->mitiq) (1.2.1)\n",
            "Requirement already satisfied: cycler>=0.10 in /usr/local/lib/python3.10/dist-packages (from matplotlib~=3.0->cirq-core<1.4.0,>=1.0.0->mitiq) (0.12.1)\n",
            "Requirement already satisfied: fonttools>=4.22.0 in /usr/local/lib/python3.10/dist-packages (from matplotlib~=3.0->cirq-core<1.4.0,>=1.0.0->mitiq) (4.53.1)\n",
            "Requirement already satisfied: kiwisolver>=1.0.1 in /usr/local/lib/python3.10/dist-packages (from matplotlib~=3.0->cirq-core<1.4.0,>=1.0.0->mitiq) (1.4.5)\n",
            "Requirement already satisfied: pillow>=6.2.0 in /usr/local/lib/python3.10/dist-packages (from matplotlib~=3.0->cirq-core<1.4.0,>=1.0.0->mitiq) (9.4.0)\n",
            "Requirement already satisfied: pyparsing>=2.3.1 in /usr/local/lib/python3.10/dist-packages (from matplotlib~=3.0->cirq-core<1.4.0,>=1.0.0->mitiq) (3.1.2)\n",
            "Requirement already satisfied: annotated-types>=0.4.0 in /usr/local/lib/python3.10/dist-packages (from pydantic>=2.5.0->qiskit-ibm-runtime->pennylane-qiskit) (0.7.0)\n",
            "Requirement already satisfied: pydantic-core==2.20.1 in /usr/local/lib/python3.10/dist-packages (from pydantic>=2.5.0->qiskit-ibm-runtime->pennylane-qiskit) (2.20.1)\n",
            "Requirement already satisfied: cryptography>=1.3 in /usr/local/lib/python3.10/dist-packages (from requests-ntlm>=1.1.0->qiskit-ibm-provider->pennylane-qiskit) (42.0.8)\n",
            "Collecting pyspnego>=0.4.0 (from requests-ntlm>=1.1.0->qiskit-ibm-provider->pennylane-qiskit)\n",
            "  Downloading pyspnego-0.11.1-py3-none-any.whl.metadata (5.4 kB)\n",
            "Requirement already satisfied: pytz>=2020.1 in /usr/local/lib/python3.10/dist-packages (from pandas->cirq-core<1.4.0,>=1.0.0->mitiq) (2024.1)\n",
            "Requirement already satisfied: tzdata>=2022.1 in /usr/local/lib/python3.10/dist-packages (from pandas->cirq-core<1.4.0,>=1.0.0->mitiq) (2024.1)\n",
            "Requirement already satisfied: cffi>=1.12 in /usr/local/lib/python3.10/dist-packages (from cryptography>=1.3->requests-ntlm>=1.1.0->qiskit-ibm-provider->pennylane-qiskit) (1.16.0)\n",
            "Collecting urllib3>=1.21.1 (from qiskit-ibm-provider->pennylane-qiskit)\n",
            "  Downloading urllib3-2.2.2-py3-none-any.whl.metadata (6.4 kB)\n",
            "Requirement already satisfied: PyJWT<3.0.0,>=2.8.0 in /usr/local/lib/python3.10/dist-packages (from ibm-cloud-sdk-core<4.0.0,>=3.20.4->ibm-platform-services>=0.22.6->qiskit-ibm-runtime->pennylane-qiskit) (2.8.0)\n",
            "Requirement already satisfied: pycparser in /usr/local/lib/python3.10/dist-packages (from cffi>=1.12->cryptography>=1.3->requests-ntlm>=1.1.0->qiskit-ibm-provider->pennylane-qiskit) (2.22)\n",
            "Downloading PennyLane-0.37.0-py3-none-any.whl (1.8 MB)\n",
            "\u001b[2K   \u001b[90m━━━━━━━━━━━━━━━━━━━━━━━━━━━━━━━━━━━━━━━━\u001b[0m \u001b[32m1.8/1.8 MB\u001b[0m \u001b[31m74.4 MB/s\u001b[0m eta \u001b[36m0:00:00\u001b[0m\n",
            "\u001b[?25hDownloading qiskit-1.1.1-cp38-abi3-manylinux_2_17_x86_64.manylinux2014_x86_64.whl (4.3 MB)\n",
            "\u001b[2K   \u001b[90m━━━━━━━━━━━━━━━━━━━━━━━━━━━━━━━━━━━━━━━━\u001b[0m \u001b[32m4.3/4.3 MB\u001b[0m \u001b[31m98.8 MB/s\u001b[0m eta \u001b[36m0:00:00\u001b[0m\n",
            "\u001b[?25hDownloading PennyLane_qiskit-0.37.0-py3-none-any.whl (38 kB)\n",
            "Downloading ply-3.11-py2.py3-none-any.whl (49 kB)\n",
            "\u001b[2K   \u001b[90m━━━━━━━━━━━━━━━━━━━━━━━━━━━━━━━━━━━━━━━━\u001b[0m \u001b[32m49.6/49.6 kB\u001b[0m \u001b[31m5.0 MB/s\u001b[0m eta \u001b[36m0:00:00\u001b[0m\n",
            "\u001b[?25hDownloading mitiq-0.38.0-py3-none-any.whl (171 kB)\n",
            "\u001b[2K   \u001b[90m━━━━━━━━━━━━━━━━━━━━━━━━━━━━━━━━━━━━━━━━\u001b[0m \u001b[32m171.4/171.4 kB\u001b[0m \u001b[31m17.4 MB/s\u001b[0m eta \u001b[36m0:00:00\u001b[0m\n",
            "\u001b[?25hDownloading autoray-0.6.12-py3-none-any.whl (50 kB)\n",
            "\u001b[2K   \u001b[90m━━━━━━━━━━━━━━━━━━━━━━━━━━━━━━━━━━━━━━━━\u001b[0m \u001b[32m51.0/51.0 kB\u001b[0m \u001b[31m5.2 MB/s\u001b[0m eta \u001b[36m0:00:00\u001b[0m\n",
            "\u001b[?25hDownloading cirq_core-1.3.0-py3-none-any.whl (1.8 MB)\n",
            "\u001b[2K   \u001b[90m━━━━━━━━━━━━━━━━━━━━━━━━━━━━━━━━━━━━━━━━\u001b[0m \u001b[32m1.8/1.8 MB\u001b[0m \u001b[31m81.0 MB/s\u001b[0m eta \u001b[36m0:00:00\u001b[0m\n",
            "\u001b[?25hDownloading dill-0.3.8-py3-none-any.whl (116 kB)\n",
            "\u001b[2K   \u001b[90m━━━━━━━━━━━━━━━━━━━━━━━━━━━━━━━━━━━━━━━━\u001b[0m \u001b[32m116.3/116.3 kB\u001b[0m \u001b[31m12.3 MB/s\u001b[0m eta \u001b[36m0:00:00\u001b[0m\n",
            "\u001b[?25hDownloading PennyLane_Lightning-0.37.0-cp310-cp310-manylinux_2_28_x86_64.whl (15.5 MB)\n",
            "\u001b[2K   \u001b[90m━━━━━━━━━━━━━━━━━━━━━━━━━━━━━━━━━━━━━━━━\u001b[0m \u001b[32m15.5/15.5 MB\u001b[0m \u001b[31m24.8 MB/s\u001b[0m eta \u001b[36m0:00:00\u001b[0m\n",
            "\u001b[?25hDownloading rustworkx-0.15.1-cp38-abi3-manylinux_2_17_x86_64.manylinux2014_x86_64.whl (2.0 MB)\n",
            "\u001b[2K   \u001b[90m━━━━━━━━━━━━━━━━━━━━━━━━━━━━━━━━━━━━━━━━\u001b[0m \u001b[32m2.0/2.0 MB\u001b[0m \u001b[31m85.5 MB/s\u001b[0m eta \u001b[36m0:00:00\u001b[0m\n",
            "\u001b[?25hDownloading semantic_version-2.10.0-py2.py3-none-any.whl (15 kB)\n",
            "Downloading stevedore-5.2.0-py3-none-any.whl (49 kB)\n",
            "\u001b[2K   \u001b[90m━━━━━━━━━━━━━━━━━━━━━━━━━━━━━━━━━━━━━━━━\u001b[0m \u001b[32m49.7/49.7 kB\u001b[0m \u001b[31m5.2 MB/s\u001b[0m eta \u001b[36m0:00:00\u001b[0m\n",
            "\u001b[?25hDownloading symengine-0.11.0-cp310-cp310-manylinux_2_12_x86_64.manylinux2010_x86_64.whl (39.4 MB)\n",
            "\u001b[2K   \u001b[90m━━━━━━━━━━━━━━━━━━━━━━━━━━━━━━━━━━━━━━━━\u001b[0m \u001b[32m39.4/39.4 MB\u001b[0m \u001b[31m24.7 MB/s\u001b[0m eta \u001b[36m0:00:00\u001b[0m\n",
            "\u001b[?25hDownloading sympy-1.12.1-py3-none-any.whl (5.7 MB)\n",
            "\u001b[2K   \u001b[90m━━━━━━━━━━━━━━━━━━━━━━━━━━━━━━━━━━━━━━━━\u001b[0m \u001b[32m5.7/5.7 MB\u001b[0m \u001b[31m111.2 MB/s\u001b[0m eta \u001b[36m0:00:00\u001b[0m\n",
            "\u001b[?25hDownloading appdirs-1.4.4-py2.py3-none-any.whl (9.6 kB)\n",
            "Downloading qiskit_aer-0.14.2-cp310-cp310-manylinux_2_17_x86_64.manylinux2014_x86_64.whl (12.4 MB)\n",
            "\u001b[2K   \u001b[90m━━━━━━━━━━━━━━━━━━━━━━━━━━━━━━━━━━━━━━━━\u001b[0m \u001b[32m12.4/12.4 MB\u001b[0m \u001b[31m73.7 MB/s\u001b[0m eta \u001b[36m0:00:00\u001b[0m\n",
            "\u001b[?25hDownloading qiskit_ibm_provider-0.11.0-py3-none-any.whl (249 kB)\n",
            "\u001b[2K   \u001b[90m━━━━━━━━━━━━━━━━━━━━━━━━━━━━━━━━━━━━━━━━\u001b[0m \u001b[32m249.9/249.9 kB\u001b[0m \u001b[31m23.5 MB/s\u001b[0m eta \u001b[36m0:00:00\u001b[0m\n",
            "\u001b[?25hDownloading qiskit_ibm_runtime-0.25.0-py3-none-any.whl (2.9 MB)\n",
            "\u001b[2K   \u001b[90m━━━━━━━━━━━━━━━━━━━━━━━━━━━━━━━━━━━━━━━━\u001b[0m \u001b[32m2.9/2.9 MB\u001b[0m \u001b[31m93.4 MB/s\u001b[0m eta \u001b[36m0:00:00\u001b[0m\n",
            "\u001b[?25hDownloading duet-0.2.9-py3-none-any.whl (29 kB)\n",
            "Downloading pbr-6.0.0-py2.py3-none-any.whl (107 kB)\n",
            "\u001b[2K   \u001b[90m━━━━━━━━━━━━━━━━━━━━━━━━━━━━━━━━━━━━━━━━\u001b[0m \u001b[32m107.5/107.5 kB\u001b[0m \u001b[31m10.8 MB/s\u001b[0m eta \u001b[36m0:00:00\u001b[0m\n",
            "\u001b[?25hDownloading requests_ntlm-1.3.0-py3-none-any.whl (6.6 kB)\n",
            "Downloading websockets-12.0-cp310-cp310-manylinux_2_5_x86_64.manylinux1_x86_64.manylinux_2_17_x86_64.manylinux2014_x86_64.whl (130 kB)\n",
            "\u001b[2K   \u001b[90m━━━━━━━━━━━━━━━━━━━━━━━━━━━━━━━━━━━━━━━━\u001b[0m \u001b[32m130.2/130.2 kB\u001b[0m \u001b[31m12.7 MB/s\u001b[0m eta \u001b[36m0:00:00\u001b[0m\n",
            "\u001b[?25hDownloading urllib3-2.2.2-py3-none-any.whl (121 kB)\n",
            "\u001b[2K   \u001b[90m━━━━━━━━━━━━━━━━━━━━━━━━━━━━━━━━━━━━━━━━\u001b[0m \u001b[32m121.4/121.4 kB\u001b[0m \u001b[31m11.8 MB/s\u001b[0m eta \u001b[36m0:00:00\u001b[0m\n",
            "\u001b[?25hDownloading pyspnego-0.11.1-py3-none-any.whl (130 kB)\n",
            "\u001b[2K   \u001b[90m━━━━━━━━━━━━━━━━━━━━━━━━━━━━━━━━━━━━━━━━\u001b[0m \u001b[32m130.5/130.5 kB\u001b[0m \u001b[31m11.0 MB/s\u001b[0m eta \u001b[36m0:00:00\u001b[0m\n",
            "\u001b[?25hBuilding wheels for collected packages: ibm-platform-services, ibm-cloud-sdk-core\n",
            "  Building wheel for ibm-platform-services (pyproject.toml) ... \u001b[?25l\u001b[?25hdone\n",
            "  Created wheel for ibm-platform-services: filename=ibm_platform_services-0.55.2-py3-none-any.whl size=339687 sha256=22119e5ec43e832367ad5a5bca0e2b78d0aaeb0689d91020c0d2e2cea1a91f5d\n",
            "  Stored in directory: /root/.cache/pip/wheels/af/ef/67/6c17a948d54c37e26b0c927dc206d95a258e9a3f7ba7014c67\n",
            "  Building wheel for ibm-cloud-sdk-core (pyproject.toml) ... \u001b[?25l\u001b[?25hdone\n",
            "  Created wheel for ibm-cloud-sdk-core: filename=ibm_cloud_sdk_core-3.20.4-py3-none-any.whl size=102561 sha256=75870b263541be00ab19b1ad5fcb8d3c00941459b909d9e386f199a84228c858\n",
            "  Stored in directory: /root/.cache/pip/wheels/b9/ce/35/49177324cf29a507d20ea78e9b859a56a449fdc92d3b617ead\n",
            "Successfully built ibm-platform-services ibm-cloud-sdk-core\n",
            "Installing collected packages: ply, appdirs, websockets, urllib3, sympy, symengine, semantic-version, rustworkx, pbr, duet, dill, autoray, stevedore, qiskit, pyspnego, ibm-cloud-sdk-core, cirq-core, requests-ntlm, qiskit-aer, mitiq, ibm-platform-services, qiskit-ibm-runtime, qiskit-ibm-provider, pennylane-lightning, pennylane, pennylane-qiskit\n",
            "  Attempting uninstall: urllib3\n",
            "    Found existing installation: urllib3 2.0.7\n",
            "    Uninstalling urllib3-2.0.7:\n",
            "      Successfully uninstalled urllib3-2.0.7\n",
            "  Attempting uninstall: sympy\n",
            "    Found existing installation: sympy 1.13.1\n",
            "    Uninstalling sympy-1.13.1:\n",
            "      Successfully uninstalled sympy-1.13.1\n",
            "\u001b[31mERROR: pip's dependency resolver does not currently take into account all the packages that are installed. This behaviour is the source of the following dependency conflicts.\n",
            "torch 2.3.1+cu121 requires nvidia-cublas-cu12==12.1.3.1; platform_system == \"Linux\" and platform_machine == \"x86_64\", which is not installed.\n",
            "torch 2.3.1+cu121 requires nvidia-cuda-cupti-cu12==12.1.105; platform_system == \"Linux\" and platform_machine == \"x86_64\", which is not installed.\n",
            "torch 2.3.1+cu121 requires nvidia-cuda-nvrtc-cu12==12.1.105; platform_system == \"Linux\" and platform_machine == \"x86_64\", which is not installed.\n",
            "torch 2.3.1+cu121 requires nvidia-cuda-runtime-cu12==12.1.105; platform_system == \"Linux\" and platform_machine == \"x86_64\", which is not installed.\n",
            "torch 2.3.1+cu121 requires nvidia-cudnn-cu12==8.9.2.26; platform_system == \"Linux\" and platform_machine == \"x86_64\", which is not installed.\n",
            "torch 2.3.1+cu121 requires nvidia-cufft-cu12==11.0.2.54; platform_system == \"Linux\" and platform_machine == \"x86_64\", which is not installed.\n",
            "torch 2.3.1+cu121 requires nvidia-curand-cu12==10.3.2.106; platform_system == \"Linux\" and platform_machine == \"x86_64\", which is not installed.\n",
            "torch 2.3.1+cu121 requires nvidia-cusolver-cu12==11.4.5.107; platform_system == \"Linux\" and platform_machine == \"x86_64\", which is not installed.\n",
            "torch 2.3.1+cu121 requires nvidia-cusparse-cu12==12.1.0.106; platform_system == \"Linux\" and platform_machine == \"x86_64\", which is not installed.\n",
            "torch 2.3.1+cu121 requires nvidia-nccl-cu12==2.20.5; platform_system == \"Linux\" and platform_machine == \"x86_64\", which is not installed.\n",
            "torch 2.3.1+cu121 requires nvidia-nvtx-cu12==12.1.105; platform_system == \"Linux\" and platform_machine == \"x86_64\", which is not installed.\u001b[0m\u001b[31m\n",
            "\u001b[0mSuccessfully installed appdirs-1.4.4 autoray-0.6.12 cirq-core-1.3.0 dill-0.3.8 duet-0.2.9 ibm-cloud-sdk-core-3.20.4 ibm-platform-services-0.55.2 mitiq-0.38.0 pbr-6.0.0 pennylane-0.37.0 pennylane-lightning-0.37.0 pennylane-qiskit-0.37.0 ply-3.11 pyspnego-0.11.1 qiskit-1.1.1 qiskit-aer-0.14.2 qiskit-ibm-provider-0.11.0 qiskit-ibm-runtime-0.25.0 requests-ntlm-1.3.0 rustworkx-0.15.1 semantic-version-2.10.0 stevedore-5.2.0 symengine-0.11.0 sympy-1.12.1 urllib3-2.2.2 websockets-12.0\n"
          ]
        }
      ],
      "source": [
        "!pip install pennylane qiskit pennylane-qiskit ply mitiq"
      ]
    },
    {
      "cell_type": "code",
      "execution_count": 2,
      "metadata": {
        "id": "PGpiOqJm5TXT"
      },
      "outputs": [],
      "source": [
        "import torch\n",
        "import torch.nn as nn\n",
        "import torch.optim as optim\n",
        "import pennylane as qml\n",
        "import mitiq\n",
        "import matplotlib.pyplot as plt\n",
        "import numpy as np\n",
        "from torch.utils.data import Dataset, DataLoader\n",
        "from tqdm.notebook import tqdm"
      ]
    },
    {
      "cell_type": "code",
      "execution_count": 3,
      "metadata": {
        "colab": {
          "base_uri": "https://localhost:8080/"
        },
        "id": "N159-lP-5U-c",
        "outputId": "e23bdb4f-2e94-41f4-a939-71a23dd93ff0"
      },
      "outputs": [
        {
          "output_type": "execute_result",
          "data": {
            "text/plain": [
              "<torch._C.Generator at 0x7db0fe73d2f0>"
            ]
          },
          "metadata": {},
          "execution_count": 3
        }
      ],
      "source": [
        "np.random.seed(42)\n",
        "torch.manual_seed(42)"
      ]
    },
    {
      "cell_type": "code",
      "execution_count": 4,
      "metadata": {
        "id": "uC1Fp9EF5YKx"
      },
      "outputs": [],
      "source": [
        "input_dim = 16\n",
        "num_qubits = 4\n",
        "reduced_dim = num_qubits\n",
        "repeats1 = 2\n",
        "repeats2 = 2\n",
        "learning_rate = 0.3\n",
        "epochs = 60\n"
      ]
    },
    {
      "cell_type": "code",
      "execution_count": 5,
      "metadata": {
        "id": "Ldv5AFSq5cuf"
      },
      "outputs": [],
      "source": [
        "device = \"cuda\" if torch.cuda.is_available() else \"cpu\""
      ]
    },
    {
      "cell_type": "code",
      "execution_count": 6,
      "metadata": {
        "id": "YfkljeeC5nWv"
      },
      "outputs": [],
      "source": [
        "[ds] = qml.data.load(\"other\", name=\"bars-and-stripes\")\n",
        "\n",
        "train_features = (np.sign(np.array(ds.train['4']['inputs']))+1)/2\n",
        "train_labels =(np.array(ds.train['4']['labels']) + 1) / 2\n",
        "test_features = (np.sign(np.array(ds.test['4']['inputs']))+1)/2\n",
        "test_labels =(np.array(ds.test['4']['labels']) + 1) / 2"
      ]
    },
    {
      "cell_type": "code",
      "execution_count": 7,
      "metadata": {
        "id": "PDO3W1jIZIlL"
      },
      "outputs": [],
      "source": [
        "class BaSDataset(Dataset):\n",
        "    def __init__(self, data_x, data_y):\n",
        "        self.X = torch.tensor(data_x).float()\n",
        "        self.y = torch.tensor(data_y).float()\n",
        "\n",
        "    def __len__(self):\n",
        "        return self.X.shape[0]\n",
        "\n",
        "    def __getitem__(self, index):\n",
        "        return self.X[index], self.y[index]\n"
      ]
    },
    {
      "cell_type": "code",
      "execution_count": 8,
      "metadata": {
        "id": "dmuFu8JOcaSx"
      },
      "outputs": [],
      "source": [
        "train_dataset = BaSDataset(train_features, train_labels)\n",
        "test_dataset = BaSDataset(test_features, test_labels)"
      ]
    },
    {
      "cell_type": "code",
      "execution_count": 9,
      "metadata": {
        "id": "kZOlvd0sd-8K"
      },
      "outputs": [],
      "source": [
        "batch_size = 64\n",
        "train_dataloader = DataLoader(train_dataset, batch_size=batch_size, shuffle=True, drop_last=True, pin_memory=True)\n",
        "test_dataloader = DataLoader(test_dataset, batch_size=batch_size, shuffle=False)"
      ]
    },
    {
      "cell_type": "markdown",
      "metadata": {
        "id": "3o_dst17omf_"
      },
      "source": [
        "# Noiseless simulator"
      ]
    },
    {
      "cell_type": "code",
      "execution_count": 10,
      "metadata": {
        "id": "jVRrFsv-5ec_"
      },
      "outputs": [],
      "source": [
        "dev = qml.device(\"default.qubit.torch\", wires=range(num_qubits), torch_device=device)"
      ]
    },
    {
      "cell_type": "code",
      "execution_count": 11,
      "metadata": {
        "id": "Ite7Bv7k5ske"
      },
      "outputs": [],
      "source": [
        "# @title QDI layer\n",
        "\n",
        "def qdi_subroutine_1(params, wires):\n",
        "    for i in range(len(wires)):\n",
        "        qml.RX(params[i], wires=wires[i])\n",
        "    for j in range(len(wires)-1):\n",
        "        qml.ECR(wires=[wires[j], wires[j+1]])\n",
        "    qml.ECR(wires=[wires[len(wires)-1], wires[0]])\n",
        "    qml.Barrier()\n",
        "\n",
        "def qdi_subroutine_2(params, wires):\n",
        "    for i in range(len(wires)):\n",
        "        qml.RX(params[i], wires=wires[i])\n",
        "    for j in range(len(wires)-1):\n",
        "        qml.ECR(wires=[wires[j], wires[j+1]])\n",
        "    qml.ECR(wires=[wires[len(wires)-1], wires[0]])\n",
        "    qml.Barrier()\n",
        "\n",
        "def qdi_subroutine_3(wires):\n",
        "    for i in range(1, len(wires)):\n",
        "        qml.ECR(wires=[wires[i], wires[0]])\n",
        "    qml.Barrier()\n",
        "\n",
        "@qml.qnode(dev, interface='torch', diff_method=\"backprop\")\n",
        "def qdi_circuit(weights, input_array):\n",
        "    qml.layer(qdi_subroutine_1, repeats1, weights[:repeats1 * num_qubits].reshape(repeats1, num_qubits), wires=range(num_qubits))\n",
        "    qml.AngleEmbedding(input_array, wires=range(num_qubits), rotation='Z')\n",
        "    qml.layer(qdi_subroutine_2, repeats2, weights[repeats1 * num_qubits:].reshape(repeats2, num_qubits), wires=range(num_qubits))\n",
        "    qml.layer(qdi_subroutine_3, 1, wires=range(num_qubits))\n",
        "    return qml.expval(qml.PauliY(0))"
      ]
    },
    {
      "cell_type": "code",
      "execution_count": 12,
      "metadata": {
        "colab": {
          "base_uri": "https://localhost:8080/"
        },
        "id": "UOGGLKYcRIvu",
        "outputId": "91ec4db7-cf95-4d0f-cbe7-fc11fe08c7a4"
      },
      "outputs": [
        {
          "output_type": "stream",
          "name": "stdout",
          "text": [
            "0: ──RX(1.00)─╭ECR───────────╭ECR──||──RX(1.00)─╭ECR───────────╭ECR──||─╭AngleEmbedding(M0)\n",
            "1: ──RX(1.00)─╰ECR─╭ECR──────│─────||──RX(1.00)─╰ECR─╭ECR──────│─────||─├AngleEmbedding(M0)\n",
            "2: ──RX(1.00)──────╰ECR─╭ECR─│─────||──RX(1.00)──────╰ECR─╭ECR─│─────||─├AngleEmbedding(M0)\n",
            "3: ──RX(1.00)───────────╰ECR─╰ECR──||──RX(1.00)───────────╰ECR─╰ECR──||─╰AngleEmbedding(M0)\n",
            "\n",
            "───RX(1.00)─╭ECR───────────╭ECR──||──RX(1.00)─╭ECR───────────╭ECR──||─╭ECR─╭ECR─╭ECR──||─┤  <Y>\n",
            "───RX(1.00)─╰ECR─╭ECR──────│─────||──RX(1.00)─╰ECR─╭ECR──────│─────||─╰ECR─│────│─────||─┤     \n",
            "───RX(1.00)──────╰ECR─╭ECR─│─────||──RX(1.00)──────╰ECR─╭ECR─│─────||──────╰ECR─│─────||─┤     \n",
            "───RX(1.00)───────────╰ECR─╰ECR──||──RX(1.00)───────────╰ECR─╰ECR──||───────────╰ECR──||─┤     \n",
            "\n",
            "M0 = \n",
            "[1. 1. 1. 1.]\n"
          ]
        }
      ],
      "source": [
        "print(qml.draw(qdi_circuit)(np.ones(((repeats1 + repeats2) * num_qubits,)), np.ones(num_qubits)))"
      ]
    },
    {
      "cell_type": "code",
      "execution_count": 13,
      "metadata": {
        "id": "CVapZNt66Ki3"
      },
      "outputs": [],
      "source": [
        "# @title EFQ layer\n",
        "def efq_subroutine_1(params, wires):\n",
        "    j = 0\n",
        "    for i in range(len(wires)):\n",
        "        qml.RY(params[i+j], wires=i)\n",
        "        qml.RZ(params[i+j+1], wires=i)\n",
        "        qml.RX(params[i+j+2], wires=i)\n",
        "        j += 2\n",
        "\n",
        "    for i in range(len(wires)):\n",
        "        qml.ECR(wires=[i, (i + 1) % len(wires)])\n",
        "\n",
        "    j = 0\n",
        "    for i in range(len(wires)):\n",
        "        qml.RY(params[3*len(wires)+i+j], wires=i)\n",
        "        qml.RZ(params[3*len(wires)+i+j+1], wires=i)\n",
        "        qml.RX(params[3*len(wires)+i+j+2], wires=i)\n",
        "        j += 2\n",
        "\n",
        "def efq_subroutine_2(input_array, wires):\n",
        "    for i in range(len(wires)):\n",
        "        qml.AngleEmbedding(2**i*input_array[i].reshape((1,)), wires=[i], rotation='Z')\n",
        "\n",
        "def efq_subroutine_3(params, wires):\n",
        "    j = 0\n",
        "    for i in range(len(wires)):\n",
        "        qml.RY(params[6*len(wires)+i+j], wires=i)\n",
        "        qml.RZ(params[6*len(wires)+i+j+1], wires=i)\n",
        "        qml.RX(params[6*len(wires)+i+j+2], wires=i)\n",
        "        j += 2\n",
        "\n",
        "    for i in range(len(wires)):\n",
        "        qml.ECR(wires=[i, (i + 1) % len(wires)])\n",
        "\n",
        "    j = 0\n",
        "    for i in range(len(wires)):\n",
        "        qml.RY(params[9*len(wires)+i+j], wires=i)\n",
        "        qml.RZ(params[9*len(wires)+i+j+1], wires=i)\n",
        "        qml.RX(params[9*len(wires)+i+j+2], wires=i)\n",
        "        j += 2\n",
        "\n",
        "def efq_subroutine_4(wires):\n",
        "    for i in range(len(wires)-1, 0, -1):\n",
        "        qml.ECR(wires=[i, 0])\n",
        "\n",
        "@qml.qnode(dev, interface=\"torch\", diff_method=\"backprop\")\n",
        "def efq_circuit(weights, input_array):\n",
        "    qml.layer(efq_subroutine_1, 1, weights.reshape((1, 12*num_qubits)), wires=range(num_qubits))\n",
        "    qml.Barrier()\n",
        "    qml.layer(efq_subroutine_2, 1, input_array = input_array, wires=range(num_qubits))\n",
        "    qml.Barrier()\n",
        "    qml.layer(efq_subroutine_3, 1, weights.reshape((1, 12*num_qubits)), wires=range(num_qubits))\n",
        "    qml.layer(efq_subroutine_4, 1, wires=range(num_qubits))\n",
        "    return qml.expval(qml.PauliZ(0))"
      ]
    },
    {
      "cell_type": "code",
      "execution_count": 14,
      "metadata": {
        "colab": {
          "base_uri": "https://localhost:8080/"
        },
        "collapsed": true,
        "id": "CpySUk9nRwNP",
        "outputId": "7c17b4e2-fb29-4904-baf3-08c4a62c3be4"
      },
      "outputs": [
        {
          "output_type": "stream",
          "name": "stdout",
          "text": [
            "0: ──RY(1.00)──RZ(1.00)──RX(1.00)─╭ECR───────────╭ECR──RY(1.00)──RZ(1.00)──RX(1.00)──||\n",
            "1: ──RY(1.00)──RZ(1.00)──RX(1.00)─╰ECR─╭ECR──────│─────RY(1.00)──RZ(1.00)──RX(1.00)──||\n",
            "2: ──RY(1.00)──RZ(1.00)──RX(1.00)──────╰ECR─╭ECR─│─────RY(1.00)──RZ(1.00)──RX(1.00)──||\n",
            "3: ──RY(1.00)──RZ(1.00)──RX(1.00)───────────╰ECR─╰ECR──RY(1.00)──RZ(1.00)──RX(1.00)──||\n",
            "\n",
            "───AngleEmbedding(M0)──||──RY(1.00)──RZ(1.00)──RX(1.00)─╭ECR───────────╭ECR──RY(1.00)──RZ(1.00)\n",
            "───AngleEmbedding(M1)──||──RY(1.00)──RZ(1.00)──RX(1.00)─╰ECR─╭ECR──────│─────RY(1.00)──RZ(1.00)\n",
            "───AngleEmbedding(M2)──||──RY(1.00)──RZ(1.00)──RX(1.00)──────╰ECR─╭ECR─│─────RY(1.00)──RZ(1.00)\n",
            "───AngleEmbedding(M3)──||──RY(1.00)──RZ(1.00)──RX(1.00)───────────╰ECR─╰ECR──RY(1.00)──RZ(1.00)\n",
            "\n",
            "───RX(1.00)─╭ECR─╭ECR─╭ECR─┤  <Z>\n",
            "───RX(1.00)─│────│────╰ECR─┤     \n",
            "───RX(1.00)─│────╰ECR──────┤     \n",
            "───RX(1.00)─╰ECR───────────┤     \n",
            "\n",
            "M0 = \n",
            "tensor([1.])\n",
            "M1 = \n",
            "tensor([2.])\n",
            "M2 = \n",
            "tensor([4.])\n",
            "M3 = \n",
            "tensor([8.])\n"
          ]
        }
      ],
      "source": [
        "print(qml.draw(efq_circuit)(torch.ones((12*num_qubits,)), torch.ones(num_qubits)))"
      ]
    },
    {
      "cell_type": "code",
      "execution_count": 15,
      "metadata": {
        "id": "TjwNG_DPfAtW"
      },
      "outputs": [],
      "source": [
        "# @title PQN QDI QDI layer\n",
        "@qml.qnode(dev, interface='torch', diff_method=\"backprop\")\n",
        "def pqn_circuit(weights, input_array):\n",
        "    qml.layer(qdi_subroutine_1, repeats1, weights[:repeats1 * num_qubits//2].reshape(repeats1, num_qubits//2), wires=[0,1])\n",
        "    qml.layer(qdi_subroutine_1, repeats1, weights[(repeats1+repeats2)*num_qubits//2:(2*repeats1+repeats2) * num_qubits//2].reshape(repeats1, num_qubits//2), wires=[2,3])\n",
        "    qml.AngleEmbedding(input_array, wires=range(num_qubits), rotation='Z')\n",
        "    qml.layer(qdi_subroutine_2, repeats2, weights[repeats1 * num_qubits//2:(repeats1+repeats2)*num_qubits//2].reshape(repeats2, num_qubits//2), wires=[0,1])\n",
        "    qml.layer(qdi_subroutine_2, repeats2, weights[(2*repeats1+repeats2) * num_qubits//2:].reshape(repeats2, num_qubits//2), wires=[2,3])\n",
        "    qml.layer(qdi_subroutine_3, 1, wires=[0, 1])\n",
        "    qml.layer(qdi_subroutine_3, 1, wires=[2, 3])\n",
        "\n",
        "\n",
        "    return [qml.expval(qml.PauliY(w)) for w in [0, 2]]"
      ]
    },
    {
      "cell_type": "code",
      "execution_count": 16,
      "metadata": {
        "colab": {
          "base_uri": "https://localhost:8080/"
        },
        "id": "Z2h7AxM4iO0b",
        "outputId": "8e6fc4e7-1257-49a4-895e-6cf8b91c2947"
      },
      "outputs": [
        {
          "output_type": "stream",
          "name": "stdout",
          "text": [
            "0: ──RX(1.00)─╭ECR─╭ECR──||──RX(1.00)─╭ECR─╭ECR──||──────────────────────||──────────────────────||\n",
            "1: ──RX(1.00)─╰ECR─╰ECR──||──RX(1.00)─╰ECR─╰ECR──||──────────────────────||──────────────────────||\n",
            "2: ──────────────────────||──────────────────────||──RX(1.00)─╭ECR─╭ECR──||──RX(1.00)─╭ECR─╭ECR──||\n",
            "3: ──────────────────────||──────────────────────||──RX(1.00)─╰ECR─╰ECR──||──RX(1.00)─╰ECR─╰ECR──||\n",
            "\n",
            "──╭AngleEmbedding(M0)──RX(1.00)─╭ECR─╭ECR──||──RX(1.00)─╭ECR─╭ECR──||──────────────────────||\n",
            "──├AngleEmbedding(M0)──RX(1.00)─╰ECR─╰ECR──||──RX(1.00)─╰ECR─╰ECR──||──────────────────────||\n",
            "──├AngleEmbedding(M0)──────────────────────||──────────────────────||──RX(1.00)─╭ECR─╭ECR──||\n",
            "──╰AngleEmbedding(M0)──────────────────────||──────────────────────||──RX(1.00)─╰ECR─╰ECR──||\n",
            "\n",
            "───────────────────────||─╭ECR──||───────||─┤  <Y>\n",
            "───────────────────────||─╰ECR──||───────||─┤     \n",
            "───RX(1.00)─╭ECR─╭ECR──||───────||─╭ECR──||─┤  <Y>\n",
            "───RX(1.00)─╰ECR─╰ECR──||───────||─╰ECR──||─┤     \n",
            "\n",
            "M0 = \n",
            "[1. 1. 1. 1.]\n"
          ]
        }
      ],
      "source": [
        "print(qml.draw(pqn_circuit)(np.ones(((repeats1 + repeats2) * num_qubits,)), np.ones(num_qubits)))"
      ]
    },
    {
      "cell_type": "code",
      "execution_count": 17,
      "metadata": {
        "id": "I5iScbqNcbDj"
      },
      "outputs": [],
      "source": [
        "class QDIHybridModel(nn.Module):\n",
        "    def __init__(self):\n",
        "        super(QDIHybridModel, self).__init__()\n",
        "        self.classical_layer = nn.Linear(input_dim, reduced_dim)\n",
        "        self.q_params = nn.Parameter(torch.randn((repeats1 + repeats2) * num_qubits))\n",
        "    def forward(self, x):\n",
        "        x = torch.relu(self.classical_layer(x))\n",
        "        q_out = torch.zeros(x.size(0), device=device)\n",
        "        for i in range(x.size(0)):\n",
        "            q_out[i] = qdi_circuit(self.q_params, x[i])\n",
        "        return torch.sigmoid(q_out)"
      ]
    },
    {
      "cell_type": "code",
      "execution_count": 18,
      "metadata": {
        "id": "ShE-nVFQ50Hf"
      },
      "outputs": [],
      "source": [
        "class EFQHybridModel(nn.Module):\n",
        "    def __init__(self):\n",
        "        super(EFQHybridModel, self).__init__()\n",
        "        self.classical_layer = nn.Linear(input_dim, reduced_dim)\n",
        "        self.q_params = nn.Parameter(torch.randn(12*num_qubits))\n",
        "    def forward(self, x):\n",
        "        x = torch.relu(self.classical_layer(x))\n",
        "        q_out = torch.zeros(x.size(0), device=device)\n",
        "        for i in range(x.size(0)):\n",
        "            q_out[i] = efq_circuit(self.q_params, x[i])\n",
        "        return torch.sigmoid(q_out)"
      ]
    },
    {
      "cell_type": "code",
      "execution_count": 19,
      "metadata": {
        "id": "FfUq7U9iopBS"
      },
      "outputs": [],
      "source": [
        "class PQNHybridModel(nn.Module):\n",
        "    def __init__(self):\n",
        "        super(PQNHybridModel, self).__init__()\n",
        "        self.classical_layer_1 = nn.Linear(input_dim, reduced_dim)\n",
        "        self.classical_layer_2 = nn.Linear(reduced_dim//2, 1)\n",
        "        self.q_params = nn.Parameter(torch.randn((repeats1 + repeats2) * num_qubits))\n",
        "    def forward(self, x):\n",
        "        x = torch.relu(self.classical_layer_1(x))\n",
        "        q_out = torch.zeros((x.size(0), 2), device=device)\n",
        "        for i in range(x.size(0)):\n",
        "            q_out[i] = torch.tensor(pqn_circuit(self.q_params, x[i]), device = device)\n",
        "        output = self.classical_layer_2(q_out)\n",
        "        return torch.sigmoid(output).squeeze(1)"
      ]
    },
    {
      "cell_type": "code",
      "execution_count": 20,
      "metadata": {
        "id": "0_ThLVVTeGq1"
      },
      "outputs": [],
      "source": [
        "criterion = nn.BCELoss()"
      ]
    },
    {
      "cell_type": "code",
      "execution_count": 21,
      "metadata": {
        "id": "NZZBmoNjgrgk"
      },
      "outputs": [],
      "source": [
        "def train(model, criterion, optimizer,\n",
        "          train_dataloader, test_dataloader, num_epochs):\n",
        "\n",
        "    train_losses = np.zeros(num_epochs)\n",
        "\n",
        "    test_accuracy_arr = np.zeros(num_epochs)\n",
        "\n",
        "    for i_epoch in tqdm(range(num_epochs)):\n",
        "        train_loss = 0\n",
        "        test_accuracy = 0\n",
        "\n",
        "        model.train()\n",
        "        for batch in train_dataloader:\n",
        "            X = batch[0].to(device)\n",
        "            y = batch[1].to(device)\n",
        "\n",
        "            preds = model(X)\n",
        "\n",
        "            optimizer.zero_grad()\n",
        "            loss = criterion(preds, y)\n",
        "            loss.backward()\n",
        "            optimizer.step()\n",
        "\n",
        "            train_loss += loss.detach().cpu().numpy()\n",
        "\n",
        "        train_loss /= len(train_dataloader)\n",
        "        train_losses[i_epoch] = train_loss\n",
        "\n",
        "        model.eval()\n",
        "        for batch in test_dataloader:\n",
        "            X = batch[0].to(device)\n",
        "            y = batch[1].to(device)\n",
        "\n",
        "            with torch.no_grad():\n",
        "                preds = model(X)\n",
        "                test_accuracy += (preds.argmax(-1) == y).cpu().numpy().mean()\n",
        "\n",
        "        test_accuracy /= len(test_dataloader)\n",
        "\n",
        "        test_accuracy_arr[i_epoch] = test_accuracy\n",
        "\n",
        "    return train_losses, test_accuracy_arr"
      ]
    },
    {
      "cell_type": "code",
      "execution_count": 22,
      "metadata": {
        "id": "7tKcnGWd54i8"
      },
      "outputs": [],
      "source": [
        "QDI_model = QDIHybridModel().to(device)\n",
        "optimizer_for_qdi = optim.Adam(QDI_model.parameters(), lr=learning_rate)"
      ]
    },
    {
      "cell_type": "code",
      "execution_count": 23,
      "metadata": {
        "id": "4Tpm4p6WgDUl"
      },
      "outputs": [],
      "source": [
        "EFQ_model = EFQHybridModel().to(device)\n",
        "optimizer_for_efq = optim.Adam(EFQ_model.parameters(), lr=learning_rate)"
      ]
    },
    {
      "cell_type": "code",
      "execution_count": 24,
      "metadata": {
        "id": "Z4Iyc3K4hG8d"
      },
      "outputs": [],
      "source": [
        "PQN_model = PQNHybridModel().to(device)\n",
        "optimizer_for_pqn = optim.Adam(PQN_model.parameters(), lr=learning_rate)"
      ]
    },
    {
      "cell_type": "code",
      "execution_count": 25,
      "metadata": {
        "colab": {
          "base_uri": "https://localhost:8080/",
          "height": 49,
          "referenced_widgets": [
            "803be2cfe8aa461eb79b88f04d766135",
            "8f94f4f2ba424bf8a858d235f0e8c7f9",
            "43d74d23c5a54415a28c999f07d4e6dc",
            "272075afa40b4ae28ee5751a195b5a39",
            "7473dfa2a0c040e0b567d0d0f355b23f",
            "031736cbd7b743c894aad0d14b144c0a",
            "62e48475e4144df99a31dea3ad9a2c59",
            "5cffcddf7a77492f8e7b3a4da5e128ae",
            "76d442af524c4f52ba075c4df6873b9e",
            "50f863f18c6246448bd5b7853ad14a13",
            "6997aec0cb3a4a98bf72d0f22c79b3b5"
          ]
        },
        "id": "sxv0t7loH3zf",
        "outputId": "067e6acd-a8d0-4dda-fe9c-76201f284c48"
      },
      "outputs": [
        {
          "output_type": "display_data",
          "data": {
            "text/plain": [
              "  0%|          | 0/60 [00:00<?, ?it/s]"
            ],
            "application/vnd.jupyter.widget-view+json": {
              "version_major": 2,
              "version_minor": 0,
              "model_id": "803be2cfe8aa461eb79b88f04d766135"
            }
          },
          "metadata": {}
        }
      ],
      "source": [
        "QDI_losses, \\\n",
        "    QDI_accuracies = train(QDI_model, criterion=criterion,\n",
        "                              optimizer=optimizer_for_qdi,\n",
        "                              train_dataloader=train_dataloader,\n",
        "                              test_dataloader=test_dataloader,\n",
        "                              num_epochs=epochs)"
      ]
    },
    {
      "cell_type": "code",
      "execution_count": 26,
      "metadata": {
        "colab": {
          "base_uri": "https://localhost:8080/",
          "height": 49,
          "referenced_widgets": [
            "e841e8d43173414889147d5fce42d1cd",
            "e4eecaa1e4ac43f78b6d577e4a426e57",
            "dd3ec0defa774d8f8e0f1351a54e7f74",
            "c4b7694510d34003a7540ba455688252",
            "c722cc107f6f465e9f2d795777f80363",
            "eea7927109be4a68a15dc9d24f08d658",
            "b2ef597d0e8c4b9e9d58a1363c65e2b8",
            "686fd7d355aa4dcfb8a30e86148d75c6",
            "c54dc44d73214a9e93c15b5ba224b702",
            "18b878fb36d74d0199f4d28dfe884f7b",
            "b122cb29926946c99233b148b7acf1aa"
          ]
        },
        "collapsed": true,
        "id": "fg5UTY0OMYFA",
        "outputId": "a7dcbede-b4a7-4f94-f280-cc8213f418f7"
      },
      "outputs": [
        {
          "data": {
            "application/vnd.jupyter.widget-view+json": {
              "model_id": "e841e8d43173414889147d5fce42d1cd",
              "version_major": 2,
              "version_minor": 0
            },
            "text/plain": [
              "  0%|          | 0/60 [00:00<?, ?it/s]"
            ]
          },
          "metadata": {},
          "output_type": "display_data"
        }
      ],
      "source": [
        "EFQ_losses, \\\n",
        "    EFQ_accuracies = train(EFQ_model, criterion=criterion,\n",
        "                              optimizer=optimizer_for_efq,\n",
        "                              train_dataloader=train_dataloader,\n",
        "                              test_dataloader=test_dataloader,\n",
        "                              num_epochs=epochs)"
      ]
    },
    {
      "cell_type": "code",
      "execution_count": 27,
      "metadata": {
        "colab": {
          "base_uri": "https://localhost:8080/",
          "height": 49,
          "referenced_widgets": [
            "a7e0cae9aee54f88a17f035a9431d608",
            "506e29512e0b448cbf1fb5c6a69f1dd5",
            "59cc9851991b42f4a19a8ff00e125fd2",
            "081ff50454b642b4965fc3ce76bfb966",
            "20d4b3268b644349a46580315742ad9d",
            "6cb1ffe8d868415c912f715a1dfdcea2",
            "00b0a176192c44f4bf1ce2e61d47b74f",
            "7703925b57cc42b4a9b2c64b71477716",
            "dea3c66edd2f4788aa6c8edd10ed71f2",
            "cf6256a8924349da823138ba9c856360",
            "3b56d0280c854f019dfd1eaf81560012"
          ]
        },
        "id": "VRYcgnRGMglq",
        "outputId": "781dcc23-ff00-4402-a100-d168fd49aacf"
      },
      "outputs": [
        {
          "output_type": "display_data",
          "data": {
            "text/plain": [
              "  0%|          | 0/60 [00:00<?, ?it/s]"
            ],
            "application/vnd.jupyter.widget-view+json": {
              "version_major": 2,
              "version_minor": 0,
              "model_id": "a7e0cae9aee54f88a17f035a9431d608"
            }
          },
          "metadata": {}
        }
      ],
      "source": [
        "PQN_losses, \\\n",
        "    PQN_accuracies = train(PQN_model, criterion=criterion,\n",
        "                              optimizer=optimizer_for_pqn,\n",
        "                              train_dataloader=train_dataloader,\n",
        "                              test_dataloader=test_dataloader,\n",
        "                              num_epochs=epochs)"
      ]
    },
    {
      "cell_type": "code",
      "execution_count": 30,
      "metadata": {
        "id": "Sdl0GFagmVbW",
        "colab": {
          "base_uri": "https://localhost:8080/",
          "height": 487
        },
        "outputId": "a79a1540-92c2-453d-8373-140cdfbf53a8"
      },
      "outputs": [
        {
          "output_type": "display_data",
          "data": {
            "text/plain": [
              "<Figure size 1500x500 with 2 Axes>"
            ],
            "image/png": "[encoded data removed]"
          },
          "metadata": {}
        }
      ],
      "source": [
        "fig, ax = plt.subplots(1, 2, figsize = (15, 5))\n",
        "# ax.set_title('Comparison of QDI, EFQ and PQN performances for noiseless case')\n",
        "\n",
        "ax[0].plot(np.arange(1, QDI_losses.shape[0] + 1), QDI_losses, label='QDI')\n",
        "ax[0].plot(np.arange(1, EFQ_losses.shape[0] + 1), EFQ_losses, label='EFQ')\n",
        "ax[0].plot(np.arange(1, PQN_losses.shape[0] + 1), PQN_losses, label='PQN')\n",
        "ax[0].set_xticks(np.arange(1, QDI_losses.shape[0] + 1, 4))\n",
        "ax[0].set_xlabel('num_epoch')\n",
        "ax[0].set_ylabel('loss')\n",
        "ax[0].legend()\n",
        "ax[0].grid()\n",
        "\n",
        "ax[1].plot(np.arange(QDI_accuracies.shape[0]), QDI_accuracies,\n",
        "           label='QDI')\n",
        "ax[1].plot(np.arange(EFQ_accuracies.shape[0]), EFQ_accuracies,\n",
        "           label='EFQ')\n",
        "ax[1].plot(np.arange(PQN_accuracies.shape[0]), PQN_accuracies,\n",
        "           label='PQN')\n",
        "ax[1].set_xticks(np.arange(0, PQN_accuracies.shape[0], 4))\n",
        "ax[1].set_xlabel('num_epoch')\n",
        "ax[1].set_ylabel('accuracy')\n",
        "ax[1].legend()\n",
        "ax[1].grid()\n",
        "plt.title('Comparison of performances of QDI, EFQ and PQN layers for noiseless case')\n",
        "plt.show()"
      ]
    },
    {
      "cell_type": "markdown",
      "metadata": {
        "id": "nlFljpXQpOVh"
      },
      "source": [
        "# Simulator with noise model specific to IBM Sherbrooke"
      ]
    },
    {
      "cell_type": "code",
      "execution_count": null,
      "metadata": {
        "id": "eq3vaGiGqZtE"
      },
      "outputs": [],
      "source": [
        "from qiskit_aer import noise\n",
        "from qiskit_ibm_runtime import QiskitRuntimeService\n",
        "from qiskit_ibm_provider import IBMProvider\n",
        "from qiskit_aer.noise import (\n",
        "    NoiseModel,\n",
        "    QuantumError,\n",
        "    ReadoutError,\n",
        "    depolarizing_error,\n",
        "    pauli_error,\n",
        "    thermal_relaxation_error,\n",
        ")\n",
        "\n",
        "IBMProvider.save_account(token='my token',\n",
        "                         overwrite=True)\n",
        "service = QiskitRuntimeService()\n",
        "backend = service.backend(\"ibm_sherbrooke\")\n",
        "noise_model = NoiseModel.from_backend(backend)\n",
        "dev = qml.device('qiskit.aer', wires=range(num_qubits), noise_model=noise_model)"
      ]
    },
    {
      "cell_type": "code",
      "execution_count": null,
      "metadata": {
        "id": "kaYYAErarlgy"
      },
      "outputs": [],
      "source": [
        "@qml.qnode(dev, interface='torch')\n",
        "def qdi_circuit(weights, input_array):\n",
        "    qml.layer(qdi_subroutine_1, repeats1, weights[:repeats1 * num_qubits].reshape(repeats1, num_qubits), wires=range(num_qubits))\n",
        "    qml.AngleEmbedding(input_array, wires=range(num_qubits), rotation='Z')\n",
        "    qml.layer(qdi_subroutine_2, repeats2, weights[repeats1 * num_qubits:].reshape(repeats2, num_qubits), wires=range(num_qubits))\n",
        "    qml.layer(qdi_subroutine_3, 1, wires=range(num_qubits))\n",
        "    return qml.expval(qml.PauliY(0))\n",
        "@qml.qnode(dev, interface=\"torch\")\n",
        "def efq_circuit(weights, input_array):\n",
        "    qml.layer(efq_subroutine_1, 1, weights.reshape((1, 12*num_qubits)), wires=range(num_qubits))\n",
        "    qml.Barrier()\n",
        "    qml.layer(efq_subroutine_2, 1, input_array = input_array, wires=range(num_qubits))\n",
        "    qml.Barrier()\n",
        "    qml.layer(efq_subroutine_3, 1, weights.reshape((1, 12*num_qubits)), wires=range(num_qubits))\n",
        "    qml.layer(efq_subroutine_4, 1, wires=range(num_qubits))\n",
        "    return qml.expval(qml.PauliZ(0))\n",
        "@qml.qnode(dev, interface='torch')\n",
        "def pqn_circuit(weights, input_array):\n",
        "    qml.layer(qdi_subroutine_1, repeats1, weights[:repeats1 * num_qubits//2].reshape(repeats1, num_qubits//2), wires=[0,1])\n",
        "    qml.layer(qdi_subroutine_1, repeats1, weights[(repeats1+repeats2)*num_qubits//2:(2*repeats1+repeats2) * num_qubits//2].reshape(repeats1, num_qubits//2), wires=[2,3])\n",
        "    qml.AngleEmbedding(input_array, wires=range(num_qubits), rotation='Z')\n",
        "    qml.layer(qdi_subroutine_2, repeats2, weights[repeats1 * num_qubits//2:(repeats1+repeats2)*num_qubits//2].reshape(repeats2, num_qubits//2), wires=[0,1])\n",
        "    qml.layer(qdi_subroutine_2, repeats2, weights[(2*repeats1+repeats2) * num_qubits//2:].reshape(repeats2, num_qubits//2), wires=[2,3])\n",
        "    qml.layer(qdi_subroutine_3, 1, wires=[0, 1])\n",
        "    qml.layer(qdi_subroutine_3, 1, wires=[2, 3])\n",
        "    return [qml.expval(qml.PauliY(w)) for w in [0, 2]]"
      ]
    },
    {
      "cell_type": "code",
      "execution_count": null,
      "metadata": {
        "id": "Q9uMdeQlvSQc"
      },
      "outputs": [],
      "source": [
        "class QDIHybridModel_nsy(nn.Module):\n",
        "    def __init__(self):\n",
        "        super(QDIHybridModel_nsy, self).__init__()\n",
        "        self.classical_layer = nn.Linear(input_dim, reduced_dim)\n",
        "        self.q_params = nn.Parameter(torch.randn((repeats1 + repeats2) * num_qubits))\n",
        "    def forward(self, x):\n",
        "        x = torch.relu(self.classical_layer(x))\n",
        "        q_out = torch.zeros(x.size(0), device=device)\n",
        "        for i in range(x.size(0)):\n",
        "            q_out[i] = qdi_circuit(self.q_params, x[i])\n",
        "        return torch.sigmoid(q_out)"
      ]
    },
    {
      "cell_type": "code",
      "execution_count": null,
      "metadata": {
        "id": "9agjU9KRvSQr"
      },
      "outputs": [],
      "source": [
        "class EFQHybridModel_nsy(nn.Module):\n",
        "    def __init__(self):\n",
        "        super(EFQHybridModel_nsy, self).__init__()\n",
        "        self.classical_layer = nn.Linear(input_dim, reduced_dim)\n",
        "        self.q_params = nn.Parameter(torch.randn(12*num_qubits))\n",
        "    def forward(self, x):\n",
        "        x = torch.relu(self.classical_layer(x))\n",
        "        q_out = torch.zeros(x.size(0), device=device)\n",
        "        for i in range(x.size(0)):\n",
        "            q_out[i] = efq_circuit(self.q_params, x[i])\n",
        "        return torch.sigmoid(q_out)"
      ]
    },
    {
      "cell_type": "code",
      "execution_count": null,
      "metadata": {
        "id": "NEkTcuhyvSQs"
      },
      "outputs": [],
      "source": [
        "class PQNHybridModel_nsy(nn.Module):\n",
        "    def __init__(self):\n",
        "        super(PQNHybridModel_nsy, self).__init__()\n",
        "        self.classical_layer_1 = nn.Linear(input_dim, reduced_dim)\n",
        "        self.classical_layer_2 = nn.Linear(reduced_dim//2, 1)\n",
        "        self.q_params = nn.Parameter(torch.randn((repeats1 + repeats2) * num_qubits))\n",
        "    def forward(self, x):\n",
        "        x = torch.relu(self.classical_layer_1(x))\n",
        "        q_out = torch.zeros((x.size(0), 2), device=device)\n",
        "        for i in range(x.size(0)):\n",
        "            q_out[i] = torch.tensor(pqn_circuit(self.q_params, x[i]), device = device)\n",
        "        output = self.classical_layer_2(q_out)\n",
        "        return torch.sigmoid(output).squeeze(1)"
      ]
    },
    {
      "cell_type": "code",
      "execution_count": null,
      "metadata": {
        "id": "czfTNK8GvSQt"
      },
      "outputs": [],
      "source": [
        "criterion = nn.BCELoss()\n"
      ]
    },
    {
      "cell_type": "code",
      "execution_count": null,
      "metadata": {
        "id": "7AFPW8k6vSQt"
      },
      "outputs": [],
      "source": [
        "QDI_model_nsy = QDIHybridModel_nsy().to(device)\n",
        "optimizer_for_nsy_qdi = optim.Adam(QDI_model_nsy.parameters(), lr=learning_rate)"
      ]
    },
    {
      "cell_type": "code",
      "execution_count": null,
      "metadata": {
        "id": "mSl7G_zPvSQu"
      },
      "outputs": [],
      "source": [
        "EFQ_model_nsy = EFQHybridModel_nsy().to(device)\n",
        "optimizer_for_nsy_efq = optim.Adam(EFQ_model_nsy.parameters(), lr=learning_rate)"
      ]
    },
    {
      "cell_type": "code",
      "execution_count": null,
      "metadata": {
        "id": "OTrF4MVQvSQv"
      },
      "outputs": [],
      "source": [
        "PQN_model_nsy = PQNHybridModel_nsy().to(device)\n",
        "optimizer_for_nsy_pqn = optim.Adam(PQN_model_nsy.parameters(), lr=learning_rate)"
      ]
    },
    {
      "cell_type": "code",
      "execution_count": null,
      "metadata": {
        "id": "se6AVPehROwx"
      },
      "outputs": [],
      "source": [
        "QDI_losses_nsy, \\\n",
        "    QDI_accuracies_nsy = train(QDI_model_nsy, criterion=criterion,\n",
        "                              optimizer=optimizer_for_nsy_qdi,\n",
        "                              train_dataloader=train_dataloader,\n",
        "                              test_dataloader=test_dataloader,\n",
        "                              num_epochs=epochs)"
      ]
    },
    {
      "cell_type": "code",
      "execution_count": null,
      "metadata": {
        "collapsed": true,
        "id": "pyB6Hbp-ROxB"
      },
      "outputs": [],
      "source": [
        "EFQ_losses_nsy, \\\n",
        "    EFQ_accuracies_nsy = train(EFQ_model_nsy, criterion=criterion,\n",
        "                              optimizer=optimizer_for_nsy_efq,\n",
        "                              train_dataloader=train_dataloader,\n",
        "                              test_dataloader=test_dataloader,\n",
        "                              num_epochs=epochs)"
      ]
    },
    {
      "cell_type": "code",
      "execution_count": null,
      "metadata": {
        "id": "DjUNzuvDROxB"
      },
      "outputs": [],
      "source": [
        "PQN_losses_nsy, \\\n",
        "    PQN_accuracies_nsy = train(PQN_model_nsy, criterion=criterion,\n",
        "                              optimizer=optimizer_for_nsy_pqn,\n",
        "                              train_dataloader=train_dataloader,\n",
        "                              test_dataloader=test_dataloader,\n",
        "                              num_epochs=epochs)"
      ]
    },
    {
      "cell_type": "code",
      "execution_count": null,
      "metadata": {
        "id": "Eh48-NyQvSQw"
      },
      "outputs": [],
      "source": [
        "fig, ax = plt.subplots(1, 2, figsize = (15, 5))\n",
        "\n",
        "ax[0].plot(np.arange(1, QDI_losses_nsy.shape[0] + 1), QDI_losses_nsy, label='QDI')\n",
        "ax[0].plot(np.arange(1, EFQ_losses_nsy.shape[0] + 1), EFQ_losses_nsy, label='EFQ')\n",
        "ax[0].plot(np.arange(1, PQN_losses_nsy.shape[0] + 1), PQN_losses_nsy, label='PQN')\n",
        "ax[0].set_xticks(np.arange(1, QDI_losses_nsy.shape[0]+ 1, 4))\n",
        "ax[0].set_xlabel('num_epoch')\n",
        "ax[0].set_ylabel('loss')\n",
        "ax[0].legend()\n",
        "ax[0].grid()\n",
        "\n",
        "ax[1].plot(np.arange(QDI_accuracies_nsy.shape[0]), QDI_accuracies_nsy,\n",
        "           label='QDI')\n",
        "ax[1].plot(np.arange(EFQ_accuracies_nsy.shape[0]), EFQ_accuracies_nsy,\n",
        "           label='EFQ')\n",
        "ax[1].plot(np.arange(PQN_accuracies_nsy.shape[0]), PQN_accuracies_nsy,\n",
        "           label='PQN')\n",
        "ax[1].set_xticks(np.arange(0, PQN_accuracies_nsy.shape[0], 4))\n",
        "ax[1].set_xlabel('num_epoch')\n",
        "ax[1].set_ylabel('accuracy')\n",
        "ax[1].legend()\n",
        "ax[1].grid()\n",
        "plt.title('Comparison of performances of QDI, EFQ and PQN layers for noisy case')\n",
        "plt.show()"
      ]
    },
    {
      "cell_type": "code",
      "execution_count": null,
      "metadata": {
        "id": "IHxLsHdCzGrr"
      },
      "outputs": [],
      "source": [
        "fig, ax = plt.subplots(2, 3, figsize = (15, 5))\n",
        "\n",
        "ax[0, 0].plot(np.arange(1, QDI_losses.shape[0] + 1), QDI_losses, label='QDI, noiseless case')\n",
        "ax[0, 0].plot(np.arange(1, QDI_losses_nsy.shape[0] + 1), QDI_losses_nsy, label='QDI, noisy case')\n",
        "ax[0, 0].set_xticks(np.arange(1, QDI_losses_nsy.shape[0] + 1, 4))\n",
        "ax[0, 0].set_xlabel('num_epoch')\n",
        "ax[0, 0].set_ylabel('loss')\n",
        "ax[0, 0].legend()\n",
        "ax[0, 0].grid()\n",
        "\n",
        "ax[0, 1].plot(np.arange(1, EFQ_losses.shape[0] + 1), EFQ_losses, label='EFQ, noiseless case')\n",
        "ax[0, 1].plot(np.arange(1, EFQ_losses_nsy.shape[0] + 1), EFQ_losses_nsy, label='EFQ, noisy case')\n",
        "ax[0, 1].set_xticks(np.arange(1, EFQ_losses_nsy.shape[0] + 1, 4))\n",
        "ax[0, 1].set_xlabel('num_epoch')\n",
        "ax[0, 1].set_ylabel('loss')\n",
        "ax[0, 1].legend()\n",
        "ax[0, 1].grid()\n",
        "\n",
        "ax[0, 2].plot(np.arange(1, PQN_losses.shape[0] + 1), PQN_losses, label='PQN, noiseless case')\n",
        "ax[0, 2].plot(np.arange(1, PQN_losses_nsy.shape[0] + 1), PQN_losses_nsy, label='PQN, noisy case')\n",
        "ax[0, 2].set_xticks(np.arange(1, PQN_losses_nsy.shape[0]+ 1, 4))\n",
        "ax[0, 2].set_xlabel('num_epoch')\n",
        "ax[0, 2].set_ylabel('loss')\n",
        "ax[0, 2].legend()\n",
        "ax[0, 2].grid()\n",
        "\n",
        "ax[1, 0].plot(np.arange(QDI_accuracies.shape[0]), QDI_accuracies, label='QDI, noiseless case')\n",
        "ax[1, 0].plot(np.arange(QDI_accuracies_nsy.shape[0]), QDI_accuracies_nsy, label='QDI, noisy case')\n",
        "ax[1, 0].set_xticks(np.arange(0, QDI_accuracies_nsy.shape[0], 4))\n",
        "ax[1, 0].set_xlabel('num_epoch')\n",
        "ax[1, 0].set_ylabel('accuracy')\n",
        "ax[1, 0].legend()\n",
        "ax[1, 0].grid()\n",
        "\n",
        "ax[1, 1].plot(np.arange(EFQ_accuracies.shape[0]), EFQ_accuracies, label='EFQ, noiseless case')\n",
        "ax[1, 1].plot(np.arange((EFQ_accuracies_nsy)), EFQ_accuracies_nsy, label='EFQ, noisy case')\n",
        "ax[1, 1].set_xticks(np.arange(0, EFQ_accuracies_nsy.shape[0], 4))\n",
        "ax[1, 1].set_xlabel('num_epoch')\n",
        "ax[1, 1].set_ylabel('accuracy')\n",
        "ax[1, 1].legend()\n",
        "ax[1, 1].grid()\n",
        "\n",
        "ax[1, 2].plot(np.arange(PQN_accuracies.shape[0]), PQN_accuracies, label='PQN, noiseless case')\n",
        "ax[1, 2].plot(np.arange(PQN_accuracies_nsy.shape[0]), PQN_accuracies_nsy, label='PQN, noisy case')\n",
        "ax[1, 2].set_xticks(np.arange(0, PQN_accuracies_nsy.shape[0], 4))\n",
        "ax[1, 2].set_xlabel('num_epoch')\n",
        "ax[1, 2].set_ylabel('accuracy')\n",
        "ax[1, 2].legend()\n",
        "ax[1, 2].grid()\n",
        "plt.title(\"Comparison performances of layers for noiseless and noisy cases\")\n",
        "\n",
        "plt.show()"
      ]
    },
    {
      "cell_type": "markdown",
      "metadata": {
        "id": "IPR68JULtD6i"
      },
      "source": [
        "# Forward pass with the IBM Sherbrooke device"
      ]
    },
    {
      "cell_type": "code",
      "execution_count": null,
      "metadata": {
        "id": "355uskdkt2SY"
      },
      "outputs": [],
      "source": [
        "dev = qml.device(\"qiskit.ibmq\", wires=range(num_qubits), backend=backend)"
      ]
    },
    {
      "cell_type": "code",
      "execution_count": null,
      "metadata": {
        "id": "azpqLMfLyIVo"
      },
      "outputs": [],
      "source": [
        "@qml.qnode(dev, interface='torch')\n",
        "def qdi_circuit_for_ibmq(weights, input_array):\n",
        "    qml.layer(qdi_subroutine_1, repeats1, weights[:repeats1 * num_qubits].reshape(repeats1, num_qubits), wires=range(num_qubits))\n",
        "    qml.AngleEmbedding(input_array, wires=range(num_qubits), rotation='Z')\n",
        "    qml.layer(qdi_subroutine_2, repeats2, weights[repeats1 * num_qubits:].reshape(repeats2, num_qubits), wires=range(num_qubits))\n",
        "    qml.layer(qdi_subroutine_3, 1, wires=range(num_qubits))\n",
        "    return qml.expval(qml.PauliY(0))"
      ]
    },
    {
      "cell_type": "code",
      "execution_count": null,
      "metadata": {
        "id": "2DTZC0c_yXw-"
      },
      "outputs": [],
      "source": [
        "class QDIHybridModel_ibmq_unmitigated(nn.Module):\n",
        "    def __init__(self):\n",
        "        super(QDIHybridModel_ibmq_unmitigated, self).__init__()\n",
        "        self.classical_layer = nn.Linear(input_dim, reduced_dim)\n",
        "        self.q_params = nn.Parameter(torch.randn((repeats1 + repeats2) * num_qubits))\n",
        "    def forward(self, x):\n",
        "        x = torch.relu(self.classical_layer(x))\n",
        "        q_out = torch.zeros(x.size(0), device=device)\n",
        "        for i in range(x.size(0)):\n",
        "            q_out[i] = qdi_circuit_for_ibmq(self.q_params, x[i])\n",
        "        return torch.sigmoid(q_out)"
      ]
    },
    {
      "cell_type": "code",
      "execution_count": null,
      "metadata": {
        "id": "5ZtWDdNCzLPw"
      },
      "outputs": [],
      "source": [
        "QDI_model_ibmq = QDIHybridModel_ibmq_unmitigated().to(device)"
      ]
    },
    {
      "cell_type": "code",
      "execution_count": null,
      "metadata": {
        "id": "JHUOhwPusUMM"
      },
      "outputs": [],
      "source": [
        "QDI_model_ibmq.load_state_dict(QDI_model.state_dict())"
      ]
    },
    {
      "cell_type": "code",
      "execution_count": null,
      "metadata": {
        "id": "sPnqdCFBzBzr"
      },
      "outputs": [],
      "source": [
        "unmitigated_accuracy = 0\n",
        "\n",
        "QDI_model_ibmq.eval()\n",
        "for batch in test_dataloader:\n",
        "    X = batch[0].to(device)\n",
        "    y = batch[1].to(device)\n",
        "\n",
        "    with torch.no_grad():\n",
        "        preds = QDI_model_ibmq(X)\n",
        "        unmitigated_accuracy += (preds.argmax(-1) == y).cpu().numpy().mean()\n",
        "\n",
        "unmitigated_accuracy /= len(test_dataloader)\n",
        "print(f\"Unmitigated accuracy {unmitigated_accuracy:.3f}\")"
      ]
    },
    {
      "cell_type": "code",
      "execution_count": null,
      "metadata": {
        "id": "IkFDV4ik-3Rd"
      },
      "outputs": [],
      "source": [
        "from mitiq.zne.scaling import fold_global\n",
        "from mitiq.zne.inference import RichardsonFactory\n",
        "\n",
        "scale_factors = [1, 2, 3]\n",
        "noise_scale_method = fold_global\n",
        "\n",
        "mitigated_qdi_circuit = qml.transforms.mitigate_with_zne(\n",
        "    qdi_circuit_for_ibmq,\n",
        "    scale_factors,\n",
        "    noise_scale_method,\n",
        "    RichardsonFactory.extrapolate,\n",
        ")"
      ]
    },
    {
      "cell_type": "code",
      "execution_count": null,
      "metadata": {
        "id": "317FcjXL_Xed"
      },
      "outputs": [],
      "source": [
        "class QDIHybridModel_ibmq_mitigated(nn.Module):\n",
        "    def __init__(self):\n",
        "        super(QDIHybridModel_ibmq_mitigated, self).__init__()\n",
        "        self.classical_layer = nn.Linear(input_dim, reduced_dim)\n",
        "        self.q_params = nn.Parameter(torch.randn((repeats1 + repeats2) * num_qubits))\n",
        "    def forward(self, x):\n",
        "        x = torch.relu(self.classical_layer(x))\n",
        "        q_out = torch.zeros(x.size(0), device=device)\n",
        "        for i in range(x.size(0)):\n",
        "            q_out[i] = mitigated_qdi_circuit(self.q_params, x[i])\n",
        "        return torch.sigmoid(q_out)"
      ]
    },
    {
      "cell_type": "code",
      "execution_count": null,
      "metadata": {
        "id": "jwnv8jQN_k1b"
      },
      "outputs": [],
      "source": [
        "QDI_model_ibmq = QDIHybridModel_ibmq_mitigated().to(device)"
      ]
    },
    {
      "cell_type": "code",
      "execution_count": null,
      "metadata": {
        "id": "osYRn3LmtvMx"
      },
      "outputs": [],
      "source": [
        "QDI_model_ibmq.load_state_dict(QDI_model.state_dict())"
      ]
    },
    {
      "cell_type": "code",
      "execution_count": null,
      "metadata": {
        "id": "F-6jEXLv_pBo"
      },
      "outputs": [],
      "source": [
        "mitigated_accuracy = 0\n",
        "\n",
        "QDI_model_ibmq.eval()\n",
        "for batch in test_dataloader:\n",
        "    X = batch[0].to(device)\n",
        "    y = batch[1].to(device)\n",
        "\n",
        "    with torch.no_grad():\n",
        "        preds = QDI_model_ibmq(X)\n",
        "        mitigated_accuracy += (preds.argmax(-1) == y).cpu().numpy().mean()\n",
        "\n",
        "mitigated_accuracy /= len(test_dataloader)\n",
        "print(f\"Mitigated accuracy {mitigated_accuracy:.3f}\")"
      ]
    },
    {
      "cell_type": "code",
      "execution_count": null,
      "metadata": {
        "id": "zAO6r8Or_vZQ"
      },
      "outputs": [],
      "source": [
        "print(f\"Unmitigated accuracy {unmitigated_accuracy:.3f}\")\n",
        "print(f\"Mitigated accuracy {mitigated_accuracy:.3f}\")"
      ]
    }
  ],
  "metadata": {
    "accelerator": "GPU",
    "colab": {
      "gpuType": "T4",
      "provenance": [],
      "include_colab_link": true
    },
    "kernelspec": {
      "display_name": "Python 3",
      "name": "python3"
    },
    "language_info": {
      "name": "python"
    },
    "widgets": {
      "application/vnd.jupyter.widget-state+json": {
        "803be2cfe8aa461eb79b88f04d766135": {
          "model_module": "@jupyter-widgets/controls",
          "model_name": "HBoxModel",
          "model_module_version": "1.5.0",
          "state": {
            "_dom_classes": [],
            "_model_module": "@jupyter-widgets/controls",
            "_model_module_version": "1.5.0",
            "_model_name": "HBoxModel",
            "_view_count": null,
            "_view_module": "@jupyter-widgets/controls",
            "_view_module_version": "1.5.0",
            "_view_name": "HBoxView",
            "box_style": "",
            "children": [
              "IPY_MODEL_8f94f4f2ba424bf8a858d235f0e8c7f9",
              "IPY_MODEL_43d74d23c5a54415a28c999f07d4e6dc",
              "IPY_MODEL_272075afa40b4ae28ee5751a195b5a39"
            ],
            "layout": "IPY_MODEL_7473dfa2a0c040e0b567d0d0f355b23f"
          }
        },
        "8f94f4f2ba424bf8a858d235f0e8c7f9": {
          "model_module": "@jupyter-widgets/controls",
          "model_name": "HTMLModel",
          "model_module_version": "1.5.0",
          "state": {
            "_dom_classes": [],
            "_model_module": "@jupyter-widgets/controls",
            "_model_module_version": "1.5.0",
            "_model_name": "HTMLModel",
            "_view_count": null,
            "_view_module": "@jupyter-widgets/controls",
            "_view_module_version": "1.5.0",
            "_view_name": "HTMLView",
            "description": "",
            "description_tooltip": null,
            "layout": "IPY_MODEL_031736cbd7b743c894aad0d14b144c0a",
            "placeholder": "​",
            "style": "IPY_MODEL_62e48475e4144df99a31dea3ad9a2c59",
            "value": "100%"
          }
        },
        "43d74d23c5a54415a28c999f07d4e6dc": {
          "model_module": "@jupyter-widgets/controls",
          "model_name": "FloatProgressModel",
          "model_module_version": "1.5.0",
          "state": {
            "_dom_classes": [],
            "_model_module": "@jupyter-widgets/controls",
            "_model_module_version": "1.5.0",
            "_model_name": "FloatProgressModel",
            "_view_count": null,
            "_view_module": "@jupyter-widgets/controls",
            "_view_module_version": "1.5.0",
            "_view_name": "ProgressView",
            "bar_style": "success",
            "description": "",
            "description_tooltip": null,
            "layout": "IPY_MODEL_5cffcddf7a77492f8e7b3a4da5e128ae",
            "max": 60,
            "min": 0,
            "orientation": "horizontal",
            "style": "IPY_MODEL_76d442af524c4f52ba075c4df6873b9e",
            "value": 60
          }
        },
        "272075afa40b4ae28ee5751a195b5a39": {
          "model_module": "@jupyter-widgets/controls",
          "model_name": "HTMLModel",
          "model_module_version": "1.5.0",
          "state": {
            "_dom_classes": [],
            "_model_module": "@jupyter-widgets/controls",
            "_model_module_version": "1.5.0",
            "_model_name": "HTMLModel",
            "_view_count": null,
            "_view_module": "@jupyter-widgets/controls",
            "_view_module_version": "1.5.0",
            "_view_name": "HTMLView",
            "description": "",
            "description_tooltip": null,
            "layout": "IPY_MODEL_50f863f18c6246448bd5b7853ad14a13",
            "placeholder": "​",
            "style": "IPY_MODEL_6997aec0cb3a4a98bf72d0f22c79b3b5",
            "value": " 60/60 [36:30&lt;00:00, 36.47s/it]"
          }
        },
        "7473dfa2a0c040e0b567d0d0f355b23f": {
          "model_module": "@jupyter-widgets/base",
          "model_name": "LayoutModel",
          "model_module_version": "1.2.0",
          "state": {
            "_model_module": "@jupyter-widgets/base",
            "_model_module_version": "1.2.0",
            "_model_name": "LayoutModel",
            "_view_count": null,
            "_view_module": "@jupyter-widgets/base",
            "_view_module_version": "1.2.0",
            "_view_name": "LayoutView",
            "align_content": null,
            "align_items": null,
            "align_self": null,
            "border": null,
            "bottom": null,
            "display": null,
            "flex": null,
            "flex_flow": null,
            "grid_area": null,
            "grid_auto_columns": null,
            "grid_auto_flow": null,
            "grid_auto_rows": null,
            "grid_column": null,
            "grid_gap": null,
            "grid_row": null,
            "grid_template_areas": null,
            "grid_template_columns": null,
            "grid_template_rows": null,
            "height": null,
            "justify_content": null,
            "justify_items": null,
            "left": null,
            "margin": null,
            "max_height": null,
            "max_width": null,
            "min_height": null,
            "min_width": null,
            "object_fit": null,
            "object_position": null,
            "order": null,
            "overflow": null,
            "overflow_x": null,
            "overflow_y": null,
            "padding": null,
            "right": null,
            "top": null,
            "visibility": null,
            "width": null
          }
        },
        "031736cbd7b743c894aad0d14b144c0a": {
          "model_module": "@jupyter-widgets/base",
          "model_name": "LayoutModel",
          "model_module_version": "1.2.0",
          "state": {
            "_model_module": "@jupyter-widgets/base",
            "_model_module_version": "1.2.0",
            "_model_name": "LayoutModel",
            "_view_count": null,
            "_view_module": "@jupyter-widgets/base",
            "_view_module_version": "1.2.0",
            "_view_name": "LayoutView",
            "align_content": null,
            "align_items": null,
            "align_self": null,
            "border": null,
            "bottom": null,
            "display": null,
            "flex": null,
            "flex_flow": null,
            "grid_area": null,
            "grid_auto_columns": null,
            "grid_auto_flow": null,
            "grid_auto_rows": null,
            "grid_column": null,
            "grid_gap": null,
            "grid_row": null,
            "grid_template_areas": null,
            "grid_template_columns": null,
            "grid_template_rows": null,
            "height": null,
            "justify_content": null,
            "justify_items": null,
            "left": null,
            "margin": null,
            "max_height": null,
            "max_width": null,
            "min_height": null,
            "min_width": null,
            "object_fit": null,
            "object_position": null,
            "order": null,
            "overflow": null,
            "overflow_x": null,
            "overflow_y": null,
            "padding": null,
            "right": null,
            "top": null,
            "visibility": null,
            "width": null
          }
        },
        "62e48475e4144df99a31dea3ad9a2c59": {
          "model_module": "@jupyter-widgets/controls",
          "model_name": "DescriptionStyleModel",
          "model_module_version": "1.5.0",
          "state": {
            "_model_module": "@jupyter-widgets/controls",
            "_model_module_version": "1.5.0",
            "_model_name": "DescriptionStyleModel",
            "_view_count": null,
            "_view_module": "@jupyter-widgets/base",
            "_view_module_version": "1.2.0",
            "_view_name": "StyleView",
            "description_width": ""
          }
        },
        "5cffcddf7a77492f8e7b3a4da5e128ae": {
          "model_module": "@jupyter-widgets/base",
          "model_name": "LayoutModel",
          "model_module_version": "1.2.0",
          "state": {
            "_model_module": "@jupyter-widgets/base",
            "_model_module_version": "1.2.0",
            "_model_name": "LayoutModel",
            "_view_count": null,
            "_view_module": "@jupyter-widgets/base",
            "_view_module_version": "1.2.0",
            "_view_name": "LayoutView",
            "align_content": null,
            "align_items": null,
            "align_self": null,
            "border": null,
            "bottom": null,
            "display": null,
            "flex": null,
            "flex_flow": null,
            "grid_area": null,
            "grid_auto_columns": null,
            "grid_auto_flow": null,
            "grid_auto_rows": null,
            "grid_column": null,
            "grid_gap": null,
            "grid_row": null,
            "grid_template_areas": null,
            "grid_template_columns": null,
            "grid_template_rows": null,
            "height": null,
            "justify_content": null,
            "justify_items": null,
            "left": null,
            "margin": null,
            "max_height": null,
            "max_width": null,
            "min_height": null,
            "min_width": null,
            "object_fit": null,
            "object_position": null,
            "order": null,
            "overflow": null,
            "overflow_x": null,
            "overflow_y": null,
            "padding": null,
            "right": null,
            "top": null,
            "visibility": null,
            "width": null
          }
        },
        "76d442af524c4f52ba075c4df6873b9e": {
          "model_module": "@jupyter-widgets/controls",
          "model_name": "ProgressStyleModel",
          "model_module_version": "1.5.0",
          "state": {
            "_model_module": "@jupyter-widgets/controls",
            "_model_module_version": "1.5.0",
            "_model_name": "ProgressStyleModel",
            "_view_count": null,
            "_view_module": "@jupyter-widgets/base",
            "_view_module_version": "1.2.0",
            "_view_name": "StyleView",
            "bar_color": null,
            "description_width": ""
          }
        },
        "50f863f18c6246448bd5b7853ad14a13": {
          "model_module": "@jupyter-widgets/base",
          "model_name": "LayoutModel",
          "model_module_version": "1.2.0",
          "state": {
            "_model_module": "@jupyter-widgets/base",
            "_model_module_version": "1.2.0",
            "_model_name": "LayoutModel",
            "_view_count": null,
            "_view_module": "@jupyter-widgets/base",
            "_view_module_version": "1.2.0",
            "_view_name": "LayoutView",
            "align_content": null,
            "align_items": null,
            "align_self": null,
            "border": null,
            "bottom": null,
            "display": null,
            "flex": null,
            "flex_flow": null,
            "grid_area": null,
            "grid_auto_columns": null,
            "grid_auto_flow": null,
            "grid_auto_rows": null,
            "grid_column": null,
            "grid_gap": null,
            "grid_row": null,
            "grid_template_areas": null,
            "grid_template_columns": null,
            "grid_template_rows": null,
            "height": null,
            "justify_content": null,
            "justify_items": null,
            "left": null,
            "margin": null,
            "max_height": null,
            "max_width": null,
            "min_height": null,
            "min_width": null,
            "object_fit": null,
            "object_position": null,
            "order": null,
            "overflow": null,
            "overflow_x": null,
            "overflow_y": null,
            "padding": null,
            "right": null,
            "top": null,
            "visibility": null,
            "width": null
          }
        },
        "6997aec0cb3a4a98bf72d0f22c79b3b5": {
          "model_module": "@jupyter-widgets/controls",
          "model_name": "DescriptionStyleModel",
          "model_module_version": "1.5.0",
          "state": {
            "_model_module": "@jupyter-widgets/controls",
            "_model_module_version": "1.5.0",
            "_model_name": "DescriptionStyleModel",
            "_view_count": null,
            "_view_module": "@jupyter-widgets/base",
            "_view_module_version": "1.2.0",
            "_view_name": "StyleView",
            "description_width": ""
          }
        },
        "e841e8d43173414889147d5fce42d1cd": {
          "model_module": "@jupyter-widgets/controls",
          "model_name": "HBoxModel",
          "model_module_version": "1.5.0",
          "state": {
            "_dom_classes": [],
            "_model_module": "@jupyter-widgets/controls",
            "_model_module_version": "1.5.0",
            "_model_name": "HBoxModel",
            "_view_count": null,
            "_view_module": "@jupyter-widgets/controls",
            "_view_module_version": "1.5.0",
            "_view_name": "HBoxView",
            "box_style": "",
            "children": [
              "IPY_MODEL_e4eecaa1e4ac43f78b6d577e4a426e57",
              "IPY_MODEL_dd3ec0defa774d8f8e0f1351a54e7f74",
              "IPY_MODEL_c4b7694510d34003a7540ba455688252"
            ],
            "layout": "IPY_MODEL_c722cc107f6f465e9f2d795777f80363"
          }
        },
        "e4eecaa1e4ac43f78b6d577e4a426e57": {
          "model_module": "@jupyter-widgets/controls",
          "model_name": "HTMLModel",
          "model_module_version": "1.5.0",
          "state": {
            "_dom_classes": [],
            "_model_module": "@jupyter-widgets/controls",
            "_model_module_version": "1.5.0",
            "_model_name": "HTMLModel",
            "_view_count": null,
            "_view_module": "@jupyter-widgets/controls",
            "_view_module_version": "1.5.0",
            "_view_name": "HTMLView",
            "description": "",
            "description_tooltip": null,
            "layout": "IPY_MODEL_eea7927109be4a68a15dc9d24f08d658",
            "placeholder": "​",
            "style": "IPY_MODEL_b2ef597d0e8c4b9e9d58a1363c65e2b8",
            "value": "100%"
          }
        },
        "dd3ec0defa774d8f8e0f1351a54e7f74": {
          "model_module": "@jupyter-widgets/controls",
          "model_name": "FloatProgressModel",
          "model_module_version": "1.5.0",
          "state": {
            "_dom_classes": [],
            "_model_module": "@jupyter-widgets/controls",
            "_model_module_version": "1.5.0",
            "_model_name": "FloatProgressModel",
            "_view_count": null,
            "_view_module": "@jupyter-widgets/controls",
            "_view_module_version": "1.5.0",
            "_view_name": "ProgressView",
            "bar_style": "success",
            "description": "",
            "description_tooltip": null,
            "layout": "IPY_MODEL_686fd7d355aa4dcfb8a30e86148d75c6",
            "max": 60,
            "min": 0,
            "orientation": "horizontal",
            "style": "IPY_MODEL_c54dc44d73214a9e93c15b5ba224b702",
            "value": 60
          }
        },
        "c4b7694510d34003a7540ba455688252": {
          "model_module": "@jupyter-widgets/controls",
          "model_name": "HTMLModel",
          "model_module_version": "1.5.0",
          "state": {
            "_dom_classes": [],
            "_model_module": "@jupyter-widgets/controls",
            "_model_module_version": "1.5.0",
            "_model_name": "HTMLModel",
            "_view_count": null,
            "_view_module": "@jupyter-widgets/controls",
            "_view_module_version": "1.5.0",
            "_view_name": "HTMLView",
            "description": "",
            "description_tooltip": null,
            "layout": "IPY_MODEL_18b878fb36d74d0199f4d28dfe884f7b",
            "placeholder": "​",
            "style": "IPY_MODEL_b122cb29926946c99233b148b7acf1aa",
            "value": " 60/60 [1:03:24&lt;00:00, 63.09s/it]"
          }
        },
        "c722cc107f6f465e9f2d795777f80363": {
          "model_module": "@jupyter-widgets/base",
          "model_name": "LayoutModel",
          "model_module_version": "1.2.0",
          "state": {
            "_model_module": "@jupyter-widgets/base",
            "_model_module_version": "1.2.0",
            "_model_name": "LayoutModel",
            "_view_count": null,
            "_view_module": "@jupyter-widgets/base",
            "_view_module_version": "1.2.0",
            "_view_name": "LayoutView",
            "align_content": null,
            "align_items": null,
            "align_self": null,
            "border": null,
            "bottom": null,
            "display": null,
            "flex": null,
            "flex_flow": null,
            "grid_area": null,
            "grid_auto_columns": null,
            "grid_auto_flow": null,
            "grid_auto_rows": null,
            "grid_column": null,
            "grid_gap": null,
            "grid_row": null,
            "grid_template_areas": null,
            "grid_template_columns": null,
            "grid_template_rows": null,
            "height": null,
            "justify_content": null,
            "justify_items": null,
            "left": null,
            "margin": null,
            "max_height": null,
            "max_width": null,
            "min_height": null,
            "min_width": null,
            "object_fit": null,
            "object_position": null,
            "order": null,
            "overflow": null,
            "overflow_x": null,
            "overflow_y": null,
            "padding": null,
            "right": null,
            "top": null,
            "visibility": null,
            "width": null
          }
        },
        "eea7927109be4a68a15dc9d24f08d658": {
          "model_module": "@jupyter-widgets/base",
          "model_name": "LayoutModel",
          "model_module_version": "1.2.0",
          "state": {
            "_model_module": "@jupyter-widgets/base",
            "_model_module_version": "1.2.0",
            "_model_name": "LayoutModel",
            "_view_count": null,
            "_view_module": "@jupyter-widgets/base",
            "_view_module_version": "1.2.0",
            "_view_name": "LayoutView",
            "align_content": null,
            "align_items": null,
            "align_self": null,
            "border": null,
            "bottom": null,
            "display": null,
            "flex": null,
            "flex_flow": null,
            "grid_area": null,
            "grid_auto_columns": null,
            "grid_auto_flow": null,
            "grid_auto_rows": null,
            "grid_column": null,
            "grid_gap": null,
            "grid_row": null,
            "grid_template_areas": null,
            "grid_template_columns": null,
            "grid_template_rows": null,
            "height": null,
            "justify_content": null,
            "justify_items": null,
            "left": null,
            "margin": null,
            "max_height": null,
            "max_width": null,
            "min_height": null,
            "min_width": null,
            "object_fit": null,
            "object_position": null,
            "order": null,
            "overflow": null,
            "overflow_x": null,
            "overflow_y": null,
            "padding": null,
            "right": null,
            "top": null,
            "visibility": null,
            "width": null
          }
        },
        "b2ef597d0e8c4b9e9d58a1363c65e2b8": {
          "model_module": "@jupyter-widgets/controls",
          "model_name": "DescriptionStyleModel",
          "model_module_version": "1.5.0",
          "state": {
            "_model_module": "@jupyter-widgets/controls",
            "_model_module_version": "1.5.0",
            "_model_name": "DescriptionStyleModel",
            "_view_count": null,
            "_view_module": "@jupyter-widgets/base",
            "_view_module_version": "1.2.0",
            "_view_name": "StyleView",
            "description_width": ""
          }
        },
        "686fd7d355aa4dcfb8a30e86148d75c6": {
          "model_module": "@jupyter-widgets/base",
          "model_name": "LayoutModel",
          "model_module_version": "1.2.0",
          "state": {
            "_model_module": "@jupyter-widgets/base",
            "_model_module_version": "1.2.0",
            "_model_name": "LayoutModel",
            "_view_count": null,
            "_view_module": "@jupyter-widgets/base",
            "_view_module_version": "1.2.0",
            "_view_name": "LayoutView",
            "align_content": null,
            "align_items": null,
            "align_self": null,
            "border": null,
            "bottom": null,
            "display": null,
            "flex": null,
            "flex_flow": null,
            "grid_area": null,
            "grid_auto_columns": null,
            "grid_auto_flow": null,
            "grid_auto_rows": null,
            "grid_column": null,
            "grid_gap": null,
            "grid_row": null,
            "grid_template_areas": null,
            "grid_template_columns": null,
            "grid_template_rows": null,
            "height": null,
            "justify_content": null,
            "justify_items": null,
            "left": null,
            "margin": null,
            "max_height": null,
            "max_width": null,
            "min_height": null,
            "min_width": null,
            "object_fit": null,
            "object_position": null,
            "order": null,
            "overflow": null,
            "overflow_x": null,
            "overflow_y": null,
            "padding": null,
            "right": null,
            "top": null,
            "visibility": null,
            "width": null
          }
        },
        "c54dc44d73214a9e93c15b5ba224b702": {
          "model_module": "@jupyter-widgets/controls",
          "model_name": "ProgressStyleModel",
          "model_module_version": "1.5.0",
          "state": {
            "_model_module": "@jupyter-widgets/controls",
            "_model_module_version": "1.5.0",
            "_model_name": "ProgressStyleModel",
            "_view_count": null,
            "_view_module": "@jupyter-widgets/base",
            "_view_module_version": "1.2.0",
            "_view_name": "StyleView",
            "bar_color": null,
            "description_width": ""
          }
        },
        "18b878fb36d74d0199f4d28dfe884f7b": {
          "model_module": "@jupyter-widgets/base",
          "model_name": "LayoutModel",
          "model_module_version": "1.2.0",
          "state": {
            "_model_module": "@jupyter-widgets/base",
            "_model_module_version": "1.2.0",
            "_model_name": "LayoutModel",
            "_view_count": null,
            "_view_module": "@jupyter-widgets/base",
            "_view_module_version": "1.2.0",
            "_view_name": "LayoutView",
            "align_content": null,
            "align_items": null,
            "align_self": null,
            "border": null,
            "bottom": null,
            "display": null,
            "flex": null,
            "flex_flow": null,
            "grid_area": null,
            "grid_auto_columns": null,
            "grid_auto_flow": null,
            "grid_auto_rows": null,
            "grid_column": null,
            "grid_gap": null,
            "grid_row": null,
            "grid_template_areas": null,
            "grid_template_columns": null,
            "grid_template_rows": null,
            "height": null,
            "justify_content": null,
            "justify_items": null,
            "left": null,
            "margin": null,
            "max_height": null,
            "max_width": null,
            "min_height": null,
            "min_width": null,
            "object_fit": null,
            "object_position": null,
            "order": null,
            "overflow": null,
            "overflow_x": null,
            "overflow_y": null,
            "padding": null,
            "right": null,
            "top": null,
            "visibility": null,
            "width": null
          }
        },
        "b122cb29926946c99233b148b7acf1aa": {
          "model_module": "@jupyter-widgets/controls",
          "model_name": "DescriptionStyleModel",
          "model_module_version": "1.5.0",
          "state": {
            "_model_module": "@jupyter-widgets/controls",
            "_model_module_version": "1.5.0",
            "_model_name": "DescriptionStyleModel",
            "_view_count": null,
            "_view_module": "@jupyter-widgets/base",
            "_view_module_version": "1.2.0",
            "_view_name": "StyleView",
            "description_width": ""
          }
        },
        "a7e0cae9aee54f88a17f035a9431d608": {
          "model_module": "@jupyter-widgets/controls",
          "model_name": "HBoxModel",
          "model_module_version": "1.5.0",
          "state": {
            "_dom_classes": [],
            "_model_module": "@jupyter-widgets/controls",
            "_model_module_version": "1.5.0",
            "_model_name": "HBoxModel",
            "_view_count": null,
            "_view_module": "@jupyter-widgets/controls",
            "_view_module_version": "1.5.0",
            "_view_name": "HBoxView",
            "box_style": "",
            "children": [
              "IPY_MODEL_506e29512e0b448cbf1fb5c6a69f1dd5",
              "IPY_MODEL_59cc9851991b42f4a19a8ff00e125fd2",
              "IPY_MODEL_081ff50454b642b4965fc3ce76bfb966"
            ],
            "layout": "IPY_MODEL_20d4b3268b644349a46580315742ad9d"
          }
        },
        "506e29512e0b448cbf1fb5c6a69f1dd5": {
          "model_module": "@jupyter-widgets/controls",
          "model_name": "HTMLModel",
          "model_module_version": "1.5.0",
          "state": {
            "_dom_classes": [],
            "_model_module": "@jupyter-widgets/controls",
            "_model_module_version": "1.5.0",
            "_model_name": "HTMLModel",
            "_view_count": null,
            "_view_module": "@jupyter-widgets/controls",
            "_view_module_version": "1.5.0",
            "_view_name": "HTMLView",
            "description": "",
            "description_tooltip": null,
            "layout": "IPY_MODEL_6cb1ffe8d868415c912f715a1dfdcea2",
            "placeholder": "​",
            "style": "IPY_MODEL_00b0a176192c44f4bf1ce2e61d47b74f",
            "value": "100%"
          }
        },
        "59cc9851991b42f4a19a8ff00e125fd2": {
          "model_module": "@jupyter-widgets/controls",
          "model_name": "FloatProgressModel",
          "model_module_version": "1.5.0",
          "state": {
            "_dom_classes": [],
            "_model_module": "@jupyter-widgets/controls",
            "_model_module_version": "1.5.0",
            "_model_name": "FloatProgressModel",
            "_view_count": null,
            "_view_module": "@jupyter-widgets/controls",
            "_view_module_version": "1.5.0",
            "_view_name": "ProgressView",
            "bar_style": "success",
            "description": "",
            "description_tooltip": null,
            "layout": "IPY_MODEL_7703925b57cc42b4a9b2c64b71477716",
            "max": 60,
            "min": 0,
            "orientation": "horizontal",
            "style": "IPY_MODEL_dea3c66edd2f4788aa6c8edd10ed71f2",
            "value": 60
          }
        },
        "081ff50454b642b4965fc3ce76bfb966": {
          "model_module": "@jupyter-widgets/controls",
          "model_name": "HTMLModel",
          "model_module_version": "1.5.0",
          "state": {
            "_dom_classes": [],
            "_model_module": "@jupyter-widgets/controls",
            "_model_module_version": "1.5.0",
            "_model_name": "HTMLModel",
            "_view_count": null,
            "_view_module": "@jupyter-widgets/controls",
            "_view_module_version": "1.5.0",
            "_view_name": "HTMLView",
            "description": "",
            "description_tooltip": null,
            "layout": "IPY_MODEL_cf6256a8924349da823138ba9c856360",
            "placeholder": "​",
            "style": "IPY_MODEL_3b56d0280c854f019dfd1eaf81560012",
            "value": " 60/60 [22:49&lt;00:00, 23.14s/it]"
          }
        },
        "20d4b3268b644349a46580315742ad9d": {
          "model_module": "@jupyter-widgets/base",
          "model_name": "LayoutModel",
          "model_module_version": "1.2.0",
          "state": {
            "_model_module": "@jupyter-widgets/base",
            "_model_module_version": "1.2.0",
            "_model_name": "LayoutModel",
            "_view_count": null,
            "_view_module": "@jupyter-widgets/base",
            "_view_module_version": "1.2.0",
            "_view_name": "LayoutView",
            "align_content": null,
            "align_items": null,
            "align_self": null,
            "border": null,
            "bottom": null,
            "display": null,
            "flex": null,
            "flex_flow": null,
            "grid_area": null,
            "grid_auto_columns": null,
            "grid_auto_flow": null,
            "grid_auto_rows": null,
            "grid_column": null,
            "grid_gap": null,
            "grid_row": null,
            "grid_template_areas": null,
            "grid_template_columns": null,
            "grid_template_rows": null,
            "height": null,
            "justify_content": null,
            "justify_items": null,
            "left": null,
            "margin": null,
            "max_height": null,
            "max_width": null,
            "min_height": null,
            "min_width": null,
            "object_fit": null,
            "object_position": null,
            "order": null,
            "overflow": null,
            "overflow_x": null,
            "overflow_y": null,
            "padding": null,
            "right": null,
            "top": null,
            "visibility": null,
            "width": null
          }
        },
        "6cb1ffe8d868415c912f715a1dfdcea2": {
          "model_module": "@jupyter-widgets/base",
          "model_name": "LayoutModel",
          "model_module_version": "1.2.0",
          "state": {
            "_model_module": "@jupyter-widgets/base",
            "_model_module_version": "1.2.0",
            "_model_name": "LayoutModel",
            "_view_count": null,
            "_view_module": "@jupyter-widgets/base",
            "_view_module_version": "1.2.0",
            "_view_name": "LayoutView",
            "align_content": null,
            "align_items": null,
            "align_self": null,
            "border": null,
            "bottom": null,
            "display": null,
            "flex": null,
            "flex_flow": null,
            "grid_area": null,
            "grid_auto_columns": null,
            "grid_auto_flow": null,
            "grid_auto_rows": null,
            "grid_column": null,
            "grid_gap": null,
            "grid_row": null,
            "grid_template_areas": null,
            "grid_template_columns": null,
            "grid_template_rows": null,
            "height": null,
            "justify_content": null,
            "justify_items": null,
            "left": null,
            "margin": null,
            "max_height": null,
            "max_width": null,
            "min_height": null,
            "min_width": null,
            "object_fit": null,
            "object_position": null,
            "order": null,
            "overflow": null,
            "overflow_x": null,
            "overflow_y": null,
            "padding": null,
            "right": null,
            "top": null,
            "visibility": null,
            "width": null
          }
        },
        "00b0a176192c44f4bf1ce2e61d47b74f": {
          "model_module": "@jupyter-widgets/controls",
          "model_name": "DescriptionStyleModel",
          "model_module_version": "1.5.0",
          "state": {
            "_model_module": "@jupyter-widgets/controls",
            "_model_module_version": "1.5.0",
            "_model_name": "DescriptionStyleModel",
            "_view_count": null,
            "_view_module": "@jupyter-widgets/base",
            "_view_module_version": "1.2.0",
            "_view_name": "StyleView",
            "description_width": ""
          }
        },
        "7703925b57cc42b4a9b2c64b71477716": {
          "model_module": "@jupyter-widgets/base",
          "model_name": "LayoutModel",
          "model_module_version": "1.2.0",
          "state": {
            "_model_module": "@jupyter-widgets/base",
            "_model_module_version": "1.2.0",
            "_model_name": "LayoutModel",
            "_view_count": null,
            "_view_module": "@jupyter-widgets/base",
            "_view_module_version": "1.2.0",
            "_view_name": "LayoutView",
            "align_content": null,
            "align_items": null,
            "align_self": null,
            "border": null,
            "bottom": null,
            "display": null,
            "flex": null,
            "flex_flow": null,
            "grid_area": null,
            "grid_auto_columns": null,
            "grid_auto_flow": null,
            "grid_auto_rows": null,
            "grid_column": null,
            "grid_gap": null,
            "grid_row": null,
            "grid_template_areas": null,
            "grid_template_columns": null,
            "grid_template_rows": null,
            "height": null,
            "justify_content": null,
            "justify_items": null,
            "left": null,
            "margin": null,
            "max_height": null,
            "max_width": null,
            "min_height": null,
            "min_width": null,
            "object_fit": null,
            "object_position": null,
            "order": null,
            "overflow": null,
            "overflow_x": null,
            "overflow_y": null,
            "padding": null,
            "right": null,
            "top": null,
            "visibility": null,
            "width": null
          }
        },
        "dea3c66edd2f4788aa6c8edd10ed71f2": {
          "model_module": "@jupyter-widgets/controls",
          "model_name": "ProgressStyleModel",
          "model_module_version": "1.5.0",
          "state": {
            "_model_module": "@jupyter-widgets/controls",
            "_model_module_version": "1.5.0",
            "_model_name": "ProgressStyleModel",
            "_view_count": null,
            "_view_module": "@jupyter-widgets/base",
            "_view_module_version": "1.2.0",
            "_view_name": "StyleView",
            "bar_color": null,
            "description_width": ""
          }
        },
        "cf6256a8924349da823138ba9c856360": {
          "model_module": "@jupyter-widgets/base",
          "model_name": "LayoutModel",
          "model_module_version": "1.2.0",
          "state": {
            "_model_module": "@jupyter-widgets/base",
            "_model_module_version": "1.2.0",
            "_model_name": "LayoutModel",
            "_view_count": null,
            "_view_module": "@jupyter-widgets/base",
            "_view_module_version": "1.2.0",
            "_view_name": "LayoutView",
            "align_content": null,
            "align_items": null,
            "align_self": null,
            "border": null,
            "bottom": null,
            "display": null,
            "flex": null,
            "flex_flow": null,
            "grid_area": null,
            "grid_auto_columns": null,
            "grid_auto_flow": null,
            "grid_auto_rows": null,
            "grid_column": null,
            "grid_gap": null,
            "grid_row": null,
            "grid_template_areas": null,
            "grid_template_columns": null,
            "grid_template_rows": null,
            "height": null,
            "justify_content": null,
            "justify_items": null,
            "left": null,
            "margin": null,
            "max_height": null,
            "max_width": null,
            "min_height": null,
            "min_width": null,
            "object_fit": null,
            "object_position": null,
            "order": null,
            "overflow": null,
            "overflow_x": null,
            "overflow_y": null,
            "padding": null,
            "right": null,
            "top": null,
            "visibility": null,
            "width": null
          }
        },
        "3b56d0280c854f019dfd1eaf81560012": {
          "model_module": "@jupyter-widgets/controls",
          "model_name": "DescriptionStyleModel",
          "model_module_version": "1.5.0",
          "state": {
            "_model_module": "@jupyter-widgets/controls",
            "_model_module_version": "1.5.0",
            "_model_name": "DescriptionStyleModel",
            "_view_count": null,
            "_view_module": "@jupyter-widgets/base",
            "_view_module_version": "1.2.0",
            "_view_name": "StyleView",
            "description_width": ""
          }
        }
      }
    }
  },
  "nbformat": 4,
  "nbformat_minor": 0
}