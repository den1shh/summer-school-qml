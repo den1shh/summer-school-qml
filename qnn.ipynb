{
  "cells": [
    {
      "cell_type": "markdown",
      "metadata": {
        "id": "view-in-github",
        "colab_type": "text"
      },
      "source": [
        "<a href=\"https://colab.research.google.com/github/den1shh/summer-school-qml/blob/main/qnn.ipynb\" target=\"_parent\"><img src=\"https://colab.research.google.com/assets/colab-badge.svg\" alt=\"Open In Colab\"/></a>"
      ]
    },
    {
      "cell_type": "markdown",
      "source": [
        "# Building a binary classificator using quantum layers"
      ],
      "metadata": {
        "id": "SW5IfP_q5Otc"
      }
    },
    {
      "cell_type": "code",
      "execution_count": null,
      "metadata": {
        "collapsed": true,
        "id": "PNLus8UehOVs"
      },
      "outputs": [],
      "source": [
        "!pip install pennylane qiskit pennylane-qiskit ply mitiq"
      ]
    },
    {
      "cell_type": "code",
      "execution_count": null,
      "metadata": {
        "id": "PGpiOqJm5TXT"
      },
      "outputs": [],
      "source": [
        "import torch\n",
        "import torch.nn as nn\n",
        "import torch.optim as optim\n",
        "import pennylane as qml\n",
        "import mitiq\n",
        "import matplotlib.pyplot as plt\n",
        "import numpy as np\n",
        "from torch.utils.data import Dataset, DataLoader\n",
        "from tqdm.notebook import tqdm"
      ]
    },
    {
      "cell_type": "code",
      "execution_count": null,
      "metadata": {
        "id": "N159-lP-5U-c"
      },
      "outputs": [],
      "source": [
        "np.random.seed(42)\n",
        "torch.manual_seed(42)"
      ]
    },
    {
      "cell_type": "code",
      "execution_count": null,
      "metadata": {
        "id": "uC1Fp9EF5YKx"
      },
      "outputs": [],
      "source": [
        "input_dim = 16\n",
        "num_qubits = 4\n",
        "reduced_dim = num_qubits\n",
        "repeats1 = 2\n",
        "repeats2 = 2\n",
        "learning_rate = 0.3\n",
        "epochs = 60\n"
      ]
    },
    {
      "cell_type": "code",
      "execution_count": null,
      "metadata": {
        "id": "Ldv5AFSq5cuf"
      },
      "outputs": [],
      "source": [
        "device = \"cuda\" if torch.cuda.is_available() else \"cpu\""
      ]
    },
    {
      "cell_type": "code",
      "execution_count": null,
      "metadata": {
        "id": "YfkljeeC5nWv"
      },
      "outputs": [],
      "source": [
        "# [ds] = qml.data.load(\"other\", name=\"bars-and-stripes\")\n",
        "\n",
        "# train_features = (np.sign(np.array(ds.train['4']['inputs']))+1)/2\n",
        "# train_labels =(np.array(ds.train['4']['labels']) + 1) / 2\n",
        "# test_features = (np.sign(np.array(ds.test['4']['inputs']))+1)/2\n",
        "# test_labels =(np.array(ds.test['4']['labels']) + 1) / 2"
      ]
    },
    {
      "cell_type": "markdown",
      "source": [
        " a simplified version of the MNIST handwritten digits dataset. This version involves distinguishing between digits 3 and 5 rather than the full range 0-9."
      ],
      "metadata": {
        "id": "M_YqBtAR_i_h"
      }
    },
    {
      "cell_type": "code",
      "source": [
        "[ds] = qml.data.load(\"other\", name=\"mnist-pca\")\n",
        "\n",
        "train_features = np.array(ds.train['16']['inputs'])\n",
        "train_labels =(np.array(ds.train['16']['labels']) + 1) / 2\n",
        "test_features = np.array(ds.test['16']['inputs'])\n",
        "test_labels =(np.array(ds.test['16']['labels']) + 1) / 2"
      ],
      "metadata": {
        "id": "Vp9iffEz9Ch1"
      },
      "execution_count": null,
      "outputs": []
    },
    {
      "cell_type": "code",
      "execution_count": null,
      "metadata": {
        "id": "PDO3W1jIZIlL"
      },
      "outputs": [],
      "source": [
        "class BaSDataset(Dataset):\n",
        "    def __init__(self, data_x, data_y):\n",
        "        self.X = torch.tensor(data_x).float()\n",
        "        self.y = torch.tensor(data_y).float()\n",
        "\n",
        "    def __len__(self):\n",
        "        return self.X.shape[0]\n",
        "\n",
        "    def __getitem__(self, index):\n",
        "        return self.X[index], self.y[index]\n"
      ]
    },
    {
      "cell_type": "code",
      "execution_count": null,
      "metadata": {
        "id": "dmuFu8JOcaSx"
      },
      "outputs": [],
      "source": [
        "train_dataset = BaSDataset(train_features, train_labels)\n",
        "test_dataset = BaSDataset(test_features, test_labels)"
      ]
    },
    {
      "cell_type": "code",
      "execution_count": null,
      "metadata": {
        "id": "kZOlvd0sd-8K"
      },
      "outputs": [],
      "source": [
        "batch_size = 64\n",
        "train_dataloader = DataLoader(train_dataset, batch_size=batch_size, shuffle=True, drop_last=True, pin_memory=True)\n",
        "test_dataloader = DataLoader(test_dataset, batch_size=batch_size, shuffle=False)"
      ]
    },
    {
      "cell_type": "markdown",
      "metadata": {
        "id": "3o_dst17omf_"
      },
      "source": [
        "# Noiseless simulator"
      ]
    },
    {
      "cell_type": "code",
      "execution_count": null,
      "metadata": {
        "id": "jVRrFsv-5ec_"
      },
      "outputs": [],
      "source": [
        "dev = qml.device(\"lightning.qubit\", wires=range(num_qubits))"
      ]
    },
    {
      "cell_type": "code",
      "execution_count": null,
      "metadata": {
        "id": "Ite7Bv7k5ske"
      },
      "outputs": [],
      "source": [
        "# @title QDI layer\n",
        "\n",
        "def qdi_subroutine_1(params, wires):\n",
        "    for i in range(len(wires)):\n",
        "        qml.RX(params[i], wires=wires[i])\n",
        "    for j in range(len(wires)-1):\n",
        "        qml.ECR(wires=[wires[j], wires[j+1]])\n",
        "    qml.ECR(wires=[wires[len(wires)-1], wires[0]])\n",
        "    qml.Barrier()\n",
        "\n",
        "def qdi_subroutine_2(params, wires):\n",
        "    for i in range(len(wires)):\n",
        "        qml.RX(params[i], wires=wires[i])\n",
        "    for j in range(len(wires)-1):\n",
        "        qml.ECR(wires=[wires[j], wires[j+1]])\n",
        "    qml.ECR(wires=[wires[len(wires)-1], wires[0]])\n",
        "    qml.Barrier()\n",
        "\n",
        "def qdi_subroutine_3(wires):\n",
        "    for i in range(1, len(wires)):\n",
        "        qml.ECR(wires=[wires[i], wires[0]])\n",
        "    qml.Barrier()\n",
        "\n",
        "@qml.qnode(dev, interface='torch', diff_method=\"adjoint\")\n",
        "def qdi_circuit(weights, input_array):\n",
        "    qml.layer(qdi_subroutine_1, repeats1, weights[:repeats1 * num_qubits].reshape(repeats1, num_qubits), wires=range(num_qubits))\n",
        "    qml.AngleEmbedding(input_array, wires=range(num_qubits), rotation='Z')\n",
        "    qml.layer(qdi_subroutine_2, repeats2, weights[repeats1 * num_qubits:].reshape(repeats2, num_qubits), wires=range(num_qubits))\n",
        "    qml.layer(qdi_subroutine_3, 1, wires=range(num_qubits))\n",
        "    return qml.expval(qml.PauliY(0))"
      ]
    },
    {
      "cell_type": "code",
      "execution_count": null,
      "metadata": {
        "id": "UOGGLKYcRIvu"
      },
      "outputs": [],
      "source": [
        "print(qml.draw(qdi_circuit)(np.ones(((repeats1 + repeats2) * num_qubits,)), np.ones(num_qubits)))"
      ]
    },
    {
      "cell_type": "code",
      "execution_count": null,
      "metadata": {
        "id": "CVapZNt66Ki3"
      },
      "outputs": [],
      "source": [
        "# @title EFQ layer\n",
        "def efq_subroutine_1(params, wires):\n",
        "    j = 0\n",
        "    for i in range(len(wires)):\n",
        "        qml.RY(params[i+j], wires=i)\n",
        "        qml.RZ(params[i+j+1], wires=i)\n",
        "        qml.RX(params[i+j+2], wires=i)\n",
        "        j += 2\n",
        "\n",
        "    for i in range(len(wires)):\n",
        "        qml.ECR(wires=[i, (i + 1) % len(wires)])\n",
        "\n",
        "    j = 0\n",
        "    for i in range(len(wires)):\n",
        "        qml.RY(params[3*len(wires)+i+j], wires=i)\n",
        "        qml.RZ(params[3*len(wires)+i+j+1], wires=i)\n",
        "        qml.RX(params[3*len(wires)+i+j+2], wires=i)\n",
        "        j += 2\n",
        "\n",
        "def efq_subroutine_2(input_array, wires):\n",
        "    for i in range(len(wires)):\n",
        "        qml.AngleEmbedding(2**i*input_array[i].reshape((1,)), wires=[i], rotation='Z')\n",
        "\n",
        "def efq_subroutine_3(params, wires):\n",
        "    j = 0\n",
        "    for i in range(len(wires)):\n",
        "        qml.RY(params[6*len(wires)+i+j], wires=i)\n",
        "        qml.RZ(params[6*len(wires)+i+j+1], wires=i)\n",
        "        qml.RX(params[6*len(wires)+i+j+2], wires=i)\n",
        "        j += 2\n",
        "\n",
        "    for i in range(len(wires)):\n",
        "        qml.ECR(wires=[i, (i + 1) % len(wires)])\n",
        "\n",
        "    j = 0\n",
        "    for i in range(len(wires)):\n",
        "        qml.RY(params[9*len(wires)+i+j], wires=i)\n",
        "        qml.RZ(params[9*len(wires)+i+j+1], wires=i)\n",
        "        qml.RX(params[9*len(wires)+i+j+2], wires=i)\n",
        "        j += 2\n",
        "\n",
        "def efq_subroutine_4(wires):\n",
        "    for i in range(len(wires)-1, 0, -1):\n",
        "        qml.ECR(wires=[i, 0])\n",
        "\n",
        "@qml.qnode(dev, interface=\"torch\", diff_method=\"adjoint\")\n",
        "def efq_circuit(weights, input_array):\n",
        "    qml.layer(efq_subroutine_1, 1, weights.reshape((1, 12*num_qubits)), wires=range(num_qubits))\n",
        "    qml.Barrier()\n",
        "    qml.layer(efq_subroutine_2, 1, input_array = input_array, wires=range(num_qubits))\n",
        "    qml.Barrier()\n",
        "    qml.layer(efq_subroutine_3, 1, weights.reshape((1, 12*num_qubits)), wires=range(num_qubits))\n",
        "    qml.layer(efq_subroutine_4, 1, wires=range(num_qubits))\n",
        "    return qml.expval(qml.PauliZ(0))"
      ]
    },
    {
      "cell_type": "code",
      "execution_count": null,
      "metadata": {
        "collapsed": true,
        "id": "CpySUk9nRwNP"
      },
      "outputs": [],
      "source": [
        "print(qml.draw(efq_circuit)(torch.ones((12*num_qubits,)), torch.ones(num_qubits)))"
      ]
    },
    {
      "cell_type": "code",
      "execution_count": null,
      "metadata": {
        "id": "TjwNG_DPfAtW"
      },
      "outputs": [],
      "source": [
        "# @title PQN QDI QDI layer\n",
        "@qml.qnode(dev, interface='torch', diff_method=\"adjoint\")\n",
        "def pqn_circuit(weights, input_array):\n",
        "    qml.layer(qdi_subroutine_1, repeats1, weights[:repeats1 * num_qubits//2].reshape(repeats1, num_qubits//2), wires=[0,1])\n",
        "    qml.layer(qdi_subroutine_1, repeats1, weights[(repeats1+repeats2)*num_qubits//2:(2*repeats1+repeats2) * num_qubits//2].reshape(repeats1, num_qubits//2), wires=[2,3])\n",
        "    qml.AngleEmbedding(input_array, wires=range(num_qubits), rotation='Z')\n",
        "    qml.layer(qdi_subroutine_2, repeats2, weights[repeats1 * num_qubits//2:(repeats1+repeats2)*num_qubits//2].reshape(repeats2, num_qubits//2), wires=[0,1])\n",
        "    qml.layer(qdi_subroutine_2, repeats2, weights[(2*repeats1+repeats2) * num_qubits//2:].reshape(repeats2, num_qubits//2), wires=[2,3])\n",
        "    qml.layer(qdi_subroutine_3, 1, wires=[0, 1])\n",
        "    qml.layer(qdi_subroutine_3, 1, wires=[2, 3])\n",
        "\n",
        "\n",
        "    return [qml.expval(qml.PauliY(w)) for w in [0, 2]]"
      ]
    },
    {
      "cell_type": "code",
      "execution_count": null,
      "metadata": {
        "id": "Z2h7AxM4iO0b"
      },
      "outputs": [],
      "source": [
        "print(qml.draw(pqn_circuit)(np.ones(((repeats1 + repeats2) * num_qubits,)), np.ones(num_qubits)))"
      ]
    },
    {
      "cell_type": "code",
      "execution_count": null,
      "metadata": {
        "id": "I5iScbqNcbDj"
      },
      "outputs": [],
      "source": [
        "class QDIHybridModel(nn.Module):\n",
        "    def __init__(self):\n",
        "        super(QDIHybridModel, self).__init__()\n",
        "        self.classical_layer = nn.Linear(input_dim, reduced_dim)\n",
        "        self.q_params = nn.Parameter(torch.randn((repeats1 + repeats2) * num_qubits))\n",
        "    def forward(self, x):\n",
        "        x = torch.relu(self.classical_layer(x))\n",
        "        q_out = torch.zeros(x.size(0), device=device)\n",
        "        for i in range(x.size(0)):\n",
        "            q_out[i] = qdi_circuit(self.q_params, x[i])\n",
        "        return torch.sigmoid(q_out)"
      ]
    },
    {
      "cell_type": "code",
      "execution_count": null,
      "metadata": {
        "id": "ShE-nVFQ50Hf"
      },
      "outputs": [],
      "source": [
        "class EFQHybridModel(nn.Module):\n",
        "    def __init__(self):\n",
        "        super(EFQHybridModel, self).__init__()\n",
        "        self.classical_layer = nn.Linear(input_dim, reduced_dim)\n",
        "        self.q_params = nn.Parameter(torch.randn(12*num_qubits))\n",
        "    def forward(self, x):\n",
        "        x = torch.relu(self.classical_layer(x))\n",
        "        q_out = torch.zeros(x.size(0), device=device)\n",
        "        for i in range(x.size(0)):\n",
        "            q_out[i] = efq_circuit(self.q_params, x[i])\n",
        "        return torch.sigmoid(q_out)"
      ]
    },
    {
      "cell_type": "code",
      "execution_count": null,
      "metadata": {
        "id": "FfUq7U9iopBS"
      },
      "outputs": [],
      "source": [
        "class PQNHybridModel(nn.Module):\n",
        "    def __init__(self):\n",
        "        super(PQNHybridModel, self).__init__()\n",
        "        self.classical_layer_1 = nn.Linear(input_dim, reduced_dim)\n",
        "        self.classical_layer_2 = nn.Linear(reduced_dim//2, 1)\n",
        "        self.q_params = nn.Parameter(torch.randn((repeats1 + repeats2) * num_qubits))\n",
        "    def forward(self, x):\n",
        "        x = torch.relu(self.classical_layer_1(x))\n",
        "        q_out = torch.zeros((x.size(0), 2), device=device)\n",
        "        for i in range(x.size(0)):\n",
        "            q_out[i] = torch.tensor(pqn_circuit(self.q_params, x[i]), device = device)\n",
        "        output = self.classical_layer_2(q_out)\n",
        "        return torch.sigmoid(output).squeeze(1)"
      ]
    },
    {
      "cell_type": "code",
      "execution_count": null,
      "metadata": {
        "id": "0_ThLVVTeGq1"
      },
      "outputs": [],
      "source": [
        "criterion = nn.BCELoss()"
      ]
    },
    {
      "cell_type": "code",
      "execution_count": null,
      "metadata": {
        "id": "NZZBmoNjgrgk"
      },
      "outputs": [],
      "source": [
        "def train(model, criterion, optimizer,\n",
        "          train_dataloader, test_dataloader, num_epochs):\n",
        "\n",
        "    train_losses = np.zeros(num_epochs)\n",
        "\n",
        "    test_accuracy_arr = np.zeros(num_epochs)\n",
        "\n",
        "    for i_epoch in tqdm(range(num_epochs)):\n",
        "        train_loss = 0\n",
        "        test_accuracy = 0\n",
        "\n",
        "        model.train()\n",
        "        for batch in train_dataloader:\n",
        "            X = batch[0].to(device)\n",
        "            y = batch[1].to(device)\n",
        "\n",
        "            preds = model(X)\n",
        "\n",
        "            optimizer.zero_grad()\n",
        "            loss = criterion(preds, y)\n",
        "            loss.backward()\n",
        "            optimizer.step()\n",
        "\n",
        "            train_loss += loss.detach().cpu().numpy()\n",
        "\n",
        "        train_loss /= len(train_dataloader)\n",
        "        train_losses[i_epoch] = train_loss\n",
        "\n",
        "        model.eval()\n",
        "        for batch in test_dataloader:\n",
        "            X = batch[0].to(device)\n",
        "            y = batch[1].to(device)\n",
        "\n",
        "            with torch.no_grad():\n",
        "                preds = model(X)\n",
        "                test_accuracy += (preds.argmax(-1) == y).cpu().numpy().mean()\n",
        "\n",
        "        test_accuracy /= len(test_dataloader)\n",
        "\n",
        "        test_accuracy_arr[i_epoch] = test_accuracy\n",
        "\n",
        "    return train_losses, test_accuracy_arr"
      ]
    },
    {
      "cell_type": "code",
      "execution_count": null,
      "metadata": {
        "id": "7tKcnGWd54i8"
      },
      "outputs": [],
      "source": [
        "QDI_model = QDIHybridModel().to(device)\n",
        "optimizer_for_qdi = optim.Adam(QDI_model.parameters(), lr=learning_rate)"
      ]
    },
    {
      "cell_type": "code",
      "execution_count": null,
      "metadata": {
        "id": "4Tpm4p6WgDUl"
      },
      "outputs": [],
      "source": [
        "EFQ_model = EFQHybridModel().to(device)\n",
        "optimizer_for_efq = optim.Adam(EFQ_model.parameters(), lr=learning_rate)"
      ]
    },
    {
      "cell_type": "code",
      "execution_count": null,
      "metadata": {
        "id": "Z4Iyc3K4hG8d"
      },
      "outputs": [],
      "source": [
        "PQN_model = PQNHybridModel().to(device)\n",
        "optimizer_for_pqn = optim.Adam(PQN_model.parameters(), lr=learning_rate)"
      ]
    },
    {
      "cell_type": "code",
      "execution_count": null,
      "metadata": {
        "id": "sxv0t7loH3zf"
      },
      "outputs": [],
      "source": [
        "QDI_losses, \\\n",
        "    QDI_accuracies = train(QDI_model, criterion=criterion,\n",
        "                              optimizer=optimizer_for_qdi,\n",
        "                              train_dataloader=train_dataloader,\n",
        "                              test_dataloader=test_dataloader,\n",
        "                              num_epochs=epochs)"
      ]
    },
    {
      "cell_type": "code",
      "execution_count": null,
      "metadata": {
        "collapsed": true,
        "id": "fg5UTY0OMYFA"
      },
      "outputs": [],
      "source": [
        "EFQ_losses, \\\n",
        "    EFQ_accuracies = train(EFQ_model, criterion=criterion,\n",
        "                              optimizer=optimizer_for_efq,\n",
        "                              train_dataloader=train_dataloader,\n",
        "                              test_dataloader=test_dataloader,\n",
        "                              num_epochs=epochs)"
      ]
    },
    {
      "cell_type": "code",
      "execution_count": null,
      "metadata": {
        "id": "VRYcgnRGMglq"
      },
      "outputs": [],
      "source": [
        "PQN_losses, \\\n",
        "    PQN_accuracies = train(PQN_model, criterion=criterion,\n",
        "                              optimizer=optimizer_for_pqn,\n",
        "                              train_dataloader=train_dataloader,\n",
        "                              test_dataloader=test_dataloader,\n",
        "                              num_epochs=epochs)"
      ]
    },
    {
      "cell_type": "code",
      "execution_count": null,
      "metadata": {
        "id": "Sdl0GFagmVbW"
      },
      "outputs": [],
      "source": [
        "fig, ax = plt.subplots(1, 2, figsize = (15, 5))\n",
        "# ax.set_title('Comparison of QDI, EFQ and PQN performances for noiseless case')\n",
        "\n",
        "ax[0].plot(np.arange(1, QDI_losses.shape[0] + 1), QDI_losses, label='QDI')\n",
        "ax[0].plot(np.arange(1, EFQ_losses.shape[0] + 1), EFQ_losses, label='EFQ')\n",
        "ax[0].plot(np.arange(1, PQN_losses.shape[0] + 1), PQN_losses, label='PQN')\n",
        "ax[0].set_xticks(np.arange(1, QDI_losses.shape[0] + 1, 4))\n",
        "ax[0].set_xlabel('num_epoch')\n",
        "ax[0].set_ylabel('loss')\n",
        "ax[0].legend()\n",
        "ax[0].grid()\n",
        "\n",
        "ax[1].plot(np.arange(QDI_accuracies.shape[0]), QDI_accuracies,\n",
        "           label='QDI')\n",
        "ax[1].plot(np.arange(EFQ_accuracies.shape[0]), EFQ_accuracies,\n",
        "           label='EFQ')\n",
        "ax[1].plot(np.arange(PQN_accuracies.shape[0]), PQN_accuracies,\n",
        "           label='PQN')\n",
        "ax[1].set_xticks(np.arange(0, PQN_accuracies.shape[0], 4))\n",
        "ax[1].set_xlabel('num_epoch')\n",
        "ax[1].set_ylabel('accuracy')\n",
        "ax[1].legend()\n",
        "ax[1].grid()\n",
        "plt.title('Comparison of performances of QDI, EFQ and PQN layers for noiseless case')\n",
        "plt.show()"
      ]
    },
    {
      "cell_type": "markdown",
      "metadata": {
        "id": "nlFljpXQpOVh"
      },
      "source": [
        "# Simulator with noise model specific to IBM Sherbrooke"
      ]
    },
    {
      "cell_type": "code",
      "execution_count": null,
      "metadata": {
        "id": "eq3vaGiGqZtE"
      },
      "outputs": [],
      "source": [
        "from qiskit_aer import noise\n",
        "from qiskit_ibm_runtime import QiskitRuntimeService\n",
        "from qiskit_ibm_provider import IBMProvider\n",
        "from qiskit_aer.noise import (\n",
        "    NoiseModel,\n",
        "    QuantumError,\n",
        "    ReadoutError,\n",
        "    depolarizing_error,\n",
        "    pauli_error,\n",
        "    thermal_relaxation_error,\n",
        ")\n",
        "\n",
        "IBMProvider.save_account(token='my token',\n",
        "                         overwrite=True)\n",
        "service = QiskitRuntimeService()\n",
        "backend = service.backend(\"ibm_sherbrooke\")\n",
        "noise_model = NoiseModel.from_backend(backend)\n",
        "dev = qml.device('qiskit.aer', wires=range(num_qubits), noise_model=noise_model)"
      ]
    },
    {
      "cell_type": "code",
      "execution_count": null,
      "metadata": {
        "id": "kaYYAErarlgy"
      },
      "outputs": [],
      "source": [
        "@qml.qnode(dev, interface='torch')\n",
        "def qdi_circuit(weights, input_array):\n",
        "    qml.layer(qdi_subroutine_1, repeats1, weights[:repeats1 * num_qubits].reshape(repeats1, num_qubits), wires=range(num_qubits))\n",
        "    qml.AngleEmbedding(input_array, wires=range(num_qubits), rotation='Z')\n",
        "    qml.layer(qdi_subroutine_2, repeats2, weights[repeats1 * num_qubits:].reshape(repeats2, num_qubits), wires=range(num_qubits))\n",
        "    qml.layer(qdi_subroutine_3, 1, wires=range(num_qubits))\n",
        "    return qml.expval(qml.PauliY(0))\n",
        "@qml.qnode(dev, interface=\"torch\")\n",
        "def efq_circuit(weights, input_array):\n",
        "    qml.layer(efq_subroutine_1, 1, weights.reshape((1, 12*num_qubits)), wires=range(num_qubits))\n",
        "    qml.Barrier()\n",
        "    qml.layer(efq_subroutine_2, 1, input_array = input_array, wires=range(num_qubits))\n",
        "    qml.Barrier()\n",
        "    qml.layer(efq_subroutine_3, 1, weights.reshape((1, 12*num_qubits)), wires=range(num_qubits))\n",
        "    qml.layer(efq_subroutine_4, 1, wires=range(num_qubits))\n",
        "    return qml.expval(qml.PauliZ(0))\n",
        "@qml.qnode(dev, interface='torch')\n",
        "def pqn_circuit(weights, input_array):\n",
        "    qml.layer(qdi_subroutine_1, repeats1, weights[:repeats1 * num_qubits//2].reshape(repeats1, num_qubits//2), wires=[0,1])\n",
        "    qml.layer(qdi_subroutine_1, repeats1, weights[(repeats1+repeats2)*num_qubits//2:(2*repeats1+repeats2) * num_qubits//2].reshape(repeats1, num_qubits//2), wires=[2,3])\n",
        "    qml.AngleEmbedding(input_array, wires=range(num_qubits), rotation='Z')\n",
        "    qml.layer(qdi_subroutine_2, repeats2, weights[repeats1 * num_qubits//2:(repeats1+repeats2)*num_qubits//2].reshape(repeats2, num_qubits//2), wires=[0,1])\n",
        "    qml.layer(qdi_subroutine_2, repeats2, weights[(2*repeats1+repeats2) * num_qubits//2:].reshape(repeats2, num_qubits//2), wires=[2,3])\n",
        "    qml.layer(qdi_subroutine_3, 1, wires=[0, 1])\n",
        "    qml.layer(qdi_subroutine_3, 1, wires=[2, 3])\n",
        "    return [qml.expval(qml.PauliY(w)) for w in [0, 2]]"
      ]
    },
    {
      "cell_type": "code",
      "execution_count": null,
      "metadata": {
        "id": "Q9uMdeQlvSQc"
      },
      "outputs": [],
      "source": [
        "class QDIHybridModel_nsy(nn.Module):\n",
        "    def __init__(self):\n",
        "        super(QDIHybridModel_nsy, self).__init__()\n",
        "        self.classical_layer = nn.Linear(input_dim, reduced_dim)\n",
        "        self.q_params = nn.Parameter(torch.randn((repeats1 + repeats2) * num_qubits))\n",
        "    def forward(self, x):\n",
        "        x = torch.relu(self.classical_layer(x))\n",
        "        q_out = torch.zeros(x.size(0), device=device)\n",
        "        for i in range(x.size(0)):\n",
        "            q_out[i] = qdi_circuit(self.q_params, x[i])\n",
        "        return torch.sigmoid(q_out)"
      ]
    },
    {
      "cell_type": "code",
      "execution_count": null,
      "metadata": {
        "id": "9agjU9KRvSQr"
      },
      "outputs": [],
      "source": [
        "class EFQHybridModel_nsy(nn.Module):\n",
        "    def __init__(self):\n",
        "        super(EFQHybridModel_nsy, self).__init__()\n",
        "        self.classical_layer = nn.Linear(input_dim, reduced_dim)\n",
        "        self.q_params = nn.Parameter(torch.randn(12*num_qubits))\n",
        "    def forward(self, x):\n",
        "        x = torch.relu(self.classical_layer(x))\n",
        "        q_out = torch.zeros(x.size(0), device=device)\n",
        "        for i in range(x.size(0)):\n",
        "            q_out[i] = efq_circuit(self.q_params, x[i])\n",
        "        return torch.sigmoid(q_out)"
      ]
    },
    {
      "cell_type": "code",
      "execution_count": null,
      "metadata": {
        "id": "NEkTcuhyvSQs"
      },
      "outputs": [],
      "source": [
        "class PQNHybridModel_nsy(nn.Module):\n",
        "    def __init__(self):\n",
        "        super(PQNHybridModel_nsy, self).__init__()\n",
        "        self.classical_layer_1 = nn.Linear(input_dim, reduced_dim)\n",
        "        self.classical_layer_2 = nn.Linear(reduced_dim//2, 1)\n",
        "        self.q_params = nn.Parameter(torch.randn((repeats1 + repeats2) * num_qubits))\n",
        "    def forward(self, x):\n",
        "        x = torch.relu(self.classical_layer_1(x))\n",
        "        q_out = torch.zeros((x.size(0), 2), device=device)\n",
        "        for i in range(x.size(0)):\n",
        "            q_out[i] = torch.tensor(pqn_circuit(self.q_params, x[i]), device = device)\n",
        "        output = self.classical_layer_2(q_out)\n",
        "        return torch.sigmoid(output).squeeze(1)"
      ]
    },
    {
      "cell_type": "code",
      "execution_count": null,
      "metadata": {
        "id": "czfTNK8GvSQt"
      },
      "outputs": [],
      "source": [
        "criterion = nn.BCELoss()\n"
      ]
    },
    {
      "cell_type": "code",
      "execution_count": null,
      "metadata": {
        "id": "7AFPW8k6vSQt"
      },
      "outputs": [],
      "source": [
        "QDI_model_nsy = QDIHybridModel_nsy().to(device)\n",
        "optimizer_for_nsy_qdi = optim.Adam(QDI_model_nsy.parameters(), lr=learning_rate)"
      ]
    },
    {
      "cell_type": "code",
      "execution_count": null,
      "metadata": {
        "id": "mSl7G_zPvSQu"
      },
      "outputs": [],
      "source": [
        "EFQ_model_nsy = EFQHybridModel_nsy().to(device)\n",
        "optimizer_for_nsy_efq = optim.Adam(EFQ_model_nsy.parameters(), lr=learning_rate)"
      ]
    },
    {
      "cell_type": "code",
      "execution_count": null,
      "metadata": {
        "id": "OTrF4MVQvSQv"
      },
      "outputs": [],
      "source": [
        "PQN_model_nsy = PQNHybridModel_nsy().to(device)\n",
        "optimizer_for_nsy_pqn = optim.Adam(PQN_model_nsy.parameters(), lr=learning_rate)"
      ]
    },
    {
      "cell_type": "code",
      "execution_count": null,
      "metadata": {
        "id": "se6AVPehROwx"
      },
      "outputs": [],
      "source": [
        "QDI_losses_nsy, \\\n",
        "    QDI_accuracies_nsy = train(QDI_model_nsy, criterion=criterion,\n",
        "                              optimizer=optimizer_for_nsy_qdi,\n",
        "                              train_dataloader=train_dataloader,\n",
        "                              test_dataloader=test_dataloader,\n",
        "                              num_epochs=epochs)"
      ]
    },
    {
      "cell_type": "code",
      "execution_count": null,
      "metadata": {
        "collapsed": true,
        "id": "pyB6Hbp-ROxB"
      },
      "outputs": [],
      "source": [
        "EFQ_losses_nsy, \\\n",
        "    EFQ_accuracies_nsy = train(EFQ_model_nsy, criterion=criterion,\n",
        "                              optimizer=optimizer_for_nsy_efq,\n",
        "                              train_dataloader=train_dataloader,\n",
        "                              test_dataloader=test_dataloader,\n",
        "                              num_epochs=epochs)"
      ]
    },
    {
      "cell_type": "code",
      "execution_count": null,
      "metadata": {
        "id": "DjUNzuvDROxB"
      },
      "outputs": [],
      "source": [
        "PQN_losses_nsy, \\\n",
        "    PQN_accuracies_nsy = train(PQN_model_nsy, criterion=criterion,\n",
        "                              optimizer=optimizer_for_nsy_pqn,\n",
        "                              train_dataloader=train_dataloader,\n",
        "                              test_dataloader=test_dataloader,\n",
        "                              num_epochs=epochs)"
      ]
    },
    {
      "cell_type": "code",
      "execution_count": null,
      "metadata": {
        "id": "Eh48-NyQvSQw"
      },
      "outputs": [],
      "source": [
        "fig, ax = plt.subplots(1, 2, figsize = (15, 5))\n",
        "\n",
        "ax[0].plot(np.arange(1, QDI_losses_nsy.shape[0] + 1), QDI_losses_nsy, label='QDI')\n",
        "ax[0].plot(np.arange(1, EFQ_losses_nsy.shape[0] + 1), EFQ_losses_nsy, label='EFQ')\n",
        "ax[0].plot(np.arange(1, PQN_losses_nsy.shape[0] + 1), PQN_losses_nsy, label='PQN')\n",
        "ax[0].set_xticks(np.arange(1, QDI_losses_nsy.shape[0]+ 1, 4))\n",
        "ax[0].set_xlabel('num_epoch')\n",
        "ax[0].set_ylabel('loss')\n",
        "ax[0].legend()\n",
        "ax[0].grid()\n",
        "\n",
        "ax[1].plot(np.arange(QDI_accuracies_nsy.shape[0]), QDI_accuracies_nsy,\n",
        "           label='QDI')\n",
        "ax[1].plot(np.arange(EFQ_accuracies_nsy.shape[0]), EFQ_accuracies_nsy,\n",
        "           label='EFQ')\n",
        "ax[1].plot(np.arange(PQN_accuracies_nsy.shape[0]), PQN_accuracies_nsy,\n",
        "           label='PQN')\n",
        "ax[1].set_xticks(np.arange(0, PQN_accuracies_nsy.shape[0], 4))\n",
        "ax[1].set_xlabel('num_epoch')\n",
        "ax[1].set_ylabel('accuracy')\n",
        "ax[1].legend()\n",
        "ax[1].grid()\n",
        "plt.title('Comparison of performances of QDI, EFQ and PQN layers for noisy case')\n",
        "plt.show()"
      ]
    },
    {
      "cell_type": "code",
      "execution_count": null,
      "metadata": {
        "id": "IHxLsHdCzGrr"
      },
      "outputs": [],
      "source": [
        "fig, ax = plt.subplots(2, 3, figsize = (15, 5))\n",
        "\n",
        "ax[0, 0].plot(np.arange(1, QDI_losses.shape[0] + 1), QDI_losses, label='QDI, noiseless case')\n",
        "ax[0, 0].plot(np.arange(1, QDI_losses_nsy.shape[0] + 1), QDI_losses_nsy, label='QDI, noisy case')\n",
        "ax[0, 0].set_xticks(np.arange(1, QDI_losses_nsy.shape[0] + 1, 4))\n",
        "ax[0, 0].set_xlabel('num_epoch')\n",
        "ax[0, 0].set_ylabel('loss')\n",
        "ax[0, 0].legend()\n",
        "ax[0, 0].grid()\n",
        "\n",
        "ax[0, 1].plot(np.arange(1, EFQ_losses.shape[0] + 1), EFQ_losses, label='EFQ, noiseless case')\n",
        "ax[0, 1].plot(np.arange(1, EFQ_losses_nsy.shape[0] + 1), EFQ_losses_nsy, label='EFQ, noisy case')\n",
        "ax[0, 1].set_xticks(np.arange(1, EFQ_losses_nsy.shape[0] + 1, 4))\n",
        "ax[0, 1].set_xlabel('num_epoch')\n",
        "ax[0, 1].set_ylabel('loss')\n",
        "ax[0, 1].legend()\n",
        "ax[0, 1].grid()\n",
        "\n",
        "ax[0, 2].plot(np.arange(1, PQN_losses.shape[0] + 1), PQN_losses, label='PQN, noiseless case')\n",
        "ax[0, 2].plot(np.arange(1, PQN_losses_nsy.shape[0] + 1), PQN_losses_nsy, label='PQN, noisy case')\n",
        "ax[0, 2].set_xticks(np.arange(1, PQN_losses_nsy.shape[0]+ 1, 4))\n",
        "ax[0, 2].set_xlabel('num_epoch')\n",
        "ax[0, 2].set_ylabel('loss')\n",
        "ax[0, 2].legend()\n",
        "ax[0, 2].grid()\n",
        "\n",
        "ax[1, 0].plot(np.arange(QDI_accuracies.shape[0]), QDI_accuracies, label='QDI, noiseless case')\n",
        "ax[1, 0].plot(np.arange(QDI_accuracies_nsy.shape[0]), QDI_accuracies_nsy, label='QDI, noisy case')\n",
        "ax[1, 0].set_xticks(np.arange(0, QDI_accuracies_nsy.shape[0], 4))\n",
        "ax[1, 0].set_xlabel('num_epoch')\n",
        "ax[1, 0].set_ylabel('accuracy')\n",
        "ax[1, 0].legend()\n",
        "ax[1, 0].grid()\n",
        "\n",
        "ax[1, 1].plot(np.arange(EFQ_accuracies.shape[0]), EFQ_accuracies, label='EFQ, noiseless case')\n",
        "ax[1, 1].plot(np.arange((EFQ_accuracies_nsy)), EFQ_accuracies_nsy, label='EFQ, noisy case')\n",
        "ax[1, 1].set_xticks(np.arange(0, EFQ_accuracies_nsy.shape[0], 4))\n",
        "ax[1, 1].set_xlabel('num_epoch')\n",
        "ax[1, 1].set_ylabel('accuracy')\n",
        "ax[1, 1].legend()\n",
        "ax[1, 1].grid()\n",
        "\n",
        "ax[1, 2].plot(np.arange(PQN_accuracies.shape[0]), PQN_accuracies, label='PQN, noiseless case')\n",
        "ax[1, 2].plot(np.arange(PQN_accuracies_nsy.shape[0]), PQN_accuracies_nsy, label='PQN, noisy case')\n",
        "ax[1, 2].set_xticks(np.arange(0, PQN_accuracies_nsy.shape[0], 4))\n",
        "ax[1, 2].set_xlabel('num_epoch')\n",
        "ax[1, 2].set_ylabel('accuracy')\n",
        "ax[1, 2].legend()\n",
        "ax[1, 2].grid()\n",
        "plt.title(\"Comparison performances of layers for noiseless and noisy cases\")\n",
        "\n",
        "plt.show()"
      ]
    },
    {
      "cell_type": "markdown",
      "metadata": {
        "id": "IPR68JULtD6i"
      },
      "source": [
        "# Forward pass with the IBM Sherbrooke device"
      ]
    },
    {
      "cell_type": "code",
      "execution_count": null,
      "metadata": {
        "id": "355uskdkt2SY"
      },
      "outputs": [],
      "source": [
        "dev = qml.device(\"qiskit.ibmq\", wires=range(num_qubits), backend=backend)"
      ]
    },
    {
      "cell_type": "code",
      "execution_count": null,
      "metadata": {
        "id": "azpqLMfLyIVo"
      },
      "outputs": [],
      "source": [
        "@qml.qnode(dev, interface='torch')\n",
        "def qdi_circuit_for_ibmq(weights, input_array):\n",
        "    qml.layer(qdi_subroutine_1, repeats1, weights[:repeats1 * num_qubits].reshape(repeats1, num_qubits), wires=range(num_qubits))\n",
        "    qml.AngleEmbedding(input_array, wires=range(num_qubits), rotation='Z')\n",
        "    qml.layer(qdi_subroutine_2, repeats2, weights[repeats1 * num_qubits:].reshape(repeats2, num_qubits), wires=range(num_qubits))\n",
        "    qml.layer(qdi_subroutine_3, 1, wires=range(num_qubits))\n",
        "    return qml.expval(qml.PauliY(0))"
      ]
    },
    {
      "cell_type": "code",
      "execution_count": null,
      "metadata": {
        "id": "2DTZC0c_yXw-"
      },
      "outputs": [],
      "source": [
        "class QDIHybridModel_ibmq_unmitigated(nn.Module):\n",
        "    def __init__(self):\n",
        "        super(QDIHybridModel_ibmq_unmitigated, self).__init__()\n",
        "        self.classical_layer = nn.Linear(input_dim, reduced_dim)\n",
        "        self.q_params = nn.Parameter(torch.randn((repeats1 + repeats2) * num_qubits))\n",
        "    def forward(self, x):\n",
        "        x = torch.relu(self.classical_layer(x))\n",
        "        q_out = torch.zeros(x.size(0), device=device)\n",
        "        for i in range(x.size(0)):\n",
        "            q_out[i] = qdi_circuit_for_ibmq(self.q_params, x[i])\n",
        "        return torch.sigmoid(q_out)"
      ]
    },
    {
      "cell_type": "code",
      "execution_count": null,
      "metadata": {
        "id": "5ZtWDdNCzLPw"
      },
      "outputs": [],
      "source": [
        "QDI_model_ibmq = QDIHybridModel_ibmq_unmitigated().to(device)"
      ]
    },
    {
      "cell_type": "code",
      "execution_count": null,
      "metadata": {
        "id": "JHUOhwPusUMM"
      },
      "outputs": [],
      "source": [
        "QDI_model_ibmq.load_state_dict(QDI_model.state_dict())"
      ]
    },
    {
      "cell_type": "code",
      "execution_count": null,
      "metadata": {
        "id": "sPnqdCFBzBzr"
      },
      "outputs": [],
      "source": [
        "unmitigated_accuracy = 0\n",
        "\n",
        "QDI_model_ibmq.eval()\n",
        "for batch in test_dataloader:\n",
        "    X = batch[0].to(device)\n",
        "    y = batch[1].to(device)\n",
        "\n",
        "    with torch.no_grad():\n",
        "        preds = QDI_model_ibmq(X)\n",
        "        unmitigated_accuracy += (preds.argmax(-1) == y).cpu().numpy().mean()\n",
        "\n",
        "unmitigated_accuracy /= len(test_dataloader)\n",
        "print(f\"Unmitigated accuracy {unmitigated_accuracy:.3f}\")"
      ]
    },
    {
      "cell_type": "code",
      "execution_count": null,
      "metadata": {
        "id": "IkFDV4ik-3Rd"
      },
      "outputs": [],
      "source": [
        "from mitiq.zne.scaling import fold_global\n",
        "from mitiq.zne.inference import RichardsonFactory\n",
        "\n",
        "scale_factors = [1, 2, 3]\n",
        "noise_scale_method = fold_global\n",
        "\n",
        "mitigated_qdi_circuit = qml.transforms.mitigate_with_zne(\n",
        "    qdi_circuit_for_ibmq,\n",
        "    scale_factors,\n",
        "    noise_scale_method,\n",
        "    RichardsonFactory.extrapolate,\n",
        ")"
      ]
    },
    {
      "cell_type": "code",
      "execution_count": null,
      "metadata": {
        "id": "317FcjXL_Xed"
      },
      "outputs": [],
      "source": [
        "class QDIHybridModel_ibmq_mitigated(nn.Module):\n",
        "    def __init__(self):\n",
        "        super(QDIHybridModel_ibmq_mitigated, self).__init__()\n",
        "        self.classical_layer = nn.Linear(input_dim, reduced_dim)\n",
        "        self.q_params = nn.Parameter(torch.randn((repeats1 + repeats2) * num_qubits))\n",
        "    def forward(self, x):\n",
        "        x = torch.relu(self.classical_layer(x))\n",
        "        q_out = torch.zeros(x.size(0), device=device)\n",
        "        for i in range(x.size(0)):\n",
        "            q_out[i] = mitigated_qdi_circuit(self.q_params, x[i])\n",
        "        return torch.sigmoid(q_out)"
      ]
    },
    {
      "cell_type": "code",
      "execution_count": null,
      "metadata": {
        "id": "jwnv8jQN_k1b"
      },
      "outputs": [],
      "source": [
        "QDI_model_ibmq = QDIHybridModel_ibmq_mitigated().to(device)"
      ]
    },
    {
      "cell_type": "code",
      "execution_count": null,
      "metadata": {
        "id": "osYRn3LmtvMx"
      },
      "outputs": [],
      "source": [
        "QDI_model_ibmq.load_state_dict(QDI_model.state_dict())"
      ]
    },
    {
      "cell_type": "code",
      "execution_count": null,
      "metadata": {
        "id": "F-6jEXLv_pBo"
      },
      "outputs": [],
      "source": [
        "mitigated_accuracy = 0\n",
        "\n",
        "QDI_model_ibmq.eval()\n",
        "for batch in test_dataloader:\n",
        "    X = batch[0].to(device)\n",
        "    y = batch[1].to(device)\n",
        "\n",
        "    with torch.no_grad():\n",
        "        preds = QDI_model_ibmq(X)\n",
        "        mitigated_accuracy += (preds.argmax(-1) == y).cpu().numpy().mean()\n",
        "\n",
        "mitigated_accuracy /= len(test_dataloader)\n",
        "print(f\"Mitigated accuracy {mitigated_accuracy:.3f}\")"
      ]
    },
    {
      "cell_type": "code",
      "execution_count": null,
      "metadata": {
        "id": "zAO6r8Or_vZQ"
      },
      "outputs": [],
      "source": [
        "print(f\"Unmitigated accuracy {unmitigated_accuracy:.3f}\")\n",
        "print(f\"Mitigated accuracy {mitigated_accuracy:.3f}\")"
      ]
    }
  ],
  "metadata": {
    "accelerator": "GPU",
    "colab": {
      "gpuType": "T4",
      "provenance": [],
      "include_colab_link": true
    },
    "kernelspec": {
      "display_name": "Python 3",
      "name": "python3"
    },
    "language_info": {
      "name": "python"
    }
  },
  "nbformat": 4,
  "nbformat_minor": 0
}