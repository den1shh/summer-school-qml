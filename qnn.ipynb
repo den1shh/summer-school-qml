{
  "cells": [
    {
      "cell_type": "markdown",
      "metadata": {
        "id": "view-in-github",
        "colab_type": "text"
      },
      "source": [
        "<a href=\"https://colab.research.google.com/github/den1shh/summer-school-qml/blob/main/qnn.ipynb\" target=\"_parent\"><img src=\"https://colab.research.google.com/assets/colab-badge.svg\" alt=\"Open In Colab\"/></a>"
      ]
    },
    {
      "cell_type": "markdown",
      "source": [
        "# Building a binary classificator using quantum layers"
      ],
      "metadata": {
        "id": "SW5IfP_q5Otc"
      }
    },
    {
      "cell_type": "markdown",
      "source": [
        "Required installations and imports:"
      ],
      "metadata": {
        "id": "hH-kWXiA3yVs"
      }
    },
    {
      "cell_type": "code",
      "execution_count": 2,
      "metadata": {
        "collapsed": true,
        "id": "PNLus8UehOVs",
        "colab": {
          "base_uri": "https://localhost:8080/"
        },
        "outputId": "c3ce3536-839c-49aa-d34d-cfbdee484580"
      },
      "outputs": [
        {
          "output_type": "stream",
          "name": "stdout",
          "text": [
            "Collecting pennylane\n",
            "  Downloading PennyLane-0.37.0-py3-none-any.whl.metadata (9.3 kB)\n",
            "Collecting qiskit\n",
            "  Downloading qiskit-1.1.2-cp38-abi3-manylinux_2_17_x86_64.manylinux2014_x86_64.whl.metadata (12 kB)\n",
            "Collecting pennylane-qiskit\n",
            "  Downloading PennyLane_qiskit-0.37.0-py3-none-any.whl.metadata (7.0 kB)\n",
            "Collecting ply\n",
            "  Downloading ply-3.11-py2.py3-none-any.whl.metadata (844 bytes)\n",
            "Collecting mitiq\n",
            "  Downloading mitiq-0.39.0-py3-none-any.whl.metadata (18 kB)\n",
            "Requirement already satisfied: numpy<2.0 in /usr/local/lib/python3.10/dist-packages (from pennylane) (1.26.4)\n",
            "Requirement already satisfied: scipy in /usr/local/lib/python3.10/dist-packages (from pennylane) (1.13.1)\n",
            "Requirement already satisfied: networkx in /usr/local/lib/python3.10/dist-packages (from pennylane) (3.3)\n",
            "Collecting rustworkx (from pennylane)\n",
            "  Downloading rustworkx-0.15.1-cp38-abi3-manylinux_2_17_x86_64.manylinux2014_x86_64.whl.metadata (9.9 kB)\n",
            "Requirement already satisfied: autograd in /usr/local/lib/python3.10/dist-packages (from pennylane) (1.6.2)\n",
            "Requirement already satisfied: toml in /usr/local/lib/python3.10/dist-packages (from pennylane) (0.10.2)\n",
            "Collecting appdirs (from pennylane)\n",
            "  Downloading appdirs-1.4.4-py2.py3-none-any.whl.metadata (9.0 kB)\n",
            "Collecting semantic-version>=2.7 (from pennylane)\n",
            "  Downloading semantic_version-2.10.0-py2.py3-none-any.whl.metadata (9.7 kB)\n",
            "Collecting autoray>=0.6.11 (from pennylane)\n",
            "  Downloading autoray-0.6.12-py3-none-any.whl.metadata (5.7 kB)\n",
            "Requirement already satisfied: cachetools in /usr/local/lib/python3.10/dist-packages (from pennylane) (5.4.0)\n",
            "Collecting pennylane-lightning>=0.37 (from pennylane)\n",
            "  Downloading PennyLane_Lightning-0.37.0-cp310-cp310-manylinux_2_28_x86_64.whl.metadata (23 kB)\n",
            "Requirement already satisfied: requests in /usr/local/lib/python3.10/dist-packages (from pennylane) (2.32.3)\n",
            "Requirement already satisfied: typing-extensions in /usr/local/lib/python3.10/dist-packages (from pennylane) (4.12.2)\n",
            "Requirement already satisfied: packaging in /usr/local/lib/python3.10/dist-packages (from pennylane) (24.1)\n",
            "Requirement already satisfied: sympy>=1.3 in /usr/local/lib/python3.10/dist-packages (from qiskit) (1.13.1)\n",
            "Collecting dill>=0.3 (from qiskit)\n",
            "  Downloading dill-0.3.8-py3-none-any.whl.metadata (10 kB)\n",
            "Requirement already satisfied: python-dateutil>=2.8.0 in /usr/local/lib/python3.10/dist-packages (from qiskit) (2.8.2)\n",
            "Collecting stevedore>=3.0.0 (from qiskit)\n",
            "  Downloading stevedore-5.2.0-py3-none-any.whl.metadata (2.3 kB)\n",
            "Collecting symengine>=0.11 (from qiskit)\n",
            "  Downloading symengine-0.11.0-cp310-cp310-manylinux_2_12_x86_64.manylinux2010_x86_64.whl.metadata (1.2 kB)\n",
            "Collecting qiskit-aer (from pennylane-qiskit)\n",
            "  Downloading qiskit_aer-0.14.2-cp310-cp310-manylinux_2_17_x86_64.manylinux2014_x86_64.whl.metadata (8.1 kB)\n",
            "Collecting qiskit-ibm-provider (from pennylane-qiskit)\n",
            "  Downloading qiskit_ibm_provider-0.11.0-py3-none-any.whl.metadata (7.6 kB)\n",
            "Collecting qiskit-ibm-runtime (from pennylane-qiskit)\n",
            "  Downloading qiskit_ibm_runtime-0.27.0-py3-none-any.whl.metadata (19 kB)\n",
            "Collecting sympy>=1.3 (from qiskit)\n",
            "  Downloading sympy-1.12.1-py3-none-any.whl.metadata (12 kB)\n",
            "Collecting cirq-core<1.4.0,>=1.0.0 (from mitiq)\n",
            "  Downloading cirq_core-1.3.0-py3-none-any.whl.metadata (1.9 kB)\n",
            "Requirement already satisfied: tabulate in /usr/local/lib/python3.10/dist-packages (from mitiq) (0.9.0)\n",
            "Collecting duet~=0.2.8 (from cirq-core<1.4.0,>=1.0.0->mitiq)\n",
            "  Downloading duet-0.2.9-py3-none-any.whl.metadata (2.3 kB)\n",
            "Requirement already satisfied: matplotlib~=3.0 in /usr/local/lib/python3.10/dist-packages (from cirq-core<1.4.0,>=1.0.0->mitiq) (3.7.1)\n",
            "Requirement already satisfied: pandas in /usr/local/lib/python3.10/dist-packages (from cirq-core<1.4.0,>=1.0.0->mitiq) (2.1.4)\n",
            "Requirement already satisfied: sortedcontainers~=2.0 in /usr/local/lib/python3.10/dist-packages (from cirq-core<1.4.0,>=1.0.0->mitiq) (2.4.0)\n",
            "Requirement already satisfied: tqdm in /usr/local/lib/python3.10/dist-packages (from cirq-core<1.4.0,>=1.0.0->mitiq) (4.66.5)\n",
            "Requirement already satisfied: six>=1.5 in /usr/local/lib/python3.10/dist-packages (from python-dateutil>=2.8.0->qiskit) (1.16.0)\n",
            "Collecting pbr!=2.1.0,>=2.0.0 (from stevedore>=3.0.0->qiskit)\n",
            "  Downloading pbr-6.0.0-py2.py3-none-any.whl.metadata (1.3 kB)\n",
            "Requirement already satisfied: mpmath<1.4.0,>=1.1.0 in /usr/local/lib/python3.10/dist-packages (from sympy>=1.3->qiskit) (1.3.0)\n",
            "Requirement already satisfied: future>=0.15.2 in /usr/local/lib/python3.10/dist-packages (from autograd->pennylane) (1.0.0)\n",
            "Requirement already satisfied: psutil>=5 in /usr/local/lib/python3.10/dist-packages (from qiskit-aer->pennylane-qiskit) (5.9.5)\n",
            "Collecting requests-ntlm>=1.1.0 (from qiskit-ibm-provider->pennylane-qiskit)\n",
            "  Downloading requests_ntlm-1.3.0-py3-none-any.whl.metadata (2.4 kB)\n",
            "Requirement already satisfied: urllib3>=1.21.1 in /usr/local/lib/python3.10/dist-packages (from qiskit-ibm-provider->pennylane-qiskit) (2.0.7)\n",
            "Requirement already satisfied: websocket-client>=1.5.1 in /usr/local/lib/python3.10/dist-packages (from qiskit-ibm-provider->pennylane-qiskit) (1.8.0)\n",
            "Collecting websockets>=10.0 (from qiskit-ibm-provider->pennylane-qiskit)\n",
            "  Downloading websockets-12.0-cp310-cp310-manylinux_2_5_x86_64.manylinux1_x86_64.manylinux_2_17_x86_64.manylinux2014_x86_64.whl.metadata (6.6 kB)\n",
            "Requirement already satisfied: charset-normalizer<4,>=2 in /usr/local/lib/python3.10/dist-packages (from requests->pennylane) (3.3.2)\n",
            "Requirement already satisfied: idna<4,>=2.5 in /usr/local/lib/python3.10/dist-packages (from requests->pennylane) (3.7)\n",
            "Requirement already satisfied: certifi>=2017.4.17 in /usr/local/lib/python3.10/dist-packages (from requests->pennylane) (2024.7.4)\n",
            "Collecting ibm-platform-services>=0.22.6 (from qiskit-ibm-runtime->pennylane-qiskit)\n",
            "  Downloading ibm_platform_services-0.55.3-py3-none-any.whl.metadata (9.1 kB)\n",
            "Requirement already satisfied: pydantic>=2.5.0 in /usr/local/lib/python3.10/dist-packages (from qiskit-ibm-runtime->pennylane-qiskit) (2.8.2)\n",
            "Collecting ibm-cloud-sdk-core<4.0.0,>=3.20.6 (from ibm-platform-services>=0.22.6->qiskit-ibm-runtime->pennylane-qiskit)\n",
            "  Downloading ibm_cloud_sdk_core-3.20.6-py3-none-any.whl.metadata (5.5 kB)\n",
            "Requirement already satisfied: contourpy>=1.0.1 in /usr/local/lib/python3.10/dist-packages (from matplotlib~=3.0->cirq-core<1.4.0,>=1.0.0->mitiq) (1.2.1)\n",
            "Requirement already satisfied: cycler>=0.10 in /usr/local/lib/python3.10/dist-packages (from matplotlib~=3.0->cirq-core<1.4.0,>=1.0.0->mitiq) (0.12.1)\n",
            "Requirement already satisfied: fonttools>=4.22.0 in /usr/local/lib/python3.10/dist-packages (from matplotlib~=3.0->cirq-core<1.4.0,>=1.0.0->mitiq) (4.53.1)\n",
            "Requirement already satisfied: kiwisolver>=1.0.1 in /usr/local/lib/python3.10/dist-packages (from matplotlib~=3.0->cirq-core<1.4.0,>=1.0.0->mitiq) (1.4.5)\n",
            "Requirement already satisfied: pillow>=6.2.0 in /usr/local/lib/python3.10/dist-packages (from matplotlib~=3.0->cirq-core<1.4.0,>=1.0.0->mitiq) (9.4.0)\n",
            "Requirement already satisfied: pyparsing>=2.3.1 in /usr/local/lib/python3.10/dist-packages (from matplotlib~=3.0->cirq-core<1.4.0,>=1.0.0->mitiq) (3.1.2)\n",
            "Requirement already satisfied: annotated-types>=0.4.0 in /usr/local/lib/python3.10/dist-packages (from pydantic>=2.5.0->qiskit-ibm-runtime->pennylane-qiskit) (0.7.0)\n",
            "Requirement already satisfied: pydantic-core==2.20.1 in /usr/local/lib/python3.10/dist-packages (from pydantic>=2.5.0->qiskit-ibm-runtime->pennylane-qiskit) (2.20.1)\n",
            "Requirement already satisfied: cryptography>=1.3 in /usr/local/lib/python3.10/dist-packages (from requests-ntlm>=1.1.0->qiskit-ibm-provider->pennylane-qiskit) (42.0.8)\n",
            "Collecting pyspnego>=0.4.0 (from requests-ntlm>=1.1.0->qiskit-ibm-provider->pennylane-qiskit)\n",
            "  Downloading pyspnego-0.11.1-py3-none-any.whl.metadata (5.4 kB)\n",
            "Requirement already satisfied: pytz>=2020.1 in /usr/local/lib/python3.10/dist-packages (from pandas->cirq-core<1.4.0,>=1.0.0->mitiq) (2024.1)\n",
            "Requirement already satisfied: tzdata>=2022.1 in /usr/local/lib/python3.10/dist-packages (from pandas->cirq-core<1.4.0,>=1.0.0->mitiq) (2024.1)\n",
            "Requirement already satisfied: cffi>=1.12 in /usr/local/lib/python3.10/dist-packages (from cryptography>=1.3->requests-ntlm>=1.1.0->qiskit-ibm-provider->pennylane-qiskit) (1.17.0)\n",
            "Collecting urllib3>=1.21.1 (from qiskit-ibm-provider->pennylane-qiskit)\n",
            "  Downloading urllib3-2.2.2-py3-none-any.whl.metadata (6.4 kB)\n",
            "Requirement already satisfied: PyJWT<3.0.0,>=2.8.0 in /usr/local/lib/python3.10/dist-packages (from ibm-cloud-sdk-core<4.0.0,>=3.20.6->ibm-platform-services>=0.22.6->qiskit-ibm-runtime->pennylane-qiskit) (2.9.0)\n",
            "Requirement already satisfied: pycparser in /usr/local/lib/python3.10/dist-packages (from cffi>=1.12->cryptography>=1.3->requests-ntlm>=1.1.0->qiskit-ibm-provider->pennylane-qiskit) (2.22)\n",
            "Downloading PennyLane-0.37.0-py3-none-any.whl (1.8 MB)\n",
            "\u001b[2K   \u001b[90m━━━━━━━━━━━━━━━━━━━━━━━━━━━━━━━━━━━━━━━━\u001b[0m \u001b[32m1.8/1.8 MB\u001b[0m \u001b[31m29.2 MB/s\u001b[0m eta \u001b[36m0:00:00\u001b[0m\n",
            "\u001b[?25hDownloading qiskit-1.1.2-cp38-abi3-manylinux_2_17_x86_64.manylinux2014_x86_64.whl (4.2 MB)\n",
            "\u001b[2K   \u001b[90m━━━━━━━━━━━━━━━━━━━━━━━━━━━━━━━━━━━━━━━━\u001b[0m \u001b[32m4.2/4.2 MB\u001b[0m \u001b[31m42.3 MB/s\u001b[0m eta \u001b[36m0:00:00\u001b[0m\n",
            "\u001b[?25hDownloading PennyLane_qiskit-0.37.0-py3-none-any.whl (38 kB)\n",
            "Downloading ply-3.11-py2.py3-none-any.whl (49 kB)\n",
            "\u001b[2K   \u001b[90m━━━━━━━━━━━━━━━━━━━━━━━━━━━━━━━━━━━━━━━━\u001b[0m \u001b[32m49.6/49.6 kB\u001b[0m \u001b[31m4.0 MB/s\u001b[0m eta \u001b[36m0:00:00\u001b[0m\n",
            "\u001b[?25hDownloading mitiq-0.39.0-py3-none-any.whl (171 kB)\n",
            "\u001b[2K   \u001b[90m━━━━━━━━━━━━━━━━━━━━━━━━━━━━━━━━━━━━━━━━\u001b[0m \u001b[32m171.6/171.6 kB\u001b[0m \u001b[31m13.3 MB/s\u001b[0m eta \u001b[36m0:00:00\u001b[0m\n",
            "\u001b[?25hDownloading autoray-0.6.12-py3-none-any.whl (50 kB)\n",
            "\u001b[2K   \u001b[90m━━━━━━━━━━━━━━━━━━━━━━━━━━━━━━━━━━━━━━━━\u001b[0m \u001b[32m51.0/51.0 kB\u001b[0m \u001b[31m4.6 MB/s\u001b[0m eta \u001b[36m0:00:00\u001b[0m\n",
            "\u001b[?25hDownloading cirq_core-1.3.0-py3-none-any.whl (1.8 MB)\n",
            "\u001b[2K   \u001b[90m━━━━━━━━━━━━━━━━━━━━━━━━━━━━━━━━━━━━━━━━\u001b[0m \u001b[32m1.8/1.8 MB\u001b[0m \u001b[31m41.5 MB/s\u001b[0m eta \u001b[36m0:00:00\u001b[0m\n",
            "\u001b[?25hDownloading dill-0.3.8-py3-none-any.whl (116 kB)\n",
            "\u001b[2K   \u001b[90m━━━━━━━━━━━━━━━━━━━━━━━━━━━━━━━━━━━━━━━━\u001b[0m \u001b[32m116.3/116.3 kB\u001b[0m \u001b[31m8.9 MB/s\u001b[0m eta \u001b[36m0:00:00\u001b[0m\n",
            "\u001b[?25hDownloading PennyLane_Lightning-0.37.0-cp310-cp310-manylinux_2_28_x86_64.whl (15.5 MB)\n",
            "\u001b[2K   \u001b[90m━━━━━━━━━━━━━━━━━━━━━━━━━━━━━━━━━━━━━━━━\u001b[0m \u001b[32m15.5/15.5 MB\u001b[0m \u001b[31m17.1 MB/s\u001b[0m eta \u001b[36m0:00:00\u001b[0m\n",
            "\u001b[?25hDownloading rustworkx-0.15.1-cp38-abi3-manylinux_2_17_x86_64.manylinux2014_x86_64.whl (2.0 MB)\n",
            "\u001b[2K   \u001b[90m━━━━━━━━━━━━━━━━━━━━━━━━━━━━━━━━━━━━━━━━\u001b[0m \u001b[32m2.0/2.0 MB\u001b[0m \u001b[31m50.8 MB/s\u001b[0m eta \u001b[36m0:00:00\u001b[0m\n",
            "\u001b[?25hDownloading semantic_version-2.10.0-py2.py3-none-any.whl (15 kB)\n",
            "Downloading stevedore-5.2.0-py3-none-any.whl (49 kB)\n",
            "\u001b[2K   \u001b[90m━━━━━━━━━━━━━━━━━━━━━━━━━━━━━━━━━━━━━━━━\u001b[0m \u001b[32m49.7/49.7 kB\u001b[0m \u001b[31m4.4 MB/s\u001b[0m eta \u001b[36m0:00:00\u001b[0m\n",
            "\u001b[?25hDownloading symengine-0.11.0-cp310-cp310-manylinux_2_12_x86_64.manylinux2010_x86_64.whl (39.4 MB)\n",
            "\u001b[2K   \u001b[90m━━━━━━━━━━━━━━━━━━━━━━━━━━━━━━━━━━━━━━━━\u001b[0m \u001b[32m39.4/39.4 MB\u001b[0m \u001b[31m15.3 MB/s\u001b[0m eta \u001b[36m0:00:00\u001b[0m\n",
            "\u001b[?25hDownloading sympy-1.12.1-py3-none-any.whl (5.7 MB)\n",
            "\u001b[2K   \u001b[90m━━━━━━━━━━━━━━━━━━━━━━━━━━━━━━━━━━━━━━━━\u001b[0m \u001b[32m5.7/5.7 MB\u001b[0m \u001b[31m53.0 MB/s\u001b[0m eta \u001b[36m0:00:00\u001b[0m\n",
            "\u001b[?25hDownloading appdirs-1.4.4-py2.py3-none-any.whl (9.6 kB)\n",
            "Downloading qiskit_aer-0.14.2-cp310-cp310-manylinux_2_17_x86_64.manylinux2014_x86_64.whl (12.4 MB)\n",
            "\u001b[2K   \u001b[90m━━━━━━━━━━━━━━━━━━━━━━━━━━━━━━━━━━━━━━━━\u001b[0m \u001b[32m12.4/12.4 MB\u001b[0m \u001b[31m63.4 MB/s\u001b[0m eta \u001b[36m0:00:00\u001b[0m\n",
            "\u001b[?25hDownloading qiskit_ibm_provider-0.11.0-py3-none-any.whl (249 kB)\n",
            "\u001b[2K   \u001b[90m━━━━━━━━━━━━━━━━━━━━━━━━━━━━━━━━━━━━━━━━\u001b[0m \u001b[32m249.9/249.9 kB\u001b[0m \u001b[31m18.8 MB/s\u001b[0m eta \u001b[36m0:00:00\u001b[0m\n",
            "\u001b[?25hDownloading qiskit_ibm_runtime-0.27.0-py3-none-any.whl (2.9 MB)\n",
            "\u001b[2K   \u001b[90m━━━━━━━━━━━━━━━━━━━━━━━━━━━━━━━━━━━━━━━━\u001b[0m \u001b[32m2.9/2.9 MB\u001b[0m \u001b[31m64.9 MB/s\u001b[0m eta \u001b[36m0:00:00\u001b[0m\n",
            "\u001b[?25hDownloading duet-0.2.9-py3-none-any.whl (29 kB)\n",
            "Downloading ibm_platform_services-0.55.3-py3-none-any.whl (339 kB)\n",
            "\u001b[2K   \u001b[90m━━━━━━━━━━━━━━━━━━━━━━━━━━━━━━━━━━━━━━━━\u001b[0m \u001b[32m339.7/339.7 kB\u001b[0m \u001b[31m22.9 MB/s\u001b[0m eta \u001b[36m0:00:00\u001b[0m\n",
            "\u001b[?25hDownloading pbr-6.0.0-py2.py3-none-any.whl (107 kB)\n",
            "\u001b[2K   \u001b[90m━━━━━━━━━━━━━━━━━━━━━━━━━━━━━━━━━━━━━━━━\u001b[0m \u001b[32m107.5/107.5 kB\u001b[0m \u001b[31m9.5 MB/s\u001b[0m eta \u001b[36m0:00:00\u001b[0m\n",
            "\u001b[?25hDownloading requests_ntlm-1.3.0-py3-none-any.whl (6.6 kB)\n",
            "Downloading websockets-12.0-cp310-cp310-manylinux_2_5_x86_64.manylinux1_x86_64.manylinux_2_17_x86_64.manylinux2014_x86_64.whl (130 kB)\n",
            "\u001b[2K   \u001b[90m━━━━━━━━━━━━━━━━━━━━━━━━━━━━━━━━━━━━━━━━\u001b[0m \u001b[32m130.2/130.2 kB\u001b[0m \u001b[31m9.4 MB/s\u001b[0m eta \u001b[36m0:00:00\u001b[0m\n",
            "\u001b[?25hDownloading ibm_cloud_sdk_core-3.20.6-py3-none-any.whl (60 kB)\n",
            "\u001b[2K   \u001b[90m━━━━━━━━━━━━━━━━━━━━━━━━━━━━━━━━━━━━━━━━\u001b[0m \u001b[32m60.7/60.7 kB\u001b[0m \u001b[31m3.8 MB/s\u001b[0m eta \u001b[36m0:00:00\u001b[0m\n",
            "\u001b[?25hDownloading urllib3-2.2.2-py3-none-any.whl (121 kB)\n",
            "\u001b[2K   \u001b[90m━━━━━━━━━━━━━━━━━━━━━━━━━━━━━━━━━━━━━━━━\u001b[0m \u001b[32m121.4/121.4 kB\u001b[0m \u001b[31m9.8 MB/s\u001b[0m eta \u001b[36m0:00:00\u001b[0m\n",
            "\u001b[?25hDownloading pyspnego-0.11.1-py3-none-any.whl (130 kB)\n",
            "\u001b[2K   \u001b[90m━━━━━━━━━━━━━━━━━━━━━━━━━━━━━━━━━━━━━━━━\u001b[0m \u001b[32m130.5/130.5 kB\u001b[0m \u001b[31m10.9 MB/s\u001b[0m eta \u001b[36m0:00:00\u001b[0m\n",
            "\u001b[?25hInstalling collected packages: ply, appdirs, websockets, urllib3, sympy, symengine, semantic-version, rustworkx, pbr, duet, dill, autoray, stevedore, qiskit, pyspnego, ibm-cloud-sdk-core, cirq-core, requests-ntlm, qiskit-aer, mitiq, ibm-platform-services, qiskit-ibm-runtime, qiskit-ibm-provider, pennylane-lightning, pennylane, pennylane-qiskit\n",
            "  Attempting uninstall: urllib3\n",
            "    Found existing installation: urllib3 2.0.7\n",
            "    Uninstalling urllib3-2.0.7:\n",
            "      Successfully uninstalled urllib3-2.0.7\n",
            "  Attempting uninstall: sympy\n",
            "    Found existing installation: sympy 1.13.1\n",
            "    Uninstalling sympy-1.13.1:\n",
            "      Successfully uninstalled sympy-1.13.1\n",
            "\u001b[31mERROR: pip's dependency resolver does not currently take into account all the packages that are installed. This behaviour is the source of the following dependency conflicts.\n",
            "torch 2.3.1+cu121 requires nvidia-cublas-cu12==12.1.3.1; platform_system == \"Linux\" and platform_machine == \"x86_64\", which is not installed.\n",
            "torch 2.3.1+cu121 requires nvidia-cuda-cupti-cu12==12.1.105; platform_system == \"Linux\" and platform_machine == \"x86_64\", which is not installed.\n",
            "torch 2.3.1+cu121 requires nvidia-cuda-nvrtc-cu12==12.1.105; platform_system == \"Linux\" and platform_machine == \"x86_64\", which is not installed.\n",
            "torch 2.3.1+cu121 requires nvidia-cuda-runtime-cu12==12.1.105; platform_system == \"Linux\" and platform_machine == \"x86_64\", which is not installed.\n",
            "torch 2.3.1+cu121 requires nvidia-cudnn-cu12==8.9.2.26; platform_system == \"Linux\" and platform_machine == \"x86_64\", which is not installed.\n",
            "torch 2.3.1+cu121 requires nvidia-cufft-cu12==11.0.2.54; platform_system == \"Linux\" and platform_machine == \"x86_64\", which is not installed.\n",
            "torch 2.3.1+cu121 requires nvidia-curand-cu12==10.3.2.106; platform_system == \"Linux\" and platform_machine == \"x86_64\", which is not installed.\n",
            "torch 2.3.1+cu121 requires nvidia-cusolver-cu12==11.4.5.107; platform_system == \"Linux\" and platform_machine == \"x86_64\", which is not installed.\n",
            "torch 2.3.1+cu121 requires nvidia-cusparse-cu12==12.1.0.106; platform_system == \"Linux\" and platform_machine == \"x86_64\", which is not installed.\n",
            "torch 2.3.1+cu121 requires nvidia-nccl-cu12==2.20.5; platform_system == \"Linux\" and platform_machine == \"x86_64\", which is not installed.\n",
            "torch 2.3.1+cu121 requires nvidia-nvtx-cu12==12.1.105; platform_system == \"Linux\" and platform_machine == \"x86_64\", which is not installed.\u001b[0m\u001b[31m\n",
            "\u001b[0mSuccessfully installed appdirs-1.4.4 autoray-0.6.12 cirq-core-1.3.0 dill-0.3.8 duet-0.2.9 ibm-cloud-sdk-core-3.20.6 ibm-platform-services-0.55.3 mitiq-0.39.0 pbr-6.0.0 pennylane-0.37.0 pennylane-lightning-0.37.0 pennylane-qiskit-0.37.0 ply-3.11 pyspnego-0.11.1 qiskit-1.1.2 qiskit-aer-0.14.2 qiskit-ibm-provider-0.11.0 qiskit-ibm-runtime-0.27.0 requests-ntlm-1.3.0 rustworkx-0.15.1 semantic-version-2.10.0 stevedore-5.2.0 symengine-0.11.0 sympy-1.12.1 urllib3-2.2.2 websockets-12.0\n"
          ]
        }
      ],
      "source": [
        "!pip install pennylane qiskit pennylane-qiskit ply mitiq"
      ]
    },
    {
      "cell_type": "code",
      "execution_count": 3,
      "metadata": {
        "id": "PGpiOqJm5TXT"
      },
      "outputs": [],
      "source": [
        "import torch\n",
        "import torch.nn as nn\n",
        "import torch.optim as optim\n",
        "import pennylane as qml\n",
        "import mitiq\n",
        "import matplotlib.pyplot as plt\n",
        "import numpy as np\n",
        "from torch.utils.data import Dataset, DataLoader\n",
        "from tqdm.notebook import tqdm"
      ]
    },
    {
      "cell_type": "markdown",
      "source": [
        "Fixation of random seed:"
      ],
      "metadata": {
        "id": "KMG3qNO3376w"
      }
    },
    {
      "cell_type": "code",
      "execution_count": 4,
      "metadata": {
        "id": "N159-lP-5U-c",
        "colab": {
          "base_uri": "https://localhost:8080/"
        },
        "outputId": "9f1bd73d-84ed-4608-c95f-7b492a5b7af2"
      },
      "outputs": [
        {
          "output_type": "execute_result",
          "data": {
            "text/plain": [
              "<torch._C.Generator at 0x7ad4cc0e9550>"
            ]
          },
          "metadata": {},
          "execution_count": 4
        }
      ],
      "source": [
        "np.random.seed(42)\n",
        "torch.manual_seed(42)"
      ]
    },
    {
      "cell_type": "markdown",
      "source": [
        "Setting general hyperparameters:"
      ],
      "metadata": {
        "id": "44WqI7Qhz6n9"
      }
    },
    {
      "cell_type": "code",
      "execution_count": 5,
      "metadata": {
        "id": "uC1Fp9EF5YKx"
      },
      "outputs": [],
      "source": [
        "input_dim = 16 #dimension of input vector\n",
        "num_qubits = 4 #number of qubits used in quantum layer. equals to the dimension of classical layer outcome\n",
        "\n",
        "learning_rate = 0.1\n",
        "epochs = 100\n",
        "qdi_depth = 1\n"
      ]
    },
    {
      "cell_type": "markdown",
      "source": [
        "Setting hyperparameters for QDI. The meaning of these parameters is illustrated by the following picture:![photo_2024-08-10_18-04-07.jpg](data:image/jpeg;base64,/9j/4AAQSkZJRgABAQEAYABgAAD/2wBDAAMCAgMCAgMDAwMEAwMEBQgFBQQEBQoHBwYIDAoMDAsKCwsNDhIQDQ4RDgsLEBYQERMUFRUVDA8XGBYUGBIUFRT/2wBDAQMEBAUEBQkFBQkUDQsNFBQUFBQUFBQUFBQUFBQUFBQUFBQUFBQUFBQUFBQUFBQUFBQUFBQUFBQUFBQUFBQUFBT/wAARCAKxBPoDASIAAhEBAxEB/8QAHwAAAQUBAQEBAQEAAAAAAAAAAAECAwQFBgcICQoL/8QAtRAAAgEDAwIEAwUFBAQAAAF9AQIDAAQRBRIhMUEGE1FhByJxFDKBkaEII0KxwRVS0fAkM2JyggkKFhcYGRolJicoKSo0NTY3ODk6Q0RFRkdISUpTVFVWV1hZWmNkZWZnaGlqc3R1dnd4eXqDhIWGh4iJipKTlJWWl5iZmqKjpKWmp6ipqrKztLW2t7i5usLDxMXGx8jJytLT1NXW19jZ2uHi4+Tl5ufo6erx8vP09fb3+Pn6/8QAHwEAAwEBAQEBAQEBAQAAAAAAAAECAwQFBgcICQoL/8QAtREAAgECBAQDBAcFBAQAAQJ3AAECAxEEBSExBhJBUQdhcRMiMoEIFEKRobHBCSMzUvAVYnLRChYkNOEl8RcYGRomJygpKjU2Nzg5OkNERUZHSElKU1RVVldYWVpjZGVmZ2hpanN0dXZ3eHl6goOEhYaHiImKkpOUlZaXmJmaoqOkpaanqKmqsrO0tba3uLm6wsPExcbHyMnK0tPU1dbX2Nna4uPk5ebn6Onq8vP09fb3+Pn6/9oADAMBAAIRAxEAPwD9U6KKKACiiigAooooAKKKKACiiigAooooAKKKKACiiigAooooAKKKKACiiigAooooAKKKKACiiigAooooA82+NXwM0H44aPZWesNNBNZSNJb3MP3k3YDD3BAFafwl+FGjfB3wmmg6L5jQmQzSzTHLyyEAFj+QrtqKNjD2FL2vtuX3trhRRRQbhRRRQAUUUUAFFFFABRRRQAUUUUAFFFFABRRRQAUUUUAFFFFABRRRQAUUUUAFFFFABRRRQAUUUUAFFFFABRRRQAUUUUAFFFFABRRRQAUUUUAFFFFABRRRQAUUUUAFFFFABRRRQAUUUUAFFFFABRRRQAUUUUAFFFFABRRRQAUUUUAFFFFABRRRQAUUUUAFFFFABRRRQAUUUUAFFFFABRRRQAUUUUAFFFFABRRRQAUUUUAFFFFABRRRQAUUUUAFFFFABRRRQAUUUUAFFFFABRRRQAUUUUAFFFFABRRRQAUUUUAFFFFABRRRQAUUUUAFFFFABRRRQAUUUUAFFFFABRRRQAUUUUAFFFFABRRRQAUUUUAFFFFABRRRQAUUUUAFFFFABRRRQAUUUUAFFFFABRRRQAUUUUAFFFFABRRRQAUUUUAFFFFABRRRQAUUUUAFFFFABRRRQAUUUUAFFFFABRRRQAUUUUAFFFFABRRXnHxw8Saz4Z8OaXLoV4tjf3epw2YlaNZAFdXzwwI6gV04ehLFVo0YNJvvsYV6yw9N1ZK6XY9Horyv/hEfin/0Pdj/AOCyP/4ij/hEfin/AND3Y/8Agsj/APiK7fqNP/oJh/5P/wDIHN9an/z4n/5L/wDJHqlFeV/8Ij8U/wDoe7H/AMFkf/xFH/CI/FP/AKHux/8ABZH/APEUfUaf/QTD/wAn/wDkA+tT/wCfE/8AyX/5I9Uoryv/AIRH4p/9D3Y/+CyP/wCIo/4RH4p/9D3Y/wDgsj/+Io+o0/8AoJh/5P8A/IB9an/z4n/5L/8AJHqlFeV/8Ij8U/8Aoe7H/wAFkf8A8RR/wiPxT/6Hux/8Fkf/AMRR9Rp/9BMP/J//AJAPrU/+fE//ACX/AOSPVKK8r/4RH4p/9D3Y/wDgsj/+Io/4RH4p/wDQ92P/AILI/wD4ij6jT/6CYf8Ak/8A8gH1qf8Az4n/AOS//JHqlFeV/wDCI/FP/oe7H/wWR/8AxFH/AAiPxT/6Hux/8Fkf/wARR9Rp/wDQTD/yf/5APrU/+fE//Jf/AJI9Uoryv/hEfin/AND3Y/8Agsj/APiKP+ER+Kf/AEPdj/4LI/8A4ij6jT/6CYf+T/8AyAfWp/8APif/AJL/APJHqlFeV/8ACI/FP/oe7H/wWR//ABFH/CI/FP8A6Hux/wDBZH/8RR9Rp/8AQTD/AMn/APkA+tT/AOfE/wDyX/5I9Uoryv8A4RH4p/8AQ92P/gsj/wDiKP8AhEfin/0Pdj/4LI//AIij6jT/AOgmH/k//wAgH1qf/Pif/kv/AMkeqUV5X/wiPxT/AOh7sf8AwWR//EUf8Ij8U/8Aoe7H/wAFkf8A8RR9Rp/9BMP/ACf/AOQD61P/AJ8T/wDJf/kj1SivK/8AhEfin/0Pdj/4LI//AIij/hEfin/0Pdj/AOCyP/4ij6jT/wCgmH/k/wD8gH1qf/Pif/kv/wAkeqUV5X/wiPxT/wCh7sf/AAWR/wDxFH/CI/FP/oe7H/wWR/8AxFH1Gn/0Ew/8n/8AkA+tT/58T/8AJf8A5I9Uoryv/hEfin/0Pdj/AOCyP/4ij/hEfin/AND3Y/8Agsj/APiKPqNP/oJh/wCT/wDyAfWp/wDPif8A5L/8keqUV5X/AMIj8U/+h7sf/BZH/wDEUf8ACI/FP/oe7H/wWR//ABFH1Gn/ANBMP/J//kA+tT/58T/8l/8Akj1SivK/+ER+Kf8A0Pdj/wCCyP8A+Io/4RH4p/8AQ92P/gsj/wDiKPqNP/oJh/5P/wDIB9an/wA+J/8Akv8A8keqUV5X/wAIj8U/+h7sf/BZH/8AEUf8Ij8U/wDoe7H/AMFkf/xFH1Gn/wBBMP8Ayf8A+QD61P8A58T/APJf/kj1SivK/wDhEfin/wBD3Y/+CyP/AOIo/wCER+Kf/Q92P/gsj/8AiKPqNP8A6CYf+T//ACAfWp/8+J/+S/8AyR6pRXlf/CI/FP8A6Hux/wDBZH/8RR/wiPxT/wCh7sf/AAWR/wDxFH1Gn/0Ew/8AJ/8A5APrU/8AnxP/AMl/+SPVKK8r/wCER+Kf/Q92P/gsj/8AiKP+ER+Kf/Q92P8A4LI//iKPqNP/AKCYf+T/APyAfWp/8+J/+S//ACR6pRXlf/CI/FP/AKHux/8ABZH/APEUf8Ij8U/+h7sf/BZH/wDEUfUaf/QTD/yf/wCQD61P/nxP/wAl/wDkj1SivK/+ER+Kf/Q92P8A4LI//iKP+ER+Kf8A0Pdj/wCCyP8A+Io+o0/+gmH/AJP/APIB9an/AM+J/wDkv/yR6pRXlf8AwiPxT/6Hux/8Fkf/AMRR/wAIj8U/+h7sf/BZH/8AEUfUaf8A0Ew/8n/+QD61P/nxP/yX/wCSPVKK8r/4RH4p/wDQ92P/AILI/wD4ij/hEfin/wBD3Y/+CyP/AOIo+o0/+gmH/k//AMgH1qf/AD4n/wCS/wDyR6pRXlf/AAiPxT/6Hux/8Fkf/wARR/wiPxT/AOh7sf8AwWR//EUfUaf/AEEw/wDJ/wD5APrU/wDnxP8A8l/+SPVKK8r/AOER+Kf/AEPdj/4LI/8A4ij/AIRH4p/9D3Y/+CyP/wCIo+o0/wDoJh/5P/8AIB9an/z4n/5L/wDJHqlFeV/8Ij8U/wDoe7H/AMFkf/xFH/CI/FP/AKHux/8ABZH/APEUfUaf/QTD/wAn/wDkA+tT/wCfE/8AyX/5I9Uoryv/AIRH4p/9D3Y/+CyP/wCIo/4RH4p/9D3Y/wDgsj/+Io+o0/8AoJh/5P8A/IB9an/z4n/5L/8AJHqlFeV/8Ij8U/8Aoe7H/wAFkf8A8RR/wiPxT/6Hux/8Fkf/AMRR9Rp/9BMP/J//AJAPrU/+fE//ACX/AOSPVKK8r/4RH4p/9D3Y/wDgsj/+Io/4RH4p/wDQ92P/AILI/wD4ij6jT/6CYf8Ak/8A8gH1qf8Az4n/AOS//JHqlFeV/wDCI/FP/oe7H/wWR/8AxFWvg34i17WZvE9lr+oJqc+l6g1mkyQpEDtznhQKmpgOWlKrCrGSja6XNfV26xQQxfNUjTlTlHm2vbpr0bPSqKKK8s9AKKKKACiiigAooooAKKKKACiiigAooooAKKKKACiiigAooooAKKKKACiiigAooooAKKKKACiiigAooooAKKKKACiiigAooooAKKKKACiiigAooooAKKKKACiiigAooooAKKKKACiiigAr58+Knxi+I+m/GqDwD4D0XQ9Umk0hdUZ9WZ1Kr5jIeVkUdhX0HXzxJ/yfXF/2JR/9KTQebjnPlhGEnG8krrcX/hJv2mP+hP8ABH/gVL/8eo/4Sb9pj/oT/BH/AIFS/wDx6voaikH1KX/P6f3r/I+ef+Em/aY/6E/wR/4FS/8Ax6j/AISb9pj/AKE/wR/4FS//AB6voaigPqUv+f0/vX+R88/8JN+0x/0J/gj/AMCpf/j1H/CTftMf9Cf4I/8AAqX/AOPV9DUUB9Sl/wA/p/ev8j55/wCEm/aY/wChP8Ef+BUv/wAeo/4Sb9pj/oT/AAR/4FS//Hq+hqKA+pS/5/T+9f5Hzz/wk37TH/Qn+CP/AAKl/wDj1H/CTftMf9Cf4I/8Cpf/AI9X0NRQH1KX/P6f3r/I+ef+Em/aY/6E/wAEf+BUv/x6j/hJv2mP+hP8Ef8AgVL/APHq+hqKA+pS/wCf0/vX+R88/wDCTftMf9Cf4I/8Cpf/AI9R/wAJN+0x/wBCf4I/8Cpf/j1fQ1FAfUpf8/p/ev8AI+ef+Em/aY/6E/wR/wCBUv8A8eo/4Sb9pj/oT/BH/gVL/wDHq+hqKA+pS/5/T+9f5Hzz/wAJN+0x/wBCf4I/8Cpf/j1H/CTftMf9Cf4I/wDAqX/49X0NRQH1KX/P6f3r/I+ef+Em/aY/6E/wR/4FS/8Ax6j/AISb9pj/AKE/wR/4FS//AB6voaigPqUv+f0/vX+R88/8JN+0x/0J/gj/AMCpf/j1H/CTftMf9Cf4I/8AAqX/AOPV9DUUB9Sl/wA/p/ev8j55/wCEm/aY/wChP8Ef+BUv/wAeo/4Sb9pj/oT/AAR/4FS//Hq+hqKA+pS/5/T+9f5Hzz/wk37TH/Qn+CP/AAKl/wDj1H/CTftMf9Cf4I/8Cpf/AI9X0NRQH1KX/P6f3r/I+ef+Em/aY/6E/wAEf+BUv/x6j/hJv2mP+hP8Ef8AgVL/APHq+hqKA+pS/wCf0/vX+R88/wDCTftMf9Cf4I/8Cpf/AI9R/wAJN+0x/wBCf4I/8Cpf/j1fQ1FAfUpf8/p/ev8AI+ef+Em/aY/6E/wR/wCBUv8A8eo/4Sb9pj/oT/BH/gVL/wDHq+hqKA+pS/5/T+9f5Hzz/wAJN+0x/wBCf4I/8Cpf/j1H/CTftMf9Cf4I/wDAqX/49X0NRQH1KX/P6f3r/I+ef+Em/aY/6E/wR/4FS/8Ax6j/AISb9pj/AKE/wR/4FS//AB6voaigPqUv+f0/vX+R88/8JN+0x/0J/gj/AMCpf/j1H/CTftMf9Cf4I/8AAqX/AOPV9DUUB9Sl/wA/p/ev8j55/wCEm/aY/wChP8Ef+BUv/wAeo/4Sb9pj/oT/AAR/4FS//Hq+hqKA+pS/5/T+9f5Hzz/wk37TH/Qn+CP/AAKl/wDj1H/CTftMf9Cf4I/8Cpf/AI9X0NRQH1KX/P6f3r/I8p/Zr+K2rfGL4b/2/rdnaWN8t7PaNDZBhGPLIGfmZj39af8AtCf8gDw1/wBh+1/9BkrjP2Gv+SLXP/YavP8A0Ja7P9oT/kAeGv8AsP2v/oMletlP++0vX9DhlOVTK1Obu3FHqdFFFeUfQBRRRQAUUUUAFFFFABRRRQAUUUUAFFFFABXjUnxG+IGteMvEmkeG9I0W6ttHuFhaS8d0c7gSOj+xr2WvJfhL/wAlQ+KX/X7bfykr2sv9nGlXrTgpOMU1fbWUV0a6Ml9A/tr4y/8AQv8Ahv8A7/P/APHKP7a+Mv8A0L/hv/v8/wD8cr1qip/tGP8A0D0/uf8A8kFvM8l/tr4y/wDQv+G/+/z/APxyj+2vjL/0L/hv/v8AP/8AHK9aoo/tGP8A0D0/uf8A8kFvM8l/tr4y/wDQv+G/+/z/APxyj+2vjL/0L/hv/v8AP/8AHK9aoo/tGP8A0D0/uf8A8kFvM8l/tr4y/wDQv+G/+/z/APxyj+2vjL/0L/hv/v8AP/8AHK9aoo/tGP8A0D0/uf8A8kFvM8l/tr4y/wDQv+G/+/z/APxyj+2vjL/0L/hv/v8AP/8AHK9aoo/tGP8A0D0/uf8A8kFvM8l/tr4y/wDQv+G/+/z/APxyj+2vjL/0L/hv/v8AP/8AHK9aoo/tGP8A0D0/uf8A8kFvM8l/tr4y/wDQv+G/+/z/APxyj+2vjL/0L/hv/v8AP/8AHK9aoo/tGP8A0D0/uf8A8kFvM8l/tr4y/wDQv+G/+/z/APxyj+2vjL/0L/hv/v8AP/8AHK9aoo/tGP8A0D0/uf8A8kFvM8l/tr4y/wDQv+G/+/z/APxyj+2vjL/0L/hv/v8AP/8AHK9aoo/tGP8A0D0/uf8A8kFvM8l/tr4y/wDQv+G/+/z/APxyj+2vjL/0L/hv/v8AP/8AHK9aoo/tGP8A0D0/uf8A8kFvM8l/tr4y/wDQv+G/+/z/APxyj+2vjL/0L/hv/v8AP/8AHK9aoo/tGP8A0D0/uf8A8kFvM8l/tr4y/wDQv+G/+/z/APxyj+2vjL/0L/hv/v8AP/8AHK9aoo/tGP8A0D0/uf8A8kFvM8l/tr4y/wDQv+G/+/z/APxyj+2vjL/0L/hv/v8AP/8AHK9aoo/tGP8A0D0/uf8A8kFvM8l/tr4y/wDQv+G/+/z/APxyj+2vjL/0L/hv/v8AP/8AHK9aoo/tGP8A0D0/uf8A8kFvM8l/tr4y/wDQv+G/+/z/APxyj+2vjL/0L/hv/v8AP/8AHK9aoo/tGP8A0D0/uf8A8kFvM8l/tr4y/wDQv+G/+/z/APxyj+2vjL/0L/hv/v8AP/8AHK9aoo/tGP8A0D0/uf8A8kFvM8l/tr4y/wDQv+G/+/z/APxyj+2vjL/0L/hv/v8AP/8AHK9aoo/tGP8A0D0/uf8A8kFvM8l/tr4y/wDQv+G/+/z/APxyj+2vjL/0L/hv/v8AP/8AHK9aoo/tGP8A0D0/uf8A8kFvM8l/tr4y/wDQv+G/+/z/APxyj+2vjL/0L/hv/v8AP/8AHK9aoo/tGP8A0D0/uf8A8kFvM8l/tr4y/wDQv+G/+/z/APxyj+2vjL/0L/hv/v8AP/8AHK9aoo/tGP8A0D0/uf8A8kFvM8l/tr4y/wDQv+G/+/z/APxyj+2vjL/0L/hv/v8AP/8AHK9aoo/tGP8A0D0/uf8A8kFvM89+EfjvWfGsOvRa5aWdne6XftZOlmWK5Xr1JrO+Df8AyM3xH/7Dkn82qD4E/wDIY+I3/Yx3H/oRqf4N/wDIzfEf/sOSfzavSxVOFJ4yNONlaGi83Fnn1v49D1l+TPU6KKK+VPSCiiigAooooAKKKKACiiigAooooAKKKKACiiigAooooAKKKKACiiigAooooAKKKKACiiigAooooAKKKKACiiigAooooAKKKKACiiigAooooAKKKKACiiigAooooAKKKKACiis/Rde07xFbz3GmXkN7DBczWcrwtkJNDI0UsZ/2ldGU+4oA0KKKzbzxFpun61p2j3N7FDqeopNJaWznDzLFtMhUd9u9c/WgDSr54k/5Pri/7Eo/+lJr6Hr54k/5Pri/7Eo/+lJoPNxv/Lr/ABxNrxZ8fvEth8TvEHg7wv8ADe68Vy6Jb2lxd3o1i2s0H2gOUUCXnPyGof8AhdnxR/6Ihc/+FTYf41haTefZf2oPi/8A7VhoP/om5r0L+1P9qq93qa1MQ4ScTmv+F2fFH/oiFz/4VNh/jR/wuz4o/wDRELn/AMKmw/xq34k+J3hzwatu3iDxDpmhrc58n+0ryK283b12b2GcVkWfx8+H+oXCW9r468NXNxIdqQx6xbuzH2AenaJH1mXYuf8AC7Pij/0RC5/8Kmw/xo/4XZ8Uf+iIXP8A4VNh/jXS/wBsf7VH9qf7VHui+tM5r/hdnxR/6Ihc/wDhU2H+NH/C7Pij/wBEQuf/AAqbD/Gul/tT/arivit8XG+H+i2S2Vquq+JNYu10vRdN3YW4unVjl27RIqvI7dkSj3Q+stmh/wALs+KP/RELn/wqbD/Gj/hdnxR/6Ihc/wDhU2H+NbOj6heWuk2cWo3q32oRxhbi6jj8lZZO5Cbjgei1mt8VPDkfiBdDbXLH+1mk8r7H5y7/ADCnmCP2kK/ME+9totEPrT6EH/C7Pij/ANEQuf8AwqbD/Gj/AIXZ8Uf+iIXP/hU2H+NU/EXjqK68XaHoOm+L7PSNUjuvPu9Na3WeW9gWJibdCWHlv8ySfxNtqz8RvEniPR/DMuqeGbdNS1DT2+0vpLL82oxL9+CM/wAEhX7h/vUe6P6yx/8Awuz4o/8ARELn/wAKmw/xo/4XZ8Uf+iIXP/hU2H+NXPBfxI0v4geE9J8R6JdfbNJ1O3W5t5ujYbsR2I+6VrZ/tT/ao90X1pm/8IviJB8XPhf4W8aWtnLp9tr2nQ6jFazsGeJZFDBSRwTg119eL/sXf8ml/CL/ALFmx/8ARK17RUHohRRRQAUUUUAFFFFABRRRQAUUUUAFFFFABRRRQAUUUUAFFFFABRRRQAUUUUAFFFUdT1rT9HjWS/vraxjPRrmZYwfxJoE2krsvUVWsb621K3We0uIrmFvuyQuHU/iKs0BufPP7DX/JFrn/ALDV5/6Etdn+0J/yAPDX/Yftf/QZK4z9hr/ki1z/ANhq8/8AQlrs/wBoT/kAeGv+w/a/+gyV6uU/77S9f0PnV/yKY/4UWvjZ8Xbz4T2/hWPTPDE/izVfEWr/ANkWljBeRWuH+zT3Bdnk4wEt3/OuV/4XZ8Uf+iIXP/hU2H+NR/tOSeV4s+Bb+njd/wD0y6pXX/2p/tVyUqPtFc9etX9lJI5T/hdnxR/6Ihc/+FTYf40f8Ls+KP8A0RC5/wDCpsP8a6LUPElppNjPeXt5FZ2cCF5bieRUREHUkn5QK5X/AIX58Pv+h+8Nf+DiD/4utfq6MVim9kWP+F2fFH/oiFz/AOFTYf40f8Ls+KP/AERC5/8ACpsP8a39J8WWGvWKXum39tqFnJ9y4tJlkRvoVq5/an+1R9WF9bOU/wCF2fFH/oiFz/4VNh/jR/wuz4o/9EQuf/CpsP8AGur/ALU/2qy/Enjiw8J6S+o6jOyQq6xJHGu+WeR2wkcaD5ndm+ULR9WD62ZH/C7Pij/0RC5/8Kmw/wAaP+F2fFH/AKIhc/8AhU2H+NdUurblDNuX/ZaorjxBb2ao1xcRwLI4iTzGUbnbgAZ7mn9WD64c1/wuz4o/9EQuf/CpsP8AGj/hdnxR/wCiIXP/AIVNh/jXV/2p/tUf2p/tUfVg+uHKf8Ls+KP/AERC5/8ACpsP8aP+F2fFH/oiFz/4VNh/jWr4b8dWXirT2urJ5F8uR4Li3nXZLbzJw8cg7OK1v7U/2qX1YPrZU+Dfxn1H4meIPF2ha14PufB+seHGtBPbzX8N2sq3ERkRlePjGBUHwl/5Kh8Uv+v22/lJXM/Aebz/ANoL42t/0z0L/wBJZq6b4S/8lQ+KX/X7bfykrrwseXD4tf3Y/wDpcTujLmjGRh6p+0N4rk8e+L/Dvhj4XXfiW38NX8WnXOo/23a2ivK9pBc4VJOfu3CU7/hd3xR/6Ifc/wDhU2H+Nc38PL/7J8YPjyv97xda/wDpk02vRv7a965KeG54qRlKq4to53/hd3xR/wCiH3P/AIVNh/jR/wALu+KP/RD7n/wqbD/GsD4vftFeG/gbov8Aa/ilNTh0lcebfWdjLPDEzNtUMV6EtVa8/aU0PR9POo6to3irSNLjTzJb678P3flQJ6ybULIKf1aO1xe1ludR/wALu+KP/RD7n/wqbD/Gj/hd3xR/6Ifc/wDhU2H+Naui+NNP8SaTaappN/Bqem3UYlt7q2kWSKVD0KEVd/tr3qvqgvbSOd/4Xd8Uf+iH3P8A4VNh/jR/wu74o/8ARD7n/wAKmw/xrov7a965dvihHeePG8L6bF9suLOFbnVrjdhLKN1byU95XZdwTsnzNQ8LYPbSJv8Ahd3xR/6Ifc/+FTYf40f8Lu+KP/RD7n/wqbD/ABqx4w+JmleBdFbUtXumgh8xYIo41MktxM7YjhiQfM8jN0VawbP46aXI3iC3v7PUNI1bQ7eK7utLu1iNw0Mu7yXj8t3R97RvGNrfepPCpB7WRrf8Lu+KP/RD7n/wqbD/ABo/4Xd8Uf8Aoh9z/wCFTYf41wcn7WXh5fCviXxD/Y2vNpvhm6ubTW5PJh/4l0lvLtkBJl2yY+9tgaSvQvFnji58P+H31ezsJNVhtgJ7i3gZvOaAcuYhtO9wvzBP4qSwyew/ayIf+F3fFH/oh9z/AOFTYf41Q8Q/tEfEfwzoGp6ve/BG7Fpp9rLdzbPE9iSI41LMf0rpNF8ZWHiTR7LVtLvI77Tb6Bbm1uoGyksbrlHHsVrn/i9rG74S+Nl/vaHff+k8lN4TS4vbSPaPCHiKPxd4T0XXYYmgi1SxgvUic5ZFkjVwD7gNWvXF/BT/AJI34D/7AFh/6Tx12lecdgUUUUAFFFFABRRRQAUUUUAFFFFABRRRQAUUUUAFFFFABRRRQAUUUUAFFFFABRRVHU9a0/R41k1C+trGNujXMyxg/iTQJtJXZeoqtZX1tqVus9pcRXMLdJIXDqfxFWaA32PJfgT/AMhj4jf9jHcf+hGp/g3/AMjN8R/+w5J/Nqg+BP8AyGPiN/2Mdx/6Ean+Df8AyM3xH/7Dkn82r67HfFjPSn/7aebV/j0PWX5M9TooqlqWr2OkQ+dfXlvZRf8APS4lWNfzJr5E9JtLVl2iqun6laapbiezuobuFukkMgdT+Iq1QCd9UFFFU9S1Sz0m38++u4LKH/npcSrGv5mgG0ldlyiqem6pZ6tb+fY3cF7D/wA9LeVZF/MVcoBNNXQUUVU1DUrPSbfzr26gs4f+elxIsa/maAbtqy3RVPTdVstXt/Osby3vYf8AnpbyrIv5g1coBNNXQUUVVvtQtdLtzPeXMNpCvWSaQIo/E0A3bVlqiqWm6xYaxD5the297F/z0t5VkH5g1doBNPVBRRVa+1C2023ae7uIrWFeskzhFH4mge2rLNFUNM1rT9ahMmn31tfIOr20yyD8wav0CTTV0FFFV7y8t9Pt3nuZ47eFfvSSuEUfUmgZYoqhpeuabrUbPp+oWt8i9WtplkA/75Jq/QJNSV0FFFQ3V1DZwtNPIkMSD5pJDgCgZNRWdpfiDS9aVjp2pWl+F+99lnSTH12k1o0CTUldHPfETxYfAfw/8TeJhbfbf7F0y51H7Nv2eb5MTSbN2DjO3Gcd6+HP+HsP/VLP/Lh/+5a+w/2h/wDk3/4mf9ixqf8A6SS1+HFJjP0E/wCHsP8A1Sz/AMuH/wC5aP8Ah7D/ANUs/wDLh/8AuWvz7opAfoJ/w9h/6pZ/5cP/ANy0f8PYf+qWf+XD/wDctfn3RQB+gn/D2H/qln/lw/8A3LR/w9h/6pZ/5cP/ANy18tfADwR8PNaTXfEnxN8RHS/DmimFV0uyb/TtRml3YWNf7gWN9xr1Txr8Bfg/4b8K3HxVsvEV7eeA9Ss54tB8OzxSwX1zqOdgQPIo3QRt8xk7c89MsD6y/Zc/bc/4aU8fX/hn/hDf+EcNppj6kbn+1PtQfbLFHsx5KY/1oOfavqOvy6/4Jc/8l/8AEH/YsXH/AKV2lfqLTAKKKKACiiigAooooAKKKKACiiigAooooAK+afD/AMTF+Df7NXxc8bNELqTQ/EXi29SFjgSSLqt2Y0/E7RX0tXxX8WdEm8RfsH/tA2NqC0qa54quAB/0y1m4mP6KaAOzm8IeII/2U38fL4q1z/hZy+Gv+Em/tb7ZJ5ZvRa+f5H2bd5X2fd8nlbcY9+au+KPHUnxQ/Zn+H/xu0u1ZNU0KKz8YfZYeW8oRFdQt1z628l0g98Vv3mtWn/DDc2rbx9i/4V01zv8A+mf9mbs/lUH7FOi/8Iv+xn8MLXWFEMY8OxXM4nGAscqmX5s9tr0Ae52F/b6pZW93aTJc21xGssU0ZyrowyGHsRXgMn/J9cX/AGJR/wDSk1Y+BuoeM9H/AGYfBcvhPQLLXp2Rv7Lsdc1OTTvL0cyymw3yCGZvMW1+zAjb1z6V5g/iT4p/8NbR3h8CeGv+Er/4RgxjSf8AhKZvsv2bz/8AWfavsO7dn/ln5XvQebjv+XX+OJ0F7efZf2pPix/tWGh/+iriuq/tb3rxe317xNdftEfE2fxdoun+HdYay0YGy03U2v4gginw3mtBDXY/2x/tVzSqcsrHkYyry15L+tjyv9vDxHLP8Bn8L2m1tW8W6rZeH7L/AH5Zlf8A9Bjr1rVbfwb4K+Gr2OtWmmR+EdJ04QzLqEKPCLeNMfMpWvmr4zSx/Ez9qT4W+EJWkbT9CtLvxLfLHIUb/nnAdy/dIdaqftNLp3w9vvhxr+krLd68/iW10+Oz1K4lvbeaOTdv/dzsyo47SL8wp8+yHGfMoQvq9f6+49L/AGGW8SaX8Ez/AG4l5Z6ZPqlxPoFjqLEz2ulsF8mM7vfNfQ39re9cBfeKLTS7V7q+uorO1T7808iogzxyTWfZ/ErQNQuLW3tde025uLoFreOC6idpwN3KANz916j2hyyxDnJySPT/AO1vevBNP14+Ov2zNVErM9n4C8ORQwx9lvL87nk/78RIteif2x/tV4J8EdSMf7Sn7QLS/wCukutG/wC+fsbbKFU3Lp1vdk+y/VL9T2D9pL4y33wv+GFxc6Kqy+KNXuItE0SH1vpztj/75+9Xmv7Q1rafBv8AZv8AD2iaXcSS6tD4g0f7LfSc3F5f/bo5pJ5D3kfa7GsT9oCxj8efHX4J+HtRVp9D8/VNTuodxG+SCCPyfmHoz1jeNfAWieI/2hfh74f0SyZLTw2T4n1qRriSRVK/LZR4ZiN5kV2qlUNqdWKUbvu/u/4b8T1vUvtLftNWF1/Y1y+n6Lp3mab8r7Li8vpmF5dGTaV/cW0G3a39/bXuv9re9eQap8X9C0fxVpXhy4uJv7W1Oc21vGtrIU3rC0xBk27B8q11H9sf7VT7Q5pV3pdHnv7OviA+GfiR8Yvh2r/6HouuR6vp8f8ADFb6hF9oaNPYS7695/tb3r5M8B6ky/tkfFKWL/VtoWlrL/v175/bH+1Q6li6ta0r90vyPU/2Lv8Ak0v4Rf8AYs2P/ola9or5C/ZP8WfGS0/Zt+GkOh/Djwpqmix+H7NbO8vPGU1rLNEIhtZo105whxjjJr0bX/Hnx6s9Hv5l+F3hGAxwSOstt40nuJFIXgrGdNXcfbNdZ9bKXKm+x6H4i+Mngbwjq66VrXi3SNM1E/8ALrc3aI6/7wJ4/Gust7iG+t454JEmgkAZJI2yrA9CCK/FO+vrnVL6e8vJ5Lm6nkMss07M7u7ckknqTX2n+xx44+LUfwyuLLw14R0bxTolpfSRw3Gt+IpNNaHhSYkC2k+UGePrSufJ5bnksdiXQlCyd7fLufcNFeM/8Jp8ev8AolHgn/wvbj/5VUf8Jp8ev+iUeCf/AAvbj/5VUz649morxn/hNPj1/wBEo8E/+F7cf/Kqj/hNPj1/0SjwT/4Xtx/8qqAPZqK8Z/4TT49f9Eo8E/8Ahe3H/wAqqP8AhNPj1/0SjwT/AOF7cf8AyqoA9morxn/hNPj1/wBEo8E/+F7cf/Kqj/hNPj1/0SjwT/4Xtx/8qqAPZqK8Z/4TT49f9Eo8E/8Ahe3H/wAqqP8AhNPj1/0SjwT/AOF7cf8AyqoA9morxn/hNPj1/wBEo8E/+F7cf/Kqj/hNPj1/0SjwT/4Xtx/8qqAPZqK8Z/4TT49f9Eo8E/8Ahe3H/wAqqP8AhNPj1/0SjwT/AOF7cf8AyqoA9morxn/hNPj1/wBEo8E/+F7cf/Kqj/hNPj1/0SjwT/4Xtx/8qqAPZqK8Z/4TT49f9Eo8E/8Ahe3H/wAqqP8AhNPj1/0SjwT/AOF7cf8AyqoA9morxn/hNPj1/wBEo8E/+F7cf/Kqj/hNPj1/0SjwT/4Xtx/8qqANH4zfEDWtK1DRPBng9Yz4w8QF/JuZ13xafbp/rLlx3AyAB3NeL/tH/s9+G/BPwE8VeILqS78S+L1FqG8QavO0lxlruEHaM7UHsBVO48Z/GS1/aJ1O7h+HGi3fir/hG4Yxptvrwniis/tDHekssdvuzJ2xVL9ozx18adY+DfiG08V/DbTtA0CT7P8AadQh1WGZ48XMJXCLKerYprdHyONrU6lPEOrGTaUkvdbSst72te+t+h6bpP7Ottp/g/RvEfw3vZvBfi1rC3nY28rfYr5zGpK3MJJDA+3SvT/g/wDEofE7wj9uuLM6XrNlcSafqunMcm1u4ziRPpnBHsa8W8JfEb9oO38K6LFZfCbSruySygWKf+24FMieUuGwZqwPhD4u+MH/AAs74nXGn/Dvw9Jfz3Vi2pabf+JTZR2k32f+B4re5Dl1wzdOcUdTqwtanCpSjSjKKlo04tLa91dWvp03vc7z9hr/AJItc/8AYavP/Qlrs/2hP+QB4a/7D9r/AOgyV4L+yb4k+KmnfDGaHwv4D8N65pf9p3TNdan4pmsJBJkbl8tbGX2712PxU8SfFXUNO0mPxN4E8NaJax6pBJaTad4pmvjNcgPsiYNYRbFPOXr1Mp/32l6/oOP/ACKY/wCFGz+1jJ5evfBF/Txs3/pm1Orf9qf7VeWftDeI/iPqHiX4QL408GaB4a01PFrNBc6T4jl1N3m/srUAEaN7ODAwScjPQDvmuj/tT/arsy2l7Sk35/5GWaVfZ1ory/VnUahrlva2NxPeOq2sUZklaT7qoFySa+af2E9LtdU+GPiDx7d6fCt3428RX2sfPEpMcJkZI4/zzV39rr4hv4N/Z28a3MDN9svLL+y7dV6lrgrDx7hWqvpfwZ8N+FvgZaeHtUvdYsbfTtFVLu4s9auo1R0hzJIEEuz73zbdu2uyVFurZLZX+/8A4ZnDGvajdv4nb7v+HRR8MzM/7c2oy/D+3Sx8J2eg/Z/F72S7LObUCWMSED5WuVDJ+VfU/wDan+1XzP8Asb+NrvxV+zj4Q1K+s7OxnkjmiK2ECW8ZWO4kiD+WihQSq16j/wALE0Jr7ULJdc037Zp0Ylvbf7Unm2qHnfKN25B/tNVUaC5FP+bUmtiHzuH8un3Ho/8Aan+1XkUOtHx9+0he28zK2k+A9Nhkhh9dSvFkzJ9Y7Zdo/wCvp663+1P9qvHPgpqBj+KvxtaT/j6bxBasf73l/wBn23l1c6GsV3f6EU8R7sn2X6pH0hJrCwxs7uqqo3MzcKorybxN8avCupeMPCq/2uraPp73OrTassMpsV2RfZwDchfLxuuXbdu2qyV538WtauPiB8a/Bnw0nZl8LvYXHiDWoei6jHE6xw259Y/Nbc6/xV21r4g06z1rxrreovBbaPplvDpr+Z/qlhhhaeR/p/pO0/7lR7NybS6f8OWqvKk31V/0PZ49YSaNXSVWjYblZWyrA0/+1P8Aar5K+A/iLxX4T/ZO0TUYbe3S5trK7vreHVWf9zZb5ZbdML1xFsr134WeOLvxl8MfCPiDUPKW91XR7S+uFhXagklhWR8e25qqFNTtpurkVKjp312diDXte/4QH9orw3cwFV03xzaTabfx/wAP2+1j862m+pgWaM/7iV6//an+1XzZ+0NqRk174O+U3+lL44tmX+95f2S78yvY/wC1P9qiFD3pIJ4j3Yy7/wCZrfs2Ted8ePjc3+xoX/pPPXcfCX/kqHxS/wCv22/lJXgfwX8RePNP+N3xcbwR4V0TxP5i6P8AbP7Y1yTTPJxbzeXsKWs+8EZ5rtvAPiP4p2vjDxvNpHgTwzf6tNcxNqdpdeKZreK0kAk2iKQWLmYEdysdcEI8tPGr+6v/AEuJ9dhZc1CDMLQ777H8bvjov97xTa/+mXTa6/8Atr/arxbwxrmuTfFb4xS+I9NtdF1yTxHbtdWNjeG7hhb+ybELsmMcbP8ALj+EdTXX/wBsf7VetgsNzYeEvIxqv32eO/to+JLPxHrHwi8A3t3DbWOteJo9R1BpnCp9jtRvkDMfrXqPjz9oLQrPw/qVr4burbxn4mkt2W00HR5BdyyyMuE8wIxEcfq77Vrw3TNS/wCE6/bS1e/YlrTwT4disk46XV0d5b/v1n8qh/aG8S/ZPjv8DI9LP2XXLjVpvMvo+HaxUL50DH+JWrJ0XFTqLvb8bfncemkT2f8AZR+Hep/A34G6B4T1i8W61ODzZ7hI33RwGWRn8tfYV65/bX+1XluofESysZGtoPN1C+84wLY2e15d4RZDnLBQArIxZmVa5/wz8fvDfi7UtJs9Nlum/tWO4ktJpbdkSUwbRMnPzAozbS33d1diw1OnaFzNty1PcJvEEdrC8ssqxRxgs7N/CBXk/wCy7rEmp/CuLxXdFm1LxbfXOvXUjekz4gT6JAsMYq94kupNU8O6pZwN++ubWWJPqyMBXDfs068k37P/AMPtn/LLRraBv9l0TyzQ8L+9UWuj/QL6GTrPxi8N+Iv2uLm28TeI9H0XQfh7p6/YodUvY4Fn1S7XmYb2G7y4Plq54D+Iln8Qf2vPHWs+HLy11zSNK8IWOlm5sp0kt57g3EtwgDj8fyrm/gLq1t4Jt/jR4h1ycWYPjLU7q5uJf4bVBGY/wCVqfs9aXqOh+G/E3jXV7Of/AISLxlfya3Lp/wAomig6Wtr8xC5CVyU8NKTj5tv5bL9DRtJM1V+E/iNf2Y9D8D3SJealeX9vfeKIYZk824SW8+1XscblgpJZtte+aHrGof2XC2rNB/aDZklWDlE3MxEYPfavy7v4q8h+Hvxek8dal4rtJdJl0iTQdRGnlZJhIz5hjlydvyj79dl/bH+1XXTwcWuaO233GcpPZnN/APXn0HWviT4IZ/8ARfD3iBpbFf8AnlaXsS3aRj2V5ZlFdt8VtY3fC/xgu772jXn/AKJavEfhnqBk+PXxmv1/492k0e03f3pI7Nmf/wBGpXcfEzWN3w38Vjd97Sbv/wBEtUQwt6Tdtr/g2Ny94+uPgp/yRvwH/wBgCw/9J467Svm/4T+MPjdD8L/B8en/AAx8H3VgujWS29xceNp4nePyE2syDTGwcY4zWv4k8efHqy0LUrhPhh4Rt2jtpJBLbeMp7mRCEJBWM6au85/hyM18GenKXKnLsei+IPjJ4G8J6uulax4t0jTdSPW1uLtFdf8AeBPy/jXW29xFdwJNDIssMihkkQ5DA9CDX4pXl5caleT3V1PJc3U7mSWaRmd3duSST94mvtj9jvxx8XB8L5LPw34R0bxVotpfSQw3Wt+IpdNaEAKTEiraT5QZ/Wlc+UyzPJY/EuhKFlq18u59uUV4z/wmnx6/6JR4J/8AC9uP/lVR/wAJp8ev+iUeCf8Awvbj/wCVVM+tPZqK8Z/4TT49f9Eo8E/+F7cf/Kqj/hNPj1/0SjwT/wCF7cf/ACqoA9morxn/AITT49f9Eo8E/wDhe3H/AMqqP+E0+PX/AESjwT/4Xtx/8qqAPZqK8Z/4TT49f9Eo8E/+F7cf/Kqj/hNPj1/0SjwT/wCF7cf/ACqoA9morxn/AITT49f9Eo8E/wDhe3H/AMqqP+E0+PX/AESjwT/4Xtx/8qqAPZqK8Z/4TT49f9Eo8E/+F7cf/Kqj/hNPj1/0SjwT/wCF7cf/ACqoA9morxn/AITT49f9Eo8E/wDhe3H/AMqqP+E0+PX/AESjwT/4Xtx/8qqAPZqK8Z/4TT49f9Eo8E/+F7cf/Kqj/hNPj1/0SjwT/wCF7cf/ACqoA9morxn/AITT49f9Eo8E/wDhe3H/AMqqP+E0+PX/AESjwT/4Xtx/8qqAPZqK8Z/4TT49f9Eo8E/+F7cf/Kqj/hNPj1/0SjwT/wCF7cf/ACqoAv8Axl+IGt6fqWieCfB3lDxfr+9kup13Radap/rLlx3x0UdzXjH7SH7PvhrwP8DvEGvTm78SeK/MtVfXtYneW4O65iBxzhBz6VUk8ZfGS1/aH1q7t/hzot54p/sC3i/s+315Z4bez81juSWWO3LbpO2O1UP2i/HHxo1n4R6xa+LPhvp3h/Qnlt/OvodVhmdCLiMp8qynq2KXY+Rx1anVpYh1YybSkl7raVla97WvfW/Q9Vg/Z0t9I8O6d4g+Gl5L4L8VfZIZttvK32G9bYpKTwkkEH26V6V8IPiSvxP8HrqM1m2matazyWGp6c5y1pdxkCSM/Q/zrxrw78SP2hotB0yO3+Eekz262sQjm/tqAbl2DBx530rnPg/4u+MH/CyPibNp3w68PS3k97aNqWnX3iVrKK0n+zjlGit7kOXGGbpzimdmHrU4VqcKMZRUtGnFpbXurq19Pnc9n+BP/IY+I3/Yx3H/AKEan+Df/IzfEf8A7Dkn82rzH4X+JfipZ33i5/D/AID8NatPNq00mpJqHimazFrdcboYmFjJ5yDtJ8v0qb4f+JPitZa14sk0HwH4a1a6m1F5NThvfFM1mlrc45jiYWD+av8AtlVr63G/Fi/Sn/7ad9b+PQ9Zfkz0z41fEXVfDC6L4b8KwRXXjPxHO1vp6zDMVuiruluJB/dRecdya8d+On7PeheFvgl4s8R6zc3fi3xilrGx1zVZGd0YyoD5SZ2xrz0ArK8QeMPjHb/tGWt2Ph1oc3iVfDJS20uz8QC6gW3N1+8nEssNt8/RSnpiofjx48+OGqfCLxHaeJfhnpmiaJLAi3V9Dq8MrRL5qc7RIa+QlszysVWp1Pbe1hKVrpe62lpvta9+vRHbeB/2dtPk+GPhHxN4Gv7jwR4xl0WyuGvLKRvs93IYEJFzCcrIpNeqfBf4lXHxG8OXQ1WzXTPE2kXLafq9gpysVwn8SnujDDA+hrxD4b/EP4+Wfw88LW+lfCrS9R0uPS7SO0u21mBTNCIUCSEGbuMGsv4aeL/jC/xq+Il1Z/Dvw+damh07+1tMvvEbWcVuwibyWEkUFyGZo/5VXUrCVqdOdGNKMo82jXK0tr32tfT5o99+NHxIv/BGl6Xpnh61j1Dxh4gufsGk2sufLV8ZeaT/AKZxr8zfhXlHxR/Z30fSfhH4v8R+Kby68beM49Lml/tfUpGCQybekEO7ZEnsK5fxr4w+MUPx88MXcvw50J/EMWjXY0/S7LxB9rgZC6ebL5ssNth8YG3HSrfxc+IHx41D4Z+JbbXPhfpelaRJYyLdXkesQO0UePmYKJjnipn8LDE1qdSVVVoSly6JcraWm+1r679F8zd+GH7Oujap8JPCHiTwpdXXgnxnLpVvP/bGnSttmfyxxPFu2SofQ+ter/Bf4kX/AI30vVNM8Q2sen+MPD9z9g1a1iz5bPjKTR/9M5F+Zfxrwz4S/ED48af8MfDFtofwu0vVdHjsIUtL19YgRpY9o2sVMwxxVPwX4w+MU3x+8T3cXw60NPEMujWg1DS73xB9kgVA7+VL5sUNzl8ZG3HSr6kYOtTp+xVKMlzWT91pPTfa19N+qPoH40fEe98B6Pp9loVpHqXi3XboafpFnKcIZCMtK/8AsRr8zfhXk/xM/Z20nTfhL4x8S+Lr658beM4tHuZxqupSN5dvIIjxBEDtiQY6YrmPHnjD4wxfHjwbeT/DrQTr8OmXo0zTbLxH9sikB2edJ5ksFttYLgY9Kt/Fb4g/HjUPhj4pttc+F2l6VpEunXCXd6msQO0UXlncwUTHPGaifwsvE1qdSdVVYyly6JcraWid9rX1+SNr4U/s76JrXwj8JeIvDV1deDPGMmmxyjWNLkIEsmP+W0Wdkq+xFerfBf4j6j40sdW0bxJax6f4y8O3AstWt4c+W5K7o548/wDLORfmH414X8H/AB98d9P+GHhu20H4X6XqujxWSLaXkmrwI0sf8LFTMMVW8J+MfjHN+0Jrt2vw60OLxDJoFsl9pd54g+yweWJn8ubzYobnL4yoX0q3uzPB1qdP2CpRkuayfutJ6b7Wv59UfQ/xm+JU3w48M27abZ/2p4j1W5TTtIsOgmuX+6WPZF5Yn0FeU+Nf2d7P/hWnizxN481C48a+MotGvLhbu7kYW1nIIHIFvAMKig1yfxQ8X/GCP4zfDi6vPh14fGswxaj/AGTplh4ja8iuJDCvmO0ktvbhCsf860/iN8Qvj5efD/xNb6r8KtL0/S5dLukurtdZgcxRGBwzhRNzgZqZbG2JrU51Ksa0ZSUdElFtbJ30Vr69dhnwJ/Z70DxV8EfCXiLSLi78JeMZLWRhrmkyMjswlcDzEztkXjoRXsPwV+IureI21rwx4riit/Gfh2ZYL3yVKxXUTLmK5jHZXGeOxFeCfAXx38cNK+EPhu08NfDTTNa0SOBxaX82rQwtIvmvyUMg96k0Txl8ZLj9o2S7f4c6Hb+Jm8MbJ9LuvEH2WB7UXXyymWKG5+cN8oGOmaqW7ObA1qdOGH9lGSbUU/daT03va17636o+i/jJ8Sm+GfhNbq0tP7S13ULiPT9J08HBubqQ4RfoOSfYV5d4g/Z2t7vwL4g8SfEW+m8a+L00y5nV7iRvsVlIImIW2hBCqAfXrXF/Frxd8YP+Fr/DK41D4deHk1G3m1BtL0zT/EjXsd3L9nAYu8tvbBCi5Zevetvxt8RP2gbrwbr0N/8ACfSrOwksJ1uJxrMDGNDE25gBNziolszrxFanOtUjWjKSjokotrZO7srX1+VjM/Z3/Z78OeNPgP4V8RWMl34Z8XutyV17Sp2jnJF1MBvGdrj2Ir2X4MfELWdYvNa8HeL0iXxj4eZBcTwLtivoHH7u5Qdg2DkdjXgH7O/jn416P8G/Dtp4V+Guma7oKLP9m1CbVoYXkzczFsoZBjBq3Z+MvjJdftFWV5N8OdEtvFP/AAjcsb6Zc68LeKWz+0KVkaWKO42kScYxVHLg61OlCg6UZJvlT91pO63va1+t+p9KfFz4jRfC7wXPrBtW1C+klS0sNPj+/dXUh2xxD3J/ka83tv2d08SaVceIPindv4v8SmF5ls3lYafp525EcEQIU4P8Tdf1rzz42eLvi/J4u+G8uq/Drw9bTwau76dZ6f4la+S7uvJbYHaS1txHjnnmuq1P4kftEyabdrL8ItIjjMMgZv7bgOBg/wDTb0qZbM7a9anOvOFaMpKNrJRbW17uyt5K+xyX7M/7P/hfx58D9G1sLdaF4pE1wIte0id4LmMrKwGDnBH4V7T8H/HmuSa5rHgHxq0UvizRUWeO/gXbHqlmxwlwq/wsD8rr2NfPf7Nvjj4zaL8JdMtvCPw407xBoYmnMV5NqsMDsfNOQVaUe9ad140+Mt58fvCV1efDnR7LxMmk3kcVjPriQw3NsWUkvLElwU2t7d6o8/B1qdKnQdKMk3yp+60nfTe1r9b/ACPp34pfEK0+F/gjUfEN3E90bdQkFrH9+4mY7Y4l92YgV5v4d/Z9fx6sfiD4uTyeJNZmPmx6H57rpumg9I441YByO7tnNecfHzxV8XrifwC2t/Dvw3aRxeJrR7G30/xQ98Lu8CyeVG5ktIAi5zzk12H/AAsr9o3/AKI/pH/g7t//AI9QejXrU5YiUK0XJRtZKLau9buyt6XPOf2UPgP4V+I3wdbVbqG50vxFDqlzHb65pNw9teQYC42sD7+le6fCfxt4g07xZqfw58bXCXviDT7db2w1ZE8tdUsi23zCvaRW+VgPrXzf+yz40+MGh/DKS28GfD7TvEekf2hOxu7jU4oHEhCbl2tKK6PxD40+M198cPhxcal8N9G03xBFHqS2NpJrixxXsRhXzBJLGk5jC/eHynmn1PKwFanSoUZU4yUnZP3XZ3dtXa2l9H8j6L/aH/5N/wDiZ/2LGp/+kktfhxX62fG7xb8a7j4OePItV+GvhDT9Kk8P6gt3dW3jWeeSGI20m5lQ6aoYgds1+TFnZz6hdRWtujS3EriNFX+Imok1FXZ9ok27IWzs59QuEt7WJp5pPuqtep+G/wBn/U9QtftWoy+Qv3vLWvbPgz8FbTwnpK3F/EsuoSj96zV1PizXNK8F2Ly6veRWNr91Wb7z+wA+Ymvy7MOKatat9Wy9fO12/Q/Ssr4doU6Xt8e/O17Jep4bN8B9Lt7MszSMy/7TVzevfBmO1s/Pt5WX+7XWah8fNEupvsdlZX140jiNGVVGSW92rR8TeKtMt9Yg0Z7pYrqNA21uFYt712Yf+16dOdau5K1rff27Wuexy5BiK1PCUlB8zd3tZJPrpq3br3L/AOzv+yPfeJLG98a+JtFn1zR7JZH0rwzbXK21z4gmQ4Mau5G2Ff4yOuD6Vn/FT4d/ELxv4V8S/Ef4oK3gfT9HhhsNA0KS28mMsXASztrf/lnEkX50zxJ8QvEGrX2hz/2vcxXWgQxwaZNAyxtahOgXbXmnxq+Kvjn4m61bv4y8R3WtNbgiCOQJFFH/ALQjRQgJr6zA5jHE2hLSX5ny+ecL18spvFU9afZXvHXTff17nvv/AAS5/wCS/wDiD/sWLj/0rtK/UWvy6/4Jc/8AJf8AxB/2LFx/6V2lfqLXtI+ECiiimAUUUUAFFFFABRRRQAUUUUAFFFFABXkH7OVtDe+BfF8E0azQS+NPE6SRuMhlOr3YINev1R0rRrDQYJodPtYbKKWeW6kjhQKGlldpJHOOrM7MxPqaAPJz+y54ebwaPBB1zXj8PQ2P+EU8+L7L5Gc/ZfM8vzvI7bPM6cZqX9o5vt3gvRvhzpoNtc+OL+Pw8Bbjb5FhsaW+cY6AWsUyj/adK9hqhcaHp93q9lqs9lBNqVlHLFbXUiAyQpJt8wKewbYmcdcCgCe1tYdPtYre3jWC3iQJHHGuFRRwABXgMn/J9kX/AGJR/wDSmvoavniT/k+uL/sSj/6Umg83Hf8ALr/HE8e+LF59l/aq+JP+1pmi/wDou4qlcak81vKiTtBIyFVkXaWQnuM1nfHy8+y/tXfEL/a0zR//AEXNXO/2p/tV42IqWqNHx+Z1uXFzXp+SMbQ/hL/YvxKu/HP/AAmGtXmtXkEdpdefHaeU8CMpEYAhGwfL/DWp8VPh7Y/FBPD80149jqWg6nDqthcKvmKJUbdtkTuhqX+1P9qj+1P9qsfbu9zg+uT5lK+qK+ra9pfg/VNJl8Qy3Wp6hqF3JKl9HCwt4JI4WwMBjgbflRPmZneuN+Bq6XdaLpdxqWkrN4qn1nUddu1kjw+lzzSS/wCs9H2siBa7r+1P9qj+1P8Aao9tpYr657nL1/4f/M7b+1vevH7Ob/hD/wBqDUbpvls/Gehxssn968smwU/78SV1X9qf7Vc5440dPF2m26xXX2HVLGdb3T75Vy1vOvQ47oVZ1Zf4leiNXXUVLEqLak9Grf18zuPFGixeIr7RtSiumsdW0edpbS6VVdV3o0ciOD1Rlan+FdDsvCf2+eJ5LzUtSm+032pXO0zXUgXAyQoUBV+VVX5VWsCx1q5ks4GvEjgumQebHHIzor98EqMip/7U/wBql7XoZ/WZW5b6GF8V9R3/ABQ+ELf3dZu//SCevU/7W968f8ReEdP8Ua5p2rXl7qC3WnSGe08i6MaQOU2EgD1WrniptU1Lw+2l6Xe/Y5rkCCXUGb97BGRh5E9ZPSqdVOyuayxEZKEU9t/vbKvwRm/tbxt8TvHH/LHXNWjsbRv4Xt7KPyBIPYvvr17+1vevOtBisvDOi2WlabEttYWcSwQwr2RVwKv/ANqf7VKVa7uRVxSqTbW36LRH2B+xd/yaX8Iv+xZsf/RK17RXi/7Fv/JpPwh/7Fiw/wDRK17RXvn6kfH3xy/Ze8B3Hxf8AC3sbjT4/E2pXMWoQWUuyN9kDSblXBCnIPSvqbwf4O0bwF4ftND0Gwj03TLVdscEecD1JJ5JPcnmvNfjN/yWH4Lf9ha8/wDSR69loPJwmHo0q9aUIJO66f3U/wAwooooPWCiiigAooooAKKKKACiiigAooooAKKKKACiiigAooooAKKKKAPJPjN4I1xtZ0Px74OijuvFOgLJFJp8jbV1KyfmS33dnyNyH1ryb9o34++EPiJ+zz4u0q3vW0rxJ/oqyaBqqm2vo2W7hJUxt16dq+tK8T/a78PaXqHwH8X391ptrc31rZq0FxLAjSRnzE+6xGRRtqeLj6Eo0a06UrKUXdP03XZ/ejKtP2jNHs/B+g+H/BKL448Ztp0EcWmaY3mRQMI1BaeUfKiDua9B+C3w3n+G/hOWLUrpdR8Rapcyalq98ows11Jgvt/2RwAPQV0vhPw/pfh3Q7W30rTbPS4DEhMVlbpCmdo7KBW3TOrD4eUXGdWV2lZW0S/4Pn+B88/sNf8AJFrn/sNXn/oS12f7Qn/IA8Nf9h+1/wDQZK4z9hr/AJItc/8AYavP/Qlrs/2hP+QB4a/7D9r/AOgyV6mU/wC+0vX9DzF/yKY/4Uec/tuSeUvwcb08bf8AuI1KuA/tSu0/byk8nTfhC/8Ad8aj/wBNOo143/an+1X0eQ0vaYeT/vfojwOIq3s8VFf3V+bMH4r/AAjX4vSWSan4q1Sy02xvodQt9PtIbbylnjX5WJaIs4/2WrtLrT01jwneaDq95LqsN5ay2l1MypG8qOrKfuKFHytWT/an+1R/an+1X0CwcU27bnzbx02lG+i2MH4b/DtPhP4V0jSJtf8Atfh/w4JpbJWtxC67vMJe4cMfMKrI+NqqtcnZ+IvBereOrNJfDDQa0t19p0/SW0OWO5lLvk3txM8Q4/i+98v8XzV6V/an+1R/an+1WTwKsox2Xz/U1WYNtynq38v0Ow/tSvMbe4Pgv48Xt47Kum+M7CGNZG/hv7RW+T6vA24f9cK3v7U/2qoa1HaeINPezvF3RsQysrYdHVso6EdHDfMGrWeFckmt0ZU8Yo3T2en9fM1/F3hmy8RalpetreS6Vrmj+a1pqUG3KRuuJI5A2VeNtvK1yXhXwb/wmXg/TpfFWoyanp99IdWl0eOHyLaV5pfPCzDcXkCs20IzbK35ryO4tXt59s8MiGN1k5VweDmpF1IRqqrtVVG1VWpeDjKV2iljpRjypknxU8TWWl/DvxAt1dQ23n6dcwQqzKGdzC2EQdzWX8AfElpdfBnwVZwXEctxY6HYW11CrfPBIlvGCjDsa0v7U/2qP7U/2qf1R+05/Kwvri9nyedzB1i6PjT44aCsTK2n+Drea9upP4ftlzF5UMf1ETTSH/fSvTv7Urz/AEWG20Gza3td3zOZZZJGy8sjcl3PcmtD+1P9qnDCuN292Kpi1KyWy0/r5nqn7G03nfGT43N/s6H/AOiLivWvhL/yVD4pf9ftt/KSvFf2HZvtHxa+Nze2h/8Aom5r2r4S/wDJUPil/wBftt/KSvj5rl+vLyX/AKXA/UctlzYOk/I+VPFuofY/2iPjZ/2MNp/6aNOqHULyLUrOe1uGbyZUMb7ZGRsH3XDCsH4pX32X9pT40/8AYdtP/TRYVk/2x/tV9xlOG58BSb6ozrP94y14d+G/hHwnrUur6RpP2HUpn3zXEd1NumPrJl/n+9/FWj4q8N6H40utJutUtWlvtKnM9jeQTPDNbueCUdWDYPdfutWJ/bH+1R/bH+1XprAU1HlUVb0M+d7kutaprPhlrXTvDOgxXlvJaXW3UJLr97BdMylPM3/MQzfM71V+Da6p4T8E+HPD0+nNp0OmaasV3JcyI7zXXylzHsY8bt7FmqX+2P8Aao/tj/aqP7PXPz3+XTp/kHNpY7z+2v8Aarz74Z3B8B6hq/g+Xctit1NqWjyfwvazP5kkI945Wf8A4C6VL/bH+1Uc2oRXDRPKkcrRP5kTMuWQ7WG4eh2tVywXM1JboXNpY37zwz4f1DVpdRuLBZbiWaOeZfOfyZZk2hJJId2x3XamGZd1dD/bX+1XB/2x/tUy41KO6hlgnWOeGUGN45FyrA8EEVSwaj8KDmMz4PaqE8bfFf5vveIV/wDSOCvRda8ZW3h/SbrUbx28mBNzKvLueyIO7lvlC/xNXnGm6L4f0W8+1WGiaZY3X/Pa2s4o359wtak2oRXHlNLHHL5T+Ym5c7SO4rGlgZQpuL31/F3G5Jsu/Cmxu/Dvh+8utUXyta1y+m1fUI92fKkl6Q++xFSOtP4haxu8A+Jl3fe0u6/9FNWH/bH+1WJ461jd4J8Qru+9p1z/AOimpywSp0Wl0Qc15H6TfBT/AJI34D/7AFh/6Tx12lcX8FP+SN+A/wDsAWH/AKTx12lfh57p8e/Gr9l3wHN8aPAEVtY3Gn2/ia+uxqFtZy7I28uDzAVUfcOQelfVHhDwfo/gTw/Z6JoNjHp2mWqbIoI+g9yTySe5PJrzP4wf8lv+Cn/YQ1H/ANI2r2ag8nB4elSr1pQik7rp/di/zCiiig9YKKKKACiiigAooooAKKKKACiiigAooooAKKKKACiiigAooooA8k+MvgnXY9e0X4geDYUuvE+hpJBNpsjbV1Oxfl7fd2cN8yH1zXkv7Rnx78H/ABD+APiPTLa/Ol+IVmtBLoOqr9mvo2W6hLKY274r61rw79sLw7pWofAbxbqNzptrPqFrbRtBdSQI0sR86P7rEZFB4mYUJxoVpUpWUou6fpa67P7ytL+0ZpEPh3S/D/gRF8c+MXsoY4rDSz5kEDbFG+eYfJGg+vau7+C/w3l+GvhFra/uhqOv6jcyalq98Bjz7qU5cj/ZHAHsK6jw14f0vw7pcNtpOmWelWxRT5NlAsKdPRQBWvQdtHDzUlUqyu0rK2iX/B8zyX4E/wDIY+I3/Yx3H/oRqf4N/wDIzfEf/sOSfzaoPgT/AMhj4jf9jHcf+hGp/g3/AMjN8R/+w5J/Nq+ux3xYz0p/+2mVX+PQ9Zfkxnxr8A61rFxoXjDwj5TeMPDUkkttbzPsjvoHXEts57bgBg9iK8s+OX7QXhTx18B/GGjy3D+HvFH2dEl8P6wpgu0cSxkqFP3/AMK+qa8m/ad8O6XqvwT8ZXd7ptpd3VrpU7wTTwI7xMFJBUsOK+QaurEYyjONOpUpStdO6ez038nY4nwh+0XoGg/CvwZoHhlW8aeNP7Ds4YtD0kiVklWCMN5zj5Y1U/eJ6elekfBX4c33gTQ9QvNfuo9Q8W69dNqOr3UX+r81gAsSf7EY+VfxrY+Ffh/S9B8B6Cumabaacsun27yLaQJEHPlLyQo5rr6ovDYedoTrSu0tEtlp+LPMPjZ8PdV8VWmjeIPC8sVv4x8N3LXmmtMcRzhl2y27kdFkXjPsK83+JX7Q3hnxZ8HfGeiaq7eEvF39mTRTeH9aHkziQr0Qn5ZAezLmvpevO/j14f0vWvhJ4wl1DTbS+ktdFvZYGuYEkMTiByGUsODmpkuZWDFUZxjOpSla61T2en4M8t+HH7RHhjwn8HfBWi6S7eLfF39kwQxeH9FHnT+YIxxIR8sYB6s2K9H+CXw91Xwraaz4g8USxXHjHxJcLeak0P8Aq4FVdsVumeqxrxn3NW/gH4f0vRvhH4Nm0/TbSxlutFspZ3toEjMrm3QlmKjk5r0Sq63JwmHnyU51ZX5UrJbLTfzf9WPM/jV8OdS8ZafpGs+Gp4rPxj4cuTfaVLN/q5SRtkgk/wBiReD9BXmvxD/aJ8N+KPg7420PWWbwj4v/ALGuYpdB1geVL5hhbiMt8sgPYjrX0tXA/HDw7peufC7xW+o6baag9vpF5JCbmBJDGwgcgqWHB+lTJcysViaE0p1KUrNrVPZ6fg/M8k+GH7RHhfwj8GfBujadI/ivxb/ZscUXh/Rf31w0mOjkcR+5bFekfBH4f6t4bh1vxL4qeOXxj4luFur8QnMdtGq7YbdCf4Y1yM9yTU37O/h/TNH+Dfgqex020sprvQ7GWeS3gSNpXaBCWYqOSTzXpdU9XcjB4efs6c6sr8qVktlpa/m7HnXxq+HN74+0CyudDuo9P8V6HdpqWkXUg+QTJ1jf1RxlW+teb+Lv2itB1r4W+MtA8Tq3gvxp/Yl5DJouqsIzJKYHA8iQ/LIrE8EdfSvo2uU+JXh/S/EHgvWU1TTbTUUjsp2Rbu3SYKfLbkBh1qXqrGuIoT96pSlZtap6p/5M8B+BX7QXhPwL8BfB2kLdNr3ifyJEi8P6Opubt3MshClV+7+NepfBbwHrWmXmu+NPGCxp4v8AEbo01rC2+Owt0GIrZT3wDlj3P0qH9lvw9pel/BDwdeWWm2tpdXWmRSTzQwJG8rEZyxUc167VN3dznwOHl7GjKrK/LFWS22tfzdvuPPfjV8N7n4jeF4F0q7XTvEmk3SalpF4wysdzHkqG/wBhuVPsa881f9ozRb/wN4l8P+MYf+EG8aLpdxFLpWqHy45pDCwBt5T8siMehFfQtYHjXw/pXiLw7fQarplnqkCwSERXlukyg7TyAwNS1dWOqtQnzOpSlZta31T/AMn5/efN37PHx88I/D/9nzwjpUt62seJttysfh/Sl+030rtdTEKI16fjXq/wW8D65b6prvjrxjHHB4q8QeWosY23Lpton+rtw3c/xMfWs/8AZI8P6VpvwJ8IX9pptpa3t1Zbp7iGBEklPmN95lHNe00zlwNCcqNGdWV+WKsl6bvu7HCfGP4cH4meC30+2uv7O1i0nj1DSr8DJtbyIkxSfgf51wuk/tGadBp914e+IiDwN4witnSW31E+Xa3R2keZBOfkZCffivdazta8P6Z4jtDa6tptpqlqeTDeQJMn5MCKTV1Y7KtCfP7WjKz2d9U/+D5/mfK37NHx38HfDn4B6JYX+pfbtcae48nRNNU3N7KWlYhViXnNet/CDwdr2o+J9X+I3jO1Fh4g1WBbOx0ndv8A7MsVbcsRP/PRmO5sd8Vj/sbeHdKsfgT4b1K3020h1Cf7WJruOBFlkxdzAbmAyeBXu9M4MvoTlQozqyuklZL03fd/cjjPi18O4Pil4HvtCe4ayuWKz2d6n3ra4jIaKUe4YCuD8H/tE22htF4c+KSL4M8VwLsaa8+SxvwvHnQTH5SpPY4xXt9UNX0XT9es2tdTsLbULZusN3CsqH/gLAig9CpRnz+1pStLZ31T9f0Z8h/sn/HHwb8M/gjJbavqyPqkmrXDQaTZAz3k+RGAEiXkmvZfhR4W1/xR42v/AIl+MLFtJv7i2+waNoshy9hZ7txMn/TVzyfQDFZf7I3hfR7H4dTX1vpNjBff2tqEX2mK3RZNi3LgDcBnoK96pnm5dh5vD0nVldRV0l+b7/gefftD/wDJv/xM/wCxY1P/ANJJa/I39m210Sb4iRS6ze21n5Sbrf7TIqK7n3Nfrl+0P/yb/wDEz/sWNT/9JJa/DiuDHYb65hp4fmceZWuuh9Phq31etGra/K72P0p8aa5pnhPwnf63etttbGAy7l/j/uqPq3yivz28ceONU+IGvTapqkrMzHbFD/BAnZErPbxBqjaT/ZbaldNpu8SfY/Obycjvs+7WfXzWQ8OwyXnnOXPN7O1rLt136ntZpnM8yjGmlyxXS/U6j4e2p/th9R27l0+PzUVv4p2by4R/321V/iBeC+8ZaoytuWGbyFb2RfL/APZam8H+KrTw/DLFeWctyv2iG8i8iRU3SRbsB8qcp81c3NM9xM8rtukkJZm9zX2XQ+b6nXeGfFE8lv8AYpW3SKPkkb0qHxRHHJa72dfM/wBr7zVy0bGNldGZWX+JaGYyNuZmZq8h4CPtvawdj9Fw/GE6WVvAV6XtJWau306X6tr5H2F/wS5/5L/4g/7Fi4/9K7Sv1Fr8uv8Aglz/AMl/8Qf9ixcf+ldpX6i166PzsKKKKYBRRRQAUUUUAFFFFABRRRQAUUUUAFFFFABRRRQAV88Sf8n1xf8AYlH/ANKTX0PXzxJ/yfXF/wBiUf8A0pNB5uN/5df44kXxb/Yv0n4rfErUvGn/AAnHibw3fahbW9tcWukizMLCEEIf31vIc8+tcn/w71sv+iu+N/8Avzpf/wAh19cUVm6cJO7SOieFw9SXNOmm/NI+R/8Ah3rZf9Fd8b/9+dL/APkOj/h3rZf9Fd8b/wDfnS//AJDr64oqfY0/5V9xH1HC/wDPqP3I+R/+Hetl/wBFd8b/APfnS/8A5Do/4d62X/RXfG//AH50v/5Dr64oo9jT/lX3B9Rwv/PqP3I+R/8Ah3rZf9Fd8b/9+dL/APkOj/h3rZf9Fd8b/wDfnS//AJDr64oo9jT/AJV9wfUcL/z6j9yPkf8A4d62X/RXfG//AH50v/5Do/4d62X/AEV3xv8A9+dL/wDkOvriij2NP+VfcH1HC/8APqP3I+R/+Hetl/0V3xv/AN+dL/8AkOj/AId62X/RXfG//fnS/wD5Dr64oo9jT/lX3B9Rwv8Az6j9yPkf/h3rZf8ARXfG/wD350v/AOQ6P+Hetl/0V3xv/wB+dL/+Q6+uKKPY0/5V9wfUcL/z6j9yOV+Ffw9sfhL8N/DXgzTLi4u9P0Gwh0+Ce6KmV0jUKC20AZwOwrqqKK2O08a+M3/JYfgt/wBha8/9JHr2WvGvjN/yWH4Lf9ha8/8ASR69loOHD/xa3qv/AEmIUUUUHcFFFFABRRRQAUUUUAFFFFABRRRQAUUUUAFFFFABRRRQAUUUUAFeR/tYf8m7eN/+vMf+jEr1yvI/2sP+TdvG/wD15j/0YlBxY3/dav8Ahf5HqOl/8gu0/wCuKf8AoIq3VTS/+QXaf9cU/wDQRVug7I7I+ef2Gv8Aki1z/wBhq8/9CWuz/aE/5AHhr/sP2v8A6DJXGfsNf8kWuf8AsNXn/oS12f7Qn/IA8Nf9h+1/9Bkr1cp/32l6/ofOr/kUx/woP2gPgLZfH7QdD06817VfDkmj6mNVtrzSRA0nmiCaHBE0cilds78Y9K8i/wCGBYf+iw+OP+/Glf8AyFX1hRXFTxFeiuWlNxXk2j2quFoV3zVaak/NJnyf/wAMCw/9Fh8cf9+NK/8AkKj/AIYFh/6LD44/78aV/wDIVfWFFa/XsX/z9l/4E/8AMw/s/B/8+Y/+Ar/I+T/+GBYf+iw+OP8AvxpX/wAhUf8ADAsP/RYfHH/fjSv/AJCr6woo+vYv/n7L/wACf+Yf2fg/+fMf/AV/kfJ//DAsP/RYfHH/AH40r/5Co/4YFh/6LD44/wC/Glf/ACFX1hRR9exf/P2X/gT/AMw/s/B/8+Y/+Ar/ACPk/wD4YFh/6LD44/78aV/8hUf8MCw/9Fh8cf8AfjSv/kKvrCij69i/+fsv/An/AJh/Z+D/AOfMf/AV/kfJ/wDwwLD/ANFh8cf9+NK/+QqP+GBYf+iw+OP+/Glf/IVfWFFH17F/8/Zf+BP/ADD+z8H/AM+Y/wDgK/yPk/8A4YFh/wCiw+OP+/Glf/IVH/DAsP8A0WHxx/340r/5Cr6woo+vYv8A5+y/8Cf+Yf2fg/8AnzH/AMBX+R41+z/+zTpvwB1DxTf2viXWvE174hNsbmfWBbhkECuqBRBFGAMSN2q38Jf+SofFL/r9tv5SV61Xkvwl/wCSofFL/r9tv5SV24WUp4fFym7txj/6XE64wjTSjBWS7HnfxF/YT0b4h/ErxL4x/wCE+8VaDc69PFc3NjpgsmgDpbxQAjzrdz92Id+9c9/w7m0z/orPjf8A796Z/wDIdfX9FcdPH4ylFQp1pJLopNL8ynCDd2j5A/4dzaZ/0Vnxv/370z/5Do/4dzaZ/wBFZ8b/APfvTP8A5Dr6/orT+08d/wA/5/8AgT/zF7OH8qPkD/h3Npn/AEVnxv8A9+9M/wDkOj/h3Npn/RWfG/8A370z/wCQ6+v6KP7Tx3/P+f8A4E/8w9nD+VHyB/w7m0z/AKKz43/796Z/8h0f8O5tM/6Kz43/AO/emf8AyHX1/RR/aeO/5/z/APAn/mHs4fyo+QP+Hc2mf9FZ8b/9+9M/+Q6P+Hc2mf8ARWfG/wD370z/AOQ6+v6KP7Tx3/P+f/gT/wAw9nD+VHyB/wAO5tM/6Kz43/796Z/8h0f8O5tM/wCis+N/+/emf/IdfX9FH9p47/n/AD/8Cf8AmHs4fyo+QP8Ah3Npn/RWfG//AH70z/5DqO8/4Ju6LfWc9rcfFXxxLbzx+XIhTTPmH/gHX2HRSeZY5qzrz/8AAn/mHs4djK8K+H4PCXhfR9DtpHlttMs4bKKSQ5ZljQICffCitWiivONDxn4wf8lv+Cn/AGENR/8ASNq9mrxn4wf8lv8Agp/2ENR/9I2r2ag4cP8Axa3+Jf8ApMQooooO4KKKKACiiigAooooAKKKKACiiigAooooAKKKKACiiigAooooAK8f/a4/5N18bf8AXrH/AOjo69grx/8Aa4/5N18bf9esf/o6Og4sb/utX/C/yPWbT/j1h/3V/lU9QWn/AB6w/wC6v8qnoOxbHkvwJ/5DHxG/7GO4/wDQjU/wb/5Gb4j/APYck/m1QfAn/kMfEb/sY7j/ANCNT/Bv/kZviP8A9hyT+bV9djvixnpT/wDbTzav8eh6y/Jnqdeb/tHf8kH8e/8AYHuP/QDXpFeb/tHf8kH8e/8AYHuP/QDXyJ04r/d6no/yOp8A/wDIi+HP+wbbf+ilrfrA8A/8iL4c/wCwbbf+ilrfoNqfwR9Ari/jV/yR3x3/ANgG/wD/AEnkrtK4v41f8kd8d/8AYBv/AP0nkpoiv/Cn6P8AIT4K/wDJHPAf/YBsP/SeOu1rivgr/wAkc8B/9gGw/wDSeOu1pBh/4MPRfkFcl8XP+SV+M/8AsC3v/oh662uS+Ln/ACSvxn/2Bb3/ANEPQOt/Cl6Mo/Ar/kifw+/7F+w/9Jo67uuE+BX/ACRP4ff9i/Yf+k0dd3QRhv4MPRfkFYvjX/kTde/68J//AEW1bVYvjX/kTde/68J//RbUG1T4GcZ+zT/yQPwL/wBgqH+Vem15l+zT/wAkD8C/9gqH+Vem0GGE/wB3p/4V+QVQ13/kCah/17yf+gGr9UNd/wCQJqH/AF7yf+gGg6JfCzzb9lX/AJN68D/9eP8A7O1esV5P+yr/AMm9eB/+vH/2dq9YoOXB/wC7Uv8ACvyCiiig7Dxn9j7/AJN18Kf717/6Wz17NXjP7H3/ACbr4U/3r3/0tnr2ag4cD/ulL/DH8kFFFFB3HjP7J3/JKZf+w1qf/pXJXs1eM/snf8kpl/7DWp/+lclezUHDgf8AdafovyOV+K3he78cfDDxf4csHiivdY0e80+B52IjV5YXjVmIBIALc4FfnJ/w65+Kv/QweD//AAMu/wD5Gr9RaKDuPy6/4dc/FX/oYPB//gZd/wDyNR/w65+Kv/QweD//AAMu/wD5Gr9RaKVgPy6/4dc/FX/oYPB//gZd/wDyNR/w65+Kv/QweD//AAMu/wD5Gr9RaKLAfl1/w65+Kv8A0MHg/wD8DLv/AORqP+HXPxV/6GDwf/4GXf8A8jV+otFFgPjP9jP9jTxr+zv8T9T8SeI9T0K9srrR5dPSPS7iaSQO08Dhm3woMbYsV9mUUUwCiiigAooooAKKKKACiiigAooooAKKKKACiiuZ8A+OrX4g6XqN9aW81uljq+oaQ6zDlpLS6kt3Yf7JaIkfWgDpqK5UfFbwa2vf2IPFOknVftP2L7J9sTf9o/549f8AWf7H3vajxN4/tfCvi/wjod5bTbfEk9xZ214uPKS4jhadYm93jjmI/wCuZoA6qvniT/k+uL/sSj/6UmvoevniT/k+uL/sSj/6Umg83G/8uv8AHEoeItR+IfjT4/ePvD+j/Eu88G6FoNjpT21pY6TY3LPJOspkYvPE5/gFaH/CCfE//ovWuf8AhPaT/wDI1ZdnefZf2ovi7/tWGhf+irqu8/tj2qk11CriHCbjc5f/AIQT4n/9F61z/wAJ7Sf/AJGo/wCEE+J//Retc/8ACe0n/wCRqofFz44ad8GvC83iHWNM1W/0e3Qvd3WmwxyC1UMoyys6tzurIsf2jI77QbXWl8DeMV0m5gW5S6XTYpG8l13B/JjlaT/gKrVc0exCxE2rnTf8IJ8T/wDovWuf+E9pP/yNR/wgnxP/AOi9a5/4T2k//I1W/BPxQ0D4jeGbPxB4a1aDV9HuhuiuoPbggg/MCO6tW7/bHtRzR7E/WZLRs5f/AIQT4n/9F61z/wAJ7Sf/AJGo/wCEE+J//Retc/8ACe0n/wCRq6j+2PavLvjN8TtStdQ8N+BfDF2tn4q8WTyQi86nTrGJd11dgH+NV+VP9t0o5o9hrEyk7JnU/wDCCfE//ovWuf8AhPaT/wDI1H/CCfE//ovWuf8AhPaT/wDI1bekyW2g6Ta2Fu0n2W1iESNPI0j4Xu7sxZj6s1cEv7SGhzR2WpRWd5L4VvNSj0iHxIvlfZJZ3fykKfNvMRl+QSbdrNRzR7AsRJ7HRf8ACCfE/wD6L1rn/hPaT/8AI1H/AAgnxP8A+i9a5/4T2k//ACNXK+JviV4c1z4oeEPDOo6dqUtwt/c3OlX0Fw0du11a2+Zt6I4Z41WXb8ysu+uq+I2n6h4q8MyxaJqkmjeILY/a9MvlZtkVwv3PNQffib7rp/EtHNHsP6xJWuw/4QT4n/8ARetc/wDCe0n/AORqP+EE+J//AEXrXP8AwntJ/wDkaqnwg+LifFLwFp2vPaf2dfsXtdR012y1leQu0c8B/wB11rs/7Y9qOaPYTxMk7Nmj+zJ4y1f4ifs9fDrxRr1yt5rWsaHaX15cLGsYklkjVmO1QAOT0Ar02vF/2Lv+TS/hF/2LNj/6JWvW9V1Sz0PT57/ULqGysoELy3FxIEjRR3LHpWZ6raSuzyf4zf8AJYfgt/2Frz/0kevZa+Qvi5+1F8OdR+KXw3vbLXTfWehajcz3s8FvKUUPbsg2/KNxyT0r6R8BfFLwr8T7F7vwxrlrq0cf+sWJiJI/95GAZfxAoPJwuJo1K9WMJpttdV/KjrKKKKD1wooooAKKKKACiiigAooooAKKKKACiiigAooooAKKKKACiiigAryP9rD/AJN28b/9eY/9GJXrleR/tYf8m7eN/wDrzH/oxKDixv8AutX/AAv8j1HS/wDkF2n/AFxT/wBBFW6qaX/yC7T/AK4p/wCgirdB2R2R88/sNf8AJFrn/sNXn/oS12f7Qn/IA8Nf9h+1/wDQZK4z9hr/AJItc/8AYavP/Qlrs/2hP+QB4a/7D9r/AOgyV6uU/wC+0vX9D51f8imP+FGN+0v4k8U6RcfDLR/CviaXwnceIvEx0y61KGzgumWAade3BASZGXJa3TnFY3/CA/FD/ovWt/8AhO6T/wDI1Wv2o5PJ8UfAyT+742f/ANM2p10n9pVz0KPtI3PTxFd0pJHI/wDCA/FD/ovWt/8AhO6T/wDI1H/CA/FD/ovWt/8AhO6T/wDI1dLqWvXFnp9xPa2rX11HGWitVkVGlI6DLfKK8W+Hf7Umr/FC88UW2h/DnU3Ph3VJdHv5Z9StVT7VH/rEjO/5sVu8PGLsznWJnJXTPRP+EB+KH/Retb/8J3Sf/kaj/hAfih/0XrW//Cd0n/5GrI8H/tBaX4i8dXXgjVNN1Dwr4ygtBfLpOqeUftFuW2+dDJE7pIlei/2lQsPGWwnipR0ZyP8AwgPxQ/6L1rf/AITuk/8AyNR/wgPxQ/6L1rf/AITuk/8AyNXXf2lXHePPiVPod9o3h7RkjufFGuPItosiloreGNVM11KAwby03Jx/E8iLTeGSV7CWLk9mP/4QH4of9F61v/wndJ/+RqP+EB+KH/Retb/8J3Sf/kautXVCqqrNub+Jqy9c8aJotxpFv5TTzaneiyiVWxz5Ukrk/RInaj6sg+ty7mN/wgPxQ/6L1rf/AITuk/8AyNR/wgPxQ/6L1rf/AITuk/8AyNXXf2lR/aVH1ZdhfXH3OR/4QH4of9F61v8A8J3Sf/kaj/hAfih/0XrW/wDwndJ/+RqZ4L+JFxqGuaz4X1tY4PEmkiOV2jXZFe2sm7y7qIFiwBZXVl/hdK7H+0qFhk+g3i5LS5z/AOz34h8ZSfEf4n+FfFfi+bxlDoR0t7G8uNPtrSRFngd5FYQIqn5lrd+Ev/JUPil/1+238pK5P9n+fz/2gfja3/TPQv8A0mnrrPhL/wAlQ+KX/X7bfykrfDR5cPi1/dj/AOlxPTpy5oxkeeXWofEfx58bfinpWm/FG+8IaF4cv7GzsdPsdGsLjiTTre4kJknidiS8x47Vrf8ACB/E/wD6L1rf/hO6T/8AI1Yfhm++y/tCfHf/ALDOl/8Apms69A/tj/arnpYbngpWMp1JKTVzm/8AhA/if/0XrW//AAndJ/8Akaj/AIQP4n/9F61v/wAJ3Sf/AJGrnvjR+0VpHwJ0Ftc8RaXrE+irtWW+02GKRInd9oBBlDZNR337Qw0XTX1TV/BXi/StJij82a8bT4p1gjC5LvHDK8mB/u1f1aK0ZPPPudL/AMIH8T/+i9a3/wCE7pP/AMjUf8IH8T/+i9a3/wCE7pP/AMjVpeG/H2l+L9Csta0XUINU0m+jEtveWzb0lQ1pf2x/tVX1Rdhe0l3Ob/4QP4n/APRetb/8J3Sf/kaj/hA/if8A9F61v/wndJ/+Rq6T+2P9quVX4nHVPH0vhrSUW5/syNZ9Yum+5b+YrGGFPWVvvFf4UpPCJdA9pLuTf8IH8T/+i9a3/wCE7pP/AMjUf8IH8T/+i9a3/wCE7pP/AMjVL42+KGl+AdJS/wBSlkZp547S0s4F33F5cPwkMSd3NYVn8dLP7V4h0/UdMvtM1zRbWG8l0tmiklnhm3CExFXKvueN4/8AZej6rFaD9pLubH/CB/E//ovWt/8AhO6T/wDI1H/CB/E//ovWt/8AhO6T/wDI1efzftXWEPgvxR4m/wCEe1X+y/Ct1dWWtSbogsT28vlzCElh59ek+KvGGoaP4ffVNLsm1VrYCeWxXcJp4Ry4i/6abfmVW+83y0lhovYOefcrf8IH8T/+i9a3/wCE7pP/AMjVm+KPC/xU0bwzq+oW/wAeNaea0tJp0VvDekkMUQt2t/aum8P+ONP8VaDp2s6TeLfabqEC3NrcR9Hjdchqp+PNY3eB/EK7v+Ydc/8Aopqf1RWvYXtJX3PS/gn4kv8Axj8GfAWv6rKtxqmq6BYX13KqhQ80tvG7sAOBlmPArtK83/Zp/wCTcvhV/wBippX/AKRxV3eratZaFp89/qN3DY2MCl5bi4kCIijuWPArxzubSV2eTfGD/kt/wU/7CGo/+kbV7NXyD8Vv2o/hzffFr4a6jY66b2x0G8vJb64htZWRRJbNGu07Ru5z0zX0n4D+KHhX4nae174Y1u11eFeJFhYiSL2eNgGX8QKDycJiaFSvWjCabbXVfyxOrooooPXCiiigAooooAKKKKACiiigAooooAKKKKACiiigAooooAKKKKACvH/2uP8Ak3Xxt/16x/8Ao6OvYK8f/a4/5N18bf8AXrH/AOjo6Dixv+61f8L/ACPWbT/j1h/3V/lU9QWn/HrD/ur/ACqeg7FseS/An/kMfEb/ALGO4/8AQjU/wb/5Gb4j/wDYck/m1QfAn/kMfEb/ALGO4/8AQjU/wb/5Gb4j/wDYck/m1fXY74sZ6U//AG082r/HoesvyZ6nXm/7R3/JB/Hv/YHuP/QDXpFeb/tHf8kH8e/9ge4/9ANfInTiv93qej/I6nwD/wAiL4c/7Btt/wCilrfrA8A/8iL4c/7Btt/6KWt+g2p/BH0CuL+NX/JHfHf/AGAb/wD9J5K7SuL+NX/JHfHf/YBv/wD0nkpoiv8Awp+j/IT4K/8AJHPAf/YBsP8A0njrta4r4K/8kc8B/wDYBsP/AEnjrtaQYf8Agw9F+QVyXxc/5JX4z/7At7/6Ieutrkvi5/ySvxn/ANgW9/8ARD0DrfwpejKPwK/5In8Pv+xfsP8A0mjru64T4Ff8kT+H3/Yv2H/pNHXd0EYb+DD0X5BWL41/5E3Xv+vCf/0W1bVYvjX/AJE3Xv8Arwn/APRbUG1T4GcZ+zT/AMkD8C/9gqH+Vem15l+zT/yQPwL/ANgqH+Vem0GGE/3en/hX5BVDXf8AkCah/wBe8n/oBq/VDXf+QJqH/XvJ/wCgGg6JfCzzb9lX/k3rwP8A9eP/ALO1esV5P+yr/wAm9eB/+vH/ANnavWKDlwf+7Uv8K/IKKKKDsPGf2Pv+TdfCn+9e/wDpbPXs1eM/sff8m6+FP969/wDS2evZqDhwP+6Uv8MfyQUUUUHceM/snf8AJKZf+w1qf/pXJXs1eM/snf8AJKZf+w1qf/pXJXs1Bw4H/dafovyCiiig7gooooA+d/i5+2p4c+EXxKu/BNz4R8U69qdrbQ3Mk2kJZeSFlBKjM9zEc8elerfCP4nWHxk+HuleL9Lsr3TrHUfN2WuorGLiMxyvEwcRu653IejGvgL9q/8A5O+8T/8AYN03/wBFtX11+xD/AMmx+Ef+u2o/+nC5qFK8mjzKGJnVxNWi0rRtY91oooqz0wooooAKKKKACiiigAooooAKKKKACiiigAooooAK+R/EXxAv/hZ+xx8cvFWlzm01Wx17xY1rOoyY5m1e6ijf8Cyn8K+uK+SPEHw9vvip+x18cfCmlwm61W/17xWtrDnBkmXV7qWNfxKqPxoA6e6+Hekr+wHJ4bWBPsy+AjKsmPmFyLLzRP8A9dPN/eZ/vc1n+E7/AF79oX9iHwV4ptnF945i0ex12xn6mbVLMrIAf+uskTI3++asXHxO0lv+CfL+JRPGyP4E+yCHd8xvTZ+R9lx/z08/91j+9XUfATSV/Zv/AGQfCkPitf7P/wCEV8MC71VephKRGacfgd35UAep+BfGFh8QvBeheJ9KYvpusWUN9bluuyRA4B9wDXisn/J9cX/YlH/0pNa/wu+E3iH/AIUF4d0S48S6x4E1y5kk1m8k0EWxltJrqeS6ltFFxDMgjRpig4/g615BN8JNdH7Wcegf8LV8ZG/bwx9r/wCEh26d9vCeew8j/jx8ny+/3N1B5uN/5df44mxrN59l/ak+K3+1YaH/AOiriuj/ALW968ffQ73wL+0V8TNO1DxRrHiy4+xaNJ/aWtfZhOQY5/lPkRQpgV1P9sf7Vck6nLJo8PG1eXESX9bHkP7d3iaLUvhr4b8DveJZr4w8Q2Om3EjOsaxWySebJIT6Dalen61+0F4Q0G3XTdDv4PFGueQfsPh/w/ItzcT7V4HyZWNPV32qteF+JtSHjz9szwnY8yWPgvQrnUn5+UXNyfKC/wAqh/bD8QsP+FVWlj+41m48Y2QtL5Pv2/ZsH3LUc+yKjJS9nSfVX/r5I9X/AGTfhnrHwZ+G99a+IbiJtd1zVZ9bvrW2OYbSSbaPKU+yrXtP9re9eX6p8QrDTZmt1aW+vvMWBbO22mVpGXcBywX7q7jub5VrmdF+P2ja9qlnYW9hq6yXOo3GktI1qpSC7gVjJDIQx6eX99dyVPtGcrqzqNzse7f2t714H4F1tvFn7Y3xM1GU7l8K6DpmiWvt9o3XMlei/wBsf7VeEfBm+/s/9pT48wP96eXRrlP9pGtWoVTRlU63uzfZfqjtP2yPihP4Z+GNj4esdRXTL/xhqUPh/wC3d7a3l/4+J/wSuL/aR+JXhK/+EfhX4feCNRs7me91zR9KsLGxOTBHFPG6kew8qr3xUt31T9oz4J3sq7rGx/tlv9nzzbL5dLq6N8V/2hdHutzP4b+H8ckrSfwXGqTjAj9/Ji+Y+jPVKpobwrRjGLfRN/jZfkemX3hfxDcfHiXxastu1gulWum2UzNzaRidpr1fLK8vNttlDdlr1P8Atb3r551D42aneaX4t1fw1YWOq2fhm6ubS7s57iWG4nkgXMwDbCqH+795Wrt/B/xAsvHHhXSNf08yfYdTtY7uHzeHVGXIB96l1Gc06s7Jv0OS+CeuHw7+0V8c/Csfy2Mt7p/iC3X/AKaXNsouW/77jr3z+1vevlLwDfNdftd/FW9T/V2mj6VaS/77q0gr3b+2P9qh1Cq1a0l6L8kex/sXf8ml/CL/ALFmx/8ARK1yGoeG5P2ovitrlrrM0y/DXwfeGwGnwyFV1PUE/wBYZCD92PIGB61zH7KXwX8Q65+zX8NtRtfjJ480K2uvD9nNHpumrpP2e2UxA+XH5tg74HuTXJfCP4J/ELxBeeONO0T4t6l4fl0jxDdWt5a7GBmk4IuTsZR+86/hXae1mMpOVOnyOSbd0ra2Wid2tOvyO1/aO8JaH4Z+MH7Pem6TpFjpth/bUq/Zra2SOMjzrTsBXY/GT4CRaDv+Ifw1gj8O+NtIVrow2MYSDUoxlpIZIxwSw7189fGv4O/EDwv8SPhbputfE6+17UtW1N4tMv5Uk3abIJIAZFy/+0leraz+z/8AFjw7o97qd/8AH3UoLGyhe4nmaOX5Y1UsT/rfY0keIm6lTEKWHe8dnFONorz+eh9HfDfxta/EbwJofiazXZDqVqs/lk52MRhl/BgR+Fea/HT9rLwp8DtSj0m6t7rWdbdBK1jZ4HlIejOx4UV5z+zb8EfE+p/Bbwxer8V/HHhSG6gkmj0nSF0z7PCrTSMpXz7KST51Ibr3r5d/ao+GPiD4c/Fa/OtajqWvwX+ya21zU1j8y8ARQQxjSNNy/dIVaZ3Y/MMRh8vp4imvela/ldXPvn4F/tMeFvjwtzBpaz6drFqnmTabeY8zZnG9SOGXPevX6/MX9jn4U+JfH/j251HSdc1nwjp1jbyJPrejiHzN79Il86KWMk9TX2p/wz/4o/6L38Sv++NE/wDlbQduUYurjMKqtZa3+/zPZqK8Z/4Z/wDFH/Re/iV/3xon/wAraP8Ahn/xR/0Xv4lf98aJ/wDK2g9o9morxn/hn/xR/wBF7+JX/fGif/K2j/hn/wAUf9F7+JX/AHxon/ytoA9morxn/hn/AMUf9F7+JX/fGif/ACto/wCGf/FH/Re/iV/3xon/AMraAPZqK8Z/4Z/8Uf8ARe/iV/3xon/yto/4Z/8AFH/Re/iV/wB8aJ/8raAPZqK8Z/4Z/wDFH/Re/iV/3xon/wAraP8Ahn/xR/0Xv4lf98aJ/wDK2gD2aivGf+Gf/FH/AEXv4lf98aJ/8raP+Gf/ABR/0Xv4lf8AfGif/K2gD2aivGf+Gf8AxR/0Xv4lf98aJ/8AK2j/AIZ/8Uf9F7+JX/fGif8AytoA9morxn/hn/xR/wBF7+JX/fGif/K2j/hn/wAUf9F7+JX/AHxon/ytoA9mryP9rD/k3bxv/wBeY/8ARiVV/wCGf/FH/Re/iV/3xon/AMra84/aI+DPiDw/8GPFOpXXxh8c+ILa2tAz6bqq6V9nuB5i/K/k2CN+tBxY3/dav+F/kfUWl/8AILtP+uKf+girdeI2fwD8TzWVs4+PHxIRTEpCqui+mf8AoG1Y/wCGf/FH/Re/iV/3xon/AMraDsWyOf8A2Gv+SLXP/YavP/Qlrs/2hP8AkAeGv+w/a/8AoMleC/snfCfXfFfwxmv7L4qeMvCsK6pdRfYtGGmmFiCBvPn2UjZP1rsvip8Jtc8L6bpE978VvGXieO51SC1SDV100LbswfbOnkWUZ3rjjmvVyn/fafr+h86v+RTH/CjU/a4k8rWPgk/p42P/AKZ9To/tT3rzf9oz4cax4C8R/CLUdR+JPirxpDL4tMC2fiBdPWGFjpeoHzV+zWkJ3cY5z1NbH9pV6GWUuek35/ojnzar7OtFeX6s1/Gnjy38E+D9c8Q3Tf6LpVjNfS/SNGavmz9knx/o/wAIv2abHWvFDatBdalLc6/ql8mi3ssTGaVmWXekZVh5VQfttePI7X4K3vhm0voI9X8TXlrpMMbSgELJIrOW/wBnateralq1n4D+E95/ZMS31jouiSLa267XWVIIeE987a7HRvVdvsr8/wDhjgjW5aKv9p/l/wAOc14L8H6n8UP2gbP406yi6Vo+n6R/Z3hnT1mSaaeOTcXu5ihKLuWaRVRW9K+gv7U96+T/ANivW4tA/Zp+HVldTu9zqDXa24/7eJ5PwAVa72b40ana+JJdNl8FavFbzyNBpl401vtvZEbBJj3+ZHH/ABb2X7tOlTiqam+uv3irVZe0lBfZ0+49z/tT3rx74e61/wAJR+0V8UNZlZpV0O20/wAO2jfwoDG11Pj6tKldj/aVeQ/CO8Ok/F/4zac5w0uqWOqD/ajmskX/ANCietJ0LSivP9GZU8R7s32X6o9p8ffFbSvhzpMV7qjyyzXU62llY2i+Zc3tw/CQwp3c1w994o8cat44srhfD+leZoumyX39jtqTeaz3DeXCfMEWwS7IrpdvzL/tVwXjyRl/af8Ahxq2rvt0GLSr+202Rv8AVJqbsowfd4N6rWrqXxSt/CsPirW0ibVdc1K+ksdF0mDm5vDbqsAjA/uCfzmL/dVah07t30Sf6XNY1bKPLq2v1t+SPZPh78UNL+Jng3S/EujPL/Z+oRllWddksTqzK8bjs6srqa6H+1Pevlz4Y/BfVfCfg/4faDq17p+p6Xp8d9c+INNu4TMl3eXB80GP+HEbs/3lqf4B3Utv48+J39jbl+Ha39tFosK/8e6XCRYvfsy9ovN/u/LuojTl7qnHV/5X/wCATKpH3nCWi/zt9/X0O5+LWrHwz8avhF4lifyFvr278M3rL/y1juLZp40P0ltEr2P+1PevnL46XR1rxl8HtJi/13/CWDUv92O3s7lnr13+0quFD3pLz/RETxHuQfl+p0H7Mtx53x2+Nzf7Ghf+k89d78Jf+SofFL/r9tv5SV4B8DfA+q+P/jZ8W303x74k8Ei1GjeZ/wAI+tiftJa3m/1n2q2m5Wu58B/CfXNZ8ZeN9Pg+KnjLRrjTrmKOfUbBdN+0agWEhDz+bZOmR0HlqteXFcsMav7q/wDS4n2WElzUKbOaXUPsn7R3xz/7C2l/+meyrpv7a968cs9PufBvx1+MWk32val4muoNT07fqur+ULmfdpdoy7/Jijj4+6Nq9q6j+2P9qvbwGH58LCXkY1X77PIv2xPE1n4g8UfCDwJfXcFtp+qeJF1PUGncJH9mtF3OHY9m3V6T42/aE0tdP1HSfBs8XjPxlLas1lo+kyLPy3CPNIPkhj9Wdq8V0HUv+E5/bK8Q6ox82z8F+H4dOi9FublvMJ/743rUH7RXiRv+F4fAmysv3GpPrE8zXi8OLdAokh+jq1ZOi0p1Vte34qP53HppE9r/AGYPhvdfAn4L6J4Rvr5b2/t/MnuTGxaNZJHZyiewr1X+2vevK774jWlrcNa2qS6nfeYYvsdpt35VVZzlmVQAsiZZmrn/AAn8etH8ZXmkwWFnqfk6nHcSWt1La4hYwMomQkMcFWbb/dZq7o4enTSppmbblqe4XHiKOzt5Z55VihiQyOzfwgck15X+y/q0l58JbPxJdFm1LxVdXOv3bN95jcSsYx9FiWGMVf8AEV1Jqmg6lZROqyXNrLEre7Iwrhv2bfECTfAPwCF+XytHt7ZvZ418s0Swv75Lyf6Bf3WZF58YNF8Qftbao3iDVLaz0bwBpq22nxz/AHX1K7VTNMPdIl8qrvw++IEXxC/a48e63oM6X2maP4UstI85WZYpZmmkuFrmvghrFp8PbH4y69rUq2v/ABWOpXdxM33lgCxtCP8AvhuFo+G2qN8Hfhj4r+Ivi2J7bWvEV8+tahbyfetVkZUtrc4UsAisma4YYdvllLa7k/JK9v68jVta29Ds1+Eeux/s5eHvAs0tveXzX1tfeIY1mwL1XvPtd3Gr/wC01e46Hq2oR6XB/ak8UuoNmSXyPuIWZjsT5RkL90N/FXh918YNU8L+NvDWh+IbKza18RmWKyvtPmcrFOieZ5MiMvIK9HWvQv7Y/wBqu2lhIXfL0sv6+8ylJ9TnvgTrj6D4k+J3gzzP9F0XxAbuyj/hit72JbvYPYSyTV6H421jd4N15d3/AC4XH/opq8F+Gd8ZPjl8YdRX/j3abSrJW/vSRWm5/wD0aleheMNY3eEdbXd/y4zf+impU8Nem9O/4Njk9T6m/Zn/AOTb/hT/ANinpP8A6RxV5jceG3/ak+K2uLrU0n/CtfB962nRabDIyrqeoJ/rHkIP3YyQAPeqfwB+CPiPWPgT8OdQg+NHj7R4bvw3ptwmn2K6QYLZWtIiIo/M09m2r0GTXnHwf+CfxE8Rf8JjYaH8XdQ8PyaRr93Z3lmqsTJKGH+kHYy/6zr+Ffnj3MsxlJypUuRzTbulbWy0WrWnX5Hc/tFeEtE8OfGP9nzTdK0ex03TzrE6m1tLVI4yPMtOoAFdX8ZfgTH4Z8z4jfDOCLw74y0dGuXtrNNlvqcIy0kMka8EsBwRXz78Zvg78QfDXxK+Fumaz8Tb3XdT1bUZIdN1CRJN2myBrfMi5f3r1PX/AIA/Ffw3ol/qt/8AHzUoLCyge4nkaOX5Y0UsT/rfY0uh4sW6lXEJ4d7x2cU42ivP56H0n8O/GVr8Q/A+ieJLIbbfUrVLgJ/cJHzL+DZH4V5j8cv2tPCnwP1SPSLm3uta1tkErWVmQPKQ9GdjwM159+zj8D/FGo/Bbwtd/wDC1/HHhSK6tnmj0nSF0z7PDG0rMmzz7GR/mUhuv8VfK37U3wz8QfDr4rakNa1DUtdgvys1trmprF5t4u1RgtGiJuX7pCqtB25hmGIw+X069Ne9K132urn398C/2lvC3x4huYdKE+n6vaqHm028wJAh6OpH3l969dr8yP2N/hP4k8eeObrUtJ1zWfCOnWNs6S63o6w+aXfpAnnxSx+/TtX2j/wz/wCKP+i9/Er/AL40T/5W0HdlGKq4zCqrWWt/v8z2aivGf+Gf/FH/AEXv4lf98aJ/8raP+Gf/ABR/0Xv4lf8AfGif/K2g9o9morxn/hn/AMUf9F7+JX/fGif/ACto/wCGf/FH/Re/iV/3xon/AMraAPZqK8Z/4Z/8Uf8ARe/iV/3xon/yto/4Z/8AFH/Re/iV/wB8aJ/8raAPZqK8Z/4Z/wDFH/Re/iV/3xon/wAraP8Ahn/xR/0Xv4lf98aJ/wDK2gD2aivGf+Gf/FH/AEXv4lf98aJ/8raP+Gf/ABR/0Xv4lf8AfGif/K2gD2aivGf+Gf8AxR/0Xv4lf98aJ/8AK2j/AIZ/8Uf9F7+JX/fGif8AytoA9morxn/hn/xR/wBF7+JX/fGif/K2j/hn/wAUf9F7+JX/AHxon/ytoA9morxn/hn/AMUf9F7+JX/fGif/ACto/wCGf/FH/Re/iV/3xon/AMraAPZq8f8A2uP+TdfG3/XrH/6OjqH/AIZ/8Uf9F7+JX/fGif8AytrzX9o74N+IPDvwX8U6ldfGDx14htra2Rn0zVV0r7PcAyoNr+TYI2OfWg4sb/utX/C/yPqm0/49Yf8AdX+VT14rD8AfFDQxH/hfXxIA2DgJonp/2Dak/wCGf/FH/Re/iV/3xon/AMraDsWxc+BP/IY+I3/Yx3H/AKEan+Df/IzfEf8A7Dkn82rzH4ZfCXXfEV94ujtfit4z8PvYavNaTTaWum7r6RTzPN5tk48w9/L2ipfh98Jdc17WvFsFr8VfGWgvp+ovazXOmrpvmag4Lfvp/NsnXf8A7iqK+txvxYv0p/8Atp51b+PQ9Zfkz6cr5u/bA+Pfhfwb4I17wTPLJd+IdX06SFLW3UMIFdSA8h7Cur/4Z/8AFH/Re/iV/wB8aJ/8ra+Cf2pvh34g+Hvxa1KPXNR1LX1vgk1trmqLH5l5GEUYJjSNMp90hVr5I4M8xVTC4Rumvi0fkmfef7Nvx98LfFzwzaaXpM01vrGk2cMVzp90qrIAqqu9cEgrnv717TX5vfsC+EdY1L4y/wBu20csej6baTJc3H8Ds42pF+HX8K/SGg2yfFVMZhFUqqz29bdQri/jV/yR3x3/ANgG/wD/AEnkrtK4v41f8kd8d/8AYBv/AP0nkpo9Sv8Awp+j/IT4K/8AJHPAf/YBsP8A0njrta4r4K/8kc8B/wDYBsP/AEnjrtaQYf8Agw9F+QVyXxc/5JX4z/7At7/6Ieutrkvi5/ySvxn/ANgW9/8ARD0DrfwpejKPwK/5In8Pv+xfsP8A0mjru64T4Ff8kT+H3/Yv2H/pNHXd0EYb+DD0X5BWL41/5E3Xv+vCf/0W1bVYvjX/AJE3Xv8Arwn/APRbUG1T4GcZ+zT/AMkD8C/9gqH+Vem15l+zT/yQPwL/ANgqH+Vem0GGE/3en/hX5BVDXf8AkCah/wBe8n/oBq/VDXf+QJqH/XvJ/wCgGg6JfCzzb9lX/k3rwP8A9eP/ALO1esV5P+yr/wAm9eB/+vH/ANnavWKDlwf+7Uv8K/IKKKKDsPGf2Pv+TdfCn+9e/wDpbPXs1eM/sff8m6+FP969/wDS2evZqDhwP+6Uv8MfyQUUUUHceM/snf8AJKZf+w1qf/pXJXs1eM/snf8AJKZf+w1qf/pXJXs1Bw4H/dafovyCiiig7goorM8S69b+FfD+o6xdxXU1tY273MsdnbvcTMqKSQkaAs7Y6KBk0AfnH+1d/wAnf+Kf+wbpv/otq+uv2If+TY/CP/XbUf8A04XNfCfxR+LHh743/tCa/wCMPCkt1deHryysIoLq4tZLYyskfO0OoNfWf7Cvxf0W+8CaX8Mhaatb+KtHhvL28SbT5FgSKS/uDG3nEbTuByMdefSsY/Gz5/Byi8fXs97H1dRRRWx9AFFFFABRRRQAUUUUAFFFFABRRRQAUUUUAFFFFABXl37POl3uk+FPE0V/Zy2UkvjDxDcRpKu0vFJqty8cg9VZSGB9DXqNFAHL/wDCrfB39vf25/wi2jf2z9o+1/2h9gi8/wA7GPN37c78fxda5D46aTfeOL3wV4IgspptH1fV0vdcuFjJijsLPFwYmbt50620WO6PJ6V6vRQAV88Sf8n1xf8AYlH/ANKTX0PXzxJ/yfXF/wBiUf8A0pNB5uN/5df44nivxgvfsn7VnxHHrpui/wDouasq41CO6t5YJVWWGZDG6t/EDWd+0f4hs9G/ay8fJdXkNuz6Zo5VZZAn/LOauP8A+E60r/oLWf8A4EJXi4iTVRo+NzSpJYydl2/JGppvw18D6Pqy6pZeGdMttSVxJ9sjt1EuV5BJrY8VaLo3jaxgtdbso76GCdbuFmZkeCZPuSRurBkcf3lrk/8AhOtK/wCgtZ/+BCUf8J1pX/QWs/8AwISsPaSPN+sVG03e6NnUL7U/CsmlxeGtGg1Cxkmmk1Bp7pvtGSnyPvduSX2KzMzMq1hfB6y8QeDvDOnaLqNukM0E91dajfeYHF7LLNI+YsNuALSbsvUn/CdaV/0FrP8A8CEo/wCE60r/AKC1n/4EJT9pK1rF/WJ8vLy/n/XU9F/tj/arynXLr/hC/j5pHiVm26b4msP7Cum/hS7jZpbYn/eXfHWj/wAJ1pX/AEFrP/wISs7xBrXhzxRo9xpeo39nPZzj5l+1KGUhshwwbghvmDUo1GnqKlXcHqtHoz0bWodP8QW8UV/As6xSCWJtzI8Ug43o64ZD/tLU2ltZaHYxWWnW8VnaxZ2QwLsVctk155Y+MtOtbGCCfXre8kjQK1xJNEGfHc4wuasf8J1pX/QWs/8AwISlzvYz9rPboY/xT+LHhrXJtR8DyeMdL8Oxyp5WsXk17HHMkLjmCIM3+sYdX/gFd/4R8RaNa+B9JudKCaf4fisI5LZW+RIrcJlD7DbXAzXng66meeeLQ5JpCWeRlhLMT3JpviLUvD/iTR00m41i0i0tiq3FrBcIFnhX/lifRD3Vav2iaSOh1oyjGCTS6l34E+ZcQ+KPGt0GW48W6kb6Ddw/2FAsVqD9UXdXqP8AbH+1XnK+NtIjVUTVLFVUbVVbhKX/AITrSv8AoLWf/gQlS6jbuZVK8qknKx9vfsW/8mk/CH/sWLH/ANErWf8AFf4b+LPCvjv/AIWb8NFiu9YliS21rw/O22LVIV4VlP8ADKo6HvWj+xb/AMmk/CH/ALFiw/8ARK17RX0J+m16EcRHllpbVNbp90fAvxu/aAXxb8S/hNqWpeDvEXh698M6k9zqGm3lp+9YGS3bbDyPM/1VesajJ49/arnh0ubQb3wB8MjIsl9Jf/Jf6qgORGq/wRnHWvqKig8qOWzc5yq1W1K11ZK9lbV9u9rXKmnafb6TZW9naQpbWtvGsUUMYwqIowFHsBXnv7Slnb3fwH8cfaII5xHpU8iCRQwDBCQRnvXptec/tGf8kH8e/wDYHuf/AEWaD0sUl9XqL+6/yOg+GtnBYfD3w1FbQRW0Q023PlwoEUExKTgCumrn/h//AMiH4b/7Btt/6KWugoNqX8OPoFFFFBqFFFFABRRRQAUUUUAFFFFABRRRQAUUUUAFFFFABXkf7WH/ACbt43/68x/6MSvXK8j/AGsP+TdvG/8A15j/ANGJQcWN/wB1q/4X+R6jpf8AyC7T/rin/oIq3VTS/wDkF2n/AFxT/wBBFW6Dsjsj55/Ya/5Itc/9hq8/9CWuz/aE/wCQB4a/7D9r/wCgyVxn7DX/ACRa5/7DV5/6Etdn+0J/yAPDX/Yftf8A0GSvVyn/AH2l6/ofPL/kUx/wo82/bik8m3+D0n93xr/7iNSrzX+1P9qu6/4KAXkWnaD8JrmaWOGGPxmN0kjYAzpWoivBP+E60f8A6DFj/wCBCV9LkMFLDSu/tfoj53iOco4qKX8v6s6m+0Hw/ql5LdXuiabeXUuN809nE7thcDLFa0LGa2021S1s4Ira1jG1IYI1RFHsBXDf8J1o/wD0GLH/AMCEo/4TrR/+gxY/+BCV9H7GnurHy7r1Ho7nR6boejeFY7qfw/oenWN4ySbVghSAOWbdglV4Bb5jXIabpvj2z8UebPe6DPb3RWS91pVlF6qBs/ZYoG3II/4Q27/aZd1XP+E60f8A6DFj/wCBCUf8J1o//QYsf/AhKh4am7WdrGkcVUje6vfueg/2p/tV5/4ojk8M/ECy8cWqM1rLZf2Xrar95YA/mQ3Hv5bM6n/Zek/4TrR/+gxY/wDgQlH/AAnWj/8AQYsf/AhKqVCEluTDETg9js9YvLTUNHukurOPVbVoyzWrRrIs4C5xg/Kc1h/Dnw7p/gnw3YQQabZ2OoNbx/bZrSFI2lm25ckjr81ZH/CdaP8A9Bix/wDAhKP+E60f/oMWP/gQlH1em5c11cSxFRR5Vcm+Ln/Cba5pNrYeD20dI5XP9oNql5cQMYf+ecZiRmG7uaX4Y/8ACZaWt4vilPD9jaxwW9tpun+G2kNvAieZuJEiLgnci1B/wnWj/wDQYsf/AAISj/hOtH/6DFj/AOBCVH1WHPz834mn1ufs/Z8v4ai6Hv8AGHxGfxlcL/xK9NtG0/RP+mvmMpuboezeWka/7KO1egf2p/tV59/wnWj/APQYsf8AwISj/hOtH/6DFj/4EJVxoQityJ4ic3toj2/9i64+0fGL43N/s6H/AOibmvXvhL/yVD4pf9ftt/KSvC/2CdUttW+KXxuntriK5jxoY3RMCP8AU3PpXunwl/5Kh8Uv+v22/lJXxdRWeOS7L/0uB+q5a28HRb7Hyb8SL77L+1L8av8AsI6X/wCmmyrPvrq31Szns7pFntZUMcsbfdYGsH47+IrLR/2svjJFc3kEDNfaY22SQKf+QTZVzf8Awm+l/wDQUs//AAISvusnoxll9JtrYzrX9ozf0XwD4O8N6p/aWk+HNM0/UM7vtFtbqjk+pIrQ8SaLo3i5rB9Ws1uZtPm8+0uFZ45reT1jkRgwrkP+E30v/oKWf/gQlH/Cb6X/ANBSz/8AAhK9VYOilypKxlzM19avtd0P7Lp/hfS7NtPa0uV+0STYeC6dlKO+eShZnZ2+Zmqt8JbfVPCfg/w9oNzZrp9rpWnR2026RJDcXHy73Qqxwm7e3zfMao/8Jvpf/QUs/wDwISj/AITfS/8AoKWf/gQlQsFTU+fm/Ly/yHzO1rHpX9te9cB8P5j4B1bVvCr/AC6bPdTalo8n8LRyt5k0A90dnb/ceqn/AAm+l/8AQUs//AhKa3jLSJGRn1GxZozuXdMnymrlhYSkpJ6r+rCTex2V1ouiXmrf2lPp0El4zxyszfdaRPuSFPul17O3zLV/VvF1loel3V/qF1FaWNvGZZppmwiIO5rz/wD4TjS/+gpZ/wDgQlR3XizRL63eC4vdPnhf70ckyOrfUGq+rQSfJa4rvqYujfEbwp8QPiRoeuXOv2GpX0Bkg0LQ7K6jllt96MZLqUBv9YUX/dRa9a1zxlB4f0u4v7hmZYl+WONcvK54CIO7s3yha8zs9W8LafcLPa/2PbTL92SDykK59xV9vGWkSMjPqNizRncu6ZPlNc9HCOEWpSXM+v8AT/rYqUr2sjd+GOn3Phnw/PLqO1da1e7l1bUlVsqs8rZ8sHuEVUjFbfirWN3hfV13f8uU3/oDVxH/AAnGl/8AQUs//AhKz/EnjbS28O6ov9qWf/HrL/y8J/catPqtOnS5U9kK7bufpF+zD/ybT8Jf+xR0j/0jirkvir8OfFnhHx4/xM+GqR3uq3ESW+t+HZ22xanEvCuh/hlUdD3rrP2Xv+TaPhL/ANijpH/pFFXp1fhb3Z6tehHEQ5ZO1tU1un3R8DfGr9oGLxb8TfhNql/4O8R6BeeGdRkuL/TLu0HmsC8B2w8jf/qvavV77/hPP2q57fTbvQLzwD8MVkSW9/tD5L/VVU5EYX+BDivqKikeXHLZuc5VarkpWurJXsravt3ta5VsbG30yzgtLSJLe2gjEcUUYwqIowFA9AK84/abs7e8+Avjfz4Y5vL0yV08xQ21gOCM16jXmn7Sn/JBfHf/AGCZ/wD0Gg9LFJfVqi/uv8jqPh7Z29j4E8PQ2sEdvCun2+2OFAqj92vQCujrD8D/APIl+H/+wfb/APota3KDenpCNuwUUUUGgUUUUAFFFFABRRRQAUUUUAFFFFABRRRQAUUUUAFeP/tcf8m6+Nv+vWP/ANHR17BXj/7XH/Juvjb/AK9Y/wD0dHQcWN/3Wr/hf5HrNp/x6w/7q/yqeoLT/j1h/wB1f5VPQdi2PJfgT/yGPiN/2Mdx/wChGp/g3/yM3xH/AOw5J/Nqg+BP/IY+I3/Yx3H/AKEan+Df/IzfEf8A7Dkn82r67HfFjPSn/wC2nm1f49D1l+TPU6zNe8N6T4psvses6XZataE58i+t0mTPrtYEVp0V8iek0pKzWhR0jRtP0GxjstMsbbTrOP7lvaRLFGv0VQAKvUUUAkkrIK4v41f8kd8d/wDYBv8A/wBJ5K7SuL+NX/JHfHf/AGAb/wD9J5KaMa/8Kfo/yE+Cv/JHPAf/AGAbD/0njrta4r4K/wDJHPAf/YBsP/SeOu1pBh/4MPRfkFcl8XP+SV+M/wDsC3v/AKIeutrkvi5/ySvxn/2Bb3/0Q9A638KXoyj8Cv8Akifw+/7F+w/9Jo67uuE+BX/JE/h9/wBi/Yf+k0dd3QRhv4MPRfkFYvjX/kTde/68J/8A0W1bVYvjX/kTde/68J//AEW1BtU+BnGfs0/8kD8C/wDYKh/lXpteZfs0/wDJA/Av/YKh/lXptBhhP93p/wCFfkFUNd/5Amof9e8n/oBq/VDXf+QJqH/XvJ/6AaDol8LPNv2Vf+TevA//AF4/+ztXrFeT/sq/8m9eB/8Arx/9navWKDlwf+7Uv8K/IKKKKDsPGf2Pv+TdfCn+9e/+ls9ezV4z+x9/ybr4U/3r3/0tnr2ag4cD/ulL/DH8kFFFFB3HjP7J3/JKZf8AsNan/wClclezV4z+yd/ySmX/ALDWp/8ApXJXs1Bw4H/dafovyCiiig7gooooA/On9pz9mPWPhj8Uodf+H3h261vQ/Ft95S6XYxkrpupydz/zytpMEl/uxsPpX2N+z78EbP4H+CRp7XC6p4hv3F3rOr7NrXdyRg47iNB8qL/CoHvXqFFTypO5y08NSpVJVYLWW4UUUVR1BRRRQAUUUUAFFFFABRRRQAUUUUAFFFFABRRRQAUUUUAFFFFABXzxJ/yfXF/2JR/9KTX0PXzxJ/yfXF/2JR/9KTQebjf+XX+OJ6h4r+B/w58easdV8TeAfDHiLUygjN5q2jW91NtHRd8iE4Hpmsb/AIZb+DP/AESPwL/4TVl/8ar1Cig9GyPL/wDhlv4M/wDRI/Av/hNWX/xqj/hlv4M/9Ej8C/8AhNWX/wAar1CikFkeX/8ADLfwZ/6JH4F/8Jqy/wDjVH/DLfwZ/wCiR+Bf/Casv/jVeoUUBZHl/wDwy38Gf+iR+Bf/AAmrL/41R/wy38Gf+iR+Bf8AwmrL/wCNV6hRQFkeX/8ADLfwZ/6JH4F/8Jqy/wDjVH/DLfwZ/wCiR+Bf/Casv/jVeoUUBZHl/wDwy38Gf+iR+Bf/AAmrL/41R/wy38Gf+iR+Bf8AwmrL/wCNV6hRQFkeX/8ADLfwZ/6JH4F/8Jqy/wDjVH/DLfwZ/wCiR+Bf/Casv/jVeoUUBZFHRdE0/wAN6TaaXpNjb6bptpGsNvZ2cSxQwxgYCoigBQPQVeoopjCiiigArzn9oz/kg/j3/sD3P/os16NXnP7Rn/JB/Hv/AGB7n/0WaDlxX+71PR/kdN8P/wDkQ/Df/YNtv/RS10Fc/wDD/wD5EPw3/wBg22/9FLXQUG1P4I+gUUUUGgUUUUAFFFFABRRRQAUUUUAFFFFABRRRQAUUUUAFeR/tYf8AJu3jf/rzH/oxK9cryP8Aaw/5N28b/wDXmP8A0YlBxY3/AHWr/hf5HqOl/wDILtP+uKf+girdVNL/AOQXaf8AXFP/AEEVboOyOyPnn9hr/ki1z/2Grz/0Ja7P9oT/AJAHhr/sP2v/AKDJXGfsNf8AJFrn/sNXn/oS12f7Qn/IA8Nf9h+1/wDQZK9XKf8AfaXr+h86v+RTH/CjtPGPw/8ADHxE0+Kw8V+HNJ8TWEUomjtdYsoruJZACA4SRSA2Cecd65D/AIZe+Df/AESXwL/4Tdn/APG69Oory7s+isjzH/hl74N/9El8C/8AhN2f/wAbo/4Ze+Df/RJfAv8A4Tdn/wDG69Ooouwsux5j/wAMvfBv/okvgX/wm7P/AON0f8MvfBv/AKJL4F/8Juz/APjdenUUXYWXY8x/4Ze+Df8A0SXwL/4Tdn/8bo/4Ze+Df/RJfAv/AITdn/8AG69Ooouwsux5j/wy98G/+iS+Bf8Awm7P/wCN0f8ADL3wb/6JL4F/8Juz/wDjdenUUXYWXY8x/wCGXvg3/wBEl8C/+E3Z/wDxuj/hl74N/wDRJfAv/hN2f/xuvTqKLsLLseY/8MvfBv8A6JL4F/8ACbs//jdH/DL3wb/6JL4F/wDCbs//AI3Xp1FF2Fl2OY8GfDDwd8N1ul8J+FNE8LrdFWuF0bTobQTFRgFhGq7se9cZ8Jf+SofFL/r9tv5SV61Xkvwl/wCSofFL/r9tv5SV6+D/AN1xX+GP/pcSXpaxveJfgH8MvGmtXGseIfh14T17V7jb51/qeiW1zPJtAVd0joWOAABz2rL/AOGW/gz/ANEi8Cf+E1Zf/Gq9QoryLvuWeX/8Mt/Bn/okXgT/AMJqy/8AjVH/AAy38Gf+iReBP/Casv8A41XqFFF33A8v/wCGW/gz/wBEi8Cf+E1Zf/GqP+GW/gz/ANEi8Cf+E1Zf/Gq9Qoou+4Hl/wDwy38Gf+iReBP/AAmrL/41R/wy38Gf+iReBP8AwmrL/wCNV6hRRd9wPL/+GW/gz/0SLwJ/4TVl/wDGqP8Ahlv4M/8ARIvAn/hNWX/xqvUKKLvuB5f/AMMt/Bn/AKJF4E/8Jqy/+NUf8Mt/Bn/okXgT/wAJqy/+NV6hRRd9wPL/APhlv4M/9Ei8Cf8AhNWX/wAao/4Zc+DP/RIvAn/hNWX/AMar1Cii77gU9L0uz0PTbSw0+0hsbG1iWC3tbaMRxQxqMKiKOFUAAACrlFFIAooooAK80/aU/wCSC+O/+wTP/wCg16XXmn7Sn/JBfHf/AGCZ/wD0Gg5cV/u9T0f5HX+B/wDkS/D/AP2D7f8A9FrW5WH4H/5Evw//ANg+3/8ARa1uUG1P4F6BRRRQaBRRRQAUUUUAFFFFABRRRQAUUUUAFFFFABRRRQAV4/8Atcf8m6+Nv+vWP/0dHXsFeP8A7XH/ACbr42/69Y//AEdHQcWN/wB1q/4X+R6zaf8AHrD/ALq/yqeoLT/j1h/3V/lU9B2LY8l+BP8AyGPiN/2Mdx/6Ean+Df8AyM3xH/7Dkn82qD4E/wDIY+I3/Yx3H/oRqf4N/wDIzfEf/sOSfzavrsd8WM9Kf/tp5tX+PQ9Zfkz1OiiivkT0wooooAK4v41f8kd8d/8AYBv/AP0nkrtK4v41f8kd8d/9gG//APSeSmjCv/Cn6P8AIT4K/wDJHPAf/YBsP/SeOu1rivgr/wAkc8B/9gGw/wDSeOu1pBh/4MPRfkFcl8XP+SV+M/8AsC3v/oh662uS+Ln/ACSvxn/2Bb3/ANEPQOt/Cl6Mo/Ar/kifw+/7F+w/9Jo67uuE+BX/ACRP4ff9i/Yf+k0dd3QRhv4MPRfkFYvjX/kTde/68J//AEW1bVYvjX/kTde/68J//RbUG1T4GcZ+zT/yQPwL/wBgqH+Vem15l+zT/wAkD8C/9gqH+Vem0GGE/wB3p/4V+QVQ13/kCah/17yf+gGr9UNd/wCQJqH/AF7yf+gGg6JfCzzb9lX/AJN68D/9eP8A7O1esV5P+yr/AMm9eB/+vH/2dq9YoOXB/wC7Uv8ACvyCiiig7Dxn9j7/AJN18Kf717/6Wz17NXjP7H3/ACbr4U/3r3/0tnr2ag4cD/ulL/DH8kFFFFB3HjP7J3/JKZf+w1qf/pXJXs1eM/snf8kpl/7DWp/+lclezUHDgf8AdafovyCiiig7goorxX4vftBal8PfiHovgrQvB03ivXNVtDdwol8tsoUGQEElG6eWT+NBjWrQoR56j0+/8j2qiuP8I6h4y1nwrey6/pFh4c19mlW1t4br7XEg2jy2dgBn5s5A9K8U+I3x1+LXwLtLa/8AGPhXw3r2kTyi3F/oN1NAEkboGWXcR0P5Ur23MKmKhRgqk0+X0enr1R9N0UUUztCiiigAooooAKKKKACiiigAooooAKKKKACiiigAoorj/hf48k+IWi6vfSWYsvsOu6po6qG3bxaXktsJPbd5W7HvQB2FFecr+0F4EaMXQ1iT+yWu/sQ1v7Bcf2YZt+zb9s8vycb/AJd2/bnjOa0fG/xCfwT4w8EafcWSvpXiO+m0t7/fj7Lc+S0sCkdxJ5Uif7xT1oA7WvniT/k+uL/sSj/6UmvoevniT/k+uL/sSj/6Umg83G/8uv8AHEyNf0zXviF+0P8AETSG+IfizwxpOiWWktaWWg3cMEe6aOYyM2+J/wC4K1P+FK6l/wBFl+Jf/gztP/kWs62vPsv7UXxc/wBqw0L/ANFXVdz/AGx/tVSa6irV3Cbimcv/AMKV1L/osvxL/wDBnaf/ACLR/wAKV1L/AKLL8S//AAZ2n/yLXN/tB/HHU/gh8OtQ8Z2ui2Ouabpke+9hvNUeyl5dY0EWLeRXJZqi0n4ofFDUvDdhrP8Awr7QVW5tY7v+z18VS/a1Dru8vDWKx+YP9qSnzR7Gft52vc6n/hSupf8ARZfiX/4M7T/5Fo/4UrqX/RZfiX/4M7T/AORao/CD46aJ8avB66/oRubdUnezu7G+XZcWVyn+sglX1Fdt/bH+1RzR7CeImnZs5f8A4UrqX/RZfiX/AODO0/8AkWj/AIUrqX/RZfiX/wCDO0/+Ra6j+2P9qvG/jV40ufFnjTwr8J9LupbZvECS6lrtxA2Hh0iDiSMHsZ3ZIt1HNHsEcRKT3O2s/hFdahapcWvxr+I11byDck0Gr2jow9iLWpv+FK6l/wBFl+Jf/gztP/kWtqTXNP8AC+hs7NBpmk6bb7m+7HDbwRr/AN8hFVa8nuP2kr+38K6P47n0mKz8B6nqVrZQtcs4vmt7mVYYb4j7qIWkRvK+9so5o9hrESezOy1D4XNpMlpHffHP4hWbXs4tbZZ9Zs4zPKVYiOPNr8zVPN8Ibq1kt4pfjX8RopJ3McKtq9oDK4VmwM2tcprXxQnuvjZ4U8K3nh6xvre5+3XtrNPHvubIW0Sr9u54QM8vkLXbfEDw/Z/ETwne6JeTy2zSgSW99bNiazuE5hniPaRG+YUuaPYX1iStdkP/AApXUv8AosvxL/8ABnaf/ItH/CldS/6LL8S//Bnaf/ItYPwD+Ll/8RPAe7W/Ki8VaLe3Gia7DBwgvrdtrsPZ12Sj/ZevRv7Y/wBqnzR7A8RJOzZe/ZX8Tap40/Zu+Gmva3ey6lq+paBZ3V1eTffmkeJWZj7kmvVK8X/Yu/5NL+EX/Ys2P/ola9oqD2AooooAK85/aM/5IP49/wCwPc/+izXc6tq1noem3OoahcxWVjbIZJriZgqRqOSST0r5U+OX7TEnjL4S+Lk8KeCdX1XwrNZvZzeKLrFraAO3lFogylpQCewHag83HYilRozjN6tPTd7eX5n0x8P/APkQ/Df/AGDbb/0UtdBXzT8PP2oP+Ee8L+FovHXg7VfCGkXVjbLZeICftWnyK0a+WXlVR5ZZecEV9HW9xDfW8c8EizQSKHSSM5VgeQQR2oNcLiKdeC5HqkvJ/c9SxRRRQdoUUUUAFFFFABRRRQAUUUUAFFFFABRRRQAUUUUAFeR/tYf8m7eN/wDrzH/oxK9cryP9rD/k3bxv/wBeY/8ARiUHFjf91q/4X+R6jpf/ACC7T/rin/oIq3VTS/8AkF2n/XFP/QRVug7I7I+ef2Gv+SLXP/YavP8A0Ja7P9oT/kAeGv8AsP2v/oMlcZ+w1/yRa5/7DV5/6Etdn+0J/wAgDw1/2H7X/wBBkr1cp/32l6/ofOr/AJFMf8KOf/aivNZa4+FeiaT4m1bwrFrvis2F9eaLLHHcNAumX8+wF1YcvBH+VZP/AApPUv8AosvxL/8ABnaf/ItXP2pZPJ8TfAx/7vjZ/wD0zanXRf2pWFCiqkb2PSxNd0pJJnI/8KT1L/osvxL/APBnaf8AyLR/wpPUv+iy/Ev/AMGdp/8AItdLqmvT2en3E9vayahcRxlktY2RHlI7AswVa8a8A/tUX3xNvvEttoPw51+4bw7qcmkX8kl5YIiXUf30U/aPmxWzoRTs0cyxM5K6Z6B/wpPUv+iy/Ev/AMGdp/8AItH/AApPUv8AosvxL/8ABnaf/ItZfg39oDSvFHjS88GX+n6j4V8ZW1qL5tF1lYt89uWx50MkTvHIn+61ehf2pTWHi9kJ4qcdGzkf+FJ6l/0WX4l/+DO0/wDkWj/hSepf9Fl+Jf8A4M7T/wCRa67+1K5Dx58TJdBvNG0HSYku/E2uSSJYwyKTFBGgzNdS4YN5cat/wJpEWm8NFa2EsVJ7MX/hSepf9Fl+Jf8A4M7T/wCRaP8AhSepf9Fl+Jf/AIM7T/5FrrV1Qqq7jub+JqzNc8aR6LcaTAyNPNqN6LKFV9dkkpP4JE7UfVl2D63LuYv/AApPUv8AosvxL/8ABnaf/ItH/Ck9S/6LL8S//Bnaf/Itdd/alH9qU/qq7C+ty7nI/wDCk9S/6LL8S/8AwZ2n/wAi0f8ACk9S/wCiy/Ev/wAGdp/8i0ngv4kT6prWs+GdZSODxJo/lyS+WrJDeW8m7ybqIFiwRtrqV/hdHWuv/tSksMn0G8VJbs5r9nWTW9N+KHxV8Mal4t1zxbp+jtpUljNr0sUs0Pn27vIoKRp3A7V03wl/5Kh8Uv8Ar9tv5SVyX7Ptx9o/aA+Nzf7Ghf8ApNNXW/CX/kqHxS/6/bb+UlbYaPLh8Wv7sf8A0uJ6tOXPCMjzKTR/EHxG+PHxatZviV4y8O6ZoWo6dZWOn6HeW8MEavpltO5w8Lks0k361u/8KW1L/osvxK/8Gtp/8i1ieG777L+0J8d/+wzpf/pmsq73+2P9qsKWFU4KVtzGc2pNXOd/4UtqX/RZfiV/4NbT/wCRaP8AhS2pf9Fl+JX/AINbT/5FrhP2kf2idX+AXg1fE1t4as/EemrLFbNbtqzWt288j7USJPs7h60tS+JnxM0XS5dSuvAGj30MEZlls9G8TPPdsAuWEaSWUKOf9nzKv6tG7VtieeVr3Op/4UtqX/RZfiV/4NbT/wCRaP8AhS2pf9Fl+JX/AINbT/5FqD4YfGXQfi94G0vxZ4bvGudJv0JTzF2OjK2HRh2cNXU/2x/tVSwkWrpC9pLuc7/wpbUv+iy/Er/wa2n/AMi0f8KW1L/osvxK/wDBraf/ACLXRf2x/tVxGl/Eq88XfELUtN0l/K0Hw44g1K82g/bLx4t32eP0EasjOf7zotH1WK6B7SXc1f8AhS2pf9Fl+JX/AINbT/5Fo/4UtqX/AEWX4lf+DW0/+Rao/Eb4wW/gOPSbOC3bVfEWtXX2LSdJik2NcTBdzl32nZEirud/4VrDsfjPq8PinxN4Pv8ATre78U6dplvqtlHZMwhvYp3kiHXLJslidWP935qn6rFO1h88u51X/CltS/6LL8Sv/Braf/ItH/CltS/6LL8Sv/Braf8AyLXjtx+1B4lh+E/jLx1/ZWmf2b4Vvr6y3Mz/APE6+z3LQ7rcBj5Af7oLNJ81e0+KtY1tvD73Hh9o11aACeKzudvlXW3kwOf4N33d6/dahYaMtkPmkt2Qf8KW1L/osvxK/wDBraf/ACLWT4u+E+saT4U1q+tfjN8SVntbKaeMtqdoeURj/wA+tbXgX4mWPxA8J6b4g01pVtbyPd5M/EsEittkhkHZ0dXjZad481jd4H8Qru/5h1z/AOimqvqitdIXPLuel/AnWr7xJ8Efh7q+p3LXmpah4e0+7url/vSyyW0bux9ySTXc15t+zT/ybj8Kv+xU0r/0jir0mvFO8KKKKACvNP2lP+SC+O/+wTP/AOg132r6xZaBplzqOo3UVlYWqGWa4nYKkajqSTXyh8dv2lpvGnwj8WDwt4J1fUPCc1o1tN4pvP8ARbUb3WPfErKWlGT2x2oPMx+IpUaM4zerT067eX5n1B4H/wCRL8P/APYPt/8A0WtblfNfw/8A2ohoPhvwxF488H6p4O0m8s7dbHX3YXVhKGjXyy8qqPLLDnBFfRtvcRXkCTQussMihkkQ5VgehBoN8LiKdeC9m9reT+56k9FFFB2BRRRQAUUUUAFFFFABRRRQAUUUUAFFFFABRRRQAV4/+1x/ybr42/69Y/8A0dHXsFeP/tcf8m6+Nv8Ar1j/APR0dBxY3/dav+F/kes2n/HrD/ur/Kp6gtP+PWH/AHV/lU9B2LY8l+BP/IY+I3/Yx3H/AKEan+Df/IzfEf8A7Dkn82qD4E/8hj4jf9jHcf8AoRqf4N/8jN8R/wDsOSfzavrsd8WM9Kf/ALaebV/j0PWX5M9Tooor5E9MKKKKACuL+NX/ACR3x3/2Ab//ANJ5K7SuL+NX/JHfHf8A2Ab/AP8ASeSmjCv/AAp+j/IT4K/8kc8B/wDYBsP/AEnjrta4r4K/8kc8B/8AYBsP/SeOu1pBh/4MPRfkFcl8XP8AklfjP/sC3v8A6Ieutrkvi5/ySvxn/wBgW9/9EPQOt/Cl6Mo/Ar/kifw+/wCxfsP/AEmjru64T4Ff8kT+H3/Yv2H/AKTR13dBGG/gw9F+QVi+Nf8AkTde/wCvCf8A9FtW1WL41/5E3Xv+vCf/ANFtQbVPgZxn7NP/ACQPwL/2Cof5V6bXmX7NP/JA/Av/AGCof5V6bQYYT/d6f+FfkFUNd/5Amof9e8n/AKAav1Q13/kCah/17yf+gGg6JfCzzb9lX/k3rwP/ANeP/s7V6xXk/wCyr/yb14H/AOvH/wBnavWKDlwf+7Uv8K/IKKKKDsPGf2Pv+TdfCn+9e/8ApbPXs1eM/sff8m6+FP8Aevf/AEtnr2ag4cD/ALpS/wAMfyQUUUUHceM/snf8kpl/7DWp/wDpXJXs1eM/snf8kpl/7DWp/wDpXJXs1Bw4H/dafovyCiiig7gr5x8e+ItH8K/tieHNQ1zU7PSbNPCUii4vp0hQMZ5f4mIHSvo6vnT42fs6R/GT42aJqeuu0XhO10ZreV4LpYpjcea7KACDxhutJ30sebj41JUl7JXalF/czyv4uWfgG4+Lngz+xvibMNG1y+u5NdktfEivFbAbZF534hDMzr+NdX+0p4s8Ar+zjc+GfDni7S9amt5bX7NDHq0d3csBcKSfvFm71ut+wf8ACuK3MzXWsrCoJMjX6bQPXPl1574w/ZC+H/iDwzdf8Kr16PXvE9vLG3kf2zbzp5e7D7wo449aza0seFOhi6catqcffT2bvt0X4+p9s0UUVqfXhRRRQAUUUUAFFFFABRRRQAUUUUAFFFFABRRRQAV8b/EDxdeeBf2Ifj5renzNb30eueK4oZk+9G0mr3MIYf8AfWa+yK+V5Phrc/GH9lL40eDLIINR1bxB4st7bzenn/2rdNF+oWgDq7vwtYL+wfLoAgX+zl+HJthF22jTcVznwlt9W/aC/YH8FSrdH/hK5vD9pdaffzYyup2bK1tOf+28EbH8ao3Hxn0uX9idtNWUnx1J4U/4RweGAP8AiZf2wbPyPsn2fO/eJeMeleh/DXTYf2VP2SdBt9dHmP4P8NI99HAc+bcJFvkjj9S0pKr9RQB6J8MfHVt8TPh74e8VWkTW8WrWUV0bd/vQOyjfE3+0jblPuprx+T/k+uL/ALEo/wDpSa6TwF8BdOvPgb4f8JeOLU6hdszavqkdtdTWy/2jcSyXFwVaJ1O0TTy4GcYxXicn7O/gNf2s4vCA0e4/sBvC/wDaBtv7Vu93n+ey7vM87zP1oPNx3/Lr/HE1tbvPsv7UnxW/2tP0P/0VcV0P9qf7VeQzeD9D+Fv7RXxM0Xw9avY6cLLRpRDJdSXB3GO47ys5ro7jXorO3lnnnjghiQyPJI2FQDkkk1xznaTR4eNq8uIkv62PJP22tcHiTS/h58PQkl2ninxJb/a7aEbneyt/3k+0fjXf+PP2hJNBuNO0PS9DvIvEWtE2mlTa2v2LTvtGOBJMf/RaKztXz/8A8LN8MfEH9s/RblPEelT6b4Z0GSHT5Fu4yLi/uX8spF/C52NWv+2TqlxfWPwx0pVZbG88Y6f9pu/4YyDT5tUi1LWnSkul/wCvwPcP2dfhVF8CPAL6O+otrGr395Jqeq6gy4W4upAoYgdhXqH9qf7VeTXHxEe6mntdGs21O4iuvsjTM2y2Rwu598g3fd+6f9r5a5Xwb8ate8X3Vqbfwru03+1bvSLu+gvlZYjAZFM6AqN8RaPaKj2jepyOrOd5s+g/7U/2q8A+F+tHxF+118ZdUlfcui6do+iWvsjxSXEg/wC/lekf2t714Z8Jr5tI/aa+N9tJ8v21dH1CD/aT7MyPTVTRjp1rxn6fqjof20vGV3deE/CngCw+1SzeNNbhsbuGx5uH09P3l15dYH7UHxFm8YeF/Bfw/sfDur6LN4h8S6daR/2hbxRxiCKVZHK7XP3diVofFSFF+Ofwg8TXkscWm6Y2q2jTSfKkU89svl5Pv5brRpdv/wALU+NNr42mVm8M+FbWWz0GTtd3c3FzdJ6xqqpEppqpodEK8YxjJ9E3872/yPVbrwDPN8Wrzxoutsi3VlZ2TW/lsJYo7eaSby45A4xHI8iM6svKpXof9qf7VfN3xG+IHi7wz4V8d+IZblNBXRQzaHD+5uYdUAjUoJRt8wF5W2AKy16T4Z8TXmqeHdJvdRtW0/ULm0iluLPr5EjIpeP8GqXUdrnLKrLlUm/I4j4R60dD/aq+N2iqdlnfR6TrMUf92Rrfypj+LLXv/wDan+1Xyp8O7w337WHxb1Jf9XY6dpOn/wC87xNLXun9re9EqmpVataS9F+SPZ/2Lv8Ak0v4Rf8AYs2P/ola9or5B/ZR/Zd+Gviz9mf4Y6xqehXU2oX3h+znnkj1m+iDM0QJ+VJwo69hXrH/AAx78J/+hdvP/B7qH/x+u4+1PZqK8Z/4Y9+E/wD0Lt5/4PdQ/wDj9H/DHvwn/wChdvP/AAe6h/8AH6AOa+Pl9p/jn4veFPh1rmqW2l+FYbRvEGsLdXKwrehZdkFvkkZG8FiO4Ao/as8YeE7n9m/xXpmka5o0rCG2SCzsbyFjgXMPyqit/KvOvid+zT8OvCvxs8HW2o6bdWXgvxBayacrjUJ38rUg++MtJI7EB1+QDPUUn7RX7I/w7+GvwZ8R+I9Fs76LU7JYWhea8ZwC08SHg+xqZbHyWIlibYpwhFrVNtu9uXTS33edz2v4X+LPA+pfAnwbouta5oM0Enhyxt7uxvL2Egj7NGGR1LVi/sx6xDoWveOPhzZ6rHrWjeHrmK60a7juFnH2K4UusO8dfLIK/jXIfDD9i74Y+KPhr4S1rULHUGvtQ0i0vJ2W+YAySQo7H8zXP/An9mv4c+OvFvj/AFGDS7q88G2l5FpmkTDU7mJpnjT/AEmQPFIhZS5GM+9UbUZYl1cO5wS6XTbduXrp3t87H038WPitoXwb8Hz+INelcW6MIoYIV3STyn7qIPU18+eBf+ChnhvxF4mi03XPD1x4dsZ5PKj1A3YuET3kGxSg/Oud/ay/ZP0nw/4BtdZ+H+h3n2iwmL31ut9c3cjwFeWAlkf7uM/jXxx4P8Ga1488Q2miaFYy3+o3DBEijX7v+07fwgd2pNnnZtmmNwuMVKivd0tpfm/ryP2gorw3S/2N/hhb6XZwXmiXV1dRRIss661foJHC4LYE/rVz/hj34T/9C7ef+D3UP/j9M+3V2k2ezUV4z/wx78J/+hdvP/B7qH/x+j/hj34T/wDQu3n/AIPdQ/8Aj9Az2aivGf8Ahj34T/8AQu3n/g91D/4/R/wx78J/+hdvP/B7qH/x+gD2aivGf+GPfhP/ANC7ef8Ag91D/wCP0f8ADHvwn/6F28/8Huof/H6APZqK8Z/4Y9+E/wD0Lt5/4PdQ/wDj9H/DHvwn/wChdvP/AAe6h/8AH6APZqK8Z/4Y9+E//Qu3n/g91D/4/R/wx78J/wDoXbz/AMHuof8Ax+gD2aivGf8Ahj34T/8AQu3n/g91D/4/R/wx78J/+hdvP/B7qH/x+gD2avI/2sP+TdvG/wD15j/0YlVf+GPfhP8A9C7ef+D3UP8A4/XnH7Q37Mvw58F/BfxXrekaJdW2pWlqHhlfV72YKxkQfcecqetBxY3/AHWr/hf5H1Fpf/ILtP8Arin/AKCKt14jY/sg/Ciaxt3bw9eMWiUk/wBu6h6D/pvVj/hj34T/APQu3n/g91D/AOP0HZHZHP8A7DX/ACRa5/7DV5/6Etdn+0J/yAPDX/Yftf8A0GSvBP2T/wBnfwF8RPhdPqmv6PcXd6uqXVuJItVvIBsUgDiOVR3Pauz+KX7O/gHwDpek3Oh6Pc2s99qkFhO8mq3k+YXD7lxJKwHT0r1cp/32l6/ofOr/AJFMf8KNT9rmTytY+CT+njZv/TPqdM/tT3rzj9o34H+CvhLr3wh1bwzpU1heTeLTayyTajdXIMZ0rUGIxLKwHIrX/tT3r0Mrpe0ot+f6I5c3rezrxXl+rNjxl44t/BfhHW/EF23+i6VYzX0v+5GjMa+bP2RviDonwl/Zqs9b8VT6jZ3WqXF14g1W+bSLpot80rFZN4iKsDGqUz9trxv9i+B174etLqKPVfE15b6Nbq0n/PSRS/4bFr1HVNSs/h/8J7xLCBbyx0PRJFht9u8SxwQcJj3Va7ZUeaq7fZX5/wDDHBGty0Vf7T/L/hzmfB/g/Vfih+0NZ/GbVYP7I0PTNI/s7w5Y+aj3F0km4vdzbCVQFZpFVPpX0H/anvXyf+xbriaD+zT8O7O9uZGuL5rpbf8A7/TuB7AItd9N8a7q38QSadN4O1yCKaVrbTLtvJxfyr1AQP5kafxb3VRtp0qUfZqT+1r94q1WftZQX2dPkj3L+1PevH/AWrf8JN+0V8TdYmLSJoVrp/h6z/upuj+1XOPctLCprsP7U968h+EV6dJ+LvxlsHOHl1Wx1If7Uc1ki/8AoUT1rOh70V3f6Mxp4i8Zvsv1R7Z46+KWkfDvR0v9WlkZp50tLSztl8y4vLh+EhhTu5rhNQ8XeNNW8cWFwvhfT2/sXTpdQ/smTVv9IZ528uE5ERjEuyK6XbuZf9quB8dSSN+1D8ONQ1Z9ugwaVqEWmM3+rXU22hlPuYN+2tnUvihbeE4fFXiDa2p6tqF82n6LpcHNxem3VYRDGPQT+cxb+FaydK7d9En+lzaNWyjy6tr9bWPYvAPxM0v4keD9N8S6NLI2n6hH5ieeux0IZldHHZ1ZXU10H9qe9fLfw7+Etz4H+F/gfTdc1aWddHkuNQ1vS4LMXcOpT3G9jGUCksI3l3Lhavfs7anNJqHxCu4pzZ6HNrW3TvDsjYl0pFjUPvjPMHmN+9EVVGnK8Yyjq/8AK5M6kfelCV0v87f8E7T4sau3hb42fCTxLE3lLf3d34YvW/56x3EDTwg/SW0r2L+1PevnL46XR1rxh8HtJi/13/CVrqX+7Hb2dyz167/anvVwoe9LT+rIipiPcg/L9WdF+zHN53x2+Nx/2NC/9J56774S/wDJUPil/wBftt/KSvn74G/CXwn8YPjT8XT4n02a/wDsCaP9naC+uLXbvt5d/wDqZVzygrufAf7PHgHxR4z8a6RqWj3E9hotzFDYxpqt3EY0YSblLJMC3T+LNeVGPLDGryX/AKXE+zwcubD035HMm++y/tIfHP8A7C2l/wDpnsq6X+2P9qvHbPw/pPw3+O3xj8P6HbPZ6Xa6npwhhknkmI3aVaO3zSMzH5mrob7xRbaXZz3l7eRWdrAhkluJpFREA7knoK9vAYfmwsJeRlVfvs8p/am8QDxT8W/gr4JEU99arrLeI763tkMjeXaLmMFfRiz123xE+OmoXl0vgjwzp1zpni7XLWVdNvvEC/ZLNMLh3BPzTSJ97y0WvD/h98RdA8f/ALX3i7XE17TZ49J0a30PR1+1IftRctNMYf7+1ldSVrR/aO1i4vvjL8CtOKsth/bsl611/D5kYUpHWPsrwnVi9HK34qI+qi+x9BfAv4b6d8C/hlpPg/Tbh7tbQPJNdyLtM8rtudttd9/bH+1XkTfESXVG2aHZ/bmaeSJbqeTy7bEe3e4kVWz8zeWF/iZHrm/h38atY+IEOg6jF4XkttD1WG4dr5bxX+zmJlXldoyHbfsrvjh6cLU18vw/zRnq9We86h4mj0vT7q7nZvJto2lf6KuTXmP7LN9JH8DfDWpXH/IQ1wS63dydS813K05Y/wDfyr+tXA1jR7+waXat1BJBu/u71xXA/s1+IjN8B/BUTfJJa6ctjKv914N0L/8Aouh4X99FeT/NBf3WZGg/EqfxN+1d448QPpGr6/pnhKzi8N6X/ZsKyJFPJtlu3OSNr7lRKufCnxdefEj9qn4meJYLa40230XQrHw7Et7GodZWdrg5UN2aub+F/ia0+Edv8V1vy0+sXPjC+1C302D/AI+b37Qsb2yRD+LdW98OPDuv/C34Va1eW1pDq/xB1eW41u9haZUjmv5efL3n+Ffu1xU8LKTTfdt/jZf12NHJK/3HbJ8FY7f4LeFvAUWs+Yui3dpf3FxNb5i1CWG4+0SLLGH+48vzV6nodxLpOlwW9xey6hcLlpbqT7zuzMxIHOBubhf4V+Wvn9viN4i0P4seEPDX2ptatdXsLq71WOeOLzdL8sKY3Dxqq7HdvL2tXqX9tf7VdtLCwd+Vbaf195lKT6nOfBfWhofxK+L/AIZjJ+zW2tw6vAvoL22SWQf9/lmavRfG2sbvBuvLu/5cLj/0U1eD/C++N18Yvi7raMv2WW+0/TUb+89vZqX/APR9egeMNY3eE9bXd/y4zf8AoDVNLC/u2/X82OUtT6q/Zn/5Nv8AhT/2Kek/+kcVelV8tfAH9lf4ZeJPgN8N9Wv9Bupb6+8N6bdTyJrN9GGke1iZiFWcAcntXf8A/DHvwn/6F28/8Huof/H6/Oz1z2aivGf+GPfhP/0Lt5/4PdQ/+P0f8Me/Cf8A6F28/wDB7qH/AMfpAc18dr7TfHXxi8KfDzXtUtdN8KWlm3iHV47q5WFL7bL5cFuSSMjf8xGeRim/tZeMfCl5+zb4r0zSNc0eeTy7VILOyvIWJAuoflVFb+Ved/Er9mf4deGfjl4Ss9S026s/BviGyk0+JxqM7+XqSvvTdJI7EB0+UDPUUz9o/wDZJ+Hnw0+C/iPxJodnfR6pZLB5Mk14zgb7iFDwfak9j5LESxPLinGCa1Tbbvbl00t21XzPb/hn4q8D6n8CfB+ia5regzW8vh2xtruxvL6Egj7NGGR1LVjfsw6xFoureN/h3baqmtaT4auoptIvUuRPmyuVMiQ7x18vG38a474Y/sW/DHxP8NPCmtX9hqH27UdJtby4Zb5gDJJCjufzNYPwF/Zr+HXjrxR481OLS7q98HWt7Fp2izLqdzEZDEmLiQPFIm5C5GPoaZtRlifa4d1IJaWum2+Xl66d7fP1Ppb4ufFzQvgx4Qm8Qa9I/khhFDbwjMk8h6Ig9TivAPAP/BQrw54k8TQaXrnh248OWdxJ5UWoG7FxGh9ZBsUoPfmuY/a3/ZR0rw74Ds9a8AaHeGSxnLahAL65u3aErjeBLI/KYz+NfH3gzwRrXxA8RWmiaFYy3+o3DACONflX/adv4QO7UrnnZtmmNwuMVKivd0tpfm/ryP2eorw/Tv2N/hdb6fbRXOh3lxcRxqsky63qCeYwGC2Bcd6tf8Me/Cf/AKF28/8AB7qH/wAfpn261V2ezUV4z/wx78J/+hdvP/B7qH/x+j/hj34T/wDQu3n/AIPdQ/8Aj9Az2aivGf8Ahj34T/8AQu3n/g91D/4/R/wx78J/+hdvP/B7qH/x+gD2aivGf+GPfhP/ANC7ef8Ag91D/wCP0f8ADHvwn/6F28/8Huof/H6APZqK8Z/4Y9+E/wD0Lt5/4PdQ/wDj9H/DHvwn/wChdvP/AAe6h/8AH6APZqK8Z/4Y9+E//Qu3n/g91D/4/R/wx78J/wDoXbz/AMHuof8Ax+gD2aivGf8Ahj34T/8AQu3n/g91D/4/R/wx78J/+hdvP/B7qH/x+gD2avH/ANrj/k3Xxt/16x/+jo6h/wCGPfhP/wBC7ef+D3UP/j9ea/tG/sz/AA58E/BTxXrej6JdW2pWdsjQSvq97MFbzUH3HmIPWg4sb/utX/C/yPqm0/49Yf8AdX+VT14nb/sf/Cd7eJv+EdvMlV/5juoen/XxU3/DHvwn/wChdvP/AAe6h/8AH6DsWxc+BP8AyGPiN/2Mdx/6Ean+Df8AyM3xH/7Dkn82rzH4Zfs7+AvGWoeLYNY0e4uYtI1abT7JU1S8i8uFCQFJSUb/AKmpvAP7PHgHxjq/iy01bSLm4g0fUmsbJU1S8hMcKlgFJSYFvq2a+uxvxYv0p/8Atp5tX+PQ9Zfkz6borxn/AIY9+E//AELt5/4PdQ/+P0f8Me/Cf/oXbz/we6h/8fr5E9M9morxn/hj34T/APQu3n/g91D/AOP0f8Me/Cf/AKF28/8AB7qH/wAfoA9mr4o/bM/am1Xw9rWqfDrw4kEMT2ht9VvZY/MciaP/AFUanvtavcf+GPfhP/0Lt5/4PdQ/+P186ftG/sP6lBq8er/DTTTdadJGBcaU12zTRuP41kmclgfTNB4OdfWfqjWFve+tt7Gz+xn+1JqviDWtL+HPiNYZo1tBb6VexR+WwEMY/dSAcZ2rX2xXxP8Asifsl+JvBfjmDxn4xtV0prFJBZaeZFeRndWQu+1ioAXoK+2KOgZL9Z+qJYq976X3sFcl8XP+SV+M/wDsC3v/AKIeutrkvi5/ySvxn/2Bb3/0Q9B7Fb+FL0ZR+BX/ACRP4ff9i/Yf+k0dd3XCfAr/AJIn8Pv+xfsP/SaOu7oIw38GHovyCsXxr/yJuvf9eE//AKLatqsXxr/yJuvf9eE//otqDap8DOM/Zp/5IH4F/wCwVD/KvTa8y/Zp/wCSB+Bf+wVD/KvTaDDCf7vT/wAK/IKoa7/yBNQ/695P/QDV+qGu/wDIE1D/AK95P/QDQdEvhZ5t+yr/AMm9eB/+vH/2dq9Yryf9lX/k3rwP/wBeP/s7V6xQcuD/AN2pf4V+QUUUUHYeM/sff8m6+FP969/9LZ69mrxn9j7/AJN18Kf717/6Wz17NQcOB/3Sl/hj+SCiiig7jxn9k7/klMv/AGGtT/8ASuSvZq8Z/ZO/5JTL/wBhrU//AErkr2ag4cD/ALrT9F+QUUUUHcFfKfxb+FuifG/9qew8P30LWdtpehLqGoXFu5WW8zLtjiz2Uda+rK8H+NXw/Txf8SdJuvCXjBfCfxOtdNcwqVLLd2W8/LIAOVElL1PMzCn7Wko2urrTvrsvP/hjw39p7QbLwvrngz4M+BYv7D0vVLhLq5t45ZHE080qxRmRmYsQPLzXV/Gb9m/wt8Dfhe/jPwdc3+j+JfDzQSx3/wBpZjckyIhWQdDkGuq+Ef7K+s6R8R/+E9+IniOPxN4ii+a3W3DeSj4wHJZQeB0GOKq/FX4PfG34rXNpFqWs+Ck0Syu1uo9JjF0Irko2VE5KEn6Dis2nbzPGeGk41Ks6OstIrT3UtvTXXTsfSGi3kmpaPYXc0XkTTwRyvH/cZlBI/Amr9V7XzvssX2nZ5+0eZ5edu7HOM9qsVqfVx2VwooooGFFFFABRRRQAUUUUAFFFFABRRRQAUUUUAFecfAnwvqfhTwz4ht9VtPslxdeKtd1CJcg7oJ9SuJYX4/vRujfjXo9FAEH2K3+1/avIj+07dnnbRvx6Zrzj4weFdV8fa94D8PxWjP4ZXV11jXLncNnl2eJbaAqepe68hv8AdhevTqKACvniT/k+uL/sSj/6UmvoevnmT/k+yL/sSj/6U0Hm47/l1/jieJfGS8+y/tW/Ef8A2tN0b/0XNWZ/bH+1XP8A7UXjnRPB/wC1h45XV9a07SjPpmkGIXt0kJfEc3TdXAf8Ls8Ff9DloH/g0h/+LrxcQ37R6Hx+Z+0+tz5Yt7dPJHr/APbH+1UN9dW+pWr2t5BFc28g2vDOodG+oNeTf8Ls8Ff9DloH/g0h/wDi6P8Ahdngr/octA/8GkP/AMXXPzS7Hl/vf5X9zO71xdZhk0ZfDV/Z6VY2pkW4sWt18qVGRgnReAjfNhdu7+9WR8M/C+o+A9B0vQ5dSin0/TDMyyRKwlvXkeRt8vYf6x2Kr1aub/4XZ4K/6HLQP/BpD/8AF0f8Ls8Ff9DloH/g0h/+LquedrW/A19pX5eXkf3f13PX/wC2P9qvLvHFwPBvxW8P+Ox8un3VqfD+sSfwxRu/mW0x9hL+7Lf7dUf+F2eCv+hy0D/waQ//ABdQ3nxe8BalZz2t14r8OXNrOhjlhk1KAo6HggqWojKSewU51YS1g7PfQ9jm1CO4jaKVVljb7ysuVanf2t/nNeM2Pxe8C6bZwWsHjLQ/JhQRp5msRucD3Lkmp/8Ahdngr/octA/8GkP/AMXU3l2M/wB7/K/uZH438UWviLwx4si8U6NbWniCxkuotCW1UyX8qhf9GntiFDiQt/zy6V2fhHxdqPhn4U6ZqPjW6EWpWemLLqk0nVWVMvux/FXIf8Ls8Ff9DloH/g0h/wDi6p6p8Uvh9rS26Xvivw/PHBMk6xtq0Owuv3SRv5xV87atZm7qTlFQdN2vfr+B1PwWsLvSdD1PXNUia21rxNqEur3MMv37ZX4hgPukSopr0L+2P9qvIP8Ahdngr/octA/8GkP/AMXR/wALs8Ff9DloH/g0h/8Ai6lylJ3sZTlWnJycH9zPv39i3/k0n4Q/9ixYf+iVr2ivF/2Lf+TSfhD/ANixYf8Aola9or6E/UwooooA5n4hfD/Rfif4VvfD2vW32nT7oc7TteNh910b+Fh2NfOXxQ+Efxuf4bav4HstU0rx94dvI444bnUGNvqkSpIrgMxIjf7uMnnivrOijc4MRg6eIu22m1a6007Po/mfMHhv4S/GDxl4J0Lwj4q1fTfBPhOwsILC4t9DZptQvI44ljKvKcogOOdua+h/CnhXS/BHh6w0PRbSOx0uxjEUFvGOFX+pJySe+a2KKC8PhaeH1V29rvV27eXyCvFvgTCkfxI+MhRApbxDGTjv/o6V7TXjXwN/5KN8Zf8AsYo//SaOgmv/ABqPq/8A0lnstFFFB3BRRRQAUUUUAFFFFABRRRQAUUUUAFFFFABXkf7WH/Ju3jf/AK8x/wCjEr1yvI/2sP8Ak3bxv/15j/0YlBxY3/dav+F/keo6X/yC7T/rin/oIq3VTS/+QXaf9cU/9BFW6Dsjsj55/Ya/5Itc/wDYavP/AEJa7P8AaE/5AHhr/sP2v/oMlcZ+w1/yRa5/7DV5/wChLXZ/tCf8gDw1/wBh+1/9Bkr1cp/32l6/ofPL/kUx/wAKPNf24pPKtfg9J/d8a5/8pGpV5l/a1dx/wUM1iy8P+FfhXqWo3dvYWFv4zUy3V3KI4kB0vURlifrXzV/wvLwJ/wBDv4d/8G0H/wAXX0eRez+rS5pJe938keBxD7T61Hki37vbzZ3+peFfC+tX0t7qPhzSL68lxvuLmxiklfC4GSVrV09rPSbGKysrWCzs4htS3gjVIkHsBXlf/C8vAn/Q7+Hf/BtB/wDF0f8AC8vAn/Q7+Hf/AAbQf/F19Fy0E7qS+9HzDliGrOL+5neaT4f0PwjHcT+H9D0+xuvLk8qOCNYVyzbigwvyBm+Y7a5XTbPx7a+KBJcS6HPFcssl3rytILmKMNk2sNsykBP4Q+7/AGmXdWb/AMLy8Cf9Dv4d/wDBtB/8XR/wvLwJ/wBDv4d/8G0H/wAXWbpUHa00rdmjSNXEK94N37pnrv8Aa1ef+Jlfwr8QrPxvbrusZ7L+y9bVf4YVbzILj38tmdW/2XrC/wCF5eBP+h38O/8Ag2g/+Lo/4Xl4E/6Hfw7/AODaD/4uqnCjNfGvvRMJ14P4H9zPTdcurLUtHukvbKLVbNozI1rJCsyy45xg/Kaw/hz4b07wX4dsEg0uxsdUa1j+2zW0KI8sx5fJC8/NXHf8Ly8Cf9Dr4d/8G0H/AMXR/wALy8Cf9Dv4d/8ABtB/8XRyUObm5l96Ep4hR5FF29Gdl4oOut4o0PWNNvppdOsY50u9GjmSMXZdV2Nlh8xTsNy1h/DvwnqOk/Ebxz411ZorO48Rm0ii02CTf5ENvF5YMh7yNWT/AMLy8Cf9Dv4d/wDBtB/8XR/wvLwJ/wBDv4d/8G0H/wAXU+yoOSk5rvuu1vyNFWxCg4KD1Vtul7/mbmisfGXxIbxhKv8AxKdKtJNP0Vv+exkZTc3Q9j5aRq38So7V6D/a1eRf8Ly8Cf8AQ6+Hf/BtB/8AF0f8Ly8Cf9Dv4d/8G0H/AMXVQhRivjWvmiJzrSa9x2Xkz6O/YsuPtHxg+Nzf7Oh/+ibmvX/hL/yVD4pf9ftt/KSvAv8Agnz4k03xV8SPjXf6TqFpqdow0NRcWc6yoxENz3WvffhL/wAlQ+KX/X7bfykr4+pa+OttZf8ApcD9Ry6/1SlddD5K+Jd/9k/ak+NP/YQ0v/002VVv7a/2q479ojx9oXhP9rb4xQaprWnaZNLeaYypeXSwll/smz9a47/hdHg7/obdD/8ABlD/APFV9vk/sfqFLmmk7d13IrJ+0eh7F/bX+1VXUJrPVrVre/t4L63Y7mhuY1kTj2NeT/8AC6PB3/Q26H/4Mof/AIqj/hdHg7/obdD/APBlD/8AFV7FsO1ZzX3oy97sdv4oh1++mt4NG1eDTNJaymtJrfyV3IX2hJk90XfhPlWofh3pOoeENB0bSLm8gNlo9hHp8MNpuxPtVR58mehO3hK47/hdHg7/AKG3Q/8AwZQ//FUf8Lo8Hf8AQ26H/wCDKH/4qsfY4Xn5+dX9f+CO8rWsexf21/tVxPhfzfA/ibVrCJGbQ9YupNQtWjVj9nuH5njb0RmXzFb+87rXJ/8AC6PB3/Q26H/4Mof/AIqj/hdHg7/obdD/APBlD/8AFVcqeHk0+dXXmha9j15tSiaZZ2RfOUbVk28qKxfHHjDV9D8K3t/oenLq+qRbWis5JGRXBdQ/IUtwu9q87/4XR4O/6G3Q/wDwZQ//ABVH/C6PB3/Q26H/AODKH/4qiUaEotKol80Cv2I9U1KCT4seD7rwGkMXmyTt4jk0+PFq9vs4Fxjgy7/ufxV6p4g8XS6Tpcs9rbyX1437u3tV/wCWsh6AnsPVv4Vry/8A4XR4O/6G3Q//AAZQ/wDxVH/C6PB3/Q26H/4Mof8A4qsqdGhDm/er3vTTRLTX5+o3d20O++H+l/8ACF+G4rKWdbnUJ5pb2+ulXHn3UrtJM/03Nx/s1oeKtY3eF9XXd/y5Tf8AoDV5j/wujwd/0Nuh/wDgyh/+Kqjr/wAYvCM+g6lDH4r0V3ktZVVU1KFmZijf7VXyYeFNxjNaLuhe83do/Tv9mD/k2n4S/wDYo6R/6RxV6bXmP7L3/JtHwl/7FHSP/SKKvTq/Dnuz3QooopAcv8RPh3onxS8K3fh/X7b7TYXHIKna8Tj7siN/Cwzwa+cvin8I/jfP8NdX8DWepaT498P3ixpDdXpNtqcSpKsgDMWEbn5QMmvrWijc4MRg6eJvdtNq11pddn0fzPl/w58Ifi9418FaH4R8W6vpvgvwhYafBYT2ugM0moXkccQj2vK2URTj+HNfRPhXwtpfgrw/Y6JotnHYaXZRiKC3jGAqj+vfPqa16KC8PhaeH1Tbe13q7dvJegV4t8BYY4/HnxjKIELeJucd/wDR469prxj4D/8AI9fGP/sZ/wD23joJr/xqPq//AElns9FFFB3BRRRQAUUUUAFFFFABRRRQAUUUUAFFFFABXj/7XH/Juvjb/r1j/wDR0dewV4/+1x/ybr42/wCvWP8A9HR0HFjf91q/4X+R6zaf8esP+6v8qnqC0/49Yf8AdX+VT0HYtjyX4E/8hj4jf9jHcf8AoRqf4N/8jN8R/wDsOSfzaoPgT/yGPiN/2Mdx/wChGp/g3/yM3xH/AOw5J/Nq+ux3xYz0p/8Atp5tX+PQ9Zfkz1OiiivkT0wooooAKKKKACiiigArkvi5/wAkr8Z/9gW9/wDRD11tcl8XP+SV+M/+wLe/+iHoMa38KXoyj8Cv+SJ/D7/sX7D/ANJo67uuE+BX/JE/h9/2L9h/6TR13dBGG/gw9F+QVi+Nf+RN17/rwn/9FtW1WL41/wCRN17/AK8J/wD0W1BtU+BnGfs0/wDJA/Av/YKh/lXpteZfs0/8kD8C/wDYKh/lXptBhhP93p/4V+QVQ13/AJAmof8AXvJ/6Aav1Q13/kCah/17yf8AoBoOiXws82/ZV/5N68D/APXj/wCztXrFeT/sq/8AJvXgf/rx/wDZ2r1ig5cH/u1L/CvyCiiig7Dxn9j7/k3Xwp/vXv8A6Wz17NXjP7H3/JuvhT/evf8A0tnr2ag4cD/ulL/DH8kFFFFB3HjP7J3/ACSmX/sNan/6VyV7NXjP7J3/ACSmX/sNan/6VyV7NQcOB/3Wn6L8gooooO4K+dfi18HfFHxA/aI0DVdL1TUfDOkWuhNFJrWmsokEoll/dc+qyZr6Kr5j/a4/aV1f4RXdl4Z8P26RarqFn9q/tGUgiBS5jGFPU5FTJpas87MHRjQ5q791NPT1Od+MNn/wpnTWbVvjl4wn1J13RabbzRmaT3/2Vrm/gP4Z+NvxWuI9VvPGmvaH4Rdg6Xd7cMbi4j/uwp6f7bVjfB63+Dmn6p/wlPxK8e2nirxNK3nfZbiC4mtoXPclkPnP7n8q9u+Jn7aPgvQfCc1z4O1ix17XRJGkVlNBOqFWOCT8q9B70l3Z89D2NR+3q1OSK+ypXb9dfwWp9G0UUVZ9kFFFFABRRRQAUUUUAFFFFABRRRQAUUUUAFFFFABRRRQAUUUUAFfPEn/J9cX/AGJR/wDSk19D188Sf8n1xf8AYlH/ANKTQebjf+XX+OJ7xeaBpmozedd6baXUuMeZNArt+ZFV/wDhEdC/6Aunf+Akf+FWLzxBpenTeTd6laWsvXy5p1RvyJqD/hLdD/6DOn/+BUf+NB6Qn/CI6F/0BdO/8BI/8KP+ER0L/oC6d/4CR/4Uv/CW6H/0GdP/APAqP/Gj/hLdD/6DOn/+BUf+NACf8IjoX/QF07/wEj/wo/4RHQv+gLp3/gJH/hS/8Jbof/QZ0/8A8Co/8aP+Et0P/oM6f/4FR/40AJ/wiOhf9AXTv/ASP/Cj/hEdC/6Aunf+Akf+FL/wluh/9BnT/wDwKj/xo/4S3Q/+gzp//gVH/jQAn/CI6F/0BdO/8BI/8KP+ER0L/oC6d/4CR/4Uv/CW6H/0GdP/APAqP/Gj/hLdD/6DOn/+BUf+NACf8IjoX/QF07/wEj/wo/4RHQv+gLp3/gJH/hS/8Jbof/QZ0/8A8Co/8aP+Et0P/oM6f/4FR/40AJ/wiOhf9AXTv/ASP/Cj/hEdC/6Aunf+Akf+FL/wluh/9BnT/wDwKj/xo/4S3Q/+gzp//gVH/jQBoQW8drCkUKLHCg2qijAAqaooJ47qFJYXWSJxlXU5BFS0AFFFFABRRRQAUUUUAFeNfA3/AJKN8Zf+xij/APSaOvZa8a+Bv/JRvjL/ANjFH/6TR0HDX/jUfV/+ks9looooO4KKKKACiiigAooooAKKKKACiiigAooooAK8j/aw/wCTdvG//XmP/RiV65Xkf7WH/Ju3jf8A68x/6MSg4sb/ALrV/wAL/I9R0v8A5Bdp/wBcU/8AQRVuqml/8gu0/wCuKf8AoIq3QdkdkfPP7DX/ACRa5/7DV5/6Etdn+0J/yAPDX/Yftf8A0GSuM/Ya/wCSLXP/AGGrz/0Ja7P9oT/kAeGv+w/a/wDoMlerlP8AvtL1/Q+dX/Ipj/hR6VfabaalGsd5aw3UancFmjDgH1wao/8ACI6F/wBAXTv/AAEj/wAKvX2pWmmxrJd3UNqjHaGmkCAn0yapf8Jbof8A0GdP/wDAqP8Axryj6MT/AIRHQv8AoC6d/wCAkf8AhR/wiOhf9AXTv/ASP/Cl/wCEt0P/AKDOn/8AgVH/AI0f8Jbof/QZ0/8A8Co/8aAE/wCER0L/AKAunf8AgJH/AIUf8IjoX/QF07/wEj/wpf8AhLdD/wCgzp//AIFR/wCNH/CW6H/0GdP/APAqP/GgBP8AhEdC/wCgLp3/AICR/wCFH/CI6F/0BdO/8BI/8KX/AIS3Q/8AoM6f/wCBUf8AjR/wluh/9BnT/wDwKj/xoAT/AIRHQv8AoC6d/wCAkf8AhR/wiOhf9AXTv/ASP/Cl/wCEt0P/AKDOn/8AgVH/AI0f8Jbof/QZ0/8A8Co/8aAE/wCER0L/AKAunf8AgJH/AIUf8IjoX/QF07/wEj/wpf8AhLdD/wCgzp//AIFR/wCNH/CW6H/0GdP/APAqP/GgBP8AhEdC/wCgLp3/AICR/wCFH/CI6F/0BdO/8BI/8KX/AIS3Q/8AoM6f/wCBUf8AjR/wluh/9BnT/wDwKj/xoAuWOl2Wlqy2dnb2itywgiVM/XAry/4S/wDJUPil/wBftt/KSvULHVLLU1ZrO7gulXhjDIHx+Rry/wCEv/JUPil/1+238pK9jB/7riv8Mf8A0uJL3R6Vd+HtK1CYzXWmWdzKesk1ujsfxIqD/hEdC/6Aunf+Akf+FT3fiDS9PmMN1qVnbSjrHNOisPwJqH/hLdD/AOgzp/8A4FR/4145Qn/CI6F/0BdO/wDASP8Awo/4RHQv+gLp3/gJH/hS/wDCW6H/ANBnT/8AwKj/AMaP+Et0P/oM6f8A+BUf+NACf8IjoX/QF07/AMBI/wDCj/hEdC/6Aunf+Akf+FL/AMJbof8A0GdP/wDAqP8Axo/4S3Q/+gzp/wD4FR/40AJ/wiOhf9AXTv8AwEj/AMKP+ER0L/oC6d/4CR/4Uv8Awluh/wDQZ0//AMCo/wDGj/hLdD/6DOn/APgVH/jQAn/CI6F/0BdO/wDASP8Awo/4RHQv+gLp3/gJH/hS/wDCW6H/ANBnT/8AwKj/AMaP+Et0P/oM6f8A+BUf+NACf8IjoX/QF07/AMBI/wDCj/hEdC/6Aunf+Akf+FL/AMJbof8A0GdP/wDAqP8Axo/4S3Q/+gzp/wD4FR/40AJ/wiOhf9AXTv8AwEj/AMKP+ER0L/oC6d/4CR/4Uv8Awluh/wDQZ0//AMCo/wDGj/hLdD/6DOn/APgVH/jQBoxxLBGqRqFjUABV4AAqWoo5VnjV0YNGwBDLyCDUtABRRRQAUUUUAFFFFABXjHwH/wCR6+Mf/Yz/APtvHXs9eMfAf/kevjH/ANjP/wC28dBw1/41H1f/AKSz2eiiig7gooooAKKKKACiiigAooooAKKKKACiiigArx/9rj/k3Xxt/wBesf8A6Ojr2CvH/wBrj/k3Xxt/16x/+jo6Dixv+61f8L/I9ZtP+PWH/dX+VT1Baf8AHrD/ALq/yqeg7FseS/An/kMfEb/sY7j/ANCNT/Bv/kZviP8A9hyT+bVB8Cf+Qx8Rv+xjuP8A0I1P8G/+Rm+I/wD2HJP5tX12O+LGelP/ANtPNq/x6HrL8mep0UUV8iemFFFFABRRRQAUUUUAFcl8XP8AklfjP/sC3v8A6Ieutrkvi5/ySvxn/wBgW9/9EPQY1v4UvRlH4Ff8kT+H3/Yv2H/pNHXd1wnwK/5In8Pv+xfsP/SaOu7oIw38GHovyCsXxr/yJuvf9eE//otq2qxfGv8AyJuvf9eE/wD6Lag2qfAzjP2af+SB+Bf+wVD/ACr02vMv2af+SB+Bf+wVD/KvTaDDCf7vT/wr8gqhrv8AyBNQ/wCveT/0A1fqhrv/ACBNQ/695P8A0A0HRL4Webfsq/8AJvXgf/rx/wDZ2r1ivJ/2Vf8Ak3rwP/14/wDs7V6xQcuD/wB2pf4V+QUUUUHYeM/sff8AJuvhT/evf/S2evZq8Z/Y+/5N18Kf717/AOls9ezUHDgf90pf4Y/kgooooO48Z/ZO/wCSUy/9hrU//SuSvZq8Z/ZO/wCSUy/9hrU//SuSvZqDhwP+60/RfkFFFFB3BXmvjjwh4T0XxqnxN8SagLVdP0s6YUuihtghlLhipUkvubAwe9elV83/ABS8JJ8c/wBoSy8E6xPIvhXQNIXV7mzicqbqeSQogOOwAqWcWLly017t22rLz6fcc7q37b/wssdQeCz8MXWoQRtgXK2cUat7qD1rqbPWvhT+114PufD+nyNpl3lLhoBbxQX0G1uGUEMPyzXqNj8Efh7ptqLa38EeHxCBjEmmwuT9Sykn8TXif7QnwH0D4e+HpfiV4FtYvDPiLw86XmyzXbb3Ch1DK8Y46Unory2PMqU8ZTi5VuWceqtbTrZn1JRVLR9STWNIsr+NSsd1Ak6qeoDKCP51dqz301JXQUUUUDCiiigAooooAKKKKACiiigAooooAKKKKACiivNPhH4+udb8G+KdZ8RXsKRaV4i16za4ICLDa2t/cRR7j/sxRjJ9qAPS6K8R/wCGkpF+Gh+JzeEb9fhz5P2z+0jMPtwsev242eP9Rt/ef6zzNnPl1v8AxI8f3vhfVPhz4i0+9huPBeqanHpeqMoVk2XiBbK5WTPA+0eRH6EXPsKAPT6+eJP+T64v+xKP/pSa+h6+eJP+T64v+xKP/pSaDzcb/wAuv8cTl7/4beCvH37UXxXfxd4P8P8Aih7Ww0MW7a1pcF2YgYp9wQyKetdT/wAM6/Bn/okvgX/wm7P/AONVhrefZf2ovi3/ALVhoX/oq4rs/wC2P9qq50tDKvWcajVzI/4Z1+DP/RJfAv8A4Tdn/wDGqP8AhnX4M/8ARJfAv/hN2f8A8arzr9qT4x+Ifgz8JdV8aaFe6RGdLVWe01ixluftbSSxxxopjuI/Lq5pOofGO68N2F/ca54MXVJbWOWXS20G7jQSFcmHz/trf99+XT9ojL20rc1zuf8AhnX4M/8ARJfAv/hN2f8A8ao/4Z1+DP8A0SXwL/4Tdn/8ari/gD+0Fb/HTwXcauunyaPqunX82lanprSLItvdxffCSD76fNw1el/2x/tUvaIUq8ouzZkf8M6/Bn/okvgX/wAJuz/+NVFdfAH4J2NrPdXXws8AQW8SGSWaTw7YhEQckkmKtz+2P9qvE/i54kPxE+LXhL4UKzf2S1u3iTxGq/8ALWzhdY4LU+00/wB5f4lSj2iCNdye56To/wAC/gfr2l2uo2Hwq8Cz2N1GJYJv+EZtBvRujcxVc/4Z1+DP/RJfAv8A4Tdn/wDGql8TeOtO8HeHdS1zVbpbTS9Ot5Lu5mbokaLk141rXxy8W+Hfh/o3xJ1ZI9L0a+1KyRvDckI82DT7qeOFZZJP+fkeakhH3V/1dP2g41pS2Z6Rr3wh+Anhm60i21P4X+BYJtXvRp9kv/CK2j+bOUaTHEJ/hjqxrHwV+BGg/Yv7R+GPgCzW8uFtIWl8N2YVpn+4mfK4Jrjrz4oeJY/j9oPhWKWBtNurK81C+s/LU/ZbOPy4oJi//PWSduF+7sr0HxdpemeOvC+peH9Xi+1abqUDQTR9Gw3cHsR94N/C1L2iB12rXYf8M6/Bn/okvgX/AMJuz/8AjVH/AAzr8Gf+iS+Bf/Cbs/8A41XA/s5/E3U/Evg2/wBF8RXjXfirwlqU2g6pcN8punh/1dz/ANtImR69V/tj/ao9ohSruLs2T/sXf8ml/CL/ALFmx/8ARK17RXi/7F3/ACaX8Iv+xZsf/RK17RUnuhRRRQAUUUUAFFFFABXjXwN/5KN8Zf8AsYo//SaOo/Gv7Rn2bxTc+E/AXhm88f8Aii14u4rORYbSybsJ52+VT7V4b8HfjL8SbDx18Uri1+HEevNFrKya3ZaffIs9rMFaLZF187/U9qDwsRjqCr0km3ZvZN/ZfZffbY+26K4b4V/F/wAP/F7R5rzRZJorm1fyr3TrxPLubST+5InY13NB7NOpCrFTg7phRRRQaBRRRQAUUUUAFFFFABRRRQAUUUUAFeR/tYf8m7eN/wDrzH/oxK9cryP9rD/k3bxv/wBeY/8ARiUHFjf91q/4X+R6jpf/ACC7T/rin/oIq3VTS/8AkF2n/XFP/QRVug7I7I+ef2Gv+SLXP/YavP8A0Ja7P9oT/kAeGv8AsP2v/oMlcZ+w1/yRa5/7DV5/6Etdn+0J/wAgDw1/2H7X/wBBkr1cp/32l6/ofOr/AJFMf8KOO/a20DSfFWrfBTSNd0yy1nR7vxqVuLDUbZLi3mxo+pMA8b8EZGfwpf8AhnH4M/8ARJfAv/hN2P8A8aqX9qiTyvEvwOf08bP/AOmbU62P7U/2qzw1L2kLndi6zpzS8jC/4Zx+DP8A0SXwL/4Tdj/8ao/4Zx+DP/RJfAv/AITdj/8AGq1NUvLi80+4gtb1rG4eMrFdKqu0RPcBvlOK+bP2dfHvxJ+NFn411W7+IBt9F07xFd6Ro81ro9oDdW8J/wBe+VPWuh0Umlbc5Y4iUk5X2Pf/APhnH4M/9El8C/8AhN2P/wAao/4Zx+DP/RJfAv8A4Tdj/wDGq8m0H46+IfCP7RNl8JPFt1Z69/bGkNquk61ZW7Wso2lg8NzHuZf+WbsJFr3b+1P9qiNBS2QpYiUbXe5hf8M4/Bn/AKJL4F/8Jux/+NUf8M4/Bn/okvgX/wAJux/+NVu/2p/tV5n468ZXPij4haT8O9Lumto5LI6vr11AzCWKxD+XHBGR8yPO/wDF/CiPTeHS6CjiXLqdf/wzj8Gf+iS+Bf8Awm7H/wCNUf8ADOPwZ/6JL4F/8Jux/wDjVbi6kI1VV+VVG1VrnvFHiy7s9a8M6bZS7ZNQvitx8qllt44ZJHPPqypH/wADp/V12EsU31Jf+Gcfgz/0SXwL/wCE3Y//ABqj/hnH4M/9El8C/wDhN2P/AMard/tT/ao/tT/ao+r+QvrT7mF/wzj8Gf8AokvgX/wm7H/41R/wzj8Gf+iS+Bf/AAm7H/41XIeE/GE/gv4mXHgC/uGl0+8sTq3h2aRmLrCjrHc2hJ6+S0iMv+w9emf2p/tUlh0+hTxLXU5T9mnwroPgv43fGrS/DWh6d4e0tRoki2Wl2cdrCrNbS5ISMAV2/wAJf+SofFL/AK/bb+Ulcd+zvP53x++N7f7Ghf8ApNPXY/CX/kqHxS/6/bb+UlXh48tDFr+7H/0uJ7NKXNCLPIbH4W+A/HX7RXxzvPFfgrw54lu4dW0yKK41jSYLqSNDpFmcKZFNdh/wzr8Gf+iS+Bf/AAm7P/41XM6Hf/ZP2ifjt/2GNM/9M1lXcf21/tVNDDc9OMrGFST5mZv/AAzr8Gf+iS+Bf/Cbs/8A41R/wzr8Gf8AokvgX/wm7P8A+NVwXx6/aMX4C+F/+EjvfD19rOjq8cMsllcQh1kd9qIEdgxqfUPjV4l0PS5NS1H4aa59jijMsy6feWdxMiBck+WJQz4/urV/V43a7eRN5bnbf8M6/Bn/AKJL4F/8Juz/APjVH/DOvwZ/6JL4F/8ACbs//jVVfAvxR0X4k+FNP8SeHdQTUtGv499vOu5c9mUqfmUhvlK1uf21/tVawieqFzMzf+Gdfgz/ANEl8C/+E3Z//GqP+Gdfgz/0SXwL/wCE3Z//ABqtL+2v9quPs/iZceIPiBe6HpAj/s/Qwv8Aa99IuVad03R2sX+2FZJHb+FXRaTwtugcz7m9/wAM6/Bn/okvgX/wm7P/AONUf8M6/Bn/AKJL4F/8Juz/APjVZfjz4tWHgGxsjOst9qWpXAstN0u22+de3DchEzgABV3MzfKq1i2fxtul1nxHoGp6KsHiXSbGDUorHT7prhLyKcyJGY5DEhB82J423L8tS8NFOzDmZ13/AAzr8Gf+iS+Bf/Cbs/8A41R/wzr8Gf8AokvgX/wm7P8A+NV5BN+1Zfw/Dvxb4w/4RRf7N8K3t5ZXzNqmFuDbzNE7WjeV++/4Esder+KvE2sWugve6HBHeX0GJ/sM/DXSDkwg8bJD2Zvl3ULDxlsO76lj/hnX4M/9El8C/wDhN2f/AMarF8b/ALP/AMHrXwXr81v8K/BNvPHp87Ryp4ds1ZWEbfMGEVa/hP4haf428N6brmkztLp+oQieJmXDjPZx/C4+6V/haoPHWsbvBPiFd3/MOuf/AEU1V9V0ukLmdz0v9mz/AJN1+Fn/AGKulf8ApHFXo9ebfs0/8m4/Cr/sVNK/9I4q9Jr589IKKKKACiiigAooooAK8Y+A/wDyPXxj/wCxn/8AbeOo/Gf7RjQ+KLrwn4A8MXnj/wATWh23aWkiw2dm3ZZp2+VT7V4f8GvjL8SNN8afFGa2+HEfiBodc83W7PTb5BcWs2Gi2RDnzv8AU9qDwcRjqCr0km3ZvZN9H2Wtuttj7borh/hb8XvD/wAXdGkvtElljmtn8q80+6Ty7m0k7pInY13FB7VOpGrFTg7phRRRQaBRRRQAUUUUAFFFFABRRRQAUUUUAFeP/tcf8m6+Nv8Ar1j/APR0dewV4/8Atcf8m6+Nv+vWP/0dHQcWN/3Wr/hf5HrNp/x6w/7q/wAqnqC0/wCPWH/dX+VT0HYtjyX4E/8AIY+I3/Yx3H/oRqf4N/8AIzfEf/sOSfzaoPgT/wAhj4jf9jHcf+hGp/g3/wAjN8R/+w5J/Nq+ux3xYz0p/wDtp5tX+PQ9Zfkz1OiiivkT0wooooAKKKKACiiigArkvi5/ySvxn/2Bb3/0Q9dbXJfFz/klfjP/ALAt7/6IegxrfwpejKPwK/5In8Pv+xfsP/SaOu7rhPgV/wAkT+H3/Yv2H/pNHXd0EYb+DD0X5BWL41/5E3Xv+vCf/wBFtW1WL41/5E3Xv+vCf/0W1BtU+BnGfs0/8kD8C/8AYKh/lXpteZfs0/8AJA/Av/YKh/lXptBhhP8Ad6f+FfkFUNd/5Amof9e8n/oBq/VDXf8AkCah/wBe8n/oBoOiXws82/ZV/wCTevA//Xj/AOztXrFeT/sq/wDJvXgf/rx/9navWKDlwf8Au1L/AAr8gooooOw8Z/Y+/wCTdfCn+9e/+ls9ezV4z+x9/wAm6+FP969/9LZ69moOHA/7pS/wx/JBRRRQdx4z+yd/ySmX/sNan/6VyV7NXjP7J3/JKZf+w1qf/pXJXs1Bw4H/AHWn6L8gooooO4K8B+P3hHxd4b8WaZ8UvAEA1HWdPtTYalpBUt9utC2/CgdWU9Pwr36vG/2ifjxN8HdP0yy0bSjrvirV3ZLGxwxGFGWdgvJHoB1qZHFjFT9i3VdktbrdPpbzPKLT/godokcLJqfg/UrK+TiSBLhXCn6lRWZH4/8AGv7Zl1B4fsNCk8L/AA8WdX1W+ZjI1yikHylkKhSc9lrW+F3xpvPH3xEsPD/xd+Gml6Tq2pKw0y9utIaMuy8mMifc2fTFfWcMMdvGsUaLHGowqqMACi19zyMPCtjovnrXh1XLyt+T/wCBuJDClvGkcShI0AUKvQAVNRRVH0gUUUUAFFFFABRRRQAUUUUAFFFFABRRRQAUUUUAFfE3xh1SbR/2Cf2gLq2JEj674ptwfaTW7iJv0Y19s185+DPhzB8Xf2efiv4LupTZxa94k8WWBnAyYzJql2of8CQfwoA37yyh/wCGKprTYPs//Cvmi2f7P9m4x+VcX+zF4ZPxo/4J9eB/D2qTNA2p+Fl09LkctAyBo4ZV90KRsP8AdFNmuvHk37Kp+GX/AAiOqL8R38O/8IszeU/9niU2/wBmN/8AbMbPJ/5a7c+b22967y5t0/ZY/ZbsdK0cf2nfeG9GtdH0yNxj7dftst7dSP8AprcSIP8AgVAG38Lfi7Za58H9A8T+K9QsNAvmVrDVPtlwkEUOowO8F1EGYgfLNFKAPavIpviV4S/4bRg1n/hKtF/sj/hEPs39of2jD5HmfaGOzfuxnvivavA/wc0Lw18K/D3grVrGz8SW2m20azSalbJOtzc/eluCrgjc8jO/1Y14pN8M/CH/AA2hBov/AAiuif2P/wAIh9p/s7+zofI8z7Qw8zy9uM9s4oPMx3/Lr/HE5qbxdpWuftL/ABSvdI1K01Wyaw0QC4sbhJoyRHcfxKTXV/2x/tV5t4r0nSfBv7TfxKsdG02z0ey/s/RXFtYW6QRljHcdlA/lV6414WtvLK+5ljQsyxqztgegGWJrhqVOWTR4OOq8uJlH+tkeTftiaxL4u1f4UfD21g+3NrfiJdQubVSB5tpaDfIldb8VPjh4m8LtpGlnSYPCa6/cDS4fFGoXC3VvZXD/AOrzDH8xc9tzKleRWfiSXxZ+1pa+JbzRfENtoOl6F/Zul3VzoN7HE93NJ+8fcYvkAVtpLVf/AGuYNT1/T/h7FFBLLoVt4qs7nV5o0ZvIhVseY/8AdjFPn1SLVRc1OnLtf7/6R718GPhtovwR8C2/hvRZJrhfMa5u766bdNeXD/flkru/7Y/2q8gXxxqXiCNv7DgiW1a4ESapc8xNGFy8iR7lLjd+7Vlb5vvVyHw7+JXjfxwtpqSJo7aDHrF9p9xNtljee3geWJLiP5jyzqi7Kj2j3OT2kpXm2fR39sf7VeA/CPWP7Y/au+OWpSn/AI8ING0y39k8iSV69H/tj/arxD4Y3R0H9p34xW8p2rq1rpOp2/uiwyQuaFU0Y6Va8Z+n6o2f2xNcvPE8fw8+HWnQfbpPFOurJeWfneWt1Y2g8+eMmsf9pjxd4n8bf8K++H994fg0b/hJPEtozvBqQuS1vbt503AQdK2viZZuvxa+GnjJ0ll0/RW1C0umgjMnkfaLdQkhA7bo9tSeHdJufGHxWl+IOsWslta6baHS/DtncqySojtme6dD8yGT7qr97ZVKqrXN44iMYxl2T++//DHqN18P9IuviBdeLXurr7VdQ2cVxa7kMMv2V5JIOq7xh5NxVWVWZErtv7Y/2q+af2jPiRrGj+A9ZTw5eNY3lqLeS7vo/vQI9xHGI1PaRt3/AAFa9f8A7Y/2qj2jtc5ZVZcqk3/Ssec/C/WDpP7XHxnsFb/R9SsdH1QR/wAKyJC0Jr33+2P9qvlr4a3R1L9p34v6zj9zaW+laXE38LHyWlkr27+2P9qnKpZl1q1pL0X5I9J/ZB+LHgjR/wBlv4VWN/4x0CxvLfw3Yxy29zqkEckbCJRgqX4r1/8A4XV8PP8AofPDP/g4t/8A4uvH/wBkH4S+B9Z/Zb+FV9f+DPD99eXPhuxkmuLnSoJJJGMKnLMU5r17/hSXw7/6EHwx/wCCa2/+Ir0D7gd/wur4ef8AQ+eGf/Bxb/8AxdH/AAur4ef9D54Z/wDBxb//ABdN/wCFJfDv/oQfDH/gmtv/AIij/hSXw7/6EHwx/wCCa2/+IoAd/wALq+Hn/Q+eGf8AwcW//wAXR/wur4ef9D54Z/8ABxb/APxdN/4Ul8O/+hB8Mf8Agmtv/iKP+FJfDv8A6EHwx/4Jrb/4igB3/C6vh5/0Pnhn/wAHFv8A/F1wPx0/aI8N+GfhR4ivfDPi3Q9Q1/yBBZRWepwSSCSRlQSABj9zfu6dq7z/AIUl8O/+hB8Mf+Ca2/8AiK85/aF/Z78M658HPEsHhjwdollr0cAubSSw02KKZmidZCisig5ZVZf+BUHJi+f6vUdP4rO3rYvfCPxJ8JvhH4HsdAsPH/hV3jXzLu7/ALZtt91cEDzJWO/kk15N+zD8SPCXh/4tfHS81TxRo+m2eo68JbK4vNRhijuY/OuzujYsA457V1/w1/Zs+A/xQ8E6X4k0rwirW19CGZBqt4TDJ/HG377qrZH4V5Z+zz+z14A8efE74yaRrnh/7ZYaBrQtdNiF5cx/Z4vOuV2grKCeIk60dT5qTxSqYbkjC2vLZu3wvy7HofxL+IHgXwl8YPBnj/wr4v0Ca41C9TQ/ENtp+pwSCe0lPy3Eiqx/1LLkt6HFe3XHxw+HdrbyzN468Nssal2CatbscD2D184+Pf2ffhlZ/GDwD4M8IeGIU1g36atrLPcz3UcOnQ8tFKkjso84kKOO3vX0PqvwD+HeraVeWR8E+HrYXEDwedb6VbpJGGUqSpCcEUHrYH2163Mle/S9r213t5X87nxX4y/4KCeOr7xJLN4ctNP0zREkPk291AZpZV9XPb8MV9RfBP8Aas8JfErwRFqeu6xo/hfWI3aG6sb6/jh+Zf4497AlD2NfB/xB/Zh8eeAfGlr4fk0ptSbUrhoNMurVlKXm0bv+A8dVavtP9mv9lPR/Afw/8vxroGja54hvZvtMwvLOK5FsCoAiVmU8DHb1pI8DJ62Y1MZKOIvyq979H0t/Wx65/wALq+Hn/Q+eGf8AwcW//wAXR/wur4ef9D54Z/8ABxb/APxdN/4Ul8O/+hB8Mf8Agmtv/iKP+FJfDv8A6EHwx/4Jrb/4imfcjv8AhdXw8/6Hzwz/AODi3/8Ai6P+F1fDz/ofPDP/AIOLf/4um/8ACkvh3/0IPhj/AME1t/8AEUf8KS+Hf/Qg+GP/AATW3/xFADv+F1fDz/ofPDP/AIOLf/4uj/hdXw8/6Hzwz/4OLf8A+Lpv/Ckvh3/0IPhj/wAE1t/8RR/wpL4d/wDQg+GP/BNbf/EUAO/4XV8PP+h88M/+Di3/APi6P+F1fDz/AKHzwz/4OLf/AOLpv/Ckvh3/ANCD4Y/8E1t/8RR/wpL4d/8AQg+GP/BNbf8AxFADv+F1fDz/AKHzwz/4OLf/AOLo/wCF1fDz/ofPDP8A4OLf/wCLpv8AwpL4d/8AQg+GP/BNbf8AxFH/AApL4d/9CD4Y/wDBNbf/ABFADv8AhdXw8/6Hzwz/AODi3/8Ai68v/aa+KXgvXPgP4ysdO8X6Df3s1mFit7XVIJJHPmJwFD16d/wpL4d/9CD4Y/8ABNbf/EV5h+018KfBOh/Afxjfab4O0DT72GzDRXFrpdvHIh8xOjBKDixv+61f8L/I9I074zfD6PT7VW8deGgREg51i39B/t1Z/wCF1fDz/ofPDP8A4OLf/wCLqpp3wV+Hj6fas3gLwwSYUJ/4k1t6D/Yqz/wpL4d/9CD4Y/8ABNbf/EUHZHZHhX7GfxK8JeG/hHc2ur+KdE0u5bWLuRYLzUYYn2Erg4Zq7P42fErwj4i0XQYtJ8U6Jqk1vrVtcSrZ6jDK0UaiTMhCscAetcX+xr8M/CHib4SXN3rHhXQ9Wul1i7jE97p0Mz7AVwNzLXZ/Gr4Z+EPDmi6DNpPhXRNLln1m2tpnstOhiaWJhJujYqoyp9K9XKf99pev6Hzq/wCRTH/Cjj/2nfiJ4Y8Ua98GoNC8SaTrNzD4yM0kOn38c7Kn9kakNxCMeMmtL+1P9qsH9rDwH4X8E6h8H77QfDek6JcP4x8mSbTbGO3dkOk6j8pZFHHA/Ks7+1D/AHq9PKqXPRb8/wBEcWcVvZ14ry/VkXxq+JQ+HPwl8XeJFl2zabplxLD/ANdtmIx+L15L+z3a+OPhV+zJ4YsdC8MaRqd2mnf2gsVzq8sMszzM05Ur9mI34f1rnv2tG8R/ETwWPBOieGdY1C3vNRtP7TvLZY1i+xoVlbYzOGY165rWpahrXw51SLQ7eTTNUn02aKxt7tVjaKYxMsecMcfNXd7Dnqyt0X9focCxHJRjt7z/AOG/NnP/ALO9n4f8fSD40tqkviPxN4gs/siXk1v9ni0+3R8G0hg3N5ah15ZmYmvc/wC1P9qvlr9lE6r4G+Dng7wfPot9p+oWJum1X+0LWSFIN00z/I5+WQlmTG2uk/tjx3N40v4LXxbp9zp7SFbi3XS18rSY+wSff+8uCv8ACysv8VOlTtTi2tX+Yq1W9WSUtFt6X02PoH+1P9qvHPg/rB1b41fGjVpfvJqWn6TF/sxwWav/AOhzvXaf2of71eT/AA9vf+Ed+O3xP0yT92urLp+vWq/31MP2eYj6NBWlTD+9D1/RmNPEXjP0/VHoXxU+MF54Z1jw14S8OQQXnjDxJNJHZLd7jb2cES7p7qYBgSiL0X+JqyI/Cd/q3ji/Y+MNa/tbStKWKLVlkTak9w7NIPI2+TgLBD8rLXNeNNDv9N+M3hv4iWVpNqtva6Zc6NqFrBzNFHI6ypPGh+/hl2sq/NWdY+LPEPi7w/4gXwha3NnqHiDULhm1zULdoLeyhG23jmRHw8khgiRlVV27vvNWTo+81Jenp/w5tGt7qcH6vzv/AJHqPwD+L1z8WPhXpHiO/ihg1KQzW12sH+qaaGZoXeP2Zo9wrpvCPxK0bxzZ3t1od6t9a2d5Np8sy9PNiOHAP8QDV4oreHvhL4R8N/Diw1KPRdLS12S3lzMsT/Z1/wBYQf8AnrMzfw/7bVl/sveJdJfSfG9jpl3asq+LNWmit7dhxA1y2xgo7U4walGnLe2vqKdROMqsdr6eh2/x41YaT4++C+uRM3nQ+KjpZ/2orqyuVf8A9FpXsf8Aan+1Xzz8V7v/AISb4qfCnQQWf7LqVz4iuFX+GO3tmjRj7GW5SvV/7UP96tIYe85+v6IyqYj3Ien6s0f2f/Hnh7wv8cPjM2va9pui/aBonk/2jeR2/mYt5slQ7DNdv8NfiV4R0j4hfES8vfFOi2VnfXtu9pcXGowxx3ACvkxsWw34V5t+zL4R8PeOPjP8Zjr+g6Xrot10Tyf7Rs47jy828+QpdTivSfht8M/B+r/ED4iWd94V0S9s7G9gS0t7jToZI7cFXyI1K4X8K8dLlhjV5L/0uJ9vg5c2HpvyPILHxNYat+0D8a77TL+21GwuNU00xXVnKssb40myBw6E11n9sf7VeX6taaf4T/aK+MumaTZWumWEWpaZ5VpZxLFGmdJtCcIgFakmvLDGzyOqqvzMzNX0GXYfmwtOXkZVX77PKP2sfEEXiT4g/BzwTKs09nca/wD27fw29u87NBaDO0ogLMG3V33jj4+C4+0eFvCFnd33jrULSRrGz1K1l0+JB0M7m4VMxp3VNzV4r4Q8TWfjv9r7xVrIu4J7XwvocGjWm2QENLMzSSMnuP3imnftE69NefGf4G6bCrR/8Tqa8N17Rhcxg+6tWLpPknWjs5Jfio/ncfVR8j3X9nn4axfAf4U6T4SS9+3zW/mTXNyOFeV23OF/2a9I/tj/AGq8muviIJJmtdJt21C886SL5m8uFdir5hMm08BmRflVm3Vz3gn44Hx1Jo09noGpQaTqkdwyXzbSkTwsquJMfKoLfKjbtzV6EaFOnamvl+H+aMm29We6XniSLT7Oe6nfbDBGZXb+6FXJry/9mHUJG+DOjazdbv7Q8QyXGu3cjfeeS5laX9FZFFXtcujq2i6jZK+1rm3kg3f3d6sK4b9nHxB53wJ8Dj7rW+mRWjr6PEPKb/0XSeF/fRTXR/mhp+6Zdt8VbPXv2rvEup6pFqt5pHgnT00jS103SLrUEW6uFV7qQm3ifY4VUiq38N/GzfET9qr4geINLSaOy0bw1ZaGrX9tLbMZmlkuPmikCuDwevtXOfCXxBa/DHT/AIualqzbZf8AhML+8aKP5pJFlET20aDuWDIFWun+A3hm88G+F7/U9aXZ4o8S30us6qu7PlSS9IB7Ivy1x08LOcop923+KX9eRo5JJm1H8G723+AvhnwH/aNtdzWN7a32qrKzJDqRS5+0zxlgpIDy169od9d2OlwRX979uvOWmmVdis7NkhB2Qbtqr/drw/S/jFd6x8ZJfDMEMa6HDo8l6t5/HPMlwsRx/wBMx8616H/bX+1XZSwkHrDpp9xnJvqc98E9a/sPxx8VvCiu32XT9dXUrSP+FI72Bbh1Ht5/nV6J401jd4N15d3/AC4XH/opq8I+Gd8ZvjN8W9WH/HrJdaZp6t/ekhtVZ/8A0fXe+LtY3eE9bXd/y4zf+gNU0sLek9OsvwbBvU+jP2dfi54G039nz4Y2d34z8O2t3b+F9Limgm1WBXjYWkQIIL8c16H/AMLq+Hn/AEPnhn/wcW//AMXXnP7Ofwh8Can+zz8L7288FeHbq7uPC2lSzTzaTbs8jG0iJJJT1r0T/hSXw7/6EHwx/wCCa2/+Ir82e5647/hdXw8/6Hzwz/4OLf8A+Lo/4XV8PP8AofPDP/g4t/8A4um/8KS+Hf8A0IPhj/wTW3/xFH/Ckvh3/wBCD4Y/8E1t/wDEUgHf8Lq+Hn/Q+eGf/Bxb/wDxdH/C6vh5/wBD54Z/8HFv/wDF03/hSXw7/wChB8Mf+Ca2/wDiKP8AhSXw7/6EHwx/4Jrb/wCIoAd/wur4ef8AQ+eGf/Bxb/8Axdef/Hr9obw34d+E/iC78MeLtDv9feEW9nFZ6nBJIHkdU8wAMfuB934V33/Ckvh3/wBCD4Y/8E1t/wDEV5v+0V+z74Z1j4N+JY/DHg3RLPXIIVurZ7HTooZWMbq7orIoOWRWX/gVBx4znWGqez+Kzt62NL4TeJPhJ8JfBNh4f0zx74VPlJvubn+2bbfczEDzJWO/kk15J+zD8SPCXh74sfHO71XxRo2m2moeIPNsp7zUYYo7mPz7s7o2LAMOe1dl8N/2a/gP8TPBel+JNJ8JK9rfRByq6reExP8AxRt++6q2R+FeVfs7/s8+APHnxK+Mmk654fF5YeH9b+x6bCLy5j+zxebcrtDLKCflROtHU+bn9bVTDckYW15bN2+F76dj0P4ifEHwL4Q+M3g3x74X8X6BPJql4uh+IrXT9Ut3E9vJkR3MoVukTLy57EV7bdfHL4d2dtNO/jnw4yxoZGWPVbdmwPQB+a+cfHH7PnwztPjR4B8G+EPDMUeqLeLrOts9zPcxxafFz5UiSOyjzmIA47e9fQ2sfAH4d6xpN7Y/8IV4etRcwSQefbaTbpJHuUruUhOCM/pQergXWvW5kr36Xte2u/yv5+Z8V+Lv+Cgnju+8SSz+H7TT9M0RHPk2t1AZpHX1du34V9S/BX9qrwj8SvA9vqmt6zo/hjWEdobrT73UI4sOv8Sb2BKHsa+DfH37Mfj7wJ41s/DcmkNqUupTyRaZcWrKYrzaNxP+zx1Vq+1v2b/2VdF8BfD1YfGnh/Rtb8Q3kpuZzeWcVz9nBAAiVnU8DHb1pI8HJ62Y1MXKOIvy63v0fS39bHrP/C6vh5/0Pnhn/wAHFv8A/F0f8Lq+Hn/Q+eGf/Bxb/wDxdN/4Ul8O/wDoQfDH/gmtv/iKP+FJfDv/AKEHwx/4Jrb/AOIpn3I7/hdXw8/6Hzwz/wCDi3/+Lo/4XV8PP+h88M/+Di3/APi6b/wpL4d/9CD4Y/8ABNbf/EUf8KS+Hf8A0IPhj/wTW3/xFADv+F1fDz/ofPDP/g4t/wD4uj/hdXw8/wCh88M/+Di3/wDi6b/wpL4d/wDQg+GP/BNbf/EUf8KS+Hf/AEIPhj/wTW3/AMRQA7/hdXw8/wCh88M/+Di3/wDi6P8AhdXw8/6Hzwz/AODi3/8Ai6b/AMKS+Hf/AEIPhj/wTW3/AMRR/wAKS+Hf/Qg+GP8AwTW3/wARQA7/AIXV8PP+h88M/wDg4t//AIuj/hdXw8/6Hzwz/wCDi3/+Lpv/AApL4d/9CD4Y/wDBNbf/ABFH/Ckvh3/0IPhj/wAE1t/8RQA7/hdXw8/6Hzwz/wCDi3/+Lryv9qL4peC9c+AvjGx03xfoOoXs1sgit7XVIJJHImjOAA9epf8ACkvh3/0IPhj/AME1t/8AEV5X+1F8K/BWgfAXxjf6Z4Q0HTb2G2QxXNppkEUiEzRjIYJQcWN/3Wr/AIX+R6ja/Gj4fLbwg+O/DIOxf+Yxb+n+/Uv/AAur4ef9D54Z/wDBxb//ABdQW3wU+HjW0JPgLwxnYv8AzBrb0/3Kl/4Ul8O/+hB8Mf8Agmtv/iKDsWx5v8HfiV4R0TVPHcmo+KdF0+O812e4tmutRhjWeIscOm5uRU3wt+JXhHRtf8dTah4o0WwivdYkntZLnUYEWeMlsOhLfMKg+Dvwz8Ia1qnjmLUvCui6gljrk9tapdabDIsEIY4jj3LwtTfC34Z+ENa8QeOYdR8K6LfxWWsSQWsd1psEiwRgthEBX5RX1uN+LF+lP/2086t/HoesvyZ6L/wur4ef9D54Z/8ABxb/APxdH/C6vh5/0Pnhn/wcW/8A8XTf+FJfDv8A6EHwx/4Jrb/4ij/hSXw7/wChB8Mf+Ca2/wDiK+SPSHf8Lq+Hn/Q+eGf/AAcW/wD8XR/wur4ef9D54Z/8HFv/APF03/hSXw7/AOhB8Mf+Ca2/+Io/4Ul8O/8AoQfDH/gmtv8A4igB3/C6vh5/0Pnhn/wcW/8A8XR/wur4ef8AQ+eGf/Bxb/8AxdN/4Ul8O/8AoQfDH/gmtv8A4ij/AIUl8O/+hB8Mf+Ca2/8AiKAHf8Lq+Hn/AEPnhn/wcW//AMXR/wALq+Hn/Q+eGf8AwcW//wAXTf8AhSXw7/6EHwx/4Jrb/wCIo/4Ul8O/+hB8Mf8Agmtv/iKAHf8AC6vh5/0Pnhn/AMHFv/8AF18i/te/tbXz6xc+C/A+q2b6Q1rs1DU7Vkn+0eahzFG/KgBTyfevrj/hSXw7/wChB8Mf+Ca2/wDiK+Zv2mv2KbzxTrkfiD4c2Om2ZaJYrnRYVS0QsowskfRAfrQeFnMcTLCNYW97623t5HP/ALF37TWu3XirSfh1r7pe6bLB9m0ybYEktzFFkRnH3lKrwe1fd1fGn7KX7Huv/D/xtD4w8Z/Z7S6sUYWWm28olxI6lWkd14zg19l0E5LHFQwtsVe99L72CsXxr/yJuvf9eE//AKLatqsXxr/yJuvf9eE//otqD3KnwM4z9mn/AJIH4F/7BUP8q9NrzL9mn/kgfgX/ALBUP8q9NoMMJ/u9P/CvyCqGu/8AIE1D/r3k/wDQDV+qGu/8gTUP+veT/wBANB0S+Fnm37Kv/JvXgf8A68f/AGdq9Yryf9lX/k3rwP8A9eP/ALO1esUHLg/92pf4V+QUUUUHYeM/sff8m6+FP969/wDS2evZq8Z/Y+/5N18Kf717/wCls9ezUHDgf90pf4Y/kgooooO48Z/ZO/5JTL/2GtT/APSuSvZq8Z/ZO/5JTL/2GtT/APSuSvZqDhwP+60/RfkFFFFB3BXzF8WPHXh74e/tceGNY8T3y6fp8PheRYrho5H2yNNKOiKeor6dr5w+NXwz8E+M/jlo+q+Otf8ADsWiWuim2bR9Q1X7JdPIZXZZAA6nZhsdeoqX0PMzBTdJeztdSi9dtH1OV+PH7RXw28W3Pw5uNI8SW97LpHiyx1C6kFtODBarv81uY/pXUfEz9tfwTo/hG4ufBus2uu6+JI1hsbi1uURgXAYklF6A+tWY/wBm/wDZ5m0GbWo9O0qTRos+ZqSa9OYE9cyifA/OvOte+CPwR+KGh3OkfCm+0W38YB0aCSbU7o/KrAyfI7Nv+XPQH60tTyajx9PnkpQvNaWbvoulz7Noooqz6kKKKKACiiigAooooAKKKKACiiigAoopu4bgufmoAdRRRQAVxXwn8C3Pw/0PWbG6uI7l73xBq2ro0QI2x3d9NcIp91EoB+ldrRQAVw3j7wDdeOPF3ga5luok0HQNQk1e6s2B33NysTR2oz02o0jyHP8AFHHXc0UAFfPMn/J9kX/YlH/0pr6Gr54k/wCT64v+xKP/AKUmg83Hf8uv8cTw742Xn2X9qz4i/wC1puj/APouasX+2P8AarZ/aS8A/ED/AIaS8Va3ovw/8QeJdH1LT9NSG80mKF498SyB1O+VfUVwf/CK/FD/AKI/40/8Brb/AOSK8evCo6jcY6Hy2Y4XFVMVOVOm2tPyR0f9sf7VH9sf7Vc5/wAIr8UP+iP+NP8AwGtv/kij/hFfih/0R/xp/wCA1t/8kVh7Or/KzzfqeN/59Mm8TWN3rl5pd1Z65eaRJZvIzRwcxTh0ZfnTuV+8u7cqtWX4H8HxeB9N03TYNSnudL0rzPsNuyqGXezEmUj/AFjjc6ir3/CK/FD/AKI/40/8Brb/AOSKP+EV+KH/AER/xp/4DW3/AMkU+Wta3KzX6vj+Xl9m7en9dzo/7Y/2q82+I0jeGfGmg/EO3VnjsYZNL1rby32CRtwk+kMqpIf9nfXTf8Ir8UP+iP8AjT/wGtv/AJIpreFfif8A9Ef8af8AgNa//HqIwqxfwsVPC42Er+yZ0ketJJGro+5WG5WWl/tj/arlbTwX8SNNtIre2+DXjC3toRtSGO0tVVR7AT1P/wAIr8UP+iP+NP8AwGtv/kil7Or/ACsj6njP+fTPOPjR4R1y4+HusaXoN7rWu3mqXS3LWu2zCMfPjc73ZFbhV2rXpN546j8K+DX1bUnvp2gjLbZ40+0zuWwkYSPCl2b5Qq03/hFfih/0R/xp/wCA1t/8kVXuPBPxIvGgaf4NeMJ2gfzYma1tTsfpkZmq+Ws0k4s6HQxsoqMqLsnfbX+tCp8I9FufCfhmeXVNq69rV7Lq+p7WyqXEzZ8seyKqJXbf2x/tVzn/AAivxQ/6I/40/wDAa2/+SKP+EV+KH/RH/Gn/AIDW3/yRUuFZu7izGeFx1STk6T1Ps39i3/k0n4Q/9ixYf+iVr2ivLP2V/DGq+Cv2bvhpoGuWUmnaxpugWdpd2k334pEiVWU+4Ir1OveP0oKKKKACiiigAooooA8J8S/AHXvDfie+8TfCnxNH4Vv9Qfzb/RbyESaZdyY++VALRt7r+leb/D/4F/Hbwp4o8Z39rrvhTw/L4qvheahfwJLdNG2+VswRuuP+Wp+/X19RQeVPLaM5qabjZ30bS13t2v5WPO/hH8GdL+FFrezLd3OueItScS6nruoNuubt/c9lHZR0r0Siig9CnThRioU1ZI8Z+M3/ACWP4K/9hW9/9JHr2avGfjN/yWP4K/8AYVvf/SR69moObD/xa3qv/SYhRRRQdwUUUUAFFFFABRRRQAUUUUAFeR/tYf8AJu3jf/rzH/oxK9cryP8Aaw/5N28b/wDXmP8A0YlBxY3/AHWr/hf5HqOl/wDILtP+uKf+girdVNL/AOQXaf8AXFP/AEEVboOyOyPnn9hr/ki1z/2Grz/0Ja7P9oT/AJAHhr/sP2v/AKDJXGfsNf8AJFrn/sNXn/oS12f7Qn/IA8Nf9h+1/wDQZK9XKf8AfaXr+h86v+RTH/CjzL9umTybX4Pv6eNP/cTqNeV/2p7167+3F4V8S+JvC/w9uPDPhrUfFE2k+KVvrqz0wIZlgOn3sJcB2UcNMn5187/2T8SP+iP+OP8AwFtf/kivdyXEYejQlGtNJ36+iPIz7DYqtiYyoU3JcvT1Z1f9qe9H9qe9cp/ZPxI/6I/44/8AAW1/+SKP7J+JH/RH/HH/AIC2v/yRX0H1zBf8/V95839QzD/nzL7jpbq+NxayxLPJA0iFVmj270z3GcrkVw9r8LdHsdWtbqLVNebT7YiVdFm1SWayeYNuEzo7Fid3zfe2s1af9k/Ej/oj/jj/AMBbX/5Io/sn4kf9Ef8AHH/gLa//ACRWcsVgJayqRLjhMyh8NKSOr/tT3rl/Fmly32qaX4h0tlXXNK8xUVmwt1bvt8y3c+h2owb+F0Smf2T8SP8Aoj/jj/wFtf8A5Io/sn4kf9Ef8cf+Atr/APJFVLF4GSs6q+8UcFmMXdUn9x0lxqU8lnKsEiwXDRnY0i5VHK8ZqvoKx6DoenaXBIzQ2dvHbIzdWCqq1h/2T8SP+iP+OP8AwFtf/kij+yfiR/0R/wAcf+Atr/8AJFP65gb39qvvJ+o5ha3spfcdPdXz3FvLElxJbSSIVWaPaXQnuNyla5fwD4NtPh3HqMVlqmoXkOoXc19NHfNEV8+Vt0jgqity1L/ZPxI/6I/44/8AAW1/+SKP7J+JH/RH/HH/AIC2v/yRUvFYFtSdVXXmUsHmKi4qlKz8hfC+lzw69qnibVv+QxqCRwRQ7srZWqbikIPqWZ5Hb+9XVf2p71yn9k/Ej/oj/jj/AMBbX/5Io/sn4kf9Ef8AHH/gLa//ACRTji8DFWVVfeEsFmMnd0X9x7F+xNN53xe+Nzf7Oh/+ibmvY/hL/wAlQ+KX/X7bfykryP8AYf8AB/i3QfGfxV1jxN4T1XwpbaudKWxj1ZYlkn8mKdZGAR27sv51658Jf+SofFL/AK/bb+UlfLSlGax0oO6sv/S4H6Tl8ZwwtKNRWaWp8hfFS++y/tTfGn/sIaX/AOmmyrLur6C+t3t7iKKe3kG14ZFDoy+4Nafx8+G/xIj/AGlvibrOlfDnxH4g0TV7nT57PUNLSFopAmnW8Lj55F6SRn8q5H/hB/ip/wBEh8Zf+A1t/wDH6+uyrG4CGCpQq1UpJapk1ac3NtIsWej6Bp90lxa6NpttcR/Mk0FrEjr9CFqfWrfS/EUMUWqWFrqEcUgliW5jV/KcdHTPQ/7VUP8AhB/ip/0SHxl/4DW3/wAfo/4Qf4qf9Eh8Zf8AgNbf/H69P69ldre1jYy9nV7Mp683iCH7PZeGn0zT9H+yTQNG0bI8EjbRHJHt+XC/P8tV/hnp+qeD/Deh6JctawWekadHZ+XbSGT7RIqqDMSUGytT/hB/ip/0SHxl/wCA1t/8fo/4Qf4qf9Eh8Zf+A1t/8frP63lnPz+3V/X0/wAh8lW1uU3/AO2P9quI8HzHwHr2qaJt26PqV3LqGmSfwpJJ+8nt/b5t8i/7L1sf8IP8VP8AokPjL/wGtv8A4/R/wg/xU/6JD4y/8Brb/wCP1Usblsmpe3jdeYvZ1P5TSkj0ybUk1J7C1l1CMbUvGhUyqPZ/vVB4o1DUb7RZ7fS5YorqXC7pJmj+Qt8+HCswO3o1VP8AhB/ip/0SHxl/4DW3/wAfo/4Qf4qf9Eh8Zf8AgNbf/H6t47LGmvbR18w9nU/lPLtL8ZSWv7Q1nb+VotmsHh0af5dtqTFE/wBL/wBWn7ofvBt/1Vewa94yXQ9NlutjXM33YbWP788h6Rj3NUP+EH+Kn/RIfGX/AIDW3/x+j/hB/ip/0SHxl/4DW3/x+uajisvpRkvrMXd39CpQqSt7pX+HemyeEfDrRXkscurX1xLqGpTR/de6lbc+PYfdH+ylavijWN3hnV13f8uk3/oDVS/4Qf4qf9Eh8Zf+A1t/8fqnrHw9+K97pN7bx/CDxkJJYHRf3Fr1I/67Vt9ey2FPkjWjou4vZ1G78p+gv7MH/JtPwl/7FHSP/SOKvTa4D9n7Qr/wv8B/hxomrWzWeq6b4b02yu7Z/vQzR2saOh9wwIrv6/Gnuz2QooopAFFFFABRRRQB4R4j+APiDwv4lvvEnwn8Sx+F7zUJPNvtDvoRJpl3Jj7+0AtG3uv6V5x8PfgZ8dvCnibxleW2v+FvDz+Kr/7bf39vHJdSRtvkYmCNlx/y1P3q+vqKDyp5bQlNTTatrZNpa727X8rHnnwj+DOl/CWxvHiurnWde1J/O1LXNQbfc3cnueyjso6V6HRRQehTpwowUIKyR4z8YP8AkuHwT/6/9R/9IzXs1eM/GD/kuHwT/wCv/Uf/AEjNezUHNh/4tb/Ev/SYhRRRQdwUUUUAFFFFABRRRQAUUUUAFeP/ALXH/Juvjb/r1j/9HR17BXj/AO1x/wAm6+Nv+vWP/wBHR0HFjf8Adav+F/kes2n/AB6w/wC6v8qnqC0/49Yf91f5VPQdi2PJfgT/AMhj4jf9jHcf+hGp/g3/AMjN8R/+w5J/Nqg+BP8AyGPiN/2Mdx/6Ean+Df8AyM3xH/7Dkn82r67HfFjPSn/7aebV/j0PWX5M9Tooor5E9MKKKKACiiigAooooAKKKKACiiigArF8a/8AIm69/wBeE/8A6LatqsXxr/yJuvf9eE//AKLagip8DOM/Zp/5IH4F/wCwVD/KvTa8y/Zp/wCSB+Bf+wVD/KvTaDDCf7vT/wAK/IKoa7/yBNQ/695P/QDV+qGu/wDIE1D/AK95P/QDQdEvhZ5t+yr/AMm9eB/+vH/2dq9Yryf9lX/k3rwP/wBeP/s7V6xQcuD/AN2pf4V+QUUUUHYeM/sff8m6+FP969/9LZ69mrxn9j7/AJN18Kf717/6Wz17NQcOB/3Sl/hj+SCiiig7jxn9k7/klMv/AGGtT/8ASuSvZq8Z/ZO/5JTL/wBhrU//AErkr2ag4cD/ALrT9F+QUUUUHcFfMPxG8B6F8YP2sLHw/r9hCdP0jw6NRaNfkkv5DOFVXYcmNfT1r6erwf8AaM8D+C/EN9pmq6h47t/h34wso2+w6ul8sFx5R6rtLqXXNL1PNx9P2lHZNJptPql01PD/ANqrSbC6+JXgP4R+FrW20bR57iK4uLOwiVIhcTyeUryAdwik/jXd/tGfAvwR8Lfg3c+IvDunnQtd0KS3l07UbeZxMJPOQAZzz1qx8A/gr4S0XUtU+JsnjaX4lalZNKDqSo0nlyLGC/VmMkm0j86858TaxYfGPWrQ6t8fLEf2deC6tNN1Dw+1lDbyA5TzFkAWUj/arNp2stzwZRio1KtWC5qmkVeOiW2ra9dD7c0W4uLrR7Ga8j8q7kgjeaP+65UFh+eav1XtUmjtoluHEk6qA7quAx7kCrFan10dEkFFFFBQUUUUAFFFFABRRRQB8u/tJftReLPhL8UrPwl4e0rQrmB9Gi1WW61Z5gwLzyxBFEf/AFyz+Neaf8NvfE7/AKBXgv8A8m//AIqvoH40fsl+Dvjp4utPEmu3+u2Gp21iunK2k3wgVoRI0gDAo2Tuc1wX/Duf4d/9DL41/wDBrH/8ZrKSnfRnk16eOlUbozSj5/8ADHnf/Db3xO/6BXgv/wAm/wD4qvPfHnxq8b/E7x54Y8T3uraf4T1Pw3Z3sGnXPhsyhzJcvaMTKspKSR7bbBiavob/AIdz/Dv/AKGfxt/4No//AIzXkvxc/YD8Q6f448GWHwv1bVZdJvor0a9qniS9jnhsArW3kMsSLGZHIM+F6cHpUONRrc5KlLM+V2mv6+R7l+zn+1xa/FLWoPBPim3h0nx59neeIWu5rTU4o+JJoCfmTHeN+R719I15b8C/2dvCnwD0eWHRYZL3WbwKdR12+w95eMOzN/CgPSMfKv616lW8b21PcpKaglUd5dbBRRRTNQooooAK+eJP+T64v+xKP/pSa+h6+eJP+T64v+xKP/pSaDzcb/y6/wAcT6Horyrxp+078PvAHjC+8LavqGqvrtjDDcXNppfh7UdR8mOXPlszW1vIoztPU1kf8NifDL/nv4r/APCH1z/5DoPRuj2yivE/+GxPhl/z38V/+EPrn/yHR/w2J8Mv+e/iv/wh9c/+Q6YXR7ZRXif/AA2J8Mv+e/iv/wAIfXP/AJDo/wCGxPhl/wA9/Ff/AIQ+uf8AyHQF0e2UV4n/AMNifDL/AJ7+K/8Awh9c/wDkOj/hsT4Zf89/Ff8A4Q+uf/IdAXR7ZRXif/DYnwy/57+K/wDwh9c/+Q6P+GxPhl/z38V/+EPrn/yHQF0e2UV4n/w2J8Mv+e/iv/wh9c/+Q6P+GxPhl/z38V/+EPrn/wAh0BdHtlFeJ/8ADYnwy/57+K//AAh9c/8AkOj/AIbE+GX/AD38V/8AhD65/wDIdAXR7ZRWJ4J8ZaR8RPCOkeJ9Auvt2iatbJeWdz5bR+bE4yrbWAYZB7itukMKKKKACiiigAooooAKKKKACiiigDxn4zf8lj+Cv/YVvf8A0kevZq8Z+M3/ACWP4K/9hW9/9JHr2ag4cP8Axa3qv/SYhRRRQdwUUUUAFFFFABRRRQAUUUUAFeR/tYf8m7eN/wDrzH/oxK9cryP9rD/k3bxv/wBeY/8ARiUHFjf91q/4X+R6jpf/ACC7T/rin/oIq3VTS/8AkF2n/XFP/QRVug7I7I+ef2Gv+SLXP/YavP8A0Ja7P9oT/kAeGv8AsP2v/oMlcZ+w1/yRa5/7DV5/6Etdn+0J/wAgDw1/2H7X/wBBkr1cp/32l6/ofOr/AJFMf8KPU6K4r4ofGDwt8G9P0y+8VXt1ZwaneDT7NbPTbm+lmuDHJKEEdvG752RSHpj5TXEf8NifDL/nv4r/APCH1z/5Dryj6M9sorxP/hsT4Zf89/Ff/hD65/8AIdH/AA2J8Mv+e/iv/wAIfXP/AJDpiuj2yivE/wDhsT4Zf89/Ff8A4Q+uf/IdH/DYnwy/57+K/wDwh9c/+Q6Auj2yivE/+GxPhl/z38V/+EPrn/yHR/w2J8Mv+e/iv/wh9c/+Q6Auj2yivE/+GxPhl/z38V/+EPrn/wAh0f8ADYnwy/57+K//AAh9c/8AkOgLo9sorxP/AIbE+GX/AD38V/8AhD65/wDIdH/DYnwy/wCe/iv/AMIfXP8A5DoC6PbKK8T/AOGxPhl/z38V/wDhD65/8h0f8NifDL/nv4r/APCH1z/5DoC6PbK8l+Ev/JUPil/1+238pK3fhf8AHHwd8YptZg8K6heXVxo7xR39vfaVd6fLA0ilowUuYo25UE8CsL4S/wDJUPil/wBftt/KSvXwf+64r/DH/wBLiJ7o9aoryXxV+1N8OvBvjDVvC2o6hrEmuaSYlvrbTfDWp36wGWISxhpLe2dOUYHrWb/w2J8Mv+e/iv8A8IfXP/kOvIHdHtlFeJ/8NifDL/nv4r/8IfXP/kOj/hsT4Zf89/Ff/hD65/8AIdAXR7ZRXif/AA2J8Mv+e/iv/wAIfXP/AJDo/wCGxPhl/wA9/Ff/AIQ+uf8AyHQF0e2UV4n/AMNifDL/AJ7+K/8Awh9c/wDkOj/hsT4Zf89/Ff8A4Q+uf/IdAXR7ZRXif/DYnwy/57+K/wDwh9c/+Q6P+GxPhl/z38V/+EPrn/yHQF0e2UV4n/w2J8Mv+e/iv/wh9c/+Q6P+GxPhl/z38V/+EPrn/wAh0BdHtlFeJ/8ADYnwy/57+K//AAh9c/8AkOo7j9sz4XWtvJPNd+KYYY13PJJ4J1tVUepJs6Auj3Ciszwz4j0/xh4d0vXtJn+1aVqlrFe2dwFK+bDIgdHwQCMqwPPrWnSGFFFFABRRRQAUUUUAFFFFABRRRQB4z8YP+S4fBP8A6/8AUf8A0jNezV4z8YP+S4fBP/r/ANR/9IzXs1Bw4f8Ai1v8S/8ASYhRRRQdwUUUUAFFFFABRRRQAUUUUAFeP/tcf8m6+Nv+vWP/ANHR17BXj/7XH/Juvjb/AK9Y/wD0dHQcWN/3Wr/hf5HrNp/x6w/7q/yqeoLT/j1h/wB1f5VPQdi2PJfgT/yGPiN/2Mdx/wChGp/g3/yM3xH/AOw5J/Nqg+BP/IY+I3/Yx3H/AKEan+Df/IzfEf8A7Dkn82r67HfFjPSn/wC2nm1f49D1l+TPU6KKK+RPTCiiigAooooAKKKKACiiigAooooAKxfGv/Im69/14T/+i2rarF8a/wDIm69/14T/APotqCKnwM4z9mn/AJIH4F/7BUP8q9NrzL9mn/kgfgX/ALBUP8q9NoMMJ/u9P/CvyCqGu/8AIE1D/r3k/wDQDV+qGu/8gTUP+veT/wBANB0S+Fnm37Kv/JvXgf8A68f/AGdq9Yryf9lX/k3rwP8A9eP/ALO1esUHLg/92pf4V+QUUUUHYeM/sff8m6+FP969/wDS2evZq8Z/Y+/5N18Kf717/wCls9ezUHDgf90pf4Y/kgooooO48Z/ZO/5JTL/2GtT/APSuSvZq8Z/ZO/5JTL/2GtT/APSuSvZqDhwP+60/RfkFFFFB3BXzR8SvBekeOv2xvCFnrNnHf2dt4Zkufs9wivE7CaUAMp64zmvpevkH9o+28dXf7TnhyL4dzpbeIW8NHMkjRBRELiUt9/8ACk90eVmTSoptX96OnfVaHT+Mviz8S/hj420XwjpvgXw2bXW7maLRvsty0auiH+NQAEIVkY/jVL9sDwvLrn7P1tr/AIj02wtfFmnXFs7yWXziMtIEaNJCNxU7h+Vefa38J/2mvEOvaJrOoXlncajorySWEwntV8ppFVX7c8Cuc+OWk/tBWHw9upPHupQXfhnz4RcRxPbE58xdv3FDdazlqvmvzPDrYip7KtGpTm4tO10rLTr6P8D9CKKKK1PsQooooAKKKKACiiigAooooAKKKKACiiigAooooAKKK8L+F/xAtPA3wb+IvizX7uQ6XoXiXxTdTu2WKQQ6pdttUfQcUAe6UV87t8TvibH8A/8Ahb7LpBT+yP8AhJG8I+Q2RYeV5/kC535+0eVxu27N38OK0fiR48t7zwj8M/jPoF9K3hy0uba7vckqsuj36LFI7j0iaSC4PoIDQB7vXzxJ/wAn1xf9iUf/AEpNfQ9fPEn/ACfXF/2JR/8ASk0Hm43/AJdf44kWhXn2X9qD4wf7VjoH/oq6r0n+2P8Aarxm4vPsn7UXxZ/2rDQ//RVxXX/2x/tUc9tDmxFXlqtXO3/tj/ao/tj/AGq+Pv279fWw+A95cWj3aeJZ7q303RpLO8kt5FuJplH8DD+Fa7bTfgj4T0vwvZ2Vxdawt5a2sccurQa9fQ3BdEwZvMEwwaftDP2vuqTe59F/2x/tUf2x/tV8m/sW/F7xL8S/hHeXniS8l1f7Dq9zp+na1OgV9Ss4wvlzP9K97/tj/ao9oKVVwk4t7Hb/ANsf7Vc58QPilp3w58Mz6zqTSSqrxwW9nbczXlxIdsMEQ7yOzbRWX/bH+1XhOreIm+In7W2k6G8u7RfAejHWZYf4W1K6ZoYCf9yDewo9oEa3N8j6h0fXr240u1l1K3isdQkjDTW8E3nJE56oH2jOP722rn9sf7VeHfGz4z23wf8AhprPiaVPtd1AgisbHvdXbnbDEPq1eMfF+2ufhB8G9G8YX94uofEyLXNKnu9c/wCWtxNLdRrPbR/3bfymeMR/d20e0HGo5W8z7A17xFrlrdaMukWFrfQy3oj1CS5umha3t9jEyRgI3mPuVFCVQ+InxKl+H/huXxA2nTanpti4l1L7MzGaC1H+snjQKfM2feKf3a+bdS1Czb9quwnWeX/iQ2Pn3t1/y1urrUX8i1tPeKOKCaUj/gVfQLasGVlbaytR7QTrctrnYaf4ottW0+3vbK6ivLO5jWWG4gbeksbLkOCOoK1Y/tj/AGq+VP2YfEh8N3XxB+GLv+78E62YtNX+JNNul+0WqH/dVnjFe6f2x/tUe0FKryu1zS/Yu/5NL+EX/Ys2P/ola9orxf8AYu/5NL+EX/Ys2P8A6JWvaKR9CFFFFABRRRQAUUUUAFFFFABRRXlfxU+NEvg/WrHwn4X0dvFPjrUUMtvpccnlxQRDjzriT+BM/nQY1a0KMeeb0/rbuZvxm/5LH8Ff+wre/wDpI9ezV8RfF+T4uWXxc+FFrr3inRLfWb++mOnrpmnbraxkIWJiTJ80mVkr2rSfjH4s+HniLTvD/wAV9LsbaHUZVt7DxVozN9gllP3Y5lfmFjzjtxS3PHw+Ngq1VTi4+8tWtF7q3s3b5/me50UVHJIsaFnIVR/E1M94kopisGUFTuWn0AFFFFABRRRQAUUUUAFeR/tYf8m7eN/+vMf+jEr1yvI/2sP+TdvG/wD15j/0YlBxY3/dav8Ahf5HqOl/8gu0/wCuKf8AoIq3VTS/+QXaf9cU/wDQRVug7I7I+ef2Gv8Aki1z/wBhq8/9CWuz/aE/5AHhr/sP2v8A6DJXGfsNf8kWuf8AsNXn/oS12f7Qn/IA8Nf9h+1/9Bkr1cp/32l6/ofOr/kUx/wo539piTyvF/wKf08bv/6ZdUrtv7Srz39qyTyvEHwQf08bP/6ZtTrR/tT/AGqnC0ueDZ14yt7Ool5HY/2lR/aVcNqWoXk2n3CaddQW180ZWGa5haaJH7F0DoxH+zuWvnr4GfGL4q/GdPGd0us+DtN0zQ9eudEtLxfDt3N9vEPWfH9oDYK6nRUWlbc441nJOV9j6+/tKj+0q+afDvx81nR/jZB8LPGttp/9r6jpp1PSdY0belvdqpYSRyQuzNDINv8AeZTXsv8Aan+1TjRUthSruNr9Tsf7So/tKuO/tT/arz3x148vNS8ZaN4B0S6a2vtQt5NQ1W+jbD2WnoyrmP0lmkby1b+Fd7U3QsKOIcj3P+0qP7Srjl1IRqqq33awfEnjC403UvD1ha+W02p3/kOzLnZCkMkrn/yHt/3np/VxLE3PT/7So/tKuO/tT/ao/tT/AGqPq4vrJ2P9pUf2lXhnhHxxd6H4+1HwFq901yy2g1TRL6dt8t1Z7/LkjkJ6yQOyKT/EjpXoX9qf7VJULlPEOJR+Bk3nftC/G5v+mehf+ks1dJ8Jf+SofFL/AK/bb+UlcX+zjN9o+Pnxub/Y0L/0mmrtPhL/AMlQ+KX/AF+238pKVBctHGL+7H/0uJ7tGXNTiziPA999l+P/AMef+w1pf/pmsq9K/tj/AGq8Q0u++y/tF/Hb/sMaZ/6ZrKu0/tr3p4fD81KLOeo/fZ3f9sf7VH9sf7VfFv7ceq3LeEfCmn6Dq2raP4u8QeILPRNPutL1O5tjEJHzI+yNwrV6F4o+GPhrSfCuoXUHiDxR4eks7WSVdWj8Tai7W+1GPmEPMUfHdXVlq/YPmcUthaWTPpD+2P8Aao/tj/ar5i/ZH+MXiP4s/Abw54k8VxbdYnEqNcKnli6VJWVZce9exf2171cMOpxUl1Jbs7Hd/wBsf7VQXXiq2s5rWK4uooJrqQxW8ckihpXCs2EHc7Vdq4v+2vevKvg/4kf4ia14g+IN07tay3dxpOgwt92Cxt5fLeQe88sbsT/dSCh4azSC/U+kP7Y/2qP7Y/2q+Y/iR8RLzxd8VtD+Feh6jLYrLaNrPiW8tJGSaCwRlWOCNx9ySd/lLL8ypWDpeqW2n/tCeM/h3pcraR4XvPCVnqk1vYt5aWs/2mWGYx9ozJFszUexV7W62KPrr+2P9qoLzxVaaf5H2q6itvPkEEXmSKm+Q9EGepNfn1Eiaj+yxe61DHLJ4g8ca5LF4Xgdm26Ot5qLC1W17QBE/e7lr6zuL7SPiF4Pns5XkvNJvo3g875kZtrYEkbj/aXcjr/sMtEKPP06XB6HrP8AbH+1WF8QNY3eA/Ea7v8AmG3P/opq8e+B/wASL/xJ4Xv9N1uZp/EXhvUZtC1G4bg3Dw8xz/8AbaJoZa6fx1rG7wT4gXd/zDp//RTVaw3NG6Jvqer/ALNn/Juvws/7FXSv/SOKvR682/Zp/wCTcfhV/wBippX/AKRxV6TXzR6gUUUUAFFFFABRRRQAUUUUAFFFeU/FT41T+E9esvCPhTRm8VeOb5PNi01ZPLhtounnXEn8CfqaDGrWhRjzzen9bdzP+MH/ACXD4J/9f+o/+kZr2aviP4tP8XbP4zfCm01zxVokGt3t1OdPGl6cWtbF3VYm3GT5pAVbvXtei/GLxV4B8Taf4c+K2mWNompTC307xRo7N9guJT92KVX5ic4OOxxSWp4+HxsFWq88XFcy1fT3Y72bt8z3Giio5JFjQs5CqP4mpnvElFNVgygjpTqACiiigAooooAKKKKACvH/ANrj/k3Xxt/16x/+jo69grx/9rj/AJN18bf9esf/AKOjoOLG/wC61f8AC/yPWbT/AI9Yf91f5VPUFp/x6w/7q/yqeg7FseS/An/kMfEb/sY7j/0I1P8ABv8A5Gb4j/8AYck/m1QfAn/kMfEb/sY7j/0I1P8ABv8A5Gb4j/8AYck/m1fXY74sZ6U//bTzav8AHoesvyZ6nRRRXyJ6YUUUUAFFFFABRRRQAUUUUAFFFFABWL41/wCRN17/AK8J/wD0W1bVc18RtStNJ8C69cX13BZW4sZwZbiQRoCY2xkmgzqNKEm+xy/7NP8AyQPwL/2Cof5V6bXlH7LuqWWo/AXwYlpdQ3LW+nRRSiGRXMbAcq2Ohr1egwwbTw9O38q/IKoa7/yBNQ/695P/AEA1fqhrv/IE1D/r3k/9ANB0y+Fnm37Kv/JvXgf/AK8f/Z2r1ivJ/wBlX/k3rwP/ANeP/s7V6xQcuD/3al/hX5BRRRQdh4z+x9/ybr4U/wB69/8AS2evZq8Z/Y+/5N18Kf717/6Wz17NQcOB/wB0pf4Y/kgooooO48Z/ZO/5JTL/ANhrU/8A0rkr2avGf2Tv+SUy/wDYa1P/ANK5K9moOHA/7rT9F+QUUUUHcFeX/HL4xeHPgbokPiDVbIX2rTk2tjbwqonmPUqHP3UHUmvUK+afizqHh+L9rLwX/wAJbfadZ6Np/h+e8hOqzRRwi4aR0z8/fAqXfZHDjKsqVK8XZtpJvpd2v8i18Kf21vCXj2x1aTXbf/hELjT4DdOtzcCaOWIHGUcKu5v9nGa8l+P37TXgb4rWNtYeGYPFE3ie1kxpdzakQW5lZ1+9GWPmfd+60ddZ+0fcfCr4heNvhvO3iDw7fQ/2oYNUms9Sg5tSm4rM6vkJkd/Wun8a/Eb4KfB/w/8A8JH4T0zwTrut2ssaW9rpN1aLc/OdpZXQOwwMnpU3vueFUqV6kJ0alaPLHd21a30S7H0PpP2r+y7P7cVN55Kefs+7vwN2PxzVyiitD6paKwUUUUDCiiigAooooAKKKKACiiigAooooAKKKKACviH41i4f9gX9oAW/+s/4SDxNj/dGuT7/ANN1fb1eF/Bvwnp3j74Q/EXw3rEH2jSdY8VeK7C6h/vxSapdow/ImgC3eMn/AAxjM3/LP/hAGP4f2dXL/sX+GoPGH7Cfw80DX4PtNhqnho2dzC38dvKHTH4xsKnk+CfxGk+Ap+Dr6xov9itpv/COt4qE03246Z5fk/8AHr5WzzzF8u7zsZ5610/xWH/CoPgLZ+EPBONO1G5itPCPhpc828s223ik9/JTdMfaI0AZ3wl+MEmi/s7+GNb1+01zxJc2zSaM9xoWlT6jPfm2mktheCKEO2yVYPN3f7deRyfHTS2/azi8T/8ACL+Nvsq+F/sX2H/hFb/+0M+ex3/ZfJ8zy/8Appj2r648H+FtP8DeE9F8OaTF5Gl6TZw2FrH/AHYokCIPyUV4hJ/yfXF/2JR/9KTQebjf+XX+OJ5BY/EK28aftD/E/VbXTdY0mGSy0VPsuuaZNp9zkRz8mKZVNdt/bH+1XGfFC8+y/tV/Er/a03Rf/RdxVe41iVbeXyPLabYdiyNhWPbJFcFSpabR87j6vLiZL+tkeV/tE3b/ABE+PXwc8CRXUsEVrdz+JryWAgtD9nT/AEdtrAr9/P5079pXWdS8FWfhSbVfEuqeI/CerazDomq+HZvLt2ukmVvmSa2SN+O8bfK61n6H4H8ZW/x0vPiHqVxoNz9p02PSEs4pJt1rbiRXcqSvJLVo/Hj4d33xOHg27025txdeG9bt9X+x3jMkd2iNkxlgDtaj2iulcccRCM4R5tEtfU+gdJay0HS7XTtNtYLHT7WMRQ2ttGqRRIvAAA6Crf8AbH+1XiGoasLi6s7XxTq9tYtqd0zW+ix3HyTxxRMTGSVVnH8b/wAP8Nef/BO3ste0Xw14ovNU1CK8vNW1K+0m1juGKrZl5hDbnqwt1T5gvyruqOfS5zc3uubf9a/5H1f/AGx/tV4F8EdUM37TX7QN5J/rvtGiwD/ZjSzavRv7WrxnwvN/wiv7U/jdW3LH4s0Wx1KJv4S1qzW7oPcKyNRGpowpVrxmvL9Ua37TH2jx98Vvgr4KS8l0+zudUutcmurbYXieyhVo2AcMh5esX4yaBqfin4t/CzwNP4s1rxRaf2ifEmp2uoQ2Qigt7Q/Ix+z28Rw7t5ddv428P3GteKPC3ibTfszat4fkuFSG7kaNJ4J4vLkTeqsyH5UYfK1P8G+G30XXtZ8TatcR33iTVxHHNNH/AKq3t0/1dvDn+Abtxb+Nvmp+10NY4tRjF9k/v1/Q7zVPiF4H0vxBcT6jrOgWeuafGIppLm6t0ubeNl3AEltyAq26uph1xJo0lR1aOQBlZfusDXzR4k8NwWPiTxb41l8GeG9evLWcXtteXaobx0itIQUV/KPlkNG+2vTvDHjqz8X+G9L1zT3ZrHUbeO7hZvlbYy5Gfek59UYTqJJSi9Djfh/qn2P9sr4rCL/V3mh6VLL7uisor33+2P8Aar5j+Ds/9sfGP4veLlO+0uNQtNEt2/69LfE34b3r2X+1qJVNSq9a0kvJfkjqv2Uf2itI8M/s1fDPSbjwf8QLyWy8P2cLXGneDtRu7eUiIAmOWOIq68dQa9W/4am0P/oR/ib/AOEHqv8A8YpP2Lv+TS/hF/2LNj/6JWvaK9I+8PGP+GptD/6Ef4m/+EHqv/xij/hqbQ/+hH+Jv/hB6r/8Yr2eigDxj/hqbQ/+hH+Jv/hB6r/8Yo/4am0P/oR/ib/4Qeq//GK9nooA8Y/4am0P/oR/ib/4Qeq//GKP+GptD/6Ef4m/+EHqv/xivZ6KAPGP+GptD/6Ef4m/+EHqv/xij/hqbQ/+hH+Jv/hB6r/8Yr2eigDxj/hqbQ/+hH+Jv/hB6r/8Yr56+EP7XPgPwhr3jXxJ4ktdYuPEev6pJL51vaI3l2S4W3hy0g+6M/nX3ZXzJ8M/DXhfwD8VfE/w98VaBpMsmp6hLrHhy+vrGJxdQS4Z7dWZeXiYdO+aDxcwVb2tGVKSWr1aurtafqvmeJ/GT9qfwd47+L3wx8T6bb6qNN8N3jTXgntUEhUyR/cUSc9K9D+Jn7Z3wl+JXgPWvDd/YeIGg1C2aIM1jEfLfGUf/W9VYA/hUv7Rngrw9p37QnwStbTQtMtLW81BluIYLOJEmAlh4dQvzV6L8f38EfDnwfJZ6f4R0K78W6wDZaJpsOmQNNNcONqsF29FznPtipjtoeKo4uMsS51I205vdevurbXtpbuc38GP2rLSb4X+G/7Y8L+PNV1NLQQT32leE9Qv7edo2KF1njiKvnbnP1r5R/ap+OGs/FT4hXtq39qaVoFkRHbaPqFvLaSIdvzPNBIoYOWr9F/g34DHwx+F/hvwyWVpdPtFSdk+60zEvKR7F2b868G/bG/Zn0TxVoeufES1un0zWtNsWnuUSMNHdrGpIDA9Gx3qjpzTDYmtlsIRfvRScvOy1/E8D/Y9+P8Aqvw78VS6JfR65r/hu4t5HXTdKsZtRnglX5t8cMas+CODX2H/AMNTaH/0I/xN/wDCD1X/AOMVjfst/s1aJ8H9Jh8QpdSarr2q2cbNdSxhBDG4VzGi9hnFfQFB6GT4ethsJGFd6/kux4x/w1Nof/Qj/E3/AMIPVf8A4xR/w1Nof/Qj/E3/AMIPVf8A4xXs9FB7Z4x/w1Nof/Qj/E3/AMIPVf8A4xR/w1Nof/Qj/E3/AMIPVf8A4xXs9FAHjH/DU2h/9CP8Tf8Awg9V/wDjFH/DU2h/9CP8Tf8Awg9V/wDjFez0UAeMf8NTaH/0I/xN/wDCD1X/AOMV5z+0N+0JpPiz4L+K9Jt/CPj2xlurQKLrVPB+o2dtH+8Tl5ZIgqj619W15H+1h/ybt43/AOvMf+jEoOLG/wC61f8AC/yM2x/ai0SOxtlPgf4ln90oyPAmqEdB/wBMan/4am0P/oR/ib/4Qeq//GK9c0v/AJBdp/1xT/0EVboOyOyPjD9lD47aX4G+F82m3XhfxrqcjapdT+fofhS/v4MMQQDJFEV3V2nxS+OuleNNK0mC28MeNtOe01SC8Z9Z8KX9kjqocFI2liAeQ54Uda1f2Gv+SLXP/YavP/Qlrs/2hP8AkAeGv+w/a/8AoMlerlP++0vX9D51f8imP+FHhH7QHxo0/wCIXib4PWdl4d8XaO1t4te4abxD4cvNMhYDSdRG1XnjUF+RwM9zXV/2p71P+2xJ5P8Awpt/Txt/7iNSriP7Sr1cppc9GT8/0RwZ1V9nXivL9WTfFX4jL8Pvhn4n8SEqX0vTZ7qP/akVGKL+LV4l+zbqHif4R/sw+HUs/Bdxr141i2qyLFfRxyXTTlp/4u+1qwf2v/EF94t+H0ngbR9I8QX0up6haRalcafot1NFb2gdZXkEixlXr13VNcnuPhvqL+F7eWK8XS5l0y3nt3tnWRYmEYKSKrJ8396u50earK32V+f/AAyPPVbkoxuvifXy2/NmF8EtD034ieJo/jjqGs2+v6vq1gLPS47SNktNJtQW3wJv+ZpN/mbnavdf7U96+UP2Q9X/AOEX+Cfg3wstnL/bETXTanbyK0b2GZpmzKCvBLMihK7VvGXj7/hMbrToj4eubOdjshjWbzdLh/hnuJOkhZekarHTo00qcZW1e/qya9R+1lG+kdvRM96/tT3rx74U6x/bXxw+MWrufmtrrTtEh/vLHDa+d/6HcvXY/wBpV5R8NbsaF8bPitpjfL9vk0/W7dW/iSSDyHYewe2rapQtKHr+jMaWIvCfp+qPTPid8YD4LuND0TS7NdX8WeIZ2ttK09pNkXyLumnlftFGvzGue/svxTqnjqeX/hNHXWNI0oMjLp9v9h8+5kYlPLKmTYFtkyvnb/8AarkvG2m3Oj/HLwt4/a1n1DR7bSbrSLlbaNpnsnd1dJwiqSQdro22q9r8QtU1rSfEr+DbOa+17WtRmW3vJ4WjsrJE22yTySNhSAsPmhE3M1Yul7zUu/6f5m8aqUU4dVq/O/8Akd94D/aU8O618K9B8X+KNSsPCS6hPJp8q310I4Vu4jIsiCRv9qJ2Fdz4X+I2heNrOW88P6vZ61YxyGJrrT5lmh3jsHXINeDQfC7TPCngz4f+B7A6Nex6XPJM8euxiT7Ufs8wmnEH/LR98u4rXTfDn4ifavEXibwZcWdrZ6h4ZNt/yD4/LtZ7edN0bpHzs+66lKqnTmmo1P6drkVKtNpyp/0r2X6Fv44asNF+JHwa8QRN+8XxHLoz/wC1Fd2cv/s0SNXsX9qe9fPHxeul8RfEb4TaGrfNFrU2uy/7MdrayD/0OdFr1f8AtKtIULzn6/ojKpiPch6fqxvwd+LNh8O/jd8XGvND8T6z9tGjbT4d0K61QRbbeYfvBAjeXXX+A/jtpfh/xl401Sfwx42uo9YuoZIoLDwrf3M9uFEg23EaRFoG9nxVD9jubzvjR8bm/wBjQ/8A0RcV6v8ACX/kqHxS/wCv22/lJXiW5Y41eS/9Lifd4KXNhqb8j5o8P+NofFXxu+MWs29lqWlw3mp6ay2usWMlldJt0q0X95DKodK7X+2P9quA8bX32X9p742r/e1LTP8A00WVR32uXMdnO1kkU90qHyo55GjRj7kKzAV9Hl2H5sJTl5GVZ++zzP4oXM3xI/a28BeHbe9ks4PCek3XiCaaBUfEsrLFHw4K5HFO+NuoXum+N/AegeKdcu/FvgvxTf8A9lXOhsqWp83rHI7QKpmi/vRtVDwB4R8X+H/i94s8Zaz/AGLcjxALeDbbXU2+yhhRgETMWHzxU/xf8C6p4w+IPw68WadLFOvha7mln02eTy/NSQLzGdpXcNtS8HOVOc+V3ctvK6W3XQfMrpX6H0fZ3lvptnBa2cUVtawII4oYFCIiLwAAOgFTf2x/tV4Rq3iC3hj/AOKt1mCBvLudSbRY5sK0Mar/ALrSIi/M275WZ65b4H28k3h/wLr2r69qsviC40ua7NrJdNIk8EvllBJntCrIq11+z99QS/rT/Mz6XPo7xN4kl0/w3q11bvtuILSWVPqqMRXC/sy3ken/ALPfw8iRvvaJbSt/tO6Kxq9JqyTRsj/OrDayt/EDXnH7PepSaJ8O4vC9yzLf+GbqbSJV9kfMLfRomRhTlhbVo+af6An7plfBrS9W8dfFj4y+NYvE+oeHpn8Qnw+i2MNtJuiskVF/18T1Y/Z1Y6n46+LXxD1rU31TTri7GiWmraksMazWloGWaX5AqeWW/lVq18J674fXxfpug31np+n+I9Ul1L+0tzfabIzoon2R7drvuV2VmatnUPDtnofwh1HwhoNqq2sejzWNpbsw+YtEyjJPcs3LNXLDASVm1td+r1Lc1t3PSIdc8G61ptn4difQb7T/AC1+y6WrQyReXH08uP7uFrpIdUjt4UiiVYo4wFVV4VQK+bvC954f+EvizSdJh8G6L4YbxJ5kMF5o2GzKg8zyZT5SNgr92vWf7a9666WH5k7rVb/0zN6bHN/DHWDb/Hz4z26Ntt5JNHu9v/TR7Py3/wDRSV6P401jd4P1z5v+XC4/9FNXiHwbvv7S1Tx14vZfl8QayVtZP79rbRLbRv8AQtG7Cu38Xaxu8K6yu7/lym/9Aaoo4W9Jvvf7rtr8Bylqe0fAL9pDR9C+Bfw60yXwd8Q7mSy8N6ZbtcWPgvUriCUraRgtHIkRVlyOua73/hqbQ/8AoR/ib/4Qeq//ABitv9mX/k2v4T/9ilpP/pHFXplfmL3PYPGP+GptD/6Ef4m/+EHqv/xij/hqbQ/+hH+Jv/hB6r/8Yr2eikB4x/w1Nof/AEI/xN/8IPVf/jFH/DU2h/8AQj/E3/wg9V/+MV7PRQB4x/w1Nof/AEI/xN/8IPVf/jFH/DU2h/8AQj/E3/wg9V/+MV7PRQB4x/w1Nof/AEI/xN/8IPVf/jFH/DU2h/8AQj/E3/wg9V/+MV7PRQB4x/w1Nof/AEI/xN/8IPVf/jFfPXwb/a68B+DdW8ZeIfEVrrNx4k8Q6pJcSTW1qjCK0XC28GTIPuDP5192V8x/C3wz4W8A/EzxN8OfFOg6TJNe38ureHL2+son+12svzNbq7Ly8TDGPeg8TMI1va0ZUpJavVq6u1p+qR4r8XP2qPB3jj4zfDXxVp1vqo0zw7cNJeCa2QSlSyn5FEnNd/8AFD9s74T/ABM8Aa34bvNP19o7+2aNGaxiPlyYzG/+t7Ng/hVn9oLwV4e039pD4K2dpoWmWtreXUi3FvDZxJHMBJH95QvNeg/tBN4K+H3hGTT9M8JaHd+MddU2Gi6dBp0BmlncbFcDb91M5z7YpLY8VRxcZYlzqRtdX916+6ttfl6mF8Hv2r7O6+GXhs6v4Y8eatqaWiw3F9pXhPUL+3neP5GdZ4oSrZIznPrXyV+1N8bda+KnxEv7Z/7V03w/YsIrTSL+CW0kjIX5nlgdQwkP+1X6PfCHwKvwz+GfhzwypVn06zSOV06NKfmkYexdmP418/8A7ZH7NOieJND134jWt3Jpus2Fp511GqB47xUACgjs3GM0zqzTDYmtl0IxfvRScvOy1/HU8K/Y6/aC1X4e+JrnRL+HXNf8NzW7Oun6Rp8+oz20q/xJFErPtI4r6/8A+GptD/6Ef4m/+EHqv/xisr9mD9mnRPg1paa6l1Jq2v6paR+ZdyxhBFGwVzGi9hnFe+UHoZPh62GwkYV3r+S7HjH/AA1Nof8A0I/xN/8ACD1X/wCMUf8ADU2h/wDQj/E3/wAIPVf/AIxXs9FB7Z4x/wANTaH/ANCP8Tf/AAg9V/8AjFH/AA1Nof8A0I/xN/8ACD1X/wCMV7PRQB4x/wANTaH/ANCP8Tf/AAg9V/8AjFH/AA1Nof8A0I/xN/8ACD1X/wCMV7PRQB4x/wANTaH/ANCP8Tf/AAg9V/8AjFebftHftBaT4u+CvirSLfwn48sJbq2QLc6r4R1Cyto/3qH55ZIgFHFfWFeP/tcf8m6+Nv8Ar1j/APR0dBxY3/dav+F/kVLf9qTQ1t4v+KH+Jn3Rx/wgeq+n/XCpP+GptD/6Ef4m/wDhB6r/APGK9gtP+PWH/dX+VT0HYtj5e+Gfx00zwnqHi2a48MeNr5dU1ea+iTSvCl/dmEMfuTCOI+TJ6xvyKl8A/HTS/CuseLLq48L+NrxNV1F7yOPTPCt/dywA7jsnSOItDJ/sPivQvgT/AMhj4jf9jHcf+hGp/g3/AMjN8R/+w5J/Nq+txvxYv0p/+2nm1v49D1l+TMv/AIam0P8A6Ef4m/8AhB6r/wDGKP8AhqbQ/wDoR/ib/wCEHqv/AMYr2eivkj0zxj/hqbQ/+hH+Jv8A4Qeq/wDxij/hqbQ/+hH+Jv8A4Qeq/wDxivZ6KAPGP+GptD/6Ef4m/wDhB6r/APGKP+GptD/6Ef4m/wDhB6r/APGK9nooA8Y/4am0P/oR/ib/AOEHqv8A8Yo/4am0P/oR/ib/AOEHqv8A8Yr2eigDxj/hqbQ/+hH+Jv8A4Qeq/wDxij/hqbQ/+hH+Jv8A4Qeq/wDxivZ6KAPGP+GptD/6Ef4m/wDhB6r/APGKP+GptD/6Ef4m/wDhB6r/APGK9nooA8Y/4am0P/oR/ib/AOEHqv8A8Yr4s/bJ+L198TPiBaW62Wt6NoVlaI1rp2uadcafMzt9+YwSqrf7Iav06ryv42fs5+E/jrb2x1yOe01G1BW31GyZVmRT1U5BBX2NB4ub4SrjcK6VF2d/v8j4F/Y58Wax4b+PXhu10uSU22qSm0vbVfuyxbWYsR/0z+9X6nV4t8E/2U/BvwQ1CTU9ON3qusupjF/qDqzRoeqoFACivaaDPJsFWwOHdOs9W727BVDXf+QJqH/XvJ/6Aav1Q13/AJAmof8AXvJ/6AaD3JfCzzb9lX/k3rwP/wBeP/s7V6xXk/7Kv/JvXgf/AK8f/Z2r1ig5cH/u1L/CvyCiiig7Dxn9j7/k3Xwp/vXv/pbPXs1eM/sff8m6+FP969/9LZ69moOHA/7pS/wx/JBRRRQdx4z+yd/ySmX/ALDWp/8ApXJXs1eM/snf8kpl/wCw1qf/AKVyV7NQcOB/3Wn6L8gooooO4K+efjL+zaPjV8bNG1TWg/8AwidpozW0zWtwI5muPNdlA74wRX0NRS3OevQhiIclRXV0/uPnD/hgn4Yf9Rr/AMDh/wDEVynxP/YP8PR+FJpPAqXzeIlljaJb+/8A3RXd8wOQO1fXVFLlRxyyvByi4+zSv5BRRRVHqBRRRQAUUUUAFFFFABRRRQAUUUUAFFFFABRRRQAVzngXwPZeAdMv7GwlmlivdUvtWkaYgkS3VzJcSAYA+UPK2PaujooAK5rxB4D0/wAS+LvC/iC9kuHn8OvcT2dsrDyfOli8oysuMlljaRVOePMaulooAK+eJP8Ak+uL/sSj/wClJr6Hr54k/wCT64v+xKP/AKUmg83G/wDLr/HE8H+OV59l/au+If8Atabo3/ouasD+2P8Aar1T4/8A7KvxS8cfG7XvGXgzUPCK6XqljZW7Qa5cXUcyPCGBI8uF1xzXD/8ADHP7QH/P98Of/BhqH/yNXlVqNWVRuK0Pm8wy/F1sTOpTjdO3XyRh/wBsf7VH9sf7Vbn/AAxz+0B/z/fDn/wYah/8jUf8Mc/tAf8AP98Of/BhqH/yNWH1et2PP/srHfyfijldWt9M15Yl1Kwtr7yiWi+0wq+wng4zTNNs9K0e4nnsNPtbOaUlpZIIVRmy2T09Wrrf+GOf2gP+f74c/wDgw1D/AORqP+GOf2gP+f74c/8Agw1D/wCRqfsK+1h/2Zj7W5dPUw/7Y/2q4/4iaTd602ka3pDRr4i0Gc3Nl5rYWdHXbNbu3YOv8X8LbGr0z/hjn9oD/n++HP8A4MNQ/wDkaj/hjn9oD/n++HP/AIMNQ/8AkahUK6d7DjluPg+ZQ/FHO6f4i+3WMFx5Utt5qBmhnXDp7Eeoqb+2P9qtz/hjn9oD/n++HP8A4MNQ/wDkaj/hjn9oD/n++HP/AIMNQ/8Akaj6vW7E/wBl47+T8Tye48G3Frp/iPS9G1G10rT/ABBcXF3dyfZWe4WSdcTOh3hST2Zl+WtC+kuPBfgWz0PwlZ7riCCPT9PWTmK3wuBJKfRVXcfWvSP+GOf2gP8An++HP/gw1D/5Go/4Y5/aA/5/vhz/AODDUP8A5Gp+xr9Ua/2fmDtzQv8ANHEeB9JtfAvhew0SzlaVbZDvuJPvzzMd0kze7Mzsa2/7Y/2q3P8Ahjn9oD/n++HP/gw1D/5Go/4Y5/aA/wCf74c/+DDUP/kak6Fd9DOWWY+TcnHX1R9NfsW/8mk/CH/sWLD/ANErXtFcB8APh9ffCf4I+B/Bmpz291qGg6RbafPNaljE7xxhSV3AHHHcV39e2fooUUUUAFFFFABRRRQAUUUUAFcp8Qvhp4e+KWhHSfEVgt7bK3mRSAlJYH7PG45VvcV1dFBE4RqRcZq6Z8y+JP2O9X1rxDoepQ/FjX/+JIxfT21O2jvLm3PtPuU/pXpnw5+APh74faxPrz3GoeJPFE6lZNc1u4NxchT/AAoeiL7AV6dRQcVPAYalP2kY6+bb/MK81/aS/wCSDePP+wTP/wCg16VXmv7SX/JBvHn/AGCZ/wD0Gg2xf+71PR/kdb4F/wCRJ8Pf9g63/wDRa1u1heBf+RJ8Pf8AYOt//Ra1u0G1P4F6BRRRQaBRRRQAUUUUAFeR/tYf8m7eN/8ArzH/AKMSvXK8j/aw/wCTdvG//XmP/RiUHFjf91q/4X+R6jpf/ILtP+uKf+girdVNL/5Bdp/1xT/0EVboOyOyPnn9hr/ki1z/ANhq8/8AQlrs/wBoT/kAeGv+w/a/+gyVxn7DX/JFrn/sNXn/AKEtdn+0J/yAPDX/AGH7X/0GSvVyn/faXr+h86v+RTH/AAo8v/buk8rT/hA/p41H/pp1GvI/7Sr6G/a3+C3i340eG/CEHgy70a01XQteXVm/tySaOCSP7Jc25XMSM2f9Iz07V4N/wyj+0D/z+fDf/wADtQ/+Rq9nJ8bhsNQlCtKzv+iPMzzAYvF4iM8PG6Stv5spf2lR/aVXf+GUf2gf+fz4b/8AgdqH/wAjUf8ADKP7QP8Az+fDf/wO1D/5Gr3f7VwH8/4M+e/sbMv5PxRnXWoSTWsqQS+RMyFUk252H+E4rg7H4dz6fqkDJ4t1iXQ1kFzNpMnkn7VcBs+ZJMEEhBb5im6vTf8AhlH9oH/n8+G//gdqH/yNR/wyj+0D/wA/nw3/APA7UP8A5GqJZll07Nz/ADNI5VmkE1GG/mil/aVcl4s0+4/4SDS/FWkru1bTY5Laa3+UfbbR9peHJ6OGVJEruv8AhlH9oH/n8+G//gdqH/yNR/wyj+0D/wA/nw3/APA7UP8A5GpyzPL5Kzn+DJjlGZwd1D8UZtxq07WcrW/l/aPLPlLNwu/tmqfhuMeH/D+m6ar+b9jt44PM/v7Fxmt7/hlH9oH/AJ/Phv8A+B2of/I1H/DKP7QP/P58N/8AwO1D/wCRqf8AamX3vz/gxf2PmVrez/FHI+ItFj1jWNJ1q3eC21rTBMltdT26zqElVRINu4NztT5lZWqDwj4Zg8M6prmsy3DahrmtSRyX14y+WrCNNsccado1XpXa/wDDKP7QP/P58N//AAO1D/5Go/4ZR/aB/wCfz4b/APgdqH/yNU/2llvNzc2vo/Qv+y815eXk09V6/nqcH4b0+4uPFWo+K9WTyr65gFlZWrfes7RW3YJH/LR2+Zv+ALXX/wBpVd/4ZR/aB/5/Phv/AOB2of8AyNR/wyj+0D/z+fDf/wADtQ/+Rqcczy+Ksp/gyZZTmc3d0/xR2X7EE3nfFz43N7aH/wCibmvZvhL/AMlQ+KX/AF+238pK4b9kn4A+OPg34i+IGs+N73w/c3HiM6eLeHQZZ5FiW3jlU7zLGhyfMHT0rufhL/yVD4pf9ftt/KSvm3UjVWOnB3TS/wDS4H6Hgac6OGpU6is0tT46+Ll/9k/ao+NH/YQ0v/002VZf9tf7Veo/Gr9j74teLvjv458ZeE9S8GpoviCazmjh1m5u47mNobKC3JPlwuuC0ORz0rk/+GK/j/8A9BH4c/8Agff/APyNX1OWZvl+HwdOlVnaSWujFUo1JTbSOa/tr/ao/tr/AGq6X/hiv4//APQR+HP/AIH3/wD8jUf8MV/H/wD6CPw5/wDA+/8A/kavT/tzK/8An5+DM/YVexxOpWulaxdW91e2VteXEAKxSSRqWUFlJH03KjbaNHtdL8Pq66bZQWKsAreRGo4XonsB2Wu2/wCGK/j/AP8AQR+HP/gff/8AyNR/wxX8f/8AoI/Dn/wPv/8A5Gqf7aym/Nz6+j/yD2FXsc1/bX+1WM1rHD4m/tuzn+zXE8YgvY9uVukXd5Z9nVm4b+7Xff8ADFfx/wD+gj8Of/A+/wD/AJGo/wCGK/j/AP8AQR+HP/gff/8AyNTed5VK15/gw9hV7HNf21/tVieNNNs/HHhm/wBEv/mtboDd3XKlWXI7jcvK16B/wxX8f/8AoI/Dn/wPv/8A5Go/4Yr+P/8A0Efhz/4H3/8A8jUpZ1lU4uMp6PyYewq9jye40G78QeKtD1nXLy2lXQzJJaWtpGwVp3Ty/Ocsx6L0Sui8QSSa5pctgl7JZxz/ALuaSP77Rn74Q/wE/wB6u2/4Yr+P/wD0Efhz/wCB9/8A/I1H/DFfx/8A+gj8Of8AwPv/AP5GqFnGUxTXO9d9Hr0H7Gr2OS0+6ttJsbeys4o7azto1ihhi4VEVcACqnibWN3hvVl3f8ukv/oDV3H/AAxX8f8A/oI/Dn/wPv8A/wCRqr6j+w/8fb/T7m1/tP4cp50bR7vtt/3/AO3arlneV8jSn07MXsKl9j7J/Zg/5Np+Ev8A2KOkf+kcVem1x3wb8H3nw8+EPgfwrqEsM9/oeh2Ol3EtuSY3kggSJmXIBwSpIyK7GvyF7s9cKKKKQBRRRQAUUUUAFFFFABXJ/ET4ZeHfipof9leIrBbuBG8yGZSUmt3/AL8bjlG9xXWUUEThGpFxmrpnzL4h/Y71jWPEmh6pF8WNfI0Vi1g2p20d3dQH2n3Kf0r0z4b/AAB8PfDvVp9ca41DxH4ouF2S67rc/wBouiv91T0VfYCvTqKDip4DDUp+0jHXzbf5hXmP7TX/ACQHx3/2C5f6V6dXmP7TX/JAfHf/AGC5f6UGuL/3ep/hf5HaeD/+RR0T/rxg/wDRa1tVi+D/APkUdE/68YP/AEWtbVM3p/AvQKKKKRoFFFFABRRRQAV4/wDtcf8AJuvjb/r1j/8AR0dewV4/+1x/ybr42/69Y/8A0dHQcWN/3Wr/AIX+R6zaf8esP+6v8qnqC0/49Yf91f5VPQdi2PJfgT/yGPiN/wBjHcf+hGp/g3/yM3xH/wCw5J/Nqg+BP/IY+I3/AGMdx/6Ean+Df/IzfEf/ALDkn82r67HfFjPSn/7aebV/j0PWX5M9Tooor5E9MKKKKACiiigAooooAKKKKACiiigAooooAKKKKACqGu/8gTUP+veT/wBANX6oa7/yBNQ/695P/QDQTL4Webfsq/8AJvXgf/rx/wDZ2r1ivJ/2Vf8Ak3rwP/14/wDs7V6xQcuD/wB2pf4V+QUUUUHYeM/sff8AJuvhT/evf/S2evZq8Z/Y+/5N18Kf717/AOls9ezUHDgf90pf4Y/kgooooO48Z/ZO/wCSUy/9hrU//SuSvZq8Z/ZO/wCSUy/9hrU//SuSvZqDhwP+60/RfkFFFFB3BXzh+0N4++Jvh34keHPD/wAPtR0+7utYgcpo8lmrzR7PvTvI3Cx9vwr6Pr5v8X+JbT4a/tf6Zq+vyLa6Rr/hz+y7S+mIWOKZJ95QsemePzpdUjzcwk1SSUnG7SbXRXN3UrH4j6P8D/iPP4713TL/AFA6FdyWp0iEwi2It5CctgZOdvOO1fP/AIZ+LXx18H+E/CV9q8sGmeBpWtLVdauLOO5EVu5VFlkAbf0NfcmtaPaeIdHvdLv4VubC9ge2uIWJ2yRupV1OPUEivnv9rTXNE8I/BeD4c6TEj6nqwtdO0vSYPmkEaSJjA9AI9oqZXSujhxmGlTh7VVXFRi+ru3e+vfsfSdFZ+g2Mml6Hp1nM/mzW9vHC7/3mVQCfzFaFWe+tVdhRRRQMKKKKACiiigAooooAKKKKACiiigAooooAKKKKACiiigAr54k/5Pri/wCxKP8A6UmvoevniT/k+uL/ALEo/wDpSaDzcb/y6/xxPoeivIvGH7Smi+EfHWqeEo/DHi7xDqumQ28922g6O11FEswYxguGHJ2ms7/hqa0/6Jn8S/8Awm3/APi6ep6N0e3UV4j/AMNTWn/RM/iX/wCE2/8A8XR/w1Naf9Ez+Jf/AITb/wDxdFmLmXc9uorxH/hqa0/6Jn8S/wDwm3/+Lo/4amtP+iZ/Ev8A8Jt//i6LMOZdz26ivEf+GprT/omfxL/8Jt//AIuj/hqa0/6Jn8S//Cbf/wCLosw5l3PbqK8R/wCGprT/AKJn8S//AAm3/wDi6P8Ahqa0/wCiZ/Ev/wAJt/8A4uizDmXc9uorxH/hqa0/6Jn8S/8Awm3/APi6P+GprT/omfxL/wDCbf8A+Losw5l3PbqK8R/4amtP+iZ/Ev8A8Jt//i6P+GprT/omfxL/APCbf/4uizDmXc9uornfh3460v4neBdC8W6K0raRrVnHfWrTJscxuoZcr2ODXRUigooooAKKKKACiiigAooooAKKKKACiiigArzX9pL/AJIN48/7BM//AKDXpVea/tJf8kG8ef8AYJn/APQaDlxf+71PR/kdb4F/5Enw9/2Drf8A9FrW7WF4F/5Enw9/2Drf/wBFrW7QbU/gXoFFFFBoFFFFABRRRQAV5H+1h/ybt43/AOvMf+jEr1yvI/2sP+TdvG//AF5j/wBGJQcWN/3Wr/hf5HqOl/8AILtP+uKf+girdVNL/wCQXaf9cU/9BFW6Dsjsj55/Ya/5Itc/9hq8/wDQlrs/2hP+QB4a/wCw/a/+gyVxn7DX/JFrn/sNXn/oS12f7Qn/ACAPDX/Yftf/AEGSvVyn/faXr+h86v8AkUx/wo9Torg/i18YtJ+Dun6Jcapp2r6tNrOojS7Ky0OyN1cSzGGWbAQEcBIJDn2rjf8Ahqa0/wCiZ/Ev/wAJt/8A4uvLPorpbnt1FeI/8NTWn/RM/iX/AOE2/wD8XR/w1Naf9Ez+Jf8A4Tb/APxdFmLmXc9uorxH/hqa0/6Jn8S//Cbf/wCLo/4amtP+iZ/Ev/wm3/8Ai6LMOZdz26ivEf8Ahqa0/wCiZ/Ev/wAJt/8A4uj/AIamtP8AomfxL/8ACbf/AOLosw5l3PbqK8R/4amtP+iZ/Ev/AMJt/wD4uj/hqa0/6Jn8S/8Awm3/APi6LMOZdz26ivEf+GprT/omfxL/APCbf/4uj/hqa0/6Jn8S/wDwm3/+Losw5l3PbqK8R/4amtP+iZ/Ev/wm3/8Ai6P+GprT/omfxL/8Jt//AIuizDmXc9uryX4S/wDJUPil/wBftt/KStX4U/HDR/i5qHiLT7DStd0TUdBeBL2z17TzaSr5yF4yFJOQVB5rK+Ev/JUPil/1+238pK9fB/7riv8ADH/0uIPoetUV414m/ag0Tw7471/wpB4U8ZeIdR0J4I76bQ9Fa6t4mlgWdF8wMBnY4NVP+GqLP/omfxL/APCaf/4uvIsx3R7hRXh//DVFn/0TP4l/+E0//wAXR/w1RZ/9Ez+Jf/hNP/8AF0+V9hcy7nuFFeH/APDVFn/0TP4l/wDhNP8A/F0f8NUWf/RM/iX/AOE0/wD8XRyvsHMu57hRXh//AA1RZ/8ARM/iX/4TT/8AxdH/AA1RZ/8ARM/iX/4TT/8AxdHK+wcy7nuFFeH/APDVFn/0TP4l/wDhNP8A/F0f8NUWf/RM/iX/AOE0/wD8XRyvsHMu57hRXh//AA1RZ/8ARM/iX/4TT/8AxdH/AA1RZ/8ARM/iX/4TT/8AxdHK+wcy7nuFFeH/APDVFn/0TP4l/wDhNP8A/F1FfftaaZptjc3lz8OfiVHb28bSyOfDMnyqoyT96lZj5l3PdaKyPB/iix8ceE9E8R6YztpusWMGoWrSLtYxSxrIhI7Haw4rXpDCiiigAooooAKKKKACiiigAooooAKKKKACvMf2mv8AkgPjv/sFy/0r06vMf2mv+SA+O/8AsFy/0oOTF/7vU/wv8jtPB/8AyKOif9eMH/ota2qxfB//ACKOif8AXjB/6LWtqmb0/gXoFFFFI0CiiigAooooAK8f/a4/5N18bf8AXrH/AOjo69grx/8Aa4/5N18bf9esf/o6Og4sb/utX/C/yPWbT/j1h/3V/lU9QWn/AB6w/wC6v8qnoOxbHkvwJ/5DHxG/7GO4/wDQjU/wb/5Gb4j/APYck/m1QfAn/kMfEb/sY7j/ANCNT/Bv/kZviP8A9hyT+bV9djvixnpT/wDbTzav8eh6y/JnqdFFFfInphRRRQAUUUUAFFFFABRRRQAUUUUAFFFFABRRRQAVQ13/AJAmof8AXvJ/6Aav1Q13/kCah/17yf8AoBoJl8LPNv2Vf+TevA//AF4/+ztXrFeT/sq/8m9eB/8Arx/9navWKDlwf+7Uv8K/IKKKKDsPGf2Pv+TdfCn+9e/+ls9ezV4z+x9/ybr4U/3r3/0tnr2ag4cD/ulL/DH8kFFFFB3HjP7J3/JKZf8AsNan/wClclezV4z+yd/ySmX/ALDWp/8ApXJXs1Bw4H/dafovyCiiig7grzf4s+D/AAX8XIv+ED8Q3ER1WW3N/axRvtuYVB2+dH9DxXpFfOPxd+E/izx1+0ZoWpaJquoeF9Ot9AaKTXbGMNiTzpD5PPcq+al9jjxcmqdlDmu0mvJnm037G/xb8Nt9h8J/E/ydGX7iSahd2bD/ALZxh1/WvUfgb+yLpvwy10+JvEGpv4m8T53R3EgPlwN/eGeWb/aar3/CgfH/AP0W/wAQ/wDgHH/8VWD4ovviV+zhBB4j1PxYfiH4LSaOLU4LyzWC8tEZlUSxurHfgnkH1paR1Z41PC0cPJVZ0ZJR7tNLztd7H0tRUFvcRXlvFPC6ywyKHR16EHkGp6s+lCiiigAooooAKKKKACiiigAooooAKKKKACiiigAqCG5iulZopEkVXKEqc4ZTgj6g1PXz18P/AIhWXwo+AvxS8ZaijzWeheJfFl/LGn3nEeqXbbR9cAUAfQtQNcRJcJA0iLM4LIhb5mA6kD2zXzk+sfEyH9mtviufFTt4uXQv+Eobw/8AZIv7L2C3+0GwC7PNxj5PM378857Vc+IHjyz8V/CT4a/HrRFZLXRfsuvzqeWGk3UQjv0b/rnFKZj/ALVqKAPoivniT/k+uL/sSj/6UmvoRWEihlIZTyDXz3J/yfXF/wBiUf8A0pNB5uN/5df44kOiXn2X9qD4v/7VjoP/AKJua9G/tj/arxy4vPsv7UnxZ/2rDQ//AEVcV1n9sf7VHtOXQ5cRV5arR2/9sf7VH9sf7VfJP7b/AIuuPDfwL1LVtJ1LV9P8SrNDZ6Q2kapPZsbiaaNTkRuFk+X+9XXaT8H7az8M2FvceK/GP9tRWscc2rL4qv3ZpgvMnlyStDy38LR7aPaMj2nuqTZ9Ef2x/tUf2x/tV8rfse/G7xB8XPhhf3viOZL+80zV7jSotYjhES6pFEF2XGBXuX9sf7VHtGRKo4ScWdv/AGx/tVh+NviVpfw/8N3muavcNFZ22F2xrvllkdtscMafxyOzIqr/ABNWJ/bH+1XhniTxC3xG/al8P+GGdZdC8E6Y3iK7h/hfUZi0Nqp/65R+dIKPaMcavMfT2j+Iru+0uzuL2zbT7qWMSS2bSLI0BP8AASvykj/Zq5/bH+1XjHxd+MFl8I/h1rfiu+X7QtjD+5tV+9dTk7YYh7s7IteNfE/UNd+FPwl0jx1rWrT3fxCj1jTZr6aO5dYWE10iT2MUedotxE7qF/2PMo9oyozcreZ9a694q1XT7rR00zRm1eG6vRBezfakhFlBsYmchuZPmVF2LVLx98TIvh74fbXL23ln0e1kDahcQctZ2/e4Kd0T7zfxKvzV856l4gP/AA1Bpyrq1ytvo9g13qsys5SWS9lW20+x2D+AeW8p/wBr5q91m1CO6heCdY5YZAVeNuVYHqCKPaMl1uWx29vr0d1bxTwTrPDKgkSSNsqwPIIIqT+2P9qvlr9l/wAUS6Ha+NPhpcSszeBdYaxstzZf+zZl8+yz9Eby69u/tj/ao9oxSq8rsa37F3/Jpfwi/wCxZsf/AESte0V4v+xd/wAml/CL/sWbH/0Ste0UH0QUUUUAFFFFABRRRQAUUUUAFFFFABRRRQAV5p+0kdvwF8dn/qEzf+g0nxq+J194FsdJ0jw7ZJqnjPxFcGy0izkOEDAbpJ5PSONfmb8K8G/aG+AEOh/AvxR4r8Xa9qXjLxnbxwul/dTultbM08SssECsFReTxSeiueRjcQ/Z1adON2ou+tktPnr5ffY+p/AbCTwR4dZTlTp1uQf+2S1vV8t/Dv8AZ3ay+FPhHxR8OddvvB3iu60WzvJoxcvLp9/M1ujH7RC+c5J6jGK9i+CvxQb4neF55b6yOk+ItLuX07V9NJz9nuU+8Ae6nqD6Gma4bESko06seVtXWt0/npr5W9LnoVFIWC9aydI8VaL4gmmh0vWLDUpYf9bHZ3KStH/vBScfjQei5JOzZr0UUUDCiiigAryP9rD/AJN28b/9eY/9GJXrleR/tYf8m7eN/wDrzH/oxKDixv8AutX/AAv8j1HS/wDkF2n/AFxT/wBBFW6qaX/yC7T/AK4p/wCgirdB2R2R88/sNf8AJFrn/sNXn/oS12f7Qn/IA8Nf9h+1/wDQZK4z9hr/AJItc/8AYavP/Qlrs/2hP+QB4a/7D9r/AOgyV6uU/wC+0vX9D51f8imP+FHO/tMyeT4u+BT+njd//TLqldl/an+1XAftXyeV4g+CDenjZv8A0zanV/8AtT/apYSlzwbOrG1vZ1EvI7D+1P8Aao/tT/arg9YmsNU0m8s9UgtrzTZ42juLe7jWSF4yvIcN8pFfIv7FPws8D+OvAPifx1rHgzQ7+HxN4kv7rS4b3TYZktLBJdkcUQdTsAZXrqdG0lFLc441k4uTex97f2p/tUf2p/tV8V+F9Yn8D/tpHwT4DeVfBLeHPtniHRlmZ7HTbklvIeJT8sEjfu8otfUn9qf7VEaPNfTYJ1uS2u+p2H9qf7VU9Y8WWXh/S7jUdRuo7Oztk3SzN/D/AIk9lrm/7U/2q8kvtcf4hftAR6HIzPoPgmxh1S4j/hn1K4aQW28dxDFG8g/2nRqp0LExxF/kfRS6t5iqyt94fxcUrasF+89cf/an+1Xm/jD4keH774heEvDjeINMW6gvZr64tWvItzGKLy0jI3ff82dJAv8AsUOgluKOIctj3j+1P9qj+1P9quP/ALU/2qP7U/2qf1cX1k6PRfGFl4i02HUdPulubWXO2ReOVOCCD8wcMu0q3zK1Xf7U/wBqvnS48QN8O/2gtNs4mZdF8e2twzQ/wxaraIrbx/12tuv+1a163/an+1UxoX0tsVLEWt5lP4FXHnftCfG5v+mehf8ApNLXS/CX/kqHxS/6/bb+UlcV+zfP5/x7+Nzf7Ghf+k01dr8Jf+SofFL/AK/bb+UlKguWjjF/dX/pcT3qMuanBnC+Cb77L+0D8eP+w1pf/pmsq9J/tr/arxPTr/7J+0V8df8AsMaZ/wCmayrsf7a/2qvD4fnpRkYVH77Og8QfFTw34Tmig1zxHpWizSjdFHqF9FAzj1AZhVPTfjV4N1q8is9P8YaDfXUp2pb22pQyOx9gGr5R/bluofGegfD/AOHojV7nxd4mtLWXH3ltIzvncfjXq/xiuPAWi/CvX5/F2laU3hu2sZPNt57dMEbcKkf+2furtqvYPmkuiJVrI9+/tr/ao/tr/ar5b/Y6uvGWl/s8+Frfx1LcNrSpJ5a3jM1yluXbyRLu5yFr2n+2v9qtIYfmipW3E9HY7v8Atr/arLvPiBYWOvWGjNK0upXiSSpbxruZIk6ySeibvl3f3nrmP7a/2q8j/Z314+LtH1v4iXTK194sv5ZLdv8Anlp8ErQ2cI9tqvL/AL070PDapWDpc+krzxNb6bZz3V5dR21rAhklmmkVERBySSegFZel/FDw/rWm3t/Za5Y3NjY5a6uI7hSkAC7syHsNvzV80eLPF5+LH7RFh8P1Zm8M+ErSPXteh/5Z3d27L9itZPZfnnqhD4mttW/a+8daO6tPo6+CtPbU7dd217iO7mkjyB1PlS1l7Hsuth2PpCT48eCobFbx/FGmrasSpka4ULEVfyz5n/PPD/Kd1bfiTx9ZeE9N/tDUnkgsVkVZrrblLcNx5knpGO7fw/eaviD+wdUb9ki6t5tLmsdc+I+r/a/EFx5Lb7SHUL3dJJKv3gI7ZtlfUel65H4i8Or9s077Na3UbR/YbtfvQHcAJEK8bk6o33fu04Ydy6dAeh6h/bQ9awvH2sbvAfiNd3/MNuf/AEU1eF/s9+K7mz0nxJ4KvJmkm8G6vJpFvJK2XksSiz2bH3EEqR13njjWN3gnxAu7/mHXH/opqtYfmjewr62PWf2bP+TdfhZ/2Kulf+kcVej15t+zT/ybj8Kv+xU0r/0jir0mvmT0wooooAKKKKACiiigAooooAKKKKACiiigArzH9po7fgB47P8A1C5f6Uvxq+J1/wCB7PR9G8OWSap408R3DWekWch/dqyruknk/wCmca/M1eC/tGfACDQfgb4m8WeKtd1Hxn41gSBk1G8ndILUvcRK4ggRgqLgnih6Hj47EP2VWnTje0XfWyWn5+X32Pq3wWwfwfoTKcqbCAg/9s1rar5b+Hv7PMlh8K/CPin4ba7feEfFdzotneTQ/aZJdP1CVoEY/aIXJzknqMYr2T4L/FD/AIWl4VlurqybSde025fTtW01zk211Hw6j1U8EexoNsNiZS5adWPK2rrW6fz018relz0CimswVST0rK0fxVoniCaaHStYsNSlh/1sdncpKyf7wUnH40HouSTs2a9FFFAwooooAK8f/a4/5N18bf8AXrH/AOjo69grx/8Aa4/5N18bf9esf/o6Og4sb/utX/C/yPWbT/j1h/3V/lU9QWn/AB6w/wC6v8qnoOxbHkvwJ/5DHxG/7GO4/wDQjU/wb/5Gb4j/APYck/m1QfAn/kMfEb/sY7j/ANCNT/Bv/kZviP8A9hyT+bV9djvixnpT/wDbTzav8eh6y/JnqdFFFfInphRRRQAUUUUAFFFFABRRRQAUUUUAFFFFABRRRQAVQ13/AJAmof8AXvJ/6Aav1598Y/i74W+EvhmW48Saktm11HJHbQKpklmbaeFUcmgyrVI04Oc3ZIyP2Vf+TevA/wD14/8As7V6xXzr+xr8XPC3iX4X+H/CNlqY/wCEi0my23FjMpSTAdvmXsy/Svoqg5cBUhUwtNwd9F+QUUUUHeeM/sff8m6+FP8Aevf/AEtnr2avGf2Pv+TdfCn+9e/+ls9ezUHDgf8AdKX+GP5IKKKKDuPGf2Tv+SUy/wDYa1P/ANK5K9mrxn9k7/klMv8A2GtT/wDSuSvZqDhwP+60/RfkFFFFB3BXzR8dv2iLj4IfHTRor97i68M3GhmSXT7fGTOZ3VZOfYAfhX0vXnPiz4beGpPiDb/EPxBdwRppumNYGPUPL+yohcuZGL9D82OtJnFjI1Z00qMrO61+ep4z/wAPCvBv/QB1T81rm/Fvx51b9q+zb4eeCPDN1aWV+8Q1TWLshktYQ6tnAHXgV9QeG18CeMrN7rQo9A1i3jbY0tjHDKFb0O0HBrlPjZ8RNU+C+gWmsaPpmh3Gh2uWv7K4uvslwy5UAW4xtLcng1L297Y82pTxLpuVaveHW0dbetz1HTrGLS9PtrOAbYLeJYkHoqjA/QVaqnpeoR6tptrewgiK4iWZAwwdrDIzVyrPdjaytsFFFFBQUUUUAFFFFABRRRQAUUUUAFFFFABRRRQAV8RfGizm1D9gf9oKC2++mv8AieX/AICmtTyP+gNfbteLfAfQbHxP8M/HWkapbx32mah4u8U2tzbyDKyRPqt2jofqCRQBHd30P/DFc13vHkf8K+aXf/s/2dnP5VjfsR+H0u/2JfhlpWsQrPa3vh1Vmil6PBKGIB9ijirjfs3663wjPwnbxyT8Pvs39k/8eB/tU6Xt2/ZDc+b5f+r/AHW/ys7O2ea1vjx/xS3wlsPAfhXGkXviSW38I6OttgfZI5VKySIOv7i1SaX/ALZigDG+Cfi7xXafs0eEL3QtBfxxeQq9lZebqEdo17p0UskVreGRxjMkCQyYxzvry2Txx8Qf+GtItSPwzUeIf+EX8ldD/wCEgt+YfPY+d523b14xX2Doei2fhvRrDSdNt1tNOsLeO1trdPuxRIoVFHsFAFeDyf8AJ9kX/YlH/wBKaDzcd/y6/wAcTx2z8Ta/qX7RHxPuvEfh7/hFdTax0YHT/t8d5hRFPhvMjrtP7Y/2q4/4pXn2X9qv4lf7WmaL/wCi7iqlxrEq28rQKssyodis2xWPYE84rz6tS02j53H1eXEzX9bI8q/aUv5/H3xl+DfgO0uBEq6lL4lu3ZfMWMWqZhLD+JSc1b/aG8VeIfCNl4cOu+Im1HwdrGpx6Lqum6VD9hu5VmVgGEwZmx6ou1jWDovhPxz/AML/ALj4havZaA1pJpaaNBawatM8lpD5iuzjNsFcnmtD9oTwHqvxIXwVeaW8c58P69barPYSShPtMaN8wQn5d9HtFdK4RxEFOnBvRL8T6A8OWeleD9CstH0Wyh0vSrOMRW9rbrsRBWn/AGx/tV4xcateapNBBrOrLocd9dH7PpcdwqXEsaRMfL8xGDby37xtjN8qba4H4O3V14m0fQfFF34s1eOO51fUJdNsWvGkSex3ziCCTdneAi79zfNUc+lzm5rxc2/61/yPqX+2P9qvA/grqxuv2mvj9ey/65ZtGtk/2Y0tWr0X+1P9qvF/B9x/wi/7UvxBidvl8TaNp+qxfW33W70RqaMdKteM/T9Ua/7UEl348+I/wa8C29z9kivdZn1ua42iRV+ww+YgKn7wJesX436b4g8V/Er4V+AdR8TS+IbO61ga5qFr9higWK1s+dzlOzM22uz8daDcap4y8H+K9Oiiub/QJLpGt5JPLMsE8XluFPqGVGp/g/w3PY+KtX8X65LFP4i1OOO0VYGJhsLRGYpBESoY5ZvMY/xNT9skjWOLjGMWnsn993/w56Zq114X0vWoNe1RNKs9UwIItQvNkcrYVsAO3osj10H9sf7VfIfhDxpqXiyT4ta9caL/AGt9m1O+0TzGvmtporGBFXyLUhTyfnc/MvzPXsnw98RaTfeA/D02gSySaIbCD7E0rMX8oIoRXJ7hetEp2MqknT3Zzfw91T7D+2L8WBF92+0XSbmX/aeNWQV75/bH+1XzF8I7j+1vjh8XvFK/PaNd2eiW8n+1bW/78f8Afb17N/an+1SlU1CvWtJLyX5I679lH4ifFDTP2avhja6V8IhrOmQ+H7NLe/Hia0g8+MRDDeWV44xXq3/C0fjB/wBEQX/wrbT/AOIpP2Lv+TS/hF/2LNj/AOiVr2ivTPvDxj/haPxg/wCiIL/4Vtp/8RR/wtH4wf8AREF/8K20/wDiK9nooA8Y/wCFo/GD/oiC/wDhW2n/AMRR/wALR+MH/REF/wDCttP/AIivZ6KAPGP+Fo/GD/oiC/8AhW2n/wARR/wtH4wf9EQX/wAK20/+Ir2eigDxj/haPxg/6Igv/hW2n/xFH/C0fjB/0RBf/CttP/iK9nooA8Y/4Wj8YP8AoiC/+Fbaf/EUf8LR+MH/AERBf/CttP8A4ivZ6KAPGP8AhaPxg/6Igv8A4Vtp/wDEUf8AC0fjB/0RBf8AwrbT/wCIr2eigD4e+I3j74vzftEaRf6X8Orex8TWvhxhb6RcX8eoKInuCJLhWRkAPRawvjf8Rvj/AK18LdesvGPgiy0rw5MsX2u8jhw0SiaMj/lqf4sV9QfHTwJrl5feHvHXg+JbnxZ4ZkkdLFm2jULVxiW3J9SOV968v+P3x88IfEr9m/xlZ2WoDTdfVII5tC1PFvfQyLcwlkMT8kj2pPY+QxlFx9up1ZRvdpXVnp6fJo4rwB8UP2kNO8B+G7bQvAGn3eiQ6bbRWNw1vlpYFiQRv/r+64qz8GfH3xdt/jL8Q7y5+HNvquv3kFg2qabBqUWnpbssbLDJ+8Z8lo/5V6f4T/aG8K+A/gr4D02zul8TeKjoFjDb+HtGcXF1JMLaP5GWPd5f/Aq7f4D/AA91fwnpms6/4qeKXxl4nu/7Q1PyTlIAF2xW6nusa8fiaZrhaPNVo8lWU+XV6qy921tt9du1z5q/bG+L/wAS38C6fo2teDZPAmn6lcMss8OsRX32tVXPkny1BQHNfIfhLxVqvgnxHY63ot29lqdnIJYZY/8A0E/3ge61+unxR+Fvh/4v+FZtA8RWpntHYSRyxttlgkH3XRuzCvlr9nX9k3wlJ488WX2qzXeqjwvr0lhZ29wQI32KjLJIMcnmlY83NstxWIx0alOWkrW12t/Vz2q3+K3xfuLeKUfBFcOobB8WWoIz7FKl/wCFo/GD/oiC/wDhW2n/AMRXs9FM+7Wx4x/wtH4wf9EQX/wrbT/4ij/haPxg/wCiIL/4Vtp/8RXs9FAzxj/haPxg/wCiIL/4Vtp/8RXnP7Q3xA+JmqfBfxZaaz8J10PS5bQLPqP/AAkltcCFfMTny1UFq+ra8j/aw/5N28b/APXmP/RiUHFjf91q/wCF/kZtj8Tvi6tjbBfgmrKIlwf+EttPQf7FT/8AC0fjB/0RBf8AwrbT/wCIr1zS/wDkF2n/AFxT/wBBFW6Dsjsj4x/ZP8c/EPQ/hfPb+HvhiPE1g2qXUhvB4gt7XEhK5TY65rs/il46+ImtaTpEev8AwxXw3BHqkEsEn/CQW919onAfZDtRQRu9a1f2Gv8Aki1z/wBhq8/9CWuz/aE/5AHhr/sP2v8A6DJXq5T/AL7S9f0PnV/yKY/4UeD/ALQHjXxxr3ib4Px+Kvh6PB1nF4saSG8/ty3vvMl/snUR5exF9CTn2rqf7U96tfttSeSvwcf08bf+4jUq4T+1K9fKaXPRk/P9EefnVb2eIivL9Wcz+1X8R28Cfs8+ONUjl23Tac9nbt/Esk/7kMPcNJWN4L+E8/g34B6R4di8Za54amstGUS3FpNGFtZ9m+QgFOnmVifG/wCF+vfGS3s9NbxRp+l6DZ6hBqKWZ0iS4eZov+Wcr/aVVkLV3uqWNx4m8E6joes3kbTalZTWVxdafC0C4kRlJjRncj5W/vV6H1WUqkm46Wsv1/Q8v63GNKMVLW93+nT1MP8AY/8AFlp4q+A+heJIdFtdGv8AVGme/a3BLXk8crRGd5HYu7N5fV2r2n+2E+b51+Wvnr4NeA9Y+FXgnw94ZvdWs/7H8PCZluLRnRr3e0hBlB4jRfM3Ffm3NXH2N58MtY8dS6hb3lrBe310EltYL5zqeuM7ZAmh37jaj7wDLtZf9mphTdOnBTWvnoVOpGpUnKD01219D62/tT3rxr4J6kZPit8brqdv9KbxBaxf7Xlpp0Hl12n9qV5fo9wfCP7QHiHzfls/F+nW17byf9PVovkzR/UxNCwraph7OD8/0MKWIvGav0/VfobXxc8Xaj4s+KXhH4XadeT6fp+o20+s6/dWknlzNYxFVWCNxyvmSttYr/DXQ6bpfhyTUvFdnLpmnweF9NsYdGbT2hQWyJsa4n+T7uxlnhzWH4u8JtrXirRvFOl3y6Z4i0qOW2SaSHzIbi3l2l4JVDA43KjBlb5Wrk9B8L6n8RvBKp4g1KO20HXJJNSu9P01WEt5DM/mJDLMfmEexkjKoqsy1m8PJTd1dvb0t/ma/WYOCtKyW/rff7h/wF+Mup2HwN+HNpdxz6x4m1+W4tNGhvpijy2kUkrLPNIQSEW3VK9m8K+LtbvtY13TdZ01oF0+SFbfVI12W9+Hi3HywXZhsb5TurwH4neHLRvjj8IrieJYPDNvb6hpX2VV2W6u0KmGEgcbGWL7tbPwv1a5sfi98SdG075fCNn9ga3hX/U2t48bGeOL0/gYotRToyjJQl0dv/Jb3NKlaE4upHqr/wDk1rHTftDaoYfEXwbuoG23Ufje3iVv+mb2d2sgr2T+1PevAPFN03i743+ELGECS08MQT6xfN/Ck00bW9qn1INy1enf2pW9PD3lJ+f6I5qmISjBeX6h8G/GHjDQ/jd8XG8J+CF8Zeeujfaf+JvDYfZsW82z76nfursfAvjr4h6d4z8a3Wl/DJdX1G7uoW1DTx4gt4fsDgSYXzGXEmfaqH7HU3nfGj43N/saF/6IuK9X+Ev/ACVD4pf9ftt/KSvDtyxxq8l/6XA+8wUubDU35HzNofiLV7745fGS71/RP+Ec1ebVNN87TPtaXfk40q0A/eIADla7P+2P9quB8c332X9qD42f9hLTP/TRZ1FqGpS3VnPFb3jWc0iFUuFVXZD6gNla+ly3D82Dpy8jKq/fZ5l4pkh+KX7ZOk6dcPP/AGd4K8PS3jNBcPAUurplXaHQhhmLFRfGOTT/AAD8bvg/daY0+oahrGqNYz2es3UuoItvhczxeeXMMibuGSr3gr4Yv4M8da54qXxXqeoX+uPE2pLdw222URBljA2oCgCtV34h/D228ceKvCPiaK/On654auJJbSRofOhdXCh0kTK0v7PqSpyfL7zlf5XX6D51ddj2/UvF1lo9q11f3sFjaqQrTXMixoufc1Xs/H2j6heJa2ur2NzdSRidYYLhHdozyHADdK8S1jxdpngXUrVdS+2ax4glgu9QhmWFvKlnCxr5cY6CQrsjQLubbXOfAGz0O18I+Cl+xxXniDT9Olubi+Vf+PKe5ZWnhf0kLfLt+8qpXR7N+0VNW/q3+f4GfS59G+KtYlbwvq627N9oaym8rb97fsbFcV+zTq0UP7P3w7jjK4XQ7T/vry13Vf8A7a9683+B94fCOi6j4InbbN4eu5Y7f/prYyu0ttJ/3y3l/wC8lXLC2qxfdNfPR/5hze6zN+CHhHSfGXiz4w+K/EazvfT+L7vT1kW8mtsWtqFSPOxxWl+yrptvZnx58QyrW1j4n1ItprXMxkI0223JA5dyW+b52q7feAbe6k8QWsWqXNtofiC6+16lp8CqGlcoscgEn3kjkWNNy1zv7TmpSaP+zj4otNHiW1jjtYLRbeAbQLczRpIgx0HlVyPBOhB1ZR+BN+r1/T8/Ivn5nbue26b8aNC1TUtIs4riWL+2PM/syaePy0v9ib38oH5iAvzbtu1lrrP7Y/2q+c9d8X6h4D8XeBIb65h1a11a7k00q9rGjWMxhZke3KqCI/l2FWZjtr0y48RRWdvLPPOsUMSGR5GbCqBySa7KdBy5lLdf5Jmb8jA+GerFf2hPjOyt+5b+xf8Av59kbNej+MtY3eD9cXd/y43H/opq8Y+DU80mn6/4nuw0dx4o1OTU4lZcOtqEWG2U+5iiRq63xZrG7wrrK7v+XOb/ANAaopYX91zd7v722OUtT274A/Ej4p2PwH+HFvp3we/tSwi8NabHb3v/AAlFpH58YtI9r7Svy5Hau9/4Wj8YP+iIL/4Vtp/8RW3+zH/ybX8J/wDsUtJ/9I4q9Mr8ve57B4x/wtH4wf8AREF/8K20/wDiKP8AhaPxg/6Igv8A4Vtp/wDEV7PRSA8Y/wCFo/GD/oiC/wDhW2n/AMRR/wALR+MH/REF/wDCttP/AIivZ6KAPGP+Fo/GD/oiC/8AhW2n/wARR/wtH4wf9EQX/wAK20/+Ir2eigDxj/haPxg/6Igv/hW2n/xFH/C0fjB/0RBf/CttP/iK9nooA8Y/4Wj8YP8AoiC/+Fbaf/EUf8LR+MH/AERBf/CttP8A4ivZ6KAPGP8AhaPxg/6Igv8A4Vtp/wDEUf8AC0fjB/0RBf8AwrbT/wCIr2eigD4e+IXj74wSftFaZqGk/Dm1svFFv4bKw6PcX8eoKIGuSHuA6MgU/wAOKwfjp8Rvj7rnwr12y8ZeCbLSfDUyw/a7yKHDRATRlf8Alqf4gK+oPjl4H1ybUfD/AI+8HQLd+KvDTvnT2baNSs3GJbfP97+Jfce9eXftCfHnwf8AE39m7xhaafqQsNdC28c2haji3v4ZFuoSyNE3OaT2Pj8ZQcPbqdWUb3aV1Z6fn0aON8AfFD9o/T/Afhu20LwBp93okOm20VjcNBlpYFiQRv8A6/uuKs/BX4gfFu3+L3xHup/hxb6rr95FYPqmmw6nFp8ds6xMIX+ffkun8q9N8K/tE+FvA/wX8B6ZYXC+KfFbaBYw2/h/RnFxcvMLaP5HCbvL/wCBV3PwH+HereEdH1bW/FEkc/jLxLd/2jqjRcpCcYjt0/2Y14H1NM2wtHmq0eSrKfLq9rL3Wrbb67drnzN+2V8XPiTN4J0zRdb8GP4G0/Up3WWSHWYr37UqLnyj5ajaDkV8k+D/ABZq3gfxJp+t6JdvZanZyB43j/8AQT/eB7rX64fFP4V+H/jD4Tl0DxFbNNaswlimhbZLBIOjo3Yivlz9nH9lHwlJ428Valqct1qv/CL+IJtOs7ecqIn8oIyySDHzHmlY83NssxWIx8alOWkrW12t/Vz2qH4qfF+aCOT/AIUiBuUHH/CW2nH/AI5Un/C0fjB/0RBf/CttP/iK9nopn3aPGP8AhaPxg/6Igv8A4Vtp/wDEUf8AC0fjB/0RBf8AwrbT/wCIr2eigZ4x/wALR+MH/REF/wDCttP/AIivNf2jPiB8TNW+Cviuz1v4ULoGly2yC41H/hI7a58lfNTny1UFq+sa8f8A2uP+TdfG3/XrH/6OjoOLG/7rV/wv8ipb/E/4viCID4JLjYMf8Vdaen+5Un/C0fjB/wBEQX/wrbT/AOIr2C0/49Yf91f5VPQdi2Pl74Z+OPiHpN/4tfRfhkuvzXWrzTX0Z8QW9t9inJ+aDLKfMx/eFS+AfHPxD0vWPFb6P8MV1u4utSeW/g/4SC3t/sMxLZi3Mp8z/eXivQvgT/yGPiN/2Mdx/wChGp/g3/yM3xH/AOw5J/Nq+uxvxYv0p/8Atp5tX+PQ9ZfkzL/4Wj8YP+iIL/4Vtp/8RR/wtH4wf9EQX/wrbT/4ivZ6K+RPTPGP+Fo/GD/oiC/+Fbaf/EUf8LR+MH/REF/8K20/+Ir2eigDxj/haPxg/wCiIL/4Vtp/8RR/wtH4wf8AREF/8K20/wDiK9nooA8Y/wCFo/GD/oiC/wDhW2n/AMRR/wALR+MH/REF/wDCttP/AIivZ6KAPGP+Fo/GD/oiC/8AhW2n/wARR/wtH4wf9EQX/wAK20/+Ir2eigDxj/haPxg/6Igv/hW2n/xFH/C0fjB/0RBf/CttP/iK9nooA8Y/4Wj8YP8AoiC/+Fbaf/EUf8LR+MH/AERBf/CttP8A4ivZ6KAPGP8AhaPxg/6Igv8A4Vtp/wDEUf8AC0fjB/0RBf8AwrbT/wCIr2eigDxj/haPxg/6Igv/AIVtp/8AEV8Wftm3fjXWviJp2reLvDEvhZJbFYbK0+3RXkeFZjJ+8j6HnP41+nVYXizwToPjzSW03xFpFprNiTu8m7iDgH1Geh9xQeVmeCePw7oqVnufl3+yjp+rah+0D4OOkBxLBdia4Ze1uP8AXZ9ilfrDXJ+BvhX4S+GcU0fhjQLLRhN/rXt4/nf/AHnOWP4musoMcpy+WXUXTnK7bv5BRRRQe2eM/sff8m6+FP8Aevf/AEtnr2avGf2Pv+TdfCn+9e/+ls9ezUHDgf8AdKX+GP5IKKKKDuPGf2Tv+SUy/wDYa1P/ANK5K9mrxn9k7/klMv8A2GtT/wDSuSvZqDhwP+60/RfkFFFFB3BXzT+0b4fuvjF8XvBvwvbUJ9P0OSym1vUTb8NIqlo0X88/nX0tXyJ+0ZZ+ONQ/ae8NwfD26is/ELeGiTNMUCiH7RLu+9+FS+lzysylahZq6bimlu1dafM5n4hfs/6x8CPFHh6w+GPibUrJfGMp0e4a+mDPCeGEgdFHvWn/AMMN+HvB96mv+OfiR9p0aKVZLlbi2FmsrZ+UNM0zY5qnrnwh/aY8S3+kXmo6zp1xc6TcfarR/tEK+XJtxniOuT+PHh74+af8P57jx9rFre+GluIhPHBJDnPmfKSFUd8Vntqz5ycKMFOcsNLlWsU72Wmt9er3P0DVRGoVRtUU+iitj7gKKKKACiiigAooooAKKKKACiiigAooooAKKKKACsbwt4S0zwbY3VppVv8AZoLq+utSmXcW3T3EzzTNz6vIx/GtmigArD1TwbpWs+JtE1+8tzLqWjLOtjIXOIvOVVkO3oSVUDJ6ZNblFABXzxJ/yfXF/wBiUf8A0pNfQ9fPEn/J9cX/AGJR/wDSk0Hm43/l1/jieCfHS8+y/tXfEP8A2tN0f/0XNXP/ANsf7Ve6/Gv9jvxV8R/jBrPjXw/470rQYdUtLW2msr/Q5LxgYAQGDrcxevpXGf8ADCPxM/6Kp4Z/8JOf/wCTq8uth6k5uUdj5/H5Zi8RiZVKdrPz8kee/wBsf7VH9sf7Vehf8MI/Ez/oqnhn/wAJOf8A+TqP+GEfiZ/0VTwz/wCEnP8A/J1Y/Va3kcH9jY7y+88o1zS9K8TNavqVnHcyWpZoWZiGXeu1xkdmX5Sv3Wpmi6Po/h2Zn06yjs+GVFVm2RB23OIwfljBb5iq161/wwj8TP8Aoqnhn/wk5/8A5Oo/4YR+Jn/RVPDP/hJz/wDydT+r1/6ZX9k4+3Lpb1PPf7Y/2q4v4jabeX11o3iTRo1l17QJmlhh3Afa4HG2e3z/ALS/Mv8AtIle7f8ADCPxM/6Kp4Z/8JOf/wCTqP8AhhH4mf8ARVPDP/hJz/8AydRHDVou6sOGU46EuZJfeeb2PiRNQs4LpFlWOVBIqzxtG657EH5lNTf2x/tV6F/wwj8TP+iqeGf/AAk5/wD5Oo/4YR+Jn/RVPDP/AISc/wD8nUvqtXyI/sbG9EvvPnz/AIRfVND/AOErtfD9xZxWfiO4kvHa73b7KeVFjkdFH+sB27trMvzVfRn+Gfw80/QvDNq99dWtuun6fHJyrSbeJJSPuoPvMa90/wCGEfiZ/wBFU8M/+EnP/wDJ1H/DCPxM/wCiqeGf/CTn/wDk6r+r1nvY2/svHyspJNeu9jxzwDosPgPwrZ6TFO11Mu6W6vG4e6uHbdJMfdmauh/tj/ar0L/hhH4mf9FU8M/+EnP/APJ1H/DCPxM/6Kp4Z/8ACTn/APk6oeGrN3djOWUY+Tcna78z3j9i3/k0n4Q/9ixYf+iVr2iuJ+Cfw6f4RfCLwf4Kkvxqj6BpdvpxvFi8oTeWgXdtycZx6121e0ffhRRRQAUUUUAFFFFABRRRQAUUUUAFFFFABXI+M/hP4O+IYb/hI/DWm6tKU2faLi3XzgvoJBhwPoa66igicI1FyzV15nL+D/hr4U+H8ZTw54e03RtyBGe0tkSRwOzOBub8TXUUUUBCEaa5YKyCvGv2ff8AkZvi9/2OFx/6Ihr2WvGv2ff+Rm+L3/Y4XH/oiGg5K38el6v8mey0UUUHcFFFFABXkf7WH/Ju3jf/AK8x/wCjEr1yvI/2sP8Ak3bxv/15j/0YlBxY3/dav+F/keo6X/yC7T/rin/oIq3VTS/+QXaf9cU/9BFW6Dsjsj55/Ya/5Itc/wDYavP/AEJa7P8AaE/5AHhr/sP2v/oMlcZ+w1/yRa5/7DV5/wChLXZ/tCf8gDw1/wBh+1/9Bkr1cp/32l6/ofOr/kUx/wAKPL/275PJ0/4QP/d8aj/006jXj/8Aa3+c19N/tO/AnV/jv4f8L2eieIrPw3f6FrI1dLi909r2OT/RbiAxlBLH1FwTnPavFv8Ahib4o/8ARUvC3/hJXP8A8sK9XKcww2EoyhWve99vJHBnOWYrG141KFrJW1fmzjf7W/zmj+1v85rsv+GJvij/ANFS8Lf+Elc//LCj/hib4o/9FS8Lf+Elc/8Aywr3P7awHd/ceD/YOY9l95xU2oR3ELxSqsscgKvG3KsD2NQs1m2oLftawfblj8pbry181U67N/3sV3f/AAxN8Uf+ipeFv/CSuf8A5YUf8MTfFH/oqXhb/wAJK5/+WFL+2sB5/cH9g5l5fecb/a3+c1l+IrG28SWcUU7NFcW0wntbqPb5tvMvSRCe/wD6EvytXo3/AAxN8Uf+ipeFv/CSuf8A5YUf8MTfFH/oqXhb/wAJK5/+WFDznASVnf7hrIsyi7q33nEXF4l5Zy28/wA0csZjfazJuBXB5HSlt7yOzt4oIFWKGJBGka/dUDgCu2/4Ym+KP/RUvC3/AISVz/8ALCj/AIYm+KP/AEVLwt/4SVz/APLCj+2sB3f3C/sHMdtPvOF1CS01a1e1vbaC8tZPvwzxq6N9QaNPaz0e1S1sLWCxtY/uw20axoufYV3X/DE3xR/6Kl4W/wDCSuf/AJYUf8MTfFH/AKKl4W/8JK5/+WFH9s4C99fuD+wcytbT7zzjw/Y2/h+O6ZHae8vJjPd3km3zbiQrjJ+iqihf4VrV/tb/ADmuy/4Ym+KP/RUvC3/hJXP/AMsKP+GJvij/ANFS8Lf+Elc//LChZzgErK/3DeRZlJ3dvvL/AOw9cfaPi58bm/2dD/8ARNzXtHwl/wCSofFL/r9tv5SVzf7Mf7N+ufAvXPG2sa/4qsfE194lNnn+z9LaxjtxbrKAMNNIWz5vqOldJ8Jf+SofFL/r9tv5SV897WFaONqQ2aX/AKXE+/wVKdDD06VTdI+OPi9ffZf2q/jP/wBf+mf+mmyrJ/tj/ar3b4ufsR+LvH3xk8YeN9D+IGkaLbeIJLWVtPvtBkunjaG1it/9YtzH1EQPTvXL/wDDAfxI/wCiq+G//CUn/wDk+vpctzzAYbCU6NVvmS10FUoVJTbR5j/bH+1R/bH+1Xp3/DAfxI/6Kr4b/wDCUn/+T6P+GA/iR/0VXw3/AOEpP/8AJ9el/rFlnd/cZfVqp5j/AGx/tUf2x/tV6d/wwH8SP+iq+G//AAlJ/wD5Po/4YD+JH/RVfDf/AISk/wD8n0f6xZZ3f3B9WqnmP9sf7VUrj7Ncapa6i25by2DRrIrYZkbqj+o/ir1v/hgP4kf9FV8N/wDhKT//ACfR/wAMB/Ej/oqvhv8A8JSf/wCT6T4hyt7t/cP6tVPMf7Y/2qqas1nr2l3WnajAl5Y3UbRTQyfddGXBBr1n/hgP4kf9FV8N/wDhKT//ACfR/wAMB/Ej/oqvhv8A8JSf/wCT6HxFlbVm3/4CH1aqeFWPhmzt9U02/ur2+1WbTEaOx+3SIVt9y7SRtUZfb8u59zVtaw1trln9jvN0tqzhpYd3yygfwP6oe6/xV63/AMMB/Ej/AKKr4b/8JSf/AOT6P+GA/iR/0VXw3/4Sk/8A8n1Ec+ymKcVez8g+r1TzH+2KzPE2sbvDerLu/wCXSX/0Bq9h/wCGA/iR/wBFV8N/+EpP/wDJ9RXf/BPn4iX1pNbyfFXw7slj2Nt8Kz//ACdVS4iyxxaTf3B9Wqn1B+y//wAmz/CT/sUdI/8ASOKvTq5b4V+C3+G/ww8IeEpLsX76DpFppZuwmwTeRCkW/bk4ztzjPeupr8ne7PVCiiikAUUUUAFFFFABRRRQAUUUUAFFFFABXIeNPhL4N+Ie4+I/DOm6tKU8v7RPbr54X0Eow4H0NdfRQROEai5Zq68zmfCHw38LeAYynh3w/p2jblCO9nbIjuB2ZwMt+JrpqKKAjCNNcsVZBXjX7O//ACGPi3/2Ot5/6Khr2WvGv2d/+Qx8W/8Asdbz/wBFQ0HJW/j0vn+R7LRRRQdwUUUUAFeP/tcf8m6+Nv8Ar1j/APR0dewV4/8Atcf8m6+Nv+vWP/0dHQcWN/3Wr/hf5HrNp/x6w/7q/wAqnqC0/wCPWH/dX+VT0HYtjyX4E/8AIY+I3/Yx3H/oRqf4N/8AIzfEf/sOSfzaoPgT/wAhj4jf9jHcf+hGp/g3/wAjN8R/+w5J/Nq+ux3xYz0p/wDtp5tX+PQ9Zfkz1OiiivkT0wooooAKKKKACiiigAooooAKKKKACiiigAooooAKKKKACiiigAooooA8Z/Y+/wCTdfCn+9e/+ls9ezV4z+x9/wAm6+FP969/9LZ69moOHA/7pS/wx/JBRRRQdx4z+yd/ySmX/sNan/6VyV7NXjP7J3/JKZf+w1qf/pXJXs1Bw4H/AHWn6L8gooooO4K8u+O3xl0X4J6HDqtzZDU9fuz9m06xhA86duuM9Qo716jXzz43hs9Q/bH8GJqUkYt9P8Nz3tuszAKsxldN/PfFJ9EcOMqSp0vc0baS8ru1zzO48UftZ+MJBqWlaMNCtJPu2Xk2MWPqLljIPxrsPhn+0J4nh8X2XgP4xeGV0rUtQcR2F9JABBcydlPVGJPQpxX0l/bmm/8AQQtf+/yf414L+2m+mXnwZfUYrqF9T0vULW4tJIZVLpJ5qqcc+h/Sok+XU86rh54WEq8a0pNatN3TturdD6KooorQ98KKKKACiiigAooooAKKKKACiiigAooooAKKKKACiiigAooooAK+eJP+T64v+xKP/pSa+h6+eJP+T64v+xKP/pSaDzcb/wAuv8cT6HorwXxP8XPiVefF7xX4R8F6D4TuLLw/bWE0t3r+pXNvJI1ykjYVYoZOB5dH/CXfH3/oXvhp/wCDzUP/AJDquVne5xTs2e9UV4L/AMJd8ff+he+Gn/g81D/5Do/4S74+/wDQvfDT/wAHmof/ACHRysXtIdz3qivBf+Eu+Pv/AEL3w0/8Hmof/IdH/CXfH3/oXvhp/wCDzUP/AJDo5WHtIdz3qivBf+Eu+Pv/AEL3w0/8Hmof/IdH/CXfH3/oXvhp/wCDzUP/AJDo5WHtIdz3qivBf+Eu+Pv/AEL3w0/8Hmof/IdH/CXfH3/oXvhp/wCDzUP/AJDo5WHtIdz3qivBf+Eu+Pv/AEL3w0/8Hmof/IdH/CXfH3/oXvhp/wCDzUP/AJDo5WHtIdz3qivBf+Eu+Pv/AEL3w0/8Hmof/IdH/CXfH3/oXvhp/wCDzUP/AJDo5WHtIdz3qiuG+BvxEn+Lfwd8GeNbmzTT59f0q31F7WNy6xGRA20E9QM13NSaBRRRQAUUUUAFFFFABRRRQAUUUUAFFFFABRRRQAUUUUAFeNfs+/8AIzfF7/scLj/0RDXsteNfs+/8jN8Xv+xwuP8A0RDQcNb+PS9X+TPZaKKKDuCiiigAryP9rD/k3bxv/wBeY/8ARiV65Xkf7WH/ACbt43/68x/6MSg4sb/utX/C/wAj1HS/+QXaf9cU/wDQRVuqml/8gu0/64p/6CKt0HZHZHzz+w1/yRa5/wCw1ef+hLXZ/tCf8gDw1/2H7X/0GSuM/Ya/5Itc/wDYavP/AEJa7P8AaE/5AHhr/sP2v/oMlerlP++0vX9D51f8imP+FHqdFeU/Hv4meJvh2ngiy8JaXpOqaz4m13+x4xrV1Lb28QFnc3LOzRxuelse3euc/wCEu+P3/QvfDT/we6h/8h15ii5bH0LlGO7PeaK8G/4S74/f9C98NP8Awe6h/wDIdH/CXfH7/oXvhp/4PdQ/+Q6fJLsT7SHc95orwb/hLvj9/wBC98NP/B7qH/yHR/wl3x+/6F74af8Ag91D/wCQ6OSXYPaQ7nvNFeDf8Jd8fv8AoXvhp/4PdQ/+Q6P+Eu+P3/QvfDT/AMHuof8AyHRyS7B7SHc95orwb/hLvj9/0L3w0/8AB7qH/wAh0f8ACXfH7/oXvhp/4PdQ/wDkOjkl2D2kO57zRXg3/CXfH7/oXvhp/wCD3UP/AJDo/wCEu+P3/QvfDT/we6h/8h0ckuwe0h3PeaK8G/4S74/f9C98NP8Awe6h/wDIdH/CXfH7/oXvhp/4PdQ/+Q6OSXYPaQ7nvNeS/CX/AJKh8Uv+v22/lJUXwR+Kni3xn4s8ceGfGWkaJpmqeG2siJdCvJrmGZbiJpBzLEhBG3HTvUvwl/5Kh8Uv+v22/lJXrYPTC4pP+WP/AKXEd72aPWqK+ftU+MHxR1j4reO/DXg/w/4Om0rwvc2lo13rmq3UE8zzWcVz9yK3kAAEuOvap/8AhLvj7/0L3w0/8Hmof/IdeSoyeyDmitGz3qivBf8AhLvj7/0L3w0/8Hmof/IdH/CXfH3/AKF74af+DzUP/kOj2cuwc8e571RXgv8Awl3x9/6F74af+DzUP/kOj/hLvj7/ANC98NP/AAeah/8AIdHs5dg549z3qivBf+Eu+Pv/AEL3w0/8Hmof/IdH/CXfH3/oXvhp/wCDzUP/AJDo9nLsHPHue9UV4L/wl3x9/wChe+Gn/g81D/5Do/4S74+/9C98NP8Aweah/wDIdHs5dg549z3qivBf+Eu+Pv8A0L3w0/8AB5qH/wAh0f8ACXfH3/oXvhp/4PNQ/wDkOj2cuwc8e571RXgv/CXfH3/oXvhp/wCDzUP/AJDqlrnxE+Peh6LqOpSeHPhtJFZ28lyyrrmoZKqpP/Pp7Uezl2Dnj3PoeiuY+F/i6T4gfDXwl4oltls5db0i01NrdW3CIzQpIVB743Y/CunqCwooooAKKKKACiiigAooooAKKKKACiiigAooooAKKKKACvGv2d/+Qx8W/wDsdbz/ANFQ17LXjX7O/wDyGPi3/wBjref+ioaDhrfx6Xz/ACPZaKKKDuCiiigArx/9rj/k3Xxt/wBesf8A6Ojr2CvH/wBrj/k3Xxt/16x/+jo6Dixv+61f8L/I9ZtP+PWH/dX+VT1Baf8AHrD/ALq/yqeg7FseS/An/kMfEb/sY7j/ANCNT/Bv/kZviP8A9hyT+bVB8Cf+Qx8Rv+xjuP8A0I1P8G/+Rm+I/wD2HJP5tX12O+LGelP/ANtPNq/x6HrL8mep0UUV8iemFFFFABRRRQAUUUUAFFFFABRRRQAUUUUAFFFFABRRRQAUUUUAFFFFAHjP7H3/ACbr4U/3r3/0tnr2avGf2Pv+TdfCn+9e/wDpbPXs1Bw4H/dKX+GP5IKKKKDuPGf2Tv8AklMv/Ya1P/0rkr2avGf2Tv8AklMv/Ya1P/0rkr2ag4cD/utP0X5BRRRQdwV8xfHz9nvUPjZ8dtDlme707w1BoZim1O0K5E4mkYR8+xB/Gvp2ik1c5cRh4YqHs6m10/uPk7/h3t4e/wChy1z/AL4j/wAK5D4o/sIP4e8JTXvhTVtW8RavHNGV0+4EQWRN3zV9wUUuVHDLKMHKLioWv6hRRRVHsBRRRQAUUUUAFFFFABRRRQAUUUUAFFFFABRRRQAVk+GvFWl+L7O6u9JuhdwW17c6fKwUrtnt5mhmTkdVkRl/CtavmHT/AImSfBv9l34weNoUSe80bxD4tu7eOT7rSrqt2IwfbO2gD6erH1HxbpWk+ItH0K7uxDqmrrM1jAyt++8pQ0gBxgEKQcGvm+T4XeT+yK/i4Xt1/wALQXwt/wAJD/wl/nf8TA6kLT7RzJ/zw8z5fI/1ezjHetHVPGt78Yv2UvAfxh060VvEmjWtn4xjtbf+KSKIi+tkP/TSFrqEf74oA+l6+eJP+T64v+xKP/pSa970fVrTXtKstU0+dbqwvYI7m3uIzlZI3UMjD2IINeCSf8n1xf8AYlH/ANKTQebjf+XX+OJS028+y/tQfF7/AGrDQv8A0VdV6B/bH+1XkWo3n2X9qT4sf7Vhof8A6KuK6f8Atj/aqfaW0OLE1eWrJHbf2x/tUf2x/tV8bft+Xmm33wHmtpNIsdS8Q6nfW2kaJLc26SS2808q7jEx+ZCY46721+Bfwr8N+D7ezuvCHh+CHTbIRy6s1nFBcKI05mNyqhw/8RfdR7Qz9p7qk3ufRn9sf7VH9sf7VfJP7Efj7xP4q+Dct14hu7zUrKLVLmDQ9Q1Isbm605QvltIT1r6A/tj/AGqHUsTOq4ScW9jtv7Y/2q5X4lfFiz+G/hv+0biKS+vLm4jsdN02D/W3t3K2I4E+vdv4V+aqf9sf7VeFTeIj4+/a+isHdn0vwFoH2tYe39o3rMof8LZaPaBCrzb9D6f0fWL/APsu1/tRrb+0vLH2hbTd5Kydwm75iKc3iyyXUEsGvYFvpE80WvmDzWQdwn3sV4j8evjSfhF8M9S1yCL7ZrEhWz0mz/5+L6U7YUryX42WY+DfwH0a/N4NQ8bReIdJvZtal/4+L2/a6jEz/Qxb4wn8MXy0e0LjUcra76H1hr3izUP7c0bTtGvdHS4acT6la6hI32j7CFYM8KL/AB79i7m+WoviN481Pwb4Zl1zTtN/tqHTz599Yx7vtD2o/wBYYfWRfvBP4vu1836pq1l/w1NpyMsu3Q7L7cq/L9ov7/UGa3U+8Vva2z19A/2x/tUe0Jdbltc6fQfGmn+JtFsNX0m8ivtNvoFubW6gbcksbrkEVf8A7Y/2q+Vv2a/ER8L+Ivid8NPMX7L4U1zz9Oh/55WF6n2mGMeyszrXuf8AbH+1R7QUqvK7XOi/Yu/5NL+EX/Ys2P8A6JWvaK8X/Yu/5NL+EX/Ys2P/AKJWvaKo+lCiiigAooooAKKKKACiiigAooooAKKKKACiiigAoorF8ZeKrDwL4V1XxDqcnl2Gm273MrDrhRnA9yeB7mgmUlFOUtkaF9fW2mWslzeXEdrbRjc80zhEUe5PSvBv2dfG/h248XfFG2i17TZbm98Vzz20KXsTNPGYogGQA5Ycds1F4L+EFx8cIbTxv8VhLfi7xc6V4TMrLY6bC3MZdBjzJiCMs30x6eY/s+/BfwV8QPiJ8cdJ13w7Z3Vjp+v+TZRxr5LWiefdjbEUwUH0oPn62IrzrUHCCSk3a71+FvXTTT18z7WorwDwPqmu/A74lad8PfEGq3Gv+FdcWRvDmsXrbriCRAC1nM2Pm4+43fpXv9B7NCsq0XpZrRrsworwvWv20PhRofiJtIl1+SeRG2SXVrbPLbo3oZAMflXs2j6xZeINLttS066ivbC6QSw3ELbkkU9CDQFLE0a7caU02t7MvV5H+1h/ybt43/68x/6MSvXK8j/aw/5N28b/APXmP/RiUGeN/wB1q/4X+R6jpf8AyC7T/rin/oIq3VTS/wDkF2n/AFxT/wBBFW6Dsjsj55/Ya/5Itc/9hq8/9CWuz/aE/wCQB4a/7D9r/wCgyVxn7DX/ACRa5/7DV5/6Etdn+0J/yAPDX/Yftf8A0GSvVyn/AH2l6/ofPL/kUx/wo5r9p6TyvFXwLf8Au+N3/wDTLqldT/aVcV+1pJ5et/BF/wC742b/ANM2p1N/an+1VYOl7Sm35m2PrezqJeX6nTap4mttH0+4v7yXyLW2jMssm1jtA9hXnmm/tVfDLWJrmGw8XWt7NavsuI7aOWQwt6MAvBrU1TxNb6Ppt5f3kvlWtrC08sn91EXJavnj9hNp/wDhS+qeNdSHkX/jbXdQ8RXLN/CHlZR/6LrqlRfMorqcUaycHJ9D6g8I/FLw34+tZ7jw5r2n61HA/lzfYbhZGgf0kA+ZD/stW/8A2lXxj4dmu/iN+2o3jzwkdvg3R9AOkatrUHFvrFyXYiKM/dm8vdHl/avp/wDtT/apwo8ybsKpW5Glc6/+0qw/F3xCsvBunxXF15k9xdTraWVjBtM15cP0hjBYc/xH+FVR2asz+1P9qvItH1o+Nv2lvEMs7q1j4H0y2srSH+7eXqtNPJ9RAsKj/Zd6cqFreZMa/Nd9j6LXVCyru+Rqr33ii10v7P8Aap1i+0zLBF/tyN0ArkNU8UWei6fcX+o3kFjY2yGWa6uZFjiiQdWcn5QK8q8QfGbSNU8WeHLpbXV20HSo7nV5dSXS5tikRfZ432bd5jKzzNvVdtDoqI41nLY+jf7So/tKuI03xNaaxp9vf2F1FeWNzGJYbiCRXSVGXIII6g1Y/tT/AGqr6uR9ZNPwn8QrPxZb3nlCS01CxnNpfafPt86zmCqdj49VZGVvusro1bn9pV84+MNdbwR+0N4J1SA+XY+Lra50HUl/heeCNrmzkPuFW5jr1/8AtT/aqY0L3XYqWItZ9yL4CTfaP2gvja3+xoX/AKSzV1Pwl/5Kh8Uv+v22/lJXDfs0zfaPjz8bm/2ND/8ASeeu5+Ev/JUPil/1+238pKzorlo4xf3Y/wDpcT6KhLmpQZ574R1D7J+0F8ef+wzpf/pmsq9E/tr/AGq8Xt777L+0b8dP+wxpn/pms66z+2P9qtsNh+ejGRhUfvsu+Pvjt4P+GEcUvivX7fQ4pBuWa73BPTrWYv7TXw82xPL4tsbOGXGy4vma2hbPT95IoWvnT9tDUh40h+Gfw1B3p4r8TQfa4/71jb/PPXrfxg+JmheDfAerS64sV8tzbyQQaPt8yXUpGXC28cf3pC1V7B3l2ROll5nt8evJNGrpKrRsAysrZVgaf/bX+1Xy9+yD4a8S/DX9n7wxoHiuVv7XgWRhaync1rG7s0cRPstey/2x/tVrDDOUVJq1xN2djvP7a/2qwbr4kWkfi618OW6yXmpSQfa7hYGXbZwfMEkl9N7LtVfvNWC2tBVZmdVVa8m/Zr1x/EXgm+8cXTK2oeL9RuNUZv7tqHaK1jHssEaUPDe8o2Dpc+hte8cad4X0m61TVr2LT9Ptk3S3EzYVaxtN+Mnh7VLPWbiK/lg/seMS6hDd2s1tNboU3BzDIivgqvDba+cNU8XD4qftRReG5f8AkW/h7aRardxs3yz6rP8A8eu/2ji3yD/aqDS/FUWvftjeNoEi+3afpvg3T4L2HaHD3C3Us8P4hZay9jrp3sOx7037TXgZdJ1HUv7Xnaz0ySSLU5F0+5P9nPG/luLkCL9zj/brqvFXxAg8J6G+r3EUs+nwYkupoPmaCDvMR/Ei/eO3+Gvj/wD4QbxG37Ktr4cvNNmXWPFmqLfeKfIXfcQRXl75922wfM7iJvKr6O0XXru+0eB9RtVsZpQWNnuU+UhZtiPjK7wv3tvy7qcMPKW66A7LY9It/EUV5bxXFvPHPbyoJEkjbcrg8ggisXx9rG7wL4jXd/zDbn/0U1eD/s+6/JosfjPwLLJ+78Ja1JZ2P+zYTRx3Nqn0RZfKH+ylegeONY3eC/EC7v8AlwuP/RTVaw/NG9hXs7Hs37Nf/Jufwr/7FTSv/SOKvSK81/Zp/wCTb/hT/wBinpP/AKRxV6VXyh6gUUUUAFFFFABRRRQAUUUUAFFFFABRRRQAUUUUAFFFYXjbxdYeAvCWreItTcx2Gm27XEpHUgDhR7k4A9yKCZSUU5S2Rp3+oW2l2sl1eXEdpbRjc80zhEUe5PSvCP2cfG3h268SfE+1h13TZbu98X3dxbQpexu88ZihAdFByw47ZqLwX8Hbj41R2njb4sCTUZLsC40zwr5zrY6ZC3KbkGPMlIxlm+mK8w/Z9+Cvgr4hePPjhpOu+HrO5tNP8RNDZJEpga0TzbkARFNrIPpQfP1sRXnWoyhBJSbtd6/C3rpp5b+Z9q0V4B4D1XXvgn8StP8Ah34i1S41/wAM63HI/hzWr1t1xFJGAXtJm74Byjdxx9PfiwXrQezQrKtF6Wa0a7P+tV5C0V4Xq37aXwo0XxC2ky6/JKyNskvLe2eS2RvQyAV7PpWq2euabbahp9zHe2N1GJYbiFgySKRkEEdRQFLE0a7caU1JrezLteP/ALXH/Juvjb/r1j/9HR17BXj/AO1x/wAm6+Nv+vWP/wBHR0GeN/3Wr/hf5HrNp/x6w/7q/wAqnqC0/wCPWH/dX+VT0HYtjyX4E/8AIY+I3/Yx3H/oRqf4N/8AIzfEf/sOSfzaoPgT/wAhj4jf9jHcf+hGp/g3/wAjN8R/+w5J/Nq+ux3xYz0p/wDtp5tX+PQ9Zfkz1OiiivkT0wooooAKKKKACiiigAooooAKKKKACiiigAooooAKKKKACiiigAoornPHPxC8O/DbRW1XxLqtvpNgG2CScn5m/uqBkk+woJlKMIuUnZI88/Y+/wCTdfCn+9e/+ls9ezV85/sVfEjw1rXwj0bwxaarC+v6f9qkuNPOUlRXupXUhT1GHFfRlBw5fKM8JScXf3V+QUUUUHoHjP7J3/JKZf8AsNan/wClclezV4z+yd/ySmX/ALDWp/8ApXJXs1Bw4H/dafovyCiiig7gooooAKKKKACiiigAooooAKKKKACiiigAooooAKKKKACiiigAooooAK+Mfid4aufF37C3x/0uziaa5/trxXOsaclvK1i5nx+S19nV5J+zXh/B/iwHBH/CbeJQf/BvdUAc/eeJLNv2EZtdMo+wt8ODd+Z22HTN38qd+xrpI+Hv7HXw1i1rFitp4divLr7Rx5SOpmYt9A1dF/wzP4N/sEeGf+Jj/wAIQLj7T/wiX2s/2bu379mzG7yd3PkbvK/2KqftHyHxFoPh/wCGtqcTeONRXS7pY+NmlxqZtQJ9A0EbQ/71wlAGJ8EbHxxZ/sy+DY/CKaTYX8qtcWFr4kjlaKz0qSWWSzt2ETBvMjt2t4/T5TXlrx/F7/hrSMG48Ff8Jh/wi5w32e7/ALP+zef6eZ5nmZ/CvsuONIY1RFCRqMBV4AAr58k/5Pri/wCxKP8A6Umg83Hf8uv8cTxhLrxVZ/tFfE1fGUujya21jo2W0OOZbbZ5U+OJWJrrP7W965b4tXn2X9qz4kf7WmaL/wCi7is+41aVreVYHSKbYdjSLvCnsSAwyK82rU5ZtHzWYVuXFTXp+SPLfjtcH4jftEfCTwUs0kdrphuPE160LfNH5Q22z/8AfYqL9pe5/wCEJh8GahdapqHiXTb7XrfSrvwzqlwXtL+OXdklF27iu3hX3JTtD+G3iPTfjBd/EC78V6ZfXt5ZppslmuhyRrFaq6sUiP2k7Sa0PjP8O3+KI8K3dvex22oeG9Xh1e3jnVmhuNjbjG2PmXP96j2qutRLFU4zhHm0S19T3qHUIrG1SKIRwW8SBUjXaiIg6ADsBT11xWZVWVfmG5fm+8K8O1jWNOtbyyg8ZatH52pXElzDpq7zZbIIWYo+V27EX94XbbuauB+B+m+H9U0Xw5r15BIuuXmrajq9jbwyFPscLyzqIyg+7Eitt2fdV3qefS5zqXuObf8AWv8AkfWH9re9eDfBPUi37SXx+nlb981xoyf7WxbNtteif2xXj+hzf8In+1B4mLfLF4v0S1vYpP4Xnsy0LoPcI6NRGpox0a94zV+n6p/kan7RET+O/jJ8FfCU1xLBpcmo32tXDQyFHWSzhUwsCP8Aaesf4peEf+Em+N3wx8H2+raxq9rY3Z8T6tHqWoPPFFDb8QcH+/KzrXd+MNBfXtc8Oa9ZXEVrrGhzTNbtPHviljmi8uSM4YMM/IwaneEfDsXhvUNW1e6uP7Q8Qau6te323YrInEcMabjsjRei0e2VjSOMUYxs9k1823r9xuax+0l8OPD+uXumap4x0nT9UsX8me3u5hG6MQp712Hh3x1pvizR7fVtG1GDUtNuQWhurZt6OA2Dg14r4ym0jTbzSPD1nZQRal4lvrjfdeWplijCtPczZPf+Ff7rOld7ps1po+n29hZQR21nbRiKGGNcKiKuABSdRWMZ1oKKavdnB+A9SNv+2J8UTE3yz6Hpby/7TqrAV7z/AGt7181/Bu5/tb4ofFjxgv8Ax76hqkGkWvuLOHy3Yexdnr1/+2Kcqmo69e00r7Jfkjuf2UY/je/7NPwybQLr4fR6MfD1n9jTULa/acR+UNocrJgnGOgr1fyf2h/+f34Zf+Aeo/8Ax2k/Yt/5NL+EX/YsWP8A6JWvaK9Q/QDxjyf2h/8An9+GX/gHqP8A8do8n9of/n9+GX/gHqP/AMdr2eigDxjyf2h/+f34Zf8AgHqP/wAdo8n9of8A5/fhl/4B6j/8dr2eigDxjyf2h/8An9+GX/gHqP8A8do8n9of/n9+GX/gHqP/AMdr2eigDxjyf2h/+f34Zf8AgHqP/wAdo8n9of8A5/fhl/4B6j/8dr2eigDxjyf2h/8An9+GX/gHqP8A8do8n9of/n9+GX/gHqP/AMdr2eigDxjyf2h/+f34Zf8AgHqP/wAdo8n9of8A5/fhl/4B6j/8dr2eigDxjyf2h/8An9+GX/gHqP8A8do8n9of/n9+GX/gHqP/AMdr2eigDxjyf2h/+f34Zf8AgHqP/wAdryn9qKL4zr8E9fPie58DyaAGtvta6Lb3aXO3z48YMrlcb8V9e1keLPDGn+NPDep6FqkXnafqFu9tMnQ7WGCQexGcg+ooOXFUnXoTpLeSa+9HyssH7XLKpW80d1I4ZUsq8k+CsPx1Pjb4lr4Kn04a2uqf8VA0wtiDc+bP9zf23ebX0X4T+K2p/s9W9v4O+KUN0NHtNttpPjK3t3ltbmEfLHHPt3GOUAY54PFeXfs+/HTwR4A+Ifxr1bVdZX7PrGvefpot4nlkvVM12R5aqvPWg+PqU6PtqPPXmnd35pax91/8NfZ9DK+JFt+0Mur+Ah4yutGcN4nsRpeVgIW9+fYW8lQ/l9d1e0/ErTP2g774f+I7aS78BzRS2Fwjpo9rfJeMpjOVhLSkbzyBn1rW8B6B4j+LPxHs/iJ4t0qbw7o2jxyReG9BuvluVaTh7qcfwuV+UJ2HP193oPewWG9yq+aTU9nLe1rX/wAvI/EVlKttavvH9lDTfjXafBnTz4cn8JW+iTTTS2cfiS3u3uAhbgjynC7C2cfjXY/Eb4PeCr79prwCs/hrT5I9VtdSub2LyV8u5ljWIo8iYwxHvX0jb28VnAkMKLFDGoVI0GFUDoAKVjyMmymWDxNSrKd+X3dOt0meP+T+0P8A8/vwy/8AAPUf/jtec/tDQ/Gpfgt4rPiS88Bvof2Qfal0q1vluSvmJ9wvKV/Ovq2vI/2sP+TdvG//AF5j/wBGJTPpsb/utX/C/wAjNsYP2gvsNtsvfhns8pcf6HqHoP8AprU/k/tD/wDP78Mv/APUf/jteuaX/wAgu0/64p/6CKt0HZHZHxh+yhD8XT8Lrj/hELnwVHpX9qXWV1y3vHn87K7uY3C7c12nxSh+Ly6XpP8AwlVz4Kktf7Tt/sp0e3vEcXOH2GTzHK7PWtX9hr/ki1z/ANhq8/8AQlrs/wBoT/kAeGv+w/a/+gyV6uU/77S9f0PnY/8AIpj/AIUeC/tDH4n23iL4QSeOrjwjNpo8WN5I8Ow3Uc3nf2TqH3jK5XZjP6Vv/wBqf7Van7bsnlR/B1/Txr/7iNSrzv8AtT/ar2cnpc9CT8/0R5eeVfZ4iK8v1Zw/7Y3j2Xwv+zt4tW1Zmv8AVYl0i2jX7ztcFYmH/ftnqab4PfD3wv8ABQaPr/hvSbqy0nRQl5dfZUE7eTD88glC7g/y7t1UPiJ8J9E+KF5ay65qWsSw2d1He2trBfNHDBOi4SQAL1rrWsbS48Oy6Jfyy6rZzwSW1x9uk3vPG6sGDkY6q1en9UlKcpSWlrI8r67GNOMYyd73f4HOfsf+PNY8Vfs4+DNS8Q3v2nUZY5oFmk+/Kkc0iR599kdduvx28FNr2qaIvijT/wC1tN/4+rPzvnU7sYH98hvlKrXn/gf4d6R8LdB06ytdR1PUNH0NJpNPsbnZJ9n37iSmxA7vtkdRWFZ+NLy+8WWFrf8AgvWIryOfz9Ns2tUGnWSM3NzLOjMhm/2fvL91VqY0Z04QjLfTzKlWhVqTnHbV9j6N/tT/AGq8d+Ct8bX4qfGyKX5bhvEFrP8A9s3sINldl/an+1Xms0x8E/GxtZ+7pPi6yhsbiT+GK/t9xgz6CSKR1/3kStamHs4y7P8ASxhSxF1OPdfqn+Rb+J19N44/aH8AeDdR/wCRXtLC48SXFq3+qv7iF40gjf1ETN5u2uybxxp/h+88eeL9WulttL0xIrJpm+60NvE0pI999y8dZfi7R9I8QfY9RvXksb7SC09pqltJ5c1nlcOQfQr1RlZWrlvA/gm01Dw3o174hur7XJpD/ay2eoMgt4LiV/PLeXGqq5V24Z1bb/DUfVpqbst9f0NfrUJQV3tp+NzB+D3g/wCJ8PwT+H2m6P4kj8CTbL7ULvz9NS+8qOabfbWpjdkYYSWvRvg3deOZNS1m88SeN4fFmhq32bT5IdHisPNkRv3knDuxQN8oql8YPFOp6J8LfFV7occ1xq8Wmz/ZEt1Z5BMUYIwUelavgdU8P+CfD+lojQLY2FvbLG33l2RKuKUMIozUVfRefp6BPGuVNzdtW+i9d9+pkftCXxuvEHwdgi+a6/4Te2nVV+95aWl2ZK9h/tT/AGq8GuLg+NvjZp94jN/ZPg63m3Sfwy6hcIq7B/1zg6/9d69J/tT/AGq0p4e7lLz/AK/EyqYi0YR62/N/5E/wVb4h3Xxs+L7eA7jwxGdujfbP+EiiuZP+Xeby/L8lgMYrtvAsfxePjLxqNEufBK6wLqL+121CC8aAybX2+QFcMBjP3qy/2M5vtHxm+Nzf7Ghf+iLivW/hL/yVD4pf9ftt/KSvAtyxxq8l/wClwPv8DLmwtJ+R8vaVf+ILH46fGJPFUmmNr/8Aaem/am0cSra/8gq02bFkJb7tdb/bX+1XEfEK++y/tRfGv/sI6X/6abKql9ffbrOe3W4ltvNQr50DYdPcGvqMsw/Pg6crdDOs/fZ5vqZs/ih+2QYNQtoNQ0jwX4dw0NwgkRby6b/41/Kq/wAX7jS/h18dPhBP4QsLXQ9c1rUpLO/+wwrGl1YAL5glVeGI3blNbPhP4Y6N4L8Val4h07UtXbUtTkV9Qa5vjIt0VDBN4K9t3FXvHHgjSfHOteHtZuJ7mw1rQJ2nsb6zZN6bxh0KurKwNN5dVdOTt7zlf5XX6B7RXXY9b1TxxYaPGr3Vx96TyljjUySu+3dsRFUsTt+bav8ADWXo/wAYvDHiC+s7PTtbt7y4vEaS38tmIl2KpcIehdVblfvLXlWqa8fBN5DBYaHqWualPa3Uq6t5YffcHy8RykYUF2VP7qKqVl/BGGPRfBvhTTZdGkXUNN00td319atDLBdTMsk0cZdQTufezMtb+yk6igl/Wn+bI0tc958UahLeeGdXt7f5riW0mRF9yjBa4r9mvXIj8Afh8sTfKui2sf8AwJY1DVd/tj/arzv4Q3R8Fx6t4KnOxdKupZ9PZv8AlrYzu0keP9xmeI1pLC8tWL6NNfPR/oxKXumd8FfCnhjWtU+MHibxloulandHxjqEf2rV7OKbyLSBVEfLqdoC0vwFmtvhz4C8dfE3+xDCnia9Oo6foul2wjkFip2WUKRj+J8102oeB9H1K61RpZbr+z9VnW51DS1kUW13IqquZBt3crGisqttb+Ja6ptQiaNYmSNo1IZV2/KpVsj8qwp5Y420s1f731LdQytJ/aaj1LXNJ0uXwD440ybUrgW0U2oaSkMSnqSSZegVXY16r/bX+1XhPgHxgPGXibxVrLMrR6bfyaJZf7CRCMzH6tL1/wBlErstS8UW2k6fcXt5OsFrbRtLLM33URVyTW1HDuUOeTuvuIk9bIx/hrqh/wCF/fGSdW/csdGi/wBnzFtGJ/8AHWSvRPGWsbvCOuLu/wCXG4/9FNXkXwjjurHR9U1nUUkg1LxHqMurzW8vDwI4VIIz7rFGin/arpfFmsbvC+sru/5cpv8A0BqVLCfubtb3f3tscpanvPwAh+OrfAn4bto958O49HPhvTfsi3tpftP5P2SPZvKygbsYziu+8n9of/n9+GX/AIB6j/8AHa2/2Y/+Ta/hN/2KWk/+kcVemV+UvdnsnjHk/tD/APP78Mv/AAD1H/47R5P7Q/8Az+/DL/wD1H/47Xs9FIDxjyf2h/8An9+GX/gHqP8A8do8n9of/n9+GX/gHqP/AMdr2eigDxjyf2h/+f34Zf8AgHqP/wAdo8n9of8A5/fhl/4B6j/8dr2eigDxjyf2h/8An9+GX/gHqP8A8do8n9of/n9+GX/gHqP/AMdr2eigDxjyf2h/+f34Zf8AgHqP/wAdo8n9of8A5/fhl/4B6j/8dr2eigDxjyf2h/8An9+GX/gHqP8A8do8n9of/n9+GX/gHqP/AMdr2eigDxjyf2h/+f34Zf8AgHqP/wAdo8n9of8A5/fhl/4B6j/8dr2eigDxjyf2h/8An9+GX/gHqP8A8dryb9qKH40L8GdZbxPdeCJNBEtr9qXRre7Sfb9oi28yuVxv2/pX2BWL4x8K6f448Lap4f1WPztP1K3e2mXvtYYyPcdR7ig5cVSdehOlHeSaPloW/wC10VBF5o7D2SyryX4Lw/Hc+NPiSvgufTxrC6qf+EgaYWxU3XmTfc3+++vorwj8WdS/Z/trfwf8VYrpdMtMW+leMoYHltbuEcRpNt3GOUAYweDxXl/7P/x48FeAfH3xp1TVdYBg1jxCZ9NjtYnnlvVM1yR5aqDmkfH1adH21HnrzTu73lrH3X/w1+vQyfiJD+0Kmv8Aw/Xxjc6Mzt4ls/7LysLKLvnaX8lQ/ldd2K9l+KGm/tBX3w58S20134FlilsJ1kj0a1vlvGTYcrCXlI3kZAz61teAfD/iT4qfEa0+I/i7S5vD2l6TFJF4b8P3XFxH5gxJdXA/hkK/KE7DmvdqZ72Cwv7ur70rT2cnra1r/wCXkfiJX3p+yrpvxts/g1pf/COzeELbQ5ZJpbOPxHb3b3KoW4x5ThdhbOPxrrviB8HvBN5+094HSbwxp8kWpWOoXd7GYV8ueVAhR5ExhjyetfSdvBHawrFEixxIAqIowAB2FKx5GTZTLB4ipVlO/L7unydzx7yf2h/+f34Zf+Aeo/8Ax2vNv2jYfjSvwV8VnxLeeA30T7Mn2pdJtb5bkr5qfcLylc19YV4/+1x/ybr42/69Y/8A0dHTPpsb/utX/C/yKlvB+0J9nj23vwz+4Mf6HqP/AMdqTyf2h/8An9+GX/gHqP8A8dr2C0/49Yf91f5VPQdi2Pl74Zw/F3+0PFw8OXXgpbgatMNU/tW3vGVrr+Iw7HGI/rUvgCL4vHWPFn/CPXXgpLwai41X+07e8aJrnLZMGxwQn+9XoXwJ/wCQx8Rv+xjuP/QjU/wb/wCRm+I//Yck/m1fW434sX6U/wD2082t/HoesvyZl+T+0P8A8/vwy/8AAPUf/jtHk/tD/wDP78Mv/APUf/jtez0V8kemeMeT+0P/AM/vwy/8A9R/+O0eT+0P/wA/vwy/8A9R/wDjtez0UAeMeT+0P/z+/DL/AMA9R/8AjtHk/tD/APP78Mv/AAD1H/47Xs9FAHjHk/tD/wDP78Mv/APUf/jtHk/tD/8AP78Mv/APUf8A47Xs9FAHjHk/tD/8/vwy/wDAPUf/AI7R5P7Q/wDz+/DL/wAA9R/+O17PRQB4x5P7Q/8Az+/DL/wD1H/47R5P7Q//AD+/DL/wD1H/AOO17PRQB4x5P7Q//P78Mv8AwD1H/wCO0eT+0P8A8/vwy/8AAPUf/jtez0UAeMeT+0P/AM/vwy/8A9R/+O0eT+0P/wA/vwy/8A9R/wDjtez0UAeMeT+0P/z+/DL/AMA9R/8AjtHk/tD/APP78Mv/AAD1H/47Xs9FAHjHk/tD/wDP78Mv/APUf/jtHk/tD/8AP78Mv/APUf8A47Xs9FAHjHk/tD/8/vwy/wDAPUf/AI7Xx5+20vxFXxd4fHj2XR5F+xP9ibQUmS1zv/eZErE+ZjH4Yr9Kq5rx18O/DnxM0U6V4l0qHVbHdvWObIKN/eVgQVPuDQeXmeDljsNKjGVn/kfld+zq2rr8cvBH9ib/ALd/akOdv/PLP77Pt5e/NfrtXnfw1+APgT4S3E114Y0CKwvJVKNdSSPNNtP8IZySB9K9EoscmT5fPL6MoVJXbd9NkFFFFB754z+yd/ySmX/sNan/AOlclezV4z+yd/ySmX/sNan/AOlclezUHDgf91p+i/IKKKKDuCiiigAooooAKKKKACiiigAooooAKKKKACiiigAooooAKKKKACiiigAqra2dvYo6W0McEbSNKyxqFBZiWZjjuWOSferVFABVWSxt5r6K6eCN7qFGSKVlBdFbbvAPYHaufpVqigAr54k/5Pri/wCxKP8A6UmvoevniT/k+uL/ALEo/wDpSaDzcb/y6/xxPn34/wB59l/au+IX+1pmj/8Aouaua/tT/ar6/wDiZ+x/8Pfix44uvFmt/wBuwazdQQ280ml61c2aSJGCEBWJwOM1zP8Aw78+Ff8Az8+MP/Cs1D/47Xm1cNKpNyTPGxmUVsTXlWjNJP8AyPmb+1P9qj+1P9qvpn/h358K/wDn58Yf+FZqH/x2j/h358K/+fnxh/4Vmof/AB2s/qc/5kcf9g1/+fi/E+Xry4ttQWJbq3iuVicSJ58avtcdCM96Lea0s5p5be3igmnO6aSONQ0p9XI619Q/8O/PhX/z8+MP/Cs1D/47R/w78+Ff/Pz4w/8ACs1D/wCO0fU5/wAyD+wcRt7RfifM39qf7Vct4+0ebxJb6fe6dLHa+INHuPtmnXEn3N+Nrxyf9M3RnU19hf8ADvz4V/8APz4w/wDCs1D/AOO0f8O/PhX/AM/PjD/wrNQ/+O0LBzTvzIqOR4iD5lUX4nzBY69LdWcEs8ElnNIgZ7eRlLIfQkMVqb+1P9qvpn/h358K/wDn58Yf+FZqH/x2j/h358K/+fnxh/4Vmof/AB2j6nP+ZE/2DX/5+L8T5C1TQYdW8daD4ne8lWbSbe4t4rfHyP52zJP/AHxVvxdrGsSaLLb6HtXUrr9wl023Zaq3WYjvt7L/ABNX1l/w78+Ff/Pz4w/8KzUP/jtH/Dvz4V/8/PjD/wAKzUP/AI7T+qVNLyRf9iYm6bqJ29fU+UPCen2Xg3w3YaLp277LZxhFZuXc9S7Hu7N8xatb+1P9qvpn/h358K/+fnxh/wCFZqH/AMdo/wCHfnwr/wCfnxh/4Vmof/HaX1Ob15kS8ixEnd1Ff5nW/sW/8mk/CH/sWLD/ANErXtFYPgPwTpXw18F6L4V0KF7fRtHtI7K0ikkLssSKFUFjyeBW9XrH2wUUUUAFFFFABRRRQAUUUUAFFFFABRRRQAUUUUAFFFFAEMkaTRsjqrxsMFW5DA1j6N4F8OeG7qW70nw/pel3Uv8ArJrKyjhd/qyqCa3qKCXGMmm1qgooooKPGvHf/Jzfwr/7Busf+gQ17LXjXjv/AJOb+Ff/AGDdY/8AQIa9loOHDfxK3+L/ANtiFeR/tYf8m7eN/wDrzH/oxK9cryP9rD/k3bxv/wBeY/8ARiUDxv8AutX/AAv8j1HS/wDkF2n/AFxT/wBBFW6qaX/yC7T/AK4p/wCgirdB2R2R88/sNf8AJFrn/sNXn/oS12f7Qn/IA8Nf9h+1/wDQZK4z9hr/AJItc/8AYavP/Qlrs/2hP+QB4a/7D9r/AOgyV6uU/wC+0vX9D51f8imP+FHlv7eknlaX8In9PGo/9NOo14t/alfZnxl+B/hj476HpmleKVv/ALPpt8NRtZdNvpbOaKcRSRBhJGwb7sr9+9eY/wDDAvwx/wCf7xp/4V2of/Ha78szSlgaTpzg227/AJGGa5PVzCtGrTmkkra+rf6ngP8AalH9qV79/wAMC/DH/n+8af8AhXah/wDHaP8AhgX4Y/8AP940/wDCu1D/AOO163+sOH/59v8AA8X/AFZxP/P1fieA/wBqUf2pXv3/AAwL8Mf+f7xp/wCFdqH/AMdo/wCGBfhj/wA/3jT/AMK7UP8A47R/rDh/+fb/AAD/AFZxP/P1fieA/wBqVW1JrbWLGezvIlntZRteNq+h/wDhgX4Y/wDP940/8K7UP/jtH/DAvwx/5/vGn/hXah/8do/1hw+zpv8AAP8AVnEraqvxPn9r5Wj8pvmjYbWVudwp39qV79/wwL8Mf+f7xp/4V2of/HaP+GBfhj/z/eNP/Cu1D/47R/rDh/8An2/wD/VnE/8AP1fieA/2pR/ale/f8MC/DH/n+8af+FdqH/x2j/hgX4Y/8/3jT/wrtQ/+O0f6w4f/AJ9v8A/1ZxP/AD9X4nzxpf2bR7FLOziWC3jztX5jyWySWPzElvmLNVn+1K9+/wCGBfhj/wA/3jT/AMK7UP8A47R/wwL8Mf8An+8af+FdqH/x2hcQYdaKm/wH/q1iXq6q/E4n9hibzvix8bm/2dD/APRNzXtnwl/5Kh8Uv+v22/lJVz4M/s7eD/gPNrs3hhdTa51swNez6rqU19JJ5IZY/mlZiAA7d+9U/hL/AMlQ+KX/AF+238pK8eNZYiGNqxVk4r/0uB9rhKMsNQp0ZO7irHxf8aL77L+1Z8Zv+v8A0v8A9NNlWL/bXvX2V8Qv2Kvhr8TPHWseMNYXX4ta1cwtePpuu3VpFIYoliT93G4XhEArB/4d6/Cb/np4v/8ACsv/AP47Xt4DiLD4TDQoTptuK8gqYeU5OSZ8p/2170f21719Wf8ADvX4Tf8APTxf/wCFZf8A/wAdo/4d6/Cb/np4v/8ACsv/AP47Xf8A614X/n1L8DP6rLufKf8AbXvR/bXvX1Z/w71+E3/PTxf/AOFZf/8Ax2j/AId6/Cb/AJ6eL/8AwrL/AP8AjtH+teF/59S/APqsu58p/wBte9Vbi4trq6tbqWNWuLYlopOjLuXBH0P92vrb/h3r8Jv+eni//wAKy/8A/jtH/DvX4Tf89PF//hWX/wD8dpf61YR70X+AfVZdz5T/ALa96P7a96+rP+Hevwm/56eL/wDwrL//AOO0f8O9fhN/z08X/wDhWX//AMdp/wCteF/59S/APqsu58feH7HTPCtvdQaXb/Zo7q6lvJl3Md0sh3Oeat31xbalHEl0izxpIsqq33d68gkd8NX1t/w71+E3/PTxf/4Vl/8A/HaP+Hevwm/56eL/APwrL/8A+O1K4pwaXKqLt8h/VZb8x8p/2171meJNY3eHdWXd/wAukv8A6A1fX/8Aw71+E3/PTxf/AOFZf/8Ax2mSf8E8fhJNG0cj+LXRhgq3iq+x/wCjaJcVYWUWvZS/AX1WXc9N/Ze/5No+Ev8A2KOkf+kUVenVkeEPC2neBvCei+HNIiaDStIsodPtI2cuUhiQRopJ5OFUc1r1+bPc9IKKKKQBRRRQAUUUUAFFFFABRRRQAUUUUAFFFFABRRRQBDJGs8bI6h42GCrcgg1j6L4G8OeGrmW60jw/pelXMv8ArJrKyjhd/qyqCa3qKCXGMmm1qgooooKPGvGn/J0Xw1/7A+q/yir2WvGvGn/J0Xw1/wCwPqv8oq9loOHD/HW/xf8AtsQrx/8Aa4/5N18bf9esf/o6OvYK8f8A2uP+TdfG3/XrH/6OjoHjf91q/wCF/kes2n/HrD/ur/Kp6gtP+PWH/dX+VT0HYtjyX4E/8hj4jf8AYx3H/oRqf4N/8jN8R/8AsOSfzaoPgT/yGPiN/wBjHcf+hGp/g3/yM3xH/wCw5J/Nq+ux3xYz0p/+2nm1f49D1l+TPU6KKK+RPTCiiigAooooAKKKKACiiigAooooAKKKKACiiigAooooAKKKKACiiigAooooAKKKKAPGf2Tv+SUy/wDYa1P/ANK5K9mrxn9k7/klMv8A2GtT/wDSuSvZqDhwP+60/RfkFFFFB3BRRRQAUUUUAFFFFABRRRQAUUUUAFFFFABRRRQAUUUUAFFFFABRRRQAUUUUAFFFFABXzxJ/yfXF/wBiUf8A0pNfQ9fPEn/J9cX/AGJR/wDSk0Hm43/l1/jifQ9FfNOvTeN/HH7QPj7Q7D4na74O0TQbPSmtrLR7LTZQzzxytIztc20rfwitD/hWPjr/AKL/AON//BdoX/yvqlFs7ZVIxdmz6Gor55/4Vj46/wCi/wDjf/wXaF/8r6P+FY+Ov+i/+N//AAXaF/8AK+nysXtodz6Gor55/wCFY+Ov+i/+N/8AwXaF/wDK+j/hWPjr/ov/AI3/APBdoX/yvo5WHtodz6Gor55/4Vj46/6L/wCN/wDwXaF/8r6P+FY+Ov8Aov8A43/8F2hf/K+jlYe2h3Poaivnn/hWPjr/AKL/AON//BdoX/yvo/4Vj46/6L/43/8ABdoX/wAr6OVh7aHc+hqK+ef+FY+Ov+i/+N//AAXaF/8AK+j/AIVj46/6L/43/wDBdoX/AMr6OVh7aHc+hqK+ef8AhWPjr/ov/jf/AMF2hf8Ayvo/4Vj46/6L/wCN/wDwXaF/8r6OVh7aHc+hqK8v/Zf8Xav4/wD2dvhx4l1+8Ooa1q2hWl5eXRjVPMleJWZtqgAcnsK9QqDYKKKKACiiigAooooAKKKKACiiigAooooAKKKKACiiigAooooAKKKKAPGvHf8Ayc38K/8AsG6x/wCgQ17LXjXjv/k5v4V/9g3WP/QIa9loOHDfxK3+L/22IV5H+1h/ybt43/68x/6MSvXK8j/aw/5N28b/APXmP/RiUDxv+61f8L/I9R0v/kF2n/XFP/QRVuqml/8AILtP+uKf+girdB2R2R88/sNf8kWuf+w1ef8AoS12f7Qn/IA8Nf8AYftf/QZK4z9hr/ki1z/2Grz/ANCWuz/aE/5AHhr/ALD9r/6DJXq5T/vtL1/Q+dX/ACKY/wCFHqdFeIftM614ls7r4XaP4b8VX3g+TxB4oOm3mo6db2003kjTr242KtxFInL28fasr/hV/jv/AKL/AOOP/BdoX/yvrzYwctj35VIwdmz6Eor57/4Vf47/AOi/+OP/AAXaF/8AK+j/AIVf47/6L/44/wDBdoX/AMr6r2UiPb0+59CUV89/8Kv8d/8ARf8Axx/4LtC/+V9H/Cr/AB3/ANF/8cf+C7Qv/lfR7KQe3p9z6Eor57/4Vf47/wCi/wDjj/wXaF/8r6P+FX+O/wDov/jj/wAF2hf/ACvo9lIPb0+59CUV89/8Kv8AHf8A0X/xx/4LtC/+V9H/AAq/x3/0X/xx/wCC7Qv/AJX0eykHt6fc+hKK+e/+FX+O/wDov/jj/wAF2hf/ACvo/wCFX+O/+i/+OP8AwXaF/wDK+j2Ug9vT7n0JRXz3/wAKv8d/9F/8cf8Agu0L/wCV9H/Cr/Hf/Rf/ABx/4LtC/wDlfR7KQe3p9z6EryX4S/8AJUPil/1+238pK5/9nvV/FcfxK+KHhbxF4y1Lxna6GdLexudVtbSGaITwO8in7PDEp5A7Gug+Ev8AyVD4pf8AX7bfykr1MGrYbFL+7H/0uJpdSs0etUV8wTN468f/ABv+K2nW3xW8ReEtF8PX9hZ2Om6PY6ZIgEmnW07ktcWsrkmSY962f+FZ+O/+i/eOP/BdoX/yury1SnJXSE6kU7M+hqK+ef8AhWfjv/ov3jj/AMF2hf8Ayuo/4Vn47/6L944/8F2hf/K6n7GfYXtYn0NRXzz/AMKz8d/9F+8cf+C7Qv8A5XUf8Kz8d/8ARfvHH/gu0L/5XUexn2D2sT6Gor55/wCFZ+O/+i/eOP8AwXaF/wDK6j/hWfjv/ov3jj/wXaF/8rqPYz7B7WJ9DUV88/8ACs/Hf/RfvHH/AILtC/8AldR/wrPx3/0X7xx/4LtC/wDldR7GfYPaxPoaivnn/hWfjv8A6L944/8ABdoX/wArqP8AhWfjv/ov3jj/AMF2hf8Ayuo9jPsHtYn0NRXzz/wrPx3/ANF+8cf+C7Qv/ldWZ4m8C/EDQ/Der6lb/Hrxq81naTTokunaIVYojHH/ACD6PYz7B7WJ9M0VxPwP8Qah4s+C3gDXNWuPtmqan4fsL27uNoXzJpLeN3bAAAyzE4ArtqxNQooooAKKKKACiiigAooooAKKKKACiiigAooooAKKKKACiiigAooooA8a8af8nRfDX/sD6r/KKvZa8a8af8nRfDX/ALA+q/yir2Wg4cP8db/F/wC2xCvH/wBrj/k3Xxt/16x/+jo69grx/wDa4/5N18bf9esf/o6OgeN/3Wr/AIX+R6zaf8esP+6v8qnqC0/49Yf91f5VPQdi2PJfgT/yGPiN/wBjHcf+hGp/g3/yM3xH/wCw5J/Nqg+BP/IY+I3/AGMdx/6Ean+Df/IzfEf/ALDkn82r67HfFjPSn/7aebV/j0PWX5M9Tooor5E9MKKKKACiiigAooooAKKKKACiiigAooooAKKKKACiiigAooooAKKKKACiiigAooooA8Z/ZO/5JTL/ANhrU/8A0rkr2avGf2Tv+SUy/wDYa1P/ANK5K9moOHA/7rT9F+QUUUUHcFFFFABRRRQAUUUUAFFFFABRRRQAUUUUAFFFFABRRRQAUUUUAFFFFABXLfDvx5D8QtI1K+gtpLUWOs6jo7LIfvNaXctszj2Yxbh9a6mvkPxV48v/AIY/sZfHXxNpk7WmqWeveLPss69Y5X1a6iRh9CwP4UAfRa/GLwU2sf2aPEunm5+1fYA3m/uTdf8APt5v+r87/plu3+1SeLPiDD4R8YeDdFu7WQ2/iW5uLGG+BASK5SBp44293SKbHumO9eQ3fgHSx+wDL4YWBPsK/D4gcf8ALQWG8S/73mfP9ayvA1xr37Q37DHgvX4ZvtfjhdEs9XsLmTkyatZlZI2b/fmhw3sxoA+oK+eJP+T64v8AsSj/AOlJr2fwB40sfiN4H0HxRphb7BrFlDfQq33lWRA20+4zg+4rxiT/AJPri/7Eo/8ApSaDzcb/AMuv8cTMtLz7L+1F8XP9qw0L/wBFXVd3/bFeT6zefZf2pPit/tafof8A6KuK6H+1P9qs3OzscOKq8taSHfFj436Z8HPDUviDWrDVLrSLdC9zc6fbiYW6hlGZPmFY9j+0daX2h2utr4P8Xro9zAtyl0uk+Y3kuu4P5cbNLXgX7d3iaLUPhj4e8DNeLZ/8Jj4hsdLuJmkCCK2WTzZJCT2G1K9P1j4/eD/D9mthomo23ibWFgP2Lw/4fkW6uZ9q4ACJnYn+2+1Fp+0ZHP7ikle57D4N+JmhfELw3aa/4c1S21fSLwbobq2bIPYr/skd1atr+2K+Xv2TPhvrXwf+G99b+JJ4/wC3dc1W41q7s4DuhtGl2/ulr2r+1P8Aape0MpVoxk0ndHb/ANsV5j8ZvidqVjeeG/BHhm6W28WeLJ5IYrrqdOs4l3XV3g91X5U/23Stf+1P9qvBPA+uN4s/bG+JN/L8y+FdB03RLX2+07rmSj2hUKt7vsfU2kyW+g6Ta2Fu8rW9rGIla5maaUhe7uzFnJ7s1cGv7R2hTLZ3sVrfS+GbrUo9Ih8SKsX2KW4d/KTb8+8xmX5BIq7WavGv2xvipP4V+GNnoNjqK6Vf+MNSh8Pi+ZsfZIJv9fP+CVw/7R/xM8HX3wh8K/D7wLq2nXs93rmj6VYWWmzhzBHFPG6kew8r9aftGaQk5pN9T6V8TfErw5rnxO8IeGb211Vrr7fc3Om31tdGO2e6trdjMJAjhnRVl2ncrJvrqPiNY6n4m8MyxaHqjaL4gtW+16Zebm8pbhOglQf6yJvuuleO33hvxHcfHpvFatA2nx6VbabY3DN/x6R/aGmvQYz1km220YZf4a9T/tT/AGqXtDOVdK1mTfCL4vRfFPwDp2vi2bTryTzLa+09my9ndxO0U8B/3XWux/tivk74I64fDv7Q3xz8KR/LYveWHiC2X/ppc2yi5P8A33HXvX9qf7VHtBTq8sv66nXfsXf8ml/CL/sWbH/0Ste0V4v+xd/yaX8Iv+xZsf8A0Ste0VofThRRRQAUUUUAFFFFABRRRQAUUUUAFFFFABRRRQAUUUUAFFFFABXN+OviF4e+Guhyav4l1WDSrFeBJMSWdv7qKPmY+wGa6SvnP4T+GYPjx431T4peJEXUdKtb2aw8K6fL80EEET7TdbT1eRlP0AoOPEVZxcadJe9Lvskt2/T9TzzxR+1HoutfHfwFrlh4Y8UXNlp9jfhI003/AEi6SaMfvIU3ZdR5fWvpL4Y/Gzwh8XrWV/DmqLPcwf8AHxYzqYrmD/fjPIryD4i/8n5fCv8A7Ad1/wCiryuq/aI+GYXTpfiT4WVNL8deHEa/ju4Vx9thjXMlvMB99WQEflSi7nj0JYmi61TmUlGWqtZv3Y6rX8Ovc9yryP8Aaw/5N28b/wDXmP8A0YlegeCfFFv428IaL4gtFKW2qWcV5GjdVDoG2n3GcfhXyb+2d+1Bp1nZ698MdK086hdzRLFqF8z7UtzlX2KP4mwBTO7McTSpYOc5y0kml53Wh9h6X/yC7T/rin/oIq3XgP7MX7UGn/HK3n0i4sP7H8Q6fAsj24kDxzxDC+ZGfTJHFe/UHbhsRTxNJVaTumfPP7DX/JFrn/sNXn/oS12f7Qn/ACAPDX/Yftf/AEGSuM/Ya/5Itc/9hq8/9CWuz/aE/wCQB4a/7D9r/wCgyV6uU/77S9f0PFX/ACKY/wCFHL/tRyeT4o+Bkn93xs//AKZtTro/7W/zmuQ/a4k8rWPgk/p42P8A6Z9TpP7UrTBUvaU2/P8AyNMwq+zqpeR02peIv7N0+4uvInvPKjMnk2y75Xx2QdzXlfhP9rHw/wCN77XLTQ/D3irULjRbw6fqKx6SR9nuF+9GSW6it7xJ4wtvC/h3VNZvX22em2st3M3okaMxr5k/Yy+IfhfwL8BP7d8UeKtF03WPEmqXviDU/td/HEwmml2jq3dVSuuVK0lE44VeaDlufVHgv45eGvHWtX+iWV1c2fiDT4xLd6LqlrLaXsUbdJPLkUMY/wDbXctdn/a3+c18h+H9A1r4oftV2vxW+x3WieEdA0Q6RpzXkTQXGryOWLyeWwDCEeZxv9K+jP7UqoUXJXaJqVlFpJnYf2t/nNcx44+JkfhNdNs7eD+0Ne1ic2mmafux5sgVmd3IU7IkVdzvVb+1K8g8H6z/AMJd+0l481OWVpIfCunWeg2S/wAKSXA+1XTD3P8Aoy05ULWXcmNa932Po1dWO1d7Lu/i21R1bxhbaPJpyT+Y0l9dC0hjj5ZnKs35BY3Y1xHiz4haR4H0OfV9bvVsbGIhWkZWdmdmwiIi5Z3ZvlCr8zV5xrHxI1vVvGmkXS+DdTl0/R7SbVHs/OhF9vk/cwyCHft5j+1YRmVqUqSjoONZy16H0d/a3+c0f2t/nNec+E/H2l+OPDena9ol4t9pOoQie3uF3DcD7HoR3Wtb+1Kv6ut0ZvEWdmWfBvxKHiK61bSb2JbHxFo8iRahZqzFcOuY5oyesTr0b/fWun/tb/Oa+b/iRrD+E/j18L/EED+XDrRu/DGof3ZVaFrm2/FZIHUf9dHr2D+1KiNC7a7FyrWs+4v7P9x9o/aA+Nrf9M9C/wDSaaut+Ev/ACVD4pf9ftt/KSuC/Zjm8747fG5v9jQv/Seeu9+Ev/JUPil/1+238pKwpLlpYxf3Y/8ApcT6TDy5qUGea+Gb/wCyftC/Hf8A7DOl/wDpmsq9A/tr3rxz7d9l/aO+Of8A2FtL/wDTPZV0/wDbH+1XXhcPz0YyMaj99mH+0N+0ZcfAHwn/AMJLL4ak1/SVkigfyL5YZvMkfaiJGVO+rmpfGLxvoOly6nf/AA0up7OCMyzQ6TrFvc3aoFydkbbFc/7KtXzv+1h4ii8S/Ez4MeCJVnns5ddOv6hDbW7zt5VouQpRAWYMWNd54++P0l1I/g/wfZ3UvjjVbSX+z/7ZtZdOtouxmLXCo0gT7xWJWak6K5pJvbT5i6LQ90+Hnxb0L4peDtN8T+G79dQ0a/jLwzbWVuGwylT90hl2la6T+2vevnz9nz4Z2nwG+FOk+ELW7N/Ja75rm76eZM7bnKjstej/ANsf7VdEMLLlTktSHJX0O8/tr3ri7H4mXPib4hX+jaRtXSfD+F1a+ZcrLdOm5LWL3VWSR2/20WqF94mi02xuLyd2WGCNpXb2VcmvL/2W76T/AIUjoOr3H/IQ18za7dyN8zPNdTNN/wCgsi0nhveUQvpc9n+IXxcsvANrpyPE+oaxq90LHStJgbEt5OVzj2RVV2Z2+VVrDs/jffLr/iTw1qOiIvifS9Pt9Tt7LT7pp4r2CZpETDmJWGJYnVty/wC1XzhpvxSi8Q/tZeLdXv7XV9Q0jwXYJoelLpumT3iJc3G2S7kPlqdsnypFVz4Z+MpfiN+1d8RfEenRT21lo3hyy8Pp9vtngfzXeS4+aNwG9a5/ZqTVurt+Zpsj1Cb9qzV4fhj4w8a/8Ivbf2X4VvryyuWbUCq6gba4aIm1xEcg/wC1/FXr/irxBrMPh97zQYo59SgxOtjc8LdAcmDP8Bbs/wDC1fOsfwVuLX4E+FfAC6pFdSaZd2l9qHnqwh1SSO5+0zI/8QR5a9b0O8udN0uCC9vW1C85aa427FZ2ZmOwc4Qbtqj+Fa2jhZvSS6EOS6HY+DfiNp/jzwvpviDS3kaxvoRKiyLsdOxSQdnVvlZf4WqPx5rG7wP4i/7B1z/6LavA/gjrQ0P4gfFvworn7NY67Hq1tH/Ci30Ec7j/AL/+c1eieNtY3eDdeXd/y4XH/opqccPzQv6/hoJ6M9y/Zp/5Ny+FX/YqaV/6RxV6RXmv7M//ACbf8Kf+xT0n/wBI4q9Kr5A9UKKKKACiiigAooooAKKKKACiiigAooooAKKKKACiiigAooooAK5nx58RvDnwy0N9X8S6pDpdipwrSklpG/uooyWPsBXTV85/CHwvb/HbxfqXxX8TRjUdOjvJbPwpp8/MNrbRPtNxt6GSR0PPYCg48RVnFxp0l70u+yS3b/DTzPPPEn7Uui6t8e/A+uWfhjxTcWVlp16iwppo+0XaSqMSwpv+ZB5Z596+lPhh8a/CHxetJZfDmqLcXEH/AB8WMymK5g9njPIrxr4h/wDJ/Xwu/wCwDc/+ir6us/aK+Gv2TT5PiZ4TRNL8ceG0a/FzCuBfW6LmW3mA++pQH34pJ3PGw88TSdao5KSjLVWs37sdVr+HXue6V4/+1x/ybr42/wCvWP8A9HR16P4N8TW/jTwno2v2islrqlnDeRq3ULIgYA+/NfI37Z/7UGnRWev/AAw0mwN9cyxrDqGoNJtS3bcr+Wo/ifAFM7syxVKlg5znLSSaXm2tD7LtP+PWH/dX+VT14L+zL+1Bp3x2t7nTJrD+x/EFhCsslqJPMjlizgSRt3GcV71Qd2HxFPE0lVpO6Z5L8Cf+Qx8Rv+xjuP8A0I1P8G/+Rm+I/wD2HJP5tUHwJ/5DHxG/7GO4/wDQjU/wb/5Gb4j/APYck/m1fXY74sZ6U/8A205av8eh6y/JnqdFFFfInphRRRQAUUUUAFFFFABRRRQAUUUUAFFFFABRRRQAUUUUAFFFFABRRRQAUUUUAFFFeNftGftH6Z+z/otk0lk2ra1qG77JYq4QEKPmd2/hUUGFavTw9N1artFCfsnf8kpl/wCw1qf/AKVyV7NXwt+yR+1hZadqFp4F13ThaLqWozPbalG4K+dPIXWJx2PPWvumg8/K8TSxGFh7N35Uk/UKKKKD1wooooAKKKKACiiigAooooAKKKKACiiigAooooAKKKKACiiigAooooAK+TdY+HV98Wv2Qfjb4R0yL7Rqupa/4sjtIs43zjVrqSNfxZVFfWVeYfs+6LqGh+FfEkOo2c1jLN4u8QXcaTrgvDLqlzJFIP8AZZGVh7GgDzG4+KulP/wT/bXxPGbh/Bf9lCyx+9/tQ2n2f7F5fXzftH7rZ6+1dd8D9KX9mj9kPwxB4oH2U+E/DIutUUHJjaOIyzKPcHcK9Q/4QHwx/wAJB/b3/COaT/bm7f8A2l9ii+07sYz5m3dnHvXE/HDQ9R8d6j4H8HQWU8uhahrEeo67dqmYks7PFwsLN6y3C2ybe6ebQBk/DP4N6m3wE8PeH9W1rWPCet3Ekms6g/h65W2lt7q5mluZrZCVYCJJJ3UL6KK8bk+C8q/taReHP+FgeNct4X+1/wBsf2pH/aH+vYeV5nk/6vv0r7Pr54k/5Pri/wCxKP8A6Umg83G/8uv8cTxKTw63w9/aK+JelHXtY8Qt9h0Z/tuuXSz3JzFP8pcKtdR/bH+1XM/GK8+y/tWfEf8A2tN0X/0XNWVcahHdW8sMvzRyoY3X+8DXmVqnLNo+YzCry4qa9PyR5x4q1I+PP2yvCNjzJY+DNCudVf8Aui4uG8oL/KoP2wvEjQt8Kbew/c69ceMLNbS+X78I6PhvfcgK1v6b8MfBWj60ur2Xh6zttU3iT7ZGrCVivIye9bHizQ9F8cWdva61ZJfR21xHd27bmR4J1+5JG6sGRx/eWo9sroyWMhGpB9ErHdap8QrLS5GgVpLy+8xYFs7bmV5HXcE5wo+Vdx3N8q1zOi/H7RNc1SysILXU0kuL+40lpGt/kgu4VYyQuQx6eX99dyVzOpXmo+FZtLi8OaHFqVnLLNJqEk15/pAJj+Rw8jfOS2xSzNuVaw/g3aeIPCHhfTtG1G0SG4hnurvU755EkF3LLNI+YsNuwWfdl6PaK1zNVIcjb/P1PoD+2P8Aarwj4M339n/tKfHmB/8AWTzaNcr/ALSNaNXoH9qf7VeU61cf8IX8ftJ8Rs23TfFGnf2JdN2S7iLS2xP+8u+OlGpuhUa91OPdflZ/odJ8VreTVv2jPgneSrusbH+2ZP8AZ8820fl0msg/Ff8AaF0WVWZvDvw/jknlk/gm1ScYSP38qL5j/dZ66LXLXT/EUMEV/F5vkSCeGRZGjlikCsN8bqwZDtbbuWpdJ+xaDYxWWnW8Vnax52wwLhclsk/Ut8xaj22g/rloq26Vvxf6MuN8Ur/VpvELaDBp95HoM7W1xHd3jRvLIkSyEcKfLHzcM33q6fw74yg8TeH9L1e1WSK31C1iu4lnXDqjorAEetfKWufDW2+KmpeKfF1rrJ8J+I4rybT3WBR9nlgt2ZQt/GeJxIqo/wDuOlew+AfHF3rHw90bWdZii0+6lsY57pVbESfLkkZ6J/EKqU1bQqrKMYpxevXy/wAzG8A35uv2u/ipdp/q7TRtKtJf991aQV7r/bH+1Xzt8C/Mul8U+N7hWW48W6kby33cN9hjCxWufqi7q9S/tT/aqZVNbEV6/v8AL2SX3LU9F/ZQ+As3iD9mn4ZamnxN+IGkrd+HrOUWWn6vGlvBmIHaimE4HPrXq/8Awzbcf9Fe+Jv/AIOof/kek/Yt/wCTSfhD/wBixYf+iVr2ivXP0M8Y/wCGbbj/AKK98Tf/AAdQ/wDyPR/wzbcf9Fe+Jv8A4Oof/kevZ6KAPGP+Gbbj/or3xN/8HUP/AMj0f8M23H/RXvib/wCDqH/5Hr2eigDxj/hm24/6K98Tf/B1D/8AI9H/AAzbcf8ARXvib/4Oof8A5Hr2eigDxj/hm24/6K98Tf8AwdQ//I9H/DNtx/0V74m/+DqH/wCR69nooA8Y/wCGbbj/AKK98Tf/AAdQ/wDyPR/wzbcf9Fe+Jv8A4Oof/kevZ6KAPGP+Gbbj/or3xN/8HUP/AMj0f8M23H/RXvib/wCDqH/5Hr2eigDxj/hm24/6K98Tf/B1D/8AI9H/AAzbcf8ARXvib/4Oof8A5Hr2eigDxj/hm24/6K98Tf8AwdQ//I9H/DNtx/0V74m/+DqH/wCR69nooA8Y/wCGbbj/AKK98Tf/AAdQ/wDyPR/wzbcf9Fe+Jv8A4Oof/kevZ6KAPGP+Gbbj/or3xN/8HUP/AMj185fAv9k3TvH/AId1S3vPGWuaRreh6ncaZqGn2ci+XDIj8FfZlxX3pXivxL+EPiKz8ZN8QPhrf2+neKXiWHUdLvB/oerRr90SY+7IvZqDx8wwsa7hUnDnUb3XWztqvNWWh8u+Kv2YLLRf2lvBngJfFeszQ6vps10dSd1+0QsqXJAQ/wDbKu3+Kn7IOgfDb4e674kvPiD4jeOxtXkWKSVAsr4xHH+LYH41F4l134pah+0V4O8cXnwe1dbzRNPmsnsrWdZoJndJ1DC5ClFH73vXq2lfC/xz8ZPFGma/8U47PRtA0yUXNh4OsZvPUzD7slzJ92QjnAHFSvM+fpYTD1Pawp0W5OXu3UkkrLV3ts76bsofCr9ma/t/hx4aW7+JHxB0S5bT4Xl03T9VihgtnZQzRqhhJXaTjrXyX+0x+zz4p+G/j7UrxYNW8RaHfyfaItamVrmWRm5dZ3VVAfd09a/UeiqPexuV08Zh4Ydyty2s/RWPzy/ZF/Zl8T+ItVu/Emq3/iHwPpy25itLrTJBaXdwWPJBeNv3eK+pv+Gbbj/or3xN/wDB1D/8j17PRQdWAwUMBQVGDv5nxh+yj8F5vGfwvm1BfiD418PKuqXUQtNE1OOGA4IG8qYm5Ndp8UvgvN4Q0vSbhviD421/7VqkFp5es6nHMkO4P+9jAiXEi44Nav7DX/JFrn/sNXn/AKEtdn+0J/yAPDX/AGH7X/0GSvVyn/faXr+h5kf+RTH/AAo8D/aK+Fcvw5174Q6i/jfxd4pWXxabf7P4h1FLiFM6VqB3qojX5uMfjWv/AGpW5+3FJ5Nv8Hn9PGuf/KRqVeaf2lXuZLS56En5/ojys9rezxEV/d/Vnnn7aHjSfSfgDrWm2POp+IZrfRLRf7zTvhl/79q9d5qEOj/D/wCC9xpd1aRX2g6HoRgltZI8pLBBb4II91WuW8UfDXwf421Bb/XtDt9VulcOklyzHY6jAKDdwa6OzhsrHSV0uKBfsKoYvJk3SKyHqDuzmvWWElzyk7aqyPFeNh7OMF0d3+Bw37GPia4h/Zp8ArrGoNNd3Qnt7Xzm3OwWaUxxr9Io67lvj1o0etXWmtYa4rRyeRb3TaTN9mvZg2DHbybdrmud8N+C/D/w9sV/sHS5Vjs45fslit1LIkW9txSFJH2R7mrnbHUvHLeLonv/AA1ayzSkMutf2kslpp0Bb54Y4SqyGQr1b+Jv4qzjQnShCD3Vls2ayxNOtUnNbO73SPoD+1K8h+Dd4dN+LHxns5f9c+tWl8P9qOWwiA/9FvXX/wBpV51rTHwb8VIPFqf8gnWLSPStWZfuwSRuzWtw/t+8eIn/AG0raph7OMrbP9LGFHE3UoX3X5NMn8e3MuuftQ/Dez1Q/wDEhsdL1DU9Pjb7k+pLtT/gTJE7stdLffEiw8H2/jXxhqLNJGtwum2UMfMt15K7UgjHeQ3Ml0oWl8UQ6XrWlt/a9mt5b2p+0p8rebE6L9+Mj5kcdmX5q574d+DdM0PRdIvbyyafXlg82W4vppbmWCeX95N5ZkZtmXZ87az+qyjN8vXX8EjT65BwTl00/Fs4bRtT1n9nT4I+AF8VW+oNon2q5ufEn9jyFZrKS5kaWMfIwJiR32tsr1f4L+OIPFy69qmh6tLq/guWeNdJmubhp5d6pifBdi4j3dFesLxdHf8A/CceHPEC2Umtabp8F1E9jGyb4J5PL2XSBmCkhFeP+8qvVH4c+Ebfw3428Ua/puk/8I5pusR2ytpvyhZbhGmL3RjRiqFlkRazhhZQqKK+Fafhvft+ppPGQqU3J/E9fx2t38+33mt8fLxtU8UfB7ToPmuv+ExivV/65wWdy0hr1/8AtSvDLORvG3xYTxC27+xfDVvNY6fJ/DcXczKLmQeyLGkQb+8716J/aVdFPD3cpd2c9XE2UYdl+b/ysXPgd8PZPiV8avi4yeLvE/hX7GujH/inb1LYT7reb/Wbo2zjbXdeA/gxLr3jLxrpy/EDxrpjaVdQxm90/VI0nvMiTm4YxHewrI/Ytm874wfG5v8AZ0P/ANE3NevfCX/kqHxS/wCv22/lJXzjjyrHLyX/AKXE/QsBLmwtKXkfK1npP/CC/Hb4xaMdX1PXGt9S00fb9YnFxdS50q0b53CiukuPEEVnC8888cEMY3PJI2FUe5Nch8Sr77L+1J8af+whpf8A6abKqc2pRXULxTqssMg2tGy5VhX1mV4fnwVOS7GdZ++zy/wR4x0vx/8AtheLdbTU7O5t/Dui2+i6ftuAVmklZppGj/vEfvFNWf2j9cuL740/AjS0Vo4W1yW+N1/tRBf3efdWru7eHS7WZJYNOtYJo/uyRQoGWnaxHpniC3S31SwtdTt43Eix3cKTKrjoQG71t/Zk3SlBvVu/43t+hPtFe51E3xEN1M1vo1m2p3XnyRbpGaG3Xy9vmEybW4DN5fyqzbq5zwD8cLvx9/Yl1b+GryDR9VhuGXUGkV1geFlUh/Zm+VG+81c34iXxCzWtn4cvNN0rR/sU1s8LQsrRO20RyR7eyfP8ny1D8NdL1Twb4d0PRrmW1gsdJ06OxSO0Zn+0OqqGmcso2fd+7V/VqrqKNnb006f8EV1Y9h1y4/tjRb+w37ftVvJBu/u71YVwX7NniA3HwG8Dq3ytb6ZFZuvo8P7lv/RdXv7a964fwiz+A/EmraQo/wCJHqt3JqGmyL0ilf5p4D6fNvlX/fernheWpGdtNV99rfkJPSwz4T+IrX4V6f8AF291Q7rx/GV/efZ4vmmuPPWGS2jjHcyKyBav+AY7v4H/AAf8TeK9at/tPijUnufEWsRq28LO/Pl8fwRrXQyNYSakl+9nbNfRp5aXTQr5qj0D/exWL8SPEmp2fgvUZdJ8z7VmJWaCPzHihaVRNIic5dYmdgtY/UPZQcv5U7f5+v8AXUrn5nbudBpPxOuJta8LLZ67pvijS9e8795p8OPJCRtJ56EO37rcqRFW+ZWdK9B/tj/ar5N8P+FfDng7x7oWp/DPUljW8mEWs6TaXH2m2mtxGx8+T5j5cit0Ney+IPGH9h6XLcJBJeXH+rt7WP788h6IP/ivurVYejJxk6nR9NVstnuErX0KvwxvDcfGj4v6yjf6LJd6bpqt/eeCzVn/APR9egeMNY3eEdbXd/y4zf8AoDV5p8O9Lfwb4bW3uJY59Uup5dQ1K4j+7LdTP5khHsPur/s1peKtY3eF9XXd/wAuU3/oDVdPBuNJ8y11f36kuWuh9Dfs/wD7P82tfAf4caiPij8RNOF34b0y4+yWWsxJBDutIzsRTCcKM133/DNtx/0V74m/+DqH/wCR62v2Yf8Ak2n4S/8AYo6R/wCkcVem1+RvdntHjH/DNtx/0V74m/8Ag6h/+R6P+Gbbj/or3xN/8HUP/wAj17PRSA8Y/wCGbbj/AKK98Tf/AAdQ/wDyPR/wzbcf9Fe+Jv8A4Oof/kevZ6KAPGP+Gbbj/or3xN/8HUP/AMj0f8M23H/RXvib/wCDqH/5Hr2eigDxj/hm24/6K98Tf/B1D/8AI9H/AAzbcf8ARXvib/4Oof8A5Hr2eigDxj/hm24/6K98Tf8AwdQ//I9H/DNtx/0V74m/+DqH/wCR69nooA8Y/wCGbbj/AKK98Tf/AAdQ/wDyPR/wzbcf9Fe+Jv8A4Oof/kevZ6KAPGP+Gbbj/or3xN/8HUP/AMj0f8M23H/RXvib/wCDqH/5Hr2eigDxj/hm24/6K98Tf/B1D/8AI9H/AAzbcf8ARXvib/4Oof8A5Hr2eigDxj/hm24/6K98Tf8AwdQ//I9H/DNtx/0V74m/+DqH/wCR69nooA8YP7NtwRj/AIW78Tf/AAdw/wDxivnL4E/sm6f8QfC2oRXnjLXdH1vRtRuNM1HTbORfLglR+i+xXH5196V4l8SfhD4k03xtJ8QPhnf29h4lmjWHUtJvh/oeqouQu/H3XA6NQePmGFjWcKk4c6je662dtV5q2x8v+Kv2YbPRf2mfBvgJfFOszQavpkt0dSd1+0QsqXJAQ/8AbIV2nxZ/ZE0D4Z/DrXvEd58QPETLZWrtHFJMoWWQjEcf4tgfjTPEmtfFLUP2jvCHjm7+D2rrd6Lpsti9lazrLBK7JOAwuQpRR++7+letaP8AC/xx8XvFOmeI/iotnpGi6ZKt1p/g6wk89BMPuyXMn3ZCOwHFSkfPUsJh6vtYU6LbcvdupJJWWrvbZ303KXwx/Zl1C3+HfhuO7+JPxC0S7/s+FptNsdWiihtnMalokUwkqFORjPrXyL+0p+z14p+G3j7UrsQ6r4h0W/mNxDrUwa4lkZuWWZ1X/Wbq/UmiqPfxuV08Zh40G7cuz+Vj89f2Rf2ZPE3iDUr3xJqt94j8DWAgMNpdaZKLS7udzZJG+Nv3eK+o/wDhm24/6K98Tf8AwdQ//I9ez0UHVgcHDAUFRg7+Z8vfDP4Ly+JtQ8Wxj4heNtIbTtXmtDJpWpxxNd7T/rpsxHc59an8A/BmXxJrPiy3X4g+NdJOm6k9qZtM1SOOS7wW/eTsYjvf3r0D4E/8hj4jf9jHcf8AoRqf4N/8jN8R/wDsOSfzavrcb8WL9Kf/ALaRV/j0PWX5My/+Gbbj/or3xN/8HUP/AMj0f8M23H/RXvib/wCDqH/5Hr2eivkj0zxj/hm24/6K98Tf/B1D/wDI9H/DNtx/0V74m/8Ag6h/+R69nooA8Y/4ZtuP+ivfE3/wdQ//ACPR/wAM23H/AEV74m/+DqH/AOR69nooA8Y/4ZtuP+ivfE3/AMHUP/yPR/wzbcf9Fe+Jv/g6h/8AkevZ6KAPGP8Ahm24/wCivfE3/wAHUP8A8j0f8M23H/RXvib/AODqH/5Hr2eigDxj/hm24/6K98Tf/B1D/wDI9H/DNtx/0V74m/8Ag6h/+R69nooA8Y/4ZtuP+ivfE3/wdQ//ACPR/wAM23H/AEV74m/+DqH/AOR69nooA8Y/4ZtuP+ivfE3/AMHUP/yPR/wzbcf9Fe+Jv/g6h/8AkevZ6KAPGP8Ahm24/wCivfE3/wAHUP8A8j0f8M23H/RXvib/AODqH/5Hr2eigDxj/hm24/6K98Tf/B1D/wDI9H/DNtx/0V74m/8Ag6h/+R69nooA8Y/4ZtuP+ivfE3/wdQ//ACPR/wAM23H/AEV74m/+DqH/AOR69nooA8Y/4ZtuP+ivfE3/AMHUP/yPR/wzbcf9Fe+Jv/g6h/8AkevZ6KAPGP8Ahm24/wCivfE3/wAHUP8A8j186ftb/st+JbGx0zxDomr+J/HqW6vDdrq84vLqFDllMaoi/JnORX3lRQcONwkMdQlQm7Jn5Rfs/fArxT8SPiHowi0q8s9JtbuOe+1GaFo4440KkqpP8Z7LX6u0UUjly3LYZbCUYyu3uwooopnsBRRRQAUUUUAFFFFABRRRQAUUUUAFFFFABRRRQAUUUUAFFFFABRRRQAUUUUAFFFFABXzxJ/yfXF/2JR/9KTX0PXzxJ/yfXF/2JR/9KTQebjf+XX+OJ80ftLeKtM8O/tZePEv9StLFpdL0hgtxMIywEc1cV/ws3w9/0MOmf+Bkf/xVfphrnw38I+KL/wC3az4W0XV73aF+0X2nwzSYHQbmUnFZ/wDwpX4ef9CH4Z/8E9v/APEVw1MKqknLmPOxWTxxVaVVztfyPzf/AOFm+Hv+hh0z/wADI/8A4qj/AIWb4e/6GHTP/AyP/wCKr9IP+FK/Dz/oQ/DP/gnt/wD4ij/hSvw8/wChD8M/+Ce3/wDiKz+pL+Y5f9X4/wDPx/d/wT83/wDhZvh7/oYdM/8AAyP/AOKo/wCFm+Hv+hh0z/wMj/8Aiq/SD/hSvw8/6EPwz/4J7f8A+Io/4Ur8PP8AoQ/DP/gnt/8A4ij6kv5g/wBX4/8APx/d/wAE/N//AIWb4e/6GHTP/AyP/wCKrM8ReLvB/irR7jS9R1zTJbWcDdtvkBUg5DoQ3DhvmDV+mf8AwpX4ef8AQh+Gf/BPb/8AxFH/AApX4ef9CH4Z/wDBPb//ABFH1L+8NZBGLuqr+7/gn5r2PxG0G1s4Ip/FWm3k0aBWuGuoQzkdyA1WP+Fm+Hv+hh0z/wADI/8A4qv0g/4Ur8PP+hD8M/8Agnt//iKP+FK/Dz/oQ/DP/gnt/wD4ij6kv5hf6vx/5+v7j8y77xN4D1S8+2Xl14evLrAXzp5Ld349zUfijxV4X8WaX/Zt54m09dPlcfaoVvIv9IjHWEnd9w96/Tj/AIUr8PP+hD8M/wDgnt//AIij/hSvw8/6EPwz/wCCe3/+Io+p/wB4pZDZp+1enl/wT83I/iV4bhjVE17SljVdqqt5EFUU7/hZ3h7/AKGHTP8AwMi/+Kr9If8AhSvw8/6EPwz/AOCe3/8AiKP+FK/Dz/oQ/DP/AIJ7f/4il9SX8xP+r8f+fr+7/gnFfsW/8mk/CH/sWLD/ANErXtFVNP0+00exgsrK2hs7SBAkVvbxiOONR0CqOAKt16Z9aFFFFABRRRQAUUUUAFFFFABRRRQAUUUUAFFFFABRRRQAUUUUAFFFFABRRRQAUUUUAFFFFAHzz+w1/wAkWuf+w1ef+hLXZ/tCf8gDw1/2H7X/ANBkrjP2Gv8Aki1z/wBhq8/9CWuz/aE/5AHhr/sP2v8A6DJXq5T/AL7S9f0PnF/yKY/4UeR/8FBdRt9H8O/Ci+u7iK1t4fGYLzTMFVAdK1EZJr56/wCFoeGP+hj0r/wOi/8Aiq/SDxB4W0XxZapa65pFjrNsj+YsOoWyTorf3grgjPvWB/wpX4ef9CH4Z/8ABPb/APxFdOX5s8BSdNQ5ru+/oGZZMsxqqq6nLZW282/1Pz+/4Wh4Y/6GPSv/AAOi/wDiqP8AhaHhj/oY9K/8Dov/AIqv0B/4Ur8PP+hD8M/+Ce3/APiKP+FK/Dz/AKEPwz/4J7f/AOIr0/8AWOX/AD6X3/8AAPJ/1Xj/AM/n93/BPz+/4Wh4Y/6GPSv/AAOi/wDiqP8AhaHhj/oY9K/8Dov/AIqv0B/4Ur8PP+hD8M/+Ce3/APiKP+FK/Dz/AKEPwz/4J7f/AOIo/wBY5f8APpff/wAAP9V4/wDP5/d/wT8/v+FoeGP+hj0r/wADov8A4qmTfErwtcQvFL4g0eWGQFXja8hKsD2PzV+gn/Clfh5/0Ifhn/wT2/8A8RR/wpX4ef8AQh+Gf/BPb/8AxFH+scv+fS+//gB/qvH/AJ/P7v8Agn5+L8TvC6qqr4j0hV/6/ov/AIqnf8LQ8Mf9DHpX/gdF/wDFV+gP/Clfh5/0Ifhn/wAE9v8A/EUf8KV+Hn/Qh+Gf/BPb/wDxFH+scv8An0vv/wCAH+q8f+fz+7/gn5/f8LQ8Mf8AQx6V/wCB0X/xVH/C0PDH/Qx6V/4HRf8AxVfoD/wpX4ef9CH4Z/8ABPb/APxFH/Clfh5/0Ifhn/wT2/8A8RR/rHL/AJ9L7/8AgB/qvH/n8/u/4J+fVv8AEjwpZ26QQeINHghjAVI47yEKAP4QA1Sf8LQ8Mf8AQx6V/wCB0X/xVfoD/wAKV+Hn/Qh+Gf8AwT2//wARR/wpX4ef9CH4Z/8ABPb/APxFH+sUv+fS+/8A4Af6rx/5/P7v+CfL/wCwDrdlr/xO+Nt1YXlvew40NfMt5Q65ENz3Fe8/CX/kqHxS/wCv22/lJXofh7wfoPhGKaPQtE07RY5iGkTTrSOAOR0LBAMn61558Jf+SofFL/r9tv5SV59Ot9Yp4yra14r/ANLifW4ah9Vowop35dLnwz8fvF2l6D+1p8Y4b7UrOzka90tlWeYIf+QTaVy3/CzPD/8A0HtM/wDAyOv1D1j4Y+DvEWoSX+q+E9D1S+kxvurzToZpWwMDLMpPAql/wpX4ef8AQh+Gf/BPb/8AxFelguJJYPDwoKkny9b/APACeGU5OVz8yf8AhZnh/wD6D2mf+BkdH/CzPD//AEHtM/8AAyOv02/4Ur8PP+hD8M/+Ce3/APiKP+FK/Dz/AKEPwz/4J7f/AOIrt/1tn/z4X3/8Aj6ov5j8yf8AhZnh/wD6D2mf+BkdH/CzPD//AEHtM/8AAyOv02/4Ur8PP+hD8M/+Ce3/APiKP+FK/Dz/AKEPwz/4J7f/AOIo/wBbZ/8APhff/wAAPqi/mPzJ/wCFmeH/APoPaZ/4GR0f8LM8P/8AQe0z/wADI6/Tb/hSvw8/6EPwz/4J7f8A+Io/4Ur8PP8AoQ/DP/gnt/8A4ij/AFtn/wA+F9//AAA+qL+Y/Mn/AIWZ4f8A+g9pn/gZHR/wszw//wBB7TP/AAMjr9Nv+FK/Dz/oQ/DP/gnt/wD4ij/hSvw8/wChD8M/+Ce3/wDiKP8AW2f/AD4X3/8AAD6ov5j8yf8AhZnh/wD6D2mf+BkdH/CzPD//AEHtM/8AAyOv02/4Ur8PP+hD8M/+Ce3/APiKP+FK/Dz/AKEPwz/4J7f/AOIo/wBbZ/8APhff/wAAPqi/mPzJ/wCFmeH/APoPaZ/4GR1neIviVoDeH9UX+3tN+a1l/wCXyL+43+1X6j/8KV+Hn/Qh+Gf/AAT2/wD8RR/wpX4ef9CH4Z/8E9v/APEVMuLJyTXsV9//AAA+qLuYn7L3/JtHwl/7FHSP/SKKvTqrWdrBp9rFa2sMdvbwoEjhjUKiKBgAAdAKs18F1ud4UUUUgCiiigAooooAKKKKACiiigAooooAKKKKACiiigAooooAKKKKACiiigAooooAKKKKAPJfgT/yGPiN/wBjHcf+hGp/g3/yM3xH/wCw5J/Nqg+BP/IY+I3/AGMdx/6Ean+Df/IzfEf/ALDkn82r67HfFjPSn/7aeZV/j0PWX5M9Tooor5E9MKKKKACiiigAooooAKKKKACiiigAooooAKKKKACiiigAooooAKKKKACiiigAooooAKKKKACiiigAooooAKKKKACiiigAooooAKKKKACiiigAooooAKKKKACiiigAooooAKKKKACiiigAr54k/wCT64v+xKP/AKUmvoevGfij+zLo3xR8cReKpvEXiHQdUjs1sg2jXawfuwxbrtJ6mg8/GU6k4wdJXaknbbY9mor55/4Y3sf+imfEH/wcj/43R/wxvY/9FM+IP/g5H/xugj2+L/58f+TL/I+hqK+ef+GN7H/opnxB/wDByP8A43R/wxvY/wDRTPiD/wCDkf8AxugPb4v/AJ8f+TL/ACPoaivnn/hjex/6KZ8Qf/ByP/jdH/DG9j/0Uz4g/wDg5H/xugPb4v8A58f+TL/I+hqK+ef+GN7H/opnxB/8HI/+N0f8Mb2P/RTPiD/4OR/8boD2+L/58f8Aky/yPoaivnn/AIY3sf8AopnxB/8AByP/AI3R/wAMb2P/AEUz4g/+Dkf/ABugPb4v/nx/5Mv8j6Gor55/4Y3sf+imfEH/AMHI/wDjdH/DG9j/ANFM+IP/AIOR/wDG6A9vi/8Anx/5Mv8AI+hqK+ef+GN7H/opnxB/8HI/+N0f8Mb2P/RTPiD/AODkf/G6A9vi/wDnx/5Mv8j6Gor55/4Y3sf+imfEH/wcj/43R/wxvY/9FM+IP/g5H/xugPb4v/nx/wCTL/I+hqK+ef8Ahjex/wCimfEH/wAHI/8AjdH/AAxvY/8ARTPiD/4OR/8AG6A9vi/+fH/ky/yPoaivnn/hjex/6KZ8Qf8Awcj/AON0f8Mb2P8A0Uz4g/8Ag5H/AMboD2+L/wCfH/ky/wAj6Gor55/4Y3sf+imfEH/wcj/43R/wxvY/9FM+IP8A4OR/8boD2+L/AOfH/ky/yPoaivnn/hjex/6KZ8Qf/ByP/jdH/DG9j/0Uz4g/+Dkf/G6A9vi/+fH/AJMv8j6Gor55/wCGN7H/AKKZ8Qf/AAcj/wCN0f8ADG9j/wBFM+IP/g5H/wAboD2+L/58f+TL/I+hqK+ef+GN7H/opnxB/wDByP8A43R/wxvY/wDRTPiD/wCDkf8AxugPb4v/AJ8f+TL/ACPoaivnn/hjex/6KZ8Qf/ByP/jdH/DG9j/0Uz4g/wDg5H/xugPb4v8A58f+TL/I+hqK+ef+GN7H/opnxB/8HI/+N0f8Mb2P/RTPiD/4OR/8boD2+L/58f8Aky/yPoaivnn/AIY3sf8AopnxB/8AByP/AI3R/wAMb2P/AEUz4g/+Dkf/ABugPb4v/nx/5Mv8j6Gor55/4Y3sf+imfEH/AMHI/wDjdH/DG9j/ANFM+IP/AIOR/wDG6A9vi/8Anx/5Mv8AI+hqK+ef+GN7H/opnxB/8HI/+N0f8Mb2P/RTPiD/AODkf/G6A9vi/wDnx/5Mv8j6Gor55/4Y3sf+imfEH/wcj/43R/wxvY/9FM+IP/g5H/xugPb4v/nx/wCTL/I+hqK+ef8Ahjex/wCimfEH/wAHI/8AjdH/AAxvY/8ARTPiD/4OR/8AG6A9vi/+fH/ky/yD9hr/AJItc/8AYavP/Qlrs/2hP+QB4a/7D9r/AOgyVs/B34SaX8FfBq+HNHu7y8sxcSXHmXrK0m5yM8qoHb0rG/aE/wCQB4a/7D9r/wCgyV6uU/77S9f0OSpTnRyz2c90lc9Toooryj3goorI8WwapdeF9Vi0W4W01d7aQWkzKGCSbTtODx1pPRF04881Fu1+r2Rr0V8+fsdfGTWfid4S1fTvE10LvxBol21vLMQA8sZ+6zAAdDlffFfQdZ06iqwU47M9HM8vrZVjKmCr25oPps+qa8mtQooorU8sKKKKACiiigAooooAK8l+Ev8AyVD4pf8AX7bfykr1qvLdZ+AWnar4g1PWI/EGuaZPqEnmTR2N0I0J+m2vXwNShGnWpV58qnFJO19pJ/oS79D1KivJf+Gerf8A6HPxX/4MB/8AE0f8M9W//Q5+K/8AwYD/AOJp/VsD/wBBP/kj/wAwu+x61RXkv/DPVv8A9Dn4r/8ABgP/AImj/hnq3/6HPxX/AODAf/E0fVsD/wBBP/kj/wAwu+x61RXkv/DPVv8A9Dn4r/8ABgP/AImj/hnq3/6HPxX/AODAf/E0fVsD/wBBP/kj/wAwu+x61RXkv/DPVv8A9Dn4r/8ABgP/AImj/hnq3/6HPxX/AODAf/E0fVsD/wBBP/kj/wAwu+x61RXkv/DPVv8A9Dn4r/8ABgP/AImj/hnq3/6HPxX/AODAf/E0fVsD/wBBP/kj/wAwu+x61RXkv/DPVv8A9Dn4r/8ABgP/AImj/hnq3/6HPxX/AODAf/E0fVsD/wBBP/kj/wAwu+x61RXkv/DPVv8A9Dn4r/8ABgP/AImj/hnq3/6HPxX/AODAf/E0fVsD/wBBP/kj/wAwu+x61RXkv/DPVv8A9Dn4r/8ABgP/AImj/hnq3/6HPxX/AODAf/E0fVsD/wBBP/kj/wAwu+x61RXkv/DPVv8A9Dn4r/8ABgP/AImj/hnq3/6HPxX/AODAf/E0fVsD/wBBP/kj/wAwu+x61RXkv/DPVv8A9Dn4r/8ABgP/AImj/hnq3/6HPxX/AODAf/E0fVsD/wBBP/kj/wAwu+x61RXkv/DPVv8A9Dn4r/8ABgP/AImj/hnq3/6HPxX/AODAf/E0fVsD/wBBP/kj/wAwu+x61RXkv/DPVv8A9Dn4r/8ABgP/AImj/hnq3/6HPxX/AODAf/E0fVsD/wBBP/kj/wAwu+x61RXkv/DPVv8A9Dn4r/8ABgP/AImj/hnq3/6HPxX/AODAf/E0fVsD/wBBP/kj/wAwu+x61RXkv/DPVv8A9Dn4r/8ABgP/AImj/hnq3/6HPxX/AODAf/E0fVsD/wBBP/kj/wAwu+x61RXkv/DPVv8A9Dn4r/8ABgP/AImj/hnq3/6HPxX/AODAf/E0fVsD/wBBP/kj/wAwu+x61RXkv/DPVv8A9Dn4r/8ABgP/AImj/hnq3/6HPxX/AODAf/E0fVsD/wBBP/kj/wAwu+x61RXkv/DPVv8A9Dn4r/8ABgP/AImj/hnq3/6HPxX/AODAf/E0fVsD/wBBP/kj/wAwu+x61RXkv/DPVv8A9Dn4r/8ABgP/AImj/hnq3/6HPxX/AODAf/E0fVsD/wBBP/kj/wAwu+x61RXkv/DPVv8A9Dn4r/8ABgP/AImj/hnq3/6HPxX/AODAf/E0fVsD/wBBP/kj/wAwu+x61RXkv/DPVv8A9Dn4r/8ABgP/AImj/hnq3/6HPxX/AODAf/E0fVsD/wBBP/kj/wAwu+x61RXkv/DPVv8A9Dn4r/8ABgP/AImj/hnq3/6HPxX/AODAf/E0fVsD/wBBP/kj/wAwu+wfAn/kMfEb/sY7j/0I1P8ABv8A5Gb4j/8AYck/m1dJ8O/hvZfDmzv4LO9vb9r2c3Est86u5Yj1AFc38G/+Rm+I/wD2HJP5tXoYitTxH1upSd4tQ/BxR59ZWr0PV/8ApLPU6KKK+XPSCiiigAooooAKKKKACiiigAooooAKKKKACiiigAooooAKKKKACiiigAooooAKKKKACiiigAooooAKKKKACiiigAooooAKKKKACiiigAooooAKKKKACiiigAooooAKKKKACiivMf2ldD8R+JvgF4+0rwgzjxLd6PcxWIiOHaQocKD6kZH41nUlyQcuxcIqc1Fu1yK4/ae+FlnfG2n8aadEiz/Z2vmL/YllzjYbrb5IbPYvXp0cglUMpDIwyGFfFvwl/bq+FXxG+E8/g7UtBm0nxZa2P9kS/DtrM+ddSbCn2e3j/jU4xg4IFfQv7MvgfXPhr8BfBHhnxLP5+t6bpscFz+83iMgcRhu4QYXP+zW7jbm62tZ9He+33Lq9/vxUr20s9brtt/XTbTy9SoooqCwooooAKKKKACiiigAooooAKKKKAOd8UfELwv4Hn0+DxF4i0rQpdQkMVmmpXkdubhwMlU3kbjjsKrx/FDwdNr1jocXirRZtavgxtdPiv4nnmCruYrGG3EAc9K+d/wBtbwb8PvHXjT4T6P8AEywm1XwzLPqZFja/aWnnnFunlrEtt+8Z89qufsx+H/gB8LvGV54T8BeDJ/APjOa1+0Gy8Q2NzDqN1bg4LxS3BZpIweoRiBjpSh7zaf4en9d9An7qTX9a2/rzPqaiivLPjt+0N4e/Z50GPW/FWm67Nov/AC31HStOa6htfmCjzmB+TJYYobS3Gk3sep0V4xo/7Wnw51r4kaJ4Jg1O7XV9cSVtLllsZUtb0x/6xYpSu1mXvU+rftKaKvjLWvC3hfw94h+IGt6Go/taHw3BA0dgxGRHJLcTQx+YRz5asze1H9fdv9xN09v6vt957BRXjFr+1T4O1L4V3Xj3SrPX9b02yumsb/TdN0mWbUbC4Q4ljntgN0bJ/FnpWV4L/bP8BfEjwnb+IPCVn4m8UWkocyQ6PoVxcy22wkETbVIVjjhc5PpR38v1H28z3yiuL+F3xf8ACPxm8Lf8JB4R1mHVdNV2hlba0clvKv3o5Y3AaNx3VgDXnbftdeHdQ07WdZ8N+F/FnjPwro8kkV94k0GyhlsozH/rDH5kyS3AXuYI5KG+V2f9Lv6eYL3tV6fPt6+R7xRXzP8AtIftYaP4J/ZvvvHPhPT9W8W22saTNLpmo6Rp801pDldqy3MwXbCoZv4ucjFXP2Rfjda+M/hz4J8ML4U8YaVPYeHLINqmr6DPa6fPsgjU+VcONr56jHWqinJzVvht+t/ut+PkJtJRl0lf9Pzv+B61pHxg8G+IPH+q+B9O8RWV34s0qITXulRvmaBDjBYYx3HfuK7KvnP4WfEL4NeJf2kPFNl4e8NXek/FWTT/AD9VvNR0W4spp7dWRAd0qjIzt7DOK8j+JX7XCwftmeCdAXwL45m0zQ9M1Od1g8N3TXd/JJtiEkEG0O8K+X/rMY5NTFpqC6yTflpfby0t6jlo59lb11t/n9x9neL/ABho3gHw1qHiDxDqEGlaNp8Rmury4bCRIO5NJ4P8Y6L4+8Naf4g8PajBq2jX8Qmtry3bckiHuDXmHxM+KHgvVfgPc69448I+JJvBupwvHqGj33h26e7ihBbcbi3VS8SDZu3NjAwa1vg546+Ha/AXRPFHhH7P4f8AhxDYNcWhni+zR21shbJYH7oGCaNlJvpb9b3/AE+Yt+W3W/6bf12PVKK8JH7WmjSeG/8AhK4/BHjebwJjzP8AhKl0qM2phxnzxB5v2sx453eRXT/ED9oLwx8P/hvaePGh1PxF4TuIftX9o+HbNr1I7fbu899p4jx/FRJ8qbelt/L17Dj7zSXU9Porw4/tfeBJvBtv4psLbxDrGhtYR6ldXWl6LPdJYQvEsoM7IpVSEYEqpZh6V3Fz8ZPBtr8LT8RjrkEng77H9vXU4ssrwkcFQBkknjbjOacrxvfpuJPmtbrsdzRXiGu/tRWnhHS7fVfEXw98ceH9GuriC1tdQvLG1ZJZJZFjjDJFcPJDlmH+uSOvb6dna4XWwUUUUhhRRRQAUUUUAFFFFABRRRQAV5Z+0J/yAPDX/Yftf/QZK9Tryz9oT/kX/DX/AGH7X/0GSvWyn/fqXr+h52Yf7rP+up6nRXxz4q8dfEz9ob4u694T+Huux+GNB0A7J73ODK4ODllBPXgAenNX/hZ8WvH3wo+M0Hwy+Jmp2+tQX0e+y1bcARkHbzgZBwRgjIr5xYqPNazte1+lz9KnwniY0HJVoOsoc7pXfOo2vfa17a2vex9b0V8pa7+27eanrl7Y+A/Amo+Kba0kMb3yq5RiOvCjj8TVSP8Abe8Q+HZVm8Y/DDVdJ0skK93GrqI8nqdy4P0yKPrlG+/4MzjwbnUop+xV39nmipf+A3v8txn7NCi1/as+M1vbgJbfaW+VRgDEr44/OvWfjr+0GfgbrXhhL3w9dahoeqStFc6jA3/HuRgBQMctznBIyFOK8S/ZC8S2XjH9oz4qa5prs9hqBFzAzrhtrSMRkdjX074w+InhLw/4m8P+GNeuoV1PW5dthbzRF1dwQBzjAJYgD3NY4d3oNxlbV6/M9vP6ahn0YYjDuqlShzQTaelJXd1qnHf5anYqwdQw5BGRS0UV6Z+XhRRWX4n8RWvhPw9qOs3u77JYwtPL5Yy21RngetJuyuy4QlUkoQV29EalFch8Kvibpfxd8F2niTR0mis7hmTy5wA6spwQcGuludUsrO4gt7i8t4J5ztiiklVWkPooJyT9KSkpJST0Na2HrYerKhVi1OLaa6prctUV5V8cP2jvC/wJtbQauLi/1O8ybfTrNQZGUdWYkgKufx9Aa5b4O/tleEfi14oj8OGxvtA1ibPkRX20pKQM7QwPDegI59c8Vk8RSjP2blqevSyDNK2DeYU6EnSV3zeS3fey72se/UV8uT/tuaX4N+J3i3wz400+TT7XTJ/JtJ7FDMz4xkOMjHXNdLof7cXwp1zVbawGqXlk87iNZruzZIwScDLAnA9zxULFUXpzI7KnCudU4qaw0pRaUrxXMrNX3Xke/UU2ORJo1kjZXRgGVlOQQehBrxfx1+1Z4W8E/Eaz8GLaX2s6rLKkU509A627MQAG7kjPIHStp1I01eTseJg8vxWYVHSwtNzkk27dEt2z2qvGPip+1l4E+EviJtD1W4ubnU41DSw2kJfygRkbj0zjtXsytuUMOhGea84j/Z/8Hf8ACyNV8a3OnrqGqajEIpYb1VmgXpllRgcE4qavtGkqVr+Z1ZW8tjVnLM1KUUtFFpNy00bd7K1xvwx/aI8C/FsGPQdaja8UZazuR5Uw+it1H0r0qvnX4tfsYeF/GLHVfCjf8If4jiPmRT2WViZ+2VH3fqv5Vnfsv/GjxFJ4m1P4XeP1f/hKdJVjDdOcm4jUgHJ7nkEHuDWEa04SUKy32a2Z7mKyfA4zCzx+TVG1BXnTn8cV3TWko92tV1PpuivNfjrD8SZfDdr/AMK0exXVFn3TreEAtGAeFLEDOcda8LX4xftKeG4VfVPhzb6skfD/AGOFtzD1+Vm/OtKldU5WcX9xwYDIKuZUFWo16Sd7cspqMvudt+mp9fUV4h8A/wBoq/8Ai5rWo6FrPhC/8M6vYQefL5oJhI3Bdu4gEN82cY7Gvb61p1I1I80djycfl+Iyyu8Nio2kvNPfbVXRzvizx/4Z8CLYt4k8QaZoC3032a1bUruO3WaXGdilyAWx2FVf+FqeDP7Y0/SB4s0RtU1BttnZJqEJmuDjPyIGy3HoK8G/bf8AC3gTxpcfCfR/iTZvqHhO58QXAuLWE3HmSyDTrkxLGLf94zlwMBap/s1eGP2evhF48/4RnwZ4Iuvh/wCNr61MsEfiayuor29hHDGCa5LbgO6o31FXT95tP+tL/wBb6annT91Jrt+rX9eelz6xoorzP44fHjQ/gB4bGv8AiXTNcu9GTJuLzSNOa6jtFH8cxB+Rfek5KO40nJ2R6ZRXh2k/tifDTV/GnhXwzHqN5HfeJwRpVxLYSra3MgVS0KzY2+Yu4Aj171qa9+0dotl481LwZ4c0TXPH3iTSolm1Ox8NxW5Gnhs7VmlnmiiVzjiPeW9qp3X4/hv9xKd/677HrtFeOaT+1F4S8QfDnWPF+lWHiDVE0a8aw1PQ7LSZJtVsrhTh4pbZcsrL1NYXgT9tb4f/ABQ8MrrPg+08TeJfneOWy0vQ557i2K/89Qo2pnsC2T2FLuu2v3j7P5H0BRXD/Cn4yeEvjXoVxqvhLVBqEFrM1rdwSRvDcWk6/eimicBo3HoRXFzftSaHqGp+ILTwj4X8UfEGLw/K1vqt74btIHt7WZfvwh5povOkXjKwiQjNDfLo/X5d/TzBa7f0+3r5HtlFeCeNv2tvDGk/AST4n+FbHWfG+mTW0728OiaZNO8ckaksLnC/6OqEfOZMYxXBfsK/tAx+LPhD8P8Aw5c+FfGKanNp7zTa3N4fnTSXcs7krd7fLOc8c9aqKcnJdVb8b/5Cbsk31v8Ahb/M+hv+Fv8Ag7/hZP8Awr//AISKx/4TP7N9s/sbzP3/AJP9/H+TXZV85af8QPg5qf7WSaSfC97Z/F5rGaGLVL/Q7i3M1rF95o5nULInYOuc9M15R8cP2sl0v9rz4YeF08E+M59O0Z9TvLh7fw/ctPqMn2aSFTaRbQZ413EmReOalP4F1lf8L/ovvKatzPorfkv1/A+0PEviXS/B2gahret30OmaRp8LXF1d3DbY4o1GWZj6AVS8D+PNA+JXhey8ReGNUt9a0S9Ba3vLZso4BIOPxBrz/wAWfFbwrr/wRv8AX/FXhDxQ/ha+iktr/RNQ8O3JvfJOQ5ltQpcJgH5sYwRVj9nXxZ8Oda+Buh618OLaLRfAHlStZxNAbZYkSRg5Kt0+YMcmjbm5ulv1vf8AC3zJf2bdb/0vxues0V4bZftWaTr2jz6/4b8E+NPFfhKAtu8R6Pp8L20irwzwxvMs86gg/NFE44NdLqHx+8Lw/Cm2+IukLqXi3wzcJ5qS+HLJ7yXy+dzmNfmAXBB9KG7Jyelv1GtXyo9Norwrw7+2B4E8ZeC9P8TeG7bxF4jsrq3a7aDSNFnupraIFhmZUUhCdpwM5OOldrofx08DeIvhQ/xKsPEFvN4LjtXvJNTIZVjjTO/cpG4EYOQRmnL3b36b/wBfIS96yXXbzPQKK8J8R/tWWHg/ws/ifXfh9450rwxtVotVuNPt2WXcQEzClw00QJI5ljjHvXuvvTs+oXT2FooopDCiiigAooooAKKKKACiiigAryz4N/8AIzfEf/sOSfzavU68s+Df/IzfEf8A7Dkn82r1sL/umI9I/wDpSPPxH+8UfV/+ks9ToooryT0AooooAKKKKACiiigAooooAKKKKACiiigAooooAKKKKACiiigAooooAKKKKACiiigAooooAKKKKACiiigAooooAKKKKACiiigAooooAKKKKACiiigAooooAKKKKACiiigArxX9r34oav8ACP4G6trmhSxWmrS3VppsF9Ou6Oya5uEh89h6IJCfyr2qsDxt4K0b4jeFdT8N+IbCPUtF1GEwXNrL92RT2qJbd9tO+uq+exUWk9f68/kfOHxY/wCCdPww+KPhW3hH27TPGlsPNi8axy79Snnx/rblz/riT6n6EV1v7DvjTxP4z+Adj/wmF0NT13SNRvtFl1POftwtrhohN+O3H4VnWf7I/iHTtLXw3a/Hb4gR+CFXy10ffZ/ahHjHli/8jzwv/Aule5+CfBejfDnwvpvhzw9YR6bo2nQrBbWsIwqIP5n3rRNJSs9H08+/ZdrLe+uyMndqKe66+Xbu9dde3mb9FFFIsKKKKACiiigAooooAKKKKACiiigDwvxN8YLi3/aq8K/DeL4ez61H/ZMmrSeLQQU0pXMkYHKH75i2nDA8jg14V/wUC1C40/8AaG/ZZk0PcfE3/CTyJGsfLG1Z7dZh9MV9OfFr4JWfxOvNK1ez13VfCHizSNw0/wAQaI6CeJGxvidJFZJY2wCUdSOO1c18P/2W9P8ADfxEj+IXi7xTrPxJ8dwwG1tdV1xYIo7KM/eW3t4Y0jjzzk4J5pU9JU5S+y7vz1bSX4J+V9wnqppfaVvS6s3+b+7Y9yr5p/4KQf8AJlPxP/68oP8A0qhr6WryT9oX9nix/aO8Kv4Z1vxb4k0Hw/cLtvLHQZbaJbsblZfMMsEhwCoOARWVaLnBxXU1pSUKik+hY+GPw48PW3w1+Hd3FoWnTatomgW8OlX09qjT2m63UERyMu5N3fGM96+Qv+Cbug/EbU/hb40/s7xppPh/WovF1+ut2eq+Hnvrn7XhNxkkF1Hz+HrX2x8KPhnP8K/DiaK/jDxB4vtYVSO2k8RNatLbxqu0IrQQRbhgDl9x965jVv2b9FPjrVPGPhjX9e8AeI9WCjVLrw5Lb+XqBUYV5oLmGaEuP74QNz1rqqSTrzqLaSfyvJS/4f5PoctOLjRjTe8bfgmv1uvu6nK/BX4Kj4R+KPjDe3Pje28Ua54olj1bUNPtdPFnHZSGKRQwj82X/WYJ/wCA1yH/AASvVV/Y08MFV251DUT/AOTcle5WPg/w/wDCLwZr8rajJuvFkudR1jW7sNNdS+XjfLI2BwqgADaoA4Ar48/4JwfDmy8Yfsx6W+h/EXX/AAnqstzejUrXw7fWrM489wjvHcQy+U2MfNHj61lSb5qiXSMF9zf4dDSovdg31m396Zx2of23D8dP24bX4dmb+ym8M+bKtnnA1Qwr5m3/AKaf8fVe3fsT+F/Hurfsp/D2Xwx8QPD2n6JJpm1bGfws1y0TeY4dXkF6u5s57Cvo/wCEPwR8I/A/w3Po3hTTmtoLqdru9urmVp7m9nb78s8rktI59TXI6V+y7o/g+61IeB/Fnin4f6VqNw11d6HoFxbGxeVvvNGk9vKbfPfyGjqYpRh7J6+7Ff8AgPN+HvWXZJadqk3KXPtq396ivv8Adu+938/A/iJ8ILH4Gf8ABOX4seCdN8UL4ui02K+3XccAgEDtMrvBsDvt2Z9e/avoT4E+L7DQ/g98E9GmEjXeueHrOO2KLlQY7BZW3Htwprr0+EvhRfhtdeA20tZvC93bS2tzZzSu7TpLnzS8hbezsWZi5O4kk5zXK/Cv9nXSfhTJpK23iTxFr9todo9hotrrc9vImmQNgGOIxwxs3yqqgys5CgDNaKWs7635f/JVL/Nfr5y1flfZy/8AJuV/pr+B4/o//KU3X/8AsmsP/pZUXjXj/gqT8O/+xAvP/SiSu90/9j610/41H4p/8LQ8e3HiySBbKZ5ptO8iW0EnmC2Ma2QxHu9CD712XxP/AGfdD+JvjHw34w/tXV/C/jDw+JI7DXNCkhWdYpBh4nWaKWN0PoyGph7qpN/Z57/9vc/5c/4PyHP3nUS+1y2/7d5P/kfxQvj/AMXWPjL4J/E2aw8wLYWOr6ZN5gwRLDFIj49sivgX4mS6vH/wR58AfYPM+xN9lXU/L+99l+1yZ/DOyvvfxB8AbLWPhY3gOw8VeI/DmnT+cb2/0yW2N7e+cXM/myTQSDMjSMzFVU5PBFUvg/8Asy6D8I/hjP8ADs63rXjHwbJbtaJpXif7LPHDC27fGvlQR5VtxyGzU20muvuP1cbt/J3+65cZWlB9Fz/JStb5q33noenyaX/wg1tJH5P9jf2crL08vyPK/wDQdv6V+f37I8moy/8ABMH4tfb950xbTxCuj+b1+y/Zzj8PM319Yxfsq6Xb+Fz4Rh8c+NYvApj8geF1v4Ps6wYx5AuDB9rEeOMefW18RP2fNH8c/C2L4d6drWr+BvCq2xsZLPwx9mi822KFDCTNDLhcH+EA+9KsvaRrcv21Zffe7/ruTQ/deyjL7DTfyVrL16+iPNf2VtJs9P8A+CffhSKCNUhn8ISzS4/iZ4nZifxJryH9nnQfDHjH/glr4V0HxrqtxouhaoGsjqNrzLayvqrLbyD6TbK+g/C37KK+C/hIfh1pXxT8dweH0iW2gdpNNa4t7cKVMKSGy4Qg9wT6EVj+Ff2G/Cnhv4M3vwpuPFfizxB4BumhYaTq1za4g2XAuCsckNvG4DOOefXpW9WSqVasuknH7k5N+mktPNGdNOnTpR6xv+KS+ex438SJv2i/2c/BT6l8Q9T8L/G34Vac8R1VWtGstWitllQifjCsy49T0r7wtbpLy1injOUkUOv0IzXjl/8Asx6fr1rbaTr3jbxh4i8K20kbx+G9SvLdrQhGDIkkiQLcTKCBxLM/SvaFXb9KV7x17/1f+vm+hbVW/wCB8v6+S6uoooqSwooooAKKKKACiiigAooooAK8p/aJj83w34dQHbu162GfTKyV6tXln7Qn/IA8Nf8AYftf/QZK9XKv99p+v6Hn5g7Yab/rc+afg98SLL9lD4m+N/Dvj60ubO31S8+12+rRwNIGXcxXoMkEN2zyK4H4gfFyD49ftOeFruzjki0CO6jsrN3Xa0ilvmfkcZJHHbFfob4m8F6B40tkt9d0ay1eJDlFvIFk2/QkcfhXxl+2R/Y3wh+JXwsvdJ0iCz0/TVnufsdnGsYYiRD27n1r47EUZ0aVub3E167n9C8O5xgs4zN1I4drGVKcot8y5LqD1StdN2S3siHwH4t8ZfsY6trvh/WfB1z4g8NXV6bqHU7FT0IA3bgCBwB8pxyDXtnhP9sb4VfEixntNSu/7KcriS01iEbHzxgEZB/HFVv2V9Q8f/EJdd8Z+NLj/iRawc6ZpMqgrGoP3lGOBjjnrya9B8b/ALOfw7+IU3n6x4Zs5LnBU3EC+VIQfdcV0UYVVBOk/d6Jo8DOMZlVTHTpZtSft1bmqUZacySv7stLrZ2e58v/ALCN/Yap8aPiHd6ZZLp2nzx+Zb2qNuWKMysQoPoBiux/4KBWcui2Pw98Z2jbLzSNX8mM/wC0yiVT+Bg/Wtf9mf8AZ68RfCH4teNNRuLK20/w1cjybBI5/NZ0DEqRnkAA/wAXNfQHjf4f6B8R9Jj0zxHpkOqWMcy3CQzDIWRcgMPfBI+hNTSoTlhXTej1/M1zXPMHheKaeZ0Ze0pKMU7O7acOVp672eupuWtwt5awzp9yVFdfoRkVLTUVY1VVAVVGAB0Ar5a8Y/CX4+6F4u1HXvCXjuDVrW4neWPTLshAqEkqhDDaABgcEdK9CpUdNJqLfofn2W4CjmFSUJ4iFG23Pez8rpNL5n1PWH46so9R8F69bSjdHLYzKRj/AGDXy3bftZfEn4X3RsPib8PrqVyMx3mlxlQ/XoCSpHuDX054F8WW3xI8EadrkdjcWVtqUG/7JeptkQHIKsP85qIVoVrxW/ZnZjskx2TcmJrJOm2rSjJST66NPyPzo+AOqfEnx2qfC/wdrkmg6ZFNLd3V7FlWRSecsOe3QEZr6h+HP7Eem+FfFWn+I9d8Vap4i1Kzl89UdtkTSep6t+tdn8B/2cbT4I6/4p1OHUF1B9Yn3RDyfLMEW4ts6nPJ9q9nrkw2DUYJ1tWvwPr+JOMJ1sVUp5PJQozXvNRSlJte822ubrb5H59/tHeIPGvhX9rnR9XfRLPW7qFIholgqtIlxHlgARkHzd5bp329a1dL1rxt8ef2kfAGt3nw81HwodDlQ30s8Mqx7FcOSS6Lt7gKSetewftjfCPW/F2kaH4x8IwSz+KfDNx58cdv/rJIsgnaO7KVVgOuAQOTWL4a/b/8IyaRBHr+iavp/iRZEt7jT7eBXBc8MylmXABz8p5HTnrXNKChWlGrOybv6/M+jw+NrY7KMPXyzBxq1YU5UpNNqUL3V+W9mpJ3u1vfU8t+OniLR/hP+1xqmu6v4dh8SafJpa3EmnzohWR2XaGyysBjrnHaof2i/iz8GPH3wjhtPB2mWNt4qnuIZFt7TSTBND13KZBGAeoGATmu9+Idrba1+3R4Yt7m2jubW40pBLBcRhldCrZVlPX6GvonTfgT8O9H1SPUbHwToVrextvSaKwjUo3qvHB+lVGjUqupGLVm3uvyMK+c4DK6eW4jFQqOrGlCS5Z2i7XSUk76abrXUufDKSTS/h/4Ws9UnSPUmsYlMcr4dm2DgA8k4r5N8C6tD+zX+0x4hs/HFkr2niSbdYa/IuQgZyRknoDnB9CKvftMfDn4geH/AI2WPxI03TrjxX4fsmjlWwgkfMG0YK7FOcZ5yufesn4tftRfDH44fDm+0XxPouq6J4hgQvanyVkNvOBwA+QcE8EEVVaqr2fuyhtfqYZPlVSUHUor29DFxtV9nbmpNu60vze697qzR9zxyLLGrowdGGVZTkEHvWZ4k8VaP4P01tR1vUrbS7FTgz3UgRc+mTXin7EfjDWfFnwTtBrHmyGxne1t7mUHMsQ+7z3x0z7V23x5+COn/HbwemiX17Np0kM3nwXMS7trYxgr3Br0VUlUpe0prVo/NquW0cBm0svx9S0IS5ZSir6d0v6sOX9pD4XtGXHjrRCo5J+1LXzl4f8AEtp8av20tN8R+DIpJNI0u2KahqIUhJwEKj+agf7teeeKP2BPHvhi+W40RtM8UWyNu8qR/KJHoykjP4Gu08G/Ff4hfs2WMdprnwlgstBY5kn0mJlJPcliW3H6mvLlWqzklXjypO+zP1XD5PleDoVZ5BiFiK1WEoJSnGNlLf3XZt9kfcFxMbe3llCNIUUtsQctgZwPevlS6/bt/sXVpIdZ+HmuWVksrR+cFBbg4yQcD9a9B/Zs/aMb4+L4hZ9HOkjTp1WIby2+Nhxu44b1Fe0XVnBfQmK5gjuIj1jlQMp/A16Tcq8VOjOy9D81p06GR4mrhM4wntJK2nO4uOl9Grp3ujwTS/25vhPqECPLq91YzNw0U1nJlfqQMV7tpOq2uuaXa6hZSia0uo1mikHRlYZB/KuRvfgb8PtQuRcT+DtHaXOcraqoz9AAK7S2torO3jggjWGGNQqRoMKoHQAelXTVVfxGn6HDmVTKaii8tpzi+vPJNfKyT+88Q+Inxkn0n9pT4f8Aw6h+HU3iVb+1l1OTxICNmjKC0e8Dyz1+6TuX7w614V/wUuvrvT/FX7PE+gA/8JWvjSM2IiH7wrhQ4+hytfUfxY+C+nfFT+y71dX1Twv4l0h2k0zxBocyx3VsWGGQhlZJI243RupU46Vx3gv9laz034kWPxB8c+L9Z+JvjLTYmh0y91qO3gt9OVvvGC2gjSNXPd8ZranpKDl9mV2+9ndJfck/m9djwZ7St1jb7003+N/wt1Pd68F/bw/5M9+LP/YBm/pXvVeW/Hj4E23x+8Iz+F9T8WeIvD2h3UbQ3troMlsn2tG6rIZoJTj6YrKtF1KcoLqrG1GSp1IzeydzH/Z4+G/hr/hQ3wfuZtC0+6vtH8PWU2nXc9qkk1pJJbIXeJ2BKFs84618tf8ABPzQ/iLqlv8AGIWfjDS/D3iSLxtef21baroDX9w0x7mQXMXGc9j0NfZvwZ+EZ+DPhmDQIfGPiLxVplrDHb2cfiFrR2tIo12qiNBbxEjAH39x461jeI/2ctC1Lx9d+N/D2s654C8W30Sw3+p+G5YF+3qo+Tz4biKWGQrzhjHuHrXVUkpV51FtK/yu0/0s/v6HJTi40Y03urfgmv1v/wAOcz8EPgq/wx+MXxO17UvHVp4k8R+LY7K91DS7TTfsMdsY1eNJQnnS/f8Am6+led/8EsVC/s2ajj/oadU/9Givojwt4I0H4UaXqt/NqU9zdXhE2pa7rt0rT3DAYUyPhUVQOAqBVHYCvi3/AIJxeBNP8ZfBXVp9D+IWt+FNefXtR+2ReHr21ZpovMAV3huIplXg8SKqt71lTfvyiukEv/Jomk/hUn1mv/SZf1/VyXRf7Ztf2+v2j7X4fljDJ4J826W3+4useTH5Ht5mSf1rT/4JxeHvHupfsr6BJ4X8d6LokC3l8t1ZXvhpryZJ/PbdvkF3Hk/h3FfWvwg+BvhT4IaTe2Xhm0l+0ahcteajqd/O1xe387HmWeZvmdua5xf2ZtG0TxLrWueCvE3iT4d3Gtym41S28OzWzWt3MespguoJ0SQ8ZaMITRD93FQ391L5pt/d71vkhz/ePm296/y5VH79L/Nnlej/AAbt/gl+zf8AtDaRF4vg8V3eoLrWsXiW9ktstjPPZlzAIxJJgYwevetz9i3xhYeFf2QvgZFebt2sW0Om2/lgH98wlcZ9v3bV7d4X+GPh/wAJ+FLrw7b2z3dhe+a181/IZ5b15P8AWPM7cuzZ5JrhPhb+y34b+Esmj2+la34gvdC0KeafRdB1K5hltNNaQOGMREQlbiRwPMkfGT9acfdbT2fJ90eZNfNPT01Jlqk1v7/3ytr96u/wPK/iV/ykw+D/AP2KGqfzNQ/GX/lJR8Av+xe1j/0W9d9r37Htp4i+Mdl8Tp/if48g8UaeksFi1vNpwgtYHJLQKjWRynJ4Yk+9dt8WPgBoPxa17wx4huNQ1Xw94p8NTSTaVr2iSxJdW/mLtkTEsckbow6q6GlTfKqV/s81/wDt7n/Lm/Blz951EvtKNv8At3l/Pl/E2r7xdYeKvDPjiGzEhOjtdaZc+YuP3q26uceoxIvP1r8/vD8mtQ/8EYHbQd32n7FcLL5f3vs51JxPj/gO6vue8+B8LfDu58JaZ4u8R6ELyeW4vdZsJLVr+7klYmVneWB0Bcnkqi+2Ky/gH+zPo37PvgWfwXpviLXvE3hVo2ji0vxI1rPHbqxYyKnlW8ZIcuch91ZShzQqRvq1H5tXv8m39xanyypyS+GTfydrfNWNv9m9rFv2fvhodO2/Yf8AhG9P8rZ02/Z0r5V/YFuL2fwF+0aYg3/CKf8ACWau2k/888FX8zy/b7tfQuk/suab4W0aXw/4a8ceMvC3hGQuP+Ed0u9t/s0atyUillge4hXrxFMvU10F98BdFtfhTB8PfCWp6p8PdBhjMKt4baBZ/LIO5N88Uv3snLY3e9aYl+29tOP200l/iad36W+d+nWMP+5VOD+y07+ia/G/y8zxb/gl3pdtZfsU+DZYYQsl5Jeyznu7/apVz+SgV5J+yfpvhPWf+CfXxA0nxpfzaZ4Wute1S0u7u2Hz26POqq6/Qla+kvhT+yTD8F/h3N4J8K/FDx1ZaFtxarJJpsktlmRncwsbLjcWOcg+2Kw/BP7B3hTwV8NPEXw8Txn4y1jwVr29rzSNTubNk8x5Fd5FeO1R1YlB/FitarVSpUn0lG34p/pYzpXpwir6qV//AEr/ADPIPiJpn7SH7Ovw51G58U634Z+OPwq062P9q2N5atY6q1iB8zBl4JA92PFfdWg6vDr+h6dqltuFtfW8dzFuGDtdQy5Hrg15JqH7L+m6xpK+H9U8beMdU8ELhP8AhE7q9t2s2iHSF5hALqSPgfLJO3SvZYYUtYkijVY40ACqvAAFLmunfXt387/1317CVmrK3ft0tb8fw0J6KKKksKKKKACiiigAooooAKKKKACvLPg3/wAjN8R/+w5J/Nq9Tryz4N/8jN8R/wDsOSfzavWwv+6Yj0j/AOlI8/Ef7xR9X/6Sz1OiiivJPQCiiigAooooAKKKKACiiigAooooAKKKKACiiigAooooAKKKKACiiigAooooAKKKKACiiigAooooAKKKKACiiigAooooAKKKKACiiigAooooAKKKKACiiigAooooAKKKKACiiigAooooAKKKKACiiigAooooAKKKKACiiigAooooA+YPFnjXXbX9tzw3ocWqXMejyafh7FZD5TZRmJK9M5A5r1H9oz4tXXwW+GN14ksrKO/uknigjimYqmXPJOPYGvFPGX/J/nhb/rwH/opq639vf/k326/7CNt/Nq8vnlGnWknqm/yP1SWCw+IzHJsPUgnCdOnzLa95Sve3c918H69/wlPhPRtZMXkHULOG68rOdm9A2M+2a165H4Q/8kp8Hf8AYHtP/RK111elF3imz81xcI08RUhHZSa/EKKKKo5TI8TeEtD8a6W2meIdG0/XdOLBzZ6napcQlh0OxwRkeuKzPCnwt8F+A7qa58NeEdC8O3My7JJdK02G1Z19CY1BI+tdVRRtsG4UUUUAFFFFABRRRQAUUUUAFFFFABRRRQAUUUUAFFFFABRRRQAUUUUAFFFFABRRRQAV5Z+0J/yAPDX/AGH7X/0GSvU64z4oeAZPiJodrYQ6j/ZctveR3aXAi8wgqGGMZH971r0cuqwo4unUqO0U9X/wxxY2nOph5wgrtnZ14V+0L+zT/wAL28V+EtSl1OOzstJZkurdkJaaNmViFI7/AC459a6H/hWfjz/oplx/4LU/+Lo/4Vn48/6KZcf+C1P/AIuipl+Fqx5Z4mNvSf8A8id2X5zj8rxCxWEpSjNJpO8Oqs/tdmemWFjBpdjb2drEsFtBGsUUaDAVQMAD8KsV5X/wrPx5/wBFMuP/AAWp/wDF0f8ACs/Hn/RTLj/wWp/8XWn1PD/9BMfun/8AInnvFV5O7oS++P8A8keqUV5X/wAKz8ef9FMuP/Ban/xdH/Cs/Hn/AEUy4/8ABan/AMXR9Tw//QTH7p//ACIvrNb/AJ8S++H/AMkeqUV5X/wrPx5/0Uy4/wDBan/xdH/Cs/Hn/RTLj/wWp/8AF0fU8P8A9BMfun/8iH1mt/z4l98P/kj1J0WRSrKGU9QwyKUDAwBgV5Z/wrPx5/0Uy4/8Fqf/ABdH/Cs/Hn/RTLj/AMFqf/F0fU8P/wBBMfun/wDIh9Zr/wDPiX3w/wDkj1SivK/+FZ+PP+imXH/gtT/4uj/hWfjz/oplx/4LU/8Ai6PqeH/6CY/dP/5EPrNb/nxL74f/ACR6pXPXvw88Lalr0Ot3XhzSrnWYSGj1CWzjadCOhDkbhj61xn/Cs/Hn/RTLj/wWp/8AF0f8Kz8ef9FMuP8AwWp/8XSeCwz3xMfun/8AIGlPHYqk26dKSvppKK0/8COO1j4NeKNW/a003x08VsnhyzshEsyyfOWAI2leucmvoWvK/wDhWfjz/oplx/4LU/8Ai6P+FZ+PP+imXH/gtT/4uohl+Gp3tiY6u+0//kDvx2dYzMFRjVw7tTioKzjsr7+9vqep9eDyKwdT8A+G9auPPvtB0+7m/wCek1sjH88VxX/Cs/Hn/RTLj/wWp/8AF0f8Kz8ef9FMuP8AwWp/8XVvB4Z74mP3T/8AkDgp47FUnzU6Uk/KUV/7cenWlnBp9ukFtDHbwoMLHGoVR9AKmryv/hWfjz/oplx/4LU/+Lo/4Vn48/6KZcf+C1P/AIun9Tw//QTH7p//ACJm8VXbu6Evvj/8keqUySNJo2jkRXRhhlYZBHoRXl3/AArPx5/0Uy4/8Fqf/F0f8Kz8ef8ARTLj/wAFqf8AxdH1PD/9BMfun/8AIh9Zr/8APiX3w/8Akj0XSfD+l6Csq6bp1pp4lbfILWBYt7ep2gZNX68r/wCFZ+PP+imXH/gtT/4uj/hWfjz/AKKZcf8AgtT/AOLo+p4dbYmP3T/+QKli8RN80qMm/WP/AMkeqUV5X/wrPx5/0Uy4/wDBan/xdH/Cs/Hn/RTLj/wWp/8AF0fU8P8A9BMfun/8iT9Zrf8APiX3w/8Akj1SivK/+FZ+PP8Aoplx/wCC1P8A4uj/AIVn48/6KZcf+C1P/i6PqeH/AOgmP3T/APkQ+s1v+fEvvh/8keqUV5X/AMKz8ef9FMuP/Ban/wAXR/wrPx5/0Uy4/wDBan/xdH1PD/8AQTH7p/8AyIfWa3/PiX3w/wDkj1SivK/+FZ+PP+imXH/gtT/4uj/hWfjz/oplx/4LU/8Ai6PqeH/6CY/dP/5EPrNb/nxL74f/ACR3/iPwvo3jHSZdL17SbHW9MlIMlnqNslxC+DkZRwVP4isjwt8J/A/gW+e+8N+DfD/h69kTy3uNL0uC2kZf7pZFBI9q5f8A4Vn48/6KZcf+C1P/AIuj/hWfjz/oplx/4LU/+Lo+p4dbYmP3T/8AkQ+s1no6Evvh/wDJHqlFeV/8Kz8ef9FMuP8AwWp/8XR/wrPx5/0Uy4/8Fqf/ABdH1PD/APQTH7p//Ih9Zrf8+JffD/5I9Uoryv8A4Vn48/6KZcf+C1P/AIuj/hWfjz/oplx/4LU/+Lo+p4f/AKCY/dP/AORD6zW/58S++H/yR6pRXlf/AArPx5/0Uy4/8Fqf/F0f8Kz8ef8ARTLj/wAFqf8AxdH1PD/9BMfun/8AIh9Zrf8APiX3w/8Akj1SivK/+FZ+PP8Aoplx/wCC1P8A4uj/AIVn48/6KZcf+C1P/i6PqeH/AOgmP3T/APkQ+s1v+fEvvh/8keqUV5X/AMKz8ef9FMuP/Ban/wAXR/wrPx5/0Uy4/wDBan/xdH1PD/8AQTH7p/8AyIfWa3/PiX3w/wDkj1SivK/+FZ+PP+imXH/gtT/4uj/hWfjz/oplx/4LU/8Ai6PqeH/6CY/dP/5EPrNb/nxL74f/ACR6pRXlf/Cs/Hn/AEUy4/8ABan/AMXR/wAKz8ef9FMuP/Ban/xdH1PD/wDQTH7p/wDyIfWa3/PiX3w/+SPVKK8r/wCFZ+PP+imXH/gtT/4uj/hWfjz/AKKZcf8AgtT/AOLo+p4f/oJj90//AJEPrNb/AJ8S++H/AMkeqUV5X/wrPx5/0Uy4/wDBan/xdH/Cs/Hn/RTLj/wWp/8AF0fU8P8A9BMfun/8iH1mt/z4l98P/kj1SivK/wDhWfjz/oplx/4LU/8Ai6P+FZ+PP+imXH/gtT/4uj6nh/8AoJj90/8A5EPrNb/nxL74f/JHqlFeV/8ACs/Hn/RTLj/wWp/8XR/wrPx5/wBFMuP/AAWp/wDF0fU8P/0Ex+6f/wAiH1mt/wA+JffD/wCSPVKK8r/4Vn48/wCimXH/AILU/wDi6P8AhWfjz/oplx/4LU/+Lo+p4f8A6CY/dP8A+RD6zW/58S++H/yR6pXlnwb/AORm+I//AGHJP5tSf8Kz8ef9FMuP/Ban/wAXW58M/h7c+A11drzV21m61K5+1SztD5Z3Ec/xGt7YfD4atCNZScrWSUujT6xSMb1q1enJ0nFRvu49rdGzuKKKK8M9YKKKKACiiigAooooAKKKKACiiigAooooAKKKKACiiigAooooAKKKKACiiigAooooAKKKKACiiigAooooAKKKKACiiigAooooAKKKKACiiigAooooAKKKKACiiigAooooAKKKKACiiigAooooAKKKKACiiigAoqK6uobKB5riVIIUGWkkYKoHuTVfT9a0/VofNsb63vIs43wSq4/MGlcvkk48yWhdopM96WmQFee+Evj14L8beNtV8JaZqu7XdOZlktpomj37ThihYYYA+lehV8f/ALaHhWL4c+IfCfxY0CH7BqtnfrDeyW8YUTA8gtj+IjeuT1Fc2IqSpR547Lf0Ppsgy/C5ringa7cZzTVNrbn3SkrbPbS1jqfFXw88Q3f7aHhvxNDpc0mhRWB8y+Ufu0IQrtJ9ckcVe/b0ieT9nu9ZVLBL+2ZiB0G4jJ/Ej86980TUo9a0exv4nV47mFJVZTkHcAa8/wBc0bxp4k+JjaZqdhot/wDC2ezIuIZ13XDzDlcgn+8F7YwD3xWc6S9nOMft/r+h6WDzepLH4TEV1GP1SKVr2clBt2V/tO+iNz4NzJcfCPwXJG25G0a0II7/ALla7GobOzg0+1htbWFLe2hQRxxRqFVFAwAAOgAqauuK5YpHx+IqKtWnVSspNv72FFFcp48+KXhn4ZrpreI9TTTl1C4Ftbl1JDOfXA4A9aJSUVdsmjRq4ioqVGLlJ7JK7+46uik3ArkHI65rH0nxloWvaleafpur2V/fWf8Ax8W9vOrvFzjkA8c07omNOck5RTaW/l6mzRXzH8U/2tNWs/HM/hH4beGW8X6pZBjeSRhmRCOqqFHOO5ruv2dv2hbb44aXfw3Ng2jeI9MbZe6czE7ecBhkA4zxz0Nc8cRTlP2aep9FiOHMywuCWPq07Q0b1XMk9m47pPo2j2KivNPiR+0F4R+FPivRtC8RXUlnJqaNItyUzFEowMue2Sadpv7SHwx1e8jtbbxtpJmkOFEk3lgn0ywA/WtPa078vMrnnrKcwlSjXjQm4SV01FtW23S8j0mimRTJcRrJE6yRsMq6nII9QaVmWNSzEKo5JJwBWp5XkOorM0/xPo+q3clrZarZ3dzH9+GGdXdfqAc1p0r32KlCUHaasworzP46fHrQfgX4bF/qebu/nytpp8TAPKfU+ij1qL9nr43RfHbwTJri6cdLmhuGt5bfzN4BHIIOB1FZe2hz+zvqep/ZGO+of2m6b9je3N5/n89j1GiiitjyAooooAKKKKACiiigAooooAKKKKACiiigArK8TeJNP8H+H9Q1vVZ/s2m2ELXFxNtJ2ooyTgc1q1n69odn4l0W/wBJ1GFbmwvoHtriFujxupVh+IJoInzcr5NzwBf2+fhU135Jn1dUzjz2sGCfnmvf9D1qx8S6PZarptyl5p95Cs8E8ZyrowyCPwr85PjF+w/438DX1zd+GrZ/Fmh5LR/ZebuIf3Wi7/8AbOj4M/tZeMPgBYxeFdd0N9T0e3JMdleZtbu2DEkqCV5HPekfHUM4xOHrOnmUOVdGk/8Ag3XofpXRXzh4X/b2+F2vRKdRudS8Oynql9Zs4H4xb69C0v8AaW+FmrrmDx3oqD/p6uRb/wDozbTPpaePwlVXhVj96PTaK5Wy+KngvUlzaeL9Buh/0x1OF/5NWnH4q0WX7ms6e/8Au3SH+tB1qpCW0ka9FUo9YsJvuXtvJ/uyqf60+TUrSEZe6hQf7UgH9aC+ZFqisibxZolv/rdZ0+P/AH7pB/WqcvxG8J2/+t8UaNF/v6hEP/ZqCHUgt2jo6K4+X4w+A7f/AFnjbw5H/vatbj/2eqUvx5+GsX3vH/hn/gOr25/k9Bm8RRW8196O9orzSX9pH4Ww/f8AHmh/8Bu1P8qz5v2sPhLb/e8caef90SN/JaCHjMMt6kfvR63RXik37Znwct/v+NIz/u2F038oqoSftv8Awfj6eJZ3/wBzTbk/+06DJ5hg1vWj/wCBL/M96or55k/bu+EsfTU9Qk/3NPkqs37fPwqXrNrH/gvP/wAVSI/tTBf8/o/ej6Por5ob/goF8L16xa7/AOASf/HKhb/goV8Mh/y4+Ij/ANukP/x6mT/auB/5/L7z6dor5e/4eH/DT/oF+Jv/AADg/wDj9P8A+Hhvwy/58PEf/gHD/wDHqQv7WwP/AD9R9PUV8yR/8FBPhi5wbfxBH/v2UY/9q1pQ/t4fCebrf6lF/wBdLBxTKWaYJ/8AL2P3n0TRXhVn+2x8HrxgP+Eqe3P/AE2065X/ANp102nftM/CvVP9T470ZP8Ar4uBB/6HtoNo47Cz+GrF/NHp9FYOh+PPDXijjRvEWlasfSxvYpv/AEFjW9QdkZRkrxdwooooKCiiigAoqhqeuabose/UL+1sU/vXEyxj9TXGat+0F8NNFyLrx1oKsOqxX8crfkhJoMZ1qdP45JerPQqK8Vuv2yvg7aD5/GUbn0isbp/5RVj3X7dXwjt/uazfXP8A1y06Yf8AoSig5XmODjvWj96PoKivmeb/AIKCfC+LgRa9L7x2SH/2pUH/AA8N+Gf/AEDvEn/gHD/8epGX9rYH/n8vvPp+ivlv/h4l8Nv+gR4n/wDAS3/+P0g/4KJfDc/8wfxP/wCAlv8A/H6Cf7WwP/P1H1LRXzEv/BQr4ZH/AJcfEQ/7dIf/AI9Uw/4KBfC8/wDLLXR/25J/8coK/tXA/wDP5fefS9FfOsf7efwnk632px/7+nuP61eh/bi+D8vXxFcR/wDXTTbgf+yUy1mWCf8Ay+j96PfKK8Sh/bP+Dcw+Xxmg/wB7T7sf+0qvw/ta/COf7vjexH+9FMv80oNFjsI9qsf/AAJf5nr1FeYRftOfCqb7njvRv+BXG3+dXof2gvhnP9zx94c/4FqcS/zag0WKw72qL70eg0VxsXxm8AXH+r8c+G5P93V7c/8As9XIfiX4QuP9V4q0WT/c1GE/+zUGirUntJfedNRWD/wnfhv/AKGLSv8AwNi/+Kp3/CceHP8AoYNL/wDA2P8A+KoK9pDujcorF/4TTw//ANB3Tf8AwLj/APiqZN468N2/+t8Q6VH/AL97GP8A2agPaQ7o3aK5C4+L3gW1GZ/Gvh2Ef9NNVgH83rC1L9pT4WaV/r/Hmhv/ANe92s//AKBuoM5YmhH4ppfNHplFfP2vft0fCXRlPkave6ww6rYWEnH4yBBXiHxK/wCCh19qVlc2PgnQG01pFMa6lqLq8i/7SxLwD9SaR51bOMDQV3UT8lr+R7Z4q/bk+GPhXXLrS3uNT1Ge1kMUsljaBo1YdRuZlr0/4WfF3wz8ZNCk1bwzePdW0MvkypNEY5InxnaynpX5lfDv9mr4jfFK5V9M8P3FvZsedS1JWt4B7gt8z/8AAa/Rz9n74J2XwK8BpocFx9uvppDcXt5jb50p6kDsB2oR5uV47MMbVcqsEqfpb0t3PTqKKKZ9WFFFFABRRRQAUUUUAFFFFABRRRQAUUUUAFFFFABRRRQAUUUUAFFFFABRRRQAUUUUAFFFFABRRRQAUUUUAFFFFABRRRQAUUUUAFFFFABRRRQAUUUUAFFFFABRRRQAUUUUAFFFFABRRRQAUUUUAFFFFABRRRQB8vf8FA7i7h+EmmJG0yWEupRrdmPIG3HAP69a57Tf2CPCWsaLp+r+GfGWtaW91bJKJleOdcsoPBTYcZ9/xr6g8f8AgPSfiV4Tv/DutwefYXibW28Mh7Op7MDXyrpfwQ/aE+DoutC8BeJ7LUfDRcta/a3jLxKf9mRTtPspIryq9Fe1c5w5k+26P1jIc3qf2VHA4PGRw1WnKTfPpCcZW62avG2zWqPCfjdrnxE+B/iaXwRF8T9W1q2t1jnMkNzLG8ZIyFJLFhj+6GIr74/Z2+JH/C1PhJoeuSecbsxeRctMuC0qfKxHqCe9fI3xf/Zz1X4c/BzxN4y8Z6umueM9UuoVkljJZYVJJYBiBknjOABwMV9lfA2GOD4Q+EljRY1/s6I7VGB92s8HGca0lLRW2/I9Hi/FYHF5Lh6lBRnUjNxdSKUVKSinJ2SV021bbY82/ag+PXiL4X6r4V8NeELK3uvEGvS7Y2uhlRlgiKMkDLMe/pXzz+0N8T/jDq/w1vPD/j/wLBp9l50cn9qQrwrDOOVcrzmvoz9rb4J6p8UPDela34Zfy/FfhyY3dmAdplGQxUH+8Cile2c+tfPPxc/aouPiN8G73wX4j8Ialp/iwiNXkEbLH5iMMsVI3DIzx71OKclKanJpNadn5HVwnRw9ShgquCwsKk4z/ettqpB83uyWqvHl8nqj7I+BbFvg34NJ6/2XB/6AK83+D/xh8ReL/wBo74k+E9Rmjk0bSUzZxKgBj2ui9e+dxJ+ldh+zDeXd58B/BpvYZIJ47FIisoIYheA3PqK8v+CPgjxHoP7WvxR1a80qW30W8hYxXkgwsheSNk2nvwrZ9MV1uUrUeXbr9x8ZToYf2mbxr8vNFS5b239ovh87dj6iorkfid8UvD/wi8NnXPEdxJb2XmCJfJiMjsx6AAf1ryD/AIb4+FH/AD86t/4An/4quqdanTdpySZ83g8jzPMKXtsJh5TjtdJtXPo2vm39vrT7G4+BMl3cNGl5Z38EloWHzFy21gv/AAEsfwruvh3+1J8N/ihq0GlaLrx/tWbPl2V1byQu2OwJG0n2BzXm/wDwULhkk+CVm6KWWPVYWcjsNrj+ZFc+IqRnh5uLurHv8O4HFYHiLB0cVCVOXOnZpp2+fR7Hn3he3/aM+NPgfSLKPULTQfDN3aRouoKypLJCqhckrliTjJ5Gea9AuPAug/sY/DHU9f0zT9Q8R+IbyI2tzqKcsC3O4jOFQMAfXivW/wBnOFrf4GeCUZSh/syJsH3GR/Ouz8TaSdf8O6ppgYRm8tZbcMegLIVz+tRTw65FO7crbvW3odeYcRS+uywTpRhho1HzQguXnSl9pq7f5eR8B/sr/tH+C/hDo2uXGv2l9ca/qt4Zpbi3t9/ydl3Z9STXqX7FcM3i74i/Efx6bWe2stTuBHb712qw3Func4xXm/wz8f2n7MB1TwZ8Qvh1Jq7Q3LS22oQ2UUrOhPXL9V7jBr1lv27/AAFp+k29r4Z8O6hPqEkqxx6TDaiHGTyeOM+wrgoSjHk9rNLl6W1uff59hcVipYr+y8HKf1nlXtOdSi4KzVl9laJavQ5D9shdAb9oj4cjxVs/4Rzyv9P8zdt8nzBuzt+bp6c16B4d/Zr+Anxm8IvqPhPTyLRnaJb+ynuI5I3HX5ZD/NSK84/a28MxfE748fDHRLoy2EetWqwscfPCZGHb1BP6Uvgfxb8Xf2T7Ofwpe/D6Xxf4fjmZ7S90yNuQT1Lxq2M8cOM+9XeKrzdSF433tfojk9jiamR4GGW4qVPExhdQ9ooRlHnld62UpJ+ex1v7G+tap4R8eeOvhbqF7Lf2eiSebZSTNkou7BUDtkEH60n7ZWta54o+Inw++Fun6pJpGleIpF+3Sw/ekDShADyMhQGO3IBJGam/ZV8I+LNc+LXjX4meI9AuPDMGsqFgsblSrkkjPDAHAA6kDmqP7TX/AAjfxq+IWjeHPBevGP4r+HnkmsvIU+SzIPMaFph8qSL5ZZSTgEFTgni9fqvL56d2r7fccK9j/rV9Ysny07zklzRhU9nZzla6tGereyep13hD9hjwV4F8V+H/ABDpOsa7Hf6TdJc/vJ4ysxU52nagIB6EZ5BI716h8avGnifwJ4POo+E/DbeJtTMqx/ZRn5VP8RAIJ/CvL/2fP2p28YasfAvj+0/4R3x9at5GyZDHHesAc4B+5JxyvQ9V64H0fXdRjSlTfsNLnw+c1s0w+Y0/7cXtXDbmfuyi3fSSteL7p+XkfGnhX4F+KvH2qa58T/jAqxzW9lM9jozkFYcRnaWGcADsPzrqP+CfcZ/4VXrMwXEU2qSFD6jFey/Hq8+wfBrxhPv8vbp0nzemRj+teffsN2S2f7PekER7DNcTyE4+9lutc8aUaeIil2bb7nvYrNq+ZcPYmtWSjF1KcIxjpGMYqTske/0UUV6h+WhRRRQAUUUUAFFFFABRRRQAUUVzHxN1rUPDnw/8QappSq+o2lnJNAHGV3AZ5FKT5U2zajSlXqRpR3k0vvOnoryX9l/4o3/xc+Emn67qrxvqfmyW9wYl2gsp647da6TxJD44b4geHX0aXT18JqH/ALUjnB88nHy7KzjUUoKcdmd9fLqmGxdXBV5KMqfMnd6XjfRevTudtRRRWp5QVma34b0rxNa/ZtX0uz1W2/543tukyfkwIrTooE0pKzPK9Z/Zd+FOvf8AHz4F0mL/AK842tf/AEUVrjNQ/YQ+Et22YdN1Gx9oNQkYf+P7q+h6wtY8caBoGvaXouo6ra2eqamStnayyBXnI7KO/UUm0tzlWV4fEy5VQUnvpHXTV/cj55u/+CeHw2uP9VqviS2b1S6gP84azG/4JyeCz93xNry/jD/8RX1PrGvab4ftxPqd/b2EJOBJcSBAT6ZNWbW7gvYVmt5o54mGVeNgwI+oo02OWWSYLlU3RVu+p8jN/wAE3/C3bxbq4/7Yxf4UD/gm/wCGO/i7Vj/2xir6/rjPil8XPDfwd0GLV/EtzLb2s0ogjEMLSM7EZwAPYd6UnGK5paIqhw7hcVVjRoUOactEldt/ifKumfsR/DLV/Fmo+GbTx7qlxrmnoslzZqsW+NT0z8v+c1n/ABO/ZE+FHwjh0qXxF4s8RxpqV0LSDykic7j3IEfAq/8ADn4gaD4o/bik1rwjffa9I1zTisjBGTL+UhcFWAIO5K6X/goH/wAg3wB/2GB/6DXnvEt0Z1I9HY/Q6Xh/lVPOcHl9ek1GrTUmnpJPld15Wki9D/wTp+HeAW13xNID/duLZf8A2hV6L/gnv8MI+t34if8A376M/wDtKvpi1/49Yf8AcX+VS16J+c/2RgYv+Ej5yh/YJ+FMfW11aX/f1Bj/AEq9F+wz8IYuuhXcn/XTUZz/AOzV7/RTLWWYJf8ALmP3I8Rh/Yu+DkI48HK3+9qN2f8A2rV6H9kf4Rwfc8E2Z/3p5m/m9ewUUGqwGEW1KP8A4Cv8jy+L9mH4VQ/c8C6R/wAChLfzNXY/2e/hlH93wD4f/HToj/Na9DooNFhcOtqa+5HCp8CvhxH934f+Fx/3Brf/AOIqdfgx8P4/u+BfDS/TSLcf+yV2dFBf1ej/ACL7kcd/wpzwF/0JHhz/AMFMH/xFMb4KfD1uvgTwyfro9v8A/EV2lFAewpfyL7kcFN8BfhrccP4A8M/8B0iBf5JWXc/sxfCq6Hz+BdIX/rlCY/8A0EivUaKCHhcPLemvuR4tdfsd/B+8UhvBkK/9c725T+UgrldW/YD+FmpZ+zrrWlf9ed6D/wCjEevpOigwlluDn8VKP3I+MNe/4Jv6Y6ltB8aXlpJ2F9aLKPzRkNcPqv7OX7QfwnQTeGfEd9qtpGP9Vo2qyD8PIfaD+FfoPRQefPI8G9aScH3i3/wT85/Dv7cvxS+H+pNpfi7TbfVntjtng1C1NndL/wB88fmK9+0X9v34b33hubUL+PUtN1CIY/ss25lkkPojL8rfmK7L9qT4N6V8UfhjrVwdLF34j02zkuNNuIVAn3qC3lg9w2MbfevysZSrbWpbHzmMxeYZNUVN1OeLWl1/Wq9T6/8AHH/BQzxPrV0LTwZ4dtdLRztSW+3XNw/0RcKPxzSaT8N/2m/jaq3ereItR8N6fN1F7dtYAr/17wV6H+wf8FNK03wPD491KwWbXNQmkFnNcKCbeBSVBT03EH8q+uqD1MHgcRj6ar42tK0tVFOyt5nxho//AATngup/tHibx1eX8zffWztAv/j8jMf0r0DS/wBgf4VWCgT2+r6l73d+Qf8AxxVr6PopnsU8nwNPakn66/meL2H7Hfwf00fu/BsMh9bi8uZf/QpDW/D+zf8AC+H7vgPQv+BWaH+dek0UHZHB4aPw0o/cjhIfgP8ADeD7ngHwyPrpFuf5pVn/AIU34B/6Efw3/wCCi3/+IrsqKDX6vRW0F9yOM/4Uz4A/6Ebw3/4KLf8A+Ipp+Cnw9br4D8Mn/uD2/wD8RXa0Uw9hS/kX3I4CT4A/DSb73gDw1/wHSoB/JaqSfs2/C6b73gPQ/wALRR/KvSqKRLwtB7019yPKZP2WPhPN97wNpf4Iw/kaoTfsf/CC4+94Ltx/u3dwv8pK9looM3gsK96UfuR4ZN+xP8G5unhN4/8Arnqd2P8A2rVCX9hb4RydNHvU/wBzUJR/WvoKigzeXYN/8uY/cj5xk/YI+FMnS31eP/d1Bh/SqUn/AAT4+GEnS78Qp/uXsY/9pV9N0UiHleBf/LpfcfLDf8E6/hu/XWfFA+l3bf8AyPUJ/wCCc/w/7eIPEg/7bwf/ABqvq2igj+yMB/z6R8lN/wAE5fBP8PiXxAv4wf8Axuof+HcPhH/oada/74i/wr67ooJ/sbAf8+l+J8iD/gnD4R7+KdaP/AIv/iatJ/wTn8Cj7/iLxC//AAK3/wDjVfWNFFg/sbAf8+l+J8sL/wAE6/hwv/Mb8Un63Vt/8j1r6f8AsDfCqz/10GsX3/Xxfkf+gKtfSFFMuOU4GO1FfceK6X+xz8IdLbcng+G4f+9dXc8v6NIRXoPhv4XeDvB8iy6H4W0fSZl6TWdjFHJ/30Fz+tdTRQdlPC4elrTppeiQUUUUHUFFFFABRRRQAUUUUAFFFFABRRRQAUUUUAFFFFABRRRQAUUUUAFFFFABRRRQAUUUUAFFFFABRRRQAUUUUAFFFFABRRRQAUUUUAFFFFABRRRQAUUUUAFFFFABRRRQAUUUUAFFFFABRRRQAUUUUAFFFFABRRRQAUUUUAFFFFAHz3+3V/yb7qP/AF+Qfzaszxd8cp/gh+zd4KvNNtob7XtQtoLaxt5wWQttGSQCCcccA962/wBt7T7nUP2ftWFtBJOYbiGWQRrnagJyx9uRXg37P3g/xD+0h4y8Oa94hs3s/BfhO3jgs4TnZNKmMYz1OeSfoK8itKUa7jDeSVvv3P2HJcLha+QUsTjmvY0as5SV/i92PLFf4n+Fz7d8IahqOq+FtKvNWto7PU7i2SW4t4ySqORkgZrQbT7WSTzGtoWkzneYwT+dT9OBwKWvWS0sfkc5803KKtfounkFFFFMyKWraLp+v2bWmp2NvqNoxy0F1EsiH6qwIrn/APhUfgb/AKE3Qf8AwWw//E11tFS4xe6Omnia9FctObS8m0cVpXwW8CaD4ii13TfCWk6fq0Wdlza2qRFc9wFAGffGa6fWtD0/xFp8ljqllBqFnJjfBcIHRsHIyD71eooUYpWSHUxWIrTjUqVG5LZtttej6EdvbxWlvHBBGsUMahEjQYCqBgAD0qSiiqOa99WQXVjbX0ey5t4rhP7sqBh+RrGt/h74Ws9QS+t/DWkQXqHK3EdjEsgPqGC5roKKTinujWFarTTjCTSfZnyH8fpFuf2yPhJBGd8sMkbuo6qpkGD+h/Kvrvr1r5E1qP8Atn/goNpC7WmSz0rJ44QrHIR+pFfXlceG1lUl5n2XEn7vDZdR7UU//ApSYV8R33gD4kfsrfFHxH4v8MeGLfx14Z1a4aaVhGZLyGMsXK7gC8ZyzAsAykAEjPT7corWtRVWzvZrZnkZRnNTKnUg6aqUqqtOMr2aTutVZpro0fnt8TvEXib9qzxp4Z/4Rr4aX3hzW9PuF369MWyiZBAkbYoCoRuGST1A6nP6E0UUqNF0nKTlds2znOo5pSoYajRVKlRTUVzOT95pu7lr00XQyPFnhXTfG/hy/wBC1iD7Tpt9GYp4txXcvXqOR0pPCPhLS/Avh2y0PRbYWmm2aeXDCCTgfU8k1sUVvyq/NbU+f9vV9l7DmfJe9r6X2vbvbqFFFFUYBRRRQAUUUUAFMmmjt4XlldYoo1LO7kBVA5JJ7Cn14B+3NrF9pH7PerCykkiF1c29tO8eQfKZ8sCewJAH4471lVn7ODn2PTyvAvMsdRwSly+0ko37Xe56Vo/xs8A+INWbTNP8YaNdX4O0QpeJlz6Lk/MeP4c12tfJnhP9iz4Z/ED4R+GNQsmvLHVLvTILhtWsrosXlaMFtyNleGJBAAIwRwaT9jbxR4g0f4h/ED4aatrc2u2Ph2Rks5rjJZRHKY225J2qcqduTgjjvXLCvUUoxqx+LZo+qxuRZfPD4ivlleTdD44zjZ25uW6abW/R2Z9aVleK7Vr7wvrFsoy01nNGPqUIrUJwMngV4N4i/bU+GHh7xLcaJdajcymGQwz3MNs7wow4IyBz+FdVSpCmvfdrny+XZfjcdU/2KjKo46vlV7HJf8E+7kR/DjxFpZLebp+qvG4PQEjt+VfU9fG/7DmuWknxI+J+m6bcC60yWcX8EqH5WVnIBH4GvZf2mvjRqPwT8KaVqWmWcF3Pd36W7LcZwE6nGO9cmGqRhhlKWy/zPsOJctr47iaphqC9+q4tJ6fFFPXt1PY6Kq6XeHUNMtLorsM8KS7fTcoOP1q1XoH53JOLaYUUUUCMPWvHXhzw3qFvY6trunabe3IzDb3V0kckn+6pOTXy5+03cxWv7TfwY1JpFe0NwCJEORxKn+NcD+1l4S0+x/aMttX8fW+rN4I1K0SBL/TcboWAYYBII+U8kYyQeK8i+L3g21+Get+Gbnwx4x/4SrwpM4u9OlWbJtmDAsjKDhW6dhnByOK8LE4mTUouOia6679j964X4Zw1KeHxVOu3KtTnpy+7eUZJxU09JR6prXofRP7SHhuP4s/tfeB/AeuXVzD4em0wyeXbSbWDEXDFhkEBiYlXOOgrN8Pm+/Y//aEtPCj+IJr3wLrlg0ym+kwtrw+Gx0DK0fJHBVvXpwPxW/aKim/aI8JePoNDv7Z9BiSyuo7hQguVDSbmj5PVZXxntitXxx42079rr48eArTStM1LTYTbSWd+LiMB4kJdnYEEjAUkg+9YyqQc5Sg/f5lb00PZo5djaeDw+FxkLYP6vJVFo1Ga5pc3+LZplv4RftieJfCU/imC+0vUfHED6g88dzDIXEEeW4HH3SACPpX0z8Lfjl4D/aU0+70mbT42vYF33Oh6zAjnHTcFbIYA+nTNfIX7OvxXtP2W/ij4s0PxLBNcaa032Ke8tFLeS0bnEhXqVIPbnkV1vxG8ceDr79pr4beKfhjfwz3+oXsVtqcFkhQMGkVCzDHVkdgf9zPWro4iUIJylfWzT33OLO+H8Li8bUjh8LKneHPTrRb5G1G9pLaN7WurO9n1Mj4jfAqyuP2um8I+C7s+C/OtVu7eezDYgl8oMdoDAqCc9Dxngdq6r9sfS9b8G/Cv4ZWniTVz4i1ixv8A/SL4JtM21SR15Jxxk8nqa3/EmpW+m/8ABQfSmuZBEJrJIUJ6Fzb8D9K1v+Cg1i3/AAiHg7U8FoLTWF83jopU805U4qlWlHe/+XQzw+Y4ipmmTUK75oulGV2lzOTjNP3vi100va5P4N/bs0i88QabpfiPwzqPhqzvWWGHULnHlqTgZf0Ge4zjqa+qFYMoIOQeQa+Y/wBtuxsfEv7M0GsiFXe3ls7q1lK/MiyYUgHsCH5+gr2n4MalJqnwd8EX1zL5k0+h2UssjHqxgQsSfrmvSozmqjpTd9E7n5rnOEwNXL6OZ4Kk6V5ypyhzOSvFJppvXVPU7Siso+KtFUkHWLAH/r5T/GlHirRWIA1iwJPQfaU/xrs5l3PjfY1f5X9xqUUgIYAg5BpaZiFFcr48+Iui/DjTbe71iacvdTC2tLOzt3ubm6mIJEcUSAs7YB6CuI0f9qDwlcePtL8Fa9Z614J8TashfTLHxJY/ZxfY6iKVWaNmH93du9qUfedkD0V2ew0VwPxS+M3hz4RWth/bLXt5qWouYtP0fSLOS9v71wMkRQRgs2ByT0Hc1yXwy/a48BfE3xtP4LQax4W8aRRib/hHvFOmS6deSRkZ3IrjDD6GnH3tIg/dV2e10UUUAFFFeVeLP2kPBfgz42+GPhVqVxdJ4t8RW7XNjFHbM0JQb/vSdAT5b/lRu1FbsNk5dEeq0UUUAFFFFABXM33w18I6pfG9vfCuiXd4xybi406F5CfXcVzXTVynxQ+JGi/CHwHrXi/xDJLDouk25ubloIjI4QccKOp5qZSUVdi9mqjUWrnTRxJDGqIoWNRgKvAAqWuT+FvxK0X4weAdF8YeHZJpdG1eAXFs1xEYnKZI5U9DkGtzS9YstajklsbqC7ijleB3t5A4WRGKuhI7qwII9quScW4vdApKSTWxoUUUUhhRXmHx7+Odt+z/AOC5/FOpeFfEPiTR7RGlvJNAhglNpGoyXkEs0eF9xmuq+HPje0+JXgHw94ssYJray1uwh1CCG4AEiJKgdQ2CRnB7Ghe9drp+v/DMHpa/X9DpaKKKACiiqeqanaaLp9xfX9zDZWNtG0s1zPIEjiRRkszHgADuaA8i5RVSe68uze5gRrtRGXVIiC0nGQFyQOa8g+DH7UWkfGf4i+MfBUPhXxJ4W17wrHbyX9v4ggt42/fAlAvlTSZ4GetC1lyrfcV7R5uh7VRRRQMKKKKACiiigAooooAKKKKACiiigAooooAKKKKACiiigAooooAKKKKACiiigAooooAKKKKACiiigAooooAKKKKACiiigAooooAKKKKACiiigAooooAKKKKACiiigAooooAKKKKACiiigAooooAKKKKACiiigAooooAKKKKACiiigAooooAKKKKACiiigAooooAKKKKACiiigAooooAa6LIjI6hlYYKsMgj0psMEdtEsUMaxRqMKiKAB9AKkooHd2sFFFFAgooooAKKKKACiiigAooooAKKKKAKK6Hpy6s2qCygGpNH5RuvLHmFf7u7rir1FFBUpSlbmdwooooJCiiigAooooAKKKKACiiigAooooAKx/F3hPS/HXhrUNB1q1W80y+iMU0Ldx1BB7EEAgjkEA1sUUmk1ZmlOpOlNVKbtJaprdNdT42tfgZ8bv2e766i+F+tweI/C0kpmTSb9kEnPGCr4UHGMsjLnbyB0rF/YTtdRh+N3xMOtWv2PWljYXdvu3eVKbgl1zk5ww65PTqa+46+RPgPnwz+2t8W9ElX5r6F75WJz96SKUD/vmb9K8qdCNGrTcW7X26LQ/V8HnuIzjK8ypV6cPaezUnNRtKSjON+a2jtfe1z60vrdruxuIFfy2ljZA/8AdJBGa/PTw9qGm/ADUvFvhL4ofD+XV7LVLt5otXjt1kYKcgMrHtzn5T1r6/s/2hNB1T44P8NNPtri/v4bd5bm/gKmCB1XcY29wMAnsxA9celX+m2mq27W97aw3kDdYriMOp/AjFdNSmsRaUJaxuu/qfN5bmFbh1Sw+NoN068YyspOErJtxkmtuuj3PzS/ZE8Xat4b+PB07wjbR32natL5EzXKMClqrFg3sQMda+uP2xvhn4h+JvgjRbTw7Ym/ubbUo5ZI1YKQh4Lc9hXsWh+BvDvhm7lutI0LTdMuJRh5bO1SJiPTKgcVuVFHCclF0pyvc7s34tWMzijm+Eo8sqaXxO7k1peVrdNClotq9jo1hbyjEkNvHG2PUKAa8Z+MH7WGifB/xV/YN7oOrahceUspmt48R4PQAnr0r3Oq1xptpeMGntYZmHAaSMMf1Fdc4zcbQdmfHYHEYSniHUx1J1IO+ily6972Z85+Ev25PDvizxJp2jx+GNbgkvZlhWQxbgpJxkgDpX0rVSLSLCGQPHZW8bryGWJQR+OKt0qcakV+8lf5WNMyxGAxE4vAUHSSWqcua7+aVjK8TeFtJ8ZaNcaTrdhDqWn3C7ZIJ13A+49D7jmvjn9o79jnwZ8PfhT4g8ReF7bUX1O3eOZY5rjzEhi3jeFG0HG3P3iTX23TZI0mjZJEV0YYKsMgj0Iqa1CFZNSWvc7Mlz/HZJWjPD1Jcikm4ptKVns/XY+UfGXgPUf2hv2NfC72FsTr+n28N3a27DDSNCGiZB7smSPU7a4XS/20IPC/gO2s4PBq2/xPh8qwm860CrcbTtZywG8k4+6f4j3r7nhhjt4liijWKNRhUQAAD0AFZd54P0HUtWi1S70XTrnU4SDHeTWsbzIR0w5GRj61hLDzupQlZ2s9Px9T3cLxJg+SeHx+F9pS55TglK3LzPWL096L0vsfHnwd0Wy1v9rb4h6P4i0e2nj1LTo557C4QSLHKyQSsBx1BLDNfTfhX4B/D7wRrA1bRPCtjYaiuStwoZ2Unuu4nB+lfO2lasuj/wDBQq/gjjKrqFoYpSw6t9nyCP8Avlf1r7IqcLCLUrq7UmbcVYzFU6mH9nUlGFWhSbSbSfu21V9dup4h4+/Zx/4TD49eGPiJBqUdommoourVkJeZl3BCp6dCAc+laH7R/wAD7/46eHtM0i21xdJtYLoT3EbxbxKo9D1BFev0V1OhBqSt8W58vTzzH06uHrRn71BcsNE7LXy136nOXXgHRtW8CxeEtVtE1TRltYrSSCfOJFjChScHIOVB4PUVNeeC9MuPBknheGJrHSTafYY47ZipiiC7QFPUYFbtFa8sex5P1qvp770fNvpzd7bX8z5TuP2DfAkMrLL4s1mJ+u17pAf1og/YP8BySAp4s1iXb8xVbtOn4V0fxG/Y30/4ieMtR8QS+MdbsJL1w5t4n3ImABhfmGBx0rlpv2CUtwG034j69ayHh+vzL3HD15UqFnpRTXqfrNHPpVKUXUzqcZNK69k3Z9VdfmfUui6XFoek2enwM7w20SxI0jFmIAwMnuau1R0PTP7F0XT9O8+S6+yW8dv58xy8mxQu5j3Jxk/Wr1estj8hqPmm3e+u/fzPE/2jP2d/Dvxqv/BPiLxB4j1Dw3H4I1A6xFcWc6QocbWYSOw+VcRjnjHNfOX7QS2f7Z37R3wf0X4cajb65ongXUjrev8AibTZhLa2vzwskCSrlXkbyTwP8a9/+LX7SWo/Dn4+/Dr4a6b4IvvEn/CVq8s+pW0pVbCJXCtIV2Hcqg7m5HFfPP8AwVI1y6+HGpfCLxj4MZrP4mJrn2Syls+J7q3K/NA4H34yxUYPHNFN8s6U18PPp/iuo380nb7vkRJcynB78v8A5LZv5XTf3n0F4s+CfjvUP2tfC3xO0fxTY2XhOz0ZtJ1TR5oS08675H/dnBABYx85B+U14F+3bpreJP2u/wBmXTfCo3eOLfVXvbl4R88WnrLEzM/ouFn/AFr6u+Lnxns/hL4X0+e6hiu/E2rMLbS9Ha5WH7TclckF24SNOryHhVGfQV5H8PrPwh8GdSuPG/iHxJpXjv4teLb+00+5utPu42KCeeOGO1tE3Fo7aMnOOp2kk06Xu1IJbQldebbbt9718tOpE3zQlLrONvla136JfeuydvqmvPPjf8bvDfwD8DyeJPEb3EiPMlpZ2FlH5t1fXLnEcEKfxOxH6V6HXxD/AMFFbefR/HH7PfjK/wBx8G+HvGUEmryH/VW2+SIRyv7Da1TvOEdrtL0u0v68y9lKVr2Tf3Js9M8cftW638HD4QuviT4FtPDel+KNSh0qzXT9ca/vYZpOR50ItkjUDuVmer3jb9oCw8KftJeCfAmt/Dm8F/4gkmttE8VyNavGwSLzJgmGMqAcAjAzkV65448Q+HvDvhs69r4hl02zZJ4pGhEx8wsFj8tcElyzALt5ya+av2q/+Tyv2UP+wlrP/pLHVw1q04vrK3yt+e/yZD/hzkukW/mrv7tvuO5+OP7WA/Z++IHhnSPEvgu//wCEa1+6+xW3iS3vIXQShNxUwDMnFaHww/ao03x54+8c+ENY8M6r4L1bwhZw6hftq7RGIW8ibw29GIBA5IPv6V5j+3laxXvxM/ZihmXdE/xCtgR+Ar179sDwxrfjD9mL4l6N4dSSXWLvRbhIIYR88vy5KL7sAR+NYOTp0J1HrZyX3Ri1+L+42UVOrCntdRf/AJNJP8F9/wBxx2nftb6r4u+H+ufEXwr4Gt7n4b6VHcXH9ua5rLWE19bwg+ZNbW6W0xZPlOPMaPOKZ4o/bX0/Sf2eNH+M2k+B9f8AEHg69tTdXUkM1rDLp6iQRYkR5QW+fIzHu6CtT9hHXdH8Vfsh/Df+zTFNbW+jx6fdRY+7NEPLlRh65B/OuW/bN1/R/Fn7CfxPufDSK2lQ2L2sPkxiOPEN0iOUA/gG1unYVril9XVRRd+Xbzte/wB+hGH/AHzpuStzPVettPVanpXxE/aCuPAnwV0/4lWvgrVPEeky6amr3tvYXNvHLY2xhEpdvNdd20H+HJ4qnqnx9j1r9nDTPibZeA9R8UaPqulrqVzosMtt5kNq0Rdy/nOquAOoGSeeK4v4pa3Z6V/wTl1K5uJljt5fh7Hbo3YtJYqij82FS/Bb/lHNoP8A2T5v/SNqMV+6WJ5fsNW/8n0/8lQsN+89hzfbvf8A8l1/8mZ1HhX48Xfir9mnQviJ8Pvh9dat/aFmZbLw7HeW1n5MallG6SRlRVG3t27V4r/wT7+M3xH8YfCnQZbz4aXmo6RrWr6le3ni6PWLJYI5JryaSQi3aTziFYkdPpXo37CoLfsI/D0DknQpx/5Elrgf+CeXjWDwT+w74DuHi88zeIG0nyw2Nj3OqmAH/gPmg/hW8oqGIrR3tZL5yat99jKLdTD0X1b/APbW/wDM+2K4f4vfGLwx8DfBc/ibxZetaadHIsEccMZlnuZmOEiijHLux6AV3FfE3/BQ6zns/H37OviXUf8AkTNG8aQPq8jf6qAvJEIpH9uGrn1coQ25ml97sbbKUuyb+5Nm7+1V8YPEGpfsu/Eka78MfEPhnS9R8P3MUF5cT2tw0JeL5ftEUMrNFyffFdt8LPit4e+Cv7E3w+8YeKrv7Do+m+E9NeRlG53P2eMKiL/EzHGBV39ui/trP9kP4qvPPHCsuhXEMbSMAC7jCge5JFfKP7Vfh3VNc/4Jr/BbUdPSafTtDt9D1HVFteWFqtrsZ/oCw/OknpUS01pq/a7mr/K9x8vM6d9dKjt3soO3z2PpXxN+1P4q+Hvguw8eeMfhdLofgGd4jdXUWsC41PTYJCoSa5sxAFVfmG4JM5X0pfjn+2EfgP4o8MRap4D1TUvB3iC6trO08V2F3DJE0soyFEAJlPHtz2pfGfwN0X4jfCPUZfEXxj8a6j4F1PTPPupJLnTRDJald+7cLLpjBrx39tiHSPDfwg/ZpisZ7iHQbDxpoQhn1JisiWyRnaZvfaBmtLe+oPT34r5Sdmn59Vt17GSd4c2/uyfzSurfrv07nuPjr9qq5+FmmweIPGnw18SeHfBUk0cMuvPLa3Bsw52rJcQRSs8aZxk849K84/4KJfGzxJ4V/Zn1qfwj4ebWPDevaelvceKkv7dbe1guCqDbGX8yQur4BAx81eo/tueJNE8N/sp/Eu41ySMWd1olzZwq3/LSeVCkKj/gRH5V8o/GXwvrvhf/AII96PpniCCWPV7Wy055oZvvRob9GQN9I2UfhWMrSTXaUF8pNpp+lr9N9u/TT0nB91L71azX3+ex9n/BXx9438W24t/FHwwv/Atnb2kJtr261iyvFujtAIC28jFOOea+bfAPjxfBv/BQX9om3tdKvNf1rUbPQ0stMstgkl22il2LuypGi5GS3rX1fonjaFPEXhXwxHF551Dw/Nqy3SONqrC9rGBjvu+05B/2DXzl8B41/wCHjn7SMhX94ulaIAfY20f+Aro3xWnap+H/AAVY46athbv+5/6VE9j+Ff7RVp8QviR4l+HureHdQ8IeNtAgivLjTL6SOZJreTG2WKWMlXGeD0Ir2Ovjzwz/AMpUPGH/AGTq2/8ASpa+w6iOtOM+rv8AhKUf0NXpOUe1vxin+oUUUUDCiiigAooooAKKKKACiiigAooooAKKKKACiiigAooooAKKKKACiiigAooooAKKKKACiiigAooooAKKKKACiiigAooooAKKKKACiiigAooooAKKKKACiiigAooooAKKKKACiiigAooooAKKKKACiiigAooooAKKKKACiiigAooooAKKKKACiiigAooooAKKKKACiiigAooooAKKKKACiiigAooooAKKKKACiiigAooooAKKKKACiiigAooooAKKKKACiiigAooooAKKKKACiiigAooooAK/Pv4u/FR/gt+198R/ECW8kt9PpEdrp67flMz2tsquf9lSrH324r9BK5jXfhj4T8TeILPXNV8PadqGr2YCwXlxbq8iAHIGSOxJI9MmuTEUZVopQdmnc+s4bzbDZRiKs8ZSdSnUg4NJ23cX93u2fqePfsZ/BeX4e+A38R65bt/wlniI/ariSfmWOEnKISeQT99u+WAPSvoikpa2pU1SgoR6Hj5pmNbNsZUxtf4pu/kl0S8ktEFFFFanlhRRRQAUUUUAFFFFABRRRQBysvwx8NTePIfGb6XEfEcUPkJe/wAQXBH54JH411VFFJRUdkbVK1Wty+0k3yqyu72S6LyCiiimYhRRRQAUUUUAFFFFAHDfFL4M+EvjJplrZeKtL+2izk8+zureeS2urSXtJDNEyvG30NcV4M/ZB+HvhHxpaeLrhNb8XeJ7EbbHVfFutXOqzWa+kJmchPwGa9uooj7rvEH7yszxf40fsd/CT9obXrTWfiB4VfxBqFpB9mgkbVLy3WNM5wEhmRevtXNeBf8Agnv8Afhn4s0zxN4a8Bf2brmmTC4tLs6xfzGKQdGCyTsp/EV9G0Uo+58OgS9/SWoVmeIvDeleLtFu9I1vTrXVtKvIzFcWV7CssUqnqGVgQRWnRQ1dWY9U7o8u8J/s3/D/AMF3mnXGmaVfMmmndp9pqGs3t9aWLDo1vbzzPFCR2MaqRWR46/ZF+GHxM8aQeLfEmlaxf+IbaQy2t6nibVIDaMepgWK5VYf+2YWvaKKOqfVC7o8V+In7IHwu+K+uWOseK9H1bV9QsSjWkjeJdUjFuyj5WjVLlVRv9pQDXqPhXwvY+DtDttI057x7O2G2NtQv572bGc/NNO7yN/wJjWzRT6WFbW55RefswfDe51rU9Uh0K50u41WQy6jFo+r3un21856tPbwTJFMT33qa9Abwro0nhk+Hm0qzbQTbfYzpvkL9n8jbt8vy8bduOMYxiteilb3eXoV15up47bfsn/DC10WfRRoV5Por2slmml3et39xZ2sMiMjrbwSTmO3JVmG6JUIzwar2P7IPwy0z4fy+BrPTtctvCUhy2lR+KtWEW3aV8sH7VuEZBOYwdpzyK9qooaumn1Fta3Q89+EPwM8HfAnRJdG8FWF7pWksQVsp9XvL2KPH/PNbiVxH7hMVT8P/ALOPw78J+KJdf0fw9/Z95JevqJt4r25+wi6YYa4Wz8zyFlI/5aCMN716dRT1vzN6isrcvQKy/EvhnSfGWhXmja5pttq2k3kZiuLK8iEkUqnqGU8GtSik1dWZSbWqPGLj9kP4V3mg3Oh3nh+81HR5rZ7NbHUNbv7qG2hZcMtukk7C3yO8QQ1u/Cf9nfwB8EvDN94d8H6E2n6HetunsLm9uL2JuNuMXEj4GOw4r0qin389xdvI8l0v9lv4aaJJClloFxDp0Mwni0X+1r1tKjkByGWwMxtlOfSOvmn/AIKZfEPwrFcfCbw7e6jDPfab4103VNS08RtK0NkA+6R1HbmvvCil1i+zT+5p/p9wdJeaa+9W/U8P8IfAT4OeL7XQvFOkaSPEmlwEXWji81S8vtPtT2e2tZ5Whh9jGi1614n8L6T408P3+h67p9vqukX0TQXNndIHjlQ9VYHtWtRTklJcvQI3Tv1PPvAfwO8HfDOzntvD9jeWyzWy2fmXWq3d3LFbr92GKSaV3ijHZEKqOwrkvCf7HPws8C+OJPGOiaVrdn4nmdXn1JvFWrTSXJXoJvMumEo9nBFe3UUdebqK2nL0PDrP9jP4U6f46Pja30vXk8WHhtYbxZq7XDLnO1mN1yv+yePavcaKKFolHoh7tye7CiiigAooooAKKKKACiiigAooooAKKKKACiiigAooooAKKKKACiiigAooooAKKKKACiiigAooooAKKKKACiiigAooooAKKKKACiiigAooooAKKKKACiiigAooooAKKKKACiiigAooooAKKKKACiiigAooooAKKKKACiiigAooooAKKKKACiiigAooooAKKKKACiiigAooooAKKKKACiiigAooooAKKKKACiiigAooooAKKKKACiiigAooooAKKKKACiiigAooooAKKKKACiiigAooooAKKKKACiiigAooooAKKKKACiiigAooooAKKKKACiiigAooooAKKKKACiiigAooooAKKKKACiiigAooooAKKKKACiiigAooooAKKKKACiiigAooooAKKKKACiiigAooooAKKKKACiiigAooooAKKKKACiiigAooooAKKKKACiiigAooooAKKKKACiiigAooooAKKKKACiiigAooooAKKKKACiiigAooooAKKKKACiiigAooooAKKKKACiiigAooooAKKKKACiiigAooooAKKKKACiiigAooooAKKKKACiiigAooooA//9k=)"
      ],
      "metadata": {
        "id": "IWlmPUzi0FLU"
      }
    },
    {
      "cell_type": "code",
      "source": [
        "qdi_reps1 = 3\n",
        "qdi_reps2 = 3\n",
        "qdi_depth = 3"
      ],
      "metadata": {
        "id": "ZyLvlmyr0Bst"
      },
      "execution_count": 6,
      "outputs": []
    },
    {
      "cell_type": "markdown",
      "source": [
        "Setting hyperparameters for EFQ:"
      ],
      "metadata": {
        "id": "Yrx4s1hx8xzb"
      }
    },
    {
      "cell_type": "code",
      "source": [
        "efq_depth = 2 #depth of efq layer"
      ],
      "metadata": {
        "id": "IEIjkJXz820E"
      },
      "execution_count": 7,
      "outputs": []
    },
    {
      "cell_type": "markdown",
      "source": [
        "Setting hyperparameters for PQN:"
      ],
      "metadata": {
        "id": "00SRmdz1-gLz"
      }
    },
    {
      "cell_type": "code",
      "source": [
        "pqn_c = 2 #number of circuits which are executed in parallel. num_qubits % pqn_c must be equal to zero!!\n",
        "par_qubits = num_qubits//pqn_c\n",
        "if num_qubits % pqn_c != 0:\n",
        "    print(\"num_qubits % pqn_c must be equal to zero!! following computations will cause an error\")"
      ],
      "metadata": {
        "id": "QSJmlIoJ-eiY"
      },
      "execution_count": 8,
      "outputs": []
    },
    {
      "cell_type": "code",
      "execution_count": 9,
      "metadata": {
        "id": "Ldv5AFSq5cuf"
      },
      "outputs": [],
      "source": [
        "device = \"cuda\" if torch.cuda.is_available() else \"cpu\""
      ]
    },
    {
      "cell_type": "code",
      "execution_count": 10,
      "metadata": {
        "id": "YfkljeeC5nWv"
      },
      "outputs": [],
      "source": [
        "# [ds] = qml.data.load(\"other\", name=\"bars-and-stripes\")\n",
        "\n",
        "# train_features = (np.sign(np.array(ds.train['4']['inputs']))+1)/2\n",
        "# train_labels =(np.array(ds.train['4']['labels']) + 1) / 2\n",
        "# test_features = (np.sign(np.array(ds.test['4']['inputs']))+1)/2\n",
        "# test_labels =(np.array(ds.test['4']['labels']) + 1) / 2"
      ]
    },
    {
      "cell_type": "markdown",
      "source": [
        " a simplified version of the MNIST handwritten digits dataset. This version involves distinguishing between digits 3 and 5 rather than the full range 0-9."
      ],
      "metadata": {
        "id": "M_YqBtAR_i_h"
      }
    },
    {
      "cell_type": "code",
      "source": [
        "# [ds] = qml.data.load(\"other\", name=\"mnist-pca\")\n",
        "\n",
        "# train_features = np.array(ds.train['16']['inputs'])\n",
        "# train_labels =(np.array(ds.train['16']['labels']) + 1) / 2\n",
        "# test_features = np.array(ds.test['16']['inputs'])\n",
        "# test_labels =(np.array(ds.test['16']['labels']) + 1) / 2"
      ],
      "metadata": {
        "id": "Vp9iffEz9Ch1"
      },
      "execution_count": 11,
      "outputs": []
    },
    {
      "cell_type": "code",
      "source": [
        "[ds] = qml.data.load(\"other\", name=\"linearly-separable\")\n",
        "\n",
        "train_features = np.array(ds.train['16']['inputs'])\n",
        "train_labels =(np.array(ds.train['16']['labels']) + 1) / 2\n",
        "test_features = np.array(ds.test['16']['inputs'])\n",
        "test_labels =(np.array(ds.test['16']['labels']) + 1) / 2"
      ],
      "metadata": {
        "id": "BDHwVLNuV3Ya"
      },
      "execution_count": 12,
      "outputs": []
    },
    {
      "cell_type": "code",
      "execution_count": 13,
      "metadata": {
        "id": "PDO3W1jIZIlL"
      },
      "outputs": [],
      "source": [
        "class BaSDataset(Dataset):\n",
        "    def __init__(self, data_x, data_y):\n",
        "        self.X = torch.tensor(data_x).float()\n",
        "        self.y = torch.tensor(data_y).float()\n",
        "\n",
        "    def __len__(self):\n",
        "        return self.X.shape[0]\n",
        "\n",
        "    def __getitem__(self, index):\n",
        "        return self.X[index], self.y[index]\n"
      ]
    },
    {
      "cell_type": "code",
      "execution_count": 14,
      "metadata": {
        "id": "dmuFu8JOcaSx"
      },
      "outputs": [],
      "source": [
        "train_dataset = BaSDataset(train_features, train_labels)\n",
        "test_dataset = BaSDataset(test_features, test_labels)"
      ]
    },
    {
      "cell_type": "code",
      "execution_count": 15,
      "metadata": {
        "id": "kZOlvd0sd-8K"
      },
      "outputs": [],
      "source": [
        "batch_size = 60\n",
        "train_dataloader = DataLoader(train_dataset, batch_size=batch_size, shuffle=True, drop_last=True, pin_memory=True)\n",
        "test_dataloader = DataLoader(test_dataset, batch_size=batch_size, shuffle=False)"
      ]
    },
    {
      "cell_type": "markdown",
      "metadata": {
        "id": "3o_dst17omf_"
      },
      "source": [
        "# Noiseless simulator"
      ]
    },
    {
      "cell_type": "code",
      "execution_count": 16,
      "metadata": {
        "id": "jVRrFsv-5ec_"
      },
      "outputs": [],
      "source": [
        "dev = qml.device(\"lightning.qubit\", wires=range(num_qubits))"
      ]
    },
    {
      "cell_type": "code",
      "source": [
        "# @title QDI layer\n",
        "@qml.qnode(dev, interface='torch', diff_method=\"adjoint\")\n",
        "def qdi_circuit(weights, input_array, wires=range(num_qubits)):\n",
        "    for r in range(qdi_reps1):\n",
        "        for i in range(len(wires)):\n",
        "            qml.RX(weights[r][i], wires=wires[i])\n",
        "        for j in range(len(wires)-1):\n",
        "            qml.CNOT(wires=[wires[j], wires[j+1]])\n",
        "        qml.CNOT(wires=[wires[len(wires)-1], wires[0]])\n",
        "        qml.Barrier()\n",
        "    for d in range(qdi_depth):\n",
        "        qml.AngleEmbedding(input_array, wires=range(num_qubits), rotation='Z')\n",
        "        for r in range(qdi_reps2):\n",
        "            for i in range(len(wires)):\n",
        "                qml.RX(weights[qdi_reps1+d*r][i], wires=wires[i])\n",
        "            for j in range(len(wires)-1):\n",
        "                qml.CNOT(wires=[wires[j], wires[j+1]])\n",
        "            qml.CNOT(wires=[wires[len(wires)-1], wires[0]])\n",
        "            qml.Barrier()\n",
        "        qml.Barrier()\n",
        "    return qml.expval(qml.PauliY(0))\n",
        "\n"
      ],
      "metadata": {
        "id": "Af4xhUpzkqHG"
      },
      "execution_count": 17,
      "outputs": []
    },
    {
      "cell_type": "code",
      "execution_count": 18,
      "metadata": {
        "id": "UOGGLKYcRIvu",
        "colab": {
          "base_uri": "https://localhost:8080/"
        },
        "outputId": "ca7f23c4-be68-4c99-e083-159878907324"
      },
      "outputs": [
        {
          "output_type": "stream",
          "name": "stdout",
          "text": [
            "0: ──RX(1.00)─╭●───────╭X──||──RX(1.00)─╭●───────╭X──||──RX(1.00)─╭●───────╭X──||\n",
            "1: ──RX(1.00)─╰X─╭●────│───||──RX(1.00)─╰X─╭●────│───||──RX(1.00)─╰X─╭●────│───||\n",
            "2: ──RX(1.00)────╰X─╭●─│───||──RX(1.00)────╰X─╭●─│───||──RX(1.00)────╰X─╭●─│───||\n",
            "3: ──RX(1.00)───────╰X─╰●──||──RX(1.00)───────╰X─╰●──||──RX(1.00)───────╰X─╰●──||\n",
            "\n",
            "──╭AngleEmbedding(M0)──RX(1.00)─╭●───────╭X──||──RX(1.00)─╭●───────╭X──||──RX(1.00)─╭●───────╭X──||\n",
            "──├AngleEmbedding(M0)──RX(1.00)─╰X─╭●────│───||──RX(1.00)─╰X─╭●────│───||──RX(1.00)─╰X─╭●────│───||\n",
            "──├AngleEmbedding(M0)──RX(1.00)────╰X─╭●─│───||──RX(1.00)────╰X─╭●─│───||──RX(1.00)────╰X─╭●─│───||\n",
            "──╰AngleEmbedding(M0)──RX(1.00)───────╰X─╰●──||──RX(1.00)───────╰X─╰●──||──RX(1.00)───────╰X─╰●──||\n",
            "\n",
            "───||─╭AngleEmbedding(M0)──RX(1.00)─╭●───────╭X──||──RX(1.00)─╭●───────╭X──||──RX(1.00)─╭●───────╭X\n",
            "───||─├AngleEmbedding(M0)──RX(1.00)─╰X─╭●────│───||──RX(1.00)─╰X─╭●────│───||──RX(1.00)─╰X─╭●────│─\n",
            "───||─├AngleEmbedding(M0)──RX(1.00)────╰X─╭●─│───||──RX(1.00)────╰X─╭●─│───||──RX(1.00)────╰X─╭●─│─\n",
            "───||─╰AngleEmbedding(M0)──RX(1.00)───────╰X─╰●──||──RX(1.00)───────╰X─╰●──||──RX(1.00)───────╰X─╰●\n",
            "\n",
            "───||──||─╭AngleEmbedding(M0)──RX(1.00)─╭●───────╭X──||──RX(1.00)─╭●───────╭X──||──RX(1.00)─╭●──────\n",
            "───||──||─├AngleEmbedding(M0)──RX(1.00)─╰X─╭●────│───||──RX(1.00)─╰X─╭●────│───||──RX(1.00)─╰X─╭●───\n",
            "───||──||─├AngleEmbedding(M0)──RX(1.00)────╰X─╭●─│───||──RX(1.00)────╰X─╭●─│───||──RX(1.00)────╰X─╭●\n",
            "───||──||─╰AngleEmbedding(M0)──RX(1.00)───────╰X─╰●──||──RX(1.00)───────╰X─╰●──||──RX(1.00)───────╰X\n",
            "\n",
            "──╭X──||──||─┤  <Y>\n",
            "──│───||──||─┤     \n",
            "──│───||──||─┤     \n",
            "──╰●──||──||─┤     \n",
            "\n",
            "M0 = \n",
            "[1. 1. 1. 1.]\n"
          ]
        }
      ],
      "source": [
        "print(qml.draw(qdi_circuit)(np.ones((qdi_reps1 + qdi_depth*qdi_reps2, num_qubits)), np.ones(num_qubits)))"
      ]
    },
    {
      "cell_type": "code",
      "execution_count": 19,
      "metadata": {
        "id": "CVapZNt66Ki3"
      },
      "outputs": [],
      "source": [
        "# @title EFQ layer\n",
        "def efq_subroutine(params, input_array):\n",
        "    wires = range(num_qubits)\n",
        "    j = 0\n",
        "    for i in range(len(wires)):\n",
        "        qml.RY(params[i+j], wires=i)\n",
        "        qml.RZ(params[i+j+1], wires=i)\n",
        "        qml.RX(params[i+j+2], wires=i)\n",
        "        j += 2\n",
        "\n",
        "    for i in range(len(wires)):\n",
        "        qml.CNOT(wires=[i, (i + 1) % len(wires)])\n",
        "\n",
        "    j = 0\n",
        "    for i in range(len(wires)):\n",
        "        qml.RY(params[3*len(wires)+i+j], wires=i)\n",
        "        qml.RZ(params[3*len(wires)+i+j+1], wires=i)\n",
        "        qml.RX(params[3*len(wires)+i+j+2], wires=i)\n",
        "        j += 2\n",
        "    qml.Barrier()\n",
        "    for i in range(len(wires)):\n",
        "        qml.AngleEmbedding(2**i*input_array[i].reshape((1,)), wires=[i], rotation='Z')\n",
        "    j = 0\n",
        "    qml.Barrier()\n",
        "    for i in range(len(wires)):\n",
        "        qml.RY(params[6*len(wires)+i+j], wires=i)\n",
        "        qml.RZ(params[6*len(wires)+i+j+1], wires=i)\n",
        "        qml.RX(params[6*len(wires)+i+j+2], wires=i)\n",
        "        j += 2\n",
        "\n",
        "    for i in range(len(wires)):\n",
        "        qml.CNOT(wires=[i, (i + 1) % len(wires)])\n",
        "\n",
        "    j = 0\n",
        "    for i in range(len(wires)):\n",
        "        qml.RY(params[9*len(wires)+i+j], wires=i)\n",
        "        qml.RZ(params[9*len(wires)+i+j+1], wires=i)\n",
        "        qml.RX(params[9*len(wires)+i+j+2], wires=i)\n",
        "        j += 2\n",
        "    qml.Barrier()\n",
        "    for i in range(len(wires)-1, 0, -1):\n",
        "        qml.CNOT(wires=[i, 0])\n",
        "\n",
        "@qml.qnode(dev, interface=\"torch\", diff_method=\"adjoint\")\n",
        "def efq_circuit(weights, input_array):\n",
        "    qml.layer(efq_subroutine, efq_depth, params = weights, input_array = input_array)\n",
        "    return qml.expval(qml.PauliZ(0))\n"
      ]
    },
    {
      "cell_type": "code",
      "execution_count": 20,
      "metadata": {
        "collapsed": true,
        "id": "CpySUk9nRwNP",
        "colab": {
          "base_uri": "https://localhost:8080/"
        },
        "outputId": "fc491168-ec27-4862-f43f-14b3801c1346"
      },
      "outputs": [
        {
          "output_type": "stream",
          "name": "stdout",
          "text": [
            "0: ──RY(1.00)──RZ(1.00)──RX(1.00)─╭●───────╭X──RY(1.00)──RZ(1.00)──RX(1.00)──||──AngleEmbedding(M0)\n",
            "1: ──RY(1.00)──RZ(1.00)──RX(1.00)─╰X─╭●────│───RY(1.00)──RZ(1.00)──RX(1.00)──||──AngleEmbedding(M1)\n",
            "2: ──RY(1.00)──RZ(1.00)──RX(1.00)────╰X─╭●─│───RY(1.00)──RZ(1.00)──RX(1.00)──||──AngleEmbedding(M2)\n",
            "3: ──RY(1.00)──RZ(1.00)──RX(1.00)───────╰X─╰●──RY(1.00)──RZ(1.00)──RX(1.00)──||──AngleEmbedding(M3)\n",
            "\n",
            "───||──RY(1.00)──RZ(1.00)──RX(1.00)─╭●───────╭X──RY(1.00)──RZ(1.00)──RX(1.00)──||─╭X─╭X───────\n",
            "───||──RY(1.00)──RZ(1.00)──RX(1.00)─╰X─╭●────│───RY(1.00)──RZ(1.00)──RX(1.00)──||─│──│────────\n",
            "───||──RY(1.00)──RZ(1.00)──RX(1.00)────╰X─╭●─│───RY(1.00)──RZ(1.00)──RX(1.00)──||─│──╰●───────\n",
            "───||──RY(1.00)──RZ(1.00)──RX(1.00)───────╰X─╰●──RY(1.00)──RZ(1.00)──RX(1.00)──||─╰●──RY(1.00)\n",
            "\n",
            "──╭X─────────RY(1.00)──RZ(1.00)──RX(1.00)─╭●───────╭X──RY(1.00)──RZ(1.00)──RX(1.00)──||\n",
            "──╰●─────────RY(1.00)──RZ(1.00)──RX(1.00)─╰X─╭●────│───RY(1.00)──RZ(1.00)──RX(1.00)──||\n",
            "───RY(1.00)──RZ(1.00)──RX(1.00)──────────────╰X─╭●─│───RY(1.00)──RZ(1.00)──RX(1.00)──||\n",
            "───RZ(1.00)──RX(1.00)───────────────────────────╰X─╰●──RY(1.00)──RZ(1.00)──RX(1.00)──||\n",
            "\n",
            "───AngleEmbedding(M0)──||──RY(1.00)──RZ(1.00)──RX(1.00)─╭●───────╭X──RY(1.00)──RZ(1.00)──RX(1.00)\n",
            "───AngleEmbedding(M1)──||──RY(1.00)──RZ(1.00)──RX(1.00)─╰X─╭●────│───RY(1.00)──RZ(1.00)──RX(1.00)\n",
            "───AngleEmbedding(M2)──||──RY(1.00)──RZ(1.00)──RX(1.00)────╰X─╭●─│───RY(1.00)──RZ(1.00)──RX(1.00)\n",
            "───AngleEmbedding(M3)──||──RY(1.00)──RZ(1.00)──RX(1.00)───────╰X─╰●──RY(1.00)──RZ(1.00)──RX(1.00)\n",
            "\n",
            "───||─╭X─╭X─╭X─┤  <Z>\n",
            "───||─│──│──╰●─┤     \n",
            "───||─│──╰●────┤     \n",
            "───||─╰●───────┤     \n",
            "\n",
            "M0 = \n",
            "tensor([1.])\n",
            "M1 = \n",
            "tensor([2.])\n",
            "M2 = \n",
            "tensor([4.])\n",
            "M3 = \n",
            "tensor([8.])\n"
          ]
        }
      ],
      "source": [
        "print(qml.draw(efq_circuit)(torch.ones((12*efq_depth*num_qubits,)), torch.ones(num_qubits)))"
      ]
    },
    {
      "cell_type": "code",
      "source": [
        "# @qml.qnode(dev, interface='torch', diff_method=\"adjoint\")\n",
        "def pqn_circuit(weights, input_array):\n",
        "    result = torch.zeros(pqn_c).to(device)\n",
        "    for i in range(pqn_c):\n",
        "        result[i] = qdi_circuit(weights[i], input_array[i*par_qubits:(i+1)*par_qubits], wires = range(i*par_qubits, (i+1)*par_qubits))\n",
        "    return result\n"
      ],
      "metadata": {
        "id": "zRK_X7CKBCNm"
      },
      "execution_count": 21,
      "outputs": []
    },
    {
      "cell_type": "code",
      "execution_count": 22,
      "metadata": {
        "id": "Z2h7AxM4iO0b",
        "colab": {
          "base_uri": "https://localhost:8080/"
        },
        "outputId": "5b1a5d46-10c3-4a7c-eee1-caf0ed8e2fa1"
      },
      "outputs": [
        {
          "output_type": "stream",
          "name": "stdout",
          "text": [
            "0: ──RZ(1.00)──RZ(1.00)──RZ(1.00)──RZ(1.00)──RZ(1.00)──RZ(1.00)─┤  \n",
            "1: ──RZ(1.00)──RZ(1.00)──RZ(1.00)──RZ(1.00)──RZ(1.00)──RZ(1.00)─┤  \n"
          ]
        }
      ],
      "source": [
        "print(qml.draw(pqn_circuit)(np.ones((pqn_c, qdi_reps1 + qdi_depth*qdi_reps2, num_qubits//pqn_c, )), np.ones(num_qubits)))"
      ]
    },
    {
      "cell_type": "code",
      "source": [
        "pqn_circuit(np.ones((pqn_c, qdi_reps1 + qdi_depth*qdi_reps2, num_qubits//pqn_c, )), np.ones(num_qubits))"
      ],
      "metadata": {
        "colab": {
          "base_uri": "https://localhost:8080/"
        },
        "id": "BN_UwgKtngoT",
        "outputId": "19b63160-4f9b-4054-a5ac-4cd13ba7aaa4"
      },
      "execution_count": 23,
      "outputs": [
        {
          "output_type": "execute_result",
          "data": {
            "text/plain": [
              "tensor([-0.0720,  0.0000], device='cuda:0')"
            ]
          },
          "metadata": {},
          "execution_count": 23
        }
      ]
    },
    {
      "cell_type": "code",
      "execution_count": 24,
      "metadata": {
        "id": "I5iScbqNcbDj"
      },
      "outputs": [],
      "source": [
        "class QDIHybridModel(nn.Module):\n",
        "    def __init__(self):\n",
        "        super(QDIHybridModel, self).__init__()\n",
        "        self.classical_layer = nn.Linear(input_dim, num_qubits)\n",
        "        self.q_params = nn.Parameter(torch.randn((qdi_reps1 + qdi_depth*qdi_reps2, num_qubits)))\n",
        "    def forward(self, x):\n",
        "        x = torch.relu(self.classical_layer(x))\n",
        "        q_out = torch.zeros(x.size(0), device=device)\n",
        "        for i in range(x.size(0)):\n",
        "            q_out[i] = qdi_circuit(self.q_params, x[i])\n",
        "        return torch.sigmoid(q_out)"
      ]
    },
    {
      "cell_type": "code",
      "execution_count": 25,
      "metadata": {
        "id": "ShE-nVFQ50Hf"
      },
      "outputs": [],
      "source": [
        "class EFQHybridModel(nn.Module):\n",
        "    def __init__(self):\n",
        "        super(EFQHybridModel, self).__init__()\n",
        "        self.classical_layer = nn.Linear(input_dim, num_qubits)\n",
        "        self.q_params = nn.Parameter(torch.randn((12*efq_depth*num_qubits,)))\n",
        "    def forward(self, x):\n",
        "        x = torch.relu(self.classical_layer(x))\n",
        "        q_out = torch.zeros(x.size(0), device=device)\n",
        "        for i in range(x.size(0)):\n",
        "            q_out[i] = efq_circuit(self.q_params, x[i])\n",
        "        return torch.sigmoid(q_out)"
      ]
    },
    {
      "cell_type": "code",
      "execution_count": 26,
      "metadata": {
        "id": "FfUq7U9iopBS"
      },
      "outputs": [],
      "source": [
        "class PQNHybridModel(nn.Module):\n",
        "    def __init__(self):\n",
        "        super(PQNHybridModel, self).__init__()\n",
        "        self.classical_layer_1 = nn.Linear(input_dim, num_qubits)\n",
        "        self.classical_layer_2 = nn.Linear(num_qubits//2, 1)\n",
        "        self.q_params = nn.Parameter(torch.randn(pqn_c, qdi_reps1 + qdi_depth*qdi_reps2, num_qubits//pqn_c, ))\n",
        "    def forward(self, x):\n",
        "        x = torch.relu(self.classical_layer_1(x))\n",
        "        q_out = torch.zeros((x.size(0), 2), device=device)\n",
        "        for i in range(x.size(0)):\n",
        "            q_out[i] = pqn_circuit(self.q_params, x[i])\n",
        "        output = self.classical_layer_2(q_out)\n",
        "        return torch.sigmoid(output).squeeze(1)"
      ]
    },
    {
      "cell_type": "code",
      "execution_count": 27,
      "metadata": {
        "id": "0_ThLVVTeGq1"
      },
      "outputs": [],
      "source": [
        "criterion = nn.BCELoss()"
      ]
    },
    {
      "cell_type": "code",
      "execution_count": 28,
      "metadata": {
        "id": "NZZBmoNjgrgk"
      },
      "outputs": [],
      "source": [
        "def train(model, criterion, optimizer,\n",
        "          train_dataloader, test_dataloader, num_epochs):\n",
        "\n",
        "    train_losses = np.zeros(num_epochs)\n",
        "\n",
        "    test_accuracy_arr = np.zeros(num_epochs)\n",
        "\n",
        "    for i_epoch in tqdm(range(num_epochs)):\n",
        "        train_loss = 0\n",
        "        test_accuracy = 0\n",
        "\n",
        "        model.train()\n",
        "        for batch in train_dataloader:\n",
        "            X = batch[0].to(device)\n",
        "            y = batch[1].to(device)\n",
        "\n",
        "            preds = model(X)\n",
        "\n",
        "            optimizer.zero_grad()\n",
        "            loss = criterion(preds, y)\n",
        "            loss.backward()\n",
        "            optimizer.step()\n",
        "\n",
        "            train_loss += loss.detach().cpu().numpy()\n",
        "\n",
        "        train_loss /= len(train_dataloader)\n",
        "        train_losses[i_epoch] = train_loss\n",
        "\n",
        "        model.eval()\n",
        "        for batch in test_dataloader:\n",
        "            X = batch[0].to(device)\n",
        "            y = batch[1].to(device)\n",
        "\n",
        "            with torch.no_grad():\n",
        "                preds = (model(X)>0.5).float()\n",
        "                test_accuracy += (preds == y).cpu().numpy().mean()\n",
        "\n",
        "\n",
        "        test_accuracy /= len(test_dataloader)\n",
        "\n",
        "        test_accuracy_arr[i_epoch] = test_accuracy\n",
        "\n",
        "    return train_losses, test_accuracy_arr"
      ]
    },
    {
      "cell_type": "code",
      "execution_count": 29,
      "metadata": {
        "id": "7tKcnGWd54i8"
      },
      "outputs": [],
      "source": [
        "QDI_model = QDIHybridModel().to(device)\n",
        "optimizer_for_qdi = optim.Adam(QDI_model.parameters(), lr=learning_rate)"
      ]
    },
    {
      "cell_type": "code",
      "execution_count": 30,
      "metadata": {
        "id": "4Tpm4p6WgDUl"
      },
      "outputs": [],
      "source": [
        "EFQ_model = EFQHybridModel().to(device)\n",
        "optimizer_for_efq = optim.Adam(EFQ_model.parameters(), lr=learning_rate)"
      ]
    },
    {
      "cell_type": "code",
      "execution_count": 31,
      "metadata": {
        "id": "Z4Iyc3K4hG8d"
      },
      "outputs": [],
      "source": [
        "PQN_model = PQNHybridModel().to(device)\n",
        "optimizer_for_pqn = optim.Adam(PQN_model.parameters(), lr=learning_rate)"
      ]
    },
    {
      "cell_type": "code",
      "execution_count": 32,
      "metadata": {
        "id": "sxv0t7loH3zf",
        "colab": {
          "base_uri": "https://localhost:8080/",
          "height": 49,
          "referenced_widgets": [
            "81ab1ac2bbb649c988cbe7275f486446",
            "788bbd8b7ace4a2194b22d9c48c5bd7c",
            "3317e33ac00b452aa630b4e26e6595ff",
            "25e8426824754d27b6a893e8306bbdef",
            "28d119cb4d2a43659d85d39516ad8e4a",
            "e2d0bb12874f4335b79a79bd12eaa821",
            "c15648331ecc48559037985a106e7ad5",
            "90563f5d3a7d4edab9066438ec85b615",
            "f11641e2477543beae546e443344d2b0",
            "b7a63705bc174fdab6a481546be56ba0",
            "d43650b0123b4d5bad653633939c3959"
          ]
        },
        "outputId": "5517ca49-be19-478b-8f02-61aaf78e91b6"
      },
      "outputs": [
        {
          "output_type": "display_data",
          "data": {
            "text/plain": [
              "  0%|          | 0/100 [00:00<?, ?it/s]"
            ],
            "application/vnd.jupyter.widget-view+json": {
              "version_major": 2,
              "version_minor": 0,
              "model_id": "81ab1ac2bbb649c988cbe7275f486446"
            }
          },
          "metadata": {}
        }
      ],
      "source": [
        "QDI_losses, \\\n",
        "    QDI_accuracies = train(QDI_model, criterion=criterion,\n",
        "                              optimizer=optimizer_for_qdi,\n",
        "                              train_dataloader=train_dataloader,\n",
        "                              test_dataloader=test_dataloader,\n",
        "                              num_epochs=epochs)"
      ]
    },
    {
      "cell_type": "code",
      "execution_count": 33,
      "metadata": {
        "id": "FXfCIiWN18r7"
      },
      "outputs": [],
      "source": [
        "# fig, ax = plt.subplots(1, 2, figsize = (15, 5))\n",
        "# # ax.set_title('Comparison of QDI, EFQ and PQN performances for noiseless case')\n",
        "\n",
        "# ax[0].plot(np.arange(1, QDI_losses.shape[0] + 1), QDI_losses, label='QDI')\n",
        "# # ax[0].plot(np.arange(1, EFQ_losses.shape[0] + 1), EFQ_losses, label='EFQ')\n",
        "# # ax[0].plot(np.arange(1, PQN_losses.shape[0] + 1), PQN_losses, label='PQN')\n",
        "# ax[0].set_xticks(np.arange(1, QDI_losses.shape[0] + 1, 4))\n",
        "# ax[0].set_xlabel('num_epoch')\n",
        "# ax[0].set_ylabel('loss')\n",
        "# ax[0].legend()\n",
        "# ax[0].grid()\n",
        "\n",
        "# ax[1].plot(np.arange(QDI_accuracies.shape[0]), QDI_accuracies,\n",
        "#            label='QDI')\n",
        "# # ax[1].plot(np.arange(EFQ_accuracies.shape[0]), EFQ_accuracies,\n",
        "# #            label='EFQ')\n",
        "# # ax[1].plot(np.arange(PQN_accuracies.shape[0]), PQN_accuracies,\n",
        "# #            label='PQN')\n",
        "# ax[1].set_xticks(np.arange(0, QDI_accuracies.shape[0], 4))\n",
        "# ax[1].set_xlabel('num_epoch')\n",
        "# ax[1].set_ylabel('accuracy')\n",
        "# ax[1].legend()\n",
        "# ax[1].grid()\n",
        "# plt.title('Comparison of performances of QDI, EFQ and PQN layers for noiseless case')\n",
        "# plt.show()"
      ]
    },
    {
      "cell_type": "code",
      "execution_count": 34,
      "metadata": {
        "collapsed": true,
        "id": "fg5UTY0OMYFA",
        "colab": {
          "base_uri": "https://localhost:8080/",
          "height": 49,
          "referenced_widgets": [
            "8943534c687f4978a6ea0d91f2b2c545",
            "b8abb07951754a5a96876ffc858f55d0",
            "a696bbc80738406d98e9f58fd3b5bafd",
            "af3f8aea56654fe5b915ccf154f46938",
            "cf3e45a7eb474603a9f0e807acce3eaf",
            "b88909d306384da5975cd2fc2e14a432",
            "cccf4555dd954ebebd838f8eac1f796e",
            "0c2adb46a9fb49259b4f8c591d7bb6bf",
            "74a6bdf56be440a68cb0184edd7e0daf",
            "c4fba5438bbc43e5be7ab7e17defc113",
            "4033038f64054e0d9d36dc8a58ccc5a0"
          ]
        },
        "outputId": "61373470-0c2b-4cd6-a8bd-5bdd583737fd"
      },
      "outputs": [
        {
          "output_type": "display_data",
          "data": {
            "text/plain": [
              "  0%|          | 0/100 [00:00<?, ?it/s]"
            ],
            "application/vnd.jupyter.widget-view+json": {
              "version_major": 2,
              "version_minor": 0,
              "model_id": "8943534c687f4978a6ea0d91f2b2c545"
            }
          },
          "metadata": {}
        }
      ],
      "source": [
        "EFQ_losses, \\\n",
        "    EFQ_accuracies = train(EFQ_model, criterion=criterion,\n",
        "                              optimizer=optimizer_for_efq,\n",
        "                              train_dataloader=train_dataloader,\n",
        "                              test_dataloader=test_dataloader,\n",
        "                              num_epochs=epochs)"
      ]
    },
    {
      "cell_type": "code",
      "execution_count": 35,
      "metadata": {
        "id": "VRYcgnRGMglq",
        "colab": {
          "base_uri": "https://localhost:8080/",
          "height": 49,
          "referenced_widgets": [
            "ba629fbd261c44caaedc19e54d4d5808",
            "c799356f99e2455795ed3dd6298a5bfc",
            "5a550e70e3c64f2eb0468719e7b183dc",
            "7638731928db45b9bea7951882ba552f",
            "02f99cbd4f1d4032af68fb5af474adad",
            "149b808f8336491685e230b3c201f74c",
            "fe10cfba28b8415e8220d6c8804d9f75",
            "20acbbc5e2784ddf9548a7fad1dbf41e",
            "9619db977e484ae7997cc1aa48708a73",
            "73eb95c2cb0e49c881c7190004ee5c71",
            "99b033fa6e3946b295ffc18260f73ccd"
          ]
        },
        "outputId": "8ec24eb1-3673-4240-c7a3-1d657a6767eb"
      },
      "outputs": [
        {
          "output_type": "display_data",
          "data": {
            "text/plain": [
              "  0%|          | 0/100 [00:00<?, ?it/s]"
            ],
            "application/vnd.jupyter.widget-view+json": {
              "version_major": 2,
              "version_minor": 0,
              "model_id": "ba629fbd261c44caaedc19e54d4d5808"
            }
          },
          "metadata": {}
        }
      ],
      "source": [
        "PQN_losses, \\\n",
        "    PQN_accuracies = train(PQN_model, criterion=criterion,\n",
        "                              optimizer=optimizer_for_pqn,\n",
        "                              train_dataloader=train_dataloader,\n",
        "                              test_dataloader=test_dataloader,\n",
        "                              num_epochs=epochs)"
      ]
    },
    {
      "cell_type": "code",
      "execution_count": 36,
      "metadata": {
        "id": "Sdl0GFagmVbW",
        "colab": {
          "base_uri": "https://localhost:8080/",
          "height": 487
        },
        "outputId": "f252db63-fb83-4d31-fb56-1116492bc10a"
      },
      "outputs": [
        {
          "output_type": "display_data",
          "data": {
            "text/plain": [
              "<Figure size 1500x500 with 2 Axes>"
            ],
            "image/png": "[encoded data removed]"
          },
          "metadata": {}
        }
      ],
      "source": [
        "fig, ax = plt.subplots(1, 2, figsize = (15, 5))\n",
        "# ax.set_title('Comparison of QDI, EFQ and PQN performances for noiseless case')\n",
        "\n",
        "ax[0].plot(np.arange(1, QDI_losses.shape[0] + 1), QDI_losses, label='QDI')\n",
        "ax[0].plot(np.arange(1, EFQ_losses.shape[0] + 1), EFQ_losses, label='EFQ')\n",
        "ax[0].plot(np.arange(1, PQN_losses.shape[0] + 1), PQN_losses, label='PQN')\n",
        "ax[0].set_xticks(np.arange(1, QDI_losses.shape[0] + 1, 4))\n",
        "ax[0].set_xlabel('num_epoch')\n",
        "ax[0].set_ylabel('loss')\n",
        "ax[0].legend()\n",
        "ax[0].grid()\n",
        "\n",
        "ax[1].plot(np.arange(QDI_accuracies.shape[0]), QDI_accuracies,\n",
        "           label='QDI')\n",
        "ax[1].plot(np.arange(EFQ_accuracies.shape[0]), EFQ_accuracies,\n",
        "           label='EFQ')\n",
        "ax[1].plot(np.arange(PQN_accuracies.shape[0]), PQN_accuracies,\n",
        "           label='PQN')\n",
        "ax[1].set_xticks(np.arange(0, PQN_accuracies.shape[0], 4))\n",
        "ax[1].set_xlabel('num_epoch')\n",
        "ax[1].set_ylabel('accuracy')\n",
        "ax[1].legend()\n",
        "ax[1].grid()\n",
        "plt.title('Comparison of performances of QDI, EFQ and PQN layers for noiseless case')\n",
        "plt.show()"
      ]
    },
    {
      "cell_type": "markdown",
      "metadata": {
        "id": "nlFljpXQpOVh"
      },
      "source": [
        "# Simulator with noise model specific to IBM Sherbrooke"
      ]
    },
    {
      "cell_type": "code",
      "execution_count": null,
      "metadata": {
        "id": "eq3vaGiGqZtE"
      },
      "outputs": [],
      "source": [
        "from qiskit_aer import noise\n",
        "from qiskit_ibm_runtime import QiskitRuntimeService\n",
        "from qiskit_ibm_provider import IBMProvider\n",
        "from qiskit_aer.noise import (\n",
        "    NoiseModel,\n",
        "    QuantumError,\n",
        "    ReadoutError,\n",
        "    depolarizing_error,\n",
        "    pauli_error,\n",
        "    thermal_relaxation_error,\n",
        ")\n",
        "\n",
        "IBMProvider.save_account(token='d4d5a9ed2d4b576b105b9476fd9d61b464bae4f7fc0d1e543e698e576f59f537ffbf3f97a26668e5840fd0b53ab5f84541e03529de75bf2297236b8b79873dff',\n",
        "                         overwrite=True)\n",
        "service = QiskitRuntimeService()\n",
        "backend = service.backend(\"ibm_sherbrooke\")\n",
        "noise_model = NoiseModel.from_backend(backend)\n",
        "dev = qml.device('qiskit.aer', wires=range(num_qubits), noise_model=noise_model)"
      ]
    },
    {
      "cell_type": "code",
      "execution_count": null,
      "metadata": {
        "id": "kaYYAErarlgy"
      },
      "outputs": [],
      "source": [
        "@qml.qnode(dev, interface='torch')\n",
        "def qdi_circuit(weights, input_array, wires=range(num_qubits)):\n",
        "    for r in range(qdi_reps1):\n",
        "        for i in range(len(wires)):\n",
        "            qml.RX(weights[r][i], wires=wires[i])\n",
        "        for j in range(len(wires)-1):\n",
        "            qml.CNOT(wires=[wires[j], wires[j+1]])\n",
        "        qml.CNOT(wires=[wires[len(wires)-1], wires[0]])\n",
        "        qml.Barrier()\n",
        "    for d in range(qdi_depth):\n",
        "        qml.AngleEmbedding(input_array, wires=range(num_qubits), rotation='Z')\n",
        "        for r in range(qdi_reps2):\n",
        "            for i in range(len(wires)):\n",
        "                qml.RX(weights[qdi_reps1+d*r][i], wires=wires[i])\n",
        "            for j in range(len(wires)-1):\n",
        "                qml.CNOT(wires=[wires[j], wires[j+1]])\n",
        "            qml.CNOT(wires=[wires[len(wires)-1], wires[0]])\n",
        "            qml.Barrier()\n",
        "        qml.Barrier()\n",
        "    return qml.expval(qml.PauliY(0))\n",
        "@qml.qnode(dev, interface=\"torch\")\n",
        "def efq_circuit(weights, input_array):\n",
        "    qml.layer(efq_subroutine, efq_depth, params = weights, input_array = input_array)\n",
        "    return qml.expval(qml.PauliZ(0))\n",
        "@qml.qnode(dev, interface='torch')\n",
        "def pqn_circuit(weights, input_array):\n",
        "    result = torch.zeros(pqn_c).to(device)\n",
        "    for i in range(pqn_c):\n",
        "        result[i] = qdi_circuit(weights[i], input_array[i*par_qubits:(i+1)*par_qubits], wires = range(i*par_qubits, (i+1)*par_qubits))\n",
        "    return result"
      ]
    },
    {
      "cell_type": "code",
      "execution_count": null,
      "metadata": {
        "id": "Q9uMdeQlvSQc"
      },
      "outputs": [],
      "source": [
        "class QDIHybridModel_nsy(nn.Module):\n",
        "    def __init__(self):\n",
        "        super(QDIHybridModel_nsy, self).__init__()\n",
        "        self.classical_layer = nn.Linear(input_dim, num_qubits)\n",
        "        self.q_params = nn.Parameter(torch.randn((qdi_reps1 + qdi_depth*qdi_reps2, num_qubits)))\n",
        "    def forward(self, x):\n",
        "        x = torch.relu(self.classical_layer(x))\n",
        "        q_out = torch.zeros(x.size(0), device=device)\n",
        "        for i in range(x.size(0)):\n",
        "            q_out[i] = qdi_circuit(self.q_params, x[i])\n",
        "        return torch.sigmoid(q_out)"
      ]
    },
    {
      "cell_type": "code",
      "execution_count": null,
      "metadata": {
        "id": "9agjU9KRvSQr"
      },
      "outputs": [],
      "source": [
        "class EFQHybridModel_nsy(nn.Module):\n",
        "    def __init__(self):\n",
        "        super(EFQHybridModel_nsy, self).__init__()\n",
        "        self.classical_layer = nn.Linear(input_dim, num_qubits)\n",
        "        self.q_params = nn.Parameter(torch.randn((12*efq_depth*num_qubits, )))\n",
        "    def forward(self, x):\n",
        "        x = torch.relu(self.classical_layer(x))\n",
        "        q_out = torch.zeros(x.size(0), device=device)\n",
        "        for i in range(x.size(0)):\n",
        "            q_out[i] = efq_circuit(self.q_params, x[i])\n",
        "        return torch.sigmoid(q_out)"
      ]
    },
    {
      "cell_type": "code",
      "execution_count": null,
      "metadata": {
        "id": "NEkTcuhyvSQs"
      },
      "outputs": [],
      "source": [
        "class PQNHybridModel_nsy(nn.Module):\n",
        "    def __init__(self):\n",
        "        super(PQNHybridModel_nsy, self).__init__()\n",
        "        self.classical_layer_1 = nn.Linear(input_dim, num_qubits)\n",
        "        self.classical_layer_2 = nn.Linear(num_qubits//2, 1)\n",
        "        self.q_params = nn.Parameter(torch.randn(pqn_c, qdi_reps1 + qdi_depth*qdi_reps2, num_qubits//pqn_c, ))\n",
        "    def forward(self, x):\n",
        "        x = torch.relu(self.classical_layer_1(x))\n",
        "        q_out = torch.zeros((x.size(0), 2), device=device)\n",
        "        for i in range(x.size(0)):\n",
        "            q_out[i] = pqn_circuit(self.q_params, x[i])\n",
        "        output = self.classical_layer_2(q_out)\n",
        "        return torch.sigmoid(output).squeeze(1)"
      ]
    },
    {
      "cell_type": "code",
      "execution_count": null,
      "metadata": {
        "id": "czfTNK8GvSQt"
      },
      "outputs": [],
      "source": [
        "criterion = nn.BCELoss()\n"
      ]
    },
    {
      "cell_type": "code",
      "execution_count": null,
      "metadata": {
        "id": "7AFPW8k6vSQt"
      },
      "outputs": [],
      "source": [
        "QDI_model_nsy = QDIHybridModel_nsy().to(device)\n",
        "optimizer_for_nsy_qdi = optim.Adam(QDI_model_nsy.parameters(), lr=learning_rate)"
      ]
    },
    {
      "cell_type": "code",
      "execution_count": null,
      "metadata": {
        "id": "mSl7G_zPvSQu"
      },
      "outputs": [],
      "source": [
        "EFQ_model_nsy = EFQHybridModel_nsy().to(device)\n",
        "optimizer_for_nsy_efq = optim.Adam(EFQ_model_nsy.parameters(), lr=learning_rate)"
      ]
    },
    {
      "cell_type": "code",
      "execution_count": null,
      "metadata": {
        "id": "OTrF4MVQvSQv"
      },
      "outputs": [],
      "source": [
        "PQN_model_nsy = PQNHybridModel_nsy().to(device)\n",
        "optimizer_for_nsy_pqn = optim.Adam(PQN_model_nsy.parameters(), lr=learning_rate)"
      ]
    },
    {
      "cell_type": "code",
      "execution_count": null,
      "metadata": {
        "id": "se6AVPehROwx"
      },
      "outputs": [],
      "source": [
        "QDI_losses_nsy, \\\n",
        "    QDI_accuracies_nsy = train(QDI_model_nsy, criterion=criterion,\n",
        "                              optimizer=optimizer_for_nsy_qdi,\n",
        "                              train_dataloader=train_dataloader,\n",
        "                              test_dataloader=test_dataloader,\n",
        "                              num_epochs=epochs)"
      ]
    },
    {
      "cell_type": "code",
      "execution_count": null,
      "metadata": {
        "collapsed": true,
        "id": "pyB6Hbp-ROxB"
      },
      "outputs": [],
      "source": [
        "EFQ_losses_nsy, \\\n",
        "    EFQ_accuracies_nsy = train(EFQ_model_nsy, criterion=criterion,\n",
        "                              optimizer=optimizer_for_nsy_efq,\n",
        "                              train_dataloader=train_dataloader,\n",
        "                              test_dataloader=test_dataloader,\n",
        "                              num_epochs=epochs)"
      ]
    },
    {
      "cell_type": "code",
      "execution_count": null,
      "metadata": {
        "id": "DjUNzuvDROxB"
      },
      "outputs": [],
      "source": [
        "PQN_losses_nsy, \\\n",
        "    PQN_accuracies_nsy = train(PQN_model_nsy, criterion=criterion,\n",
        "                              optimizer=optimizer_for_nsy_pqn,\n",
        "                              train_dataloader=train_dataloader,\n",
        "                              test_dataloader=test_dataloader,\n",
        "                              num_epochs=epochs)"
      ]
    },
    {
      "cell_type": "code",
      "execution_count": null,
      "metadata": {
        "id": "Eh48-NyQvSQw"
      },
      "outputs": [],
      "source": [
        "fig, ax = plt.subplots(1, 2, figsize = (15, 5))\n",
        "\n",
        "ax[0].plot(np.arange(1, QDI_losses_nsy.shape[0] + 1), QDI_losses_nsy, label='QDI')\n",
        "ax[0].plot(np.arange(1, EFQ_losses_nsy.shape[0] + 1), EFQ_losses_nsy, label='EFQ')\n",
        "ax[0].plot(np.arange(1, PQN_losses_nsy.shape[0] + 1), PQN_losses_nsy, label='PQN')\n",
        "ax[0].set_xticks(np.arange(1, QDI_losses_nsy.shape[0]+ 1, 4))\n",
        "ax[0].set_xlabel('num_epoch')\n",
        "ax[0].set_ylabel('loss')\n",
        "ax[0].legend()\n",
        "ax[0].grid()\n",
        "\n",
        "ax[1].plot(np.arange(QDI_accuracies_nsy.shape[0]), QDI_accuracies_nsy,\n",
        "           label='QDI')\n",
        "ax[1].plot(np.arange(EFQ_accuracies_nsy.shape[0]), EFQ_accuracies_nsy,\n",
        "           label='EFQ')\n",
        "ax[1].plot(np.arange(PQN_accuracies_nsy.shape[0]), PQN_accuracies_nsy,\n",
        "           label='PQN')\n",
        "ax[1].set_xticks(np.arange(0, PQN_accuracies_nsy.shape[0], 4))\n",
        "ax[1].set_xlabel('num_epoch')\n",
        "ax[1].set_ylabel('accuracy')\n",
        "ax[1].legend()\n",
        "ax[1].grid()\n",
        "plt.title('Comparison of performances of QDI, EFQ and PQN layers for noisy case')\n",
        "plt.show()"
      ]
    },
    {
      "cell_type": "code",
      "execution_count": null,
      "metadata": {
        "id": "IHxLsHdCzGrr"
      },
      "outputs": [],
      "source": [
        "fig, ax = plt.subplots(2, 3, figsize = (15, 5))\n",
        "\n",
        "ax[0, 0].plot(np.arange(1, QDI_losses.shape[0] + 1), QDI_losses, label='QDI, noiseless case')\n",
        "ax[0, 0].plot(np.arange(1, QDI_losses_nsy.shape[0] + 1), QDI_losses_nsy, label='QDI, noisy case')\n",
        "ax[0, 0].set_xticks(np.arange(1, QDI_losses_nsy.shape[0] + 1, 4))\n",
        "ax[0, 0].set_xlabel('num_epoch')\n",
        "ax[0, 0].set_ylabel('loss')\n",
        "ax[0, 0].legend()\n",
        "ax[0, 0].grid()\n",
        "\n",
        "ax[0, 1].plot(np.arange(1, EFQ_losses.shape[0] + 1), EFQ_losses, label='EFQ, noiseless case')\n",
        "ax[0, 1].plot(np.arange(1, EFQ_losses_nsy.shape[0] + 1), EFQ_losses_nsy, label='EFQ, noisy case')\n",
        "ax[0, 1].set_xticks(np.arange(1, EFQ_losses_nsy.shape[0] + 1, 4))\n",
        "ax[0, 1].set_xlabel('num_epoch')\n",
        "ax[0, 1].set_ylabel('loss')\n",
        "ax[0, 1].legend()\n",
        "ax[0, 1].grid()\n",
        "\n",
        "ax[0, 2].plot(np.arange(1, PQN_losses.shape[0] + 1), PQN_losses, label='PQN, noiseless case')\n",
        "ax[0, 2].plot(np.arange(1, PQN_losses_nsy.shape[0] + 1), PQN_losses_nsy, label='PQN, noisy case')\n",
        "ax[0, 2].set_xticks(np.arange(1, PQN_losses_nsy.shape[0]+ 1, 4))\n",
        "ax[0, 2].set_xlabel('num_epoch')\n",
        "ax[0, 2].set_ylabel('loss')\n",
        "ax[0, 2].legend()\n",
        "ax[0, 2].grid()\n",
        "\n",
        "ax[1, 0].plot(np.arange(QDI_accuracies.shape[0]), QDI_accuracies, label='QDI, noiseless case')\n",
        "ax[1, 0].plot(np.arange(QDI_accuracies_nsy.shape[0]), QDI_accuracies_nsy, label='QDI, noisy case')\n",
        "ax[1, 0].set_xticks(np.arange(0, QDI_accuracies_nsy.shape[0], 4))\n",
        "ax[1, 0].set_xlabel('num_epoch')\n",
        "ax[1, 0].set_ylabel('accuracy')\n",
        "ax[1, 0].legend()\n",
        "ax[1, 0].grid()\n",
        "\n",
        "ax[1, 1].plot(np.arange(EFQ_accuracies.shape[0]), EFQ_accuracies, label='EFQ, noiseless case')\n",
        "ax[1, 1].plot(np.arange((EFQ_accuracies_nsy)), EFQ_accuracies_nsy, label='EFQ, noisy case')\n",
        "ax[1, 1].set_xticks(np.arange(0, EFQ_accuracies_nsy.shape[0], 4))\n",
        "ax[1, 1].set_xlabel('num_epoch')\n",
        "ax[1, 1].set_ylabel('accuracy')\n",
        "ax[1, 1].legend()\n",
        "ax[1, 1].grid()\n",
        "\n",
        "ax[1, 2].plot(np.arange(PQN_accuracies.shape[0]), PQN_accuracies, label='PQN, noiseless case')\n",
        "ax[1, 2].plot(np.arange(PQN_accuracies_nsy.shape[0]), PQN_accuracies_nsy, label='PQN, noisy case')\n",
        "ax[1, 2].set_xticks(np.arange(0, PQN_accuracies_nsy.shape[0], 4))\n",
        "ax[1, 2].set_xlabel('num_epoch')\n",
        "ax[1, 2].set_ylabel('accuracy')\n",
        "ax[1, 2].legend()\n",
        "ax[1, 2].grid()\n",
        "plt.title(\"Comparison performances of layers for noiseless and noisy cases\")\n",
        "\n",
        "plt.show()"
      ]
    },
    {
      "cell_type": "markdown",
      "metadata": {
        "id": "IPR68JULtD6i"
      },
      "source": [
        "# Forward pass with the IBM Sherbrooke device"
      ]
    },
    {
      "cell_type": "code",
      "execution_count": null,
      "metadata": {
        "id": "355uskdkt2SY"
      },
      "outputs": [],
      "source": [
        "dev = qml.device(\"qiskit.ibmq\", wires=range(num_qubits), backend=backend)"
      ]
    },
    {
      "cell_type": "code",
      "execution_count": null,
      "metadata": {
        "id": "azpqLMfLyIVo"
      },
      "outputs": [],
      "source": [
        "@qml.qnode(dev, interface='torch')\n",
        "def qdi_circuit_for_ibmq(weights, input_array, wires=range(num_qubits)):\n",
        "    for r in range(qdi_reps1):\n",
        "        for i in range(len(wires)):\n",
        "            qml.RX(weights[r][i], wires=wires[i])\n",
        "        for j in range(len(wires)-1):\n",
        "            qml.CNOT(wires=[wires[j], wires[j+1]])\n",
        "        qml.CNOT(wires=[wires[len(wires)-1], wires[0]])\n",
        "        qml.Barrier()\n",
        "    for d in range(qdi_depth):\n",
        "        qml.AngleEmbedding(input_array, wires=range(num_qubits), rotation='Z')\n",
        "        for r in range(qdi_reps2):\n",
        "            for i in range(len(wires)):\n",
        "                qml.RX(weights[qdi_reps1+d*r][i], wires=wires[i])\n",
        "            for j in range(len(wires)-1):\n",
        "                qml.CNOT(wires=[wires[j], wires[j+1]])\n",
        "            qml.CNOT(wires=[wires[len(wires)-1], wires[0]])\n",
        "            qml.Barrier()\n",
        "        qml.Barrier()\n",
        "    return qml.expval(qml.PauliY(0))"
      ]
    },
    {
      "cell_type": "code",
      "execution_count": null,
      "metadata": {
        "id": "2DTZC0c_yXw-"
      },
      "outputs": [],
      "source": [
        "class QDIHybridModel_ibmq_unmitigated(nn.Module):\n",
        "    def __init__(self):\n",
        "        super(QDIHybridModel_ibmq_unmitigated, self).__init__()\n",
        "        self.classical_layer = nn.Linear(input_dim, num_qubits)\n",
        "        self.q_params = nn.Parameter(torch.randn((qdi_reps1 + qdi_depth*qdi_reps2, num_qubits)))\n",
        "    def forward(self, x):\n",
        "        x = torch.relu(self.classical_layer(x))\n",
        "        q_out = torch.zeros(x.size(0), device=device)\n",
        "        for i in range(x.size(0)):\n",
        "            q_out[i] = qdi_circuit_for_ibmq(self.q_params, x[i])\n",
        "        return torch.sigmoid(q_out)"
      ]
    },
    {
      "cell_type": "code",
      "execution_count": null,
      "metadata": {
        "id": "5ZtWDdNCzLPw"
      },
      "outputs": [],
      "source": [
        "QDI_model_ibmq = QDIHybridModel_ibmq_unmitigated().to(device)"
      ]
    },
    {
      "cell_type": "code",
      "execution_count": null,
      "metadata": {
        "id": "JHUOhwPusUMM"
      },
      "outputs": [],
      "source": [
        "QDI_model_ibmq.load_state_dict(QDI_model.state_dict())"
      ]
    },
    {
      "cell_type": "code",
      "execution_count": null,
      "metadata": {
        "id": "sPnqdCFBzBzr"
      },
      "outputs": [],
      "source": [
        "unmitigated_accuracy = 0\n",
        "\n",
        "QDI_model_ibmq.eval()\n",
        "for batch in test_dataloader:\n",
        "    X = batch[0].to(device)\n",
        "    y = batch[1].to(device)\n",
        "\n",
        "    with torch.no_grad():\n",
        "        preds = (QDI_model_ibmq(X)>0.5).float()\n",
        "        unmitigated_accuracy += (preds == y).cpu().numpy().mean()\n",
        "\n",
        "unmitigated_accuracy /= len(test_dataloader)\n",
        "print(f\"Unmitigated accuracy {unmitigated_accuracy:.3f}\")"
      ]
    },
    {
      "cell_type": "code",
      "execution_count": null,
      "metadata": {
        "id": "IkFDV4ik-3Rd"
      },
      "outputs": [],
      "source": [
        "from mitiq.zne.scaling import fold_global\n",
        "from mitiq.zne.inference import RichardsonFactory\n",
        "\n",
        "scale_factors = [1, 2, 3]\n",
        "noise_scale_method = fold_global\n",
        "\n",
        "mitigated_qdi_circuit = qml.transforms.mitigate_with_zne(\n",
        "    qdi_circuit_for_ibmq,\n",
        "    scale_factors,\n",
        "    noise_scale_method,\n",
        "    RichardsonFactory.extrapolate,\n",
        ")"
      ]
    },
    {
      "cell_type": "code",
      "execution_count": null,
      "metadata": {
        "id": "317FcjXL_Xed"
      },
      "outputs": [],
      "source": [
        "class QDIHybridModel_ibmq_mitigated(nn.Module):\n",
        "    def __init__(self):\n",
        "        super(QDIHybridModel_ibmq_mitigated, self).__init__()\n",
        "        self.classical_layer = nn.Linear(input_dim, num_qubits)\n",
        "        self.q_params = nn.Parameter(torch.randn((qdi_reps1 + qdi_depth*qdi_reps2, num_qubits)))\n",
        "    def forward(self, x):\n",
        "        x = torch.relu(self.classical_layer(x))\n",
        "        q_out = torch.zeros(x.size(0), device=device)\n",
        "        for i in range(x.size(0)):\n",
        "            q_out[i] = mitigated_qdi_circuit(self.q_params, x[i])\n",
        "        return torch.sigmoid(q_out)"
      ]
    },
    {
      "cell_type": "code",
      "execution_count": null,
      "metadata": {
        "id": "jwnv8jQN_k1b"
      },
      "outputs": [],
      "source": [
        "QDI_model_ibmq = QDIHybridModel_ibmq_mitigated().to(device)"
      ]
    },
    {
      "cell_type": "code",
      "execution_count": null,
      "metadata": {
        "id": "osYRn3LmtvMx"
      },
      "outputs": [],
      "source": [
        "QDI_model_ibmq.load_state_dict(QDI_model.state_dict())"
      ]
    },
    {
      "cell_type": "code",
      "execution_count": null,
      "metadata": {
        "id": "F-6jEXLv_pBo"
      },
      "outputs": [],
      "source": [
        "mitigated_accuracy = 0\n",
        "\n",
        "QDI_model_ibmq.eval()\n",
        "for batch in test_dataloader:\n",
        "    X = batch[0].to(device)\n",
        "    y = batch[1].to(device)\n",
        "\n",
        "    with torch.no_grad():\n",
        "        preds = (QDI_model_ibmq(X)>0.5).float()\n",
        "        mitigated_accuracy += (preds == y).cpu().numpy().mean()\n",
        "\n",
        "mitigated_accuracy /= len(test_dataloader)\n",
        "print(f\"Mitigated accuracy {mitigated_accuracy:.3f}\")"
      ]
    },
    {
      "cell_type": "code",
      "execution_count": null,
      "metadata": {
        "id": "zAO6r8Or_vZQ"
      },
      "outputs": [],
      "source": [
        "print(f\"Unmitigated accuracy {unmitigated_accuracy:.3f}\")\n",
        "print(f\"Mitigated accuracy {mitigated_accuracy:.3f}\")"
      ]
    }
  ],
  "metadata": {
    "accelerator": "GPU",
    "colab": {
      "gpuType": "T4",
      "provenance": [],
      "include_colab_link": true
    },
    "kernelspec": {
      "display_name": "Python 3",
      "name": "python3"
    },
    "language_info": {
      "name": "python"
    },
    "widgets": {
      "application/vnd.jupyter.widget-state+json": {
        "81ab1ac2bbb649c988cbe7275f486446": {
          "model_module": "@jupyter-widgets/controls",
          "model_name": "HBoxModel",
          "model_module_version": "1.5.0",
          "state": {
            "_dom_classes": [],
            "_model_module": "@jupyter-widgets/controls",
            "_model_module_version": "1.5.0",
            "_model_name": "HBoxModel",
            "_view_count": null,
            "_view_module": "@jupyter-widgets/controls",
            "_view_module_version": "1.5.0",
            "_view_name": "HBoxView",
            "box_style": "",
            "children": [
              "IPY_MODEL_788bbd8b7ace4a2194b22d9c48c5bd7c",
              "IPY_MODEL_3317e33ac00b452aa630b4e26e6595ff",
              "IPY_MODEL_25e8426824754d27b6a893e8306bbdef"
            ],
            "layout": "IPY_MODEL_28d119cb4d2a43659d85d39516ad8e4a"
          }
        },
        "788bbd8b7ace4a2194b22d9c48c5bd7c": {
          "model_module": "@jupyter-widgets/controls",
          "model_name": "HTMLModel",
          "model_module_version": "1.5.0",
          "state": {
            "_dom_classes": [],
            "_model_module": "@jupyter-widgets/controls",
            "_model_module_version": "1.5.0",
            "_model_name": "HTMLModel",
            "_view_count": null,
            "_view_module": "@jupyter-widgets/controls",
            "_view_module_version": "1.5.0",
            "_view_name": "HTMLView",
            "description": "",
            "description_tooltip": null,
            "layout": "IPY_MODEL_e2d0bb12874f4335b79a79bd12eaa821",
            "placeholder": "​",
            "style": "IPY_MODEL_c15648331ecc48559037985a106e7ad5",
            "value": "100%"
          }
        },
        "3317e33ac00b452aa630b4e26e6595ff": {
          "model_module": "@jupyter-widgets/controls",
          "model_name": "FloatProgressModel",
          "model_module_version": "1.5.0",
          "state": {
            "_dom_classes": [],
            "_model_module": "@jupyter-widgets/controls",
            "_model_module_version": "1.5.0",
            "_model_name": "FloatProgressModel",
            "_view_count": null,
            "_view_module": "@jupyter-widgets/controls",
            "_view_module_version": "1.5.0",
            "_view_name": "ProgressView",
            "bar_style": "success",
            "description": "",
            "description_tooltip": null,
            "layout": "IPY_MODEL_90563f5d3a7d4edab9066438ec85b615",
            "max": 100,
            "min": 0,
            "orientation": "horizontal",
            "style": "IPY_MODEL_f11641e2477543beae546e443344d2b0",
            "value": 100
          }
        },
        "25e8426824754d27b6a893e8306bbdef": {
          "model_module": "@jupyter-widgets/controls",
          "model_name": "HTMLModel",
          "model_module_version": "1.5.0",
          "state": {
            "_dom_classes": [],
            "_model_module": "@jupyter-widgets/controls",
            "_model_module_version": "1.5.0",
            "_model_name": "HTMLModel",
            "_view_count": null,
            "_view_module": "@jupyter-widgets/controls",
            "_view_module_version": "1.5.0",
            "_view_name": "HTMLView",
            "description": "",
            "description_tooltip": null,
            "layout": "IPY_MODEL_b7a63705bc174fdab6a481546be56ba0",
            "placeholder": "​",
            "style": "IPY_MODEL_d43650b0123b4d5bad653633939c3959",
            "value": " 100/100 [14:29&lt;00:00,  8.76s/it]"
          }
        },
        "28d119cb4d2a43659d85d39516ad8e4a": {
          "model_module": "@jupyter-widgets/base",
          "model_name": "LayoutModel",
          "model_module_version": "1.2.0",
          "state": {
            "_model_module": "@jupyter-widgets/base",
            "_model_module_version": "1.2.0",
            "_model_name": "LayoutModel",
            "_view_count": null,
            "_view_module": "@jupyter-widgets/base",
            "_view_module_version": "1.2.0",
            "_view_name": "LayoutView",
            "align_content": null,
            "align_items": null,
            "align_self": null,
            "border": null,
            "bottom": null,
            "display": null,
            "flex": null,
            "flex_flow": null,
            "grid_area": null,
            "grid_auto_columns": null,
            "grid_auto_flow": null,
            "grid_auto_rows": null,
            "grid_column": null,
            "grid_gap": null,
            "grid_row": null,
            "grid_template_areas": null,
            "grid_template_columns": null,
            "grid_template_rows": null,
            "height": null,
            "justify_content": null,
            "justify_items": null,
            "left": null,
            "margin": null,
            "max_height": null,
            "max_width": null,
            "min_height": null,
            "min_width": null,
            "object_fit": null,
            "object_position": null,
            "order": null,
            "overflow": null,
            "overflow_x": null,
            "overflow_y": null,
            "padding": null,
            "right": null,
            "top": null,
            "visibility": null,
            "width": null
          }
        },
        "e2d0bb12874f4335b79a79bd12eaa821": {
          "model_module": "@jupyter-widgets/base",
          "model_name": "LayoutModel",
          "model_module_version": "1.2.0",
          "state": {
            "_model_module": "@jupyter-widgets/base",
            "_model_module_version": "1.2.0",
            "_model_name": "LayoutModel",
            "_view_count": null,
            "_view_module": "@jupyter-widgets/base",
            "_view_module_version": "1.2.0",
            "_view_name": "LayoutView",
            "align_content": null,
            "align_items": null,
            "align_self": null,
            "border": null,
            "bottom": null,
            "display": null,
            "flex": null,
            "flex_flow": null,
            "grid_area": null,
            "grid_auto_columns": null,
            "grid_auto_flow": null,
            "grid_auto_rows": null,
            "grid_column": null,
            "grid_gap": null,
            "grid_row": null,
            "grid_template_areas": null,
            "grid_template_columns": null,
            "grid_template_rows": null,
            "height": null,
            "justify_content": null,
            "justify_items": null,
            "left": null,
            "margin": null,
            "max_height": null,
            "max_width": null,
            "min_height": null,
            "min_width": null,
            "object_fit": null,
            "object_position": null,
            "order": null,
            "overflow": null,
            "overflow_x": null,
            "overflow_y": null,
            "padding": null,
            "right": null,
            "top": null,
            "visibility": null,
            "width": null
          }
        },
        "c15648331ecc48559037985a106e7ad5": {
          "model_module": "@jupyter-widgets/controls",
          "model_name": "DescriptionStyleModel",
          "model_module_version": "1.5.0",
          "state": {
            "_model_module": "@jupyter-widgets/controls",
            "_model_module_version": "1.5.0",
            "_model_name": "DescriptionStyleModel",
            "_view_count": null,
            "_view_module": "@jupyter-widgets/base",
            "_view_module_version": "1.2.0",
            "_view_name": "StyleView",
            "description_width": ""
          }
        },
        "90563f5d3a7d4edab9066438ec85b615": {
          "model_module": "@jupyter-widgets/base",
          "model_name": "LayoutModel",
          "model_module_version": "1.2.0",
          "state": {
            "_model_module": "@jupyter-widgets/base",
            "_model_module_version": "1.2.0",
            "_model_name": "LayoutModel",
            "_view_count": null,
            "_view_module": "@jupyter-widgets/base",
            "_view_module_version": "1.2.0",
            "_view_name": "LayoutView",
            "align_content": null,
            "align_items": null,
            "align_self": null,
            "border": null,
            "bottom": null,
            "display": null,
            "flex": null,
            "flex_flow": null,
            "grid_area": null,
            "grid_auto_columns": null,
            "grid_auto_flow": null,
            "grid_auto_rows": null,
            "grid_column": null,
            "grid_gap": null,
            "grid_row": null,
            "grid_template_areas": null,
            "grid_template_columns": null,
            "grid_template_rows": null,
            "height": null,
            "justify_content": null,
            "justify_items": null,
            "left": null,
            "margin": null,
            "max_height": null,
            "max_width": null,
            "min_height": null,
            "min_width": null,
            "object_fit": null,
            "object_position": null,
            "order": null,
            "overflow": null,
            "overflow_x": null,
            "overflow_y": null,
            "padding": null,
            "right": null,
            "top": null,
            "visibility": null,
            "width": null
          }
        },
        "f11641e2477543beae546e443344d2b0": {
          "model_module": "@jupyter-widgets/controls",
          "model_name": "ProgressStyleModel",
          "model_module_version": "1.5.0",
          "state": {
            "_model_module": "@jupyter-widgets/controls",
            "_model_module_version": "1.5.0",
            "_model_name": "ProgressStyleModel",
            "_view_count": null,
            "_view_module": "@jupyter-widgets/base",
            "_view_module_version": "1.2.0",
            "_view_name": "StyleView",
            "bar_color": null,
            "description_width": ""
          }
        },
        "b7a63705bc174fdab6a481546be56ba0": {
          "model_module": "@jupyter-widgets/base",
          "model_name": "LayoutModel",
          "model_module_version": "1.2.0",
          "state": {
            "_model_module": "@jupyter-widgets/base",
            "_model_module_version": "1.2.0",
            "_model_name": "LayoutModel",
            "_view_count": null,
            "_view_module": "@jupyter-widgets/base",
            "_view_module_version": "1.2.0",
            "_view_name": "LayoutView",
            "align_content": null,
            "align_items": null,
            "align_self": null,
            "border": null,
            "bottom": null,
            "display": null,
            "flex": null,
            "flex_flow": null,
            "grid_area": null,
            "grid_auto_columns": null,
            "grid_auto_flow": null,
            "grid_auto_rows": null,
            "grid_column": null,
            "grid_gap": null,
            "grid_row": null,
            "grid_template_areas": null,
            "grid_template_columns": null,
            "grid_template_rows": null,
            "height": null,
            "justify_content": null,
            "justify_items": null,
            "left": null,
            "margin": null,
            "max_height": null,
            "max_width": null,
            "min_height": null,
            "min_width": null,
            "object_fit": null,
            "object_position": null,
            "order": null,
            "overflow": null,
            "overflow_x": null,
            "overflow_y": null,
            "padding": null,
            "right": null,
            "top": null,
            "visibility": null,
            "width": null
          }
        },
        "d43650b0123b4d5bad653633939c3959": {
          "model_module": "@jupyter-widgets/controls",
          "model_name": "DescriptionStyleModel",
          "model_module_version": "1.5.0",
          "state": {
            "_model_module": "@jupyter-widgets/controls",
            "_model_module_version": "1.5.0",
            "_model_name": "DescriptionStyleModel",
            "_view_count": null,
            "_view_module": "@jupyter-widgets/base",
            "_view_module_version": "1.2.0",
            "_view_name": "StyleView",
            "description_width": ""
          }
        },
        "8943534c687f4978a6ea0d91f2b2c545": {
          "model_module": "@jupyter-widgets/controls",
          "model_name": "HBoxModel",
          "model_module_version": "1.5.0",
          "state": {
            "_dom_classes": [],
            "_model_module": "@jupyter-widgets/controls",
            "_model_module_version": "1.5.0",
            "_model_name": "HBoxModel",
            "_view_count": null,
            "_view_module": "@jupyter-widgets/controls",
            "_view_module_version": "1.5.0",
            "_view_name": "HBoxView",
            "box_style": "",
            "children": [
              "IPY_MODEL_b8abb07951754a5a96876ffc858f55d0",
              "IPY_MODEL_a696bbc80738406d98e9f58fd3b5bafd",
              "IPY_MODEL_af3f8aea56654fe5b915ccf154f46938"
            ],
            "layout": "IPY_MODEL_cf3e45a7eb474603a9f0e807acce3eaf"
          }
        },
        "b8abb07951754a5a96876ffc858f55d0": {
          "model_module": "@jupyter-widgets/controls",
          "model_name": "HTMLModel",
          "model_module_version": "1.5.0",
          "state": {
            "_dom_classes": [],
            "_model_module": "@jupyter-widgets/controls",
            "_model_module_version": "1.5.0",
            "_model_name": "HTMLModel",
            "_view_count": null,
            "_view_module": "@jupyter-widgets/controls",
            "_view_module_version": "1.5.0",
            "_view_name": "HTMLView",
            "description": "",
            "description_tooltip": null,
            "layout": "IPY_MODEL_b88909d306384da5975cd2fc2e14a432",
            "placeholder": "​",
            "style": "IPY_MODEL_cccf4555dd954ebebd838f8eac1f796e",
            "value": "100%"
          }
        },
        "a696bbc80738406d98e9f58fd3b5bafd": {
          "model_module": "@jupyter-widgets/controls",
          "model_name": "FloatProgressModel",
          "model_module_version": "1.5.0",
          "state": {
            "_dom_classes": [],
            "_model_module": "@jupyter-widgets/controls",
            "_model_module_version": "1.5.0",
            "_model_name": "FloatProgressModel",
            "_view_count": null,
            "_view_module": "@jupyter-widgets/controls",
            "_view_module_version": "1.5.0",
            "_view_name": "ProgressView",
            "bar_style": "success",
            "description": "",
            "description_tooltip": null,
            "layout": "IPY_MODEL_0c2adb46a9fb49259b4f8c591d7bb6bf",
            "max": 100,
            "min": 0,
            "orientation": "horizontal",
            "style": "IPY_MODEL_74a6bdf56be440a68cb0184edd7e0daf",
            "value": 100
          }
        },
        "af3f8aea56654fe5b915ccf154f46938": {
          "model_module": "@jupyter-widgets/controls",
          "model_name": "HTMLModel",
          "model_module_version": "1.5.0",
          "state": {
            "_dom_classes": [],
            "_model_module": "@jupyter-widgets/controls",
            "_model_module_version": "1.5.0",
            "_model_name": "HTMLModel",
            "_view_count": null,
            "_view_module": "@jupyter-widgets/controls",
            "_view_module_version": "1.5.0",
            "_view_name": "HTMLView",
            "description": "",
            "description_tooltip": null,
            "layout": "IPY_MODEL_c4fba5438bbc43e5be7ab7e17defc113",
            "placeholder": "​",
            "style": "IPY_MODEL_4033038f64054e0d9d36dc8a58ccc5a0",
            "value": " 100/100 [17:21&lt;00:00, 10.23s/it]"
          }
        },
        "cf3e45a7eb474603a9f0e807acce3eaf": {
          "model_module": "@jupyter-widgets/base",
          "model_name": "LayoutModel",
          "model_module_version": "1.2.0",
          "state": {
            "_model_module": "@jupyter-widgets/base",
            "_model_module_version": "1.2.0",
            "_model_name": "LayoutModel",
            "_view_count": null,
            "_view_module": "@jupyter-widgets/base",
            "_view_module_version": "1.2.0",
            "_view_name": "LayoutView",
            "align_content": null,
            "align_items": null,
            "align_self": null,
            "border": null,
            "bottom": null,
            "display": null,
            "flex": null,
            "flex_flow": null,
            "grid_area": null,
            "grid_auto_columns": null,
            "grid_auto_flow": null,
            "grid_auto_rows": null,
            "grid_column": null,
            "grid_gap": null,
            "grid_row": null,
            "grid_template_areas": null,
            "grid_template_columns": null,
            "grid_template_rows": null,
            "height": null,
            "justify_content": null,
            "justify_items": null,
            "left": null,
            "margin": null,
            "max_height": null,
            "max_width": null,
            "min_height": null,
            "min_width": null,
            "object_fit": null,
            "object_position": null,
            "order": null,
            "overflow": null,
            "overflow_x": null,
            "overflow_y": null,
            "padding": null,
            "right": null,
            "top": null,
            "visibility": null,
            "width": null
          }
        },
        "b88909d306384da5975cd2fc2e14a432": {
          "model_module": "@jupyter-widgets/base",
          "model_name": "LayoutModel",
          "model_module_version": "1.2.0",
          "state": {
            "_model_module": "@jupyter-widgets/base",
            "_model_module_version": "1.2.0",
            "_model_name": "LayoutModel",
            "_view_count": null,
            "_view_module": "@jupyter-widgets/base",
            "_view_module_version": "1.2.0",
            "_view_name": "LayoutView",
            "align_content": null,
            "align_items": null,
            "align_self": null,
            "border": null,
            "bottom": null,
            "display": null,
            "flex": null,
            "flex_flow": null,
            "grid_area": null,
            "grid_auto_columns": null,
            "grid_auto_flow": null,
            "grid_auto_rows": null,
            "grid_column": null,
            "grid_gap": null,
            "grid_row": null,
            "grid_template_areas": null,
            "grid_template_columns": null,
            "grid_template_rows": null,
            "height": null,
            "justify_content": null,
            "justify_items": null,
            "left": null,
            "margin": null,
            "max_height": null,
            "max_width": null,
            "min_height": null,
            "min_width": null,
            "object_fit": null,
            "object_position": null,
            "order": null,
            "overflow": null,
            "overflow_x": null,
            "overflow_y": null,
            "padding": null,
            "right": null,
            "top": null,
            "visibility": null,
            "width": null
          }
        },
        "cccf4555dd954ebebd838f8eac1f796e": {
          "model_module": "@jupyter-widgets/controls",
          "model_name": "DescriptionStyleModel",
          "model_module_version": "1.5.0",
          "state": {
            "_model_module": "@jupyter-widgets/controls",
            "_model_module_version": "1.5.0",
            "_model_name": "DescriptionStyleModel",
            "_view_count": null,
            "_view_module": "@jupyter-widgets/base",
            "_view_module_version": "1.2.0",
            "_view_name": "StyleView",
            "description_width": ""
          }
        },
        "0c2adb46a9fb49259b4f8c591d7bb6bf": {
          "model_module": "@jupyter-widgets/base",
          "model_name": "LayoutModel",
          "model_module_version": "1.2.0",
          "state": {
            "_model_module": "@jupyter-widgets/base",
            "_model_module_version": "1.2.0",
            "_model_name": "LayoutModel",
            "_view_count": null,
            "_view_module": "@jupyter-widgets/base",
            "_view_module_version": "1.2.0",
            "_view_name": "LayoutView",
            "align_content": null,
            "align_items": null,
            "align_self": null,
            "border": null,
            "bottom": null,
            "display": null,
            "flex": null,
            "flex_flow": null,
            "grid_area": null,
            "grid_auto_columns": null,
            "grid_auto_flow": null,
            "grid_auto_rows": null,
            "grid_column": null,
            "grid_gap": null,
            "grid_row": null,
            "grid_template_areas": null,
            "grid_template_columns": null,
            "grid_template_rows": null,
            "height": null,
            "justify_content": null,
            "justify_items": null,
            "left": null,
            "margin": null,
            "max_height": null,
            "max_width": null,
            "min_height": null,
            "min_width": null,
            "object_fit": null,
            "object_position": null,
            "order": null,
            "overflow": null,
            "overflow_x": null,
            "overflow_y": null,
            "padding": null,
            "right": null,
            "top": null,
            "visibility": null,
            "width": null
          }
        },
        "74a6bdf56be440a68cb0184edd7e0daf": {
          "model_module": "@jupyter-widgets/controls",
          "model_name": "ProgressStyleModel",
          "model_module_version": "1.5.0",
          "state": {
            "_model_module": "@jupyter-widgets/controls",
            "_model_module_version": "1.5.0",
            "_model_name": "ProgressStyleModel",
            "_view_count": null,
            "_view_module": "@jupyter-widgets/base",
            "_view_module_version": "1.2.0",
            "_view_name": "StyleView",
            "bar_color": null,
            "description_width": ""
          }
        },
        "c4fba5438bbc43e5be7ab7e17defc113": {
          "model_module": "@jupyter-widgets/base",
          "model_name": "LayoutModel",
          "model_module_version": "1.2.0",
          "state": {
            "_model_module": "@jupyter-widgets/base",
            "_model_module_version": "1.2.0",
            "_model_name": "LayoutModel",
            "_view_count": null,
            "_view_module": "@jupyter-widgets/base",
            "_view_module_version": "1.2.0",
            "_view_name": "LayoutView",
            "align_content": null,
            "align_items": null,
            "align_self": null,
            "border": null,
            "bottom": null,
            "display": null,
            "flex": null,
            "flex_flow": null,
            "grid_area": null,
            "grid_auto_columns": null,
            "grid_auto_flow": null,
            "grid_auto_rows": null,
            "grid_column": null,
            "grid_gap": null,
            "grid_row": null,
            "grid_template_areas": null,
            "grid_template_columns": null,
            "grid_template_rows": null,
            "height": null,
            "justify_content": null,
            "justify_items": null,
            "left": null,
            "margin": null,
            "max_height": null,
            "max_width": null,
            "min_height": null,
            "min_width": null,
            "object_fit": null,
            "object_position": null,
            "order": null,
            "overflow": null,
            "overflow_x": null,
            "overflow_y": null,
            "padding": null,
            "right": null,
            "top": null,
            "visibility": null,
            "width": null
          }
        },
        "4033038f64054e0d9d36dc8a58ccc5a0": {
          "model_module": "@jupyter-widgets/controls",
          "model_name": "DescriptionStyleModel",
          "model_module_version": "1.5.0",
          "state": {
            "_model_module": "@jupyter-widgets/controls",
            "_model_module_version": "1.5.0",
            "_model_name": "DescriptionStyleModel",
            "_view_count": null,
            "_view_module": "@jupyter-widgets/base",
            "_view_module_version": "1.2.0",
            "_view_name": "StyleView",
            "description_width": ""
          }
        },
        "ba629fbd261c44caaedc19e54d4d5808": {
          "model_module": "@jupyter-widgets/controls",
          "model_name": "HBoxModel",
          "model_module_version": "1.5.0",
          "state": {
            "_dom_classes": [],
            "_model_module": "@jupyter-widgets/controls",
            "_model_module_version": "1.5.0",
            "_model_name": "HBoxModel",
            "_view_count": null,
            "_view_module": "@jupyter-widgets/controls",
            "_view_module_version": "1.5.0",
            "_view_name": "HBoxView",
            "box_style": "",
            "children": [
              "IPY_MODEL_c799356f99e2455795ed3dd6298a5bfc",
              "IPY_MODEL_5a550e70e3c64f2eb0468719e7b183dc",
              "IPY_MODEL_7638731928db45b9bea7951882ba552f"
            ],
            "layout": "IPY_MODEL_02f99cbd4f1d4032af68fb5af474adad"
          }
        },
        "c799356f99e2455795ed3dd6298a5bfc": {
          "model_module": "@jupyter-widgets/controls",
          "model_name": "HTMLModel",
          "model_module_version": "1.5.0",
          "state": {
            "_dom_classes": [],
            "_model_module": "@jupyter-widgets/controls",
            "_model_module_version": "1.5.0",
            "_model_name": "HTMLModel",
            "_view_count": null,
            "_view_module": "@jupyter-widgets/controls",
            "_view_module_version": "1.5.0",
            "_view_name": "HTMLView",
            "description": "",
            "description_tooltip": null,
            "layout": "IPY_MODEL_149b808f8336491685e230b3c201f74c",
            "placeholder": "​",
            "style": "IPY_MODEL_fe10cfba28b8415e8220d6c8804d9f75",
            "value": "100%"
          }
        },
        "5a550e70e3c64f2eb0468719e7b183dc": {
          "model_module": "@jupyter-widgets/controls",
          "model_name": "FloatProgressModel",
          "model_module_version": "1.5.0",
          "state": {
            "_dom_classes": [],
            "_model_module": "@jupyter-widgets/controls",
            "_model_module_version": "1.5.0",
            "_model_name": "FloatProgressModel",
            "_view_count": null,
            "_view_module": "@jupyter-widgets/controls",
            "_view_module_version": "1.5.0",
            "_view_name": "ProgressView",
            "bar_style": "success",
            "description": "",
            "description_tooltip": null,
            "layout": "IPY_MODEL_20acbbc5e2784ddf9548a7fad1dbf41e",
            "max": 100,
            "min": 0,
            "orientation": "horizontal",
            "style": "IPY_MODEL_9619db977e484ae7997cc1aa48708a73",
            "value": 100
          }
        },
        "7638731928db45b9bea7951882ba552f": {
          "model_module": "@jupyter-widgets/controls",
          "model_name": "HTMLModel",
          "model_module_version": "1.5.0",
          "state": {
            "_dom_classes": [],
            "_model_module": "@jupyter-widgets/controls",
            "_model_module_version": "1.5.0",
            "_model_name": "HTMLModel",
            "_view_count": null,
            "_view_module": "@jupyter-widgets/controls",
            "_view_module_version": "1.5.0",
            "_view_name": "HTMLView",
            "description": "",
            "description_tooltip": null,
            "layout": "IPY_MODEL_73eb95c2cb0e49c881c7190004ee5c71",
            "placeholder": "​",
            "style": "IPY_MODEL_99b033fa6e3946b295ffc18260f73ccd",
            "value": " 100/100 [15:36&lt;00:00,  9.37s/it]"
          }
        },
        "02f99cbd4f1d4032af68fb5af474adad": {
          "model_module": "@jupyter-widgets/base",
          "model_name": "LayoutModel",
          "model_module_version": "1.2.0",
          "state": {
            "_model_module": "@jupyter-widgets/base",
            "_model_module_version": "1.2.0",
            "_model_name": "LayoutModel",
            "_view_count": null,
            "_view_module": "@jupyter-widgets/base",
            "_view_module_version": "1.2.0",
            "_view_name": "LayoutView",
            "align_content": null,
            "align_items": null,
            "align_self": null,
            "border": null,
            "bottom": null,
            "display": null,
            "flex": null,
            "flex_flow": null,
            "grid_area": null,
            "grid_auto_columns": null,
            "grid_auto_flow": null,
            "grid_auto_rows": null,
            "grid_column": null,
            "grid_gap": null,
            "grid_row": null,
            "grid_template_areas": null,
            "grid_template_columns": null,
            "grid_template_rows": null,
            "height": null,
            "justify_content": null,
            "justify_items": null,
            "left": null,
            "margin": null,
            "max_height": null,
            "max_width": null,
            "min_height": null,
            "min_width": null,
            "object_fit": null,
            "object_position": null,
            "order": null,
            "overflow": null,
            "overflow_x": null,
            "overflow_y": null,
            "padding": null,
            "right": null,
            "top": null,
            "visibility": null,
            "width": null
          }
        },
        "149b808f8336491685e230b3c201f74c": {
          "model_module": "@jupyter-widgets/base",
          "model_name": "LayoutModel",
          "model_module_version": "1.2.0",
          "state": {
            "_model_module": "@jupyter-widgets/base",
            "_model_module_version": "1.2.0",
            "_model_name": "LayoutModel",
            "_view_count": null,
            "_view_module": "@jupyter-widgets/base",
            "_view_module_version": "1.2.0",
            "_view_name": "LayoutView",
            "align_content": null,
            "align_items": null,
            "align_self": null,
            "border": null,
            "bottom": null,
            "display": null,
            "flex": null,
            "flex_flow": null,
            "grid_area": null,
            "grid_auto_columns": null,
            "grid_auto_flow": null,
            "grid_auto_rows": null,
            "grid_column": null,
            "grid_gap": null,
            "grid_row": null,
            "grid_template_areas": null,
            "grid_template_columns": null,
            "grid_template_rows": null,
            "height": null,
            "justify_content": null,
            "justify_items": null,
            "left": null,
            "margin": null,
            "max_height": null,
            "max_width": null,
            "min_height": null,
            "min_width": null,
            "object_fit": null,
            "object_position": null,
            "order": null,
            "overflow": null,
            "overflow_x": null,
            "overflow_y": null,
            "padding": null,
            "right": null,
            "top": null,
            "visibility": null,
            "width": null
          }
        },
        "fe10cfba28b8415e8220d6c8804d9f75": {
          "model_module": "@jupyter-widgets/controls",
          "model_name": "DescriptionStyleModel",
          "model_module_version": "1.5.0",
          "state": {
            "_model_module": "@jupyter-widgets/controls",
            "_model_module_version": "1.5.0",
            "_model_name": "DescriptionStyleModel",
            "_view_count": null,
            "_view_module": "@jupyter-widgets/base",
            "_view_module_version": "1.2.0",
            "_view_name": "StyleView",
            "description_width": ""
          }
        },
        "20acbbc5e2784ddf9548a7fad1dbf41e": {
          "model_module": "@jupyter-widgets/base",
          "model_name": "LayoutModel",
          "model_module_version": "1.2.0",
          "state": {
            "_model_module": "@jupyter-widgets/base",
            "_model_module_version": "1.2.0",
            "_model_name": "LayoutModel",
            "_view_count": null,
            "_view_module": "@jupyter-widgets/base",
            "_view_module_version": "1.2.0",
            "_view_name": "LayoutView",
            "align_content": null,
            "align_items": null,
            "align_self": null,
            "border": null,
            "bottom": null,
            "display": null,
            "flex": null,
            "flex_flow": null,
            "grid_area": null,
            "grid_auto_columns": null,
            "grid_auto_flow": null,
            "grid_auto_rows": null,
            "grid_column": null,
            "grid_gap": null,
            "grid_row": null,
            "grid_template_areas": null,
            "grid_template_columns": null,
            "grid_template_rows": null,
            "height": null,
            "justify_content": null,
            "justify_items": null,
            "left": null,
            "margin": null,
            "max_height": null,
            "max_width": null,
            "min_height": null,
            "min_width": null,
            "object_fit": null,
            "object_position": null,
            "order": null,
            "overflow": null,
            "overflow_x": null,
            "overflow_y": null,
            "padding": null,
            "right": null,
            "top": null,
            "visibility": null,
            "width": null
          }
        },
        "9619db977e484ae7997cc1aa48708a73": {
          "model_module": "@jupyter-widgets/controls",
          "model_name": "ProgressStyleModel",
          "model_module_version": "1.5.0",
          "state": {
            "_model_module": "@jupyter-widgets/controls",
            "_model_module_version": "1.5.0",
            "_model_name": "ProgressStyleModel",
            "_view_count": null,
            "_view_module": "@jupyter-widgets/base",
            "_view_module_version": "1.2.0",
            "_view_name": "StyleView",
            "bar_color": null,
            "description_width": ""
          }
        },
        "73eb95c2cb0e49c881c7190004ee5c71": {
          "model_module": "@jupyter-widgets/base",
          "model_name": "LayoutModel",
          "model_module_version": "1.2.0",
          "state": {
            "_model_module": "@jupyter-widgets/base",
            "_model_module_version": "1.2.0",
            "_model_name": "LayoutModel",
            "_view_count": null,
            "_view_module": "@jupyter-widgets/base",
            "_view_module_version": "1.2.0",
            "_view_name": "LayoutView",
            "align_content": null,
            "align_items": null,
            "align_self": null,
            "border": null,
            "bottom": null,
            "display": null,
            "flex": null,
            "flex_flow": null,
            "grid_area": null,
            "grid_auto_columns": null,
            "grid_auto_flow": null,
            "grid_auto_rows": null,
            "grid_column": null,
            "grid_gap": null,
            "grid_row": null,
            "grid_template_areas": null,
            "grid_template_columns": null,
            "grid_template_rows": null,
            "height": null,
            "justify_content": null,
            "justify_items": null,
            "left": null,
            "margin": null,
            "max_height": null,
            "max_width": null,
            "min_height": null,
            "min_width": null,
            "object_fit": null,
            "object_position": null,
            "order": null,
            "overflow": null,
            "overflow_x": null,
            "overflow_y": null,
            "padding": null,
            "right": null,
            "top": null,
            "visibility": null,
            "width": null
          }
        },
        "99b033fa6e3946b295ffc18260f73ccd": {
          "model_module": "@jupyter-widgets/controls",
          "model_name": "DescriptionStyleModel",
          "model_module_version": "1.5.0",
          "state": {
            "_model_module": "@jupyter-widgets/controls",
            "_model_module_version": "1.5.0",
            "_model_name": "DescriptionStyleModel",
            "_view_count": null,
            "_view_module": "@jupyter-widgets/base",
            "_view_module_version": "1.2.0",
            "_view_name": "StyleView",
            "description_width": ""
          }
        }
      }
    }
  },
  "nbformat": 4,
  "nbformat_minor": 0
}