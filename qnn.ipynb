{
  "cells": [
    {
      "cell_type": "markdown",
      "metadata": {
        "id": "view-in-github",
        "colab_type": "text"
      },
      "source": [
        "<a href=\"https://colab.research.google.com/github/den1shh/summer-school-qml/blob/main/qnn.ipynb\" target=\"_parent\"><img src=\"https://colab.research.google.com/assets/colab-badge.svg\" alt=\"Open In Colab\"/></a>"
      ]
    },
    {
      "cell_type": "markdown",
      "source": [
        "# Building a binary classificator using quantum layers"
      ],
      "metadata": {
        "id": "SW5IfP_q5Otc"
      }
    },
    {
      "cell_type": "markdown",
      "source": [
        "Required installations and imports:"
      ],
      "metadata": {
        "id": "hH-kWXiA3yVs"
      }
    },
    {
      "cell_type": "code",
      "execution_count": 1,
      "metadata": {
        "collapsed": true,
        "id": "PNLus8UehOVs",
        "colab": {
          "base_uri": "https://localhost:8080/"
        },
        "outputId": "799e61ae-91d8-4b8b-b59e-f1ddf5288826"
      },
      "outputs": [
        {
          "output_type": "stream",
          "name": "stdout",
          "text": [
            "Requirement already satisfied: pennylane in /usr/local/lib/python3.10/dist-packages (0.37.0)\n",
            "Requirement already satisfied: qiskit in /usr/local/lib/python3.10/dist-packages (1.2.0)\n",
            "Requirement already satisfied: ply in /usr/local/lib/python3.10/dist-packages (3.11)\n",
            "Requirement already satisfied: mitiq in /usr/local/lib/python3.10/dist-packages (0.39.0)\n",
            "Requirement already satisfied: qiskit-aer-gpu in /usr/local/lib/python3.10/dist-packages (0.15.0)\n",
            "Requirement already satisfied: numpy<2.0 in /usr/local/lib/python3.10/dist-packages (from pennylane) (1.26.4)\n",
            "Requirement already satisfied: scipy in /usr/local/lib/python3.10/dist-packages (from pennylane) (1.13.1)\n",
            "Requirement already satisfied: networkx in /usr/local/lib/python3.10/dist-packages (from pennylane) (3.3)\n",
            "Requirement already satisfied: rustworkx in /usr/local/lib/python3.10/dist-packages (from pennylane) (0.15.1)\n",
            "Requirement already satisfied: autograd in /usr/local/lib/python3.10/dist-packages (from pennylane) (1.6.2)\n",
            "Requirement already satisfied: toml in /usr/local/lib/python3.10/dist-packages (from pennylane) (0.10.2)\n",
            "Requirement already satisfied: appdirs in /usr/local/lib/python3.10/dist-packages (from pennylane) (1.4.4)\n",
            "Requirement already satisfied: semantic-version>=2.7 in /usr/local/lib/python3.10/dist-packages (from pennylane) (2.10.0)\n",
            "Requirement already satisfied: autoray>=0.6.11 in /usr/local/lib/python3.10/dist-packages (from pennylane) (0.6.12)\n",
            "Requirement already satisfied: cachetools in /usr/local/lib/python3.10/dist-packages (from pennylane) (5.5.0)\n",
            "Requirement already satisfied: pennylane-lightning>=0.37 in /usr/local/lib/python3.10/dist-packages (from pennylane) (0.37.0)\n",
            "Requirement already satisfied: requests in /usr/local/lib/python3.10/dist-packages (from pennylane) (2.32.3)\n",
            "Requirement already satisfied: typing-extensions in /usr/local/lib/python3.10/dist-packages (from pennylane) (4.12.2)\n",
            "Requirement already satisfied: packaging in /usr/local/lib/python3.10/dist-packages (from pennylane) (24.1)\n",
            "Requirement already satisfied: sympy>=1.3 in /usr/local/lib/python3.10/dist-packages (from qiskit) (1.12.1)\n",
            "Requirement already satisfied: dill>=0.3 in /usr/local/lib/python3.10/dist-packages (from qiskit) (0.3.8)\n",
            "Requirement already satisfied: python-dateutil>=2.8.0 in /usr/local/lib/python3.10/dist-packages (from qiskit) (2.8.2)\n",
            "Requirement already satisfied: stevedore>=3.0.0 in /usr/local/lib/python3.10/dist-packages (from qiskit) (5.3.0)\n",
            "Requirement already satisfied: symengine>=0.11 in /usr/local/lib/python3.10/dist-packages (from qiskit) (0.11.0)\n",
            "Requirement already satisfied: cirq-core<1.4.0,>=1.0.0 in /usr/local/lib/python3.10/dist-packages (from mitiq) (1.3.0)\n",
            "Requirement already satisfied: tabulate in /usr/local/lib/python3.10/dist-packages (from mitiq) (0.9.0)\n",
            "Requirement already satisfied: psutil>=5 in /usr/local/lib/python3.10/dist-packages (from qiskit-aer-gpu) (5.9.5)\n",
            "Requirement already satisfied: nvidia-cuda-runtime-cu12>=12.1.105 in /usr/local/lib/python3.10/dist-packages (from qiskit-aer-gpu) (12.6.37)\n",
            "Requirement already satisfied: nvidia-nvjitlink-cu12 in /usr/local/lib/python3.10/dist-packages (from qiskit-aer-gpu) (12.6.20)\n",
            "Requirement already satisfied: nvidia-cublas-cu12>=12.1.3.1 in /usr/local/lib/python3.10/dist-packages (from qiskit-aer-gpu) (12.6.0.22)\n",
            "Requirement already satisfied: nvidia-cusolver-cu12>=11.4.5.107 in /usr/local/lib/python3.10/dist-packages (from qiskit-aer-gpu) (11.6.4.38)\n",
            "Requirement already satisfied: nvidia-cusparse-cu12>=12.1.0.106 in /usr/local/lib/python3.10/dist-packages (from qiskit-aer-gpu) (12.5.2.23)\n",
            "Requirement already satisfied: cuquantum-cu12>=23.3.0 in /usr/local/lib/python3.10/dist-packages (from qiskit-aer-gpu) (24.8.0)\n",
            "Requirement already satisfied: duet~=0.2.8 in /usr/local/lib/python3.10/dist-packages (from cirq-core<1.4.0,>=1.0.0->mitiq) (0.2.9)\n",
            "Requirement already satisfied: matplotlib~=3.0 in /usr/local/lib/python3.10/dist-packages (from cirq-core<1.4.0,>=1.0.0->mitiq) (3.7.1)\n",
            "Requirement already satisfied: pandas in /usr/local/lib/python3.10/dist-packages (from cirq-core<1.4.0,>=1.0.0->mitiq) (2.1.4)\n",
            "Requirement already satisfied: sortedcontainers~=2.0 in /usr/local/lib/python3.10/dist-packages (from cirq-core<1.4.0,>=1.0.0->mitiq) (2.4.0)\n",
            "Requirement already satisfied: tqdm in /usr/local/lib/python3.10/dist-packages (from cirq-core<1.4.0,>=1.0.0->mitiq) (4.66.5)\n",
            "Requirement already satisfied: custatevec-cu12==1.6.0.post1 in /usr/local/lib/python3.10/dist-packages (from cuquantum-cu12>=23.3.0->qiskit-aer-gpu) (1.6.0.post1)\n",
            "Requirement already satisfied: cutensornet-cu12==2.5.0 in /usr/local/lib/python3.10/dist-packages (from cuquantum-cu12>=23.3.0->qiskit-aer-gpu) (2.5.0)\n",
            "Requirement already satisfied: cutensor-cu12<3,>=2.0.1 in /usr/local/lib/python3.10/dist-packages (from cutensornet-cu12==2.5.0->cuquantum-cu12>=23.3.0->qiskit-aer-gpu) (2.0.2)\n",
            "Requirement already satisfied: six>=1.5 in /usr/local/lib/python3.10/dist-packages (from python-dateutil>=2.8.0->qiskit) (1.16.0)\n",
            "Requirement already satisfied: pbr>=2.0.0 in /usr/local/lib/python3.10/dist-packages (from stevedore>=3.0.0->qiskit) (6.0.0)\n",
            "Requirement already satisfied: mpmath<1.4.0,>=1.1.0 in /usr/local/lib/python3.10/dist-packages (from sympy>=1.3->qiskit) (1.3.0)\n",
            "Requirement already satisfied: future>=0.15.2 in /usr/local/lib/python3.10/dist-packages (from autograd->pennylane) (1.0.0)\n",
            "Requirement already satisfied: charset-normalizer<4,>=2 in /usr/local/lib/python3.10/dist-packages (from requests->pennylane) (3.3.2)\n",
            "Requirement already satisfied: idna<4,>=2.5 in /usr/local/lib/python3.10/dist-packages (from requests->pennylane) (3.7)\n",
            "Requirement already satisfied: urllib3<3,>=1.21.1 in /usr/local/lib/python3.10/dist-packages (from requests->pennylane) (2.2.2)\n",
            "Requirement already satisfied: certifi>=2017.4.17 in /usr/local/lib/python3.10/dist-packages (from requests->pennylane) (2024.7.4)\n",
            "Requirement already satisfied: contourpy>=1.0.1 in /usr/local/lib/python3.10/dist-packages (from matplotlib~=3.0->cirq-core<1.4.0,>=1.0.0->mitiq) (1.2.1)\n",
            "Requirement already satisfied: cycler>=0.10 in /usr/local/lib/python3.10/dist-packages (from matplotlib~=3.0->cirq-core<1.4.0,>=1.0.0->mitiq) (0.12.1)\n",
            "Requirement already satisfied: fonttools>=4.22.0 in /usr/local/lib/python3.10/dist-packages (from matplotlib~=3.0->cirq-core<1.4.0,>=1.0.0->mitiq) (4.53.1)\n",
            "Requirement already satisfied: kiwisolver>=1.0.1 in /usr/local/lib/python3.10/dist-packages (from matplotlib~=3.0->cirq-core<1.4.0,>=1.0.0->mitiq) (1.4.5)\n",
            "Requirement already satisfied: pillow>=6.2.0 in /usr/local/lib/python3.10/dist-packages (from matplotlib~=3.0->cirq-core<1.4.0,>=1.0.0->mitiq) (9.4.0)\n",
            "Requirement already satisfied: pyparsing>=2.3.1 in /usr/local/lib/python3.10/dist-packages (from matplotlib~=3.0->cirq-core<1.4.0,>=1.0.0->mitiq) (3.1.2)\n",
            "Requirement already satisfied: pytz>=2020.1 in /usr/local/lib/python3.10/dist-packages (from pandas->cirq-core<1.4.0,>=1.0.0->mitiq) (2024.1)\n",
            "Requirement already satisfied: tzdata>=2022.1 in /usr/local/lib/python3.10/dist-packages (from pandas->cirq-core<1.4.0,>=1.0.0->mitiq) (2024.1)\n"
          ]
        }
      ],
      "source": [
        "!pip install pennylane qiskit ply mitiq qiskit-aer-gpu"
      ]
    },
    {
      "cell_type": "code",
      "execution_count": 2,
      "metadata": {
        "id": "PGpiOqJm5TXT"
      },
      "outputs": [],
      "source": [
        "import torch\n",
        "import torch.nn as nn\n",
        "import torch.optim as optim\n",
        "import pennylane as qml\n",
        "import mitiq\n",
        "import matplotlib.pyplot as plt\n",
        "import numpy as np\n",
        "from torch.utils.data import Dataset, DataLoader\n",
        "from tqdm.notebook import tqdm"
      ]
    },
    {
      "cell_type": "markdown",
      "source": [
        "Fixation of random seed:"
      ],
      "metadata": {
        "id": "KMG3qNO3376w"
      }
    },
    {
      "cell_type": "code",
      "execution_count": 3,
      "metadata": {
        "id": "N159-lP-5U-c",
        "colab": {
          "base_uri": "https://localhost:8080/"
        },
        "outputId": "778ab811-f6d2-4da9-a6a1-e8b9fd574746"
      },
      "outputs": [
        {
          "output_type": "execute_result",
          "data": {
            "text/plain": [
              "<torch._C.Generator at 0x7d3635cf1770>"
            ]
          },
          "metadata": {},
          "execution_count": 3
        }
      ],
      "source": [
        "np.random.seed(42)\n",
        "torch.manual_seed(42)"
      ]
    },
    {
      "cell_type": "markdown",
      "source": [
        "Setting general hyperparameters:"
      ],
      "metadata": {
        "id": "44WqI7Qhz6n9"
      }
    },
    {
      "cell_type": "code",
      "execution_count": 4,
      "metadata": {
        "id": "uC1Fp9EF5YKx"
      },
      "outputs": [],
      "source": [
        "input_dim = 16 #dimension of input vector\n",
        "num_qubits = 4 #number of qubits used in quantum layer. equals to the dimension of classical layer outcome\n",
        "\n",
        "learning_rate = 0.1\n",
        "epochs = 100\n"
      ]
    },
    {
      "cell_type": "code",
      "source": [
        "qdi_reps1 = 1\n",
        "qdi_reps2 = 1\n",
        "\n",
        "d = input_dim//num_qubits\n",
        "qdi_depth = d\n",
        "if input_dim%num_qubits != 0:\n",
        "    print(\"input_dim%num_qubits must be equal to zero!! following computations will cause an error\")"
      ],
      "metadata": {
        "id": "ZyLvlmyr0Bst"
      },
      "execution_count": 5,
      "outputs": []
    },
    {
      "cell_type": "markdown",
      "source": [
        "Setting hyperparameters for EFQ:"
      ],
      "metadata": {
        "id": "Yrx4s1hx8xzb"
      }
    },
    {
      "cell_type": "code",
      "source": [
        "efq_depth = 2 #depth of efq layer"
      ],
      "metadata": {
        "id": "IEIjkJXz820E"
      },
      "execution_count": 6,
      "outputs": []
    },
    {
      "cell_type": "markdown",
      "source": [
        "Setting hyperparameters for PQN:"
      ],
      "metadata": {
        "id": "00SRmdz1-gLz"
      }
    },
    {
      "cell_type": "code",
      "source": [
        "pqn_c = 2 #number of circuits which are executed in parallel. num_qubits % pqn_c must be equal to zero!!\n",
        "par_qubits = num_qubits//pqn_c\n",
        "if num_qubits % pqn_c != 0:\n",
        "    print(\"num_qubits % pqn_c must be equal to zero!! following computations will cause an error\")"
      ],
      "metadata": {
        "id": "QSJmlIoJ-eiY"
      },
      "execution_count": 7,
      "outputs": []
    },
    {
      "cell_type": "code",
      "execution_count": 8,
      "metadata": {
        "id": "Ldv5AFSq5cuf"
      },
      "outputs": [],
      "source": [
        "device = \"cuda\" if torch.cuda.is_available() else \"cpu\""
      ]
    },
    {
      "cell_type": "code",
      "execution_count": 9,
      "metadata": {
        "id": "YfkljeeC5nWv"
      },
      "outputs": [],
      "source": [
        "# [ds] = qml.data.load(\"other\", name=\"bars-and-stripes\")\n",
        "\n",
        "# train_features = (np.sign(np.array(ds.train['4']['inputs']))+1)/2\n",
        "# train_labels =(np.array(ds.train['4']['labels']) + 1) / 2\n",
        "# test_features = (np.sign(np.array(ds.test['4']['inputs']))+1)/2\n",
        "# test_labels =(np.array(ds.test['4']['labels']) + 1) / 2"
      ]
    },
    {
      "cell_type": "markdown",
      "source": [
        " a simplified version of the MNIST handwritten digits dataset. This version involves distinguishing between digits 3 and 5 rather than the full range 0-9."
      ],
      "metadata": {
        "id": "M_YqBtAR_i_h"
      }
    },
    {
      "cell_type": "code",
      "source": [
        "# [ds] = qml.data.load(\"other\", name=\"mnist-pca\")\n",
        "\n",
        "# train_features = np.array(ds.train['16']['inputs'])\n",
        "# train_labels =(np.array(ds.train['16']['labels']) + 1) / 2\n",
        "# test_features = np.array(ds.test['16']['inputs'])\n",
        "# test_labels =(np.array(ds.test['16']['labels']) + 1) / 2"
      ],
      "metadata": {
        "id": "Vp9iffEz9Ch1"
      },
      "execution_count": 10,
      "outputs": []
    },
    {
      "cell_type": "code",
      "source": [
        "[ds] = qml.data.load(\"other\", name=\"linearly-separable\")\n",
        "\n",
        "train_features = np.array(ds.train['16']['inputs'])\n",
        "train_labels =(np.array(ds.train['16']['labels']) + 1) / 2\n",
        "test_features = np.array(ds.test['16']['inputs'])\n",
        "test_labels =(np.array(ds.test['16']['labels']) + 1) / 2"
      ],
      "metadata": {
        "id": "BDHwVLNuV3Ya"
      },
      "execution_count": 11,
      "outputs": []
    },
    {
      "cell_type": "code",
      "execution_count": 12,
      "metadata": {
        "id": "PDO3W1jIZIlL"
      },
      "outputs": [],
      "source": [
        "class BaSDataset(Dataset):\n",
        "    def __init__(self, data_x, data_y):\n",
        "        self.X = torch.tensor(data_x).float()\n",
        "        self.y = torch.tensor(data_y).float()\n",
        "\n",
        "    def __len__(self):\n",
        "        return self.X.shape[0]\n",
        "\n",
        "    def __getitem__(self, index):\n",
        "        return self.X[index], self.y[index]\n"
      ]
    },
    {
      "cell_type": "code",
      "execution_count": 13,
      "metadata": {
        "id": "dmuFu8JOcaSx"
      },
      "outputs": [],
      "source": [
        "train_dataset = BaSDataset(train_features, train_labels)\n",
        "test_dataset = BaSDataset(test_features, test_labels)"
      ]
    },
    {
      "cell_type": "code",
      "execution_count": 14,
      "metadata": {
        "id": "kZOlvd0sd-8K"
      },
      "outputs": [],
      "source": [
        "batch_size = 60\n",
        "train_dataloader = DataLoader(train_dataset, batch_size=batch_size, shuffle=True, drop_last=True, pin_memory=True)\n",
        "test_dataloader = DataLoader(test_dataset, batch_size=batch_size, shuffle=False)"
      ]
    },
    {
      "cell_type": "code",
      "execution_count": 15,
      "metadata": {
        "id": "0_ThLVVTeGq1"
      },
      "outputs": [],
      "source": [
        "criterion = nn.BCELoss()"
      ]
    },
    {
      "cell_type": "code",
      "execution_count": 16,
      "metadata": {
        "id": "NZZBmoNjgrgk"
      },
      "outputs": [],
      "source": [
        "def train(model, criterion, optimizer,\n",
        "          train_dataloader, test_dataloader, num_epochs):\n",
        "\n",
        "    train_losses = np.zeros(num_epochs)\n",
        "\n",
        "    test_accuracy_arr = np.zeros(num_epochs)\n",
        "\n",
        "    for i_epoch in tqdm(range(num_epochs)):\n",
        "        train_loss = 0\n",
        "        test_accuracy = 0\n",
        "\n",
        "        model.train()\n",
        "        for batch in train_dataloader:\n",
        "            X = batch[0].to(device)\n",
        "            y = batch[1].to(device)\n",
        "\n",
        "            preds = model(X)\n",
        "\n",
        "            optimizer.zero_grad()\n",
        "            loss = criterion(preds, y)\n",
        "            loss.backward()\n",
        "            optimizer.step()\n",
        "\n",
        "            train_loss += loss.detach().cpu().numpy()\n",
        "\n",
        "        train_loss /= len(train_dataloader)\n",
        "        train_losses[i_epoch] = train_loss\n",
        "\n",
        "        model.eval()\n",
        "        for batch in test_dataloader:\n",
        "            X = batch[0].to(device)\n",
        "            y = batch[1].to(device)\n",
        "\n",
        "            with torch.no_grad():\n",
        "                preds = (model(X)>0.5).float()\n",
        "                test_accuracy += (preds == y).cpu().numpy().mean()\n",
        "\n",
        "\n",
        "        test_accuracy /= len(test_dataloader)\n",
        "\n",
        "        test_accuracy_arr[i_epoch] = test_accuracy\n",
        "\n",
        "    return train_losses, test_accuracy_arr"
      ]
    },
    {
      "cell_type": "markdown",
      "metadata": {
        "id": "3o_dst17omf_"
      },
      "source": [
        "# Noiseless simulator"
      ]
    },
    {
      "cell_type": "code",
      "execution_count": 17,
      "metadata": {
        "id": "jVRrFsv-5ec_"
      },
      "outputs": [],
      "source": [
        "dev = qml.device(\"lightning.qubit\", wires=range(num_qubits))"
      ]
    },
    {
      "cell_type": "markdown",
      "source": [
        "![image.png](data:image/png;base64,iVBORw0KGgoAAAANSUhEUgAAAtoAAAFACAIAAAANmUzcAAAgAElEQVR4Aey9d3wUR9Y2uv/d3733u9/7vt96dx3W9toEY3udX9u7zgljMgihjIgmCVAOo9Eo55yzhCQUUM4gCUVyEBlMzkEoZ03o6a7rc6q7Jbw4vl6QROk3munpqa469dTpc54+lf5ACCEC6RoeKDixx2PHNu/q7NBdhUG1+f61uezFEGAIMAQYAgwBhgBD4CEg8Ieb/V0OpSnPu1s+6WY23WvV8+6Wf1Sa/Idi6dMKY/ZiCDAEGAIMAYYAQ4Ah8BAQ+MOsGMUH/ptWpwfXnjnSMdjXMzTQPzjAD6m7R/rZiyHAEGAIMAQYAgwBhsBDQOAPz3lYxu6tEgghPBEI4fClhS4cnr0YAgwBhgBDgCHAEGAIPAQE/hBTW9RPOGAi9MURoid6HFAyelL+lR0wBBgCDAGGAEOAIcAQ+L0R+APXN0TzpNEQjhA1BkgYF2EIMAQYAgwBhgBDgCHwcBD4g4YQ6Jqh/TQ8dNboBPjQQ5SEvRgCDAGGAEOAIcAQYAj82xH4A4wS0UOvECfzEgHICftjCDAEGAIMAYYAQ4Ah8HAQQDrycIpipTAEGAIMAYYAQ4AhwBB4EAKMjjwIFXaOIcAQYAgwBBgCDIGHiACjIw8RbFYUQ4AhwBBgCDAEGAIPQoDRkQehws4xBBgCDAGGAEOAIfAQEWB05CGCzYpiCDAEGAIMAYYAQ+BBCDA68iBU2DmGAEOAIcAQYAgwBB4iAoyOPESwWVEMAYYAQ4AhwBBgCDwIAUZHHoQKO8cQYAgwBBgCDAGGwENEgNGRhwj2Y1UULqUnrqcnb21AiAZXAL5vyWFcf0/eJgkOCO5TwIvrBXN0pT55KyWe7u+Ii/VhzrjPEuSrl3Zeogd0OT9MgvtD6qB0WPIPt4i8b60/WVoBN4oSeL0kqkCXB5T3lBR4IsDukoK43aS40yRkgOsHauUKyntQyiXRzEEWlAdTcrxeL2/LAFWVFiGURRqzgZS4n4OMp17Eky6qDKJL4smYiCspjpFBPJRXO+SxSKk4uhazKAdiDr+g5AKumAjHWHn5PD0jnxdXecbmgJMcrZIEhyShQHg9xUGqzn04yOKhYD9o0FEhQVAoZMwHfqeXQ9V4DTQWnBSbhioSnhGVTRIA217UIpqtWEdagJRMxBb0EBLTiosSSktK0uJg5w09AAB/mF4UFS8Uz9NTPOF5TEEzFLODzGmxNA/xcqrC0g0ilsVBEaP3l3yBLDw9g+9iPlKN4Jx8jAdiI44Rg95fNI+xp0cxxDwgH6pRkCfoOb2DRisr1Rew40X1lCoJCIiZYzL5GL5RePTQjmpCiA7Bp02A8kMaFB5vc6meKMBYIWkV2Ps4RIDRkXHYKJNBJLj/JVuspiaDejM0MHqZgkgWBOwIGhPReaFZoVdQL0L9GvVDGrRMsvWRbY18ICI4ahl5MK9orNWE0xMeDJbkYmnBkD+QEPjjJLpAf6KGGOyp5BuwaD3ykjHWkxp0kA38n7zHAj1N98qm59XgicGq0jwhW0FAAGj5+D72u0CGaGLpF5oPXE69vGhzwcHTFxXrB2KgsRY9BK0qdRXDREftPhVVFlhLiF7g4B3rzoskCvFBX0IBoe5ZJBN62pIgKK2ggM5Dro0skoyW+BP6MLo2tAwLCgxZyYLJPls+o9PpKH2lyaj+jO69xfOCREfkjGhlaQONlQfanf6hTLLMsgByDrJg9IBmAunFWomqIv9Kc6XtRRPDT5LbFiTuSzOgV3GEDIvfMVtsaNpeovbizqc0MTQQZSdISiggwwIvN81Y0eAS6W+sltLzFDra6DI4NLl83diDsbUWz8ttg8jTk1TDxRsMKQU9L7cCByAA/jKEY45QA6keYgNDPpx4+4h5IrMRhcFMtGMfJPD2GRagBdjfuEWA0ZFx2zQTXDB0XaMPxhILIRr0V5LBGmu/RH+GBmnUZKN5Fa0Mdel6nuhFn0oNKNgjNO56sODcWJNEz4NDkkqEa6lf5YhG0ENiyaNDYrDfNP4B5zV6tF9o94HQSLUQS0QSAO0k0RQsTrpcOk+0+IBM3Q9sCoXyU1dES5RdCEc9DGQz9k800Hp4IhQNM6agbltMzFGCgLXj+LGuTs4KYQPoxB0hqCuAekluWEJSvhykpSepkOIl4OfEIAFtKlodfBfloajKLIxWX8pMzBO+An9CHkDbhV4mxjNGgZB9FC2Oli3DTmtIWQZtJpqA6h+AoYdIDL448JEiCERPYzioP6gYsi6JoMlqQ2slf8Xq01qIkOBP8jGqPxAyWVWgLlKrUbkoURvGrOAXjnAcR9tUFFZOR9EbQwEhvUD0SDhEH4sbfcgKBbLJOiYBRSshS0IzGa0pPj+AxBxSG9riPNFr5ICXfCmtOl6K9RohOh0ZvcmkdLzIs6n8WDwtlNZMq0YGQlGDu3JUP0RRaRWoBlL8xhgEEIsijJKPGg0emQi9PSXYxQzxEvY2PhFgdGR8tsvEl4onIzQIgV7gSl9H9YWjmftqK88cOtFxAx7vqO0TXTxYGjXPYVgCrBJHeHiUoaZET3oFbS/RcZAhr6XeS7Y11Eih2erWDoc35B+9fZFeKPebgCviSQ/RDkBxkAOc0YsxDJCEkG69eoDoNIRX40uj0RANeFwIC4NLgWPIVg+yQc4CPGpp4BTSC470DfSDn0NvhweQHi5FL9KjHpKFFzAHDZAnPb6TYbFS6MUk5wGlYg64ybbotoeIMEglRi9EO5Woz+MI3y+AgUcbL0qiF70vtfVixWnogghkRKftA7qEVABTYnpUP9GO8wMEG4Ing4JOjY+wo+wB66vntBiBAByom6GVpo+ntII6jZY2Cs1VQGaExSB6Aj+gGQIxaFcOzw9hCAagE4geurNEMtEPLYIA3Ud9RMi6NUMD6IloK3OEH+Ihpq9WD2uwGUQ5taAPgB+2bCcZoY2ulsNmGK8abUoBGAyIh80k4DtkqIb2UvMQb0NXCqo1QpBwI+Mb5rQgANVV2pp65KaI6Mmbl4v2NzSdar1x6yYlLvsunqaev103NIzqRgWWqyPjoCU83CWo4n16Dfp4hAh6fPCFMouq/q9uHpsBrpIoDkdIu2ZwGO8OGt7TjIUahaF3AJYlaia0IDZE8p7ypu9aqR4iqJAA7gIdcCwxLAGtCUjibY6Nj28D6kF633GEBz4GKeA5QKRZSB4p/lpJDYBTCnrgyqjDIASGwaj2Uratoc1L8aCiizmOFs2OxhUCjI6Mq+aYPMJQ200E/mL7TY+ytJnh9gsjnG1SQ4yjlF+6r1+d6Nt8/bRsXATCRzWUrEjyN4hXzYl0+CrMZn68clmKv191jp6QgZHhoIrs5bHeSyNdPw7YZBrrbhztBr6NmhhqKNGPVxzdO8PZxL86UyuAExKjtegMOrt6lIUp5km+8wNs50Y5b9gWtuv4frl7podoldnxxqEuhrFucyOcDEKdIuryrw12LN8a8EmUvUGkYmmk6/wwx1lRTkbxyo8DNy5JcDeNURnEKD/1s5oTYb8s279dUKvyk83jPRdEOM+KV8yMcFgU4fpNkP2ljjt6Qq4NdG1JDF4U4jg3VjEr0nFJsGNgSWba/pp1Mb6m0R6zwuxXZARGV+SAVRVJANYPjzWElB3ZvSDQ7jPP9UvCXVbGeiU3Vqh52HQbMMAYNUWi9daFtVGeS8KcZ0Y5zg6xWRTuaBjrujBOMTfKcWmMq1VWiKoqrZ9oIRaCdnmE6GN2FhpGK5dGKOZE2X/is9Y0xXNeuP2cCPu5Uc5fhdl9HeGwNNTZMt3/XMftjuF+t5wEiwj3uUF25nEe/x24bhHmPC/FbVG868bs0KTmkpu9d8HT8OC5o3ZuN4x1WxLrZhCpWBzhYpbs+XWU/WcRNnNinJbGKY0TVPOinT4O3GgQr9rx3aEdZw6axrovTvaYH6/8JtrZIMVzUawqvrmite+2U268YYTCKMPv6zgXwzjVPD87ZXb8qTvX5MABVQM9IbeGepyyYszjvSGrKMX8KBeDSMWSWPes1kbr9NDlaf5LYpQLY12s86NOdV2T6Ah/ruuOVWqQWZTbzBBbw2ilWbK3T1WmR1maZaLngnCHT8OtP4uwNk9QfeFjNT/caUGo4/x45dxQh9kRjmuLorWEj9ldsSolcEms2zfhdl+EWVO99a3cpiZ8r27Ib8c20wTPBdGK94KsDOJVi2KV4Ft5/krPXeeixNkRjjOjHL9JcP3Ib6OqKNkmL9oi3lMLSqnbnBG2KFa5IFoxM9z268DNZsmesyPsv46y/zrC7psoh88ibBbGKdwq07WEtN66tDo1yDja/bOgLUsS3d71Xzs7znlOjNOsMFujVM9vtwXHNRbd0/dTokCJ0Ri6gDePALu41xw/sC7ed3GU4nPvjcZx7gsiFPPCnLekh59quy5Hnah6ylnJB/cGez8K2GCXG3mzu40qpPgTIXeJ2q0odVaIw+woxexo5/kJbiZJXuuSAwgWqiVkQNB5bYszT/L+JtxhfojDqlT/gLo880i3xdGus+MUs6KcFkUpTGPdZ4c5fOK9YU6449wIp4WRLvMT3JTVWzWE33Xj1KoEH4Nol68jbL+Oc5wTYb8wzGlepLNpsveGbWGJLeWXu+9QskLJ5eSxsJOxJoyOTMZWHQd10nNawvMnbl8yTfb+LNQmsqn4+nBXPwYeaq8cN4x1+6dqTUx90QjR0cfKq933ivfWuxYmvuW9aoab+ea8qO3760/fvkrdc8Ol4/FNpQbxqrf91oXuyk89WiNWEUkJ+HABBvFtSQt7Ysscy3TftqFuwkHwA9yu9CDYfP1s3pGmZbEeL7lbvKgy27I9UkfER3YN4bP37nQvTf0ixGZunGv8ntLjty9pCTfLy2pRlCKoIqvwaFPhoQbfxu2vuJn8XWHqX51ZeXxP5oEaz9KUNel+H4ZtIITsu3gya3+NRaLHS0qzz7w2JDaW5hxq6BsahAdowm8/uMu9PP3TEOv5SaropsKj1y9eH+zevr/euzb7Zffl01XmC/y29NOxtlgpCMTo4ElxgJCVYe7/DN44xdVk7fawrP01x29fokQEaocEhtbxnrY/f19t8K7tbwesf83dcktOeM6BncWtDRn7qqLqtm/ODJnps3FVkveeG2fhMvTnrbcuxB+oWpbiPcN/5Ye+axMOlJceby452ph/tClpd0Vkbf7XIdYvuVrsvXRSIKTl8unEA9WzE5UvKozNE9xL9tfuONyU01oXVZ9vnRP+VdDm2RH2B6+coQGkdZkh7/tvcCxLjm8pKzjWvP14w8JYl+nOxssSPLL2VpWf3hPdVLglK/QlZ7OKE3u7R/rz9uz0rsz4p8e30x1NTNN805uqjl86pyVk1/H9UTu3L05WPe9k+HWIdURNQdmR3X0cBK2QjtGqw7GGkMozhyJbSswSvV51s/iH79qgupzSQ80dIwMNx/ZvPVgzP8z+RfslU60XqypTxOdkju8jXFpTuXtxyuvuK1el+uburTlx+9KJO5dz9u3YmB44w938naC1/jsyas8dKT+9L//AroT9VR4FSfMCbD/ytyKEv97fWbq/UVmU9I736ulKM6vcyNy9daduXAbOp+f3XjiR0lBqEqP6h/e6iJrtGUfqNITvJ3q7nOjZvlt2nNhHH/q7e7u2bA39b5+1HwZvpgHC7OONUbtLP/WzettntWWce/6RXSXHmoqPN2UfqolrLvaq3vq20nJOiD2NbeTv3ZXQUPau77o3PVZYbwsrOdG8o7U5Z291ZEP+8iSvWQGbv+eXR+5chkgeUnOx7qhm8vHVtps5B2oVO9NfVln8zd1sVVpQZHNZ5ckDFGqJJAPqcAl+p5xDIKT0+N6n7Bd+4Ldux6n9GP+Q0uBd2nLiSEp9uVVW2FRn0ynu5vbFcSeunBE7VjDa0Xz11Lxol5ddzB2rU3L21RzruFrR2hLdUDQrxO5V12Xm8Z55B+pqzh8pP7m3/PS+sNrt9lmRn3ltMIpVEcIPaoYKmnaE1Oe+471qqtLEKie0+Ghz0YndkfWFVhmh3wTZmqX4FBxr1gscDZ+IdoN9jEsEGB0Zl80yCYTS82farxsleMxwMY9pLIbhGjperR3B+Cp/+N7lhZEuH3muKz7eIkb+0ca1XDn+QdCGl1XmBSebqJ+lZh3cJ+GDd+RYZYURPR2LIdpE0SsJ5LvuO7MC7d7wXP5h4Prqs/vhQjS+NJgsvgt8TGWuQaTzu56r3nBfHlybA0hjfFsgfB/RbkwLDqnPIzjc9Z66b66/Tf3VE/LghooTe59VGH7ss+5o22Xa39HDj5Sf3vNR0AY0r9DRE1Cz7UVno4XBDkMQnSGCjgNJsIgebmhzanBQTTaYdDpSRiCXhjvmhzl+FmX7D9flBScbQR7Z9uPB/hvnF4UrPguyet97TcW5/UhAEBt8u59yQUEawi+NdH1aYRzeVKQRdLRoDeFPdFyLaSye5mS0anv4iY5rIAAGzznCJ9UWPKFY/KXfxnO9N8X8qRQCOdV1bWa4fVZtKfX93wfJ3WuypivNTNJ9u7QDkonne7SD9sUJz7uartkadLPzrpbw1lkRjtvjutT9tPpqQb0yzfcFR8PA6kyI4BNOQ7h7w12fh1mn76vEUYncjYF7XwVtfkVpnrC3TPZ5BPuerPOjpqvMLTJ90YeicDQIj9/BL2qx/wN6aviQ8qzXFebGUQqYeCSCyQ8R3r44bn6qarqryatelvlHWyCEpsEuGIHv14+YJ3nWndonP9ZrCZ99sO7vnss/j7Q923mV9jIQ5NN6wpefPfB+wMYrXXegfIHsu3bqoxCrl1Rmecfq9dgzwkOPBPzrQSVy1m8L0+t1EA7U8XsvnZwVYudUnAgRRF7sOrzW07Z+e+TnITa03we62wTeYVvUc87GDjnR/foRegvQ90HtcPjuwg/81w8D6QffryFkXpzLVBcj/53ZvZTiY7fIrb72tIM73/NY8+228JbLp6l2QR1RbFnRACUYP8RfU3csCnd8XrE0v7kGmkDSUqqVFByZwdCvQ7zOOivqHd/Vzzst8duRqdMjxZfyp/gLhBy+fWFuhNMft8zdsC2EAwmxK4cH0tZDtKsSfLxLU3p1AyNEhx2dfA9RL0v0nuZqrqpIR0ygV0lAZejhRwJqcuaEO2KoCfDvI9yscJvnnZakHqqWenn4AW7Eb8e2KS6mn4fZNl8+AY898twligB7H2cIMDoyzhpk8ojDKyrTnncy2pITOShoiMAPDg8IhB+mIy0In3i09gUnY8NYt/Pdt3GwCPjoq7133vFc8eyW+Y0XW+n0RewARs/D8+7l6auyAqFjGZ++JE8Dn1qttvr0oU/D7GdH2v3NwSCwNhs6MajvkkYrouHm3avSbIpibPMiX3Wz+Cxo043udmr+qGNYmegVub+UCMAhWm9dmB1gA0MBINACtqz27KFnlUafeq09cwei/fAnkGu9d772t+ofAd9MeN6/cutTCsMF0QrwKOCQ0Oyid9ESfm2qn09tFiEwXYVKd1fdO9/LyrIg9H3v1Wsy/Kl7kyUXBCGuumBLVeo/gta/6ma+4/xBAr3qOFGIughKucSnXjp6g58bYv+Ck2lCSyV16mKeOEpgU0HUC5sXO2dFjR1isrWlfJq75aIAu7aRXmgfnTgjA8TgOZNUn+iGImg4bDvP0rTpSjPjOE+aeb9ODa3BkdSGijdUq/9kv7jqxN4+otmcERZfXww+QI/DKQhvnOL9/9nO96vJgUEP6PyIwFvnRoRXb+vW9ROO69f0/8N37XMKo6y9VRQcdHg8IdymNAhULE11pxRTHDEqITB2Ei8hvF9F+p8US2ZF2wvo9mgm34/XUaSHedVmrMzwe8nFeGGcql0YJhyvJRyB+nJfBm3ec+UEJMaKCoSUHdv75OYF73qsGRoZpKNGaCSPqPl7wz1fhNsdu3kBojQcuTlw733v1U9vmVd7/hAdKYyziyXEytNXZwbjWCU4E1CZ9Vdbg+CGApqbfEd4VWXOD3OkxYO+6fmlW32fU5ipitPomM1R3RDIgLrvK3+rKz33KFBEIHMi7KcpTRKqC0cHeKJsGkJcsuP+97rZITu39w8PiaqFyksrSyd5QYkCd3Pg3mw/qz+7LM5tbZLn9YjjgSh5kedL09tKgBEnM32tlyYo/2Q7b01WUPtAt0T9QS+gCIRUw2vDG/JfUZq/776i+HgjDooSR+Rk7K6a6bX+CsHhYVBxuOO0hDeL83jKealreSqFDiUUId114ejSOJWG19JRaBzhZ/ttesHRMG3/DqigQPqGgQff6Gv/Ktjmyc0Lwmq347xgetNSmdj7uEOA0ZFx1ySTQ6CbvXc/D93yV6u5xa0Nkh1DEiE9kQ2rhz4J2/Kmx3JVUTJ1K9S1v+216kVno6rTe9GLIBhinAQ8/frsELTXeB4tMdgjPbAcwzhVUPFWl7y4/7SbtyjJbUADlheSgAnC6TZYjKIsRVWWdrvjrkNe7P+xWWCR4nlr8B5MJcAhkN9uC42v2g4ehpCSY3ssY7yGxgz3qzl9eJrK+A3P5Tfabol2lpDOkYH5IQ7tvd3UMfhUbZ3uavJNHPUro3LSmlik+kbW5mOIHowmR0jnUO+XfhtPd179wnf9a74r7/R10OGrIIGOvy0MfhNo0z3Y/3HwxlddzevPH6bDDMWqicBhJSX3IBB+VqTddDfT0J25IBIFATt1BELO3r423XPZp/7r684cAMuPYiU1l7ziu+I95fIRPcz4JQI/QHQb8iLptSE7c523x2ngQR+AcS1LmupqbJHgQ38VnZbA159vneFm/oyr2daGyn4imAUpGq6cguxRAIHwS+OUUzzMXPJj0a9g0QJxLUyMqcrvhVg6adf0v+/z7VRP85S9FRRMuBxFtM+NecFpqdlWn9EaS4qEn+Cl6CUCIQFl6VPdzb8OtaE4UxD0hLfNCA2ryz3fdWthsNMUheH6vFCi1xItcDuOkPlhjnvOtSIeoswFp1ueczT4h8+3dwbaQQpc5SWhuYLooQfNJjUsef9Omr5tqPMd9xVTVGalx5rEHCTACQG9XZsVRM/rCRfeVPCC09Llyb6DGhiwS90n0fOHb5wzi3Xr1g9DlaE1eYtU75eUppvzI5G9QSvnHNqVd6CO6qpJmKL+4jGk0ZD33EiHN9wsgmvzxGFbKADN/t5g7xvulh/5ra84tQfCPDAKVKzjWDwFQkZGht7yW/OS0jT3MGUMeCdIcTgoRkIZ+DTPCYT32bHNLM6j4Uzrq54rpylNqs/sw6nmmBIVTJ5t1Kcdss4Jf3LDNwsTXYcFrQ5ihNCfuyTKNf1QDdyoEMAQBeMIvzDb5znXpQ6F8XIIMG1PVf7RJoizEn6e/5ZL/bdF9AT+k+BNM9zMkw5W4bBfCJIRju/jBr8Mt/mj7XzX3LhRjZJaiH2ONwQYHRlvLTJJ5EmoL5yhsvin/9qznddkEzZ6gAtaGCa7/11lsTotQPQsArnac/stz5VTXIzRqEm270F0RDQu9IPjz3ffNk7w2HfrXOPFY+8ErH3Xa3XzmSNicZANuFJIKxCX4iRVSYpA+MLjLZ/4bnxFaZZxaCeYTZ4X9PyydP+0PVUQHSHkQsftvAP1dKYDbZVdZ1tnuJv+3dPyyt0b6CXhtEBI6u7KfvUwlcW7Mn2awnhWrMMPaBPmwJun+ETVFeB0CbhST0j3YO8nvhtvDXVYZQZPdzON3rGdhnXQ//EFx5rXbA3SC/zvRUc4Xv9J2JaXnIyCarLF/nuBpDeWPmW/cGaItU6PXWd6fs/54wtiXWmNdl89VXK4EcMDUCeHwtgZ7uYG8Sr4FZ0H9L0QPvdI3d+cl77svKzyYIuGkMyWHbfV/YDOT9KR5ssndp89DpXlSJ926PPgza/4rkjcUyZfSEmboixlqsJkQaSD7K6oztA2pR1StDH0hPiWpr6gNJkVZivijI2kJfyWrNDw2lwt4dL27HjVzfwtzxVlJ1poM+kJPzPCYf/107IqCoKQvX/HFIcls0JtujV94JY50nCm1SzGU6fnhgmpOLr3+O0rVDHuDna8475iqrt52fFmegaylYjgWDpCBK7qzL73vNe8rrKMqMs7fPXsveEeSiD0hC85XI8NgLpK+FXpfk86LFyTFQSlg4ZyTnmxnqUQLBEISdlVcrW3jUbgiEAWxLpMdzXxr942lo5Q2qEl5Mtw65ddTIMqMkYFE8WjZYnNJNORhAZoAtpXI1ZEakqKMyCPs8ysssK8KrZ2aIeMkr2mOhrG7gK2LWVK0yKnQXUpOtb4ScCGV9wt/Ksz6Rxv54KEjVtD2ga6xIpg1fAyfna43Ut2S/zKMyA3HdFq1Y6FsYEN+VQVE3YWdPcCd8c//n3vNS/ZL93aVAbdwTBPCWKT9ZdaX7AzmOGxLHV3pZiQJmfv4xIBRkfGZbNMfKE2Zoc+pzAyTHLr1w+J1gmnxKIVozaEty2OnaIw+ixoi5rTwXmBXO66+ZbnyqkKk53fHaCWFJB4EB2RHpupN+GDq7OXxCg7uMG2gS6DWMV/WX3jUQbDFcXnKphbiIUKRFmW6pIfTwS+gxuMqs7/k+28uVGODZePwpMZx5skeaUe3AnuDa2XvG4SCENI7ZkjL6uAjlxsu04Fhnee9OqGZLrjXZk+1cXo6xh7KhlchllhBkBHYhuKZXstENIz1PcP3/UjRFN4tGGGwnRmiC0+I4Kv4IneOisi9QDEn38vOkIEYpbq9bTN/JXbAmWE05vL3lSZz4lzPnjt7Ln+u4fvXvQsTZkZaUeDRhzhR/QaOomXEOJSmviKu4VRrEp2ogLhrwy0O2+Ped5mkX1u3J2+LkJIn14j54+O7MHRET3hB0YgwkI40qsZ/DzA6lnnJa75cTc7797t777Y3Xbu1rVTty5tyAn9b781K1O8aeSAgipiDvqBMXwsRk+IX0X6FHfzeVE4tgBxx4Gu/ObssODqLBisoB3eUhD5tPWChYnKw3cvUtf1QfDmfa7jC9cAACAASURBVNcgnCM3V9Gxxtc9LD8N3nTg2ikt4fqJJrg2zzzVF1qWlk3VgpA7A+1vq5ZPdTcvB35D/36Ujtwd7NicF/GE9bwnrGa/p1puEa9y2B6Vtqeqc6i3Y6iLDgVF7eJXZQR8ErJh5bbAi+03j7Zf2fHdocUJSq/qrVBf7I9ARcKwkEDmxyumuBr7V2SO0hEaWkLaYZ7m9bzDktXJPkB37iciYn3xpExH0g/UUiDkRoSvmJTjYIkbONTzJ7quzw62q7t49Pv7y7045S9Ws5fEKC533saQJIAkXkIh0fMDvNqrJvMZ2wXv+K45d+9qZkvVgljX6tMHQNPoUr/yeoACb5ru/d+Ba23Kk47cuXy892bmifqvI+xCWgogMx4myWP3KBYh8F/HOb0TvD75WM0IAbKoJfzhuxetcsJeczJVladc7b4rySI2D/sYhwgwOjIOG2UyiLR6W9BTDotN45Q6vZqOtqO2Cd5xHCchvM/OzOedlryiWt43MoT2V6Qj01xNf56OyH3YPMxbWZPkF1K3HcwTx4dWb/ur05JF8a7X+9vpKpY49RRRFXiPqgy7vBiCy8Df6etakqT6m8OSlZkBHdwg4fjlaf7RjTjiAeWkJli0wwLZcebwNMXSV70sL7ffhOxoZwdECMSeAiIQn4r06c4/RUfim0opHaFuYFA98rb3twLhbw92fRlkPcNnxbFr58BBcuRo2+Vlid6XOm4R8rvREYGQb7cFP+doYLTVG2qHbZG4p+yvKsP/y2bW4giXrwKt3/dc/by9watB34qMCld0kNcU8anNmqY0+TLaPm13uW/ZVsfSJNfy1BXpAYuC7dZnh5zrAbtPnZCMHvq/B9MRDGyg3+JJj3bwQ991/7ll9ppkn1c9V77p8+27futnB9isTvSd7mz8F8dFRkmuGhBZ5iTIQnCEo8jwsEW8y9OmuJsvjHIS5Ud5tITfnBfhV5FOPd/JzqsLYpz/6rjUsSwZRlhz/CfBW/ZePk5dNY0bFZ5qfkFp/JTNAs/8BJMEt6VxrlNtDL6MdYCycBACHaVBCLndf+9t1fJpHhYVJ3dLd6/s9e/rrAFMeP7MnSv2JYlv+X87zdV0usrsT/YLnnUycitMAj4kUWFC+FVZgU9umf280mh1euBHfhtnhdr8xdlgbWEE9ERIg0/FCBBP5sQ4TfU0D6jMAvHEF7YDcodvs4P+pjRZmuAGI33w6rGtRJtsbGfN1oN1Y5uPJoCYId4M4pIehE/eU2mZ6A0l6knz2db3fdfM8FhWdKz5B9eK9AWeCfgDbefnRjpMczPbkBFkEOkc0lhILxfXa8G7At/42bFO/7H5m1eVlt/G+n7hY/Wh77pn134TVZ8PwoAdgdyoYITnPw7c+H+v+fzzACvbtFDjSNW65IDPvTZ8EWadeKgKBkoj3aEX4ZXsbTwiwOjIeGyVSSDT+tywJ+0WLo1VwLBTHPxPbQG8i5uG8N47Mp5zNHjda3Xf0CClI1e6b73tteqX0xGwehy51Ne2NEKx42IrWGGBFLU2vR+47m2P5Ttb99CAMyQTLSnvXrnVviBOdlQNF4584rv+aduFkS1FPNFZ50ZF7dwu/ooS63Ri5IYIpPq7Iy+6Gr7mswLoCBYtOaRROuJfnfmSi/HMaDt5NINYOkjAmyV7JzSXgf2VRBrSad70WUe74V2Lk1/wMFMUxKGB5v1rc51LEigP+L2iIwIha7NDnnM0ME7zolXQExLbUvyu94pv4hyvdNzqGOw5fetCaHnG7BAbulIcIfwtdQ8PAwXAG/ntyHzBZek7AWsDSlKdt0U7FsR7laWH1uQ1nD7A0TE6tAcHV4qTmdyPjR3BuTliML9fUH8WtOl5pZFrSSIwPJ5T6zVq7UjbQNfm/MjXAlYbpWEPkfSYDs2EUzPo7BsEGPyUe3HScy5L50cAb5AFgLEj26N8qzMoASLYW/eG+/IXnY3yjzUQgVsQ63Lg8umxdCT36K4X3Uymq8zjGovim4vCG7ebxKvMMjA6gh0ZGNWBYn95dAQw1MHrTk9n5r6dHiWpVllhn/pt+Ivjkqk2hutzwzqHeqmvFQhERz7wXW1fGnevp+O7G5daL5xYneTtU5RMQSMCf7nzNu3cIQL5Jsx2uveywKptoDz/QkdWZvg972q8NMENptaPap94W9CPsXQkbY84JhR+kv6uDnZRHaC8RCD8lq2hTvnxPIwuJ5c6bllm+D6rNParyqKrmSH4yBgojYHJzxC3yD1S94rS7GX3ZRap3tcGO0Z1QBo4gjcHb5ikesPd0rki9XJv+52Bzvo7p5dEO/tVZeAkbwBJCzPg8E/Pz46wf9XNQlWZuufKqdorJ32qMg1j3T4K2JB6tAbCLhwssCYmlqrDPscbAoyOjLcWmSTyKEuTnnFa8lWEzT1trxwcFskBDSrg0+pUF6OFcUqNTkvN3PW+u+94r56qoAPipIds0Xr+cCgrvYTwJLap5B3VKkVJsntpqkdFpk1e9Nv+a56ymY895ZCJmBJttKIk2bkkSfZSROBCd2Y/b2/wUcCGmjP7N+ZEpDWUiQ9z6HLE9sALai4cm+pm9IbPyisYsSC4KiYmlp7SBBJcmzNDYfJFhPUD6YhxgkfS7gp0GGLtBrXq93w3qtVgYxsvnHjD3fIDv3U9RN3e22mZ7FV5/gDRwVjL34uOEEKMUz3/arNgTXYw4IqCJ9QXPmU959OQzcM6mFDKEb7pQuucCPshWEQdYuKRtfmX7l4HKARw9n9zNTJP8+7nBumyGaOzTqDDfpTLURjRtUBJDxzKSl0R+Akexo58EWD1uu/K5H0VYi7iczCv3B77moupaZQLeCGBnLx6Lqa2IGBHdnjt9vCdeTHNRZUHm8BHomr5Vm59UWE8P8KBrtEJmYMO8Ha5kUF1sNYcpORgPwG30tQnrGbPi3M5dOPM/HjFvsv3ddZsP1z3d5XFNzGO5/tuEZ7TEi7/UP2yWA8NndhE1zNF/fjlQ1k1hAzimGDKOeislraR/rDm4tedLV5yt8ClO0BjBcKvTfP/X1tmrtsGs3Io5bIrinUqiKWbAl5svxlbU0DpyPczaecE20zzgOjIAztrDGJdnrM3WJceQGMjUqPQJsU63N9Zs3UPjtKl6fD3fvWwMi9xaGQYelVw7dQTXdf/4b3OKNnLqzjVpTjFv3rb/Fin/7Kea5TgcbnzLlUteZiUPFCJCNAr92HwxmlupqqSJLpqMJRDb3MUA4vlF8Q4v2xn6APjXQjR8n1kxC4/2hsXfyOE7L161qNAupEJ/1HAhtfclqXvq6Q9WRzhj7ZfeV9h+a77yvLTe3ApZ6wGexvHCDA6Mo4bZyKLVna44TWvFVNdjesuHpFtGhpwsDcQWeB186KdXnUzV5SlyIzh5sC9d32/neJiXHFyN/UigMED6QglFNhlYxitXLYtyLcgZf22MOucOO+StBUZfk87LTZIdLvd1yX3DaGH4xVFSYqS0bk8ROCvdd2yyYuc4rx0/dbAedFOOXt2ygNNQHKRucBB7bmjU92M3vJcgU+lYpiHOmyQE1NGNxW+ojT7NHTTA+nIkhhl6r5qeWYNIaRreODjgC3D6hF4NtXrzFPdp7gaFx1rLDjWvGFr4AhuKyb8fnSkb2ToHwHr31QtS9gNS4nQpklqLH5TteyLAKveXsod+Z7B3rAdufTnHvWAYbjLdx03qD66FSdOU5rMi3aCGDjtWcBef44QOd5OfY/YgsjqfpSOyAEMPXopzzWveC5L3VdJp2PQMZtaQqzzY6a4mhine2oJ6dQNJjSXfei38QVXsxkqy2kKk2luZoEFqb26EUpHgmtzXnK3WBAOdIT2uWHj8HbbwkfpCEp1vu26Rar3cy6GDtuj3w9cv//K6FBWQkjuwZq/2S761Hf9ze47dC7xvmvf2efGdYwM0Ad0ET5COtQ973quetHNtOhIvXTXgtZStzp2KKua6OObSpMaSoe1uJS/pMbDgtYqA4ZbhdXkSZrPr07ze81nhX1eFF2mX0/4gsMNdWcOQb4CyT1cj8PAoSCOkIVhDlPdzfyqxtARyqcF0jnU/6H/utdVlrENhfR2oopNW5++U2lHx440iXOtpeqQ07evzgq0g8HOWLpASHBDweeR9h4VW50KE9ZnhvtWZtoVRL3kZj5DBcu60GTiXYCXAAvE25kQMi/BZYabWWAlDq2ls6LoU4ooDaQzSPOY4rzUqTABAAECyZecaK4+uY8G7eJaylZu9ZdB/mfwxulKMyCyOLAGJ2/zJonuz7os9d6RgVjjHYpZsbfxiQCjI+OzXSa8VGrt0KIktz/bzEvZW0F3qhvWao5cPDswNEgdd99w/7teq99yt0zaWynaFIHcHup4z2/ti85GZcebJaP843QE98W7NdTzlfv6E0N3iZbu1QIj7A5cOfG2z6oXXIyqYSV47AvAEQbfD+Z3K01VFCRQR0FXIiGEq7/U+qbvqnc9V77ivix3b50cHYFkHBGkrVhqTh160dXwTdWyq913wSHRODQYUGRMaHPjdpe8ojSDhdFo7watrdie/KJIl/QDO+meNfSitoGeL4NsB7Vq+nAf0JT9gsvSVVEqp4ok//J0osf9PvjfLTrScOLw044G86MdT9y9CMjgHoIJu0uneVm857d2QDMCkvKw8MMNro+GIm52t33ptbGTwE8cId47MmYoTOZHO4GzxyE4cAkCJQKClRUxxD57ZBUPjo5QZgZtrSdDRPdP729fdDOJaSykzkzyQ8SxIH6Ks5F5kic2HH/+ztXYusKo5pKcw7WZeyqTdpdlHKqlU451Au9buXW60mxuiC2NBFByCZ01WWF+VRlUZlE8PV/+3b5nnZd85LVmqtL0+O1LYkMhkyg6u2eKq/GH/utv999DWKCa97SDVJ8kRwi/dGp63/Vc9YLSpOAQzMLFvwfTESJwqqJEl5IENY7EpFNXUNX5qPrCl31WqIqSKRpE4C0z/P7mYLA5P5IudIbbGdKtcwCukPp84xRv6n01hCyNcpnqbhawI3s0OkIHhxJy9PyZvyvNZ0Xa7755GqqPmwDJ8j+QjmTvrR0lBriDz+5zJz6LdEQdBxw0Ou265ICQ+ny6JwCtcvtw59rskD/aLnQrTYczkBpjQXRnJzyBLUhmh1jPUJiENME0GdodCfovF4kXGqS4v+hkqChKEjkl7mZDZ/B+vwe1W3GiT1kKxZoQ/uMgq1eU5in7K6XHAFi5ZFmaz19djewyw2C1HrHJpSvY5/hDgNGR8dcmk0IiPSFFx5r/W7XqvbDNQ7yGCNxHARssEj0Wxrq4FSZwhHPOjX7RzXR9kj/4dWrkeF5NON9duc/YGdgWxsCgE9rdq4MEB9uvGoe61lw4Rp+YwYrhipbu+fGbUgJgjSPo1ODBv+pJT1/n5m0hf7Kdt6kgCoZ3gC3CXgQ9r6pIdylOotFvcblVgdfpNCktFTOUy/5isyj7eCN96KcelpINOvyl+eSRF1yWfuKz9tStCwTi1SIL0WANeD0seH+rr90k3mOKyixhfwUsFQrFYuc1PE0WmYerOkYG8HEWl1bT89eHu75yX99OYL1aLeHbBrpmBVg/57v8+41srvfew4vBXn8QteVtlWUlrBsBy6DR4Zz0cZOOK0QIIaWW8HNDHZ6xNUzaXUXdOcCLPvlqf+esSMf3vNemtYDVlv1WYl3R0y5L5gdZ3xxsp/nLa0XA2qA50StiPMENwKaDvHdhyrMuxgZhznCGLjyKI3npMBooSituGkfX84DSoQV1i0Lt/uZq7F6cRNkbFR49MYWP7+cGP/da98ymuVmtNdQzIUWD5bk2pAXM8LAwSnSjTmXUiwN5Au4g1hQIIu9VlvqUcuncSHuCLQI9Uhz0QK1OC/CuzICvdHVOdH6wampRyp9dDKb5WB68Cmvhi9pI+PITLc/YLHzXd003bOAI5+nebGIaZMOQGPXQuzb7Cau51vlRVG9Bcqz/sa6bxuHK8rOH4AwmdiyIXxinPDNwF3EASEFLdLxDSeKbnqu3AaGBrxrCWyZ6P2G/+Pt4HkAtv3Aa0QAZWRDrmlpfquVgjUE94Q1ilH9TmgRUZtGWAm3UQz4X22+ap/q+6GyWtG8H5kN1AawMDWKJi5VBtlwHGfpQuWKqr2VmUzWkoMVypINXb86KXJMSCDng0natt88ZBtpd62mjeouY8BpeG99S9tzmRTMj7a7ruolGXCpXBhUhh4xnRtu96GQYXpsr6zPtl6P5UDW2SPb5zy1zXCqSUd9BFNBYDip1oufm4giXpL2VsOwQLL3LfxFu8/9afZ19eBfUCkXXEn5Ngu9zCqMliW7tQz0E59rcG+yl9BQsBexADPWRpaJXsvdHhQCjI48K+clerh4mSoRW57zutXptRnD0rsItRTEc4S513tiUEbylLG6awsQ8yfPCzSvgG6TRJESAbT7mBtl9E2iz89xBWDET11Y90XPbY8e2zWlhN/u7ZLOsJfyJvlsW8e4bc8N6xFGNaEAFGFqoLE961c18eZLXd+23wGbhOo893NCarJAV6QF3B7vAsNLlVjHHy31tVrmRU+2NYptLx86UodaNI2SIkH2Xz7zguOSTIKuWW7D/nxgB1sGjKv6J7jn1wI63lCvMEj2uaDsJLoKgJaT53PE1Cf6RteKimUQHfqhfUO+8cmxOsF1z+4XB4QHqV6yzIqbYLbXNCIfK4KLvI4R7z2f1R95rc483DPBqcKjUkyAHAWOK/llPeLVec2ngnlGCxyuq5ZG7CvpGBqgR71D3FbQ2rs0Med3Zwq4sCcYPwiL6YN97iSb14M43vVaYhDt/13GNuiDxSZIXInaXfhKwyTE7GrymTnNP268qSn7bb51ZotelvjZxG15pXW75gRvEoy9CBmEXedLO95skur/t/61baeoAbpwLmNELcWhzv6A+2nltXoLiZU9Lr+p0cUdfYAD6dt2AfUHMW96rjFLcYUNjPTIfcO1j/AhKrCekixvyrcx82/9bw1jXtv57OHYBanqjr31zRphPaTqsWw8tDn94EazEZZbhO8V68d5rJ6jYGkLuaPuyDta+47vm03DrPVePw/a2OOZkbNVoI0BuAt8Ka/k7f+2/perMPtBbVOnvRjpdKzPWJgXeGuqRAOF96nJesjVS5ca3DXRhUwLPu0OGVm4NNAtz7ezvBtrHc3f5wQ3Z4e94rPbKS+wbgRWNpWEWfL9ueMPWwJddzOtPHyIC6VcPXxvsWBCt+LtqWUxTSYcwTBPfU/eVtTZvSA9+wdYwdFfhpS4cz4HUDYCj4FHCAcd8Hzfc2nP1K9+N0xTGhUca6Qr3w4S/OtAes7vsc79NNoVxqM/8TXWP347MmSHWZ3SdwE54yr2AV1VfPfZ1qN2bCsuth3eOEK348ECRwpGqOiKoCfkqaNMbniv867K7dYPI2UXGjFJBTW9z/StS/F5RWLiXJsOi8ggy3dn4aNvlzSXxHyhXt944Dztaa0a+67tlkKR8x3tV4r7y9hEgHJTxOxTG/x+nRR97r9VqRgTCmyf5tp473T3YD20v6Y70STWCvT9KBBgdeZToT+ayMdytVg8HVWfPj3KZHe38Vbh945mDpSf3fOa34V3/tTYF0dc6YIeUM7cuw1Rg6tNxf/mmS8ctkn3mhzk65UVnHq6PaCo1j/bYmBTUch69Bfr+tsHejUkBH3iufdnFdKq94cbs8IPXztIowMGbFxQFCZ8EWT3tsPglJ9Ol8Z7L0gO/u3bReXuccbTbDOWyl90sl4S7KAoSBjgYuSm6BALrippEu9031JQng3pt/uGm1alBc6Jd31Ctflll8ayDwbwoR4somExY812rlteLbARsHFj3AaKLqitYGGRvmeyV2Fge0FioLElbHqT0zE/p4MTF1jnC118+vjLF75/e6/60fs4HQZvWpgQcuHyaI3z20Yb5YY7bjzXpCd9ytnV9WtDXAdYvuy97zt5gZrjtpq2hOXt2agSgafS5FsgWWtfWe5cds6PNEr2etl08xdXk61Cbb7cGrM8KNkv0WBgBe/zODN5SeKSxX1ADBdTzw5w6paHUNMnrHe9v/+xi8Ly9wbKtvmvSA5el+Jok+SyKVc0Lc37Fa+UUJxP/isxu/XB0Rc66nPC3PFc/5bDkb45GxnHujtnRZ/thXAUdWkHdgMhD8ONy2y3l1hijKJVBtMtUF+PnXY1fcjI1jFMZhrlGVm0fBhcLQYT6yyetMkIXRjg/62z4jGLpN2G2K7cGF+3ZdVPd51eeYZHs83Ho5j/bzJ+hslgU5KTMjL3W2UYLFe8gVLZ72kGfonTzOI933FY+YT3vaYfFFsleKxN9cs/uccmPnxPu+Jy94YuOxgsinD0qttILQWBUgPLTe+Z6bNh/E7Z269IMpR+oXZno84X3xiet5//FcbFhvNIkxsMnL+VWD667hcWBG0NXBq2Petty5aR5kve8UAdlUUL24Yaw5lLjOM/1aSF7zp9ExgvtpSW8a1X6a6oVS2PclkW7W+dGhbYUp7TWLopSLIhW4IqrfNtI75bkIGPc7+kplem7vuvW50YsT/O3SPU1TfJaEOH8gc/6Vz0s3w/YePjGuVtDPY7ZsWaJXs85G09zM5sb6rAszc88zmNFgrdhrNuXQdarM4PD6gs61bCVI0ggR5KwgWhjqWHw8rGNKYFLklTQTE6GX4bbrEn2WZXoZRTvNjN4yzQno2esFzhWw1o+/uUZM/23vKIw+5P9wvnxyrRdpTTecGugO6Q8a26I/XSF+TM2iz8K3GSe5p1ZX9muH4FlyXBjnSN3r2xKCZnjZzvDzfzPDove919nlREaX1/cy6llfb7Q0+aYHj43xP4lZ7NpbhYf+VutzwpemuRpFOlqkeBlEO36nseap+wMvvDcoBV0LZdP22SGL0hSvuC45HmbhR8HblyfFRrTUIqMla87eWBRvOtzmxf4V2/LPtpglOB1o6NNS4cSY9sBJLwYJhF1iX08OgQYHXl02E/qkmlYG55tBb7u4tGIXQWLI1zWxfuuywyZG+E0N8T2zL0rRMsNEuiBPnr7ohxFwEgD7PcWXJtnlxezJFq1Isk/pDwbxuqjAxgehvVPR4g+eVdZ5K6CnCP1wZXbsnZXg8HFBOfu3YyrLQytzYnfVx7VXBKxqyiwKqejtzPryK74ptKwmryYxuK4xpKsI7vk3grqnoEinG8903ljdKgpPuMeunouvr40rqUitrk8Y++O0F35cS1lodU5cbtKzuEmaqIDpv4JvsBjYsuVkx4lqcvjfZbGeihKUotaW9p1uGMI+kA94c+33wjfmRexqyDzQI3/zuzIpuIbfe00TN1w5jAEb3j+auftuOZSz+rM5P3V4XX5oTV5ETXbx9IyMbCEffM3BjpiawqiG4qCd22PqS+KbiyO2l0a0lzkvysvrqVs99VTfdwwjjYV4956wjeePRJakxfbUJx4APJP3VcdUZ0bUVsYWpMfVJsfXFcQW1OQ0lCK02r47bt3hjcVBdTkxDaXhjQWRu4qSKwr6tT0g5PDeA1ER6BDBxwfjx0ivZw6Y3+td0N+yM7ciF0FqQd3hu7Kj95XFbwjb8fJg7R/5/vJPuc6bkftLAitzgndmRvdWJxYV6QsS99/7iSs7rp7p09JGgC+Kz+2qcSzNnfrwbouCBFhMehUaLtzhGxr2RnVUJK4pyJhf1XY7pLg2rzYmoKLvXcLDzXQVotpKgmrL6g4sZdeIvJIPfQSVh1paeMGaEV2Xz4dU1+S2FiauKcipD4/tq7Qp7Fg+7EWcQQrrCmMkRmEXYuMiurt6e6bEY1F9ttjzeK8ViT4BpZkXqcrh/JkoK8fZeazm6vyjjZe0XanN1fYbItcmxmyINwpsGTrnlvfgULq+UHCJbaUhzcUhu7KD2kuCqrOTtpdEbIjJ7K+MLapJH53eUhjYfCOnG0HavU6boDXRu0qDqstCKjLS9pdEd1QFLunHCrbXJp+uLbwzN6bg53gciW4xnTDSQAiu7rYeSeifFvgzpzIpuL4lrLglqK45tLQnblh9QUxTSWJeyuTmspO4NiavAP1cS1liXsrw1tKYhuKD108Q2FUE1J+fF9wZU5cS1ny/uq4lrKw2u1Hzp2mJJVGzm4O96a0VPlWZcc0lQTVg1bE1hUWH2mBHPC+gJ7WoYH02jL/6pzghoKE/VWhu/KD6vLid5dHNRRFNOKrLj9qb3nWwVo94W92t0fX5AfUbw+py41rLg7etT22qWQnVS3Uwu/arjnkxxkme36bHJiyo1jsmaJdiggAaAL7Gx8IMDoyPtph8knBwS6j6JfEcRsc9m7c7r5Xfan1HY+V/nXZxy6diqrPn+m58XzXLfrQJvonDnuIMf33G4CJay6h0aQmiwbZaaR9dAwE7WBA0/j9xrMQ86Av+lBIFzuhrhLfNTi6TTTTeC39UbLbIPvon3whD5FkDnuzRWHoMhuYYDR6j1v4DuNed2rqruR8sUYgGl5PDbEgCACXlJVGg1vR4lMnffSE33C25+iADAREWsSFdjyI8Xx8WEfZ0V+KfSiIAxSHHAugRttMz9C4DvxGL6FeS4KFnhTXlKNyIsIAMq7YJga3IC8JN6lo+lgshqCQo0iDFcTOEhADIz3UW9NwBYjHSwngd2xQ3JIQC8FipAaDM1icKCE0g9T6dAwHzsCCNFgQ5DwqKF6LbYpCwleaDyoAdMRglxnyDalSo1djsOEHetuvH6HLtdFSBAE3HaArjsjL90kcjhJ3NacDdRAIwcVsxUanxUlaQesI7wAMAoIqRMNjgBfiI1aNXgVf4I9CRVsVcQaYMaf7Eoh3DZ0whSjdhzbqA2YCmiayeQomvfsoloCv+Bq9XIfJReExnoRbTlL1ACHolpcSX8BPqBG8qFpShcfKiDcaqrS8BQ/VaChBnMIHaoMdr7CnFQ3A6JBHwiUY06QIUOosAsE+Hh0CjI48Ouwnd8mwQRZaToHojni/YAAAIABJREFUdLDyEoxBg7F1ZIjwb3mu/ovtgve8YIkR0xgl9lKjBUNjLXoXuiE4jfNKjkfEDK0INSW0O5maWw3sMw8bqIjJ0VXQ3GSzOPoTGiSpLLBgcCx+oDDor6n7l605VmlMy6EQcCFaf+rGRL+CHTfU5dNFIUWxBDIyMgJp0I6DJ8PcqSTUsdF8RgdsUks96gwgVxleLfIb7DMCniSFfFBIyZ9R8w3C4pFozdEjivwGqy6N5RhTQeRS0iqcUp4gsF6kCOAXgTKKFbnvUrE4HAIkXSvVV/b68AP1NJKzl7PS6Cgeo80Cowgkz0cvpI0mX/KDBqXn9YSoRZhH2a3YHGMFpmQFz8iKIP5O3STVuTGXyE1P9RTzRA8qp5f4ClwKNBtGvtBjMRs9Vh6TyW06pgSortwuVA9RCnHgjCgRqh9dZ0WuFwzVxLxHR4vfDz7NVs4cCqUFSB6dnqAnZTFoiSIfwvS07rRZxkpIx1zT/OX7SCyFFoF0SoROut1oPmIjQ3ZAR0RkEBdxHXlJk0G8UcYC3/BffAfuLYDZARClX2gCHpQY5hkJQF7Z36NHgNGRR98Gk1UCsNSS06XGWSvo1JxOp9cG1eS+rbR8wcXoZU/LlL0VBKapiG6Ghr7puzwLVDQxkq0Ufbn4ldcKMJWDPjBCiWjJaOl0hqToWjA9zNuVzK4oIRqpMeZv1KKNPQlnf+Il0RFaaekdguT32XFqOqUJBxyOO6FpRs0oml6xaGpAqZukfoBSCSoJjvCjTAiFHvPMihLIRYs1RbZH20KuuwgOfZimReC1tATMdsx30XVCu8p0RISFxnvEy+CcXK+xsEFeUhpZqtEqyDBKacYkF6+Tc5Mhgh+kdqf502ducYYPfVCnl9G1y/BYrCt+iKXJQlM0JMXQIuWSfxy9kLYL5Cn8QG9lNkLlwRlfyNioX8X8qZ+mgsPgVy0waaiLBALgI4kn/iTDIa34AokRCIwUiG6VjsgRL6fFyKiJVRXBhMvH4iO1mlwOlPuDPxGcMRRAFBPSyeXAsSBFRETIpIxQi0aTysjKrEASkqoQ5oJZ44bTMraygkmVEfMfDZJBsA84Oi1/VN/wu16QFuT/gXiSmOzzISPA6MhDBvxxKY7e+TDtFi2L5DmwL0BHuokmuDrLq3pr1tE6MOkCrt8sGynpUQYHYaAZkgwuwEdNlbzwvGxK8EB+ShYPqIGTc5aNJR7AFdhzgQ9OkLPUsXOffaMXiW6bCiBZbWoZITXKJV6PLgevwuLHSigQLa+nA1FFb6EnggDOjAoDkqAYsvxUJFqE+Iwo97bAfj34CxVRmnwh9rzg+MqxMzI0NCBOHZ5epEpwvQSmmI2spPjIDgmkl5gAPmB2tOTKxAuo8OIXya2K7lZysRJSYpZjigKvKv4ql4v4wXnKdVBOuFJqDFGvpPYVkab+EoGTEsJFcitT5LU4kJbKIfM22mkoqaskDxYoyiY6Y/EnmhWUS+cz0zLGjCyh+YP8KByVXS4UcsF7QuaIlKmKOONFchVoIbSONL08b0WETlY3qb3GUpGx+Yh10cJjgCg81lHUZziJbAP89RjeKblvejnthBIbnXIaREWsMuQLPIAKPOYkJsKzY0JK0KSg8/SGHVtVOCnmI+ZG21IguEg/peBYjAgy7deD5obJUEjXxAspTDgzXC4BakGJIBWevT86BCY+HQG1RhsABzp8YpNugEcHKyuZIcAQYAgwBBgCDIGxCEg8WWap8qMnpJr4dAS4CI7loiRcpMH4xCFXnR0wBBgCDAGGAEOAIfBoEZC5iSwGnBFjYhOfjsiBWaAjGlwAEnbPkCvLDhgCDAGGAEOAIcAQeOQIYFeGDj215KypTEhTJj4doWOmZZjpwC6ciSCfYwcMAYYAQ4AhwBBgCDxaBGAgBR1mJMcRxO+Tp7NGDgBBx40AoRE67Z8O5GLvDAGGAEOAIcAQYAg8YgQEcNB0vAgOqBBHH4tL50z86IhUH4EM6Qnp6Se3bpNr18mFy+zFEGAIMAQYAgwBhsC4QeAi6cNlnPVkUIB9wOiY1kkzdgSo1ohAhka0pKGWxIbqfVzVjlv6XB1H2IshwBBgCDAEGAIMgXGCgLXVRT/3vtxM7uw5WKoY+zHkud2TYmYNTOUXyJ5mrbdrR1iQrmkvOXZZffwUz14MAYYAQ4AhwBBgCIwTBE5cJtnZxN1Zk5oweKeN6CGUgItYTpKhrDChZuRmG7HZ3FNWMDQyKMBW8KN8Sx5Wwg4YAgwBhgBDgCHAEHhkCNDl9W5cIb6e/WlpRH+/s574Y0cQ2H0HiMJ54Mol2hElLcH9yDBnBTMEGAIMAYYAQ4AhcB8CSEc4jZqkJOnDQrRqTtwAgCaaBHQEBugWbOfcVcO4OCtuhUqXRLsPB/aFIcAQYAgwBBgCDIFHhgB6ZljFv7KaqBRD99pxFX9JnElBRwjJzhBUStwllQyJmyNINWSfDAGGAEOAIcAQYAg8cgSAjsAOU0MNLcTVceTePdqhIco1CegILMaananzUOlZdOSRaxsTgCHAEGAIMAQYAg9EAOgI9GcMNezWuzlrOrtgpzl5k7nJQUeGsjKGfL3pTno4ipV11jxQF9hJhgBDgCHAEGAIPCIEJDqia2ghSqeR9g49LBgv+evJQUe4nCzOy2tQ3OoaNqx/RGCzYhkCDAGGAEOAIcAQeBACMJQVOmt0TbuJq+NwewddNF5MOinoiECKthOF622JjowGfx4ECDvHEGAIMAQYAgwBhsDDRgADBbxARpCOjHR3T7qxIwLhcrKJl2pYqirwLzUhRE/0tLICHLCQycNWPVYeQ4Ah8AMEBNjTdBitE/wCT4ry/uo/SMq+MgQmHwLgnQkhu/dwTna6jm6Y6Isn4ORkiI48kI7ASmha0jHcf7G77U5P57WOu/d6ujr6etr6utmLIcAQYAg8EgSuDXRd72w72n1zZGgYzLD8yDT5/A6rEUPgAQg8lnREC4uz6lcXxvzJaekMr9VPKkyecDH6q9fyvyhN2YshwBBgCDwSBJ52NHrdbdWz7suSdlfBNqY0OvIAq81OMQQmJQKPJR2BaTYCWZ4eNFVhEdpUkrB/R1hDcWxzeczuCvZiCDAEGAKPBAG/5iJFxdYnXIyidhVrJToCXcnsjyHwWCDwWNIRPcRBifm2kC9jXAZw3Ajc82wvm8dC41klGQLjF4HrnW0vu6+Mqy2GLnPsNpf7zsev0EwyhsDvg8BjSUcAOoGYpPp9GLAZZtzwOJqV0ZHfR6VYLgwBhsBvQUAg5HLn3T8rTUObSnDZRmQkzC79FizZNRMRgceSjtBJv0vT/D4Os4OHDw7pCJ1pI6AJYO8MAYYAQ+ChI9DW2fG00iyitlCcUUAFmIiehcnMEPjVCDyWdARQ4ohRqu9Hoba0mwam/uLAsYduf8DssBdDgCHAENAScqO7/Wnv5XGNZXSKI878/dVGnV3AEJiYCDyudEQgZHlG8DtBm0Y7aFkn7cRUYSY1Q2DiIYDkSzQ5dPFJAUbY3+zpeNLZOGl3lfiMgs8qE692TGKGwG9BgNERNAnwxujIb1Egdg1DgCHw6xGQ6AiNCelhISQwQe293U+5msbvq6bD7XHxkV+fObuCITAhEWB0hNGRCam4TGiGwERFQHzwGds7JT0NtfV1/8XFOKapTKwbTTNRK8rkZgj8KgQYHWF05FcpDEvMEGAI/I8RuI+R0NCs3FmjMEloqRwdUPY/LotlwBCYIAgwOsLoyARRVSYmQ2CSIICj5nEtRpjTp4WB9UQQBD0hd/q6nnQzi91TSbtpcCirSF0mSd1ZNRgCP4oAoyOMjvyocrAfGAIMgX8DAhgIkVcWEekGLr/aOdT/tNJM7KzhkaeI6f4NYrAsGQLjCwFGRxgdGV8ayaRhCEx2BJCOiCtBC6R7ZPBWbydHiJrnYKKv0ozOrKEBkj7tyGSHg9WPIUARYHSE0RF2LzAEGAIPEwG0uhzO5VMTkrJ3x/JEP6+6vLP3bh67celJhUl8c0WXenDn+aPKqsx58aqHKRoriyHw6BBgdITRkUenfaxkhsDjiIDYPSNWXSPo53vb/C9P06dU5v9hs3B6yIYn7Jc862L6Jw/zP9oszmhteBwhYnV+HBFgdITRkcdR71mdGQKPDgGJjtBPPSFB1bl/dDF6xmPZnxwMn1aaPeFo+Iyb+X85GX7kv/lU161HJygrmSHwMBFgdITRkYepb6wshgBD4H46Qgg51Xf3Xa91T6rMn1Na/B/rRU+5W/zZ0+IJWwPX4lQc4cogYwg8DggwOsLoyOOg56yODIHxgwBO9B0VRyBqQlwLkv/D2fAFzxVP2Bo857/6f7sZv6JauevCccJ29B1Fih1NbgQYHWF0ZHJrOKsdQ2C8ISDREZ5HroFG+Gjb1b8qzZ92t/iLi/Eznpb/j91C81T/fkIHvI63CjB5GAL/DgQYHWF05N+hVyxPhgBD4McQoHQEds4TwPzgSvBaQozT/J5UmDyhMH7C0fCvjsapB2vZGvE/BiE7PxkRYHSE0ZHJqNesTgyB8YuATEfkA7TDO8+1TlNa/lFp8rSj0Zxo16vD3YSDZVvZH0Pg8UCA0RFGRx4PTWe1ZAiMFwRkFiJIbIMnPKcXCHnXa92fPS2muy13qEjTEEI0bKPx8dJoTI5/PwKMjjA68u/XMlbC74IAr6GhfV4g8MI8eYFw8taw8q70BH7VyefZwYRAgPCk8sKxP6z9arrH6ksDXXJcZEIIz4SUESB4S4qbIBKew7X+8Zb8XczAJM6E0RFGRyaxek/GqiERwfuW2j9gHhpCdNIGJ/SAPnbzaATZ+wRBgOPP3Lv2RajtusyQYd0IEXh4Qfuy18RCYIQIOoKhL3yA4ImehzZkfz+DAKMjjI78jIqwn8cLApR+8DzOtpDtM56lG8NqiRj8p9udjBe5mRy/DAE9IYOExB2uq/iulTaohpDhX3YtSzV+ENCIo5Nho2Y9vI0QooOuN/b3MwgwOsLoyM+oCPt5vCAAJEOvI4JejAOj6oJwenz8GvskLXBE0GE/DsfeJwoCROAIz13vvj0w2EN0HHwVINI/UeRnclIEgIFwPNHrCK+jYUuB8HLX23ixJuNRDkZHGB0Zj3rJZHoAAqiqGMDHsZDSSBF+WOyc5ghaPQ0hYphEjqCwg4mAAEegW4Y+WxMeGnG0O24iyM/6lEQE8AbU4F2pJbDGHXARPYtzPcCm3X+K0RFGR+7XCPZtXCMAoRHohYbQB7grDg5HOttPNV/bmd5Wk97bUtDeWNjRUNDbUnBrbx57TSAErjdkdjXm3mrOvtece7cx+1pDZkd9dkdjzgSqAhP11t68uy25HQdL2/bktzdn3WnJH751gSBBGdeGZVwIx+gIoyPjQhGZEL8IAR46ayAlRwQY0ypotF23j7t+1WL1jx2Wf69d/lrDytfrLV+pMZ2yw/iFFtOp7DWBEGhcNn23ydQGy+ktli81Lpu+y3LaHtNpTZYvTaAqMFFbTKfWmc1osXypevGzdWYzmi1fO+yySHNqn/oX3d+PeSJGRxgdecxvgYlTfVBVMXwPTIQQjuu5d+Pw3tqV79xMcxfO7NXcuNB1/njfhSMj104OXzvVe+U4e00gBAavnBg819p75fjglRP9V0/0XD3e/92RrmusEScYAu2XjqmvH+u+cEx963J7eWLt2rdPJtjhMKCJY2sejaSMjjA68mg0j5X66xHAvhnC02FxNEzCn/Q2bbGbJUVNOOilhrk3OAzh15fArmAIMAR+DwRgNSAiwK16JknRbD6F0ZFfgCqjI4yO/AI1YUnGBQIPoiPHPY33O8+DMZCgyYyOjIuGYkI89giM0pHvUpSMjvwyfWB0hNGRX6YpLNWjR+BBdOSo+9IjbosZHXn0rcMkYAiMIjBKRy6kuwMd0WtHf2RHD0aA0RFGRx6sGezs+EPgQXTkiNuSo+5LGB0Zf63FJHqcERilI5cyPJvNpwg6Npj1Z/WB0RFGR35WSViCcYLAg+jIYaVBq8qA0ZFx0kRMDIYAIjBKRy5nejWbT+G1IwyZn0OA0RFGR35OR9jv4wWBH6EjrLNmvDQQk4MhICIwSkdYdOQXKwWjI4yO/GJlYQkfMQIPoiNH3JYwOvKI24UVzxD4IQKjdOTiVg8YO8KxXWt+iNG/fGd0hNGRf1EKdmKcIvAjdISNHRmn7cXEenwRGKUjbCjrL9aCCUVH6BJQuKYCrAelp1t1/OTeRALhcrKJl2oYWQePC1kCOAIhyzOC3wnahNMj8Q1T/GLgWEKGwENH4EF0BMeOGEpjR3Sj644wfX7o7cMKZAhICIzSkUsZni0WU9lQVgmZn/icUHQEWAOyEJgyhcewdeJP1A5SMTrykwCxHycQAoyOTKDGYqI+1ggwOvIbmn9C0RFgHvjMJ87ghq3EcLPEH684oyM/jg37ZaIhwOjIRGsxJu/jigCjI7+h5ScUHQEWwgMB4Tk95SVATn4yKM3oyG9QCnbJOEWA0ZFx2jBMLIbADxBgdOQHgPySrxOKjgAXQYGBgWBoRPszbIR11vwSJWBpJggCjI5MkIZiYj72CDA68htUYKLRES0hB+9d2XPrPAzZ436OjMDvbOzIb1ALdsm4RIDRkXHZLEwohsC/IMDoyL9A8vMnJhQd4QhRE94lK/Zd5eptx5shRvJzjITRkZ/XAZZioiDA6MhEaSkm5+OOAKMjv0EDJhodIRw5fvfqP2IcprhZ5h9u0hPy04vLMDryG5SCXTJOEWB0ZJw2DBOLIfADBBgd+QEgv+Tr/4yO8DyO4CCEHogrgNDlQXCEqXwojjel37GPRf4JxBzzhWbCceIEXr1ezHVsso7BvgWJHjN81tzjhn/HoayCIPD4JwiivCDamOMHIsrzvF6vl5PJBw9KPDr4pbe7T0/7mkaLetAVE+ec3Ibywa+WnUIhiOqg19Pvoo796twm3wUPoiOHXBcfcpV39B1dd0Sv4/Qc7Nql09Fx3/yovskt9HgfiKFVBAFuYaow8FU0iwJO3JPPCwQWLprIr1FDe3/L/7pKyQYbAeOJwMGLjuabfDfdb6zRBKYjHAGfJ6v9A5WG3hrUpIgpEajRq6jZljKii4TBr2NT/xDbn6Qj/f39P0wvfX+w08WyBexC0corgtDvsuBUvlHpoL+FJhZl/Qlx0VEBPRFI4sGaV33XZhza9ZPVG29jR6CJBgYGanfWvPX2f29ycLJVKO2dXTc7Ok/ol52zq7WD8yZbBztnVysb+zUbNtk6KRwUbnbOrnbOrk5Kd2sHZ1snhaOrysrGfpOtw49V1sbB0dZJQV+OrqpFhkt9/Hx/QgklZXxsPn+EjhxWylvojdIR9fDIf/3pCTtnpbWDq0LlucXBwVqhtHZ2tcfGsnZwZq8Ntg5rvt0QHhqmGQHeJhoe+OCPHTvm5Kpctc7KVuFm7eBi4+hi6+hk4wgHE/e10drO2sHZSelu76L8duPmjdZ2zm4em+0cf22NNts5wl1s57h63fqoqKg7t28iF2GPDWMN0S+iI/Lz/NgrH/nxqCNGh0sX96IdEeLcEQEbnP5Aiah+lLnTQ/Hh59dV5ifpiIGBwZUrV346Q47jaABDJCiUbYx954WLFy/WNTdGZaW6RAS4RAREZaXWNTdevHhRPTzy/7P3FeBRHd3fgbriFhxaSnGHOBRa2uISJUiR4hr3hATXOHEhxN3ddrPubll3342QhCT7fXc3pFASWv5P+77/fl/vc57duefOPffM3JHfnDkzt7/vxe/B10uDRH9/f19f32tPNzbHgNnkhUHe27nlkcfeqIBXjCevxTWd/I8nawaNxwgSR2f94S1ABGOrh8Hg1llYI2g0SVeXUKMTd3f/o0mo7xB1dIo6OsWdXUJ9h6K3Tzto4KjUgo4Onk4n6uri6/U8nU7y/Pnbk8nTaKTd3QKdTtTR2S6TeQYGX7956y3odPRX8f/olXeBIzqNdr3dZppIoeg1SDr7OEq9oPOFsKNP2tEr6ez7lySdfQQmNzouMTkxyTSyB9rYgSFUQiJTH0bGZBaVs2Uqsa5L1tltpD5Z5z+Y1L0GvqpDrHuu6O7X9Bl0/QZVz2C7VP2uiVI979X0DbZLlWk5+Zm5eZ2d+n9NI2+0OH8Kjow8qn9D1n+BYeyoTJaE34yIL2vHoMGg69CDEbDw1AS3u9ev3Aq6nRBdBWoSK+VD3bEJr7yM/6r+b23P3wpHnj596uLikpeXZxLX2dlpCoyWiYAwkx79Bj6Xl11efPFeyA9Xjq9zO7LkitPsi/unXdw77eLe2Rf3L7nitM7tyA9Xjl9+EJpfXS4SCIHtzIza/07d4WcNgR7TvmdGRPbrs8dfBRztGHwdsryadKBteYeVNcPPAoZKxombVzmvCx46ezWCCY68yvn9Lca09fcP4vHEpavW8nRaXlcnRSplqbX/bNLqmBptu0Yn6HrO1XfS5Eq6QsVSa9t1eppSxdZ3cDu7GGoNXaVmarRMzaiJZaiVvK4OilzGUqvFnV3+N2+5eXn/Pg//fz5/FziiVqpmL17CUHSInhuYys52dTeno5+hfs7WPGequ/4lprqLreiITkqNiooxGUaGWh7jH5XGiIpLKm0ASTr7+boerqaTo9Rz1F3/aKIIVXxtr7hzgCHVsZVdZIGSrexS9hneNVFMqVqk7+NrujKLypPSMng83kvL0v/PlfN3af9TcOR39/xvOTX1U8P2jpd9uqF/sAHUciHUz/q4/dJDO746umPOub1z3B2/9nCZf37/wuO7lhzdZXXS4ddgr8LaSoVGDfTpr3TrJnvJEOIYOalvhSMGgyEvL+/kyZOJiYlv3t7b2zvc9Q4MDADeHv2AbwSOTnqclWQfeGnp+QOTzv384YXtn5378Yuruyb42U8NOzw17PAEP/svru767NyPn17ZMeXCzuUX7R2Dr0TkpBCYFACS9A8MizU9dNiPBDh9idoM/YY7NTlzA4+wVdI3dRvmvBMcedN09ocGj/7+/tfUG37wiAGj8i96+4l40sLFS9tVSqJMwlCrGErlP5qoKkV7h44skyI5bLpKKezuZqnVVJmMoVYRJWKSVMLW69h6HU2poCrkZJl0tMTS1Ap2p46ilBMlYoZcHnTnbtiNW/+2dL8VpXeBIxqVesma9fyOF+26fqqsi6vvZ2r6qIrudk0vQ9n9LzGU3ah2UWRiWnyCyToyYIIjg8ZWk85g3X0UmVFQ3i7Xc1XdPE0PW9HBUXb9o6ld3iHQ9rIVnQyJVtFj4KmfSzoHCBzpuyaKr+nhqrpZMn1GXtnTjGylXGVqln8rqP+GDH8WjnR0dCj/5kOj0Wi1WrlcLhaLtVrtn3k5Jis+8FqNeILJ4zzJe7b18pHlZ/bPPLdrlof9nIBD0/2dJvo7TAhxHudzYJzX/il+DnODD8/1dZ59ce/is/vWX3a+mxZHZDMAIS89i4bEjqrBW+FIby+wDyoSiXR1dX348KFGo3lVzrCTaUdHxxD/RX9Fa519yJUZx7d/cvy78Zd3zQxx/frBmcWhx+cHHTb3dpjstm+y2z5zb4f5QYcXhx5feO/X6YHOn5//6cOjdjOOb3cMvVbd1mjENIC8rq4uk9jhBwGnRqQGrKYZNCS0lM8NPkoRcYeePtLfO8GRkQT8AW9wcPA19d4e3fQ2Bg0EHHHR0hVMhZwgFTF1Gopc+o8mvERIlInpGiVTo6IqZChOO5LNEnR3MtRKmlKO4rIxfC5FLiXLJFSF7C0pxYkFBKmIrJZTVQqySOgVct3XLwB44/8ephx4FziiVWsWrVhNl+uxIi1eomeqerF8LUHUQVV0UuRd/xJF3gWlC8IT06PjEo2G2SE4AuT0oKG9nfM48kl2STVP0dUu62LLu+kCVbsMCP9zSdzRT+TKKAKlpHMAz5bk17RKuwb5mp53TRFX3g3kiVSf/KwgOSVDp9EClfTfevpaM/Wn4Mjg4CAOhwv4mw9/f//AwEBfX9/g4ODc3FyxWPyapm+cDL1JExZ5MVDZ1uwY6j7ZacssD/tpngcn+jtMCnae7O84yevANM+Ds3yd5oUcmebnON77wHjfg+P87cd7A/zZ3o7Tfvnxx4DzGTWlfT29ryKSNx44zHgrHDEYDCYw1dnZefbsWTc3N6FQCNTWkRabSKXSI8HX1p6zH39s60S3vQvvnFx859dZXg4Tzvz46bVdE7z2TwtwMg8+ZB58aFqA0wSv/Z9e2zXx7E+zvR2X3Duz6P7pKZ4Hppz60fKq66+3fWUy2bCCwwHACGFqjvsB11fDoCEJVGkedJgh5g/HeTPwrnCkv7+/t7e3r69vxDSOIN9oPwE+ndPf//z58z+ylBi9vQYG0UjUsjVrSBIRRiKA89l4Kf8fTXS9EiVop6qlcDb98bPUM35eV0KDIjPTm6l4dpeGrpVjRBxTAkkKEVEuHC2xJIUILeZjpUKsVIgT8HxCr/sF+P/bzP1W6kaBI6iAEb7oq1GpF61YTVPo0bJOorqXouxFC/U0bT9e1oGXdf1LeFlXK00Qnpz5Khx52aUOsNo598OjnxVWMIRqMkfBkXXxlT0ssf4fTVSeiiHUClS9dIHGK+TBt2vtCqvBXHn3uyaKxlfTRR18ZU9adml8cppKpfrXd+S3SjoU+gM4YrLEDwwMVFRUbNiw7m+l1atXb9iwYc2aNZs3bw4NDWWz2W9o+xoDqAVGfMmTiG6kxq466zDu5PbJPo4z/Z1n+jtP93ea7u800995tp/zPB/neV6OU9z3z/J1WhhydOH1Y3ODD8/0d57h62ju7TAr5OhHhzebO29zj7pD53NMMl9Wsdee+PLkrXDE1CUPd8wPHjzYt2/fsHOraXWryTYgFovPnDkz5dwOc2+HmSGuUwOdJ3run+K+f4av44wgl9n+AJn7OE7zPDjN86C5j6OJMy3AaYYvwJzouX+ir/30QOcZXvbTL+6+cOGCCZH8TgHDoAGiAeOzAAAgAElEQVTwXukHDEiGQUM8qGJyoAtfNQJ2eZm8d/MdMRgMvb29er2+o6NjeCpqOPnDMocDw1M5g4ODXV1darV62L1mOM6rgaElgoODKBRq+Yb1cDYdKxchRFykmPOPJnA7laKRtdAIvwZ4/eJ5Fc6mw1m0Q5fOnQ8LrMIhiEoxWszFSHgoEQcl4sD5rNESC+cyUCKOKU/Q/Ha/Wzd8AwP+bel+K0KjwBFMkAOQS0BF/21ljVqpWrB8JVGuh0r0SFknXKCFC/QU/WBzuwgp6fiXkJKOFqowPCX7YWTMsHXkZVs5QGMxb9x9+KywgqfoMvXidIGGIdD/o4kp0vGVPXimhCPrQlH4ydnlXQYDsV32roliy3tIXDVVoEnOKoxPSZcrFaaW7beC+m/ojyZrhldpFBQU2Npa/61kY2OzZcuWjRs32traXr9+nct923zC0KsbNHBEgvP3gme6fD/58t5ZYb9MCnD+0nPfND/HWQEu030cJnkdmOxrPy3AaZqf42R/R/NAl5m+TtM8Dkxx3z/V12F6oPPUQOdJXvaLHp6fE3B4sst3rv5XKQz6H40t3wpHTJq92h/X19dbWFjUVFWbDBXa3m7D4ECXTrv9/OFZbgfmBh+ecmHnt2EnvvDYOyXIeZL7vrkBh2b5OU922zcrwGVGgPMkrwMmLDLD13GSz0EArIxE067s/f7sIZlIaBgc6DUYegaBLQFMkM30a4IjcW2Vs30PMRSitxT+d7WOGAyGq1ev3r9//3cyh0vPm/4lPT3A3FFnZ+f8+fNJJNLvbvzdKTDXNDBAxOKWrFoBZhMhYjqMT4ULmSMSkkuHC5ktHDJBJYTx6QgpGyykQ4QMMJ9BUIiQfEYbi0RWCuFcGlYuaOEz4Vxam4iBVgtQcm4jHQfj08kaMYRHG1E4XMiECRgoORfMp7Vxqe2dykYiCsanw2Xs0eKPxocJaQg5J62g4IsJk5sYRISCC+XR6hmE9z/+JL+uGsqno1X8VhaxlYxldahq2ykIQTtc2A4TMPAKPlLc3swlI6RsnKQdJmBBhAykiAUVUFs4RPcbAcHBwS97iN9l5NtOf3/LwMudTN520994bVifl5N1xtL8cum7aeYRgNjGiUjTktMe4+p3wLnbCL5N5sAh6+AAsIOIwdBnrBIDcN99SP8Db8IRlUL57YrVMKEeIuuHCvUwUQdE0AEVaODiTpioa0RqEXVQFIMgrr5RrEcqutt4KqSiByzsIKgGwUJdq0CPUQ80sZQYRS9M1tMo6IYJtRBxF4SvJalfNHMVUIEOJX4OUXbBpM9hfB1B9gLE1UMk3WChBiHtgAu7qlhKdrfhaXmdf2RCE1OGFL9ASXpAQtWIysBEXXBxN0LyHC7uhgo7ocJOuLgbLu4G+KIOCF+LkvXCxZ1wUUdMcUNwZBpb298m6kNKu5tYQphYh5T3gzlaGF+DkPeOJr+WLH4Qnx4VFWVywTe+pqGdgZhM5oOImLScSgpfT+ZpyDwNha+n8LUjEluiJbUrSXwVRaSkCruo/E4iT0kTd6DocrainyHuxrHkxhvVNKGWyFHQhJ1GaXoyT2cKkLhamrCTIe40PYgq6KAKOmiCLgqvg8LrIPM7sEwZV9VNYMvpfB2Zp6MJ9SSuckRl3sKkcZ/jOVK2sguK4/CV3TSxjsjVsSXdFL6WxtOzhL0UdgeWqaAJ9Ti2DM9TjyaKyNWSjJrHP81PTH2qViuBojhcykepSb/b0mnY8d+0aODVrZtGEfCfYP9WQ40J+i1Zw1vQGJNp6oAAjwKjc4VhcGiEbHgBTEoYjz+wjgwnpqSkZNOmDZaWm6ytLW1srGxsrKytLU1kabnJysrC2maTja2FrR1w1dra0srKwhaIZmNhY73BztrCzsbKxtrKwtJ6wwYLKxNtsrS0tLW0srOyBm6xtbK03GRnZ7Nx43o7O5vr169zOJzhpw8lxNhAAkzTgMcw0NPT7exz4Ytj302/cWSc254FAa7TfRxG7KzfwpzsfXCWn/OX7nsAh9FzP/907TiDRQd8Q40PMvm5mkrOy3z+E3BkWHVTgEwmH3J0CgsLU2o1gwYDXyp09b/8hYPVjCCXCV77F4Qem3Blt7mf08LrxxYEH5nkvm+85z7z4EOzfJ3M3Q5M97I3D3SZ4es43cseACgjYZEZvo7j3fcuPL07MP5hO4f1Wyk3qjycEsOg4W+CI+fPn7979+6rqR52mjE50+iMx6sRTOFTp075+/u/yX+VMwxHvlm1FNROAAupED4FzKeNSED3L2M3ckitXEoTAw8Ts1q5FJS4vU3ABLHJKAkbzKG0cak1RASYQ8NrpSSFoE3EqKKh61l4uKQdKgKgDIhHHVE4mE8DsclgIb2MCOP3d0Tmpl+5G1KGh0LEzNHij8aH8CmtfKrPjdBZCxa0calgEQPMJoP5tMnTZ/jfu9lIx8Fl7EJ4s/eDm48yU9n9na3tpDYBHSpigtnkNi4VJmWCBJQmOqaNS23lU2FCWiuX1MjGu4X5BwUF/VEr92ruDoUHDIP9gwP9g7/3iR4h6n+GZUqDEW0ACOOllwLAfrlqv99g0L/oGTrtM/EHTUDc5E1majiAxu5Pw5Fvlq1s4+tbJX0ggRYk0LfydW08DVioAwn0I1IdS4HgdSBE3QhlTw1ZkFTemlDWkFpYE/G0IL8ZHltUE1/c8KwGXAEnNJI4FGUvQtyJUPTXM1UwUUeLQANAB0Fnq1gPEXeB2Bq4sKuVo4PJelp46la+poGlJmgGIrIrLobcTa0DUzoMTQxVG1/fwlOOqAxIoG/malp42la+zkSmaK18HYSnB3G1UEl3C0/bxtdW4dm3knI978TCBJ0tbCVUpIVKOpvYWjBPBxV2NnM1o8mvJovux6WNCEcYDMb98OjU7AoyT0fkqEhcNYmjI3G1IxKNo8GztBRBJ5GnxrP0NO5zUrsS366iC3uwDCWWoWyX9XJlfViGEkNXkbmd+HYVga0m8wCBRI6GxNWSeToCW03kqIzoR2eKQGRriWwtiaMjczvJPB1dpKuFkKiCDo68H04WUfgjKzOihkNMlo4l78irAQfcjA649RhKZjMkPWiKhC7qoou6Ciqhyi4DTdiJokkpQh3JqN6I0ggcDZELoKK49Lw/A0cGBv7X1MS31vehgYFxYSvgGWCqsC+7ym5D/9CowDjlDlRe0yVTNOP+4KZNKIwP+QvgCABB7Kwtbe0sbDZb2Nha2VgDuMRm00ZrAHZYW220s9q0xdpii/WmzTYbNttssLC1BMjG2srG2tra1sZqiN4CR4ZTAQSMH6YFAgMDF+8EzPt1JzCh4W0/19d5lp8zMHcxSn89Gn+Sz0FzP6e5AYeme9nPDXSdc263g+8FtUphepBxnmMoD4eePmTiNbSCXnhe65Or+l8ygDvMjAoO/fQbD9MJjUS+6nbt0YOHeDTmQUb8vLO7ZwS5zAo7OjPo0KQAxy89983wdZzqvh9wXPXYP+v64S/9Dk7zczT3AWwh0/2dpnodnOx9cFrQqHBkeqDzNG/7mUd/uJ8aa1r9293zfBhGDUPRvwmOnD59+s6dO6+m3eQaEhER4eDgcPbsWVdX18uXLyckJAybTExet83NzYsXL37bfI1plD44iMfiFq1c0sTENvNJLRxiM3dkqmWgG3jEei6hmUsE8ymVJFhg/MPzwV7Bj+6e9LgcFHXP4/51r/uh12Me3IqPisl5WgRvhIvoUBmzjoNvk9BBAkoVHdkiII8mv4VDBImoECGtBNJw0udKQMKjJgG5iQM87p2oiY1t4pJ/sN+/Yt26Ni61nktoaceDBLRvly/bfdipkYGByphN7fiQhMenfN3K4a2tXEodC9/Kp7a04xvo6BYeqZlPamChm9mkRi7BhEVqWZir130DAwN/9yL+/OlwW2EKDAHvP3//XxdzuBUzbf4HCDbqxNcp89GtJ3Mjvnvit+Du6dWPr1zNf+JRmdomZgLtmtFeYjSE/NbwvRMcWbh0RStH1yh83sRRN3F1jRxtC1vdzNM3cXUjUpu4q5Epa2iXV1HFj/Pqj/rcXGK1deyYjz6fOtflvJv92WsHTl/b7nxqwTrbDd/v9Aq+VYZgoNWGRl5XA09Xx9W2cDvrqcoqpqyFq29gqVu4+ia2FiJ6XstUtvA76jn6Jjxz4w6HGyn5UFlXE1fXwtVXUaQgCRAejZp5+maevoXfYVK7ga2pbwckN7ZrWgWdwClThVG8SKtD2NqfiMwsB3FUbdIXtWx1M1fTwNa0CJ/XMuWjCS8jCO8+STMt9DUVkiEj06CBwWDcexyVklVOZGvx7SoAH7RrTIE3f0ksDbG9mybqQVAlbWghkaGitisYvA4CU0lma2g8LY4uRZJETEE3YJ+g6TF0BYauwLPURLYWy1DiWQDWQdPkaLqMxNXiWEoMXQGgH46O0K4htGtwTACm3H+SeTcmE0WVwUli4F7OqPq8qaGJwxB0RqbkhTxIqmxAb7DbdiMiHkmRUjl6BFnWiGB4Bj0sqmmjcjUkDmA1wbKAVI9IuHY1rh1Q4ElqXkJK+h9aR97J8vGqMf6vq4J/TtKwFdVoCxk0GAR9+jwS5Gx25LHkO+tvX1gUenJXQsjl3JgWDnnQNMoHKqTRl9GIUYYADcD7C+CIja2FyUxiZTyAsM0ma5uNlnZWNnbWtra2ttY2VlY2llY2m2xtN2y2s7YFjCtG2wlgFAGsJlY21pY2fwaODJlJjM1NakHmdAe7L933mF8/bO5xcOH1Y1+47TbZEUZDHiPy5wa6jnffuyDk6Cy3AzMCnD/z3jfRdYtf9F0AfLzeuAEcIw4y/v4JODL8PoGyZTBQKJTwBw+3/fzjymO7Jl/bax52ZMLlXfN8nD/22D3/0ZkJHvvmBLnODAJg0YLgI/M8HGYHHpoa6DzV12G2n/McfxfT74hpmOHrONvPee6dE2OP2W73PNnUBjLhVOC9m2xKLy1jfxMcOXPmzJtw5NSpUydOnACBQKZ8aGtr27hx4927d02IxDRfYzAYVq5cWVNTM5xXvw8MwxEcZuGKxbV0RB0XW89C17WPTPVsTC0PW92OqqTBWniEUhLYP+H++VDPsWPHmn320QmvS273Ai+GerndCdhzwmWF3caNu7eFxj5sZROaBOQyMrSagajlYOrZmNHk1zCRVSwkVEzdZr/j8g2fWg6mSUopI7eNFn80fjUD0SKifmu5bp2NZQMTW8PFNLGx1SzM0pUr1n1v18zCVVChYDGlgYX2fBC69eDOVi6pmoUppcBaeAAKKSO3NQmJDRxsPQu4q5GNrWEiKxjwiyHegYF/YG36fQ6PdD6MS0a6+J/gmYquqdkyVXuqlB9cnPp/v7v0bdDxFWGnV4edef/s9k8v7fz+gcf84GOLA385EBeSizR+JNK4w/swKHknODJ/ycrGdl01r6umXVXbrq1t19WxVLUcnTGsffO3jqsvp8saBR1gUU8jr6uOpTjpFTDxy3Gul3zryPx6uqyRrsQoBioI/MuhD8d8PP7IOe9idHsDv6ue01HN0dZzOmpp2iZ+dx1LU8PS1rF19e3qBrauhCQFy/obuB1Hz17bdexSY7sGojTk4fgwWV8pRdwk7H5TExOnnqOvY+uGqQYQq6lt19Zz9C8jdJRT5W3i583tGvfwNJsdB2vxvBbRi3yCBCbrq2Aoq3ldtWz1aPKL8cKbsWmRxn1HfoMjxnaGwWDcfRSdlFGOY6pMFg4cU2MKvPmLpstQdCWcIs4ub30QlekXdPfUuUsXrvhd8b5x2Svsqt8Nj6A7D5+kN0CJYCSTJeggcXQYugJFleFZagxdgabJiWwtkiLF0BWEdg2cJEbT5CSODstQomlyFFVGalc+epJ11iO0uB5FFXbBSWKG6DmEwH9Tk7dz4ARewJ3YvDKIpsvw/ufjQu5HAJpQFCROFxjLi0kvPH7Bs6gaylUMwIgSBFU+mjQMU4lmqHBMVUxyTkJKOmA8fpl9I1anVxGG6ZMa/f39w76c/4tsJwOGYROIpqcrElT2U7TfUr9jX904+V2E16eXdn589sfvH3kuDjj2VcDRZSEn4+A1Iq3SYLSLAKMdIyLpGzT+/RVwxBIwgWzYYr1pm83G72wsbG0sLGys19tabbGy2mJjaWcLoBNLqw0WluutLDfYGOdx7KwsNwMmk022NpusTGRl8RY4Arwvo2liGI5gycQVp/bOcjtgHnYE8Fr1sp8S4DTe+8AsX8DR853oa99DE43Lbeb4u0zztp8Y5DQ30NX8yPfV4GbTNPRwqflTcGS0Jaz6nm7DgEEul29y3j3t158AvxVfhwV+h6Zd2Ts9+NBk74Mzru2f6nXw63u/Tr62d7rnwQUBruO89n/uvmeWr9OC4CPjvQ987rl3tv/o1pGr+2aHHB7vuW/muV3HQjyfPwdMI6YhpklvU979TXDk3Llzv5usqa6unjp1anp6+quVrbCwcNKkSZWVlSamqcrdvn177969Js6bXiZDcMpgwGHR85ctqqRAy9uR1Qx4JRMxIlUzEFUsZHU7qoTSVsVGVXLQRSRQCbppjJnZ/FXf5iHroTJ6FR3WKiGX0aAJdfmTF8/9Zs2ysLjHTWJSOQVSSgLXcNHllLYRhVcyjcIZiBspEWt+sEqszAEpGbnkVgD9jKLPaPwyGqROSPjaYtVa6401dERZO7yWhSpjwJatWrnuR7tGNraYDM7HN0GVjLSGosUWK+9lxbUIiIVkUDkd1iIgFJFaa7joQnJrNQNRzoRXtyPL6dBSOvRCsAcAR4y15dWc/8PwYL/RFGIs7P8rGrsXwGAAKMDG+dImOm5//PUZga77k8OS0Q1MpbiJhN4a7nUg5QZdLqRJ+FfznywLOjHT3SGsLruj37hGbtDQZTRcvhMcmbtkVR1TW87urmAoq5i6SpaukqmuZOmqmCNTNUtfxlJXcnSFBHkJQ1vD1fx4+LiZmVlIamktt6tO0F9CVefg5U0yQzmet2iVxQcfj7uXWVLNVFczNRVMdTW7o5Khr+P1VDHUFUxtBVNbxVBV0lXFFFWruD+hDjFp9jdFEFIdtyOHKGsWv6hhA/qU0lSj6VPJ0JZRVaUUZQVdU8nQVtA1VUxdLbuzgqmu5XYUUxQ1nE4gDkUOEvdV05WLLbYGPE5u4HYXUDV1XH0lS1PAALDXaPJz0bwbMakmOPKyWTYWrkEDnc688zAqIb0UTVOiqDIUVYGiqlB05YiEpEqQNAWcIi5rQkcn5u8+4Pj5+HHzF65MfFoWnZgfm1Zw83H8ftdTKzbaWm/d0QLDEbkdWJYGQhSjGSo0QwUjS7EsDdD9szS4di2EKEbSFEiaAowXIqhyJE1R3Yy02Lon7lmZQGtoIwjI/A4TZBlRmbcwoUReNZhE5XRW1yHMxrxfUgem8nvAWAGB3U1o1xA5qss+oa6/XoORhCiqAsvQjiYKSVMgqABOikrMik/6YzgyXGGHPwo2zAGy/eXxKvO/Eh6ybQwYyHLBiYyHs72dtzxwu1ebK9GrqTrp5hifPbFBnQN9XKX0RnWWbaTnV0HHjqfeo0sFhkHgS67dBmBy4WV79ddYR166klhbW1tbWdsCEzd2dustN2+wsttobbfRytLCyuhfYvQ72WBtaWltZW1lYWe1ycZ6k8mUAlhTRvcdAfL5FTgyaDCcDfWd5nFglp/zFB/AoWKqF7DQZP71ozO839l3ZNqVvXNDj37iBuz3Mf/60XFue+YGH558be8B97M8kdCE3kytu6lbH7JNGv60deS3haz9hgpw01en9gBTM6GHp/jYT/cHnGxn+jt/deWgW1Xy+LM/DWErP4cxnjtX3z3nV5hQhAeloetdnt6eGXToI689o0Etcx/AuWR26JEJHvu+Or6rqrURaMeNGWfS+z8JRwYHB3fu3Glubq5UAkB4+Ojr6zMzMzt27Jherze5shoMBqFQOHHiRNOyoOGpnOFbhuEIFoues3RBCbG1iAEppbaV0EamQmJLMRlUzoRVsODlHGRxO6yUDrnzLGbcZ5/uOOpQTAZXsZHPUFU55MZ6CbFZRDzv7z7mPTOrnd+VMWANfFwBobmUBSulgUaTX85GVFEg39is8gkPrWUhS9vheZTWag5qtPij8YvooAIa2Hr/D4tWf1tFgxZQQWU0SAkL9u2KJVtd9haQWuvFhCxMTTED3MDBXLnn/43VqhJCS60Ql4NrqGIj8ynNJcy2QlprGQ1SRG8rY0ALaeBCGvhcsPv/EI78luNACDCrmgDK6/z/3Nmwg1u/IR/d+s31EytvnMlCNxt6X5jarzIi7ONruzeFuwHF24hdOL3ak88ezQs4cionAtjoz7RR8ygra0ZzZZ317eoqhraI2VlMUZQwtCV0fSlNU8zQl9G1I1IVXV9M15TR9IV4VTW/LxfJnrt8g9n7H1SzdelY8TO8vJb/IoeiKuH1VFGk62y2mZm9H/AkrZAkKSbJi2jK8vaOArI6j6yuYKiK6LoCirKMpiilqUpZXWUUucMFr1Xf7W1ia0tZ+kycrJrbm0+WFdGUwBNH06e9s4yuLaVpKpj6coauhKoupWkqWR15FFklpyuXKCuh66t5z/MJslKaqkHQ82vAvW8tvytE86pEhqcobjWvK4usKqWpRpOfieBejzLCEVPTOFwgjHDk9oPIuNRSJEUOJ0nhJCmCpEJQlCMSkqpC0zUopprM7cSQpafOXZlqPvPEKXc0WQlC8mFECYXXgaGKw+Myps1asHLNxno4C8NUQ4hiOAUwq7QRREbjigxOVmAYWjhZgWaooCQJhCgm8TrhFNmO/a6nLvpCiQIit6O0lYBlqVowPBKnY0Rl3sIksrVQkoTI1Hr53Zq9YFEblgkhKFFUBRgnhpOByaPKJsxqq+0PYp9SeB1Isno0UXCyAkqUIciyiPiXcOTVSf7hbHw98IcDg1eNKK/f+h86A7qVAQOSTdt8+8o8P9frddnyXuNG5M8NLwb6p/k5z/Z2BsYDJtcug+F6XfaikOM/P/QiCV4unTVZ7gF9/wo4YmO1ydpmvSVAVlZW39tY7tu8wem79Y7bNzpuW++8Zb2L3QYHO4tddtZb7Wxt7Gytba0sbKwtjEjEysoKcGM1zt2MCkdMWGAYQQ0awGTs164/zQw9MtXXYbL3wSl+DrP9Xb7yOzTDy36i/zvDkUk+gCvrTB/H6T4OU/wcJvkcnO7jAPiMOm19VltmgkEmFV4q8o6urEMlZgD4Dpyz7+XpF/dOCXWdFuA0O/DQBJ+D0wKc5no63G3Ky2EjFoUcm+xrPy/QdYqfw6rQU4nNpUqdquvF847+5+1yQUBhwrgru0aDIzNDXGf7OQMLiq67Tju989ebfkB3MryF/N88WXP27NlXJ2vkcvl77723dOnSN+vEokWLpk2bJpW+ti3srl273lyYM3SvabLJYMBi0TOXzi8gNOdTQYXk5nzKyFTKghTSWrPwdUAEemsBA5RPaPj+8K4xZmaXbvoU0dtKaKA6HioLX5dNqH8GK/e5e32MmdmiDctSEFUVLHg2tjaf3lrGaBtNfhap4fbTiE9nffm0tbi4HZJLaSphtg09bhSVRhZFa8oiNZ0JvDZ+5qQCbGMupamA1JRNbv5y0rjjgVeSEBWlbGghuTmTUFfSDkmHlX006ZPgxAdVPHQ2qSGLWJ9Pa8mntZQw24ooLXnU5gJqSw65MYfUfDrgqr+/L9BCvOPxwmB4PvDi+Qtg1etQcf+vwhETejYMGuqYOJvH7t/ePpOObDB0A8tyTe7lLSziopDj+2KDDAaDqv/5YE+fodcg1amPZTyYF3TUpyodGLf1AYl5J+vIjMUry6iqPLoujyQvoGoKqNp8ijqXoikchYopqgKqJp+oLSDp6kQDj3LrzD6ctGj52lyiKIusKuP0VNA1WXhJIbszpQkzdcacsZ+Mu5VTkUmU5+EUhVRVKUtfRNfl07VFNHk+RZNPUheT5DlERQmn9xmEPn3htwHx+akQegW/t5TRmQ7lF9K0WSRFKaNjNH0KKZpcgiKfpCpldJQyjFiHqCyianMoigKGLpekzCOrixkd+RR1Fl6WQ1SkgiifzZh1L724lGdIQQlKmZpnRFUhRTua/KdwbnBkWmTUk1fLGFBgBg00GuPWvajY5GI4SQ4lSKEEKYygghJlIxKEIIcQ5A0oHoamQ+Ckm7/fMfbDT9IyqtrwEgRFjaBoW9ASMrebQJOuWmttZvZ+RHI5jCRHUJQmHGCMpoQQpGCcFEFRwkhyJFUFIUjRDBWGqU7Irhs3dV4ThEJo10GJChRTi6Cr4WRFG1Y6ojJvYYJx4hacCEGWbf3J/qe9DnCSGErWgnA8wAZD1YDQUrqw+5L3desf9oBxXBBG+BZRbXgJlCB+/ORZXGKacW+qP3DNMtlFhuvx4OBgb29vd3f3qwb4P8Qrw7f/XYEXBrJS6JJ6e3HgL4+bi4G2o9dg6B/QGPq6DP1r7l20e+Ru+tprzyBQcwcNhluthfP9Dx+KCxOo5aYxA7AyDjj+AjhiYWVpa2OxffMG+23rTv+02n/38gf7lsUeWFbg+nW+w8LsvQsydn6VsGPJg+3L/b5bccl2iZPFut02G+xsgTkdS6PXyGZrGxub0X1HjI3j0IyJ8e9axK0p53dP8NpvHuhiHnxoks/BuYGuC/1dJ13d8z+AI9NCDk1y37cw8PA0jwOfX9tl8i6d7LZvwqU9R8K8AH9Q02HyYQDCfxqOvAZde/r5KtnyY3tmuNvPCTs67uIOYCGQv9M0b3uL0DNUg/Yn/7PT/Z3G+dvP8rCf6ev0BFRKUwnT0fUrQk86JYayVeJ6BmZeoOtocGSS14GFgYfHX9o5O/SIuZv90iO7BBrFfwWODA4OksnkDz74wM7ObijvXv69ePHi559/NjMz4/F4wxvIGgyG8vLy1atXv5ZdL2951TpivmRePr4pl9qcR27KJjWMSFmkhlwq0Ivn01pM4W/WRqQAACAASURBVEJ8w7yN35h9+n58U2GRABUJyitpB6fiKnPoTYWURsvd37//3pjdR+2zyQDQySLWZzNaMnHVIwrPJjVkUhoPnj+0fuuGfGxdLguUR23OJzbmkBtHiz8qn1KfS22+nxFr9olZOrgs1ygnHlpsNtYsuiIzl9mWgqoopjUXtYPS8FX5tKYNNuv3n3NJhpUWMsFpmKoSNjSHXJ+BqcwlNQLJpDRlEeuzCI2nAq74+fm82lUMZ+TbA6qeTq5CwpGK9D3dw4jk7bf8rVcBOGL86KNjyq1VgSdbmATDgMH46cghq189Cz/e18H67hXgfMDI7AP+lIYB16RbawNOFtEQJkzzTnBk2tcriimqbIo2Cy/JI6tzyNpckiqLrMklKUekdCw/j6nLpejSsLJsqsz9XoKZ2edHzl7OIUkySIocojIbySmkKtIJUo+IdDOzD9Z/93Makl7A6csj6XMJiiySLJsgzaUqc0iiXIqmmNpZTFKmooX57OfJDVizMR88hbYXMrVpWHExWZuLVRazuvIZ+myCfERlcknKmGZaTDMtCcrJJsjzKeocosIUyGfoAAxE1eYQlc+w0kKaLp+myyIpCmnqWd98e8onLAWnLmL3ZONFmQRVCa1rNPnpME5QROrjqNhXy9gwHLl5NzImqQhGlEHwkjacGIJTtOFlIxIII4SR5I1oPpqua4KyZn+92GzsWAJZCiYJW3AiKFlTBxeCMRIIkr1qleXYMR9e9gtvxQgxDG0zig8hSCEEKZysaMUIQVgJlAgEwDhxK0aIpCnKW0iOJ712HTiKJAhBaHErRgomKJswIghB2YqUjqjMW5itODmSoauDMGYuWHbNJwiCl7TiVG1kUTOOCyOpW5FyMFbUjCCZvfdJRmEtnCQfTZQROYkheNGj2Iz/ARwx7dKkVCqlUqlOpxtGJP99ODJo8C1L/Sro2J3GfKAYvAC2bzA5CfR2dM31dtl077KpeABIxLgIf9BgCGvI/Tr4lwcNBUOXhpqSvwCOWFrZ7PjO4vTO1Xcdl2X/8m3T6cXo88sIF5axLllRzqzHHV+NOboafmRds9Pakt0rs75f4rt2+elNq3bbrLWx3WRpbQFAEivrty30fYkDTJo/7+pecvCHaSGHzQNdpvo6APt0BB+e4LX/82u75t/4ZbrnqBtzjNaPT/U6OCPAGbCI+DrNCzo81d9xoveB2YGHJoUenrt/C5FOBbLRSEOQ6M/Dkdfa6/4Bj/Abi70PfeGxF1jG43lw3s1fpngemOnrUo2GJEKq5947/cG5H78KOjbZx3FF6K8iveLHcM95IUfGXdn1SeDBozEhEq1igp/95EBg9e+kEJeZnvYrr5/8zGPP/KDDwN4kfk4zvB2medsvCHD9/Nqur/1dPe6GAJvHm6wLf7N15MyZM6/6jqSlpZmZmTk6Or6WA8aT3bt3v/feewkJCa9eGhwcnDVrFhwOf5X5Mjy05BqHQs9dtjAVUf6MUZ+GLn1GrBmRMvC1mdTadFzlM1x9Oq4yg1odV5/50RdfTFkwIwNb9xRdlYGreUaoSyJUZwmgt9IjzcaaLbddd6cwsZSDSMZUJsCLcmmNmZT6EYU/I9bkMFsnTZh4OfFWHDg7j9aSiq5MJ1amY6vTac3ZuOrAtAcesbe84m43S3Ex0Nxn5LoEfFUVH/MwI7aUjwjHFNUIkDdynwRF30nDVD0j1OVga23tv//eZUcOpPwZpGyD/daf3A7Fg/MLac2pqLJMQk0GriodV5lFrvsl5MLshfPT4VVZ3OY0eEkOtSEVX/6MUJdFakjBVqRjyrKI1Rm4ql98zgdfBwwGox1A32w8gOo0MGAYGGDqpZfyo+cHHZ4e6Dz58u5V986FNmbLO9RA4zHkYvbynv/gPzBt12tIIDTNDzyaBDI6G5nsHKatQ/oNNXTMvBsntt2+airhQHKAFAHFXaxXW4ad3xTuBoCUkawjSP8DCL/9xgS+tg2aRqWe882qNKI8HafPICjTiMp0tCoNJ88kKZ8SRiGUPAWnLqZ3PWnjV0kGVttue3/se8EZpcnErmcESSahKwmnyaPrbqQUT10wb7HVz6lYXiJGlEJUZBDkT9HiLKI6l9KRjpQ9I3ZmEDXJWFUJRZuCkacQFR73I8bN+DqH1JmGFifj1WlYbT5OmklSpJP1WTil/XmfWBA3g6jLo2miEOKs9t4cdPvPJ858+OknZmPenzhr9tmwR8Wc3iSsPJsgz8IpMzDCLLIqDinOY79IwchTMeI8sioDI84kaOycz23+/scUgiaLrMwgKDNwiozREktQxsMF3g8TY2PjDIYXQ7DVWJIMhgEylXLj7uOohMJWlKQVA3T8ICwQGJnQMjBW0ISWNCDkWQUNY8w+2v6TUzWUVYNgt5E1rXhpZSsLR+mpaSSMnzDJzGxsRQu9FsJuRgH4oxUjbkGLWjFiME7ahJa04SUNMCGCrKtpY8KJ6mYIa+zHH9+JygWwCEoCwSmaEaImuLAFKYbgZE0IdjWIQxF010CF9Ug+hCiuAyvgJGkbTlmH4MGonU0oZQtaBCeqK5rZCIoWhFKB4LyCMpDZh5PLatFVrbQ2kqIRza+FsGEUbRNM0ooWNKLEW3923b3/QBtqlMRipM0ocSta1owShz/JTUx7ptH80a6sg4bOgT7TInbBc3VQZdqax5fM/Zxm+TotvXnq1/wInHxoy87+wT+wsvw1tdZYwV52gUM9osFgkKmU430dLmZG9veZwIRxYAC4LQ70dD9fEvDLukdXTKMCYFxvmj99ARhQjqXd+9rNmaaXDTEBLX+DI+3p19uOLe7tAub03zwqKio2Wa4HVvBabrSy3GRjZ2tpZ7XRepOltdW+H9aFOaypPL0M6bGEGrxW4L9R4Laac3mlyMdCfGk1/MoK/uEFsDP7k30vwA6tQ29fUbPl26dbFl23/eYXqzVbLTautt603tZim63tJsv11lusbG0sNltbBAT587k843DImHCjQqZBzoPkmG99XCd5HRgNXvxVfACUeDteuuFnGDRuoWTq1oEqOPT26+o7A30NMiUwlz3UGP5uoe9r+Tgw4Oh1bq67/WR/x6/Djk9x3z/OY++cINfx7vthAsaBqMAv3fZ9E3DMPOzYFPeDhSSoe1bUqjtnx13Ztfjmyc9DHDcEnyKq+Au9nT+5unN92GnLuxfvV2eVtKOA+Z1re00Lisx9HKf42M8NABDPPB/nX4M9gP7mPwJHTp8+ffv27eH0RkZGmpmZHTx4cJgzHNi3b5+ZmRmwb8Hrh4eHx8WLF028180kQ3AEg0AuXPVNKqI0jVKdhi5NxVWOSOnY6lR8eSqm/Bm+Ngldlk6u9Ii6Pmbs+9857UjF18WjyjIoDcWUptSGPLeY6yut11ju/i4k9XEWsT4JW5mMKc8GgEhVEqZkROGpuMoocP64L770ePYo3og2ktAV6cTKNGxFOrb2+O2rp+65+yXeW2S7OiD1fhrAL0vFVe+/dHTaV+Z3y5OfkmtjGzKtDu80e98sLDcyDl5UJkIkQYs8EsK2nt2/46qLT/yNWFBuDrk+HVORgi7LJAG4KhVTnoAsuRTuN9V8RlRN9lNGbTKsOINUm4wtTcdWJyPLk7DlGYTKDEJlIqzokNupt8OR3zpvAKEOFONALgmhc92BDytMDXSe7mU/I8B59c3T3hmRRCnHOJx5/T39B88GDYafI3w33rpAkwGOb8BhdH8DPss0YKgmIqYHHNr22PNlEwe0cabw/70eUJ62OPQkmE8bEY5AvHaPCEe0as3sRStTCYpkjD4dJ0/GK1NQilSs4ilBmYxTjEgZeHUiWpGGlsfBxE9xIvOFi8dPmPSoApaE4DzFsrLREr/Egk0Hj6/83mXfGc8yvCoVq4hHyhLRimckbQZRE4+UxaPl6SRNHEKeRlTHY9VP0eIElDwJK99z4sJyi+/TsNqneFkCRpZG0GfgVGlEdRJK6h9fevJGTBJWHouQPMPL8xg94bWUVT8d3bTD1ftJVnBq0faj57+y+/lxDTab2pGCUabgO5NxiqdkbSpBlYyWZJLUqVhZHEqRQul6ilPtPO27bPW6BJQ8gyBPw8nTMIo03KjpfdhAd7/7JAH4hN7v4QiNQb91PwKAI0hpC1oCwkpa0KJmlHhkQkqaUfxmjKweIfHwu2Nm9sH5SwGAXYQiq2gV1oIlFO6Lhjba9j37zT74+OKl4Gowux7GBzp1Y9fehBQ1IUUtaEkTGnhKHYQPJajrYWwwRvY0p+nDz76sa2OD0OKqFhYEp2iA8lEUHY7RUViND76XFnIvIymnBknR1yOEtXAunj7wrLAhtwIJwglKG+gNEMHDmJzYlFIUUVUNole3MjmSvtMX/T4dP6cRQgdjJC1YWRNG1ADnNWOkLQhZE5zfhJYeOeW1Ys1aEGKUxKLEIKysBSVtgAseRGU+SUpTKuV/WLmADm/QAGuneOTGrA74ZaL3gYlueyf72k/1OLDIz/VE2t1KPMxUKYa7n7+xdo4CR+7X5X1792wREfpyNzDAQXXYKvlt2Kkld86avqPWNYxhjGaSHAL4m+Dj95sKhzahAFT/DY4QYr3qHecO9HaPmKLi4uI1G9ZbWVhusQLW6G6yttu4yfonuw0n925KObeuxWsTK3gj/9YG4T0LYdhGoZ+F2Gsz+9oawZXVjFOrGIcWF3k6pwSeJzithG//BrVjWfOPi/K/WxxuuercxnU7LDZa2Vhu3GwHLPa1s7ay3GRrYxVwPZAvBJogIA9eNkTGNA5cDvObdXU/sBLlHVfQvGv8uaFHp3sedHA/A+wPZTD09fS+fOlD6AME7vd27+cJO/4cHDEMbLt4+KuAw+O89s/wdvg67Pi0AKdxl3Za3r3M79Is8Ds82dvh26vOH3jvsw33YKukX988McnrwKRre7+5/svn5386knijRc6Y5+eyMeTXagkZpGQZBvp1zzsWex8y93OaGug8wxtYDzzFx362n/NkX/sZXvZ7Lh83QSdTJpqKyN+0suZ3cCQ0NNTMzGzfvn1vFiYHBwczM7M3PUUoFMqsWbPUavUbtwBwpK/nBRIK+3bD8lRU2RNscQI8PwlTMiIlYsqeIAoSEYXpuMoYZFEatux7151mZmYOFw/7Z4e7pd26mhR21P/Mz0477Fx+2nPpyN2SxCxyXRqtLhJRkIIvT8eVx0Fzk7EjC0/ClHhnPPjs04+vlyfEIwsS8RXxiOJUfFkqpvxhRbpr0On71UkRJWlm75s5eJxIoVQlQHLTsdVLNy6fMndyTHN2EbM5vD7NJeTCGDMzz7jQJHTZPVBmFLIwl9GciimPac1JQ5Y9o9QkoovjEAVphIoUXFkCujiVUJGALg7Ojfhs3JdBqY8SiWUJcOOj0YXJqNJ4RHEipiQFV5qILoqD5h3xPBMSGvxGHr7CMO5YChSJfoNyoMsl9eZnV3dO8Ng3w9vB/PrhBcFHJgc6jb384zwPwJ/pD1vMV+T+1cEBA0snXxp4/FpxAtAEAMV3aJUNEHhhaKRhZwW4/hDl22satrwwAF6uQEwAs+Cl3G8Df/GsSB0RjuCvO1NuHTHVjlc3iddrdTO/XpmElyUgNcloWTxOnohQxKPlyTjgd0RKRKuScYokjDKd+jwsp95szNixn4xzCEs8cD5020mfdXvPLNy4edEmyzvZtZUqw0OkPA6pTMKo4xDSJ3BJEk6TgNPEoWRxKEk8UpmMV8YRNCloSTwSwEDfWGz9/sCRJ2hlMk7yBCVMJuqj4LJUclcsiP3jcbd4KCuVok/AaZKw8qc4lXdi5a6zQZElyCiEsEhseFiFXv6TY2hWQxpOHQuTPUGospl995vYGdTOiJb2p3hFGlYWAxOkEHRJGOUvgY8nTJ0RA5WkoCWJaEUCSp6AAUDSiPSwmen1MNH4RV+g8zC1LaZyQmPQb9+PjoovboKJ6qGCRoSwDsprgAlHJrigHsZtRataEBKbbTvHvvdRVGxmDay9uA7bBJMhcNqsIvCpyz4Llq92PHqhoZVbB+U1IoTNKHETUtQAF9RBefUwfiNC2IiS1MP4NWBuC0rejBI3QLneQRGTZ8xuhAmaEaIGKB+MkdWCOSC0OCm78cjZoPCE8hPn/O1+3NcE4TYgxaWtrAYwb92mLZZbDrbAWThqZ0U9beynUyaZf1XfQtq83eWS792IhFzLzbvPXrkOwYiaEOIaMLcazG5CiqraOK1IZT2E04SW3nyQ+skX42uaWSMn1pgJ9VBRPYz/ODYnLjlDJpP8QeUy9jYvDAb/stR5Ps6fnNs+wQ9wK5wWAuwE8dm5H6d525/ODFf3dpn8uP/q6veGPKM+r1lHjG9/7c1zu2IDlV16kyXS5K0FDAv6DYrnHUuDTywPOP7cVENfjuR7+gHzSJehf3OMz96YQOBjZ0NP+w2OtKdfh59c1t8z9EXY32lTU1OzasM6AI7YAFvFb7Cy3WKx8dKetemX1jFuruDfXiW9sUZ2c63s3lrJjRUin1VSdwux2yqezxrBkbXo45sSb53L87vIOLAWuXsV4cAa4u7lmG1L6i2XJ6xddWX96h0W69faWho3bbWwtrLY9t3WoBuhLK7RFjWshwmaGAaO+F+Z4+M0K3hUJ4p3hR2jxZ/sAexJttPj1NDaaKMCxvZuCI7AEQZfz0G+qNMwYOh6PgTjXtsGbVh5YJl13/Plrj/P8LKfEeI68eqe8Vd3zwhwXnTjxN5wP7qIN/7q3lm3T37je2Sap0NMW8WTlrKJ3gcmX9v77YOzn7vvWelzpIqODClOnhjk9PmVnWtunVnk4VTe1sDRSr8JPjYn7OiXl3fO8HaY4+8yxc8BWGIT6DzZY//GY3t7X/QMY7q/FY6cO3fuVVfW4ODg9957b/fu3a/mgCns4uJiZmb2auThOLa2tsMLg3t6enA4HAwGw+MwOAIeCoXnZmbNWjY/AV4UicqLQ+Q/QY5MMciCKGj2E3hePKooEpWfBC2auXSe2RizYyEXzjz2vhDhc/qB+9ZjO+evXLBx/5ZCPjKNUh0Oy3kAyYzBFsaiCyIhWdGwnCeYkYU/QeYfuX3ls48+fADKiccVRqLyI2H5CZiieGShS/B5v6e381iN5255mI0184gJDcfkx0GeRYIKJs6YYL17cxyyMBFdlEgojUMWL1m+6HJSyFNydTy25Am6KAKclYQtTcCVAmFYdhQiN5FQmoAveQzJjIBlx+OKI2DZ4S1ZYz9679wdnxh0QSw8PxJTGI3OfQLPj0cVARxEXiwiLw5R4OR2/OSvJ9BIDHa0A4lCEXAoFAoFgaXUFS0J+eUz731fBx819wa8uGd5OZj7OX3ue+Aj913fhbvXgBtHE/N38xEIRHJr5ZLQUz6lKTQaDYyAoSlEAg5PIhAxVBISjYqpzFvo47r1ztUmHILEoFFoVAQKiaGTW9BwLoPVjEeuC/51d4QfEo5A4rFkLBaFw2PQMBQSh8dhGi//0Hz1RwwaCYeh8TgkCocnotEoAq62umbGopVxWNkThCYOIY1BK57A5TFI+RMM8DsiRSJkcUhxJEKWQn5+PODhR5987HzO/U4dKw4mjsPKolvYnnH505euXvfDwfAmahRCG46QxqFkiRhZHEoWi1Im4TQpOHUyWhGPUsWgpI/R8lSiOhoqTcOopi/ZsN35VCxKEQMXxqIlsRjlvVZeKrnzVgliyzH3FJw6EiKKw6hjkPJ7tSTHkNioFloGsy8GJb0HVWRROp187l/PbgoHC9II+lSs4lZ+017fiHSS5gla+QStjEVIEtDSOBg/FqW48uip2Zj3w1v5CQhxDFIRg5RHo6UjJjYGKX8M4p6/EeXrF4BGweBIBBqDw2NxRCIRg8EUFBW6eQU/is5rgklq2wS1bbyqVnYdhD8i1cP4tW28eoisrJb0xcSp73/82f3IZ7ci82KSqoJvJrqevLzGatvJ8wF3wwtqWnkY+vM6CL8eKmiACeuhgOQaMLe2jQcwEZIaMLcGzK2HipqRkspm+l7Hs8tWb6xoZDZChS0ISX0bvw0rb0YIwh49C08shuAUjkfOfPLl5JIqNAinbUApnhWAzczGHj7pVdlILq2mNbbxNtr++MXkWWA4a+nq7T8cOLnH6azrCc8GELOmldMAE1eDAIzVCBeVt7Y3wWQNUH4NRJyZ32o25v30HNCIia2D8KtBvNo2QR2Ef+fx05Cb9xsa6rBYNBaLH60e4VBoEg5f2dZsdefyJ557AGeCYNe53k6T/IB2frqX/Seee5aH/vqsqZKCxELbIKPJ+av4GAwGiUSiMGgMBoNCoQCxeBwUiVgSfOJIbBiSSkRRiXAClkwmIykECoEIJ+GKII0Woee2XL/QSkRTaFQcAQ8nYPFkEgKHoaBxODrlxyjf9SGnwWgEHpCKQ6FhaAwBCYVgCHhU+NUmlwXwtlYikYjFYlEoFAaDQaPRCASCSCSGh4dv2gRsA29ja2FlY71ti/XJnWtSzi6n3F4vj90ojVonvbtGfXtd1yNLzb21/IDlnGur0Rc2Vl5ZV2O/vuDcnqh7voWnT5B3rKA7WCL3r8XuXIX9bhXUYnnVumUx65aeW79y24a1lpabNtkCTq1b7TZfvHqlrKoSg0LD4VAsHodAIPBINBqLQeHRVr/sn+7jMN3/nfcXGQ12jMafdG3v/OtHrS4dwlEIPd3GDU6NxmDTmEqtVtc3dD24Y2CyVX/KOsLlc2zdjpr7AN+dmRPkOiPAGfgezbW9OxKCWSrJGv8TH17Z+YWfwyJ3F4qI+120zwK/Q3MCDn145efx7nvD6jKxGv46j8MTfe1nhR393HPvOJ8DtWwcu0sx5cqeid4HFt04YbKOTPYHvq43M+jQRM/93zhs6+zu+M/AkfPnz7+KMB49evThhx/u2LFjGGoMB+zt7c3MzCIjI4c5w4Fbt24dP368uxtAdjKZ7P79+2lpaTER4dGxMTExT27fvPX5nInRkJxwNAAXIuA5I1I4LDsclh0Dzw6HZz5C5jwqTf5gwkdT502LROU/BmVEgzKjITl3qhL2nrafPG/y6fu+Uej8e+Cn4YicaFT+A1BaNDIngVh8F5Q6ovAIeM4BvxOff/xRNLo0FldwH5oVDsmOQmRHwLKP370W1ZYVA82Zs2Hx1HnTk6BFN6BpMbBnHqn3zd43c/E9FUMovtWQEI7NjUYXr/9uUzgi5zEk825zaiQi9wE86zEq9wHkWQQyNwqdH4spjEbl3wc9fQDOiEblR6Pyw2HZsZgSs/fMjviefwzPjIDnPEBkRyCB50Yhch/DMx/DnkUgsmLguTtPO3y/fVtifEL0KMejyIhHkRGx0TGPoyJdb3lOvbp3ZuiR6Zf3mPs4TvA5aO4BIJJ5Ycc+9z0w1X2/V/jNUcT87eyY+LhDt7w/u7J7vv/hFZedF7o5zfVwWuR3ZI6X81xvl5U+x5YFnZjk5zTV7eD6oF/N3ezneTov8z221OfoVwFHF19yWOt34guvA3N8XKIjo8Jjo59ERIRHx4Q/vvf4UVTG07Qcl9U5LqsznqY9fBARFfnwUWRUzOPHUfFP7t+9N33R6lisPAKmjoJLw1HySKgyHCGNQsoj4NIRKRKjjWjj3ofKHoJEiy23mY0d6xefH4PSP4Cr7qOkcVhdDt+waf/RT7+cdvpeWgJSE4FWPWrjxSIksVjtfbDkTiP7EVgYDlWEQ8TRCNkNsCAWK3/QJn4CkcxYunH7oV8joOJwqCwKrXgIFUYgRLEQ7qHbKZcSSu818+NRqrtNvCi47EpKzeno/Cc4RXCrMAGnCWsWhTdxD7rfuV2KjEAoIpCyR228Xee852x1uF9LioLLHkJkt0EiQBOEPAIpc4/ONhvz/oMmbhRUHA5XhsPl4QjJiImNgEtv1jGc3cKcXVyTk+IioyOioqIiIiIeR4RHR0eHht08/Mu52w8zm2CSOoiwtk1Q1cqtBvFGpKpWdg1EXNsqjk4sMhszdvHytVGJZTfC8+48zr/ofuuHXfazv1oWEZdPYRlqwdKsKlwNmF8DBjr1ahCvqpVb1cqtAfNr2wTVbaJqEIBOqkG8eqiktJ68wXbHth/3NUBEZfXM6hZuYRWlASJIz4e6nAyobKE2tnFWb7CeNXdxTRO1EiSobBOG3k0cM2bMo5hSCFZZ3SqGYLWxqUX/h7v3AEsraf9ASdlke5qppvdN3SRGsZueTdHYe+9iV6SDgL333huggIAgKCoq1sSYYi/Ya5JN276J4d4DxmT30+y399vy/O95XnEYDsPMnCm/eavsvhN1rSOcqt7i8nZKWTtPMNBy7wm7eqi6ZYZbP8JvAKrBEQ5V1I8LWieYNSPc6h7QspXB0UWLNlZSw7GqZgA5oYlJtk7u0dGRSUkJsbFAvy16paSkxEfH+EYFbvTW/RKtfxBvtQVhsMnr1iakwXaU8V5/i40ogy8hNyzD0UlJSZnJqYsW8hdmxsfHx8XFxScmJCYmJsTFJyYmRsXFBoSFrEMY7PAxUAyEbPfQPeRjfARusdXP8Bjc4iTCSg5t9yVcTwZhKEdw2uNlcAJru9vP+BDa8hjaerur9imE9WZf/a3eeoEZCemJyXFxCTGxEalpWYmxMSkZ6aW+evRv1uVnZ8TFxcVKroQEoLtiY2Pz8vIcHBzUFVXV1BXlVeVVlJStNJWSXU62BR5/mqj4JFX1eYbid8lyL2MUpsNUbmMUqc5nM8zkkdrKdjdOu52TD/B0DA3AR966XqKxu0Nbse36ifZLp++on25QOlkPPsqWPxxx6pjtyVMaKorgcypKaqrKCmBjY+PI6KjMjLSEhLiklOT4xIS4qGig2/Oytlw4/Q8ojgBuTtEmm1GGoENrvzp5dN0XX4JAoBXzfyAQaOWuXbs0tYIVz1YfO6m2ArQctAz0B9fa9WtARzduhRsAPuBRxjJwPWBgYUz2+VvfnR5KF5TJ+TushN06F+o1/fPLL5EGn3ve2Blk75tfGgAAIABJREFUvddbP76e0TDSiWFnr4frbkQZ7IcZ7/DVk0UYctsbZr9/epJgJwMH/MdLdXE340w2QXV3Ykw3IvT36J377oeX/wwccXFxCQ4OXgAWdDp95cqVFy9eXMhZSFy4cGH16tXFxcULOQsJX19fT0/PhbdcLvf27dtN9XX1DcLa2vqiwvxNh7fFN5Ij7xRFNeVGNuUvTo15ka2k2Nai0KbMyFaSazActAqkrHsh+i45oY0Sd6c4tLUoe6QGlRXyyacr95w5FFqfHdNaFH+HHCUpML6NEtNGDm1csnxdhM0nH6+Ku1sa11YU0pAX1VgY2Zwb0ZgXU5eb3FGKLIhYtekzNYOrafcZAfXpCW0kbVdz0McgfEl8ag8rqCol7iEttCbnsoVmSENeRGNBXDs1tLUo6j5VWlR0CymipSCytTC8OT9MmBPTWhR7mxTekJvYXhLfRgWtBBnDHUIbc6NbSKHNeZGt+ZFNhbGtRZGthRFNORFNOdGNhbfcTC2tzVqbW4RLXA0tzUKh8N6dtuqWBqf0EBkPzZ1B1jI+2htRBpv8Tfb4W2yFATzhL+E62xCGcYyCJYr527Obm5tdEoI2wQxOhrjIE5zOxHjtwVruDrA5irc74m/7dShkpeeNz4mmW2CGyuGeu/wt9xFsTge7HEVZHY2AHEBZnAmBbCJYbIMZ3W5prW9pahUKm27faWmuF9Y3325tXuCOCOubW1uEwuaWptra+paman7VxgOnE+7ORDU+iW6ajLw9G934OLx5NrJlJrp5cYps/TZSOJzQ+XOccHTLrgPL127AMlpjW58mtTyObpoI4Iki77w8eP7W8uUrLcPSg+vHYlufRgknw+smgxufRLY+Tb3/LPne86DmZ1FN02n3nka0PIpomQhtnI4UjOz4Wu2iiX1E3Wh067Oolm+D60fSO18El9+Xs4bHNQ1FNj/JfPh9aM1I6u1H13wjY2sGEtqexbQ9x1eP5YvERGrLFSdUVHVf/MMf/AVjMW1P0+7Mwii3Mzt+iGt5lHjn2+jmmbDG6bCmR5Etj1zCskHLPwqtGYlsmghtfhLZ8iiieXKp9gZVDdlgYjx9YU2NdQ1NwuZmYDgJ6mqFQmFhEdndGxUaTeLWjpbVDEmwyHh53fCixOD3cRumeHVjLm7oFas/tndDllUNlNeJqpvGeYKBktLbR46r7T96Nj2/sqZ1lts8wqn9DZXXjZbXjXLrx9h149z6MW79EPC2bpJV1XXktKq2vlW5YIhZOVDTPMOtHa1tnamoH8UGF/AbR1IyOKs/X3PLwKG2eYJWOcjg932jZbpi+Woar7eiYaKUP0op6y7mtH6jbVfK6+E3TVU0TPDqxqqFk/Ty/rKaIRqvt6Z1ml09yBYMc4QjAEBpGqdVivi1ItDK1VBM3KKNLa8b5tSOVDQAEI0YlonABrDZrKamhg/Mopb2Nj6fH0XN24EGJuMepIkMXG+XvzlgZIHQ24kxlUUbb/TW9cyPq6qvvXun7QNF/SUfNTc3N7U0t9xubWlpaWpobGxsrKoVlLCZaxD6O+DGZ6M8D/hby4W6ngp22Yu3PhXkfCLAUS7AeTlU8xOYzqkg5z0wk9PhbofxtrtxlidDXGSJVl8HOR/E2+xBm6eWFbc1tbS23qkX1txpu9/a2FDbIKwLchCY7G1pqBMKhU1NTS0tLa2trU1NTUKhsL29PSIi4pyChrKqylklec1z4DBbcGvo6cepZ16mKn8fLyfOVvwhQ64r+HSxx1m0kbzhJcVLKueUVcHycmcva1z0gaOgaILuZQ07pb3JF8C1F4+1qX3drnyqRflUs/KxRoWjpJMnAo6eunZWDrC1UVdWU1GFOLvQaLSWpuaGhvr6BmHr3baGemFra6uwsX6fpuoWLOBfYymuxl+VvwmquzfI5ghEt76l4cfnLwHxFmBpKPn3BnCvKqj9OSZCPDj89L/ijohEA/JeQKjeTb46e/GWmzFGX3pr7sZbbIEZhtZQRT895XTfgRQnhvNLGoa69vsaH8VaQZjJJa3Vo6+eR/BIu330P8cDwWs24ozXIfRkkPrcnttjP367G2qw1veWLBoI1bMNbrCFYLbJV2cHyngb1mSf0cUffviHuCMuLi5BQUFA50iuzs5OEAikpKT0NuPd/6NHj65Zs6apqQnQCnrzVmgoFo+PjysoKAgEAkAx4NWC/YdY/GY+eNr9e3d3nN4XXZ8f1JwdKEgNa8halELrskKb88KacoIa08KEOaral0ArQDYhXqHCzHBhTkhTLpwTj2/ItYnw/WgV6CulrwPrMkMbc0PqskLrsyNaCoIbcwJqMwA0sET5BliHVR+tCG8ihzdmB9ZlRzUWBjekBzZlRTVlE5qy9XysV332ESQRRxCmh9SmRt8hHQd/vfHAFmxZIl6QFlafntRJQxSGaUGt4u4UBwmyQhrzg4W5KXeo3mm4WEFeUH1OsDAzWJgZ2Zof3pwb0ZQTXJeOq4gPb8wOqctdtnqFCcqJ2JAR3pAbVJ8V2pQZ1ATcE9qcE9KQFViXHiLINoJaEwP95/Wt3vX6f6Qkosf8tqqdUP11KP1t/gA7bT1SfyfGdK3vra1wgy98NOVCXfpmRv/jm/9Uxmtx/l0BOMQtq6Vy4tnjqR+eTz9+NDk78+T5s8npqeaxvoMI860Y01vhsI6Z0bHvvh19+WTi2ePhyfHuxxMDjybbpkQ6STiteMBBrVQHXqJ8ApjlvH71y3280QOCsZTP+b7uyItnzzfs+zr6znRI/UxY/XhI80x4/WxQ40xIwxSweS9Goc1PIupGQ1qfeaSzV3+0SvYkGF8/FtPyOKx5Ctc6Fdw0m3Dvxa4TZ1eDQC5JzLiWJ8F1U1FNs4F1U4S6R9HNM+Hc+wFld6PvPI9onsYxH0a3Pg1tGAtomomonziodk3uhlFw/VhY47ehwplg4WTk3RfBlX0qNgi//MqA+mlizUh04yy6pPUCJCC6boxQOx1eN06onYxreWQVmm0RnBlcPxbS8jSkdjS8diy0bir+7nehjY+Q5f2hdRPRTZOh9SNRzZOhwhlDZNTH62UCq4eCG8YDGh+HNs6GCycWbWxY43RQzbBXVE5SGqDKOi/Gfqve19PbHxASHx5LYVYO0HkDZTVDnNqRspqhRYnBH2AJRtnVg6flNFasXBWbXMrij/EbxjnCEVp5j7D5iZaOPWjZSoR/TKVwgsbvlRbCqha9XxqrWsSoHuYIxljVfWU1Qyz+GEfQe+CEgpauJbt6qKpxqlwwwuANUtm9VY1TjIp+Fr/fyQUH+vjT2GQmr3aS1zjNqRmQ3Xvk8OGv+Y0z+cx2XvNMZfN0Yi7Xzz+1tGKwrHqEwR+gcfq4gnE6t1dw+xG9qk9w+xGHP8yqGmbVithVI5waUSl/tFIgAi3/yBsZ/X713k8zqwbZNaOc2qHwWFJqVgEQs+aDzoGktrL3JkRyYW6feFyT9dNfg9DdjTPfAtNfA721Caa30U/3kL9NSWfT/IHz75+X7xZrSeqVWPzkp+/OhLpiaJldTyZET2eAafj88fDj6ZEnMx0zo0JR5+lAZ3CQa/v4oGgGmJWi2cnJ6anZb58Mffekd3YcQklQCvMYeLQQXv6d7khfFva2/fEfXz5btFlcLlcFrKgIVjunpuhu8HU5Ue5JnuLPReCXueBfM8/O5Wj0R6ulQhTsbilcPacsr6R6TPGcnOIZdaVzN3X0ETics5evnIaamuLZWyrKBLVTJSqnWpVPtSidaJQ/0fT1Sd5Xx7MPHrU5euqq/GklVfkLF84FBAQAEX2lEOA9fflff/35rIWm1FvHXwU7lipnCwKwIt5udaV7oGceiLwWA0ZVb9FHReVLL7cfPhRC7/2ufPXrz1t0VbfCDfagTTdBdWXxZhsR+puQBpvRJps8tOMFjGffvXz58uUv4rmuieG2KdH9JyMvX/34+NGMByV+HQKQv2xE6O/zA2RUgO4MzKCi507380lZhOHuIOsNvtqbUYaAlTPRfKOP9k6E0Q68+UHTKz//9MM/wx1xdXV937Lm6dOnIBDozJkz7wMOaW9s3bpVRkamt7cXsLD89deFLuJwOEeOHFl4+y7xFo60t7etO7iZWJEa2JIdKswMrEtflIJqUgMasoMaMokNqSG1mduO7gGtAKGLowKbstC8uJDW3BhhXmBV5k1Pk2UgkMLNc0RhVlBDdmBdJqE2nVCbHijMAtL8lEULD6xLNyG4LF8OChDkBgpSgwQZUU35AfWpxKZMgiAR35Ijf0N9GQiU0FSCqk+KFKQRa7PWbfjy+PkzAXU5QQ2ZkbdzYZwo0yAX51R8cG02vjIVwYq9jjA7efX0svUgWBaR2JwX0pTtX5McWJeOr04OqE2Lbs0Pqc8Iqc/A8VKWf7bKHAvxF6YFC7OJgtTghnRCUzahJoUgTA9uzAisSydWpWu6G2P9UR+CI29NvsWvxT1PJxSCnFd7Xd+KNJSudIA2NMoAsJhHGFxPQACWWf/W9YuYPdG5w8eA1g4EYPpJEtJX6mNJ/AqIUf4V2mo19JZmJBxwdyY1OV0IaC6xJFTEOGgWBP8nHBGL526jdFoQt97OZMDzm3huDlheHz1eu/fryNbJoNqZkNrRgMbJoNopYv1kgHAqqH5xItZNRQonMXVT2oi4VctAygbWgfe+D6weCqocwzS9CG58iqG3gZYvXwYCQdkdGOFkQONkSOMEoW4iuPGRd271oYt6+84bIEktuKqBm9js4Orx4PoxTN1EbNuTszdM9ipdDm2ZxQumQmrHg5sf+fInY5u/NULGa9j6BTU9IgrGo1ofn/OMcEsuJdSM4VtfBAuH42/PXvKNOnjDMqSyI7jtBxhXhC5uULNBntR19qc2h9WOhbc+D2p8Cny9fjJYOBlcN3XNjbh+xy5CtYhQN+bf8DhYOBNaN7ZUe1Fl3S7BqVI4srChSjeqru5eHDEqJIrMrh5iVQ2zBcNM/hCzanBRYlUN0ypFzMoeGZmdn362hsHtKOVOlvJ6qFUitmC4hNF+7pI2aNlylH88vVxUWjVUVj0CIID3iFEpovMG6HzgI3pFF6taVMob5dUP7D8ud/W6CZXTXSmcKKQ9qGqYKeUOlJT1CJof/7+I5PSZK+u2ytbdniUz+9k1o3mURtCy1eaWrjRuP72qh9s0mce46+gTmkUW8mon6BV9zKp+bv1YCbsLG0oil3dwG8fIjE4WV8SqGqbzBzjVo3RuN6tmCoAjy1ZCMTGLNhbAIpLeoHK7/IMyElKz/9DQFxiTr8Qv5365moDc4Kt9MNB2Pc5os+ctQLsLayJ1bvF1oNPD2VHxr/N63n/rTH2nxCqxLnkj2ZVfzv2yylcrgF0ALDjSI6RkDko37u/Frzd466xz15Ka+C7sBQv24bakmMN4W0Czdf76DRwRmOwVz73bIN7eA/xnMpnyil8rgtVuXVAOgxztSD/xulRxjqb0HfnMs/wzE8nqFC8No8vgk3LgM/LKGqry5zVOqSic0rx4U9/OEoOBOltbKiorXVRUP64GVlZRwCmd5YNPNCocF5w6WX/4a8H+I8y9+9FH5PXPnD4rf0JRTQlHJEgta6Qrxi9i8S8SY1uxeE7e7OZmlOFOjOlSMOKvyge4Yr7a222u9or6xHOS6Bnz3Tavyloj+ImA/e8NfcViRROtPWjzLRjT9UjgPLrdS0cWb3YAbQaoTOMtToQ6Mdpqxa/m7j0evjfeXzFwF1qaejLIAQjkizLcjjTaBpeoqcL0t/ubbfDVru++O/p89hDWQhZtvBYJsO+2wvRlAy1lfLTXw/T3Em3UbQ2BUSLVAX67Cf1NljUQCOR9OCIWi01NTVesWPE7J/E//PADCASytLR8f2xJ06qqqgUFBUConf+8JJXvvHN/25FdGH4SVpCAq07A1SYtSui6uKDaZFRNHLwxlcBIAi0DbTksi6xOQNWnEBtScRUxhOZ0BCf+BPj4iuWgc25mxJq40GqgzPD2QmJp0lUfQzkr9bOaykY+Nqrut647GB45e9yPFIytSwwWZmIa0jyKw0CrQOi8cFhjvH9DIrYyBduQ7S9ICGlMRbHjt329f/vhnWG1GX4NcVhBIqY8cQVouY6HObEhzYkdGNlehKJGyVlfDOOn4+qTsdUxHiWBjkUIyziv5Ss+csnFYwSxiCqghjhhGroyHi9ICmhMw9UmonjRLvlE0EcgOCkY1ZTuz0sMuZMHrYrB1cSjauLxDenoylhiYzKiPPKWmymBQPgAHJG6NAXWC0mvptWwvkJbgWCAYvVGjNFOtMkmtCHI7fLlOHhd9z1gp/+Xrjdi8djTRwp4J/3cYKC2rwEIAujtS2ouFotlEIZbMKaAGzTJZghUVcK9/OUVsDyzBtuP+tuG1QFmhL/jjojFc61I7aWcxG86cARXM42ue4Svm0TVzPjXTGJqZgi1s7jaqUUpQDiGrJwJb549dEp52arPbZOY2OpZjHCaUPcEKRgh1kzZZpSuAIHWrFiDaxrzrXoaWjus6BEaWDsSWDWw+7zpRSvoVWf0V1e09itddUpkIapHCA3TwXWzGN6YSUDGp+s34pqf+QtGMDUTmLoZvGACUTUbWjP15e5jF22wvkV3ghvGDylqedA6w9qm/Hmz7uz2S5aum5VuYni9iNpHYfXTePq9s45h+KrBrfv2G+LyEVVTwc3jITUTcMG3qNbnxOpxuGD20lXDU/r26PKJgNoJeP0Akf8IU/to0cbiaqd8yvrsA5JS0lLFb95a1gCnfID6+3sJQdHEMFIJd7iYN0CtGKCVi4q5/bRKEa1SVMIboJT3FXP7S3gDxdx+cnV/CWcqKoEKWgGSV7lKZ/cya0ZLqydo3H4af6aU1yMjIwMCgVILBQVl/fSqbjpvkMLqqGl+mlHSRmHfzye31zc/y6PezyfdprO7OVVTZPYQq3a8gP5A/ZIlWPl8Mbe/mCcqYHUxa0Zo3AESo69MMJ1Teh8EWqmp50Kr6ssv6+LUTPsggpd98hmWkM2oGAF+gt1ZXjcMvmANCG4qBum8QTv3YFv3gL2Hju7ed7iY01HKH6VX9JXwRUz+UClvvJDZx6jtozCHC8l3QMtBxJBCasXgogQ0n9dH5Q1hgvMSUzOePf9jQ1/pDL0z1CtPcAK5X9mGNdtJsDqAtfrcV3uFn9ZhvG1BY+V8vOt/79Sgkxd82t/hx9eAixTAObwEjvwkFv8kFj978XwbykTWT+J96o0kPI0EYwET+ZX4xU8/HCc6mBdGLszo9w19B3L868z2v/l1se1ACkfkFMCKcjY6p8pwZ54XyM8xlH6ka3xHPS9mqud4K9y6AtZQVz6nqgL4NFNRUgIrgpUUL1+94u3r4+TirKl5Q1lZUU1NBQyWl1NRu66igD57inH0hPDwMf6xE7yvjjfsOp60Y7/r118ryJ+WP3+eQAgYF4nmwff8ejK/sV5xs9qJMd8CBSwAZJEAbUMAMfMARR8kQH8VHNnqZ7jJ3+y00XXpcjePDiUHKWlOvfCVn/ev/y13RPxGrOVpD7hkJVhtgelvQBls8QPUR2TQhp/4aW1E6K+DamfUl4meTF5JQx8iWB8NsNuCMPjUV3MtXFcWbbxd2lR/0314yzVo/dW+N2v62/ufTW2C6X0B097ubwYwWuD6W7DGW2H6m3Fmsn6GhlCIdNdZ2HvEb8T/GBxpa2uTkZH5HUYhEom7d+9eiPG7sNONj4/v2bOnr69vIec3iffgCLoyEVUTh62KR1cvTj6CGFx1AkGYiqpO1kM5gFaAzlxVDBRmICpjUFWxCF54UHuOLzt6zZ51oGUgC39PVEMqsSL5jNslt5KAW3g72yQosTrRNc0f9BFIO8DeJAiyev9arWArOD8ay4vz5UZBmZGrtnxuE+jlwY+AV4UH1aYh61KR1bF+glhvVvSh82dkj+5EsWORbRkwTpRxmOuKLz8+eUs5oC4l5G6OT2moTQr8GsESXh6JqIrFCKLh5dE+LKJDKnzlR6udcrHomhhcfZInJxRTm4wXJMG5ETB+BKIqJrgp3SzI8/Mdn6GY0biWTD9WBJwfB6+OxdcnI6picfWp8Ipo/4ZEOCdCy9Xkw3BEOnaBV0kAgZfiubh6lkqA6z602XLoDUBGQ3TQTEAze27P3/ObJ/HPvZGusy7k+JMEh9ahHqk147xbEcmStxthugNrrp4IB6YkYAsOvAKgRLJe2BRFH4FbTDx7/GfhyMb9R7HVU0jBDK52ClE1haueQFfNAAClenJRQtRMIthDnvm1H285APpkvVMc2b9yDN74wl/wCFE/7l8965jDX/H5utXLPkMwGmObZ42CSE5JPCx/xpv32LrobljbUy/GPS1simUUFcsZ9K+bRfGHfVgibN1jlxTGqk++hJZ2oirHMbWPUZXjqIoR/O2ffHnD0LyKtVtkV+4+evjCjW2yuzR9QzVdoEdV9T/bseOEvrdffm3svR89uaN+7D6bNIFJHNe3uAm0crVjWgVa+ALOG0JXj/tVjBNqp2HlfajGmV0H5a9CcNjqWXjFMK5xFsOZQdUu2V5vVq8dMXEpOIIPjCKEFhWXD1EA2NFfwh4gc3pLAGgyWMIbKOENSKFJMbe/qLy3jD9r7YAELQPZu2CZ5SMFjO58Zi+1YqCQPRyfUbFy1Ucg0PKk7JoMSjenZrKQ9qCh7TmKSDJxCrR1Czr/jZmeqZuBFULL0OWKlk0e7U4pf7SYN1BaIdI3he4/dIxWKWLUjFO4g2ROD407wKwcJ7P7o7MEy5atsIcQOfUTObSessopM1sf0PKP8oqEBfSHrKphftNUQDTNA5mSRWktZvcWl/VnkZoSsysvXtU+cUqJWt5Xyp+k8wZK+MOlFaKi0t5S/jiZ200vn4iOZ4BWgNJzagEYtASRy/tKuCJ0UO5/A0eAUS0Z13PiN+QHQq1k3HGE5SrPGys8rh9EW34Ti4gRlL74FbCwkC7v/9zM/O0vkesrDsPN8+/VAvWQLNQA+n8FzMdfnr7cQbDajDOTzkrpPAXwxa/AfamtFZu9dckPG8QS1wOSUt9xR/4QjiiCAd0OG0NlEk5pLFf5V5aKmCMvLj/TmaxGtFG8qKGgoga4JAG8rKopqisrKSiCrWysrW1tECjkuXPq8vJyysqKGhpqikpA2BpTpbNJx0+17D/68MBR4aGj3AMno3d/5XZSTuP0aTU1jUD/gLEhAI6820nfhv2zJyK2eOnK4sy3oYwAT6TveR/5a+HIbrzVJqTRZRcLyfOWjAzp+HgrrPkDOPIbBQhJZ+NSYzY4Xd9FtN4OM1gH05FBG270093sp7cDZbyLaCmLM+X13hl+PrMPa/6Zx/UvfDTXw3W34gC+3E4MYGu+EQGELf7c7dourNmxYIeKvrb7j4blg5wBN6yeN6SKrltg+nvQplsDrTfZXQtNSwBGxtvxKh0N/xgcEYvFBAJBVVWVRCJJB3BFRYWsrOzv/LFKPwoODtbS0pKmFw3q+1osftjWvuXwDhgvBlYVjaiMhvMXJ0xDih8rwiLBU49ou1f1COjT5ScundULtHchYdGCeGhFmG9VlHd55DFN+dUbPtKEGHuVRbsmo26ijdDlkVrBdr5lIb4VYcbRHp+u/RzNSwhszTEKc0RVR+NbU+Hl0VhBIpIfu0tuH9jwkl91vBc3EF+TAOPH+fKjETVxhPrMb1z11h2W0Q9yItZlwMghJ01U9qsc23/1hF8hPqQy8QbW9Bu0qQsJS2xJ9+FFoARRqKoEGD/MPh2xfOUKh2w0ojoKU5vgwQ5B1cSj+TF+leGIumgffjiMH3HB+MaB8yd8mGFwQTyMF+nDi8DUJEArI/34UajaBGh5OKYuDloWdgNijMfj54estEN/9yrF1dJXyaT6WSweeDoTX8/YgDHcjjEpuFvd92QKEF2/nXK/K+CfeQvM/DlxlejhYZSlc0GMlPnx5s2bV5K17o1YvA1qsMlHTyVaEkJPMsh/kU7SN2LBSNdxooNlTphUiPOnuCPr9x1FVU35VU8ja8b9+JNI/rhf5TSqagpWObEoWURS9l803nr23I4T4ENyKgcUNQ5dNrFLr0RVjHnVjmL4j/CCKSVLL5kDiue8Qi77Rh2zQaJY9+EVo2jht2G3v7XL5J/ziLXA5yIFM7CKWWT1DL521pMzjLn9vUdh3YovNpsG56EFT7wqHhPrZnw5ImTDCwh7mNj6LZHTfw4avnHbztUgEGiNzBc7jnxtjLAKyfMs6QoRfutM7UEKZvGNT5wYvYSaMUVznx0n1DA1Q6jG76GccWTTIy9WbwB/AlY761baumLtPvtoMqr+iRtHhGl4DmdOQWtHFm0srHLCg9FrQ0xKTk35DXdE8rT6+3v9A6L9g4rI7EESp59S3kdhDZDZ/RTOgJSKywdLuCIyu7+A0U3nD1FZnSdOqy776OPA0AJ6mYjOHyrmDZPK+ii88aBYGmjZ8hUrV1XUinjC50lZQh0zaGq2wNI5ICVfQKa3K5+7eVb5Snp+8/mblicUr6cX1ZPLBzJLHlI5gyh8+idffAlopJYPUitHAU4Mq5vCGihk9qSSWzdu2mJmA2dUiqi8sVzyQ5UL+qBlq7MLqxmVIhKzMzGn1sQ+MKfkThGjo6xqnMoZYvKHyayum7csvzoKzqPeJ7GGScyufBbQorySznLBTBb1QVnVtKtP0Lqt20sYvWR2/1JUxO6hcESogLdwBOi0JS+paEM6C15JZmhmE28bwXIbwTK9mfdwdBBYzyViDyBEzJLF/O0f/CieU4qHykV7Dn//LXAa+OU1MFUlCOPljz+sh+lvQ5kA1ZOKFKSshV/E43PfnwxxuRDuIw2+DcxQ4PoTcERO7rQcWPHqRWUfU8VsmJIw5txQnsZ3Jaqx3ipmNwHwAVZVVFFRUgb8pCmeV1VSUVP19YOeu3AehUGDwfKqqspKSmBVVeULYBV5FRV1ZRXP0wrkr77mHz6Re/xr/KnTjqf8d/f2AAAgAElEQVRO6SqC5eXlVDTUCQTC8LAIqOA8U+IdGkih5G+yubqFYCGNhrsZZSglKS7ZgvjLuCOyRKt1jtfcQ9/qBUpqIhlB88KaP4Aj0g5+/7WmtXG39fWNSKPtKGOpE8zNcH0gACDW9HO/W0cC7R6OD7SN9m5DGO4nWO3HAD7TAGwBl8QJROhvhgOuM08GOYRVF1Pu1YqeTj2f+5F5T5jaUKYa4w3EEsQYbYUB2ojrsSb7bG423W6VQhCg0hLc+k9yR6Soorq62sPDw87OzsrKysfH58GDB9IOkWqNSKfc69evjx49Wl1d/X5f/SYtqfyDO3c3HpL1KY/0rgzz5Yb78EIXJU9OiAsZr+R+TcP1uryBmpLhBSXzS2pu12+GWflWhCFro7zKg3FNaVZJvrsvHtmoskfe8cpJUyWrFAiqOtK7LMS3IdqRiVaxurjj1AFrMtpDEIGvSUTVxjrzQiCsIB9eKLw2RsX4wvrj2/2rUrwrQzzLA7wrI3x4ER4Uf5Qw0b8m8RbGTMHm4lcGCpd8dcyTPUK4ySqQb/bcOiZnq/4Nysit0B8rSHBlE7y5YbDqcGhllBeXaJnoBVoGssmC+1WF+VaEwaqifcrDYBXhyNoo35pQ78oQr7LA7Qd3qEN03FmhnpwgVG2sDy8cyY+BlAV6c8P8amI82IEwQaQnM+iaiz4O/3bI/qYT598soBHg/QIoAYK9zO3Gmu3FmM37LJLc/naZWKygvztPIo1+JRb7MTP3osxDGxiAGqoEcbyWROnaQbDahbW4HAeXHsYAdrGE5dM+M6wR5qUY7CaYBPST/ix3ZO3eY34VE16Vk9DKUc+KCShvzIs35Vsx7sMbW5T8ap56lA54coa9Kx/BBd/6lg26UDpxd+ZgnCEIf9CNJgpu/QVZNWgZy7bLaTRPqUSUj+ObnrsDBQ7bpPE1oMm6cXy48FsUf9SjdMC1bBgpmPVkj0Lrn/qye+T0ILtVrmHrntgyRxGVY3DBrCtnDCmYtaMP+3KfurN7j6sbasIiXRidfpROSMU0tmoS2/SjF2/KizcFr552ZQ/CG5/huX2rN+y64BHnXdbnUT7ixR72q5nwKR+BVz6y5Uxf9wpYf+Sib+k97+pJr4pRn6pZKHvau2p40cb68MZcaD0W+MTE1DQxgAyluFe6IM719fXgiFG4wMIi1mABq6+I1Uti9AHQpGygiNVfyOyTvmaXdKQW3vVGpdk64z/5YtPqz2TMrbFQbHZe6T3gHoChMpqcV7tr37GPPl2bkFGWUdjg6B4SnsTKK36AIGYBGq+1j84oXjoud5FV+Tif9iA+q4ZTP1nMHS1gDhTQutNzqkHLViZmCfKpHQWMflrFaCGzJ7PoXnH5YDG3Tw58AaymF5HCyqe3B0ezdY09dh06rW/qRecNJGbXuyNSYfiCnOK71PJ+CmuAxACokN517ZbVwa/A+dQOSvlYMbu3kDVYyOwhMfpK2KLs4p5S3rDGVX21y9ok+mARq38pymd2F7H6EYTshOSMZ88Bvt2HLslhQLqAA7e9BsQfgHEZxuJ7sSTatWTy/ip1Gf6hgv7mz+bEmW1Ve2EmzuT4yedPxK8BzshPkhn69OWL9V7a+5HmUrT0s1gMeMF6BRx+bEsTd/oaMh8CvlznCajmn4AjYLC8vKIaWFFNXUnh5gUFOz1VnI1GvIuKmbayuprSGQUlZVWwFI6oqgGO3i9cuojBYS9cuujp7QUGy58/r6GkBFZSAl9QU1JSUQYrqt4AKzmfVYCelbeSB19SVNbQACtdVDmpclbxvDouwH9gZBCooPSEJnlwwMuc+GFv9xHbW+veopAFOLIZBYhs/kJahzPZaflNKZ+7wF+YT3yYOwKo4IrFCyGO3h8L3714ecXT5ksPTUBIjzDagjCQRRuvh+vuxJlt9NH2pSSK5+a4Xa2fwbXXwHQ2w/U3wfRkoDpr/bQ3oAy24kyAuMO+ejvRJj70lABuAY6RGVZBCi7LI/IKTgY5yCIMZdCGsgjDzXD9NZ5a12FOP/0gcc3273FHFtouhSbffy8JPL2QKxZLNUXq6+sPHjz4XvZvk5Lx+losfnDn7rqDmz3YIW7cAPfyoKXItTwQKUw0y/bxZQb7MIKwVckQagCkGOfOIHhWhrpxiE5UDLQ6GimIdy8hQEuDPcl4T2awtyCc0JRon4905oehauM37JdRsLwEq4tyLQ+E5GIscqEu1aGwxnj3CrxbTZBttPtHOz9zToH71kQ6VeBdywO9OWEoQYwFHeHED3QvC/BhBLuRcBA6wa8p3qmUCGEQXWh4b04YvDrWgxcG4QZBKomevDCPigAIO9iJhTGJcwMtA1lnwtx5gZAyondlmDMdB6+JcOcRrWgwWFWkUx5i1aZPzJOgfoJYF5a/d1WoS6m/JyfIoyLElR3gVRnhzMR7VwVD6IQrTro4PPYDK92C7oh0HQD6GpB9AOFpAEknTB8wl/jlbQEfXjF/+6D+4ndvxMCweS2e+uG5VjJuO8woqIIs5ZEAC96ceJ2f3qceN6/EwqUoBUAqc+LW8f6rMfDNnjp57YL5BkoPZHNS3TNpwJsP6Y58seeYD3fCtXzco3wEwhmTvE64c0bduWOLE60bXj0Nr3vqyB6xLx30rpiEVk640Xu9OSPe9dMO5F4Ic8KjZtqR3u/GHnPnjELKxq2K+3z44/aZNcpOwcYhRYF1ky684QtuQQaxZWaUDghvwps94c6d8OZP2OU0fLr9oEOW0E/wyLbkAazphUNpP7R8xJU95caZ9mW2gz7boQ5Pcq+dgfNmnKsfQxj99qWDjqxBRP23EEY/hC1y4Y7eRKd98ekGH2bvRWSOVjTLq2rcizPmQB9y5k7Cqx4fPHv1PCTUp27GltGPFMzYMnu9+TPuvOHFG8sdcyjpMsPF/xaOSJ78G3FfXx+WEIkmFOTTB3JLu/NLewpovYXMvgJGb35pTx4dyMmjd2eQ7yfl3baGBFk74rUNXIzMfWycg+w9I5LyhTklfRTuYDr5IZnVDccmnQZr3tD1MLLGOnuFZJK7SssfZVPaiujD4XG1uw6ftHPD5tMHqeXT6aR7BYz+lMIHeYye7JIOMv3+lp1HLB0IFGZ3Lq0nh9ZTXD6UQ+mkcES59AcMTpe1U6C+NULPEuWNzC1mdUclMo0sUVe0fc0cwjyRWYzKIRKjh8IayCZ35FN7sot7cmkd17RsDhxWKKA/pJSPkZhdeaV9efTuErYoNe8uvWI6vahp655jrr6hecVA/qKUX9qXQ+/KL+2D+QNw5PmLJ2/n2BLz5u26J2WCSIWVm331ZaB6AAycN/KUlCGJS7dEKX9/tgRroBhZ22FGhukBj6Rrh2SG/vz61UbAAtYYqLBUzvpGPPPqB+1U/E6ECZqaIYUpwBozv878CTgiL39CWUVBRU1VQVnljKKivJKyirLiBaWzGhpgsKIqWFFZTV0BcJKmrKyiArhYvXDpIhTmZ2Nna2ltpaQEVlZWVFICq6urgs8rKqkrAneoqqiqKp+TBPU9qwhE0dPQUAPLK1xQVyMS/AeHBubrKXku82uLBJ2YYL3XQm5Ikcfv4IhUj+QvASVrfHUueVi/fAl47pCu4UCnAXX6IHfE1tZ2ySHwRhyZkbwHorMWrrsHabIZCiiFbIPq7cNb7kIaI9lZDyYHYfTU9XDdXUhAr3ArxlgWbSwr4aZsx5jsQJvIIgy/8NHcgjUGdETgBrswpuug2nuJVuu8tXbAAQdrgDMrT839rnpxhdnz1f334MjPPwPbx1Lg7JdfAIGAWCy2tLSEwWDS9CKvb6fl/ba7a/ZvdGEGOrL9ncuWJEcGyosf5sTCw+qibBloJ16gMzcYUoZ34wRa05EQjr9PRbAHN9iJHWhDx7hwic5Mont1lA0HZ5fpu1l5j10m0irJd9nHoGtoY3RtpH6cwxW4kUMh0rUyyJ6FdWaj7cuxWH7sVo0DijYXnan+rnVhdiysR1mADQNtV4b2qQ5xYKDsmBgvQaRbZZAlHWbLxHlWhUO4QQ4svCOHaMvE2DLQruV4FzbRkY21LyM6stFmCQAcscjwsWeh7UvRLlyiEwvnURFkU4pwLif4sIKPmyntv3rCgxXsXRVuU4pw4uBcWP4OZThXNsGJhYNwg+zoKNcKoiMVc9FRG+uPeTu9F+nO/8yaH9Xiuc0Yo10Y09eS8LjzT25+mfjPL/3tOW8kZyygIb+Ie55O6aQRTmBtLfLC782OSE/lBwi2n7vduJqAlDb2hfhVxh2+WoT3UZRVYiMHWOmAMyQw+iXL938LRz7dfdydM+7IHnNmD9mXjULYww6scSfWsAt7dFGC1z01Ku63Kh7wqZlyrxg1p/RbMEa8KqdtSkXedU88uZPOrGHXiknX8nEIe9SVM+ZaO+FROWqbXnVU333PFbM957U3nVDacvLcoZs2JnFltuxhB+6ED2fSmTFkyx51ZI+p67vs1/Lwrxl3ZPXblo+5Vozb07o8KqasOeP6wVkrVn9qk8Ly5vY6FN53YI27lD9y443ZlfbY0nvtqf1I4VM75sAFeMquw4pW2fUqTuFmGQJXwbQ9bdiz6qk9o8c8tGifnKZjfguk/pklpRsumDWndrhXjS/aUmmmNbnTBJuwAEfejYM34t7eXgw+EoXPzynpzSrpyqF25lJ6soFEt5RyaT3ArkztTic9yChqzSq6TWX2UOjdGUW3k/KbcmldBfTRzJL7OdTu4rIhKmcwMbMhOet2UmYznTeYWdydV9KdVlRT1fAdikgGffJlbFpFZnF3dklHcAK3kNmXW9qdQ++QMEh6LewJsnsUc8htNN5kUv69ItZgIW2gkN6XTrqXTerNLHpQxHyQlCNMzrlDYY7klXTnFj/ILnmQR++UAqZ00oPE3Du5tJ4iFvC7ubSOyzct9xw4lUFpy6X3Z5PvAb9L7SaViuLSm9iCJ1Bs+pZdJ8NjOXm0/oXG/j5R0ptZ3JlT0gvFZsYnZf4hHFkwP5lHHhJjCkBHAWsm3cWllsBAWrrCv3sS/2hKKpoZfDYLL8ve52dilBPCftgixR4T3z3dgDHe4WcEVOg1EBGweazvZjJ2H8LMn1sw+/3z+ZXn3SLzJ+DIWbnTqory59UAXgigrKoCxOFVVdZQUpZXVlJXVZXAEYkiq7KKgqKykrKqioGRoaW11cXLl1RVlaUEsE9UldRUFdXUAVACVgPeqyqrqKqAVZVVzqupq8qdvayqFuCPE4kG3gcB0kcArDxvxGklhXusrksNTbYi54U1Uu6ILPI32iT/Cy7ZaPsNIT5S+osLZkySpe+DcERfX5/H44nF4h9++K2/fQmoGRkU3UJANnhp7cQA5r6AsxCsyQaUwUrv61sxxl8RbNZ6aX7qeX2vv8VWuIEswnAH3BCw7ILqbfEDHJ1tw5rsx1ms9dOWQQKxaXZhzT72vL4ZY7QHbgRwR+B6skgjGbebeljP8dGxBTQnTUgH7j+pO/LhaSFlmfT09Hz11Vfd3d1L3vwWjty70/bFfhlHOsGWBez3dkzUouRWjncsxdnTMM5lWDOKl3kJDMILcGZhXHgSxMDBWNPhtjSkCxtvV4a2L0db0RBWVBSkItAkAfLZ0Q1acKOTtqoycrvUvTSvEvUVfK9dJpj5VofYs5CWJJgbN8CRgXKrDrkZbLnn6tEbQVYQfohVKdyJhbEvw9mWIJxpaOcyrC0LZUmHWVL9XMqwdnSUHR3lyMRa05G2DKRDGcaOjnAsxdiWYq0ZMGuGvz0bZRwPAS0HmaV5WTMQ1nS4fRnOmUu0pMOsmWgvfphOiJ2M/A7tOEcXNtGOBrdmIa1K4R7cQEs2xqEYZl+KdOLgLal+TlysbQnqgoMmBgc421jyev8jSVqiGAqg7C0Igz1IE2lEyMU12pcs9K//QGrTC0w1ydo28PKRDzlJ3t9R3d/FOjssv7VqK8b0kL/NmQh3XndbYWu1XIDzaX8HrXh0YXstMNRfiX/+8SfpmP9TcOTj3ccgZeO2zFFH1qAVc8SJNWzFHLFlDNmzRhYlS0qvHXccWjFjT++xpfZA+U+cq2ZMCx5Ys0adWOO2zGFzao8drd+JNWzDHLQvHbKkiRxYE7pxNdeCSvwbZk3SyvfrOoJt/cxSqqCVE+6Cp3asMceSfuuSXquyYfuycauU6g3qJrohJFfOmCl1wJ0/7cAZsSsbgrA7T163XrF5pxXnsTnvW2vuI3fqgBuj344ugpSPuFc9sqUO2xT3O3BGIIw+BZuA485RJgkVqIZvLRjDppQ+TOuvxqmCDeBr530TnTjjjrxpW1q/I2fShjHkyBm0ZY4u2lh71ogFqdMQk5CYmiEV1rx78BI4gvaPQOBys4t7MyhdWcWd2aTuDFJnFqU7u7gni9KdRenOKekFwAqlO5vam0nuyi/pz6J059L7SezRDEp3BqkrjdRBYY+mFXakFjzMpvSX8R8V0gZj0lsLy/rtPMK/VrkalVRt6Yhd/aVMPglQfXVHJKKCitLy2zOLe5KL7mZR+7LIfUnZLbv2K0BR6UXMoQxKd1rhw5ySvmxSdy61L48+kk8byi/pK6QNULkTeVRRUk5HEXM4q7gzreh+dnFPUm47oCDCGs4u7knJv59D688t7b6iabX7oFx2yYNc+kA2+UEuTZRB6cil9KcX3MsgP7ygaXdd1yEj72EObb6Z0sb+7jWdDHSFD/q/giPzs1Ky80iH8S9i8Sak0Va4kRR/AKMakOAA+pXzB7t3D+OfSwFLiIQX8losjqmiHfe3O4Oz18wNZPTdKbvb8FWQ41GsTe1QZ2IjRy+NcBhlqYx3jqtjSlVwgXa9O94DBQGlScRPf6jKqq5+Tl1V7ZyqmqqKkpqSgqrSWXVlJTU1DWWls+qqGmpqKspqCioqKuqqaqpqYEVlMFhJUVVd7fzFC/JgBRUVpXPn1AHWCFj+HFhZXRmsqgZWU1VUVwYscYCEOoBg1DRUFRTl1c+p4fH4oUFAdwQ4qknwH9D5ko3pjVg8MzNjhHDf4WcA7NQSsxopj+Q/lVv/Fzii5m5xv/2epA4LDJHfdN/iuiOdnZ0aGhpSrQjp7fOvcxJLxVdidEiALEQT8DuCMtgKNwBENr56h/HWskijz6Ba2wjmu3HmGxB6gFoJQn8T2nArzmQrxlgquwEyMUYycL39OIvNfkAUwW0Iw50BlmvhukAgPaTBDrTJdg9tXFyE+Je3Y/Tf44683/wFXsj7mWKxmMFgnD179neZv3FJInnqr8Tie3faPt+3wZ7ub8NE2jLQ1nT44sRCWtHRNnSMNQPhVIEzp/vZMjEWND8LOsKagbDhYEzpfrY0pBMDa1HiY830s+MgnVkY01Jf0xI/3TBbDeh1vTQHF2bgVZihGuK6eY6vJQ1jV4kxpri6cQLNi9HuTOz1IgiqIenQrdOnbDWsS5CWDLhNGcKCinQsI1gwMeYslDULac9CWjMQpiV+UiDiyMFbMuDmdF8rJsykxMeOhbWiIczpvualWCsmTDfSHrQcZJzmCTSNhTIp8bFlo40oXo5cgmmB31cmShfMvnGsDDCnQu0oPs41gYaFXs5MnBET5lTiZ1OKcGD7W5RAHbgY6xKkhsNNlP8fwBEpuJ5fCySIRAL85wA1Jj8DKRyRLnYfgjX/+cz+2hyJIshrMTBrAOT6CmBRVo92GRSEbUQYygU4gyAXz4S6Lne/phDm/qnvLflY75hK6vTLp5IVDaj4wpIBJP5rYc3qncdcWGMSCDJoyRi2Yw5blo5Yl4ps6MOLkm3pqFnpgAtj3JwxZUyftC0eMSrpcS4bsy8btSb1W5UNW7FH7KhD1qUjRnSRBWPMltpnRhc5cAbNqV1WnCcmlDEn+qglecCifMacPm5MGbShDzuUDlqzRLblI9bkbrPyGYOwvD267paF3U7MCbOiLml9zBmDu07r7D8DhpRN6ue121XP2hX1mvOm7RnTxkUPrZljdsxZOxpQGUf+IytyP6Skz5Y9bEDuty4dcama0Mq4reSTpe6KsysfMi4dc6CPuLBHDYtHINzHttQeC8bijbWhD5sXdXwAjqBw4XBsXhalJ53cmUnpyCzsTC/qyCR3ZQFQozOt8GF6UUcGCchMKuhKK+rOKulNI3Uk5t/PoIjSirozKG3phf3ZpN7kvPuFzNH43PakvLZcWk82tTch656xDf7ASWUskXLpponsnj1INNXWK0LbHJaa35Sa+zCHMpJZ0puY/zC1sC+P3mtu63XhmmNEYm1R2UhC9t3s4t70/Ie5lN40yv2UwocZRQNZRT1JeW1pJABbpBQ+TCN1pBZ1pJO78koHozNac2h9cdl38hmDaaTOdPLD89+Y7dwvl0G+n0HuTclpzyAPppEeZBX2kZmDuBDmriNqQVGFRSVjqZS7GaTORSmT3J1G6sgkA3AkLjHjxYtnfzC55iRceAkqkY7k12LxDrjxVqSxdGwDEESiqAGU8+8Z+r7DRpJ4bm1PRgMYuQdx1qt8tVT8nT+F6y7zuKYa4/ux2/UTAY5+nJyuJxPAOiHln7zd1N+uHH8CjigonZEHnwErKaqoqaprKKurnAW4IKpqKsryGmrnVNSU5ZXPKiqpaKirqqsrKKkoKKuqnLtwXklF+dyF8woKZ5WUpJolisqqSmA1JUU1sLqykgbAZ1EGBDfKYDUw+LyaqoKinOp5AI6M9A9KpCS/hSPAEwDaEp+XuRsKLJ7b4IDuKuADDA0Y2vzO1uZ/gSPQ6CCxxJ0S8NyBCIXASU2yhn+QO/L/3oxCoaQuShf2YEBz8zXALu4b6D+rCD6ueWG3p/5WvMV6Pz3Aa4iX5l68JeD0F2WwEWO0GWO0EaG/ZNUxxhsQeusQepsxQGu3wPS3IABl2K1I481Ey7X2V52IyB+//2GesyR56tIFGqj632Po++bNGxcXl8DAwLej6k/8P378eFFR0Ye+IJGS/vpmrq2lde2hjTYkpC7dy4QGBQDEv0FmxX6WbIwRzc8431Mdo3nGXcMwE2LNxv7ZyhgVuZqwoEZMmA0Jqeb4zdrTm89CrjiUBZoUQ81LYDYcnBXXXzvVUdnn8jm0pjHJZ6nyzZlQawbCuMjThOGjn+eqbn0ZT8B8qD+X/mwTyngHXCLolUqmJUhl6dv/pU/eiEeePbo3IVrjq7PC7RtKaw21ra7/8YJjx/+o1RLCmjaM3ttTxjs3aC+ePf9032HbsinTkhELcpdt+SNzUq8lpdeMLrKgD/8rZMWYtKKKLodxFZAFeqlCh9JBy5JBS9qQ+RK0VCWt6WPmJYPmFIB9YlrwQC2QqR5AtyxoX+r+pfINCrpu+YWnZGW9A3xzkgVxTtzd2QeFB0NR6Wn57akFD/JKutML7qUXdfwllJZ/OyGzAY4nw/HkpOymmNRaX0wBFFu4VOEJWfUXtTyMbHG59PY8em98VltmcU8a6cFS9y+Vn0nqzSY/UL9isv2AXEZBSy69PybrThppIDGznVk5igkpOK/p4OAVm15wL5fSm0PuWaqcNAB+3c8iPfSEJkbFZLx4AfjL/gNEIt1vAAWq+bP4ZpTxZpSx9ItA5sJH/zHq//WMxsHO6p72VZ43Pne7wX7Ycn904NnPwK70wesP4MiCsSqdTldRAbCDVOaipgbE9VVTU1FXV11I/48JVVVVDQ0NeXl5NTU1IpE4OvoH/qmt/Tz2eehvCrLahjNf53JD1t9iV6j9Bm+dTVjjbf6mADpBGMoijTb76W32A5z978GZb0cabYXpS6U8m5AGQJgOrPFulIkM1mg7wXy7j+5WuMHmQIt1Dle+cbP8vbDlXT8Cs29ubq5G8BMRJx6d+O6tMglwBxDRd3p62sDA4P79+9KvLJhsRcbHamtr325outvbqeppuQmiKYsz34E22eirI4s02oE2kfHRBlyZIQx3IQGn74vSNqjeLozpHpy5LNJoo6/ORl+dTVDdTVDd3QE2H5tr3MS4tfd1SRWA50f7P8IdIZFIfD4fwOuv/2jIvetHIEUkEkdGRn6b9/t3UiTd/bBj7QEZh2KUEcPHjOplXOz5r5B+oacxHWZE87Ogwm/GWqkTdQxz3Y2pfn+2MtYlfoYF7ipB+mDPb47dktuqsOuA5omD5vJamc462RBDkrcRze9WpvPlQINvIs0+UL52oYsFzc+E4m3OgRsXe6s73sAQsH/uGbzt7/8rcESiuv/mUJDDgQC72Z+/ezH3y4eA0xJwZFE3aM+fPlu187ApfUKHOqpX0GVQOq1fNGBUIjKmTxgWj/wrpE0asWBOG5J6tbPvmdOGrFnThtQxI9r4n62MSemUEW1ClzxkSh+zYk7pFfTcynlgwwA4In+KTIr6dWGRGVnp4tfSbp+T+JEAtsauzn4UNhbuX5he2J2U15mc+zA2vT019+FfQwUPM0hd0Wkt0WktudR+aTo57/5ShecXdyPwZFP7EE9ETlJWWyapPzH7/gfuX6qchMyWkMgylXOGu/YrYAOKIpMEKQXtOcUDqTmd0SlCe88Yc6eQyKTqvOK+5Oz7aXkdS5WTnN+RlH8vJf++Fyw5PiXr5cvnEiwCMD6WvP4vw5GfxeIXc7/sD7T7KsB+5pfv5lekD01U4NQvOTkD5/ZFhTVS+f6bN284HI68vNz7pKBwVkrvZ/4vaTAYrKKiIi8vf+7cOSKRODgosaxZ8lGJJyYmtFCuIAPFrRjTo2Eu6z1urXa4vI9gs8H9JoA5JEKcnTgzWRwQcmgN9NYaz5tbEAY7cWbbMUB8ZkAZw09vi4/OGrfrUtSyDWV0MMxhpbnqCcsb5YLK93/5leR6mzPP+G1uEbs6PX/64u0hSyym0+kAHBGLxenp6c7Ozm+/AJiQEAKInt5e1fwqAOvOiYv5HDlnw53uuhv9dHcSLNbBdAC1VrjBPryl1Pp3USwCZOJMZKA6m3x1ALNMopUUee3Amso4Xr/oaV3RMO+ORopIpOpOkmc8D7H/Jt2R7777TgS/4X4AACAASURBVDpWFpr8XybGx8c/fKdUhvr611e9nV3Ld3xqWuitTXPRzLfRp7j9K6RNctErdtMrdrMsgxmSXG9kWBsXe+iQIX+2MprFEH2a57Us25vpjrqZroa5npZUuHaek3aeo0GBi0ERRJviqktx1c6218510C/1Wqr8W0WORlTPGzl2NykON3Lsle0u44kfMvT9QG//X4Ej0rPibpTZXowF0JwPM6v/DBx5+uTbT2X3GVL69BjjBkU9+sWjuqRuveIBQ7LIgDT4r9CN/D79kiET6pAhZUCfPKhDEt0qBBKGZNGitFQldUgiXfKQZn6fZkGPMXXEmDqiW9RrQBlY6v6l8m9kd131DsvIyRa/WXDgLQ1e82pgcAiBi3aDpsamt8VmPojPfpCc35WQde8vodjMu4m5D+Ky2uOy2pPyHsZltcdktCXndyxVeErOvUxKByKQ5uSbEZXanJrfHZ7cnJj3pytjZB2iY4JTv2h9RlHXyJpg7RIbFFcZldqcktflH85zQ2QTozk5Jb2J2fdD4hpT8pasT3x2R0LOw4SsB55+afEpWYChL7BG//8WjkhFCTtRZocwVtJtSMrU+cD684dwRPrdN2/e3Lt3D4GA/Y7gcL+/kHx8fPz8/Ly9vREIRFFR0R/uU+I5cbWw7pqvw+fWFzegjPYF2G6BGshAAW/pu/zNt2FNZJCA71MZtOFmjNF2fzNAoIEB5CEbEHobUYBW6E6c2S6s2cFA202+Otv9zdag9bf66ipBjBy8ILo3b7a1tUmbv7DPvlUIkUhtXr9uaRW/H7MGjUZbWlrOwxGxWHz9+vXy8nKxWCwSiXA4nJeHZ19Xt5SvIn0wzIaag7fOr3e7cSDIdq0kWu8G71u7MIBr+s2YJTVyP/e+KYs23ok2We+l9YWP5maciSzaWMZD86K7VVVLAzDCpQKtt4o283rXUqD99whrPjjC/vcP596I51799HNXVxdo92c6eW63yjy1SpxukO3/FbpJcbhOsrtaYK1Nc7lJdbpKstWhQ/4/1ORSoYU23UmH5qTHcNOkQS6TbK6XOl6j2moWOxpQITpkx+sku5tUp1tU55sUh2+Kl2zsFZKVJg3yTaGNNtNFm+QEtjuHxPhJDl5/uuf/T8ARKbYWi8UbfHU3QfXnscgHTl1LwJHbKB1gPwC++E5Y8/TJt6tkj13L6dBiTOqSh7XIY1qUgZtkkVau6Cb53yFt6rgmWQQQafha4dD1omEt8og2eUireHhRWqqeNwpFOiXjtyijNwqBojRJw9eLRJqUkaXuXyr/WlGfmndYTEYGsJVKGbDznf+qp7cf6R/j6puSkPUgPrsjPPlOePKd2KyHfwkl5nbEZt6LzbwXl3U/JqNdSpGpS5YfltyWXNgdn3s/PLUlOrM9JvNBVPq9hLyOP1+Z27EZtzMKHiZltUWmNGHCeUCxOV1Jed0RKbfDkhuS8gBtlciU9vDkO8n5PUuVH5nSHpf1MDq1HeKZEpuY8+zF0z+en/+XuSPSfUcGbjAv/5UMkg9MU0lv/AF3ZKHHXrx4MTwsktLQ0ODQ0KBINCAl6dv//XVwcHB4eHhwcHBgYODRo0cLP71UAmD/vBLfvdd+CWr/kYXGFozpgSD7zXDDbSijjX660qBy27AmUufpsmjjHWgTwPcYDIhGtwNvvgkJRMjb4Kv9BfTWarer+8PsP3O+Iu9mVNVcJ56bY7BKtbW16+vrF/v1/4e964CL6tj6JO+lfGmaKAqIGI1JbDHGWOiWWGOnV8HeiJXewd4VFewVEBFEVHrvu7Rle6+wu2wvwLLswt7vzV5YUcHEPPN8vnh/57c7d+69586caf975swZuBODUE3Qzu1KIMEe6ODhQ6GhoWg0+ikcQSKRfn5+ZWVlfn5+UVFRcrkc6oHUeqsOUCo6SKVS/WA10/I395HevwzzWz724LrhwU4m+smkUXrdzoAKkvGxviP8Hb7cvXJUlOfYg+vGBLt9u2PN9C2OJYgqkFYd2CYXLvXeeZP/yGTNQGJ6XXH6HTG03Xg8fsgUs8XH1q68scnhxpZVd7a+EVqTtH31rS3Lrq5feXvLsjtbfr292eGu35rbr5wYx8TtqxO3Lr3hu/L25lU3Ny2/us7h9iaH2xsW39jgmLh9zc0tS6+tX3F7i+NdP4c721bd3DxYZtckbXO4u/PXa5sAt3jfWet+iT1x4Pea/cBF81bAEdDs9dkzCfcwjfCE63yvKnjAbL0KHJFLZcN+WLQwAbk8hepwh7LqFtUxmbTiLm31DdKK22+GHJKoy29gV90mOKYwViXTViZR1yRSVt7EAD3HQDRoOm/i1iSSHJKoDknUlXfIy24Slt8iOaYwB71/kPwujCuct3P/pTuJvV/2/aoahc4Jj43bujPu9IWqhBtNF67VJ9xoOn2p9rXQhWv1Zy7WxF1Gnr9aF3cZGX+94eJN1NlLiMGYn7+OPXqu+vSl2vhbqNOXEWev1Cfcwpy5ghzs/sHiz16vO3ah4uzF+gtXmy7caDpxEQGASHzduev1gNtlkIAzlxsu3MDE30Sfujgo/8u3m64kok5dqNi281T8pZtgsuZ3j7cfjphFeVtErYVNcWF/yi/N9B+FIy9l8mYugjzqHcBUoRu8jod95fXLZ1uWjD24YVz0WvNQt5EBjqZBzuZ6nx2mocAbu3GgIxjrQ8BudKNCwJIU8zB3iwhPs0PrTYJcx/k5ztm5NiXnEWyyqtVv0+Pj45OYmAhnDzgg6T164Uh+QVtMBESmieJOnt28dQts7PIUjkAQNGvWrKlTp8I6kl6FVXdf89VBsZFRh44c5vJbFq9zGe+z9OsQ9xGR7p+HOpof8v0qdFBT1iFBDkNDncwO+44+6PvZpoXmrvNCzx9t4TXDaBRw77OQMqyThiPhfvwvmqzpE81f8Q+0Ixp1V0VZ+ajvLMb+Msl04fjR8741X/j9G6HRiyZYLJxg/st35gu/N1v4vemC70Yv6j19pfRYLJhsvnjyyEXfGS8Yb7pggvniyaOWTDReMM54/jdjlkyyWDjBbN74UXrmoxd8//X8QTM7esG3oxdOMp0DkmG2cOI4y8lhEeFdXS9VAg9SSm8FHAFp13sfGhUOzLfh5vS64EibQvneB1+YLVpntsRn9GJfk3neoxd7j1zkO2aBz+iFb4ZM5nuazHU3X+BtscTXZIH3iPneZgu8LBZ4mi9YOyANlk7zBd5m8z1N5nuMWuhtvmit6S9eJvM9zRe9cqbGLlo361fnCxfO6XcJ6r+io6e+sW7jFr+Zlsts5nhY2rvNtHGcbedqO9f9tdBsO1fAbb6X7XyvWbYuVnPc7RestZ7rMRhzu1+8Le3drOa42s5ztZnrMmeBx9yFnlb2ToPdP1i8/SJPm/nO1vbu1nO8QPgXN5t5npb2TjBb27nuNnPcrOxc5vziNW+Rl6Wd42B8fpy5aqbNmtl2zpY2yw8cOigU8fStsL8AX2iWbzkcgSDIGNhveoBGqre6hVvrC/k0RPwhONL3uW146r8jYMhbD0SlUkMvnJi9d+2wDUs+3bMc+HM66Gsa4f5lwBrTUNcx0cBgFOAP4CPOdaj/auAwLNbbNMZrSJCD8c7VFt5LvIN3/WtSBR7T29VgWfS/4ER2dvbGjRsvX778bIYBHNHpdGXlmpgIaG/AgcA9AUKxCL7nKRy5f//+qlWrxo4dy2Aw4AkUlUplUG/WIWtXLFsO3qLtmT9/7vAJY/7xo8WU3a6jdq8BvlOiQEIHJGBzG+Y+bOtSs7UL10T4pZXmqNUqSAtWn/cKpE+Dali5DuLf3skaoN0BuetUqjIzM3LLc4qQReWIyrLq0jdFFYjyCkR5eU1ZZXVZVU35n0tGaX5hdXlZXU0loqaiqqqisrqirLq8tKqkGlFRXVdVVVtZVVNejagorywpqyiuQVQM9paK6pIKRGVldVU1oqoIUVpQUsymMvuqwrP19vfO3g440lfRzcM8TYJce+v8S7L2KtqRzg5VRfYDBJpQVVNZg6wurayqqakqKq+qrimvfkNHFbK2tr4OiazRV5KqihpENaKmvr7+VZNTW19Xg0QYqBpRU1VTDarNKx5F1ajqmjpuC0uvHek/mvaou9rqUYjikrIaREMNohamyqqa10JlVYhKRF1NXWNFTW1JRXVZFaKipra8GjkY84KS8upakIzyiqqqmuqqmury8sqK8ldOTHF5BaK2CllbX4Oor6qtrqipLq+oQSAr9QcoCgSitry8srS0tKKiqmrwzDY0EJENTRXVdXn5JTQ6qXeq63/YdkQ/6AzzdzQP8QCt8w8tAvpDcMRgPPGSRv8GLvU3k9BCnW3tmZXFXgeDvt3paPHbavMAZ/Mw9xHhriPCwfQNvL4G7PqrjwF73+5zsNi5Zuxva+Zudnfc7Au2ntUz1Oh69+2DPZhXVFS4u7vfvn27XwZ7tSOVVT0bfPgh4cf5HJ6hVwRwRKlUHjhwYMWKFUKh8N69e/7+/nB5PFVgQNCypb+Wl5b9a5tfFB69aOEvritWOiz9NTktZUNMwFiX+abeCwbEIiDSe8HEtb9uiAkoq6kAmpxuMJehBdSrF9EavOL0Odh/u+EIkLbepaYO0mmAwx3g9ketg62L//O/3T1gQ8quHp26S9utAc4BtNoebfcrp6cLgjq1Gq1G3dOt6dJqVOrOrk411NOj6+rRaHs6td3d3cBdu1qtUXWCJQyD5VQHabt6IHVHd1enRqN3TaXVatVPzQz71dvfC74dcERfzbUQZBrsZuzv1KsXMbS/F/M4CBwZcGVNV6caSA+COtuUOl03aFu6no6ubh3UpdGCcvnPk0rTowNlrFGrgGu6Hh2k6uzq6Oh81ZR0qDQaLXhco+nu7OzSaDS67p5ujfZV+XRrtFptV5cWGNx06btKgH3hrgYsrNOAZb/dUJdapdWoNV2doGm8DtJoND09PaB01KCMgCh6erq6ugZlrpeVuksLmo/+0Gi6u7XQoPcPkkgNsJDRaDQadWe3tkcDto7u0nVrVTq9JEGktqfvAP3UYPy7OjXabpUO0urHFcC0S9UfzL1Ycfu+IQ0DuQ56ixb6wsp440Bn8zDPpwPQ7+T4D8GRgST15uPg/OoNSPQfg/oFK5pubWUDYteh8G+d5g/3nm+2D7gHA07Sgp3BzjAhwEnHqEDnkesWfe+2cHNsYHr+Y6gHomEJLk7O9NYWg2tsuJeDEUlzc7Ozs/OBAwf61rGCAVKj0ezcdXd/FMQTqJ9Z6CsWix0dHaOiomAX6a2trZ6engYjFJhjfHx8eHg4LEI/Pz9fX9+7d+9aWlqCzOhbGgKB8D8cszFsn9Ouzcv91i33W+e0a/PGsH3+h2MIBIJCodCBzrL7D6mt3nLbkZ6enj+UzTdfId/6FLwtcASG9SZg1yc3uKd7megHgSMNkc5gFAXPPzVl/XNapZe9/d21dxL40xJ4qydr9J/HwJQ13AtupL0fzC+TxlsMRwbNll6b29GpQjTWn76SsD5g1+otPiu3+izd4LE24DfPnVsPx58dajqitx8Df+CIj49/iR8voVC4d+/ezZs360fGHrmsfc+ePYFBGeu8uUCCveoSwMfIzs7uwYMHMFPYmLSqqmrRokUQBMEABYFAeHt7w27Ru7q67Ozsfvrpp4SEBLAvfP9Dn7JuvUoUOGGDL+kNYHuDvRar4OxlA/ZbDkf6i+Rd+C+VwDs48g6O/KUV7B3zV5PAOziieeObVbxaiQ1wd5/tBGywAc9d6Dc3htT6eQwtpPNa683hcEDn0wdHaDSaq6urQCAYgKE+SigUHjlyZP369QqFLCb64I4dOwoK208ehVr4qmfgSHV19YssQkNDExIS4PiAgIDTp0/D4evXr2/btm3p0qW7du1CIpHPoIq+qZbeVMJp7afsMmhHYFXkiy/tjXnL4cgzMhk0k+8uvAYJ/K3gyIBeWQ3dwWuQ5jsW7yTwb0rgHRz5X4IjBlzyQuDIkSNXrlx5rrIcO3YsODi4b0am92L/0VCr1R44cMDCwnzL5h0QBCGQ0I4tsucna55jCp9KpVIbGxu5XJ6cnLx161Zg06o/rKysTp48ef78eXt7e6m0dyU6/Ep4R8fnUg7rSOA5VINFDzxzOeB7QeRbDkcGzde7C69bAu/gyDs48rrr1Dt+/4YE3sGRtx+OGEbw3npgOIcD+lhkXe3W7dt6V8L21ZeOjo5FixYNuLksPM2iVqu3b9++evVKF2cPLBZbWweFBuqe1470cQNuRcBWNX3HpUuXgoODXVxciouLYXNXMpns4eHh5ORUXV09Z86cvht7//vUNnoFTt8J/N8fIul0ut+xrngHR56T7LvTQSTwDo68gyODVI2n0f07n6ex70K/J4FX3T0D8HsHR/5X4MiAtcOATKRy2fwFv/TDJ723p6WlOTk5Pfcs3ABZLNbGjRv1Bq09yUmpLi4uJ05WnTsNkajCZyZrnnu4/+mQIUMcHBwMMZs2bcrLy5sxY0ZRUVFgYCAcb9B59N5mSHIfIulvKdKtPwwMBw68gyMDy+Vd7PMSeAdH3sGR5+vEu/M3KIF3cOTthyOgS+lPfdWpP/jQdmlWLFuukMHbGPXdof93c3ODN4PrH0un03fv3h0bG6uPBJareXl569Zf3u3XLlM+a8oK4wnDdIxhE8KmpiYbGxtvb2/gnhWCuFyujY1NRkaGv79/cHBwfv4ze+TokfEzuTDkyDBTo9Pp4MVv/RM6QPh/CI50dXV1dnbCIoUXvnZ3d/etsuuBwdnfLR6sQQRLGMEyK41GAy/dGqAa/IGovxUcGWxljUYDVrL2r1dwBfu71avB8qtSqdRq9fNfTX21q7u7Gyy+1Wphgza4s3pOnn/PdgqvmlSr1V1dYOFxn8Be+v8Ojvw94Aikg/bs2l1cWPTi51BdXZ23tzfsgxUe+Hg83oYNG/otfOldSHM3hbV3p6q0AqNSdBiql9HNmzcHrGIeHh55eXm+vr7p6ekQBF2/fv3w4cM7duxAIpGWlpYSicTwVC+C6WPZH0bByX2xNvefFTLw6Q38T8ARrVYrFAoJBAISiUQgEA0NDbW1tXX6o77fUVdX93eLh4XQoD+QSCQKheJyuS/WkOdrxUDn7+AIpINq9UddXV2/agWCf7d6NVh+GxsbSSSSQCCAJ7D71yO5XE6lUuvr6xEIhOFxQ6C/PP+G7RSFQtXW1iKRSCwWy+fzX5Ref0n2ht/Bkf8BONJXrgaFwoCBS1cun7twvm/Mf2ap7Nq1a3NycmA2AoHAy8sLOEl7evTCkfIKbWigbqbl4tzHOQY+RitXrjx69Kjh66GjowOCoKSkpE2bNkEQ1K5smz7tJz6XZ2djq1AofvxpmlKptJw1G3xM6FfzaiFIKJWUVZTv2h/qG/TbSj/fpdu8lm7zWunn6xv02679oWVVlbxWPpwY2NwVYBT9MpynwKUvBExf3ygcMZi2wF9LhmGyqws4zf8jB5yVnp6epkb0518Mjb91Z3/chQNnE46eu/BG6HTC5QMnTp+7cj36yPFzV64fPXv+yJlzp+IvvWpizly5Fn746MmLl49fSDh8Ou5U/KXjFxIOnb9wMuHS4dNxJ+PiD5+OOxF/8XDc+VOXrhw+e24w/ifiLx6JO3/wTFzsydOnEy65eLj7++/VV4g/It1n7jEOdTMPctN7mNJ7izRU6mfu+i840Vfpf9PvyIBu0CQi8Qf/+PBSYsrx+KsnL1w8fiH+8JkLp+OvHo+/fOxswmuhQyfPnY6/eurClYOnzh05G380LuHgmfPHLlw6deHK8biLJ85dOnn+8vG4i8fOJhyPuwgHXst7X5XJiQuXj8YlHDp9/syl6wdOxp2Mv3Lo9PmT8VdiTsRt27nn2LFjsEPC3i4IbKfXg8Ng9+4L2rZz78n4K8fOXT5+/tKxcxePxV14q+ngibhrialhsUfOJFw7cvrCqQtXDp86D8rlFfN1IuHKgbMJJy9e3bJr74EjhyUSeEfffksln21YoPHBLnP6fiEI6r9PE+zGA/79L22pOujf9ztiGDKeFc9/3dnTsVjfO/WWCAiDTU4UbfLS6vLok4c8925dsWvdnK1uv+xau2Snj0fg9j3RIU/ysxubGpavXAYcX+ogbU/3U7NWHUSn0mbNmgVBEIvFcnR0vHXrFgRB/QbQXjhSWtYVuFdDILd6uXoePgrwilQqBV5Zd+3atW7dOoVCAcuMw+HMmzePSCTCI+uVK1fWrl27ceNGRC3Sxc01qyAvOjoa6oHkYsm9RxmbDob+uNV5iPvc8VFrzYJdhgc4DAtxGhbiNDzAwSzYZXzUWnPfpdO2ufgeCH6Ql9XdpgLjhg6Cx3YY0BgEAS90frNwZMBaA2M1A2Lrbw3z4v2w0Lq7u2kU+vSfZ5JbeBSBmCNv47V3vBFiSWWCTrVYo2XL5K2qzmaFskXZxpLKXjUxpGZuBwTxO1RsmVzWo+N3qMgCgUCrbW5r47a1tyjBL0+lamlvp0sk/M7Owfjzle3ctnY4JQyh8MDJEwcPH/pzcORvpR0ZDI7Y2s2jixU0kbJF1saRK5hiZWtbF1veJmjXvC5qlrY3S9t5bV3Czh6Bqpvb3gVIrmqWtrfIOrhyFU/RyVeqW9u6Wtu6XtdLX5mPqpvX1sWStIm7ILa0XaTWtXZo2dJ2LKPl2u1k/cYZYCjt+/ABcITFYsVfvpb2OI8r7eAr1Xylmidrf+X3vj45v5ZXy9QQR6RkCxUSVY9A2SXvAqd8eeerMhepNC2KTq5clfwg81ZSskIh0zfSV4YjJuF6n+t9GOV/Ho48NyL896ITfUkCGKHT4wO9gqBd3ZlfmLcjKnCq97Kx21dZBLmaBruYBjmb+juO9ncy2ecwJtLLZJ/DyHWLft7saPzj+Nv3k9WaLjBkd6h1auACWAtBnV3qA7H7T5065eLiAmORZydDeuFIVbVu706VpgfCobD7AvwjIyPXrVsH4EhPT8+pU6ecnJzQaDQEQdu3b7927RrcdGHUM3qMxZkzZ44ePZqTk3M4PPpCQvzF9OTlAVumbXMx27x8yM6VxvCOwyFOxmEuJtGeJtGexmEuw0KcRoS6mER4Dt216qv1i6duc/Y9EHw9PYXP58P+7Q29A9xH9PYUb0g78pJ60x+IPFfbXjyFc9HZ2YnDYH/8eQZbJuN3dUm6IbpM9kaIJBa1qDvJEjFDqWAoFRxVB6u9jSQWvWpimhVKpkyG5XL5XV24Vj5FKmnt1uJa+WSJmKVUMhWKFpWKKBDw1GqiQECTSgflL5FQJTJOu4rT3k4TCsMPHQwMDdHqveq/KMyXx4wM97AI8fiba0d+nGFJk3WwO7pbO3UtnVpWm0bQCbE6NAxZ52uh5vZuulTFkHWylRqapIMsbmO1aVhtmpaOnub2bpaiiylXsxRdcOC1vPHPMaFJ2tnKLpqkna+GKCIlRaRkK7sYMhVdqLx8O+ns2bMw5O2DI2CrCgKBcPpcfNrjPBhI8RSdPEUnR/Z2E1PcThMoOiCIIWqjtsrZUhVXqZFooFfNF1+p5irVIlX3vcwn127dFgpb38GRF7qj3/fKCg8rWq0WtvGCLZxg46T+NkmG+D8dgNPWuxGB3lX6C6l9NkKPCnq9lXZDHQplck6mc+CO7/a6DN/269BdK4aFuXwR5jQ02NEk3M0i3OPrKO9hQY7DI91GHvD+MsQJ7GizY/n3+1xtfBxvPEwFO0Loeal1QFOCRqOHDh169erVZ1/Zm0bYhANZC+3a0cYXdkE9EK+V7+Hh8e233xoZjFiPHTu2devWuLi4LVu28Hhg/0ZYe8Hl8yZ+P8HNyXnG9J9FItHCXxZsjAqc7Odi5G03JMR5zOGNI8PcR4V6jApxNQ1yNgt2GRPqPibU3UyPqkaFuI4Mcx8bu250jM+n+1YbbZj39dbV0VfiGCQKSJq+bwAbqOjnfd4sHIGNAQ2g5LnJGliQsN3l71pf6vQObVENjd9NmkzgcQlCAY7HI4lFb4aEQqpEguPxGHI5ns+ny2SE1laGXP6qiWHI5XSZDM1tocllRImILBETBQKqSMRSKkliEYbHbe5UNTCZPJWKJhazFYrB+FMlErygFb5K4PEiDh+JPnBwoFr7+3EmEZ5jQj3/5nBk/MQf8QI5QdxJaFWiW6VNPAVJqELxxCRxx2shLF9Ok3dRpJ0kcQdR1E4SdzCUWqpMTRS1GyIp0k6qTE2WqMgS1Wt56Z9gQhS0MeQavEBJV2go0k4MT0aWqKgydS21+cyl63Hnz70IRyg06sm4C/ce5bRIOxmiNrpQyZJ0MMVvN3FkamqrginuIDSLOyCIJlC2dugaqS2vnC+BktoqZwqUt1IeXLlxUywW/zk4MjLMHe7qYb3I3007AvdiHA6nXH9U9DvgXQ37RfxbwZqamqqqquLi4pKSEiKRaFiSAg1y6GcpeodgIpUSdfnsT35un3nN+8h/hVms9+QT276J8THZB6Y4LCI8jQMdvwxyGBnmOiLA0XjfGotwjxEBjqNjvD/Zu+LrQPcxvr/6HgiuRNWBV+kgBAKxxtFh/fr1+m+A3tf3U5D0akdy8xThwZBYBk/4QL6+vjt27DAqKCgwJD0jI+OHH34wLOKF8UF0ZFTyzdsbfHynTPsxq7Tw/dnffLtjzQh/B7MDa01ivcYdWv/VvtXD/NcYR7gZh7kMD3UeEeoyIhQEjMNcjCPchumRlEWEp2mM1/AYj+EBDmO2rpi52TGnoqSrpxuoSV6wI4GnIWE7kktV2aNDPSki7iBShSWgTUqEYiJgA10w9QXjLx0E+dw89vNRP8MpHBiQVX9vKANikQGfGjAS2Mb09GCx2Ik//kAU8khSEU7YShAL3gwJ+Dg+lyaTUCSiRjYT/qVKxa+cGJmohk7hadRobnN8asqmkKDd0VH3srIwHDZDKW/gcWhKGZrbTJGImprZhMHzSxaJsHweXiTAiwToFk5QTGxo8Z6aNQAAIABJREFUWMRLymVACcORJhGeX4d5/c3hyORps6gyNUneTRSqibIuokzLUEA4sYog7nothBN2MtohTGsHXqRmKiGyWEMQdDY1K7ACFUXeQ5Z140VqokRDEHdhBSqs4LW991UTT5aomW06vKAd1SwlSbvIMg1B3NnEU9TR+XHX7lyIvwg6mqc2C6DfwWDxR0/F3XuU16LoYoo7aAIlU9zBkqjebhK2cWVqGk/GlanrCcyQ/ScYrQpJJ/SqmWpVdnNk6hapOintya2kFP1U/qAzNfCn5Yu2I71b6Okv/53hSEFBwezZMw1kaTnrtdOsWbNmz549Y8aMRYsWHTx4kEgkvqTnhHfOA82hByqoLPPYHzBi7aLPdiz77ozf99G+pv6OQ3YuH+q/+qtgx2FhLiMj3EZGuJmFuVnErjWP9vrCf9XoGO8v966yCPf4NtpnSJirWZT3V5uW2u/xTS3Iysp8FBkceinhokKhWLRoUWNjIwRBz37A9zbDgsL28GBIINZCPRAWj/P19a2vrzeaN28e7NhVp9MlJyc7Ojp6eXklJiaCpZj6zWWmT/0R6oH2BgZ8OeHrKc6LzUPdzEJcTcLdxu33/XT7kuF7V5uGun5zdKNZGEjxqNCnBMeMifY2jXAfsm/V0D0rR4d7jIvxMQ9zNw50XLxnw/3yfDBx9SbgCB6Pb25uHqzAYDgy4NUXF1W/eBtQ9nR3YzCYcZMnNDUzmwRcVGsList5I4STCOpaWFhxa20zEy8VkhQSvFRY28x81cTUC1qwAh6W1+Kwft1v0ZFIOrWagPfesWNTgH9jCxsrFyG4LJJCQpQIsQJeOZ00GP+mFk5DM6tJwAViaWYHH4iNiIrsN068KM5BY0aEub/TjnwzYSqWL6/ntTU0KxqFqga+qonXjmCJUbz210JN/A6CRFvHkaP5HZhWVS1LihOq8aKuSqoAI+jECtUoXju6VdXE76hvVryWN/45Jg0saQNLSlNCdWxpXbMMJ1ZjRZ11PEUlhXvi0o2TZ+OehSNgjppEpp6Mi099nM+RqemCDgpPSRd00PmKt5oILGGrspslbKdyZQdPX/rJZmFlI+lP5IjSIidwpDSe/Ebygys3boOllE/B3ABNEv6G7I85/rWz2ohQtxGhbuDuv6vtCCyplJQUGH9YWc02kLW1pbW1peH03wzMnTvX3t5++vTptra2MTExDAZjgELqH6UfdouRVatCdnzps/CLfWuMozyHBbsMD3b6KtBhZITbmIO+FrFrTUNdR4W4fhPpPTrYddieVSODnY1DnMcc9B0V4zUsxMk4xNnY32ncsS3GUZ5jAtwmrl0+a+kvN27cgI0x7ty5A7uN7/9auBl2dHQ0osBkDeyV9bddOx8/fgy20HNwcCgrK4MgiEAgLF++nE6n83i8BQsWpKTe6+hU5WRl79y+owfSzXFZabzcysLPYUy0t3Gg4zD/NaMjPU1DXU1DXc3D3E2DXYwDHUcEOcHJNQ5xHhnsPCLICUT6O1hEeZkf8DGL9jQNdhnh72Ac6GgS7Tlk/aJlsbuSch+BtOqAQQ1cof8zpqyxsbEJCQmGqZn+8tLpdPBUH2wy8tw9s2bNqqqq6n//i2GwqbdGg0ajv5kysbGZVs9n1fM5DTzWGyGcrLWhld3Qyq7lMohKUTqiDC8X1PGYr5qYqmYqRSG6mZE2esrEnNpqslLcwGNV04n/ZzzsdlYmTtZaw6WjhS3ZDTV0lRy8cZD8olo54KqoGclnIlmUoEP7o/bHgjr66odxqNs725Hvp87Ai9sbhep6XgdKrKnjdzRyO5BceQO//bVQFVNcz2urbVE0tnYgmJKGFiVJ1pNVT0mtRJeQeTVsaTVLAsAQv72e14YRd72Wl/4JJlVUweWHxQ0tSqxQXcOWNvDbUaJOtKSrgso/cyP5/MVL+jr2TDUjkanHz5y/ff8JpUVK4EiJzTJGazuV3/ZWE6O1ncZTYmitTEEHgSVGYBidEETiSF81UxyxmiFUs0Wdt+89vnojEUzWvDocMQ5xfQdHIAhKT0+3t7eFac4cu7+C7Ozs5s2bN3v2bDs7u5iYGDab/Tsdajf0uLzo1wi/Lzcu+WLv6m9Pbp94bNvQ31YahziPCnc3D3Uz9Xc0C3AyD3UbGew81H+1cZS7aZSHRZTXmAjPoTuXmwY5jwx0+jrKe3yEz+d+y78McRl/dMuQTUu+8Vp6I7t3R97Ozs7ly5dXVFQYtuPVJ6lXO1KDgPbt6tTqoEZkw7xf5sOjrVF8fPyVK1dEIlFkZOT58+fhPHR0dCxfueJM3Fl7e3sGjY5nUD/9afzEIO+vIj2GBTmOjfUZFeJqEug0JtJreIDDqHB301BXoBoJdzeNcDcJdzMJdzONcB8V7m4W5ga0PcHOI/wdTIOcAYKJcDcOcTYLcxt5eN3nnvNW7NxApFNhXd9/Eo5s27Zt//79LxYY7JtLpT80Gs1zWASCoPXr14eFhb34YP8Y2HYEjcV8M3VSHYdS1UytZlOqW94MldOwtS3UOi6tjksrwNe77tma3VTT2Mp81fTUCZiVZExATMTnpsZNXEYNl1rGJlRxKcNNRu4/fbyajm8Ssh8jytbu2VHQhGzgMwbjX9VMruZREQJWRQu1gkH0PxgVGh35J+CITqcbHuL6Do6MnfQjqlVW06KsZEkrecoythzZrKwTtCFa5K+FkHxlnaC9jt9Wx28rowsaWzueNFKXrN/1sJ5U0yxDiTqRXEUtT1nTLKtgipBcxWt56Z9gUk7mu++OvPykrLZFAZLBU1SwxRVscR6afuLK7XMJ+sma/qhXB5HI1NPnL959mEfntxGbZSS2nNIiJ7Uo32rCMiVkbhtd0Ilnyyi8dgqvHU0XETivnC9qSxuWKcEzRVdup129kahQtP05OGIc4gr6xr+3duTx48ewLsTwa2NjBZMh5t8MzJgxY86cOTY2NvPmzdu/f/9LdP/wUNXC464O2fGBh92og+tGH1w/xG+FyT6nr6N8RgcD/cKocHdgaxHmMjIMjOyjwz2G7Vk1br/v8GAnk2jPzwNWjz28HlhlBDkND3YZF7POPMTj/3Yu/+b41lG7HX/2WV1HwMBvycvLW79+PTyM9q317eloBytri0s6g/27W/iq9d7r8gp6vaoaSaXSOXPmJCUlbd26VSaTPR1We3R+fn7mI0wkIvFs75VfbVliHus9PBjApc/9fh2/f51JkPMw/zXmsd4jQl1MQ12BeifSa4S/w/BgJ9MYL9NgF7NgF/NofSDMDVjB6JUlQMMT5mIa4T481HnU/rUj/VY4BG6VSaRQDyRTAPev/xntyNatW/WuCJ5mF96j4cyZM2vWrImMjNy2bdvq1auvXr0Kz3sZzGsIBIKxsTHsnQV+GJZ1/9U3AFfp1y9N/PGHMjq6vAVXxkKXc/ADErKFXsHAVzQTClmY8hYCkkuOTTgTcCR2f9zpvZGhxy6d33MoYt+x6Nj4k+eTrqWX5hfg61GS5pJWUiYFUc0l1AjIeRxMRTNhQOblHHwdn5rFQtWJGEXIqoVuDg+QpUVUdDWfVt6Cq+Diy1twTwjV9WJ6KQtdzSVUcwnldByCR8slN1Y0k8pZhGo2CWALNqmUg6ti4xc4rpxo+TOihVTOwlUw0ZU8/A+Tp67y9ahoIefSGrEKbkJm8qpta4tJqBI2toSJqeOSimgNZUISopVaRm0q5ZHLm0klzfiqZmIZE1tEb9q7PywqKgrGo6C/gz0pGfCpvhfr7NDv4KiDtJ3qNEzVqmv7p0VuHBrs/H24z8d7V1oe+c3y5O6ExgKWQgRWkOuZaPXG0bC1gLq3L3xa1i+GuvV7Z8PmSnANhM2rgfIZTkzfurgXn/39mL/S78iEH6ZVcZRlvK4ytrScoyhjKStY8vJmJYIpCzx2bub8JaMsvvnk40+/+W6y7dI1M+YttbZf+qPd3Jlzluw/eamIxK6X6PLI0lKuqIzTNiBVcDrLGOJKnrKQ01HGakeQuON+tktD4CrZMiRPVUqXlbPbqvmqcl57CUtRwVFVtrRVctuLmdLyZmUZS1nVomqUQIV0eQ1PXcFpr2xpK2XJqrjtVVxlAbUV0dox4Ev/RGQlR5NPYNusdLiWnl/L1RQwZaUt8jJW+2Ms58ilm+cunIf9jui/8OHvsx4KhXTi7IWbKY8JHCWeLcOzJQSOksCRD0hYpojV2lNL4JH5cmJzG5PXReYoGigiEreD3KJqpAgZQjWV34ZlizFMGZHfqeepwLMVxOY2Ck+FY8kbKUJicxu1WdVEFtK47QSOlMJrx7KlRK4S3yylc9UYqpDOl997XIhnSyg8lf4p6YCJeUkkU9SJovNOXEgODju22tkNiaWRuCoyV4FnS+rwzPuPiyUdEJElw7HkTJGWyJINxgrHksKJv3LnwdUbifoNU0EbAG2ku9dTQ29f3QNO4bbTDUEVhKZdj69+t3/jpFCfLwMczULcJ0atn3hs2+GqhwwBFzRPfVOCWyhoX93AcQUIaODFGQO3J8PHau/lPudV4Bl9pwESYOg3em96xb/X4XdkwFdmZmZaW1va2FjZ2lrb2dnY2lrDWASc2lva21nZ29qBY469rb2dtbWt1Wzb+XbWNrazbKys7WzmzrWztLGdNcvG3sZ6lp2dDSBba1sbK3trKzs9Q3t7W2tryzlz7GbPnjlnjl1sbCyTyYRTAsSi1fV6zYJBoV7+tltdJ+wFkxtAlQBWnAAC61H0MX/81yzEdUQ4eNY0FARGhLt+6+9qtd0VjJsaUKxeHp7pGQ9A+Wrh8gWtT6fT1dVD/rvVhSWNa5av1rdKkF6w0HfDhg3Lli0rLy+HM9A7SQFBu/1+2+3322R7yzHei8bvX/dVsKNpkPOoULfxp7Z+vHOpWbDLqFC9+Wqwk3mEh/HuVV/tXjl6/1rzAz5D/VebhLh8HeVtuns1bJc7MtjZPMzdRK8gGR3jPTzAYUSA46gYr1GhbhO3rL7xMPXpUPQfWej7IhyB5eDt7W2wDkEikfPmzYuMjOwtV7CCCero6Jg7d25qaiocOeCv3uYGwqKavp/2QymtqbgZU8JsKmVhB6RcQn0xDVPCxBRzcCVsbDYOEXr28M794UZG77/30Qe+u7aGnzsafGb/ztiQXz0dx/082WblksMXz9TyKLViWj65tpBan8doKGfhBmReysLmUxoe0+rLWTinDV6BJ/dnE5BF9KYSNraUhc6l1Bazmip5hBwysoBaX87G5JNrS5rx+qvY6lZKJY+URUQW0FEVzYQ8OqqOT/15rtV306eWUFFFTFQBtb6A1Thp8g9zVi4to6PzKQ1lLHQRuWHfkahVa10r2PhSDq6I1lDOxuQyGwoZjdUcQgEbU8LGFrGx5Rx8MQOVT2vcHRMCS/j57qZPsp0wmNBBZ0ofWp7c/W3shtnHdvrcPOaVcurb6HWfBTrsS4lfeHzfjNittif2+D25KukGT/Q9pO/74BrVx/C5f7DGGIYefYBD/zS4C47uc5ylf87Qbp7j8vLTvxKOjJ8ytYIlL25WlTClJSxFMVMJB2p46nyqOKuB7Oi1wXzM+D1RRzIRhBJCSzGJX0ZvPZ+aM9VmgfHX48+nPMYooEJ2WwlLMSAV0hTlHEUBU1LO15TT5ev2RG4Iis3Ct4C3MOQVHFUZp6OYoyzmKAsYimJGWzaeX8JSFDFklVxVVYuqkCwqpEqKmfJCuryAJillK4sYsjIOgCx5FEEBTTTgS/9EZDmnq5ghOng10W6FRxlJmM+QlvFURTR5Jqb58MXn4Ii+aKEeCoWihyNZeLYCx5LCAzAcePEXRePSuWq2REvmy4uQRAypldYiY4nVKDKXzm+jtMixdEENms4SqlhiTR2RT+AocSw5/IumS3AsAGIIHCWZ3Y6lSQgceRNNSOa2YRhSLFvaxBBhaRJys2x36P7rKY9wLGkNtpnU0o6iCl5MyctjUFT+kfhbN1LyGpqYP1vanrl8B0ngE5sVxGYFAsMIP3A67vJdjkjTRBY2kYVYmmQwblgmgCwEjvLy7fT+cARupzD46LWIhBdp6KDHOOTK6/u/jfSdun+z68XYPWkXR0R7fbp75e6My8vOhY0NdJ8UvWHzk8soIRu4p9C3K3VfwwEMu+Hhqi/quX998+wyfDboGaj1JdnbdXSDxg632ece/aOn/1k4YmtrbWtrbWVjaW1tbWMDEMYce+s59lZz7K3m2VnrEcdsGxsbW7t5tvY2tvZ2djb2C2xm2dlb2dtZ2dla2tpaW9pZWdoBLYutjdVgcAQIpwfIG+4VYVndeZQ+dZfr10EAPcDWITAcMftTcKQ/lBke7jo62HXKbtfYhDMwWm2sb/D29hbIJH2m5L2TNXn5yqgwyMtnZ1lhKUiV/gBwZPv27RYWFqA+6Edc+IJIIXNduYZIJo1aZjM6zH1EtMfoSM/vonyG+a8ZGeM5IsDR8vhvZgHAOmRkoJNZmNuIA95fBToAa9tQz+9DvUyjPD4IXmUa5WEW6QFMY8Jcx+33tYjygu1LTMLdzAKAV5JRB30+3bxw/t71JAoZwGS91GCRwTX+L1pZs23btqNHj/bKQP+XnZ396aefwh7xDfFJSUlDhgyBrWwMbpJPnTq1ePFiwz0vBgxw5NupkwvIDflsVAG9voDeMAihKluI2SREAb2hiIOu4OJzCbWP6sv+8d77E2dMS63Ob1CyC+gNQG/BxqRU54/4fuwPP/8Yd+dSeQsui1hdSANsAZ4YhH8OtaGYgztx59IUu5npyKICJrqIic4l1ZWxMcWspsekmiIOOodWV96CyyUhC6n1BZymJ2REMQP1CFORz2zMotXmMgH/khZsPgExccbUmfZWpbSmPFZjKReXy6yfMHXKjIVzSsiNNXzSg6bSOhEtuThzyuyfziZfq+ASMwlVpSx0NgmRRawpb8Flg9SicpkNRUxUHrUuh4zcGRUUEREByxAud9Bs9H0NqAD6EFMqiMm89WPEhnmnAxJKH7EEPC0EJSIKx4d6T9i/UaPR8NtklyqyVpwKnh67Zf3N49QOMfgCg73t6fun3o8DmOELv72NofdPj2D6tCzPJ8ZwzwtMXhbxV8KRbyZPLabL8lkd+VRxPl2eT1cU0CR5DHkmQZDdrKkVdU+eZWv00WcXMgqrRbpqQU9Za1c2WVLI6TyZlGlsPNJyzsK71aRCllr/rPzF3zyKpIChyGcqy5tVVx9XmE6cda+0MY8hz2dInxCFpc2deTR5Nlmcx5Dn0GS5NGUJs72Y3ZFJEDzE8oHehdlW3qzKoUjy6Yo8mryY3ZFLlWaRRIAnXZ5Llb74xj8XU8RSFbPbi6i8CZYLg45eKON25LI7ckmSjKbmQwk3ntWOwGUF4MjxM+dv3H2CZcowDDGGIcYy5BiGdGBiCRBYLgLXcjHxodcm/19Xuk+cOn26zYJ5vzpazl023Xrh4lUeXhv3nLxw+0k+QqyEMAxpPakVRRXhWHIUVYSmA9ULOKUD3INhiGsJLaSW9kayCMuUNTFE5GZJxOGzOwKiqlBUHEuOZcibaGICZ/D0DJLORkrrgbgbFfX0VrH6kyHGB05drCcL0XQRkdNOaW6/nZa76bfgO/dz2cIuNEWEo8kGzixDiqZLMHSASC7dSrty/Y5BOwKPa0CCfTBe32/rrlbn/hLjNzly/d7Mq4hmCqSDWuTiMeHeE6PWd+qHwhxSw+bUc9+Er11zIriIigbQoxvqgPR6kb4Pht4m/7K2pOcFr8fUt3FYNQLapZ7hfy0csbKaDWtHYBRiCNsDZYmtjY2NHpQA9YmtvZXNXOvZNvbWNrNsbGys7OxnzbGfbTvX1trO1ma2pR24Z66tjb2dla090JBY21oBNDKIdgTusWBfZyCsg+Ryud0Wd4sgoNIYEQ5UI3p/HOD034QjZiGuw/UKktHBrt95LuW08qBugCK3bNp84dJFUKogBb1wpKCwPWif1sl1c18EuG5EIBBcXV2nT58uFAr7V4Ok+/d+27glLunGpECvT4PXfLJ3BbBX3bdmZISbsd/ygLybOzITRvk7fRPr+3Wkl3GI8/B9a0KfXC9lYRu5VIqMd7I03TzA2SzSwyTEZXS4h6neZHdUuPvIQKdhe1aNCnE1D3Uz9ncYGeUxLMJ1hO/ic4nX/8Nw5FlH+tDcuXOHDx8OY4729va2tjZYGkZGRkuWLOkvGRqNZmFhAZy5PQvgDPfANQCNahr3w/c5REQWsy6bihycaoubMQ/xFfm0uof4ikxSdTap9sD1c0ZGRst8XB6TavK56Nv1uRmEiixGfQ4H9Vt0qNF7Rr+sXpyGLsli1hWyUbnM+kfk6sH457Aa80jIKXNn7jkaXsRBZzHq85kNWYSqPEZ9Dq02i4bMIFdlMetymfVPyDXFLFQ2FZlFQSBFlMf4ykJGQw6ttoCDKuCgHhIrCyh1S5yXj5syPpeIyKQhnzBq04kV306dON915UNMeZWYfBddlMusL2agdh8J+3m+TTYJkUlB5FKQhfT6LAoim16XRavNptY+oSJzaLVPyDWPSTU7ogJ74Yhhmkb/GaTR6f/0fv62P0gwC/PYmnyWImsFFVrfD6Y1lP/fvlXDItxBN9QDfkh8zvn89KF7Vq9LOgUmbgzdZV9nZyig5wJdUI/h66EbgjqhHjWkU3Sr4bYDIxuDyuS5Z//Q6V8JR8ZO+rGAJstitD8hi3JosiyqPIsiyaLKi1ht98mKtDr6Pz/5ZMhIs8dYTiZVkdLY/ADDSW/gFYqgfKbis08+N3r//csliByKNJs6MOXRZA+IkkKuNhcnWL7Wb56jTylL9oTRnkuXZ+CFeUxVOlqQRZbl0uVPKLIn9LYCZucjkiyPqSrj67Koygys6AlF8YiqyCLLnlBkecz2HLryIUH0mCzNY7bnMdsHe++rxudQ27IYygKGcn984ldfT8ynCNLI8iySNLWBvf/CjXPn40EtgftDuMx0EJlMPnb63LWkR2iaFEUVNdHEaJocRREPSCSeAkOXMQTaBrKgpJoUFLp/uPFI63lL63FsIlOMpwurG6kHjl+xnrty3HfTr9xIwdBlTVRJHaEVTZNi6LJ6oqCRLGogCVFUEZ4tQ1EFtQQenqVE4loJ7DY8W3H1bvpPNgsKqzE0rqqO0IpjKmoJPAxj4MQMmEI4EsdUFNVSCUxp2sOCDz8Z9qigFs9payAJG8kSFEVMF3Qev3DLdsEqFLEFR5fWE0UvYdVElaBp0oQbA8GRvjkXSAfaSxK6/ItIt9XxkcUMLJCuFsy8sGTCof4OI/Y5aSAdpAGi74KgCyWZ1of8xh7fUskhgTv10wdwh/lyJNHbQrWgGLUQJIc04Bujb8pGq38nYKjHKH8I1sDVoP/vX6kdsbKabW0NVBr9yc7OZoG9/dw5YPZlto2tlRXAIPPsrOfNs1o+x8rB/udVdlYrbGcusPt5rq3NPKtZP9lazrK1nW1jbWtrO9fWbr6t/Vz9LA+YsxkEjsA4DXh+hztYHZSelzXSe+GI8F7oYBbyb03W9Icy8MQNjEhGbl8ZevoI/DlHJZIcnBx5QkF/OIJqApM1OfnIZ+CIj49PcnJyamrq9u3b+xfNGkcHPBZnu8n1i99WDIt2//7QRpMg51ExXsMj3VYe2VvMJ65NPGYa5Dwm2tskxOWLvStjHl6vbyYzlIJSCootFzTLBbvvnAH6kiivryO9TIOch+xbZRziPDbKG5yGuppEugMwtXf1+BNbPt++zCF4h1KuAPUSHjz6ZPef0Y6IRKKPPvpo2rRpoCn1c2mn0+kmTpz40UcfCQQCMLmp0cAicnZ2HtASFlztG/yaGlFfT/72Mb7qIbUmk1SRSaoakNJxZZnUmgxCWQm3KZNU9ZhRm0up/XWdq9F7RuFnDmZTkY9J1cXshkJOQxKqIAVbcijhtNF7RjPmWWYQKjLp1RmEske06sf0mgGZZ5Kq0oiVZ1KuvD/s/x5jyh9Sqh+Qq55Qqx+TK+/jy5JQBWUi4gNS5SMa4i666DEdmUmtySRU3kUXpZMq0wjlAK8Qq9NxZfcIZQ+J4HRD0I7PRg4pZTalk6oSG/MrhMQhI4Zsjw24iy56QK7KpFY9wJc+oSIS63I/HPbZqfTrgCGpKp+OfESuTCNWPKbUPCJXZ5CrHlNqHhIr04kV26L2hUfqTYP1vYyhAgBFnb5nOfTozrRD2zxuHuErpXCPBnqknp67iKIvgp1GxnirNV29fo67IUVPV3TZ/a8D3H5LOQ/6L72+rbfb6l+5+4XhNwI4o4OwHPrZogfrk08viQ8PSruc0ljW2tXWewP4gxtXv4f/YPCvhCNjJk3LoUgzqW0PCYJMivwRpe0RSfaQAqZO0qkd59ILP/74419WOpVy1elEWT5HW9Ssyia1PWZrr5Y2vmf0vtF7/7xRgXpEFD4kywakbKo0jaTIpLan15A+MB4Xn17whCJLpyof05QZRHkmtS2lSVDM0WSRZRkk6UOKMg0DkpFJVaTixA8Isjy2JofdlUaWZ+DFaXhRBkn6hN72iKbMIMsyqYoHJPmAL/0TkRkkaQZJmooTl1LF/xhqEns97QGlLZMoTaxlRp+/cfZCLxx5WmJ6OHL01Pkrtx/BQEE/ZssayaIBqRLNRuKENZjWRrKsVQL5+fkbvfeP0MhjOFobmiytauIQGAqOsCczr3rUmAlmY8blVuAJ7DYYkTRRJUgcr47QCnAJqRXDkDaQBQ0kIZomr2pqITV3VGNY02zmHTh1kdLcXo8T1OIFNRgegd2GxHMHTMxLIuuJIkKzqpHI27UvctJUazRFhKLJ6okiNFleWscmsNsQaNbcRQ5BEUepnPZG8qD5bSAJG0jiRrLowrXUy9du99eOwDI0tIt7qPIfj+2YExfYq/PQQCpNVyfUg5fzx+1f/03s+g59w+ns0YKdgiAoBVc1KXrDqmv7STK+Xh+u/9HjfX0je1pEz4R6gEMprkqaUlu49fYSjGjYAAAgAElEQVSJledDNyWdPF2aTpG1winpRSR6gALa/p843gQcsbK2t7a1sZ9jvXiutcM8q3ULZu1aOiNkxfSDq386unLqgaWzD/0yMXTBBL+FM7bO+WGF/ez5s2bZ2ljNtrOabWdjZ2M7x9re3tbOGlicDGw7YkAhMC7RqLs8w3ab7HOCZ1hgGxFYTWIaCuZZ/rjVCHwn/AhsPtJfuTIy3GPG2tWdXcBy719wNDQ0FCxZAF8EQDui1WoTk+ghAT1CCejnDeVu5OXlBRfc1KlTDWtJUCjUgvm/VKLqxvou+yrU1SLKy2yf45cBa0ZEug8JWH27ruB2XcFof5ClIQGrPw9YPfPIdr6u/WRhquXh7R/sWPRz7KYcPPIhGfl5qOMX4c6f7FhiHuo2+cS2UeHuX/y27Ktgx69iPYzDXL6OWTvitxXfHdwwNMBx4haH/KoyOOlw9fqrJ2v6m7IiEAgjI6MFCxa8WIcXL1783nvvIRCI/pcKCgomTJjQP+apKWs/ODJ60jcZ6NL7pLL7+KI0QumAlEGuSCWUJKFzM4glt+qy7pMq7jcUWUwd/94XH1wrTMukVt1CPM7Al6YTy1IJJf8a1KdYTTd638h1h282HXEfX3IPnfeAVJqGKxyQeRqh9C6mxHmb9/QFllkURCI6P51cnoorzCADbhnkiifU6utVD7PpiGxW7V1s4X1S2b2mgmxOXTKhOINWldiY+4RanUmquI8vyWXWppHKYq+f/sziq7MPb+awgeLkXFbi+5/983zGzSx27a2G7FwG8hGpIgVTmEoomWIzw2n72nRM6QNKRTquJAVXdI9QkkEoSyOUphJK0oll9/DFqfiyLVF7DXCk10pDBwHViL4Sk0Tcr2N8t6TE0UQ80Gn1QF1aDajTWii9rmx0sPv3BzYZ8Cvc2UEQtDf90phgjzuoUhjQgPlpvaqlf3k9Dfd9lD3AVP8aH24a6j40wPGTncuH73OcEOazIzkOyaeDqghrhp8+9iqhvxKOmE/86QlJep+suI8TPiDJ00iKdKIslSRPQfMTm0Su24ONjN7fGnkig95xo4GbSVEnkuTpREkGgb8l8tCHH3681NErCcm8j5WkEaQD0gOcIJOhvVPHjbuXY/TZiEKqJAktTCMp0gjS+yTZA0pbOl5awOy8WUlLJ4jvEQGTdKLsvh555DPaUxuar5fh82jyJ7SOLLoqFSdOxYnTKYr7RHkqQZaEFQ340j8ReR8vScOLHlDVd+uaF7v5zFzmlsvSpOIkN5HMiHPX++BIbz2AexgymXzk5LlLNx/WE0W1eAAC6vDSOoJwQGqkSqlcXQ1aWIeXoomSn36yMjL6Z0k5tpHY3kCUI3DCsoZmDF1BZEgnT5tl9L5R5NFrNRgelqFEYPkoCtBDwFRLbG0gCeuJAhRFWkcQV6O5WKbs7JW7pt9Moba01aBaUERpA0naQAKqGpCkQdIzWDwCK0DTO+pwzQuWrFnlsK4ex0fRZEicsJEgwTI7SurYxOa2i9fTzCwmNeJBwgbjU0cQ1uJBms9dSbl09ZYBjsCiA5ui6eE5Vy72vHHEIsyLIxHA0yWG8Y/W2vJ1oPvoQL3fEXgiXt+IuiAor7Fm2F6H2Jwk0Mz7WTa8rFFpeopJDRtTz0w5vPnLvauGBKw2CXebeGDDmiuxBYQGWEXaa8D+b3w2/Ptb6A2YhczMTEvLWc9pR4AxiL3t9FlW82xnuS3+ee+a6cddp9/0+jHH54eKDRPLt0yt3jCh2HN61epvs5wm3XGzSlo24cQv03fMmu5p/fMiuxlW9rNn2Vpa2VjbWoPpnpfAkd7xVK9vJlDI4zyXjAwHXtRH6fUiYBmK3o4VnrV5VTgCQxDYiBW2ioU5Dw11mbTT9XpqMtyTyyTSBb8uYdHooLxBgiBXtzMhAT0cbntfBIg0glcEdXd3h4SEZGZmwtIMDAwszM3zOxRhtn2V2aH1FuEeX+5aYX7I1yTEZVLMOmwbzy0+6p97fh0XvXZ4qLN5rPfl6qzzRenT9m/6Ktjxixi3L4IdTuXfK2NiTYKcP9u7YtahbT43j/z2IH598sm5R3daBLl+HuZkGgx2tzH1dzQPcB4W5ma+fXV0wmm40+8Vn766/0Xaka1btx4/ftxQdZKTkz/++OPly5cbYuBAT0/PypUrP/zww8TExP6XtFrtTz/9lJ2d3T+yN9wHR1AolNmkr+83FScTilNwBXex+QNSYmP2HXROMi4/g1yWRipJp1ddLbj/4dCPh000v9dUlEqruIsvSMTkJhIKHjGqjt1LMPr0nzMX2hxNvZROLk/B5KfiCu/iC5Ibswdkfhebn4wuGjf9+137g5LQ+bfQOQ9IpbcbH6eSCu8TS5Pqcw6mnD9093z4tWM5dMTN+qx75LLExvxH5OoTmTcKm5tuo/LvE8rPZyUevXXuSsX9DHb1vaYCO+fFDjt9Lpek3654tHiz0wKvlan1egTTlPuQVJqKK9RntnBDkJ/5lHH36wtSSKW3m7KT0LkphMJUTP49bEESNi8FV5CEKUjGFm+K2B0WEQpE16cPAyoQvbveLqgn+vHtcWHeuaQGGHPANnNaCFJC3YlNZUP9Hb4IdIRBTJ85Hegmm9UKm+O7l54LlXf3rarRN4ABCqsPqRTRMb/Eh/7Tf+Un/qtHh3p+H7thZJTXpwFrTAJcdqVf5HTK4X5zYA6/G/tXwhHT76dlEqUpBPldNP8eXnqPqEjBSZLxigc0VSpOMv4n6w8/+vRibsN9RlcyTpzYJLmJlT6iS47ceTD8m0lDx064klOfy4ZuNwnvYsUDUkqT4D5Zk9TAd/MLmmC7MAMvTMTKUnGSFIwwGSO6R5Sl42W3KmjBlx/fxwmTcaJMuvp2Iz+DJL1Xz9p9/Orkeau+nj53hc+O+GLiI0pbGkF6p4GbjBElYUV38RJAg7z3VeOTceI0DD+d2n2hnBlwNO6z0d9m4iXJOOm1KkZ4nEE7Ahsd6PtDoB2hHj4Rd/FGZi1egMDyEVg+EitG4oQDUm4VqY4grkRxCezOJwWNnw81NjEfU9fEQ2AkCIwIw2ivwQpqUDxEA+vbCT9+PuSTsEOXS+uY9UQRAstvJEtgYFHV1FJLENdgBbV4UQNJWtXEqyeKapqYc3918t4cgCIKy5AsDLlNr4ORFCPpCKxgwMS8JBIgKqKiBEE0tRgfc+BCLYbfSJVWNwkq69lYZmc5urWikYNEMb80Hnvs7K2qppbBWbUiQDoFcZfuXbr61HYE7px7pwB00NXq3GlHdxwvuA83gk7DpEk3RG5t/jrKZ9zhTeARbe9inPYejVp/j/OlWMsjvzXxmfCkKjxEvaQltXZIfS4f+NBvsdHOxcODncbF+IwKd/9qz6r3ti1yPB+J4TLhsaMXkbykvb/kHX+ldgSGIwaTEXiJjb29rdP8GbtWTD+/9sdHflNr/Kdh/acx9v3I2zOV5f8ze/ck8paZLK8piM1zsnauRrpNLV409c7cyWfmTN1nP83Z7ue5NjP1lrCW9taDmrICweoJaIx6oMvJt403/TosDPgyhQnGH/3Dr4RIDMtqDJgGZjU8xHVsuLd30E5IB3V0qiAddO7C+fDwcBiONDU1bdx0LTwY4rZ2PgNHQCJ7wEcDBoOBLTQlEsn06dN7ujRO/tu+i1n/ceAa4GUk3O3zMCeLINcVZ4NrhXSLPY5Dj64dFwCyNH7/Or5cNCFm3UfhDqPD3CdF+Hzhv2pvekIOue6bcC/LmM0ZjHqskFXUWE2WtDSImDuTzljscxoT7PZZiMPoSE/jnStHxniP8ndxDfL7T8KREydOGGrm6dOnjYyMPD09X3Q0snr1aiMjo+fsXiEI2rNnz65duwwcngb6wRHTiWNSUUVJeDAAJ6FzB6QUbG4yMf8OLicR9SQRk3utISvy2kmj94yWea95SCi7iHiYRgK6kzvonPNZN42/GT5+5g9H78Q/YdbdwRcmY/LuYPOuND1KJRQMyDwJnXuzNtvoE6OY+MOJuMKbmJz7hIKb9Zl3SQV3ULn7Lh3wCtsWfeXY0MlmZzKvp+KKb6Hz7uPLfML83hv5yan0a5k0xK363Jkr5hi9b3Q4I+EKJisJX5RanRNwNnbVHt9VO9dGXDx8D1eaSiy9inyUgiu4g865XPswhVSchM4Njztk9H/vPagtuIXNv9mUfY9YlIjJvYvKSW4CeUnC5t1G5Sai89eF7QwND4HnQWB9GMAlOmAMwpaLpkVudLt+CHyHaSB460hQQ/THzcrcMZFrzQ+sA2f6JWTg8d61ZFBgxtWpB7bkkhvhyemXd3ZKnSYy8+aIPQ7Ggc5Tw9db7HP5PMzFPMDV/MC6f+78dXr05jwKCryln1IRTsMf/f0r4cjIb6dm4MVJOHkSip+Mk97FKZKwkjsY6Y3G1sRa5v99Odx4hEkGVpTQIEglipPQ4tQGgVfkMfOplouc1l0rQ2fzoeOF9FS6PAktHJBSMeIbDbJsasfon6ydduxLqKQmk9V3Ua0pGOGNBm4iRpzSJIxNLHIKPH0P05qEF11F8tJIinso3q9bQj6zmLJ4lYe714avhpm4RV+6XE5NJ8qSUK1JaOHtptYkLIALA770T0QmYiX3m5qvNUrT2ND22FOfjRp3o5x0l6C8UkUPO3v97AWD3xFQgeAxFYYjCdcf6mdheDWYVgRGVINpHZDqyeI6rLAYSccy2hOuP/zgk8/nLlxS29RaixGUN7Cr0c3VaH49VpJdgPrHPz79+OMPn5Rgm6iyajS3qqkFgeWX1bNg0FNLkFY28QAiwUlKa5txNEVhFe79z0bculdYXsvGkNsqalvqiaKqJk4NhldPkA2YmJdE1uJkZfWtt+/nG733UX5RE4aiqGhqrkEL0WRpTgUVy9YW1tAxpNbVDj6LV3jr3zJwfhFYARAIln/2Ykp/OALqfL/B3vvWsVFR3rruXnWmoQlDPRBXJR++x+GrQCdYj9L7ZQC3Xx1UzMAO3+d4EZEL9/nPch2gYV1pLJgc6fvh7l/HHPT9JtJ7ZIDj8AAH8zD34eHuIwKcj1Y+BG/RT9L06jIH4PF7UX8xHHnOmhXWjux3nXFrwzRkwA+8/VNFR6e37J/FDJnN2GPJDLBh7/0Bt9WK4jOzcI/T3YgtdetnNiyeVL9sctHCKTdtfgye/ZOz1aw5NpY2dtbAdGTwyRog4R4dUBJrdVuC91pEeI+I9ITX1BiwyOhgMJT3j/yDoGRYxFMbWBiRwFM/Y6N9P9qzwic6QKVs64YgsMceBM2ynM1mMyEdtHjx4uS7zLAgCPbKathCFaysMRzz5s0TiUTx8fGHDoE936d4//pNjM+IcNexUd6mwS5fBqz5lz/4OzUFNytzhwW7jAn3HhbkPCTEOaW+NK44Y0S0x4g9q0eFun0R7jxqr0NOKz4w/eK30T4puKoHyFLTCM/R4V7fR/iylWKWuHVKzEbgmCTSY2SYq0mIi1m0p1mA08yNDnCXD3cWcM3+i7QjGzZsOHnypCHjkZGRH3zwwYvaEQiC1qxZY2RkdODAAcPNcIDD4QwZMkSvwwQRBhyjN74EbQ5V2/jdz1MSKlIv1KfdxuTeQGUNSP9P3V9AN5W8/+N40MV2cXcWWWwp1L3Y4lYoNZwipVCX1N29TdKkqbtLKknjnqaROpR6mzTelmK7ywL5fW8CXd67sN/v+/8/+znnM2dOO3dy79w7c+d55nWfeSSvrR7ZgcpsrijuQMPaawu6sL9cPg0Czbzped8zJy6iHBGcFfcoxF3TxMDw9FHbWLeM9gY4rzaztT6/symTV5fRUlPQhs7h1mW11AI1rfXw5qqSp9h0bnUat6qkG+OJCP9u1ux4UlEepzKbg8pqQ6e3o/I6sLGYXNsn1zN5DQhSDWgm6E7gEyS3Oq+zMe8Z4aDGvtU/bUqjV5c9JSQzS1yhwaBZIFeofzq9oqALn9XWkNvZmM6tzmqry+lAF3Q0ZnFrMvm1Ge0N2e2N+a2NOdy67NaGWHTWdwsX+GXF5/Y2ZbTU5LY2ZLfVZbWhM9obstrqstvqMvi1MGbFNdd7ISEhfzK4aU73UdnwlLPJy7rpGe/VR0AZ7kvxyUelsppHm+F0eqPftd8+Am4Q1LGtP72jPwCt/g1eVn64IjVAmW71Ly9RfSh8odjve/t7x3NbAgCtbcCJsIfFRl/g22tZoNVSL3PXUhhAzJ+3db7ayD9VqqIorfWxXutjDbDtf36aT74B1DGOgY5/eP+uxde8xfcTdSiV71QMF1C/nVCMb969J6N1IqNVkdcuz+RP5HDFWa3jWa3j2W0THukVIBDoZ52jxx/6XnL0PHHXRevk5eWb95pdskrBtVaJlBDKYEGHIrvrdTZXms1XZLbJMzvlyPbxDP5kdvvLwo7JAu5YUet4Bm88iyf94fv5172TM1rkOR3j2XwJlCfK40jz+K8y2KIjd5zK+MIs7kQeV5jd/ja7VeAUi/jlhmdsU2cuX17EEUXUc5euW5vOEGd0ybPZQ3nPfoV1vih99juCN5bfJs5oVWRwxsp6p5B8eRZHVtj1EsISZrQqsjsms9sm1H1B8iTIFlFOqxzKnih8PongiEp63qc0C3O7ZVlt0qw2eQZXkMF/VdY5lcEcghL7QTNAYWWkHP5kHPE5ODEzIyMLYMafXpJqt0/54dnzp+ExSanplVSumNYqZXVK6W0SRrv4q5nZJmV3y9HU4c6h382tb86cPSs0GsrqlFPbZJynL8lsGffpFI7G1zbUn7twcSykkNkhI7aMUnhjzA4ZlS+itYoZ7VIKb4zWKmZ3yykcYefQ71jmcFvfJCK7fPZ3iyi8MX7PKypXrN4PwtF6259PVDWybz30vWbnlJJeyOv5Ddcy1PJU2MydTMspjYcUtT6bIDcr2p69tr3p4OoZ0tolqSe1Y0kd3f0T5ra3DI+dwRB6W7vfEJkD7c9fMNvktA4xlTvG65U3sUejEwvnLfq+o2fiq51ltItVDyyn8MYSYUWIrLyJCXUIvU9YRL32iyTiFd6W3lUZatUrtUY5MMYqSumWjC7zs1rmeeWNGiioJr4amqjewwedkPsnc4OVfwDcEgAr/wj3TyZ7bvG2Xup9ZZ235Waw1bog28X+gIPNH72vfe9vaRLlBEARlV4t8JY/v+l/osq///YR8Gq/wu2yugV1g38/64uaPyP6dqR5Ua/v+PgOWHT/nlAolJ7uIQMjXcAxq5GpnuERAyPDW6cPQW9qMv01ngUdVITrTMXqS2MMhkL1Br0PCtz2il20un0Oiu7varXRzwn1yHW+2WWu137hQMe5PdwLB+m/aNRp74rYv+ui5gFDI93jxgZGxnqGhoaGujompgb+oYGjwwKV2AnQ1vk0IMC/D8ce2QLBW/57g97/R3QyfdoGf5ulHpe2WBxWv1f1M6DR6Bs3rtWh0A8ePKDS/nhop3jx6j8+8/4DjpSVldnb25uYmPwfJ60fP77fZXNipbs54G4EfHWlu/nG4OurvK4kkWuKWohLXC6uDr35vetFw/DHXZOiXUF31rua/xT3cEmA5Qq3S3cQYfjBthNRzgt8zMfk0inlH3tC7633sVnmZ1XcBng3gdDr/wJHVntc1rh9XvkRMIdQP/q/Ckfs7OwSEhKm501YWBgIBDp//vx0zXTB3NwcBAL9xQwHkFW+f3/+/PnMzMzpMxUKhUgkmpx6Mf5yYmxsjIIn79Lan8Otg7dWIzm1SF7N1zO3Gt5andlSmdVSDe+sg9PLf9LcC5o5626Yk12yz/0kn9thjifsrX4y0jxtc7Gml57JqU1vrsrgorJaURn82vTWWhivCsKpyOLWpHOq4C2VSB5QyG6vz+DXptAKH0R5zJ8zO4VVmddak82rzeLXwziV6dzaG+HO/jkxRX2Ua572M+bO9M2LR7ahYPTiRFLpyjVLD5wwAKADvxbRgUrG5K/dvsGvLCG/vQHeXJXKKEG2oSDMUji7IhsARqgMXk0GH+ggcHduNQBNeDXJpELQ3JlOSYGIjtr05ooMfh2CW4nkoaAtVXBedQavGsGvyWytv+fv5O3tLRJJFAqFXC6fmnwxMTEhk8kEY0Iormpr0C1aF39MLn35YkoqlcoUcoVCIZNI5ZMTSU3l24PvmMa68AZ7xsSiXsGwXC6XSqVTb16Pv5pi9XdrRjx6UgKRDI3KXkyMv5oa/0ZSSKStg881Ix4t9bXc5GejjqwEyIGDrNd4XlkfaLvE89Kt7JjnEsHLiUmZSPyNZr5ZPTExMS5XiCTinZH3d0beF0nE43IFUPmNJJfKhsYELxUKxYsphVwkl02KxgStQZatQZYS8ZhMOiGTCiWK8ZcKhVAm6Xveu2HXbiR/PJ0ny2mVI/njmS3iDN44kj8Obxkzf+wLAs28H5ScQhnIZg+lswVQUs+xW467dIxtvKLTeQpEszC3TZHGH4exhWkMEZIry2iVIVuESPYIrHkklT0G5ctzeArgTI7ou+/m3AlBpPMU6W0KJE+UzZcA4IA1GlBOvh4CQbKG0/jjcL4kgyfP4o2cd48MLWeUDbzL7p6EMUbSeTKDs1eRnElY+2QaV5Hd9RZK7Y6rYuV1jSOaRxH8CThHksEXw1RYJIsjye2aQvLHM1oVcI4EwhAgWiT53S8Knk5ltsqKOl9CiW3hVfTSp7/C+bKsDklayxicp0C2jiF5L3P542ns0TT6CAgE8slBI7mKFMaweywiKjpWLBodn5wARl4he/V6Ui6XMpsZ4TFJyLwGVruCwhNT+SISR0BrBVbiv2dyi4DMFZJaJKx2mY7x0YWLl8AyyvDNwyT2KLVliMkXFFRQjI5a7NEwSk4vpbaOqpCNlNUpZ3XKaa1i9SGVL6K3SWitYix9gN09SWwRUrij7j4RG7fsoLfJcIxhOl+KZ4400fq7ht5U1LMvWD7GUp85uPgbHjmLwvWyeyZJLf2NuOfbdh84fOpqE/0pjSstrmbOWrBs9frteFrn8s37HVxDIuJzNI1PufhGdva+prIFLd3SJtognS+ltkvILYLmbhGeK4Iia79buAhP7fl7T6dr6G0yepskNb0sJQ3Z0/P05csXb9/+9mJi8u3rN2NSybhcweps1Ul2jcOVD0iEUqlUIZHKJsbFcplwHJjD+Fa2ZpSDcbRT98iAUCgUyiSTUy8kCrlMJBaJREMSgSUy5ES6n2BocGpqanJ8Yko+LpJJv0EW46Yp7ms8rwCfxIE2awNV37FegGHEBg/Lhb4WBhGPe0WjU+MTEpn09evX43LFt9r5Vr1MJhOPibZH3d8VcV8oGhuXygRSsVQs+db5k5NTinHJ5IvXColYJJM+Rfqy7fYN9fWMj4+rOZhCAZC5VAr0qLy83EBf19jUwMDUUF8f8Bpy9bRWnN1BaoD2aKqOMFFLHH1QHqU5EaM9HqUjDtQb8dCVO2kKvHSF9/c13z+aH+FZ+Ni6x0K/49yejosavDMHW45qUHT3lBza6a+1/6Kelq4h4L/EyMT4sLHJ8WNm3oG+fH7blHxSKhsDhmLqxYRiXCAQjI0JdG5eAFyluwOShX81r/Aw3xZxx8zHrr2z7YViHFglgXVdeeSI2c0bd6uqquobxvOzlUOjUx9+A6LjqdN/wJFXr17p6OhYWwMhofsH+/bfOrfRz2alPwCmVrqbbwu9tdLzckhtbptgwCjIfoH7xQWe5rdhYf1y0TKVY/i57ue+e3LSChGMG2rPamna6Gz+fZBlMYdUwqds8bTeFHhjgad5Ngf/UamMxpevBQO+WQETG29AiWSVu/nea6dev375PwNH7t+//yUcgUKhM2bMuHjx4udh+fP/1atXQSAQHK4ym/6zGijFx8dbWqpcICsBY24oFJqRkZGWlpYKh0Ch0OiwqAXrliBY5Wlt1VBWGbyl8qs5raUcwqtI51QmUvPTuxtCSlLnLpm3ZuuG3NY6GKcaya7MaKkKqIGef3Rt9fb1j2I8EK3VUE55Gq8ykVGY2lwGIAN2OYJfk8ouhbBKYOyynKeNMZTctJbydF5VVneDJfje9/Pnwfh1GW0VCE5VektNSnMJhF35MNYD3lqD4KO2/7xz009bool5aW3VGS2VnpkxoNkgK++Huc/xMbT89GeNBfzGA0d1ExhFWV31CfSCZFZxejsK0VaX3loL51SkcMqhLUDLCE4VhFma2lyWzq2GNZfDOJWgmaDbQc4pzUVwdkUavzqluQTBqUluLk3jVsE5FansUiirwvzRtZMnT6alIaBQaBoUlgaFIZDpGVmZyWlQ20jwD56X9/ve1g61PxBot9vv1oFAO40AO+Bv6AON8Icz3M/94HrRLM51d8BtzdCHx6JcNALsDnrd1ADfMolwXOx1Rdv/HgKBQKTBU6EQ2DcSHAKNQ8K2OFvMA5uv97HaDLYCQInnpcXel7f62W4Pv7PYy/x4qCMkMz0zDZGelfmNZr5ZnZaWlhAXn1eQv/DxmYWPz+QV5CfExaelpX3rAiQiPRGampmWhsjMgqelQFLhBfm55dc0K65rFRbkQVLhQCUckQ6BQJEIaCpk/c6f0rgKaIs0nSeBceSIZiGCo4BxZKlswfb9RqBZ8/zLKHm9ypz2KWjHVHrHmyg0Z9nmHds0jGMa25F8OZynSGyRpXLFed2vU5tlSUwZsu1FbtcknC9J4kgT+VMwjgzGk0OZItAM0KP4XHjrRCpXBmeLM9iijO5XyYy+ix6RfgWEBNpoWqsshSuEtYzeTy0DFxHK+n9NoAxmPp1K5kkRnBdGV24h2bIk1hiy820E+pm+xa0dZpdgzQIoR5zGm4TxFKnMEQhHlslRuGc0ZLQqIGwJnCNDcOUQlhDCEma1jkMYAs9ixvWQjANnrmqcux6NaktlCmBcEYQtSWt9kdY+lsZ5AWWKIDwJnCMBgUBPUirSWqRJtOEb4Egra9usTAQMrhp2aCoCkQaDQcIjI+48eJIALaHzZGSuiMIbI3HGyFzhV3Nzx9d854gAACAASURBVDiZK+Q/f4PCts9duBg0Y46Da7idc9Qjp/DzFvf2aZucuGATnZSPpfS1PH2B44ximcMUnpjMFeGbR/HNoyTOGIUnpvAAMQyVLyKwhslcEb1VjmX0nbpw3cD4CL1NhqYNNHeMc7pfULliHGMQHIqoRnO7+99etrwDmrWoBMVrH/q9kdpTh24DzQA5uIdSuIOMNgW3S/7A0XPh4nUs/vBdJ/9fLtywd4lKzapv7pTye6bqiF2ElgFez2tyyxilTUxsFpB5w+Q2WXElbe6ChRl5mK92lswVUvkSKk9K5orC47IePHaOjY1OSUlKSYFAUyFqLheTmvQkIXTekzMGIY+0fO5ohD444H9XM/iBbvDDn0Pv7/O7bRrpBHI6Ndf59JFQh71etofCHxhFOGiF3tcMvHsw2O5Y2OMdQTeXO55LzkqDIhFZ6chMRDoSkf4tutDwvrHGy2JTyI31PlbzXc6u8AHklyu9LbYE35rneWmXi1VSdjocAoVBoIg0eDoc8a12vlUPhUIL8wsWu11a5WGRlZOdkpAIz8qAw75Jp6mp0FRIIjIjJy01JTM3B+VlWXVqaVFedno60AUIBIJEIjMzM9PS0goKChwdHQ309E3MjPVMjPQMdC8d1w67eYgcoDEO032VbTSF1JKnHpTHaimidUbCdBlu+uW3jTKu6adb6yMv6SCdr0NiglNszrEv6HZd0Hh64VDXLxo8Ew2m0QGqwZ5K7V1gzX3HdQFzGz0jYz09PW0tjau2FikpKQXZ+XA4DA6HIzIzkEgkBAIpKipYd1RTvez+q1hE3fhCt/Mg7c1rN63bsGrND4u+nwUCzZoze/7870Cg2TpAAGKn44fZ23ZoLfpuIWgG6FMKDw+Pi4uLjY2Nj4/PyspasmTJlStXMjMzIbDUlad11vtZL1FJR9Z4AVHx1vtYHQy81yIfLuFTDMIcdkTcCyWWVfKoS72BEHo73C0DqjPowmfFT+mGsY6Lnc+pFI5stQLubQi+uSTA+me/O/yxgeFJ2eFED3VYYPVzrw60WeluvsvmhGJC/j8DRx48ePCl7ggKhZozZ87p06cBDPdxGqsp/8+ey4ULF0AgUE1NDXCgStNGNC4uLu7u7urKqampnJycqqqq4uLivOL8goICSGLq4s0rkezKtE4AQKSyS7+aoZzSeHYxlFcWQUSmdzfcDXEFzQKdsr2QzC6KYxTA2GWZ3ShkD9o7PRo0F7TXeH8ipziJWwJvr0psLoZwytPbahLoBdDmUkhbBay1IoGel8opiWEW5HY1JFML4pmFF12uLf5hUSq/JplTmMQqhjJLU5qLIJzyJExWWl8juCD2+8ULTt4yj2cXp3JK4PyqK463Qd+B/IoSkE8bQ0iZsM5aOLXM+NrpeHphUnMhrK0svaM6mpybyCyNZxbFswsTWkoSm4sTGYUwdlkquzSJXQLllSXT85EddaCZoGveD+JpuXBOBaStKoFVAONWJLGAx4aorkpuLjV/csPc/GJpaXl+fn5ZSWleTm5ufl5RWSk8N8s62nuu6/ktntbb/G8s97JYDr660e/aOm/rVb7Wq8GWuwNuz3E5t9T54oGQ+8vczNeCrbZ52XzvcmGD/7VN3jb7gu2+87q00/dGXnlJWXZ+SVFxwTdSeWlZXknRyQiXpf7Wi73Mt4fe3hhg+4Pr+R/9rq32uDzP4/xaH8tHkIiSgsKc9AxkQe43mvlmdUlJSW52Tn1jw0pPi5WeFvWNDbnZOSUlJd+6oLiwKLe4sCQvL6egMDcHmZ2VX1VZXn1Lt+a2XnVVRU52QXFRbnZ+QUFWVm5xYTocsX7nHkiLIrlFAuWIk9kyCEuYypansCVJzOEF81at3rQznPQsvf23ZNJwJG0ggSEsGn2/cNmaBd+vCKpgpLQqEpji+GZZMk8KaxlKpg8l04QJdFEcbSSFMZrOHktnCVM4UihXnkQVgGbMto/LgbWOxzXL0polUIY0hjOVxh42snbI4chTeJOQFmE6T5LMElz0gsFZIzCuJIUmSGCLI1kCBE1qZHUfwZUnMkYynv0ObZF5IctdkHXwzldQviKpWZrSIoewRqG8iXhcv9F151hCTxJLlMQSwXnjaVx5MnMMwpZEYp/fhtR652J/PnJm7+HzUMpgdtdrOF+WxBIlsOUprUIoeyKeOprUpoCwRDNAM+/GFkLYkihC/w1w9K3b90pLCvLz8wsLCwsL8goK8oqKCpJTU+47uMSnllI5ElKLiMwVEVuE38oE1mgN7hm9VZ4ALZ49/3vjY+cJ9MEmWj+O/LSB0HbT3m3e4tVu3tG9Ix9riH1EvhiQfPDE+ObRJsYQgS1QN0trleKbRwlsAYUjaqIPM9oURPbQQd3j5y5aYuiD9FY5mSPGMUdJzWMo/LMrN7wIrGE0seenvVq79mjiqP30jvFawrPImEwQCITMx1I4QjxL3EQbbCLx9h081oB/SuaOMtqEtbinlBYxljGCoQ+yOuU41hCOLSAwBWS+hMAUYJn9tI5JNKF7zvwFgeHIb/UXxxohssfIXFFMcr4b2C8zE1lUVFBUVFJcWJRXVFhTVpFXVOiKjJ/penab7/UNXlZrvK1WeVis8rDY4GqxxstyjcdV3cjHcz0vznU/dzDYboXbpVVeV9a5AT4zV7qbr/G+utb98jK/q0udzmVXFSOzs7IzszLzc4uzvklf9yAhq8EW3/tc3uF3DQjt5m+zOeDaEvDlxd4WK8BXL8d4FZSVFOXlFxUV5WbnlJWVfYu+vlWfn59fXVm1yPn8SvcrpeVluZlZRRVlBXkAJ/9qys8vzMvPKi6pyM/OKi4vq/e2rjixuKwImGA5OTnZ2dlFRUXqckVFhaurq66epqGxgYGh8XEzAw9bvQYfHUGi9luE/qt0k9+y9X/L0BXH6bN99fMctL2uaF09on/8F7PDunonTYxdweDAyJhbh40SDu+vOKPHOXOo0+znDv2DdBNtsokGRXNH/r6d7hr7z5qYmJqaAq7j9bSu37SBpsFKikpzcnLy8/Oz8oBRzcvLq6qqWHvk0EpvC2D8/2XpyFofy00Rtw86WdU1NQD7card9o9KpabmQS9P3/j4eCZLiUxTtnWOvgfi6H1KoKqqqpqamuzs7Orq6vDw8F27du3YsSM9PT0+MW6R6b71PlbLfCzWeAEu3pe5AR7fl/lZedRlDb0e7xIM1rQxWqXDxE6uc2FqJhuDf8qR/fqigk82inCYZX9sa+Sdta7mgKmCp9X3vldX+lgh8bXyd2/Ca/M2ggGnI0CkPZV0ZFWA9WqPy/tvnHnxAvAtATzcZzuLf0l35MGDB19qp3Z1dYFAIG1t7c/D8uf/n3/+edasWXQ6/S9I5c2bN1u2bGlvb//zVKUS8KIG7JW9f/PmDYfVvO3QTxBGcVxLYRwtP4FV8NWczCmMZOSkcEoiaZlp/Cqzq6dBs0COiT6JnMIkbkkquzCSlhnLKXFKCADNBGke1oqnZScychOY+ZGkjChKVjyzMK65CNpeHUxKj2DmJrOLEuh5kbRsRHtVEiU3jJxxEXzrh+/nxzKLYpuzY1n5iYz8pOb8FE4JhFEY315h5XF71oKZT9KCU7mlSfScCGrOXr0DizYsjifmxrMLY1n5ybxyv4KYy763U1qKgXOaCwMbUu3TfLzyo3xK4jJ41Sns0mReeRQlB0BC7GLgFpzCREYuhFMOmg267v8whpqZyi5Obi2LZmamtBSrByGekRPNyI1nFl3zfhAcHPiHav8YGEnV23+vVL59/w7JwqwPulHKItD7OvHP+JgeHr2vk9jTiu1txXZzXUqgu8PunUwCV3Ap9V3shqccTGdLw3NeTVczrac9h9KoEf7QKicK2ABWGxl++Z6+KAOWhr+/q+LTTCBecxx+We595Qew+Y6gm9vD78x3OTvP+cz13KhBmQjYHQda+v8pffj49rdft4fbbQ+3e/vbr4BLon9IX9MdeRZ183nM7Q/vVTo0X+iOyCTSNTv2p7SMx7HESWxRXLMsiSFMapbHM0SOyKrZoO8MztpEsccg3CkoTQhtFadx5Qks4azZ8+Yv+MG/ujm2bTyWqTqfKQymj2R0vUHwX8Qx5ckdv8VzXoYTRuOowgS2PLlZHEcemzF/0TXfxNQWaRRTDmXJoJzxQLIEzhIcOn8X0SKL478IIfbGkkedc9B28eWRxIFw+lgsTRLXLIPxxRYu0W45DeFMRRxLnMCWhmD70ppFBUKlD3YwjiWOoQrimPIUxnAKbzIO27fN6FQEpjOlRR5DFSQwAYwVxxCktkhTW6RB6KfJ1GHtU1d+MjkTT+xP5k4kMIQAomIpYpuFKUx5LGUsoXUyrKF7BmimXWJ1arMkmjzknpiTjsxWfngHbFOr5piq8KGzuysiJjUVUU1kibAMAZ4lwDJG8Cyg8PdM5UgIHAmlRWx74wloxmwH1xBm+ySVO4anDdD4ChpfqGd0YsXqLanIGkIzgGkoXAmhWdhEH8azBGqQgaYOYhkjOOZoA6WP2CxopAwQ2WICa3j3AVMLq5uEZiGeJUBTBylcGYEp6Oz/HZaDI7BGk6Dlc+Yt9fKOIrcIMEwBiS3UMzz9ww8/YCiDOKaQ0fG6Fvu8Dsu7ftsHTwWADpo81NI12UQbxLMEVJ4cyxDQW8ebWCM4+giRKyIwxxqpvdT2FyTGwJz5C1y94/7eU3WN6snHCM3CRFgJDJkrEgmnR2/q/W9q7UhKT9uBuCe38+Kwgx3Ebh6xpxXf24bv5KB7eJWdzExao070E8NYx4oOWm1vS00XE9PBwvRwMB0sXEdzVRfDLMnNMMH5t48q0/0PSkDt4tuU8VQ+ejTRDfTo2Gp/q60hN7f62Gz0vLrc33KO/Ymz8ADSQOf0gvcPtPXPP318/2Fr+N2fIh+o/Rj9V7ojgpKo9sdaLyfkX70FBoPR0j+kq2dgYmB485x2vpfeIFzvTbbeS6TRa4TRuyzDCZgxxdc4/LqBxUldQyMdDW09Q2MjLS2do6dOufkHePkF6elrnTDcf8/MAHH0ENbo506dgxxDTaLRAcrP29E7f8zYs9vmoPZhXT09I8NTJ3+JiAx59rzn/bsPalajVntQ2az8YXTPYn0goD7yb8ORFR7mawNttl0/MSoWfNJW/qgsqyh/8sShq7Pn3LlzVdVi58ev3/7+bd2R2NjY5OTk8+fPd3R0VFWWb7lkArhPDbm+xvPKBl9rdXC/1WDLdU7mTkWpxOdtQJgcIH4SwF+lH143C3vCmgo1wu8vcj0HGIVH3V/qcWln+L0lLhc3gq3dajPEL8aTyTW7/G8t8bmqhiPrfK3WeF9dpXJ0r/fA4oPKa8r/DBz5Uh3kxYsXixcvXrt27bRoZLowf/78HTt29PUBYYe/TNXV1WrXI9NnfvoVWFABrtfZ3rFu35ZwDCKYmh5FyYqifz1HMzNDqJlxzQWx7JxIQubGPVtnL5ztW5EQQUuPZGTFM7KCSbBQSsaxa2dBM0CGF45GUpDxrNxYRjaMX57MLookZMZR8yKa0jN41QE4RAK9ILoeltRcGEnOjKPmJLeW2UY/mT9vdiAGHs3MiOHkx9KyYhmZ0YzsWEZ2BD1b56Te3OXzo0g50bTMWBIiipH/w/LFe48cSmAVhJIQybziKHLm9TB7+3Q/ABVRsq0i7C8F3Db3v3nW7epPJw/uO34opCYVyi+PoGdHEJEJzNxwWkY0KyuelR3UCAPNBT2IcY9kZACNs/PCqfBYRrZ6HFR3zwwhZlx8YhscGvTnwKrBqOoY9bRlhdPFhu4W4OgzSJ0uwFnorUG3LiFD3nz845MSnOocYPL8oWwR9umG2gehC9Sk+Lt6HfrzNn+WgPNVeCWRjjIIs98RcGOGw/FdIbdnOJ7YFHjNOi+S9JyvvvoLLbw/L/9/KqkebIXHlRUeV9Rz+5+u+hscUSo/UN1OMzzPfSbc/1BlXb19fyJLEUUXRTMFEUxpLH00miGNoo2Z2NybAZpt65sUwpJEkMfCSWMxbFk4ZexuSg0INHPJmvWh2J6ErrdxtJEEmiCSKkzpeONT3HzeOdY2LD2B/DwU0+NcwklonYxhymKogmiadM2Pu4/f9kykC8Pp4wl0SSxLEMGQpDCEe87fv51cEtsiTWp7FcucMLvtHFjVHM6SJj/9EM2aSGBLraIyNC/YxlNHAlnjycwx10LyvdQySz+YP34AwpFGUEXxDFE0SxFN6ougSyFM6U6Do+G4ZwktE+GUsUiaOJYFdCeWKUnmTiS2yOLZcq3TVrtNz0aTh6LZk9F0USxTFMOURVJH4+jSSNpYFEvijMTNX/CDcx4tkSF1r269FwKBwJHKjyrHNdNzCdiPHgiLSo5PLcfSRpvoQhxTiKYOYxmCr+aapqdk3ngjue/ngwbzFn2fXthEaFHUEZ4yWxXlTYOkFtlV6zugGbOcPKMYbYoGfA+WMdJA7sfQhojsMSJ7DMccxTJG0NRBGl+GZYwQmAIiW4xlCBrJfXs0zK5Y3iLzpRjaSAN5kN46XoHubqQM1WKfsTsmLW3sZ8z+vry6GcccxTAFLa2KBd+vMjY+TmkRowjP0XQhqUWUiqzyC0mnccfRjCESQ0xkDNUTn2HpQzSepIk6Uovvryf3Ymmj2GYBgSmuJ/cSuON4av/sefM9/BK/2lkVOBvDs8bQ1MGI+Bxoeg7woagmg/fKT2rdSuWQXKwd9fhBRgzwCzCzPzk0e68q8Eb7Dgbf1w99OKX8/T2wRgAGHirnhh+UgGOhD6bhDifTfADa/KgynfsnqlAqP37AtrOuwAOXepnPdT691v3yWvfLq/2tjCMdM5gYADqooKba7F/1LP/c3Nd+/aj8wfXiUmdVRDc1Gf5fGvpTlbUL4U2y2aZ8DzCJv6fa2lodQ21dPaNTJnrBtw+1pGj+WqH9vlL3dbHxxyIjSZoRztfY38bghJnePk39Q7qGpqbG+nqapodNrt254Qn2cnzkoGNqpG1mcFhP38ZYN9zwEElHo1PnAEN7D3nvDvyPO8t37nXbue/UAQ0NLU0zM7OoyHChaOzTY3zBOZXKD4a3zZe4nF/uevHfhiPr/azX+ltvvmI2NTX57u2vH5XKN69eHztytL29Ve0VDY5of/zwhVQBGENODzNoejVVKBSWlpYDAwN5eXnBwcEBYPChG+dWOgOuVNd6Wax0N98cenM12AIwEAi9+YPP1Q3eNmUtJPnbl9BmdCYTcz8nxjDS4QfX84v8rqwOtt0adGOl26WNoTcWO19Y52sTVpeP6uPFYUo3uFoYJbodyQwA5CJ+VgAc8bJY5XN1q4/Nceebyg+fLQ/+ZemIvb39l3AE8Kv/4MH8+fM7Oj5FRla/y/7+/lmzZjk5OU1v0ExPNZXGQ9r04Z8F4PUDlNHK46/ZsymiCR7OzIpm5IaR07+ag6lpwZSMMHJ6JBPpmh8+c+HczXu2+eMgsYzMUEp6GAUeSIbG0nJ+1Pxp5izQRaeboczMMEamd0NiAjPfqyz6nO+NU+5WO89rXXa0PeJu+YvL1V1H9wVUxgeT0kOI8FB6hmNhxKzZIKfC8HASLIKdFUxIC6fCQ8hpUYyMEGL61gNbVuxcl9xS5otNjKKmB9SnzJgFOnb3UjgzK5gIiWNmeVbEnHG18GtICabDoxoROpZH3BAhyPbqeFr2tcAHi9YuPudiEUnODGfnBeKg0ZT0YBIshAaPoCEcMwJBC2Z4ZIZHcnMCcdAIOjKUDAsnpYWSEGFURBQjI4KVHULKPOtg/ckN2ucRBKamyjlS75TUJMb5Xnnq5EeAZX2STKgnhlJZ3kpb62l5OTMMqAe40SeG+LvqKJBYujPwNravTS1mAwwRv5GA+a+6nfjd64ZOViim4HuXc6u8rhyPdg5tzGeL+4C3qfImCXCabzbzjdbVe3+qO6zztVnna6Pu3TTRfeWyr8ERFvgC2+fS3+HI5PjE8q17YuiyEIowlDoSTBOFk4dDKaIQ4uim3fvnLF7iWcoMZ07EMMTBVEUkczKYLL3gFg8Cgdb+dCCCLIrlTHmV0r2rOaHUMa+CJq2L975b99O6g/qGl6+fvON2KyIzFNcRShEFEfojmyc0Dp/cf/paHHEohDEZRhb64XpjWfJImuRqeLaurf2j1NIY0kg8Q/ST6blk9mgwQ+bf0BOH7bIJRaw7dg1cQgzC9MW0vgAXUM75we6GQTcfNHXKx8WQR0Np0hiGOJSuiCD1+xIlyeyJHfpHArG9oTRxCFUURpdE0KVhVHEwWRBEGg2hCAPIggNHLu0yPh1BGYpseR1BFYXRhKHUsTDyWBhVHMoQhxCHb4TkLVmzzh8/EEkRBeMHHSIzoIiMP+HIp5mi7OjqDA5PSIBUYGlCDA1AIY2UETR1+Ku5iTpC4k7kltAXLFi2avVaNG2gnirF0wbK6luxzZNkjlxL12jGjBkBEcgmpgRNHmiij6Kpw6oVfbi8saueNEBqkaCpQBnHHG2iDpFaJI2UkUZyn5b+2VNnLSqw3fgWMZ411kAextAEZI4czxqrJ/Rv+/Gn/QcNABhBAwBNQQkFNHO+i3t4A3mQwBHVkocw9ME7j/yLKphElgRF7qtt7HrkHGF10/vCVWdHr6gmylNm6wsMZRhDGW6gDRKY4jpibwNNhMJ0zJgzNygy/audRVOHG8iDTXQhmjoYlZgHQ+b+aVnzAYB1apr7qFSaZ4UdjXeX//pKXTn9Ia78qBwclxyMsNcLewQQzmeYoKbi90olfbhru7dNOKMSkE6qmvtE+F8hCVXV+w/KDx9ahX1eFfBTKV4rwFdWgy1cquEsycA0YX5iEZ/5wbda+mb9R+W6gGsbfG3VTwL0CCj9Q/oTjnSn+xCtt34LjtTU1Ojp6RkYGNme1c0Da4zlHXxfo/OuWu8dyuj3Uj1iiIGHpeExM10tPX0tXSNjY9Nfjhpp6OuYnjxh7+b64MkTq6uWZmZmxqYmZoZ6Bnr6V4x1k3QPkg/saT6wh7ZnP+HH/bXb98B2/XxbW0dXX8fAyNDPx7enB/DB//EL0xBVXz6ccbq9OeAaEN32X96sAULkelsa2FuqoCfAoUtKSh4/tFczse7ubrt7mfb3xsdffOZqqmEGTU5OKpXKX3/9lcViXblyRR20VlNT0+DgoXPgB9t8bVd5XdkZfGup8/lNITeWelza4G2zzs1ilY/V2oBrmB7eM8noJm+b5eCr6/2sl3pcWuN9dWfYne8dTm0MsF3udXmDv806j6s3KlL6RKMeZXDQo1/Wht6s7WBFoQrUcGS9HxDmdzXYYqf/9XOe94GIO5/RnHpm/0ubNY8ePfpys0apVHI4nHnz5mVnZ087iX/37h0cDl++fLk6hN70rPzjjz/kcvmCBQveqdKXzuOBc9Rw5CMAR9bu3RyJRQRS0wJxaUFE6NczBRZCzfTDpASRILcTXUEzQQbHjQMYiBA8xJ8ICyTDAkiQSAJyztLvZswCXQLfj6QgPaqjL0TeeZjldxfmZRn1KKIe7poVCpoLsg51eBTvBVoIepjqEURBBJDSfImpgXjkzFmgezBwADouiIHwwSSGUGBBRKg/NimYkLZNY+tmrR0xlFwfXFI0N+dqqB1oBui8i60vCRZMhITgIfbZviedzKPZBUEMmEMqGPQd6PQTa3dMog87PQqbuezH9au113tUxoRz8/xxkEgSPJgI8SemBhBSbsU7z/5hTlBFcnRbgV9TUhgVEUqGBBOhwSTg7oEEiC8RGoBDXHC8FhQSqCZ8Ne0Dfz8Aa/IbpfJBScpmv+tPpYJpj6vT0yOfjV/ufOlqXpTa6aqaEwHXvlcKx2WGsc6HIlV88N0H9QnTr++vhY+qLTY1u3z/YfjX8X0xD5f4XAFELtNZ9fGnnpB/vfz/5Vg1pdf72a73+8Tp/umir8GRbxn6To5PLN28J4oqCSCOBJGG/chjIcThYJLQHzc8e97CmatW+jT1BxKlMZRhMF4QRhKHkoRnH4XM+W72Bg39EILUv3HEMjzzWkpFAFlgX8K6n0GOowhCMc+OOCVc9kJGYEf9mZMBRKFPU08479VhqxsbDc5G4/oDGJP+hJEgijgAL/DCSeCt47sMDi/bfEDzqrtVeMamg0d8Gju8mwbOOcVs1zv6w9YDwSUsMFUcwXjhjuk77QV/kE31z20CzfwhqLEDTJwMpsqCccOeuLEomsCLKIumKzZqmvhgBnxwI4FkUQBpLIAoDKaMBVPGAkmCEKoolCHRPH55p8HRQPzzQPqEH3bIDz8UQBwNJYoCKcIAxpgf+vkl95TVP/4YyR0PIo75NPbcCYamwBCf4Ihqkqln2rOe3vDolLiUsjr8QA2ur5Ey0kQXNpCHv5rR5KFq/GBSWt3CBUsOHtJid70oaRjC0waIjKHypsFawrPlK1aBQDMzC8gosriRMlRPGkAR+lCEvswSZlhiJSyXVIHuziln+0YUVDV1V2O660kD1dhePHPk8C/WZkfPYpiCSlxPA3UURRhopAAijUbKSEltGwg00/r6/QbiWBVxuJHa7+WdNHPOoviUkjrCcA1hoIY0TGSPHTl9k84WV6P7q/DPL1o4JKWVMjhj6TmYbXsP6R4+10jobcQPo8lDtaR+PF1SR+ytJgyX1bSAZs2OTsr/amcbyMN1xP4G8nA9aSAyIReCyFYoZCpyAEQjakIA/CO/U/rhivYE3c1rxgFTWhU96hNk/6h8LhPujXhwKMoB2IVR43iVAoHaFdD14rgtvjY9ryXKtx9eTy/86hfzNfL447N8Rfn+w+BL6daQm6s9rwBW8GpkpBJwfgIQ6tiZX2vk/1Kn8juyztsaeIr/UjrSnxvMvL373dtPkc7+cqP6+no9LW1jY0N7G/2maO2XpTq/leu/KjP8gDIW5WnDHA2OmRrt0zYwNTM8c9TssLGBhsGhI4eNzp36BQwG37K/f+zcSX19fT1dbUMTTWNdfX0zfTt9zbx9+0h79jF2GOXxowAAIABJREFUa9G3a2C378xZ9+ODgwcNjfWMDx+JCAkVjgpUz6CSPE2z148frP2dtgbdWOVu/m/DkU3+tlv9bM+426lFDCMy8fnz54d7+6fRh7cPKjZSKZL+9h/SERsbG2AivX9/+fJlLperHscbN25o6+tFpyTudrJcEXJ9ldMFQHckxGaNy6Vl4Msbfa1X+FjoBNoNvpSiethb/QDI8q3u3S+I750Y6xAPUgc7mviMHvGw5MNr4zinLd7WywKtVnpe3uJrszHk1pbbZzJKPonW1bNBPen/JTji4ODwF+mIUqn8P5puO3bsyMnJUQ8CCoVavnw5BoNRi0bU0fXUYMXf3//evXtv3gAW9epf/yI++UOp7OK0rduzEdyUCCYk+BCS/QgpX82++GQwIdkuz/9qwP0fNXeC5oIOnNZ9BPdzKg4JoMACCZBICsKvPnHT8T2gRaA7TvdC8RlOGYFaLicCialWYXf9GuO9KEnW4Y9mLQT5oZK88ckPCsB+dIgXNiEQkxhEgvg0Jq3Zv+mSvbVnTVQML92tITKUifTHJnuREgNI0Ms+1+esmf0k0SuEmuNeHmtiZbrDZPdaw22e+REptHzrOIfj3haeVdFBBIg/Gfq4Jlrr0Wn3TH9/TJw9PiqSlr1864oN+7b51aUGc9K9cFHBZKhvU0oYBe6NiT927fzmEwcCGlODCJBQOsIDE++LTw4hQf2wyQE0mA8mOZgKd8dEn3W8GhIS9iUXmh7JX3/9VSaTLXe//KQibeL3N0og5IVqg1nF3Uo66ItcLlyBB3+ifJXjEYCvvVf64Ap3+FwvZBPU3A+YSP+cpmUeKtGLeib/8xX/3a8qOLLGG1D3U8/tf7r8a3CE7XOJ43f5MyX/uVkzLlcs2fGTB3HEnyr3bxp0q3162Sdt/1Gb5Vt2g2aA5i1dtVbDzNQuwDGfEU6WBFHk/mSZR2Xbd+v2Lt+pFYXi3Euu0LLz9cR0BNBknvXPA5mv3Wp7z3klWkaku2MGXJqkQTgxGCeKZo/bo/osowtA36+IqOvyalb6Y576ksUulH7/xpFgyqQndugSOHuDxsm5INA8EGgWCASa+d2SPbqXfJL8UR0hRIEvFsAT4WTJreqeSOKA1omrO07d9m8c8SQNO5fw9h+x2KFnslH/wm79k9vNzs+fNWe36bmt2mY/GR1fp2G4zfSCTVhGBH4wjKZwbxKAyZKDRy/tMDjnS5S4U6V+2KFAotgTO+JHnvSv7whoHvfFj27WPnLyfsDjuhEwWeJc+/xOKAwCR6hArvpz99NmwfPnz0MjU6ISS1VL+1AdcbCOOAhsbZCGVOsxUK4jDtaThupJQ0WoXgZffv7KHdCMhd4hyVXYrhriSDVxrIk8UIUdhmWiZ4BAs2bMrKxvK0cP4SiCnAo6jfMSHIqwc4xMz8HqGh47ffHGDXtfT7+4RSs31eO6cTQAGVTWdTs6xW/asrkK04djCqvx/SiisBo/VEd6hmUOwrLJM2YsdPOJwbLEedX9xGbFjXseINCiqjp2PX6kkTSIZ474ReQGRBYBiArb/QQcd/zUlfK6FgxrEIUThYQXgGbMiYrJrWnsqcMPVDf1N9CGyxt68HRpRFzerIVrKuvb1L3++9964ihQSRgOicqDIbOnpoCvViCpiUoNSpTK0QmZVaLf1uj7ExMT06u4+gOgdbT/QIzD3ih7AIuoBPIf/nivju5L726d9fCXOFIVQJufBSfTUs5PN/r7v0+kAfCBjWBApf3vp/z/VfNvukHT1dcyMtG/cEo/+L4uNcHgRYn+h1r9j3UmxUHGdy+a6uuZAQ5bDXX0DHQNjfXMjAyNjU3BYB9T08Ph4eG6uro6OjrGQDI8bGxkbKJ/zlA3SEMTs12DuWM/ZveBsl0H7u3RMNfX1tfTNDEzDg0OGxwamWY1au6qfm8YCnGb5fFFQYBN6wZ/wF56ufeV5V6AL491vlYrff9rFdel3lc2Btiu9bJY7npxe/idle7mm/xtl7tfWuVrvcXZwiMpUr0Xl1OQ7+Xipno7nxASFvfK0/Vd7wAQfV39hICTeGtr66amprdv32ppaU0vrm5ubrv37lEoFJssjiz1tdwZabfW/fIST8BDlNop7JaAa6GonI/KDwgqarXvP1kwUwbaf//911G5aPTteO+kqFs02DLy7FiUE+DBDWyx2cd6Y/D17x3P6T+2be/uUo+g+u+/DUciIyO/nLtq+Tmfz4+Jiblz587169dDQkIGBgaAWG7/md6+fbt//34CgfBl9V9OU8ORtbs3eGESPHFxYFzit3IUBeaQ72fqfNHY7tTRm6dMLA6b3jxx0MrwJsLNvSneHR3rWhsRSk+/B/f68cT+1QbbjR+fPWBl4FQR4kdKDWxIDWIgXNGx+uamG3V+9KxPDKDAApriQ5sR7k1xAbhkT1yCNz7Z1ObEyv0bg/AwN0KMR1NMEBHqgYnzaYrzoUJCaMjz3rbGdqdWnd13JMDmfgY4tB6m8+DEXhuDA7dNjoCv2OWCw5szfcmQQHxKYFMyGBXnVR/rR4FEsDJtQx+CFoDOeNr4k9OcmqJc6sLDWEiXxhiX+qhgGnTNng3HHpsHk+BumFgfQrIHJs6PlOqFTQA3JXpTUj0a4/zJEJeGiDNPLIKDQwFS+WzQNA1H1EK7MFrVvpB7twriAUSi2ol5//HDr0plIZuwOeDGk4q0j6rwGcCHkUpenMis+9HT5kFRsuTXl+pvss/888vX9Z/l/81wZMX2g55YsTdB4d005st46d4w4Fjabl9IAVdywVVtjmV8x+pnfhRZAE3hiR3xaBoEk6Q+uUSTh0E7boVciCxzLud5kwRuaKEP65VjPvWKH/R8QJ5bZV8UTe6Lfu5PGvHHi59UdoZxfnXJpy/Z9rONP8KtSeGBFXjU9fsTRR71wz50uTd1zIckcaig/qitrX/dy8I/7WFag0sp1w8/6keRuePE7gSZG07gWtsPpk76lPG/27D/PDgpCCcOoki9W359UtjsUkyyL231qmy9X8zafdT8TibBqeqZR02PS3mbS3mbD2bIFy/ywAi88CIv/MDBY2d2Ghz3RD9zJY564wb8yGMeBIE3RuCLF9qjhnyqW+dt2GUblBnMeueLFzrV9NwOgf4VjgAs8MPz589DIpIjE0pQeEDygSIMoAgDtbjB6YzCD9URhqub+kvrnhLpwoJSgp7hsR+WromJz0A1dWIoo3WE4crG7lrCGDKPOHvWvFmz5jTgn2JZ0qwSytW7nshcmoNbTAoST6aLT56x0dY9X93w7P7jiNOX7qIwvWV1/cCGDnkkJqF85tzvanFDNbi+GlxfGfo5ijTaQB4uqessr3u2dOn6C5dvNpF76dyp7AK6sdmFuQtWwhAV9YRBNHkgKb3O3i0hu4TN5L8squZb3vZbtGxLXjkXWdKCahJk5TfNmDPX3jEM6AhuqArTV08ZqcUNldY+BQcmr9iwqwHXN93ZvxTqCCMo/BAKPxwckQ9Nz/oTjnyWZExz6bI22kH/uzbIcKqoF6A4FRkqPyifK0TaofbHEjw+KpWvle/VaoYflcrGpxzN6Mc2OVGkoS6ADqep7/+6N/K/Go5o6+jqGRgaGl46Yex57XCKo0mml36ev77XTf3Thw209YzNzEwOG5voGxgZGhupwtCYeHh4/fLLL66urnp6esbGxqampvr6ukYGhjpGBobGejY6OoEa2qGaWu66Wo91dM5rHzxmqn/ISMvEzPQ/4IjqW0jNAz8qlX1Dg8b2NmsDrgHeR30BZYlNgdc2BaqC2npfBXy6/JebOKt8AGd020NvrwZbrPS8DDgECb65wdd6ZfD13XYXqZxm5Uel4uWLy5cv9z3rUS2ln9AHk6V0dXz74JG38sOfgATEYrGMjY2Tk5MhEMg0kz5y5IiJiYlkaNTo2qWF908s9bXY5G21L/L+Qo8L6/2sl/te3Rp4vZCD/0P5wS4raqkvYAL+rW6s87Xa4WO7yOHUan+r9YG2632s9kTdB3mcWexnscHDYmfwreVB1gtuHnGODfk0L1XD929b1jx69OgvcGS679PAAlDU/ZzUQhF1RF80Gj0dP296Ef18ouq/6iO7i9O25qf17ug4V2yUe1Oce1PMV7MTLsaDkPiwMtihKty5PtYNneBHgrigIu3LgtxxiWByinNDhAcxKYiB8KiNtS8OcSgJfJTnH99R6ISOdq6IeYSKCSSlL9u8UufOCV9Cmgsq6g7S9XFtmAs2zo8CcaiP8CDE20M8QStADrmBTsQEV3SMLybBERPpg4+zqwl0ISf7k9MC6pNcSsPAuCRXYpInIfVJVYRPfYJXfWwABeZNhbjhEx6hwuwbwpzqw30ZkHtNkZ5UyH24xyaTnRrndF0bI52JcU8aIj3qo12xcY+xMW7oKIcSv7lr5jkiA8Ck1Ad1YS5NsR7YeA9C4hN0hFtjjDsx3rkuypuY/KQu+KTD5aCgkC/hyPv3778c1Xfv/7BKC1kLtnKvyxL8NgUAadXWSVYL7juPi2ezQ397rxKbfFS++P1tAZ+8ztv6RDK4Y1wInKbidNO7b//xjr48mGaI/wulI8u2HXDDjLo3CVxre12IMieMwJM44cOYdESPuuBFj9EjjxqGnHFjTpiRJw0Drtjhe2hRAFHo3TRgj+rzIYg98KJ71f3+OJl7SZvBg7ATQZlhrb+D8VLzsEJbKPY+WuFRP+RSP+hBlAdghwxtXTebXA7ADN5rkDg1DQfSXtrXDTvihx3KOr0IE/blHNDMRbZZbJeGUW+ywg0vdmwSONQPOTYMeRElbngpGCP0wApPOaXOWbfXp4x8NrLOpaLHvmbQGyP3xw2D8eO+hEl3zNg2w0su9SOP0GNOmDEPvMQL6NSYPWrIsWHEhyT1wCm2G13ZcOg0uG7Al/bKqXbEoWrUFSP1wgw7NMm8yRPn3GKW7zfwr3v2pFHqUT/gUNVzI1gFRz4CGveq7zDVzADgSF9IRHJEfHEtbqgSO1DzOVdh+irRvVWYPtV6PFRa9zS7lHvR0kVD+yRoxvcg0MKjv1jb2UfAsslVjb0o7GANXojIo23brrF0xUZ4Hi41l2hxy70A1Vpc3YnIJ5Kap1CY/n2ahifO36jB9dWin9diuvB0eWHV8yrcQHlDT1E5GzRzbloOpaimswY7UIntLW18XoUersUKajAD9x56Hzlp5eablAhtCIsufvgkSMfotJ7xpZxyVhSk6o5jRHBcCZoiLKntqcL0N9FEUUmFaLK0HD1C5045eYQD5tkuUdX4oWrMUA12oKKpr6ZptBbdd/ycjekpi0Y8ALa+mgF4BAzIYFB43pdwRI1CPn3Pqgb0jVIJIVTPdzlvmxvdJhj4RKEflO0Kwe6weztD7T7toaiASmEr5US8x6oAW+rw07fKT1G71fKRT21+SZh/Kf9vhiOGuloGBnra+gaaeoaGRmZHTU1OHtcxP6d76oiBjp6urqHB0SMmR0xMDQyNDY0NDA30jh497unpee3atZs3bxoZGZmZmZmaGuvp6ZjpAmHztIyNTA0NzunqnzbUMzUxMDEyNjbSNThmdMhQx8zENDwobGhaOvIFHFEPpyckZu29M6t9LVeAr6zyAoxUtgTfWOdrtQJ8ZX0wgEv+q7zRz2aZ28WNwddXegM6oOprV3lcXh147fSjmwA2/ahMy0S6Ort8WtM/Yw8644O3x4dTZ235bJ6KKoGnA9ygubm5LVq0aFo0IhAIjIyMysrKHt6xs7a7teuh+bqQ68u9Lm/ytlrmd3Wzj/UKP8uV3hb2pcnJ5Kq9AbeWBVpt8fpmH1b5AM7gl/sC5jNrvCxWOl/Y7Hn1x4DrS30B0cimkBtzHU/9/NgSTSb8T8KRx48ffxnRV/2evvwu/wshfHl469Ytf3//6Zov185PlapVrYPLX7lrtXNd5BN0mBM60rEx4qv5ETrUHR/nhon2JCY9xsbcqQlwwIS5NUX6U2GPUGEPUcGPG8Pv1QXerQ181BjpRIh/jI/2Z6fb1QTawh33WBhYJDy5l+kDWjjzfPAdPwLUJu3J8YDLd8r8HLGxTpgY+4YwR0y4e0PstlM/a98wA5Og9qgwt4ZIB0zY/bpAZ2ykfV3Ig7qwR3XhvjSoIzr6RoXPg5oQN3yCJyn5YX24XX3wrSq/B7VBXrg4L1KiIyrYDR3hhYt7nO9ncNNst7mGe0W4OzH2drW/Jy7BrTHGpswLzIR418Xss9bba64d0Jj8qC7cviHMoSHMDRfv0BD2uDHUsS7MCR/1uDbMDRdrXxv4i/0lNRyZHs/3qvTnqH5U9r8dd0dl/uh9zSzJI7+VPPXuV+V7ZQWLuN3n+t3iJHXwPGwP/15+wno/2wupfq2TQjVP/DTLP69C07f4a+F/MxxZtGXvk8Yh1yaBK6rHCTNiX9n1qKrPvvb5E1SfG2bEvWnUDTPq2iRwbBixRw09aRQ4kcdvlrQ/Ro+4kqR2FV1P0EJv6qRTUetWzRM7Tt01eRJ5xjN6xylLDWunxyXcJ2jJk/phN7z4RmknmCS9k477QfOX67H5LqRJB9SwU63AHjXkhB11bBjxxIqPeaWAZi56XNvn2DD0qK7/QU3fk8YRZ/SIY92AY23fY5TApX7odhHvZ3NXjeM2QXXNGg6pTmVdDtUdTk2yh6hnjxsFdlUDjxsH1muaOtQ8d8cMuDb2uaEHXRqHntQPe+AlHljhw9JOp9r2n05e3mJ0wj6P4Irrd8QMODQOupBEjxr6HzZJnCvalmgdO+uT7MeYuI0accGMPqh4ahsIVVnWfAFHgCkBwJHg8KSw2OIqTH9ZY38luq8S3VeFAQrlDc8rGntrsIM12MES1NPsUl5cOjoRUQ9F1sWnViZAURFJdWXo3gbqWEXj88qmEWbb6/wS4qWrj85Zud9xjk9E1hbU9lVgBiuw3aX1I2X1zxauWucRlFJNGEWTBKWoznJUfzVGUEMYLq5/hiYPaegdP3/Vvhbbh8KNltY9q0T3Ftf0YWkTFfXPMbSR8ORyJx+YMzgjAYZDk4fKGtuiITU37CPdA5GQbByaOtpEExdUPi2r6y2r68XRBXnlT7G0iYLy5h17DQ0PXyiu4VUTxyobh2pxQ4VV3TVoQT2294dVWwMi4eWoT71W9/3Lv1XowSpMfxWmPzAsF4LIVFnWAHTzVzjyOwA2flMqI+jVhqEOuv73UpkNot9fKd8r+xSin8E3zZI8gGveKXnDvc6lsE1uV09FudUPtwPtfP5g+CR/nl6U/kqfn4//N8MRPV1tUxN9UzM9fRNdXWNDbX0DPT0ASegZmWob6hua6R82MzIy1Nc31DEy1TM11Dt8+LC9vb2dnd3Zs2fV0W2MjAyMjAxMjXSNjfT0jY2MjIwO6xkaGADGvaYGZob/H3vvARfFtfeN++a997kl96bYQMASkxhjidHEQrcbY0N6L9IRRHqvdqyxRhEVpLP0pqIiiF163d57L+wuu7Dzf8/MshIDPjf5q4mf63wO7JkzZ04v3/m1Y25iucbCeOWqDWZrDqYCZo2uVZH1T7cYNrY9+dJuAzihJclRP9ERaOTCB7ZMjbX9HQrAMxMBQWVytPW0aBtgtz3RYUqMjX6c/TSvTfnlKEgFKYaUW7ZtpVGoo8uwljpy+85gSgJUhGrwdPHQ9TyAI6WlpZMnT0ZkWiEIys7OPnr06ODg4Hfffbd67ZoFW1YbhltPT3X+V8iPn6V7GMXYT4+3nxJn+3my2+L9Poh6sVGU3USQSi/WbkqCvX6yk16S46z9HrP2e3wcYz0lDpzoa5Tq+nGczb881kSePQKO2Bmli4DCwTs6pIHenOzI2BN9R8f7i98X2+GLMOCjUCjz5s37td4vIn+jjQsXvvNZ66fzpgVX7vevSQ6oTQuqGd8F16T7lSXuKowOqU4Lqz8QVJEYWJUUVJ0YUJXmX5kaUJWy+waAFME3DwTd2O9dmeRVnuBTkeJTmeR2NvifCyZviXZc7r9+1op5ayN32hz1WZe4c+eJXaE3MvxrD3iXJoY1HN5dm+p/a7/nhb1GJnPcz+71q9oXWJ26+0a6V0Vc9O2MkOq0oLoDruUJfjXp3uXJUc0ngqrSfapSXcriferTQu8cibydEVK7L6AiObTmgE9ZQnDNft+cWIu9W1bt3exwPdyv8YDjuWCfosSIG0f9K5M9a5OjGk84H/H/6Bs9p0t7I24c9S6ND7912Kcsae/to94VicE16YGVKUE3033Lk0NvHvarSFgXtCM1FSj6jm1wBJGMwBcYDCOQeFB28mbJ+hNR8xLczTL2BpSd9y88PSPeySQjNKYsc+ulVIME5+UHgoKLzxElPLD8wWfpaT/LxvAmf9mZo3fvMhz5ZO63QTXUoBvs3TXkwAZOYA1h9w2G/02ybzUtoIYeUEX2r8AHVhGDqklBVZTgOrpfOS7sFn33DUZQPdW/ciConuxfgV0eetbl55q9+Y+X2e794OO5c0x2Op29HXlf4F3asaeB7V7UHVxLCGlgB9WQTQL3GW1wiqwZ2H2D4Vk+sOcm1bOM4NfIDavqMvhu06zF3++uwe+pp+yupQTVUEPqGSH1jN21tKAaanAVfU89JeoBa3XYaSML5689k9emFR94Kgurx4Y2ynyqcaENvIAaesgN0uwV6/1KeoJu0vxrSAG1ZN8qgl8Ffk8t2Svv+drUvMXWIYYLTWZ8vWKpXejqyIsB2c+jqikhpdiAm7SIG8RVPkmzf3CNqMfYFfSF3xN4VxB2FfU6Jp85AxR9QTfrFmUIPtE3df+p9CN5qFpcYQ2mpAaLOFQtDlWL0/mLqzH55X358NOqW8Tyelz5DWJBNbrkJuFycXtlA/FyYVtOSdeNJkpJTW9eeXdWcSuQumhk51d2/px7q/IWNf0oatIHH14velZcwz6bdfvwT1WFFf3lN8gFtQO5FX2l9diY5J8/NZpbUtVef5d3paCr7h6tpAZbUIEuv4nPryUU1WPyq3sB/eMWDXWDlF3ec62sO6+qt7C2/8YDZnE95nJhW10zq66ZlVPWk1vWVdtIza/otnOL/HrJhp/O1zU8YGehulG1JFQtrqACXXeXnpB+efrMxcU1rfnlL2qtq/4LTy0aVYtLSr965ucrOjgC5gy8sYxtSSSwoPWe+fFwgwTnBUle/teOx9bnfHM0eHa8S0xFlu3l/QsO+C3dHxBSePYJrk8rLzKqHqxNanQ6Tvj7LsORpd8bm5qarzE3W2NhvGa1qYW5sYWJ6Vqz1WbmlmYWxhaWJmZmZqtMlhtbLrewNF4NUMaqLVu2WFlZwZwaU3NzU2PjlatXWxivXmVhaWJuaWZmYW5hYgrsnpmbrTe1MDc1W2O52nTlqnXmawCzhkQErTq2p5DBr4HUI8N7DqfMDLdBLJWB3Txyp2GKy/R4++lRIPA3Of0Yu7n7PKdGWSPn4HwSa2OY4mIUY78pwA0ZFZeuZAHSCCJsBMqkXY6bmlXR4Sr5EOTm6FpTV4t0+qTBwcEdO3YcP348IgKRNIHs7e37+/shCAraEzJjxoyNO7cZWpnNSnQ2SncziAWMIr1YO4RE83GUlUGcg1G8I1AGnqAan6W4TY+314+2nRJuZZDgaJTk/GHsTqCRHOs4Pdnpkz1bV4e5333UgqwTSAsi/wG4ezNwRKPR/FrRVzcHfk0jGbtTnj9/3sLCQhd5rOcFU2AUjnz8xRT/8pRdlfHelUk+EzjP6gTfW2l+Del+9SneFfGepTFeVfEeNQnuqNg9Nw4E1qV7lsV7Fka7F0Z4VcR5l8YGViV5oGJ9b6T6VyZbxlhvPeLhlh0eeC11bdzOjSm21qe8/EviA2v3e1cCyOJfmehfk+xcFRt16+j3LmbLPCx8iuK9KuJ216aH1h/wLI5xKogIunVgT8Oh8FuH/SqSnIoi/WpSfWtTd1Ul7Wk45FsU61MY41eR5F2X6lkWv7vxqEdJ0sqQzZZ7tgYXpUbdORlUnrrIxTS4FEAc99LovfeOWp8J+M5zjaX/Vv/6/Z4VCb7l8RE3D7nmRwTdOLirItEfhCT61ad4lMQH1u/zKotdG7gdgSMv8WheNCwsB4cI7VMEnAO3i9b9nPB1stfC/X7/jrGZGe+yPMVv9bHw0IpLj+hYZPohFEIlMv3gJQ9hZ79I8yXfuwxHJn++MKAa71ND9y4nedexvCsI/tV0z0qSby3Dr4bmXUn2qST6VZP9ayg+VSTvSqJ3KS7kFsO1GOtbTfOrJbgWD4TcYoXWYK3LyOHNirBqZmgJPrKO4VlGcERh/e8IAKypJITUkT3KST419KDC1gVOUasjTvtWkXbV4MIb2U45/S7VVJ/se//QW7p0u6dvFcmnguxVSvAowXuU4HeVEf2rabtvMPyqma7FGM+b5OBydEod0R/VHdvItyvo8y3q21MvcC/s90aRg1AEz6K+zy0dduW0uVeQXEtx3pXkgDpQkcA6SmAFxuP6U/8b9N3V6JDqfreSLtv8Xt8Gjt9tvkslxb+WvvMI6outfh7nbobc5DiXYILrqG7FBPeCHoeksy/DEXhtQaOxKftOph7KLa7G5FWiCysHCisxhZWYkho8qpZQVAUAQVEVtqQGD1w9uaACm13YczW/o7ASg6rFVd4iA1xS2Vt7l15cjcst7cstHahr5BRXE3JLB/JLOu1coubMX376Yu12u4BpBrPqG/rySjsDI08dOFFedYt4vbQzt7Kn7Da1qApbeRO/eIV5SOSJyhs0VDW5oKK//Cb+WlFHSQ22uJ5cWkcsKO/LRXUXVKBzKzD5VTjAx7lNu1Lcdb28P78Kk1fZX95AzixoBZ56Aqqu0yckY4fDnqOny2tv0fLKu4vqSCU1xNzSvvI6SlF593LTnS7e8TW3yQXV+KIq7LiusBJTVIUursYkpF45fSFLKISPHRnd4XS/YK1GbuBJJIU05djnzlcOLUze9WWq18cRO2cnu3+7z/+b/f67ik/X9D7c11SuAAAgAElEQVT9xUz8xWe7NhkkvfH/v8tw5DvjlYARY2xhamxmaQHEUU1NjS0sLMyNV1kAaRBzU5PVJmbGAJqYmZsbm5ibwwQQM5Pvv19maWm+du3qVatWmJkDuoilqZmFmTkiYrLKzHQFjE5Mzc0s16xetWqVxWrLtH3pBBI4OBfQn5CPfLhBYTAA7ntJuO9CHPT8fzRKdTVMcZkSbgV0YBMcZ8RMuI9PtL/rRQMLuXrRtnOSXfVi7aYnOsyKsJ2768cHjx4CWyPqIVNLCwqBiIwRmAGihSOPHkOhu6WDSujZw6dbt29Ddk9glXX9+vV8Pn/79u2IZs3ixYtB4Uc0u0OCP502tbq6+uCFk/P8thvGOxomgmMC9BMd5yQ4G8U76iU5GsU7GkbaTk2cEFJNjbL+NM72s3hnoyRnw0SnmbFAlHd2vJNRPGBWLQmxv1aajyitvE3qSExMzFhZmfFH/69CNRqNjY3N2GPzfhUF3gNhONLxvPXfX0z2Lk30qIj2rIzzLI8d13mgopFwN1SUV1msX3WSd2WSOyp2V22Sb3m8Y1GYZ3XSnhsH/GtSfWpSdqFiPCpi/apTHEvDfe7s8687uP2qf8DdNM+qNO+iGL/iuD316YE30jxK4wAAqk50Kgz1rIxzK4vwqU50vBi6cvemHw45u6GidpUneJfEuZXE+N5K86yMcy+McM0PC6hP9axOckFFgldQUSH16W4F4e4lUd6VSR5Vie4lEYGlyd+6rf4/+v8z89uZX65b+MmiaXrzp39ut8y/PM29Ms6zMi6gKs04YsvKPZsCSlM9K+OcS6O8qmJ9qxI9iqK9yhN2VcZ7lkaB+tbEuRRF+dSkuKGiLP23pqSkgK7XaEZGRsYiP6Rth2BJVa3lJRVoXgUEieSy251PUR0tTZR+gpirpYKMmrlCSGvaQLgvxummsUHvMhz5cM6Xu8rRu2pofhVEnxq6TykmoJzqjsJ7FPW5F/a7l6C9yvFeVeRd1RT3CqIzCutXx/SqInqgSB5lDPcKolcV2beK4YLC7qljOeX0OpSSnGs57lWk3RX9AaX9HiiaczF27x2uWwnOoQi7q5qy+wbD5cqTxd6H7E7eCczHBVRR/cso3rXMoBsE072n7S81+lZTvSvJvpWUwFpGUB3Tv5q2q4LgVoJ2RhGCbrAdKnAuKKxXOWnn9e7gaqZ7JdWrlupfz3KrxLtW0X3K0c61tHXxF3fVUH0qiT5lWL8KvG8VyaOC6FZK2FVNCbrBcC8hOxWTfWtZQdWMgApKQBlxV1F/AAprl921JPDEhpS80BtcVxQ57C7PHYXzqeU453bbJp6D4cgvtkJIAw0MYJLTT6QcvF5Yiblejs4vH8gvH8gr6y+qwhZXA0JCXll/fjnAKEVV2OzS/qIqPKqaiKrGg/io7uzi7uJKAFnySnuuFHQUVpOul+Guo/qzctuqbrGKygbiki9/sdAiMPSkT1Dq6vVWVvZ7rdz2hMZeuJj9uPoWrbCqr7AGg7pBuZjXnlPSk5B2Yc0mr5Pn6mtvMzJz2+EC9OeVoa+hevJL0eU1hILyvuvlvcV1hKIqfF4xyLGkhlhYiSuqwl9H9aJqCQBt3KAWoHpCojKcvVOPnau584B96kJT/IHrBeUAduSU9JXWkEIiT1lutM/Mvl9STcmvwhRUoMd1+eWYgor+wkpMfErWT+cvj4UjmjGzFEEUQOocYb4oYM6NBhJBqm4+rb7z8T1M5wCVKJcNgq0IFkVXQ0CHX/ei7kNUi2zGTsyX/O8yHDExXW5mARMzTE3MLICAiIkZOFTP1NjE1ASBI5Zm5qvMTc3MTdaYmhrD4ptmq1atMDc3hW9XG5ssNzVbaWFsvmaVqZmpsYmZsaWpmbmp2SoLk1XmxgizZqXxCrM15mn70kkEIoJFtDgAbu5hWIUWIU+cLby6dLfd1NDtAExE2RgkOOolOBjG/2ZrrQZxDkCvNtbeMM4BkQ01dFobc2I/NAxI2vnFRcHBwS8wKwyIkB5veTASFjLI5ACbUsF7QnJzc4HsiKWlJeJrbGzcunVrQ0NDcHAwBEFHj2R8/tncufPnicXikSHltjDvacFbp8LyHwbpbgANJTgbpAKVHv0I6+nJE4qyAqOryYAWMiXOFigFJTjpp7saxDkAUZpwqx0RviIGU0vJQayzjbJs3hx1BIKgEydOlJSUvDTa/5PbjRs3ItHGTEmgJo3cAsrKaMd3PG/91+cf70IluJRHupfHuJZGjeu8KuLcS6PdyqKdS6PsyyLtS6OdUNGeZYku5ZEeqEj7ojDXynj3khj7fODxQMXal0V6lcT6lEY7FoU6FkbtvpVmnevjVhHrURXvgoq0Lw61Lwn3LINjFoS4VUc7oKJ8y6J3FgQF3DvukRX59a7lHkWRLkUxbqWxDsWRHlXxdjnBvjVJdsVhrpWxjvnhToVhu8rj7K+HeFTF25SEuVYnelYkuOSFu9VFO5wP/GL9ki+XL1hg+e3U7z77bPW3c1Yu3pBk746KtUaFelTF218MMY/cZn9pt/OtBPeCvR4V0fZl4U7F4b5VyY754TAwinQrjnStjHYoCN9VleRcEmbhtyU5ORmG8QCR6FoSLHmwrg3YQ1SA0qdAZPaRZQz+P6LW2vNDhjuiYgP88BBCPIiBSK20/0Qd/C7DkX/O/MYDRfKsZHmU4J1QBMf8HrcKml052auC5VZGdy2lOZdSnVAkl1KiaxnBtRTnUIyzy+/0rqQ4F1Hcysm+1VSHXIxHLcupmOhS1L+7juCBGnAsIrlW8OwKCe7lBM8qik1ut1sN27GM6F2F3VmEdavheOQ8X3+h3ruM/kMhxruebpfda1dBdCzGuVew3MsJLiisczHWpYTgVIJ3LME7lZNcKinOZTg/FNH6epdvPdsORXGvY/mhiA4FAy4VDIdr3a5leLcqrktOh1OdcFdOh0MZzbmE5F5GdisluKLwLmUk51KyYwneGYXzLUM7lBLsKyjWef2uKLxnFcWhGOdQSnLIbrM9d8e/nrMDxXYqwjld73CroDhXkB1yu2wSzp75GTGDNmYEjMKR5AM5BRXonDIARPLK0LmlAwUV2IIKLOLPK0MjnuuVA3mV2OuofuDK+wuqsddKBnKK0deLB4qr0EUVmNxy/NXigaqb1FxUd3ZhT2EFMbek9zqq9edrncWVxMLS3mv5mEuFz/JKO8tqydl5XXmlPdmlvTllA4U1hPwyXGll/zabEJ/gfbmozqJKUi4Kk1PSV1RJzKvsv1bUU1RByC8fyKnoza3GXEP1FaLQuaU9ZfWkzNz2khritaKe7OLe/DJcTjE6MTXfyiHo/OV7VwueZ5yu9wn+KSTmVEklGYZN2OvFfYu+35J6+FxVPTEPRQVMH7iC4/7PL+8rrMTEJV8+dS7zF3AEIbxrN7pRYAFPOiUMOUArI8s4DDuQGGp4/iLTFxA7kUejP/+RNOu7DEfMVpiYm5mYWBqvslxltgbo7JqZmFpamJlYWFpYGpuZrzI1W2lm9r3FKjPTVZama5avWrXKzMxk5crl69evXbbsWzPzVSamK1avMQOXqfFKixXL16y0MDdeYwrAionpCkvTVesszYxXfW9pab4vPRUQJEa7ALF5j3ykIXgAtP7wiMfh2GlBW2YmAsqCQRyQbJ2IBPKKcPBuguPsVLdPwrYbpLpMDdk2d5vZsFwOjUCKEfX3y76TS7Qm8hAG+lhmTUSogisAejVMNmvFihUikWjSX//6V7lcjihVhoeHb9y48caNGw4ODnvDw4yXryi6nhceHg5BkEAm2RDoNstnK+C8JDt9Gmc7Lcnxw7Cti0/sBuWAVZb1EwH5xCgBOGDfLFGrx4zwaAxTXPSTtWKwQCnIfnVQRgqTy9EOUPgH2VcQ9AQNg0F7paV+drI7jgULJyJx4G1qGAIyMqBZwbBW5+VCaUmD8OuwNWLYp4Egj2sZ3x0JRhIEYdoMkPfezH/YFrViUIlGoyfN+btXecL20hDH0kh7VOh7Z48KtSmOcq5OcMgNdi0JtymIMPPfnJKa8Ba65VWd/S7AkedJtqMz+YXdEQGP/4/Zi20q6VYVHNtstFMRzaWE5FRG3wlwAPm9cywh22b3WkefuHI5CxoeAl+HYByoAcLVjODxxOS0U7HJ164V9uWUAiZIVlF3Lgrzh7jCcvyFK4+DIy8Ghp27mP0QVY2/VtCdhxqYqDDXUf05JYA9lFeGzi/H5Jdjfs5+nn60btL//edf/voP7fmokz7QN5qfuO9qUeVAQdlAxk8NXgGnE/eV5pb05pb05pf250xc3+sV3dmlvdnFnfGpl85euCIQckC7/bET9V2DI8gHlVKpvHnz5oYJro2v6dqwYcOmTZvWrl1rZWV1/PhxAoHwqhUPnggcDifxp4xp9qs/3Lv9syN+hvHOk0OBQAVCI5kSYzM51mZ6vD04rTDJxTDF5eOIHTOSnD6JtDJKdzNMcQEmRhKdp8TYzUnxmBJjp5fg9FWE06QZHx0+dtTR3kGpVJ47dy4jIwPhwiBNARdJy6xpvKdMT4bINClCrTl69OiRI0cmffHFFxwOB0EkAwMDH3zwgaWlZWZmJoPD3rBuPaSBlixZIuSDk+3Mfli/IdBtesi2mbGAqrPgaMCMWPupETv1ooG93pmJzobxwKzZ5AiryRFW06JtDOMdZyY6f7HPa3qUzUchW6ZG7ATsnjgHw0jbWRG2wcfS+imEXwCFUTSnhXVwsbPu181IcsGz6cOaEZ0KLtLQqmE1wH1/MjiCGAocUqj6ujr/Z9bf/Yoi7Yp2O+QEOhWGvXdOhWF2+bvtUSE7rnraFgZtzQ0y9tuQkp7w6pnzxp++s3CEz+V9bPSFQ3GffQXNKQ/tVEwGhIFiom1hn2Mh+r1zLERvyRnYEHH856xrsFVWZCjBZtAg1QAGHZdyNCYp60pxT1Zh77VSdDYKnVXU/Ye4q8X9WUXdh8/eOnC6Nquo/Xp5/6X8jpyygVcU5nJh1+XCLiTCNVTfheutB0/fjk68HJ+SFZ3wc0LK5T0RpyISrl4u7LpeTs4r6/85+2nSwfLTmS3F1bhrRV3XirquFnZOlP6Vov4rhdjM/J6YpKxzF3MlMjFCnXzjk/EVGbwLcGTMvguo5kht6HR6zwRX92u6ent7+/r62tvbnz9/TiAQXggyTtCeAFiOQP1YTOi5wwv2On7i+8On4Tu/OBX8YcT2KbBls7lpHl+ke85OcgHbd+jWqbG2+jF2cxKc5yQ4Twm30o8DmijTEuw/TXCYvc9LP8LWKGD7jxG+W3Zsf9R0Pyv7mru7+4IFCxDTGIg45mjLaOHI7TuDkXuVCHVEA0EsFmvjxo2Tjh07lpamNW158eJFQ0NDGxsbCIKePHvq7bUL0kCBIcHllRXFufnx0TEUFuOHAJeF7ls+8Vg7Odra8LDXPyO3zzvk81miC1BihnV6jVJdjVJdDZKdp8fbT421nRyydUa8w9xjfp+d8AcSr76bzUJd/Q/F09ksgEXgsunY/Fr6BTgkREvJyH50a3KiI4nHQr5sAH1Eo9FR6ZHe/nNRR5CCa6COjra/fv6h7VX/baiAH/N9txT4vXdbCvw253v+WOa3vcTHrmbvj3lB3/utS9oXB8bBH3jpMocFTRDK5OssDoyz35BV1r/MWrIhq31zEXVrPmVTEevHQvqWIubWYtLmfPJ7tzmfvCVnYHXYyTOXswEcQSixyH8I6u7HxKWcjE3NzSvFZRVgzl3tupDdc7lw4A9xl/Kw11CEqyh0VnH/NRQuqwh7Ma//agl+osJcKcYgjzIL+i/l910twV4pxpy52n4uu/NS/sC5qz3XCvCX89Hnc3qulBBP5/RlFWFzykjnsruvoQj5VbSfc/syC9BZRdiJ0r+Ui75WRMoqwEQmXTl5LpvN52ktsr/OifEb03oX4MjYKiG6gWND/jx+YK4JVrQmMGlH8y6v2es5zXvzh1E7Fxzw+SzVXS/W7uO92z4O2QIUUJKdZx30mhxtPScNnEP3eZrHlHCrmYnOn6W4zUp0nr1/18e7Nn69a0fy1bNPO9rOZ5y4V39LqBzctm3b0qVL0Wg0UmUEmcF2zLVw5OEjKCkOEkpGab4Q5OzsPAmDwTg5OSkUiqNHjy5btiw5OfmHH35Ao9GhYXvvN96DNBCFxVi75Yd1G9Y/fvgIgiB3WzuTDZZr97hNdl2jH237aYy1QSog48xKdzdMdNKLspkeZjU9zEovysYwEZgVmbPfc0aK88dRVn/3W6/ntdE+be+dh02QGtgAQCAHcubZsApuHUTwEIEj8OPStvv/jrHpYZLhg+mANAHQ4hxSwacII7SVPxmzBtnbNNDT9mcff2u4/ojzD9n+23JDdlz3f+92XPffec1/Z16QVba/VXag2WGnb10sDx4/8B6OvFintGsufBgH4CmAr5gn8TufJliPTtwXzBohX2CwYsuPPz/ekdNjld23+frAzpx+qxycTV6/VfbAe2eVPbDhcNUPew5kF5bBcAReCuFFRANBGDwlIfn4noifLmc/uZrfkZXbllPUezmv4w9xmde7LuV0XM5ry8pvz8xtz7zeeTkXCRm/PFn5nZfzOrLyOzNz2y/mtF4p6LpW1AP8BW3XSgYu5IAUsvLbL+Y8uVLckVXUfi7r2bXCvszrnVfye7Lyus9efnopp+NqwYT1vZrfcSWv8/SlprCYn85dzBWIhO/hyItJqvW9OEIPey21yfULjUprOXOUEgDvcaP2pn/1+h8ZMDT62QyUAwbltx407TqaNNPrx08CN38SaTU13cUow3vOYe/Zya7IAbr6YTu/Svf6V8iPM/a5TU5x1Etz+UvA+umR1nODrHfE7b6GKgSEEA1UhipNSEhQQxoTE5MzZ87Y29s/ePAA7OQazdAQOOtwdBGDHj2GAn35AjEIEEnErq6uAQEBwO7Il19+GR4evnv37q+++kqtVldVVTk6Om78YROdCiQ2NBCkN9MwMjYGgiAajbbWzGLTho19OMzJnMsbg9zne++YFrB1TprnJ5HWn0bb6iU6G+33MtrvpZfo/Gm07SeR1tOj7GYEbl/os9MhITQTlY+jkECK8LIwAtNPYX0IOBsYoQCCB7Iiw55GdMenUTbFbc3QsGZkSKVWgxGAQBnABFYjZJQ/lewIaPEhpby+vn7y7OnTls/6cNm0fy2a9uHC6e/dhwunf7pg2r8WTP7w608/XqL30RKDWcvmJaUnK1XISP2D5ue7QB0ZF45IxZJJ/+cvHy374eNv1320eM1fF5h9tNjyb1+v//tCi38vXvve/Xvx2snLNi0033z8xCmllt2g62x1Z1frLm/frxeu/Gbp+q8WWX6xwOSrxebzv7H4Q9yipeu/XGj65ULj+d+YzVtktmDJWiRkwsIsXv3VIssFS9Z+/c2aLxeYz1+8esGStV8tspz7temCpevnLV49b6HFV4vN585f8cUCk/mL13z+tfHCpWu+WmyO1HHeIrOFS9csXLpmovS/XGD++XyzLxeYL12+Ji39IJMJDqxXgeX2j7veBeoIQgZA9ASRltJJ5f9xDTdOzhpYfEQxAiMq2JgChkTIrCjanhTyfbibQcD2j4O2fLrXSi/WQS/FVX+/5yfx9vqpbuCs3BS3ySHb50U6z/O1Wh3jk3zxFJZGRggtGggiMWg7dlolJyYhZr2Ki4vd3d3v37+v26x1cORe09DeYJlaA9GI1LCI8KNHj8rl8kk0Gm3u3LnBwcGtra0bNmxACr5jx46vvp4P/Bqoo63dwswcYdzERUQdO3XSysoKOV5RKpW2dLd574s1C3Ba5G8z12/HDP9tesE79IKBZ67fjkX+NutCPMJOHqhubODz+TrVI5l8EGAK5DMFPsUXgRha+WoEcMCgA8ekfrPfPyT/jC4y0L8YRSQaeH782Zg1oMWhEaV8qKy88mZjQ8OdG/duNzQ1Nr93TY3Njx48bGpqugOuhvqbdTU1NZgBNNL740yatxOk26HeNWaNUq64XY1qftbRfK+puamx4c6NRy2NDXfv37135977C26BmtuNjfda6DQK8u2j0R0MC42MDCufPXtSVVl382bTnbv3Hzx8/OhZW2PTvT/E3W95ePde473mxuaWprv3GhvvNTfdb759t+EVhbl7r7HpfnNzy/279xrhd5vuNN5tuH0XpHIPhD982NLS0tLc9LDp3sM7jXfvNTchqTW33G9uuQ+nf2ei9Jtb7jfea7l1t+nGzQYsFq2VY9V9CL6diflSLu8OHEHoAWNpJC9V5Y+/HRXq1iJMxEKuBpKJxI33m+OPH9oWsmvFLpuvdm038Ns6OWCLYaT9NO/N8/x3LnLdqm/2rf1un+Znj7l82OYkTEzQ8mA00KoVK5cu+VYikSB1vHTpkr29fUVFxWiVtRHvNiqOHYZuN7bFhEcnpSQj59ECRd/09HQfH5/s7OzLly8PDQ3J5fJbt25NnTxFCV9xMbFZFy+tsVxNJVPWWa7Ozbl+8OBBmRxRYwG4ABhUhSAum/O0rTWnrPjI5fNHLp/PKSt+2tbKZXMUg3IESSBbjvY7eBSLgMBR23zqkWFktGsFR0ZgMXgN5FN8etXBYByfqQ1Xg2haGSH4hT8VHIFrBvetBpLKlCoNJFcNDQ2p319IC4hkCqlCpUJ6egRSKdVg/Ki1/Tk6ZN/u7zsLR0bUw6qhQfkIpJLJh1XqQYUM0qiHhqDhEeXQ+wtuAQhSj4yMwITikSHVILzcgFULMMOQVQierKohjVKpksnkf9Q8VcHX8LBqeHh4aEg9NKRWqVRDQ4pXlEepVKrVoHaj7w7DBHOVakihUg6pwN+gelihVg8p5YphlVo9pELcsEo9rFKrlCB8ovRVQwpgBwiClErlkFKmGRkCLPI/9noX4MjYFtJRSsYG/ln8Q0CUSrcP68CEtnjwA4lE0tbVmVtafPTCmWNZF87nXHnU+oxEIecXFpw4dVILTeFE5MPwig6/NX/eVxFhQBtXZ1C0vr7e2tq6rq4OTlyb1Z278tjIYb/A2EPpB5GkKBTKpI6ODoRfY29v39raipQmMTHR1cb+5PETjU331q5fp4GgiJjouKTE4D0hrq6uj58+0RUFqRLCYXlROV0tdUaokJAxXYEEaA11wPACpAmHAsI9jDgAM0oNnWq7aRDjeKoynyLlg3AYvqjgA7HALYj7J2LWwKscvMKNWsTTttWYuv9Xe+Hhq6VvwX740BkdIvgj2kaX+Z+YOjKuoi88/mEoB5MY4WmISGVpdeD/iNb8s+UJ2meUyTBqKU87J2FbGLrFCiZq6u7esucXrYbkDQdNXAxg0eDXDqyPo+/Av9o4v0h/zM1oXN1LWg/yM7p2gQVNrR4avR3z/tv0viNwZOzZq2+zeX5TXroVGNnBEaswL6Wg7W7k6390oGggqOlBi6+/n0wmg0Y0gxp4/Rndl5WaYaO5c86dO4ckpUMk7e3ta9eubWpq0o5PCLrbqIgKGzp9Llc7YDWampoaIDsCQZCrqytijBWhL61fvx6LxZqZmS1btoxGow0PD/P5/L/97W99fX3LViwXyaS6gg4plL8YuKBY8ByBY4B/o9UAHi3MGKVtIHn/8j9YR0c3cvDKCCQaVqaismbHOqdWXAOnzMOJQBA0NAQMCUAjEF8pKiuCLp2EZGB7G4FgUA9pIMGI0jv3xJaf4gC+UQOxQG2xf5nj673Tav2MyUkn7zK2Jd77x7TQ6+2B357auwxH3g+kV7fARKMBeevF09FURn9/sW79Fwa+aJmXl/CxT96u/x2BI2+3UX5nbjrpFuSAsBeyHaObr3Z9Hp0nLygO8HhYtmzZ0NA48DQsLOzAgQPOzs5ji4WACiqVumTJktzcHEgD9ff3e3pd3Bss4/DBqc5IXnv37tXCkcTExJUrVyJJiMXiFStWQBC0devWRYsWIYFPnjyZM2fOlStXAvz8AeCAQQ4Cm5CPD7AN/2rgjqiH1TDlQ0cZBamN1nBsiV/44aK9YMeoAcTgyCU7LqbOinNecSQk53GDBoIkGtXuaye+Ttn1RZqP+Yk9tglPN+5q/+FU4lfJ7osP+n19OGjp/oDVp6L+FbZj2YFAoWYIMaqmrfeLzN64T7eQ/bcvby8aYkyb6wK1Y3/Mo7fpfRfgyLNEG3jOAYFCGIWPaHmX8Dc9ePTejd8C44+kCYfe2Af/zX5tY47fen9M6Hs48lrbfVTV5ReJalfisSMf3rFf7F8Q0CoJCgpqaWnRLdsIW4pEItnZ2dFoNB2W+EXSsHERNzeX6Kj4rVu3Zhy9n3EQIlElCBwZGRkBdkeQFzw8PObPh2VXIaitrS0gIKCzs9PR0XHLli2IEEpCQkJ0dPSqVaua7txFSoawLbX56coFQQr4elGOMY9AoK6eL2L80qcGlNUX8AUGayQuc8Wx0IX7/VyzDj3E90IQJIGG0yqzXXMyfK6fCs8/FZtB8otmRpVddbt+JLD4tHfOSZvMfXtQF3zzTx2qLwDLN2zjFeT+hi9d/RDPKPIbU/GXYvy33b7h9v89yb8LcGRczRp4PL8HIq9ugfFHxEvT7kWklx78196+hyM6OvyLwfGSb0JF35fi/TlvERtl4PtGpULOCwPquLBU1csFHuXX6AgQDXduh4TtBRvrmMPYY2JiTp06BUHQhg0bGAyGzhSbLiMIgioqyiwt1rm6unb3QGEhg3iSEBoB+EYoFFpYWGjhyKJFizZv3szlciEIOnDgQH5+vp2dXXl5ORqN3rJlC5PJtLS0JJPJf//731+2PotM1xENYj5Et93DZ7yDI5N03JyxNXyVyPEwpD0vDUlLA+HkfPcL+79M9sx5dgesvzAfGBiJV8OfiRpIqpJevzqScVAjglsT5hXBucFYQGvvBZFi0ZVvbGleq38YFmp58/m81kK/3cReWuFHTXe/3UKMze3dhiNja/Le/3ILjLvU6FjaL8d+fz9RC+gm7UQR3kL4e51sP2MAACAASURBVOrI62vksaSRX8wReDlWK5TSQZlErVTC+y3S+eDsQ41aNQxkYBkUqtkqYwBZRy86nb5p0yYEgqSlpZWWlkIQJJVKR5+D3+7ubnt72+PHfoqKigoIzI6P1qg1kFoOxGA7OzuDgoImVVdX9/f3+/r6nj59OiMjA4IgOzu7zMxMT09PJOm9e/cGBwfv2bOHy+XOmTOnoKAAkdtAYJEOLmlpGqAyGtjBJA41oHNopWbGlusV/tExB6LAzXD2Sb1etP3PTdVARQcmliAtoiN1KCF1Vs7I/hQFCBmGpa6Qd4dhAjacjHIYQbKvyPgNPNLN4ffwZLR1xyLl0R4G6Hj0+R/xq8v8TyzK+iR+5wTMmj+ixd79PDU6+wLv5+Z4vYksXb94Mk7QL56/8ZvRrUENQTNjnaYnOL3mHDXQ1Fj7mYmuYEQgef0vY+Mdpo7oELkOi6jVQJkLVs76JS0ftkrygmExuqPvsLHu6QOcCsB7GB5OS0s7c+YMcnv79u3o6GjEr9FoEFDS3t5uYWFRV1cDaSAqlRqfUJ0cD+GIAmgEUqqGTp48mZ2dPcnW1nblypXXrl2TSCQbNmxQq9WLFi367rvvSCQS6BSNRiaTTZkypa6uLjMzMyMj48etW0A2iCQtDA6QOwwGU9d4OyPrQmhGWmhGWkbWhbrG2xgMRsut+FV8pKzj/Ie1LaARQFkBWsSqoe2nE1Yc3QPBplq1CgNwosiggQWD1UV50PEDo2/CmA2h1iCABpFueTuz6cUyB4FGl8lkAoFAqRoalMreu0GpTC5XaoBy+JBIIJaIpCKucFgBG+QdZyi8raB3Fo7AAlvA5h6Xw1LIZaohhVDAU8hlQ0r5oEzy3g3KJCL4GmckwcvBoFQuFIplMrlUOqhWjyiVqveTFGkBNQSJB+WDciVfIFIqR1V8/5fteZxmfp1B7+HI62xNkBZixl6j0SgUCkT+Q5eDWq0mUynVt28ezjwXdjQ94cThA5fOXK8qpTMZDBZzCILO/nwh91o2Ep9IJBobG+s+NQUCgYWFhS4pCIIqKys3btz49OnT0W8qqOXBiIcLNSL6AI/J1UCQlZVVd3f3JDqdPm3atEOHDvX399vY2DQ0NCxfvhzhACHStgKBYP78+ZGRkStXrqTT6dutdjx69AjSAMUWBo9zrbLELSFsrZ/z/GC72YFWesE7podZTw+z1gveMTvQan6wncUue/8DCYU3q6lsJigfPKBfPaoRnAHgyAjUz6PPirBPq8x+QReCaR5IHOToeUijvnpFnZYOKEvDiJmjUboIwHSjR1W8MPY6tp1eux9e5oaHh5+3tX63csVOO9s1mzaYr1uzbv3G927d+o1rN25as2GjsYnZmrXrraysbXbanvnp7IvOfe3d8Z8k+C7AkXFlR+SywS/nzd9hZb1x0+bVa9b9sHnL2nUb1q3fuHrNuveDDWmBTZs22dnZFRUV/Xog9Pb2R8fEbd22Y8vW7SYWlqaWqy3XrV+/YdN7t37DphWmFiaWazdvs9pp53j6zDk+X/jrBnzbIe/hyOtrcR1RBOzJoyqnSqVSwhPcuHt7b0bamiDXRR7b53htMQi1Nkpy1Y+w/SRwyxS39d8F2K8Oct11MD5qf4rzDhvEfNnFixcRM6w6oouZmZnOEtrFixdtbW3b2trg4msJFM331ccOQ8lppzxdPFgctpmZ2fDw8CQKhbJjx46YmBgXFxd7e/tdu3bNnj17LGMpJiamoKDAxMTk22+/hSBglD4tLQ1LJh7OPGfu5/iF7w7DSPspsfb6cY7Tou304xxnpnnMTPPQ3U6LdzSIsJvrvc3C3+nI5fMkBg2UaWI8gpCCEGVoSDl8i9T97yjre4QerR4BbBttVKcAAvbXAIFdfS0XSkuHVY6Bli+s+aMB9BVE1kaJZPjbmEa/s+e1pm8g6Glb67JVK8pv1D7r67rf9rT5edt71/y8ram19X57e/Pz1tbe/pqbt3eHhh8+cnzi4fA7e+G3vfbOwhGJSLzwe2NU7a22flxDy5P7zzsftHU/bO9pae1qfvbegRZoaGg4fPhwYWHhS9YghiEIQyAfPnbyxOlzzY+ePm7tePS8/Uln9/3W9vfufmv7k7au1q6+u/cfHjt15kpOnkAo/m1z6k3Efg9HXmur6qAD4hEIBD///POa3W7zfK0+Ddo6OdpWP9F5RqyjXqyDfpLLtCRng/2eU2Ltp4XbzEnx+Ivv+qVJ3n/57vN9+/ZRqVRDQ8OXihYQENDS0gJBUFFR0bZt2/r7+0cjaOFIw21ZdLiKzlJknr9kuWb1mjVrIAia9NNPP128eBGCoObm5sWLF0+aNElrz1UDCaWSIQiaM+8LDQQdP37c0NBwRD2s4AvmrVzyhcvGmeE2U6OsjVJdZya7zIh3MIhz0I+xmx5vjxyIqpfgMCPW3iDOAZyrF2unn+ioH2c/PXCLWZhbfm0ZpB5lt8AbkRoC4qtakIGwXEYlTy8+qJsZ7zLApo5WZpzficygjRP1bQWplEM9Xb2Ll35P4PEIIhFeKCQJJeM6vFBMFEspYhlNMkgRSclCCV0qp0vlWDaHo1IRhUKcQECRybBcLkkgZA7KcVwBWSSlyxQUsYwklNCkcpoUBI6bOBKIZnEpYhlZOogXioFHJH1F5IkeEdhc4qCULJWShSKSTIoTCXkqNUkkYgwqMWweTSpnyocIfBFNriRJZETxhFkQRBKyUEIVSwgiEYbPTTlyODlFe6D0m+0cOTCqpwFqsoDjC0SikVPqdCB1FBN9keRhEOeExEHAsTYKEvQ7Sgnn+4ZO9F207FuSVEWRQVTREFkyTOTLqSI5UTJEECsoUhVZMoSXKPASBUmsJEtURKmKBgfihHKcSIEXKwliBU2qokuURMnQuI4kBuEMBYRmipiykQGGkKbQYOH4JKmKJFXBeSkJYpACcjtuOm86kCxT0RSabroQFFgwyFJoiCIFVjDYSeH8fDUPtsuEGIhDPk2AhBkejz9x5jyq9hZdoiLxB2niIYpQQRUpx3eSQSpwCppYG4cmVjHFaqZESRfJKXwpVSCji+QMsYImHAS3E6UzQTiOLeYoIAJXShMPseUaIk/GlA3TxEO/NR0iT8ZRQHiOlDWoYUnUBLaQq4QIPG3tyAI5VTSE50iFwxCGKWRI1a9InyxQ0MRDeWW1Wdm5PB7vdwz83/GKTKXUTsTR+QgS0YANAgSMinR8lu5lFOes/WqFY76YpPBu8juyhl6H7Ihuj/89Bfj/9c5Y/bIXCSG2znVtqTOLpfukB1/sGqi+ts7S11FvrzWyff+G/6HWeptWJhxMV0hloIdGF8kLmZeyrl65ePHi1u3bKDSqtgDgRwtHWh6MxEWN0Jjy/yc7Ehsf9/3337e0tExat24dg8FAuD5hYWGzZs3KzMyEFWPBi7Wo8oMHD4qlEldnl4S4+P0HD/gfT55hZfpVtJNBnINBsvPHETumx9gaJjpNTXY0SnI2iHOYHm8/PR4AkZnJLtNSnAwTnQwSHGcmuxgkO3+6d/t03x9Mwlx9Dsf3oweQomt3BVgMBWkaUOY/CI68ejCNJRq96PDxfENDAI4s+nYpjsPBiQQ4wf/iiEIhUSjE8/k4Hg/H42E4HKJYTJJIetksnEhIkkkxPB5OIMALhQAQSKVYPn+Aw0Fzuf1sNobHoysUE2XRy2RyR0awfH4fi0UUi5EUkNQmemXccLpUhpeK+1gsqlhCVci7GPSnA2jukIokEqG5XAyPh+Zy0VwuKBiPC/DKBFXG8oUEgYAoFGIEvAEuO/nwoaTk1PGa8HWHaUZpkro5MwJgghQCSmFgKMLWYcUqxSeR1lOTgRkfZDSCcJV2QII5/DuuNwlHFnz7DUGkIkhGiHw5UaTC8uQkoRwvHMILlDje0ABrEMNTYvlDGI4Cz1fhhWo0R4bhDpJlaqp8BCuU48VKkkzdx5ECgDKeI8vU7RQ2RaomS1T9LBFfA/UyxXixCisYxAnleJECL1LoXhzr1wW+HQ+aJyVJhoniEbYa6qTwuMNQD1NAV0DtFPYr4Mjx0+dKam7SxENEnowqUpIF8okcRagk8eVE3iCJL6cIlTSBksKTkzgyPFdGFippEjVNoiYJFETBIFmkoEqGJkpnonASf3CAzucNQTTxEJYloggVeI7k1UUaNym6RNVH5VGESr4Cyimp2Wrn+hxNZisgHFtMl6goQgWBKyPx5XiOhCYeInCl4yZCFoA6kgC0HcotrXmbcATMRHhiAo/uGoFp3fA8AtN0eGR6gpNBihuyU4BYiGwiPInBtAV/v/16HXDk17mq1Wo2m817wxeTSafTqUwmnUwmguPhRi9ktdPp3IJgDVB3ReyEQRBEoJATzx83ifCcHW6vH+PwG4BIPIg8JcHRKNTmC5cfAo8kE5g00PIwB4NEIc+YMSM8PLytrW0UosDdNApHmppVcVEjbB4QHHRxc42MjLSzs5v02WefISUXCARbtmz529/+tmXLlpiYGL5UDA1DG00te3p6hoeHbbdb5ZWVzF23amrgj/oR1jPT3D6Ns5213+PjvdsMkp2nxtt9Emk1J9l1drwTIIQkOs6Od5qT7PpJpNW0ODv9OHvDRCejVFejdDe9BIdpe3dM9d/svT8OTyUjewAoAFwNBLK9BTiiVCpfjTxGe/Pl37E9/fKzMfcqlaq7s2fBt9+i2awBAXeAxxngccd12o2cz0PzeVihACcSovk8jIDfxaIP8Dj9XDaaz+3jsLqZ9D4eu4fD7GLQe9msTjqtl80iSMRoPq+TTuvjsMdNfIDHxQj43UxGO5WCF4sGeNynBHwPizlR5FeEo9msZzSSAIJ6yeSMrMzojMNpJ09eQaHaiUSKTDbA43Yy6XixqItB72LQ+yaubz+Xg+FwMHwuqA6LkXBgf2JSypiWe1NesF6NaGly4MyO4WHthwKMQhTQiAIagWWPoIX7/fSi7ZHvMIRoNwQBtiAYnDq2zm8q5puEI/O/+QYjUGAFwxjuIEYw1M8exPJkAzxFL1tCkKhxoiGsUDXAGxzgDWKFyh6moJerRPOVXQxhN4OPE8p7WOJWMg8r1iBxfv0fJ1L3MCS9TGk/V97NlHQxxJ1UPl6g7GGJ+zjSAd4gmi//9Vt/QAhHhheq28jCXpZ8gDvUz1HiBCoMT/6MyDp3Je/cuQvwLqftNlhDbwSHIxz76Vxx9S1475eSBQoib3AiR+LIyVwFhSen8hU0gZLKl5P4g7CTE7gyLEuMZYlxbAmRN0gWKF6d1LhZUIRKIm8QyxIjcAfPkSK4YdzIrwhkitVYlpg1qOnGM4qrb/nuiWJIhzEsKUWoxLLEeI4Ux5bQxCo0Q6gDWOOmRuKDepH48pySqqzs3P9w3ftN02L8yIh6BIxFXgASGI0A8uYwII8MQ9AnyU6TY+zAnIQ/EbSKCwguebH7jZ/DhKFvBo6IxeLm5ubYCa6413QlJSXEx8fGx8empaVUVFQIhVpZH6BsOqxFZzoZES3U00A0Bj34YNJ053V/DfnxX/F2BsmuvxWO6Ke7T0txmRrnoOe9eUeEf2d3F0KyOnLkyExDIxwGi+Sl7Urwo6WO3G1UxEWN8EUgwNwSyL0+fvx4kpGREdI9MTEx27ZtCwwMDAoKysjI8PLyun33znbrnRoIetR0f+PGjf7HU6d4bZqd6obgjylxtnPS3CdHWH12wOvjGOuZ0fYz09z04+w/jrH+KHqnfpw9wB9RdlPibKfF2U2PsUVYNoYpLjOTXQzjHaf6bPbYF4NFYxADZUMIwFUP6+hvyLfpG2LWlJaW3rp1a8JxOfEDPz8/pVL5ol9/HRNueJVK1dXVNf+bb3qY1C4uvZtD62YzxnV9HFYvm9nLZXUwqO0sWieH0U6nANjBouMkwgEep41C6qBRermsPiG3h8/u5bL6+Zw+HrubzejkMLp5rC4us4NNHzdxbRw2AycRdrHonUwaWSHDigXtrAnLM1E6GAGvnUPvoVG9Q/ZEHT54v7/3Xke7e3BwaFJSO4XUK+A8Y5CJg5I+DouiHGyjkSdKp5vN6GExetnMDja1g0mOO7AvITH516342kOALjG8TiF0EB0XRjaitV4DFjkNpFarF+73+7v/JhB5VCMLfgUW93qxQP6WAr5JOPLlN4sHeIoenrKHJe3hKTuZsj6OtIsjb2eKuwWKboGijSZ8RuZ1cwfRkqEerrSdM9jFVw6IhgcE6gGBup+j7KbJiCKomy0b13UwpDjhSBdd2sUaJA9Bz6h8MQQ1d+DbaMIOhribLevhDPZwBsd9960GMkVtFC4Pgp6SBEQ51EaXYkTqVjLnIY555kruWRiO6PpMB0eOnjpbWHmDyBvEMCQEjhzHluDZg+M6AktM4kgpAK/I8BwJji0mcKUAjnCkJI6UzB2kCZR04RCVr8AzxQMU3riJvCKQLFCgGUIcW4KgBAJHjmcP4liyV7wy7iM0lU8WKOgSdS+RxZGqnnbj6MIhIl9F4ilxbAmJL0cyIgsUvRQuRaAaNxEkEMsEkOhaUcXla9ffHhyBpxiCKLSzTXeDeIYhEaTSj7KfG+ui3VZHP2WRr9nfr7LwZuAIn8/Pz89fNcFl/JqulSuXr1jx/fLl361duzojI4NOp+tGu+7DW+dBPv9xBPzeA8l6jmunxNjNOew7JcbOMMXtt8KRz5M9/hm6bc6JQL0U1/+xXhVwIq2hpemno8ddXV1//GEzn83RwZHRtfMXcIQn1Ej4YovVlkhpAbOmG742bdrk6Oj46NEja2trmUyWdfHSytXmgeGhkAaKjIz8zuYHA7+t05KcZye5TI3YaZAAWDNGSc6TI6xmJDnpJTh8luL2j7idM2Ltv071/DrVUz/G7u+xVrOTXPQSHAwSHA0SHGfEO0yPsZ0SuXN6lI1hnMO0JOdPnNeEnzrIhUushLSavW8Bjvy/U4ujo6OPHDmi6zDEo9NTeil87K25uXlOTs7YkJf9cKur1equrq4vFi9opxHb2JRWBqmdRRnXdTDJrQxSJ4f2jEHs4NJ6Rex2FmVAzH1KxXdx6W1M8nM6ES3h9YrY98no+2T0czrxMRnbwaZ28RlPaPindEIHl/aMTR438XYW5SmdABKnEQAk4tCaMD0PCAPdAuZE8ScKv4/rw8qFlU13Z341r+ReA1YmoMol97rbP9LXy7tR0yNkPWESn9OJ1U9bBoTsNuaE5WljkjuY5E4W5TmT9JxOjN2fmpCUqF1WXm7K13kPugVezkY/qADJV4PgSpiP08kg7r9ZEFOR9UGC9cJju/2rL2bcKm5Gd8ogAJER4SZwYNLvuN4kHPli0Tc9HEU7W97GkLSzlc8Z0i6WtJUpQ4ugezhOK00ywB7CclV9vKFHBF4rSUiUDj8msPv46i6euhHNamfI+/nqxwRuG2twXPecIe1gDrbRpc/okqd0UTdXUfu4Lyj+yGOK8ClN3MqUgaxZg61MGeLGTeQtBJ4pqok7fr6bKWqnS5qwrD4R9ITM7+MPNmMYJy/nnjl7fixpCxkMOBwh4+SZ/PIbOLaknyrEMqVoungih+dIsCzxAF3QT+P30YSI66UK+qi8AboAw5AM0ES9ZH4fRYRlDpJ4qonSmSgcx5Z0EVl0iboNw2jDMGii4S4CD8scnCj+ROEDFAFdqH7chXvchX3Y3seXQ/1wqTrxXKpQ/aSPSJeou4gsskDRiWdjGLKJ0oFrJMEwJFcKKi5ffXvUEeQrQLt1jQIRcAtrWZ7uaAguOb8bdf6zZA+9FNf4m7lF3Q9og0LtlwOYpvBnw++lYr4JuyMikSgzM9PCwuxNO0tL81WrVlhamh85coTFYukWKh11BAlBtjmpQh60P8HAZYN+ovPMA7tmxTkbRNjNiHf6rXDEIMbRMNZpepTd9GQXo/1eRsE7l9n/6O7qNqiQHzx4EFVcMhEcaWpWxUYOs7iqh00P/AMDkLJNKisr27Nnj7e3d35+/saNG7lc7vr16+Vy+cjIyD//9aGjtW3+tZzZxt9+GWr/z9BtBsmu06Jt9GLtjFJdp8TY6CcCkDE1YuecFEAX+TTONrjgp5xnDdlPb+3OP/VxjPX0GNtZic6G8Y6GiU6zUlwNkp0BjSTO3ijJ+csj/v/cs9XQe8ux65mABq6BBodgqyLw2v2mZUdCQkIOHjyo67AXBwhB0I0bN/bt25eQkFBbWzs2AuLPzMw0Nzf/dfiLEHgmqdXqzs7OzxbNf0bBPGbgHtGxT+m48R0N+4iCfsYmPqJj2/nULj7t7kD7fUwXQBJU/GMq7iEN95CObyT0NZMGcCpJv5j1kNTfjO95ziQ855Cec0hPWYRmSv/4idNxbTzKXXRHI7qDPiwrbKwPPZJa3fagnU+dKP5E4Z1C5kMazjcq/JMZ+qRB0T1C3+3e9j4+c8oMvdgj+x7SMO1C2q3e5/EnD1+tKR2QsCdK5zED95QGWuMhA/uYioncl/w24Qg4LwrpKoUKLGEwRqlqbbE+n/LVfl+DBOfNJ2MmeRobxTkbRtrPT/aav8/H4mzMqQfVEqX8BWPxRWf/Z743CUc+W7i4kz34jDn4hCp6xlI+pkvb6NIntMFHBN7BbNT+n7Pj0o/Gph3ed/5y8L6jBy5cjzt0+tCF3IrmjqckQa9Q08oevItjdojUTxmycd0TuvQxXfqQKm7nKtoZsm6GzDU06XL5nYcU0WOaRPfKE7r0CV2qu337noZ+Ssr5KxGHThDlmscUYTtP9ZAiaGVJ7/TTjl+6fubszzAc0X6ZIZRXLBZ/5MTZ3NI6DEPSQxIM0CR9FFE/VTyuQzNl/XRJD0XYRxEN0CQYhhxNH8RQZTjOIIY1OMCQAkcfHKAP9lFlvRTpuIm8IrCLyBIOQ/lVdy8X1vRRRH0UUTeRj2UqXvHKuI9o/OFbLR3x+08cOZ351TcriisbCCwZmj7YTRR24rlHL1x/jqZQhEqkyr3k8SvbTxUP0CS9ZGE/VXg5ryzzynWBQPCfjfXXFAuRBRkGi6kCglppOLeSn5an+RvEOX2T5jsl3PrTaNsPwrcuTvX5LsXX+Mie1IYCLShBto8/ExyRyWSXL182MVn1Rp25uemaNZbGxivNzU0PHz7MZMJmNZBvMAgQfZGOQcQfNRB04tL5L312/DPS6rPjgfoxDpPDduolOOnHgQ39N7mPU5wMU9wM9troR9nPOOD1j7Dts723uieGqyGosrZm7969gL4Af/VpIeYos6blwUhMhJrBVh49mFFQVIgUb5JarZ4zZ461tTWRSLSysoIg6NixY1lZWcVlpccOH+l8+HSzrdUHpvOnxNrr7fOYFeesn+yEMGUmR1jpJQB51Rmx9kYJAFWtPxtD4DNgPdsRPI++5qdIBI4A+dYY2+kxtvpx9vpx9tPi7KbF2YGk0t3/EbR5VZh70/PHCKkcWSZAud+wKGtgYOBLcASCoEePHm3bts3NzY1Go7HZ7MjIyBUrVmAwmLEzjMvlzp49e4za0tiHsB9u9eHh4Y6uztkL5j0hDbTQ0PepAw+o6HHdExq2idjbQkPfJXQ/oKJv9jw7nns5/dzJ9BMZ0YfS9l88vS/rbMzpIykXT50uys6tr7zT3/acgX9MxdzDdj2gop+yCGBfZ+HHTfwBFf2Ijn1Cw/aJmOUP7wakxBzK/rmVRWzEg7x+k7tL6H5Iw+z0dJm3ZFEni3SP3PeYgbtH6Pn2++9+dLK9g+18xMLfw3YdvXYx7GBKzbP7EyXeQhl4SAat0UTpv0/uD09LjE9MeEvUEVhEDhljCMmDqhR7lPy0NCN48T6/kJLzjfhugUS85HDQjGRXtpDfxiIm1+Z8m+r7zT6/veWXWmk4LYL5VZ//LwFvEo7M/nrhc4b0EU3WQuK10GX3qZInVMkDiuwRVXi8pDrs4JF/fDT5//7tnz7RsXuPHD9wOXffxXy3sMSvVq39/HuLw5dye/lDj2iSezTJQ6p0XPeIIn3Ikt0m8Voo/OZeWlD8EbuA6Kd0QQtZ/ICifesBRYK4cVN4O4GdYqjkfrvZDvvj2cVtrMG7eOFDxmAzkX+rj3b0Ys5P58aHI4ePn8kprh2giboIgj6KpIck6iWLx3XP0ZxeigTHUmKoko4B+pNOXFsvsQdLf9SDf46mdOAZnXh2O5bZgeP0koVo+uC4ibwisB1Hb2rrD004dKW4jsxXP+tnDtBk/VTpK14Z99HDVvzBk1cKq+6SOdJZXy4+m5nXjWf3kaVYpqKlg3D0wvVDZ7PacfQeEq+fKn5Fffsokm6isJcszMwtheGI6H8Z5K/r8ShFBCGTs4fl55qqNuwPnRHrGHjteB2mjatR2l45YBjrtHR/QA+Xery5YuOpmLkJbjaZ++7ggeACbDBzdO/7TaV6M8wamUx29erViUgj5uamr8UtX/6dqanx998vMzU1PnLkCIfD0VYdbk+ECqxWA5k5DQT19vct8bOZGe2od8BzWpyDfpT9zDSPaUnOvwOOTE11/TDCakas45wE16lRtjPTPb9O95ntu63+fiNTxN+6fZuuB0a7RPtJ0PJgJCpsiM1T22y3ptJh8x8QNEkmk82bN+/MmTN5eXlpaUDlsr293cXFZduO7QNdPZAGMjRbuijR66NY2+nJLjPjAfPFMN5xeqT1nGTXGbH2U2JsZqW7T4mxmZ7o4Jl/TPsJAsgdI+65GVPigMjIjHgH/Th7vWhbg1j7WYnORglOgGuzd6dBuofRfq9P3Nc7J4cLROAoHaBl81aoI35+fgcOHNC1FARBXC53yZIlISEhYwNDQ0Pnz58vFv9C537Hjh0nTpwYG+0X/l/CkQfEvvvUgWZKfzOld1z3gNp/B99xn9rXRO55xsY39D5NPpPhFx/2wQcffDJ1iq2HS8Kxg3EZ++OP7Hfy8Zw9/8vvtq3NrC1u5xIfkHtbKOCtm+jn46aMBN4jdD2i9t/DtNsEeXrF7mlj4ZEXX/HKBI/6H9IwS1ebmqxbBEd5fAAAIABJREFUfR/fcxPfeZ+GvkfuW7L0m5UbLZ+x8XUDT1vZ+DYqxis6xDHUd4JEepvIPU3E7mZSTyOpt4nYuzctIS4h/i3AEdBHsF1wIDUCk0iIMr7/5Yy5sS6R5Zl9XBo8ZkEsozjnydG2JB4LYUWL1Irkm3l6kXbbTyeQxOBQp998vUk4MnP+gqc0cTNF3ETgNVNlTSTJQ4roPknSgJffZwzd6SV/qvf5P/6tf7O1r52nuocVNBC5XSJV7dP25es2Tp75+aGfczqYirt48X2SaCL3//H2FfBtHNn/Cl/bCzXkMDZNw3ESg0xxmrTBBkyxHYeZwRAzM0hmZmZG2RYzW7LAAsuyZZZMcbCO/reS46Y9+/6/3ufa/Txbs7O7szOz82a+896bN42SQWTfGEIyUIZkLl63G8WTIcTdmI4RNaElw6j2IVT7EFoyjOn4T+nMlP7/JB4mHGoZfB+WVrD1sBGS14vv/lDD7cd3v6tv7QyKy5wJjviHRKTnV3E7R5gieWvHCKt9aCZqlYwKet7S+bKEzKLzFjar1m2aPX/BnAXzjX4+9dMvF348dV5T12j3Qb0Ll24kZhTxJf0zpTNTPLuj3/gXi8DodFHfW1pbL6/rNUM42CKaMT8zpSPqeh2TWiKQjTD4UtCsrzILqrhiBb1tkCUGkFaLGHhLdEYhQ9jL7RxjCOQzpaO6WcGWKBIyixKSMxSKvx2OKJXjyongqpwDzjcOxdmz+6RAL6Gic8neS5zMN9tbqo27lBPKYjJyg6PVDt876E7e5+n3n2bT/8lC339/6+joaHp6up6e7rT0vxKZGBkZHDt2FAzWMTIyCAkJmVLWqA32p9bRfFIqx9++efz0yfJX5qtfXVrnaLXSzmyti/Vmj2sr7cxWv/rT0pG1z03Xe15d7ma13M50o5P1KnvzxS8vrHO9fMLi4julcq/mgSlnaJ9rZhKOoNAfXz59Ozj0af+ufZ+RihL04sWLyMhIAwMDS0vLlpYW9bY3mpqaRgaGyg/K1MqCrU9N1EKOlbbnN3vPaOqy0sHUOPT5wK+vAZ8iHyd63g0bBj1ZbjfjOmZAg+Nuvdju/Fp36x3PLsUX5QDCcNX8Fcjc76UjbQO/GeZ8LtVvv/+F35EHDx4EBAT8loRS+eTJEw0NjS8tgNQY5Ztvvrl+/fqXd/J4vKVLl07F/MGsVc0yyolPbAZz+77dDTxKvYTWJKY2ihnTUpOIBu9gNQgYjaKWBiEN0dNaxcFVM7FzZ8/bsv07GBPb2MGolTJrBdQmEaO6FbdVc8+aNWsi81JRClEVh4Dr4tW0UVAdLdMm3ihmNIlodR30uLyUTQe+J3XzatgEWA+nsY3WJKI1ihnIztYKDgk/0F7PJTcJ6AgZu4ZDhHW0IHpa69oo1Xxqg7gF3t7SJKTWiZkwIXOXlqbOj0Y1QnqjhN3cSoVLWndr7t1prI3r5sMENJiEDu/l1HEJm3ZuichPxQ8Kqjg4hLSlXkxtaqc3Slpq+eSGdlpDBx0hYTYKqfV80lOPV25uf4cpq/LXSad5AORVbUFwLtl7vf2loMrs4V/ffSkyWfbKfL39pa7+3klXByqvvjHY6j2uN/YHPxr9+A4ALmopqGqbaAC1qNa2qfvKL/0fAC1ZtePDO6VylYvVZo9rwIO/Tqp91Oa0alacZEhV61ElqHaKAiwmUConiE4XKK6mQFrAqcr2dmLio1I5JFds272vSTxU1/mmQTQME4/WiobrhIPN7cNwyQhMMppSBZ8972ujkxer+X2NsreNAnll+2Bz2zC+92NQZt4387/+bpcuaUhZyeuAiUempeaukRrOUFP7O3T/0MED+k5xmU1cRa10FN71ppbT3yRUAK+Tva4TyZvbRxHtY0jpWDVvANn9HkhNKMfI3lTxB+o6xhs6hhvaR2Hi143tY03ioWbpcHPneJ1wdNqXwsQjiM43je2j9cKheuFQg2hYHYCJRxpEY43t4w2ikRq+vEGgQErHEB2jdfz+ev4otmesTKD4yfTqzQcvaGPKstYeePvrEmaXX2xqVFSU8nd7WwKfkNfGD4JEJmVWMgRDNIGCLhxkiofoQvm0xO4YIXP6GQI5XTjEEAwFQmNAs0FXbz9ndQ5jmFIKTyEZUBKY0vvPnECzFji5+gDDv2SUwJIxhQqGQE7m9PI6x6m8frKgv6V9lCEYYbeP0QQKhnCUyO4XdI07ufuaWN3C0QQsoZwhkOPZPdyutxT+ILVtgCFS0IVyEreXxh9olYzi2TJW5xi1bYDM6ed3vcO3dLE7RjmyD2SunCUe5nSN4Fl9/I7XMcmZS9asayLzWqXjTCAROVOooHH6Gglsja3fk5gCSms3vX3G8tIEg0D2RMOxqUUJqRmKoX5VU57q9v6ygGqlm9rwPLihYNUri+upQQOvR4CGr+KO90qlaZof4F3TzlzFHErAouuTsrVDtMP7loaLFW+sX2WHqBa4q56a/Kf6UXEfkHsVX6veBiQMrPb/VbnK3nyL9w11bwD8B/5+dwB6B9Whiv0/7VkzNjaWlpamrWdoeETP0FBLD6xlqG9gZGBooKujr31IR99Iz0DfwFDHyFDX0EDXwEBP3wBwEKwP1jMwPnpU/4iRjpGukYG+oa6BPtjQSFdf20BPT9fgiK6hgY6Bvg5YX1ffQMfYUBcM1jE2Njp8+KCRkUFwcPBvA5l6ej9ZA8DQXNxYveXRhT+lkfkvbt7y5KJndEiws1tDVdWkomgyJxPqrg2OeOfurKxtID688wD4jqoDZG5uzmKxrK2tDxw4MLX/3s6dO91cXJWflJaOj5be+XmNhzUg0rC/oOEy6eXs3/O33AVwg/a8MLqqnVYppj7Ji1hpZ7LMecb7V78yX+tuvczRdK279eq7Z5+GeitVy2qmlY78FXDkS1PWd+/eHThwYNWqVWqXt58rB/hduXIlGAyeMjlQKpVyuVxXV7e5ufnL26bCX8KRbft+qOORa8UUmJBcJ6JMSw1CSr2IXidkNAhp1W3Eegmtlk8MzIwDgWafsTZFSVn1EmoVn1DHIze10+tElHsuL0Eg0LkrFuVcQoOQBu9glnCxjULqtInXiSg1AlKdiGJwytg2yK2eT4IJKJVickMbGSahV/Lw9SJ6TRulUcqq4ZGaJYxSDgYhYVaw0dVtBIS0pVnCqAeAFA0mJFfxSE0dLJNrlt/t/aGWT67rYCLbWdV88u69u45Znm8U0mv5xHoxtUJAbGqnOwR76Jz5sZ5HhEnoVQLgf4OQUsUjwdqZdSJKrZjS1E6vF5BreITHbvaurq5TtffXBSa/i/oFv35KQdVo+t53rkgVqwQek1dVTpZWOluufWXZOzb0JRcNKj+EocsPed0LhhWqd5yeYiF1R6n+r4ILwDvUFnnAvtMqDPFeqVxha7reyRq49lH5/qMaZ0zd/jmgysefgiNbd+1tECuqOt7UCRR1ouFqgaK6rb9BNFzeNlwhfH3PLRAEmnf1hUeNcKiSP9jYPsocUWbiO0oEo94p2fPngZavXl9EFcNlH2qFQ9NSvUheL3rbIH4dXdO0e7dOWFkjXDReJVZUt8mRXe/qBEPI3velnJ4m6XgNX17bpihrG21oH21o60N1jNUIFCXsAYTsHaxtsFE6Xiscamwfb2wfqxMN1YmG6sUjDeLX0760VghcrRMN1wqH6kTD6jBwf/tojUDR0D7aJB1v7Hjd0D5a1z5cKx6qESmaJe9ruN210vFHbkFaRj8V0aVN0tf1wuGiL+CI+ruomsAkHAkMi0jKrKS3DVPb5DTBIF0op7YNTEtkXh+Vp2gRjbAkYxTugPWNe6DZs6OS8hFkkaj/A7drvBrFapW8bhUObv1+P2jW3LTCJhp/gCUeBhBM2yC+pYveNkjh9pHa+qhtcgpXThMoKPxBWtswp2O8EctevWlHTnFtp/w9ld/HEA0zRMMt7aNETg9TPIRt6WRJxhiiYXqbgiUepvD7ibwBErenVTpO4Q5Q+H1kXi+6RUbi9re0D+PZMoZwlMzqfvTcYecB7Raxgi15g2d14tkyrvQ1qUVG5cts7j25fPMxRySniRXTFnYykg+gtJiUwr8Tjnz8jAGaxCyw3yOblACyTDjFa2qEcD7GTe0HXO0xaIr1irnEAz73riYHjKp0sb9jeTXjq1rA5NxDxewAr6ntVFRzjGXOl1Y5W6oYEPCXCKT/b8d/B0cOHzxkoK9jaKCrp6dnYHjE0MhYz0BfXx/8I1jviD6AQnQN9LUNDLT09XX09fQMdLTAKlyiq6+rraOnp2ukB6zMOaCvo6enp2sINjACGxvqHgGD9fT0tPXAunrg/wBHvijBhHJi4lWE/7pH5/59BP/fxqx8eu6Gj31MRHhMdOSXHennOZWyqfmNs4MyOi43IjR86vsCO/r+a9CNiYlZuXKlOt+fPn364Ycfnj59SuWwfrh8coXtxdWelzUczNa4mK90Mp0p0xoul5a7XVpvb/69x7Xt7lfX2poud7u02nVGS11AieNqucLRbI2H9aL7p448u4alkYGWMZ2y5n8OR+7fv/8lHBEIBHPmzNm1a9cXX24yuG/fvoULF3I4nC8veXt7m5ubfxnzZRioXJV0ZOveHdWtuEoRsZZPqJqR8JVthFohubqNWM7DVvBxMCH5zA3zf/xjvnOkXzEPU9mGBdBMG6msDVfERQemRP/Lc+5+vcNFtOZaIbmMjy/iYgC4MEP65W2E6PLMr1csrGPjiljIRjGtmIOpayPVdFCL2cjqNiJCxi5rxeQx4U09APRplFIrWpGlrYgaEaG0FVHORVUJcKUcZLOEXtKKsn56c+GqRZhOVgkfm0tpqBdTFi7++rbz0xoeoZKHrxWSC1uR1UJiGRMx59tvIgqSYVJGEQdVKyRV8fEVbExDB72yDV8uwNcKSdVcXDkHe9/V1sXF5cva+4vCQM/yUflBtdy3d2zIMOiZMcSu74PKk6CKXSY7NaVyrYv1GkdLqUK1RO1za1T+qhycePswA7LN9Sp9CNDsTM6ovujzprpF1asmJ2dA36fa/XGry5UNjlby9+OAvETdA37x7G+lVvudnJxC/P+lI5t+2FvbJi8Tva7iD1bzh8r4QxW8gRqBol401iB5q2V8fM5sUGRxc0Pn+yKGpEEynk3oauhVYhVKk1sPQbNAJywuwwTDxdyhSr5iWqri9td3fKxqG7rm6HFY5+dcmggmelPeNljJH27u+ljI7q3rGK8VjTZK3lQLRsvbhvNZA8QhZRmrJ48q+VcGasTvqkVvSlr6i1r7ilm9dcLRKp6ihDtQJRqp4MkrufJpX1rJVwBX+YpqwXC1YLiqbWiKStg9Jeye0tbeMk5fGWeghDtQIRiqlbyGtb8vZEhhso/xZc3L1m/3zqxo6nxTxRsuoHX5xKSppSP/DkcCQsMT0supPAWZN0Dh91Pb5CRu/7QEQAf+EKm1j8ofQhDbtny/CzTvHwg8l9/1AU4Skrg9RE4PV/qOxOzaq6n39eJvXnnHYhld7PYxIruXxpeTWvso3AF6GyDnAGQeqjcSOX0Edn+rZPSls5+20SkSW0Lh9ZJ5fUROH7pFhmJ2tbQP04VyNKOT1f4Ww+jFs/owzC4ip4/EGcSxumhtw8RWOUsyhmZ0tPV84EjfoehSEl9Baxumtcr2aOrce+rYIhrBtQIiFhyriyV+TWrtY4rkRTWoBQtXo8k8Iqdn2sKSuP1k3gCZC2Q1Kik/PiV9aHjg75GOqBGG8pPSKiNoq8d1gogzyS+fZ/nKT0rzaI+1LtYbXG1+AxNqnDKh9KnP1Xh8Po0OnxpKJoe6yZ/PfKY6nRwm1fLMj8rXyk8aHjZb3a4Ce4+oFuD9m3Bk8vHPEvE/IR0BHzpkbKBvZKSShRgY6OuD9fS1DYzARnpgA32wvr6+vqGekSH45BFd8x8PXz124PrxPfd/3H/NaK+VwS4bo0OXjMA/62ppgfUMDXR1DcE6hsAT6mfB+no6AB6ZQTqizvJk8SfaJEL9exar7ExmGsf/V/FLXploPbOKTIu/etVmsho/5wH4NEoAjji8/Hjrrj0JS5y8olSC1LmNi4tbvXq1OlxcXPzkyRPtw1q+SVFb759b73ttsd35NY4WGzysNGaGIxtfXVrqcHH1K/OldheW2J7XcDD79pXJZiermYoH+Ix3MgfsW1UObbY/MIFkJU+1ob9aWXPv3r0v4Uh9fT0IBDp58qS6Br78f+rUKRBoErRNxbPZ7GlFKeobgMr9pGTSGZv2bC9noUv42AoeuoyLmYFQRRxUZRu+jIsp4iCKuchaDm7trs2z54CS6vILuIgiDiKHUpvb0lwiJpS1YfTPHAXNBlncu1LFJ5TwMIWtyGIepooPPD4tVbSTz1+30DLWhYkoBVxUBR9XzEZWtuEzaLWNUmoJA17BRley0WVtuHRabQEDlsmor5eQywXY4jZ0XktDtQhbIyHVCkn55IZqCSWsIHHp+mWxpemoPk5zJzMNWTZ/6VfBuXGVImJhK7Kch61swxewm0s5yD3gAxZ3bYq56BIBrpDRDFxqxRTzgEwW81EVfEwpB13MRt1zefn3wBGg63k/KXwtYGHXu9mEIkone7oPKgt+FW4AjKWcrJa9MhcpVCvl1OBA3T0plSgJ59vnF4KaitQcNdV1qr/4FNepRSNAY1ABDlF3ZzEN/Z3PrWWvzN1LUzPRdd0fX09dVSc11bQmvSb8n+HIxh37qviDRW2jZZyBMv5QMXeomNNfwRuq4g9WtPQs+Xbpsm8XFVA7Kzs+5lPaC3nj+ezXyGFlQFrBN9+s0PhuT0B+I2pQmcPuKuUppqUKbn+F+H0BS6Z/ysTk6tNq6XgRW14hGKnmjxVz5YW8gaKWnjJWX0Izu5SnKBeMNUjGsmjdBZyRBsl4Hor5wi/8eUAcXDxWIxwDctU2UsYfKmsbLWsbLWQNVrWNTPvSUp6imDMI3MkfKuHKi1oHiloHijmDxZzB2o631eLXFQIgnQoeQOWc4bLWoeIWeRlfXtH+porZqbH9wC234KKWnlLucBa10zM6LSIyWvkJmP9OdnyqH14bPyA0Mi61nNyqILD7Ca29JM4gEJiOyFw5qXUATZfR2oarYOR/Ll6+5ftdNG4vngUM2+zONzBSO5WnINA7duzSBIFAoXEl+JZeCleOpnXR+EMU1eNUngIY6blyGn+I0NqLZ/fgWnoJTOnWnZqvPKHEVhmJ24tjdeNa+ymCYQyrG8+WkXkAZKHwhuHkTnbnB6pwhMIfxDF7GKJhYusQpkVO4Q3XYrgMwUgDRkTlD+E5AHzB0fgg0IKsvCocswdJ72OKR6htciy9lyEYQdElzLYBjQ07fUJisQzptIUlsPtVUGmQ2DoQkZD7d8IRgBE+KgXd0k3uV+9VxKtB/a8qRdukGlSptIjzApyBul6e/KAqF/LA4pH3SsH44JEw258hDmp1zyQn/gH3q77+ZGqqecXgxNt6LtW7Jvubl+c3O11Owtby+7vUzPsbY04T+hNwRF9P18jI2MDAAKynZaSvbQTW0tfTMjqis1/PQNdA/4Sx7qXjWg9PH/I8rxljeiDLfH+xzc5Kix1Z57ZnnNqS+suB4F90Xx3b+wh80AR8+BhYRxesr61nqGegb2gENjIEG+vNCEfUXdPndj+RC6vYcOWn1e4zjsszjdd/Nn6Fl/Xa26fsI/y0dA5PorfPyhp1ZpCoDw4vPxofM3k39naSK6fgyJ07d6ytrauqqpRK5enTpwUCgcmFi6ceXlv95JyG1+VvHp3c4nl1lbPZaocZUdXGV5e+dTLb6HZZw81Sw81yg6v1t05m/wGOrHayAFySOFqscDRb5X117TOTewGAeujvkY7cu3cvKChoqoElJCSAQIDeCgDZn5eCqq+am5uDQKCkpKSpm9UBIyOj2NjYP0SqT9UtgMmgrdu1rYgJz+fAC1ubCjjwaamwtSmX1VjMRRa2NuW3NhZz4ZnNpbMXLlixeVU1B10qQhdxmrPp9bBeVp2UFpgVCZoL2gneF1aaUiYh5bGbSnioAg48lwmbNvECDrxMRNTYtua5t0Musymfj85nNRWxmkt4qBIeol5ICClN9MmMDM6JbZRSc7nwSj4qV4ApojZGVGXlc+D1neQKHhJSnuadAC3nYQsF2Gx8zXGL05dt72Tja2Lqco9du3D2tkUJC1nER+W0wApbmqoEuFwmrJDbfM/x6Xf7vs+mw8okhExSdakAU8KG57CaC1vh+a3NxVxkPqspnwW/4/LMxc152mr830YCH0Ulj3378YNNZvChoMeK16PAHEh1TDKtSm6x3s1msaOZbFi1ScdUR6bimI9K5dlYt5NBtqMT7ycNOVRGTsBFlR2JOp1Ja1lVakQZ/2ayv7b/g8WOJgudTLa62WyyM7dM9aV0tE3O7b6Y9gF5+ZPSkfXf7y/nDubzRgvZ/UWcoTzOcAF7sJg7lMVUQEoxoLkLNPUNCzgjZe0TNXx5Xutos/itR07p/p8uHNQ/G5pXn80ayGaPFguHC1vl01IJe6C47W0Kgbfhu31PfKOrZb9mUrvL2sZKmPJMRk+5eKSKp7CPKnJNr82m9xRyhzMpkhLecBl/6L5fzD/XbgHNnj3/m0WLNdZnE8TlXEUusy+nZaCYP5rL7M+h9ZTxRqZ9aWGrXF2KIo4inzWQ19Jf2Cov4igKW+XJZFkmcyC3dSiPLS/iDJVyR4pbFQX0vmxaf2X7u2xmf53wteax82eu3c8giAo4I2kkqWtkyh/hiOqj8/gCv+DwmORSQssAltmHZQLgYCZC03swjG48a4DEUQSEJc2Z+4/zpjYYeieSAYz3MGJnE6WTKVT4BMXMn7/o8EGdJoKYzAFwA5bRTWodwDK6MXQZltGNpMrwTADxoOhSLLuPzJVX1BNBc/+RWYLAs3tobcNwmowqHEMxuyn8QRRd0kwWY+idOGYPgT0Ip/bUYIX0NgWaJGomCgjswQZCJ0f6jsDuIrXICAwZ8Aitq0WsgMSlf7VwJQLHAeAOV4GiS8lcOYIko/IUcHIHmTNode2RtuFPZNaM5cW19GKZfbiWXmhsblxy2t8mHVFzEKS5ZLWrNaaLr3ynBLyDq7hP9Q8Inot1n//ilzVul9UxaskIEFbxYACsYLWtWYe8T/0UMEmYGla+CAP3qziU0d/hWZe9w/PmxldWiwF3nRa7PG/9BHWo4VKmVdaoewzV/z8BR7R1tcB6BmAwWE9fy8hQ10BPHwzWBxvp6RmAzx/Ten7uYMTl/UW3D8Dv76fdP8C5f4D//JDw4b6Wa3u5FttJ13RLbhmXnvuu2OB7L/Cuh3r7zoEPG4J1tQ0ALY6hof5xfYOZpCOTncxkpifsIgFNzUqPvxyOaHhYr3p01szx4dGjR/q7VauO1fagk/2mEodXOtpNHD1u+jkCyOKkdMTQ0BCDwZibmzOZzNOnTyuVyuzMrC1nDJc9ObvK3UrD3nSzx5VFtmc3qbyZTQuUNFwuLXWzWGl7cZ2zJeB09cX5Ja7m/0FZA8AR10ubPa4se3F+le+15c8vnrG7+1u7+YtNWe/evRsSEjLVsAICAkAgkJmZ2VTMVMDExAQEAkEgkKkYdSA/P//QoUPq8GfZ3eQtQEP/pGQyaGt2bsqlwbLYjbmshhz29JTNqs9iNuSy1PfUFXCaHCCeoLmgn26Y5DNgqdTyYi48nwFLQZe7xgdp/aR7+DjYIzm4VIjN4DZl0OtKeIhcVkM6vXqm9FMIVfOXLPBOgWS3NmUxG3JYjTmMujw2rFqAueNvezf0lXNswDatnR7pYQVCdCGzoURMsHh4bbv+fp/CuIo2VDQs68jls6AFcz3zotOodY3dLVnoyrvetuav7prY3XKKD0xAFlW2E5Kp1XmcxgJ2Y0FLQzq5spiPcEsI+XrxV8n4yiIhJptanctvzqPVZrEbc1rqs1n1eWxYNrMhm9F4y+Xp3wNHVMIRoMMaejd+yP+hZaq/GvhOTbnUp+9+/bjd+9Yqe3Npt0z9HdXxkyrtCaVXU/73DpcFw32ARep7QJkyKSOZgiNK5btPqg50QtkzNnQKar/M9sJXL88ufnkO2GbSw3rei9PLbC/cSgyQfBiZavDAu9THn4Qja77fX9o6mMUZyWX257GHstnD2Sx5Hnsop3XslmPQrNlzz9jc9ivFBhQiw/JqX4Rn6/90EXze+pJjSGAJoaZ9LI8jz2KN5LBGc1mD01IWs7eQ9xZajZ03b7F7ZmWB8G0GrS+HrShgKjKZffmsvjJGz9mH3pGNLXlseQ59oFgwXi8eueoStOekxV2/uEp2TzqMtPWwkfkL/3x6d07rUDy5u5A7XMEdqRK+yaT3T/vSXNZgNlAceS5rMIsBIJhC7nAhdxiIZyvyeaMF/LE87kg2S57V0p/DHszjKHJZisK2N4l4aYVw/MyNp7vAxrnUrmz2cCJe4hKR+h/gSFRiCY4xgKL1omjdKszRi2FMQwgyAEfI3JFmUtfPv1yav+CrsIgUpmgM19pfhxcT2Aqu9F1CZtX23TpbtmtWVCFpvBEMrQdFkRFaBnCMPjhRiiR3Yem9KEoPjjGApvc0kyRIeh+FMxQamfnVwiUkziCC0gXAGrIMx1bUYYQ4VndgVI75dbvTprdvPnCh8eVo5gCc2oOjdTx87nr5zgs0o5MqHCuoJWzdpbVf6yiT1+sNSU3Lg9VhWnSNf7l05RGe1oFr6cew+puJ7QiKFEdXIKkyAleBIHb7hSTMX7SUzJqmpOrio+k9KFovmt4TFp0dm5Q2PKz4e5Q1anmGZaq/dsjT0Tfjyo/KUbVs8vPE4KNSeTHGfZW9+XdeN1WOqlRso1aAqjreBh5t7SvLOg4FuPB5HPkyMBlWwZfXEx+cylPW219a4HBBw8Vqs9vVlXZmy9ytQQ+O/wixw8ja/tC3TzLp5M+fgCM6ugf19PT09cH6RjqAfareUR1dA0NDrcen9wWYHyh+BHoGAAAgAElEQVS5e4DmoNnuflDqdlDqcFD6TLPTTkf6QlNw+3D7VU30s4vFL62xl/bhftpTd3R7qvEOd4N9V8GaJ8Daegb6OvoG+npH/hMcUU3DgCxP/Hr25a0NjpeWOs5odDHt4P5fRK56Zbbmlbn+Q0tXF6fa8kp1/6aSH0+urMHhlU72n5489/gjHBGJRMePH/+X442ff/752bNnubm5SqVSIBAsObJfw9F8tbvVVjebFY5mix0vbHaZ0RZkheulxc/OWsZ7hmPKoegy8xi3hU9OL3f5Tz5Vljmbb/W6tvTp2dW+15c8P69zy+xvW1lz9+7dLxfrent7g0AgU1PT37c24OzChQsgEOgPy3CUSuWbN29++OEHIpH4748AMZ+UdDp11Y4NmdT6tJbaTGZ1BqNmWkqlV2cy6jNo1ZnM2jRmVU5LvbHF6dmzZ5vb3fbMhfqVx4TXpj0LdQZfPHbk0qlTt82jazJL2tCFIkwytTKdDjwFJNtSN23iGYwatzTI3G/mhJSnZvKaU0iVmaz6dGpVBqMqsTHX0uluNDw/pal41sI5T4Id0zmNSbiSMhFh+/4dCzWWxDQVlLejc1l1t7xfgmaBnid6p1EqE4mlua2wYi48h1YDqU8v4SEK2hCZzNoUSkUepzGH3ZBGKU8hlWawakKrMmbPAwWUJmQya/NaGuIZlbn02jRGTQatMpVRmcmsTqNVZdDrbjg9dnZ1mr4O/7exn1Qra94r+96N/eB2/XyCZymPlMFE5tCReTRkCR2TT0VmM1F5xOZ1rpc321vGNZeXcYjVfGohHV3IxJRwiWUcYkUL/kFh9FonK5JMOCUdmRJyTCpr1HBEBUgScLVr7c1WOJuv976yydlqg4PFRg+bdV7A8rS19haJ+Do14lEvsVE3mz8rHdH4bm8hazCNOZRO7c1iKoAAYzCTIc9rGdinpT9r1pw7XtDHEdn3A5LuekWffeC0S+fI+cv3ylh95X3KRGJHOrW7QPA+mdSXyRyYllIYPTnMMdf00lmgBZFIZgp9KI85lEQfzGENpzP600hSh+jS5+EFhfzhLM5QJn2wgD8eUo658MTNNaO6olOZwvmYTB+Ox4p3GpsUtfTlC9+ntgwVcRRJ8NYi5kAadXDal2YyB9LpfVktwFV1ILd1KIPRH4eTlLb2Z1IkqcT2HFZ/PncogzmQwhjIYAPSoAzWWCKxE8BhzoFffbuqgN6XxhqOw7Q7Qj9LR34DfUBl8/gC38CIyIRiDK0PQelGULqQ1J4ZidKPonVhWYo6pHjTtj3Ll68sKG5sIEqaCEI6tz+ruNnc5ukBnVNX7jgX1pDwLQDsaCZ0IkgyDK0PTe1FkGRIcjeG1oehDmJpA3CyDE6TNVN6kORum5svd/ywC0XrRVC64dTeJnJ3E7GTxFGkFjRfv+9CYQ/Y3Hy+asOOBjQbTurGt44WVmC++uey0ybXYLg2DKu/sIaw8bsDCxevhSGZ8xdvevDc29kn2uhnq+RMGJLc1UiWwoidBPpgM0mKpQ01ETsxLXIEsT85sxw0a25VA2PG8lJlCAogywmNyvo74Yga/RuEvtAKfJxLhpdwiYV0dC6hKZ+KLGMTssnNZWyCjt+j3V631zpZ5VIRxSxcNZ9aRsOUMXFlHGI9lxqJrtzmfRMKLwX48dfPO1WprEHU8hK1NEU9E2gWsw753F/w9Mw6z6vrHC5tcLRa/Ojsdt/bix3NltuZ3s2GfmG4+u/90Z+AI3rgw8YGhkYGhmAjXV0jAwMDI9Nj2o9N9pc82o98eaDN7eBAwGF50OFeHy2p00HpC83Olwc6nu1su6XFuqGT73gz69VTprk27qxmy9ndmJM7S4/shujsfaileUZHW09PT2dm6QgwWVIBAKDtT0zo3Ly41sXyW/sZV7z+F8hj2kc0HMw03Cy3XztVV1fz5N7k2hkV/03CEbWyprgM/kc40tjYaG9vr1Qqg4KCNm/erF5fMzw6sviY5npPm8V25zc6WS52uLg64IrGy/PTvnu1E6BzMQh52v5eDaInBOP9ugEP/3OxF9qd3+J5ddmTs5uC7ix9cWGX1ak3b96om+MUmFXvWfM/N2W9e/cuFAqdal8+Pj5z5841MTGZipkKmJqagkCgf/eZplQqLS0tfX19pxzeTT0CBD7DkQxKTRKzOp1emUKvmJaSKFVpjLoUSkUGoyaJVp5OrVmzf9ucWbPvebx4Euz4INTB2uWuvsmPa3dtuur8uFSIz2xtTGRURWEK0smVWS11scSSBEppKrNq2sRT6BU3PJ+D5oEyqPVxtKpkfGk6szaVXJZGq7jkeCcgP6aAi7rtZweaC/JLj4DiirJbYBHwvLWbVh80OFwhxgdjMlNaqxOQRd/v2eWWE5JNrUyiliUwK+LJJWmU8lweLI5UHEctj8cX57FhqdTKBHIJADXYtfHkksyWZtBs0OMo9wRCSQG7MRiXU8iBxRNLU6nlSdSydHplEqUimVp95dVDJxfH31XdX3SiUjAr3yqFI/3rX5pvcr68wf3KZhebTe5X1zhc2uRovdHFRsPFCuz3CPT05y3ONls9rmu8NN3odmWtuw2w/M/ZZrPT5TUOl3Y5X/vW5RK8jTkpF1Ezl2rqNikWBvpA4K9/fORinMdqV0sNe5X3HVfLb1+ZLLG/sN7ZcoOL1QInE+soT0C6AohDPk1CGVU6AL75P9uOrNy2L5/Zn8yQp5K7M+iKFPpQKq0/jS5Po/QsXPTtwuXr4jCiBKIsiyHPbX2bSOo1tXdfvGrbDWdInOr+NKoiktydyx5IpfVPS4nMvhTi4LOIlFmgBTn8/mhsX37LaBytP4kqT6IPFrDlhy4+KaT2JlK7oDhpNmM0gSh7FFfuVYgs4gymUnui8dIsljyF1Gl08WYeTRZO6E5hjSaihRdf+D+LLk0mD077UnVkBlOezhhMofapSjQQjZH417Qcv/Zcx+zuifsuTilVqXhJOr0vkdqbylAkEGVpLWOplL5kmsIemgqaPS+L2JnCGo3BiFVwJBawHfk3OOITEB4RX4Sm9jaTuppJXQAgIMumJRR1oJEgbiTJKhv5c79aDAKB7B2DTG+4XL31yvhns28Waxw7ZV5WQ0GRe+G0ARiluxHXgaL0ACkTOuHELjU6acJL4YS+Znw3DN+BaRlspvTUo9oNjS8aHz3WTJQ1E2UwXBeS0o+k9NajhdY3XzXj+Ghih4nlbdCsBQhCazNR1oiXxaWWg0CzX7lC8czBeowU39Lr5hmxbu0uIlmSkFZz/6m7o0dkZQObQFNg6HI4vbeJ0IXG92OZfU24HgSluwolwjHGSqpQsxYsiE2unLawcLIMQVFXSFdIZObfCkdU7LM/8OHilxc2elz91sN610trDVfrtS7WGz2uLnl+Xiv4yZyHJ3YE3gPdPaLr/UDD8dJGJ2sNO/NNntfWOVqtfnpxs9vVJU7mjmXJgD71o8ohqeq7q6WYakYDIlSCk6D6/EUPz6z1vb7RxWbRwzPbAu9+a2+64bnZZo9r37pZbXOwVsORGWQkfwKO6OocMgIb6oP1tPQO6xhonTuq62qpXWh7iBek0xGs0x9yeDDksCzwkNTrcJfjwe6Xml22ml0vdotuaVPvGKS43S14+azzlz3U89tYpodazuwjHd1dob0jWHP39cOax/W19Wde6AuUWjU1Aoo8MXH4+vmVTuarX8284vVPemWdCQ9scLUGtCXmhlw+5/ABzS84b5ING5vGXz592yYa/B0cOXHixJIlS7S0tH788cfvv/8eBAKdOHHi5MmTxkcM5xjvBNynel1Zandhk9/1xU/OaDgAPs2mpfUuVndywoAWoKL3yombmcFrnWZ0q7LSzmSds+U/HS9u8bgCbGfjYrHV1Hh0ZOjvgSP3798PDg6eGvhSUlJAIJCNjY3qk03KttT+dNW2I2lpaVM3TwWio6PPnTunPh0eHg4MDIyKiooMjwiDhgYFBPq4e6/YsjqdWhFNK4wlFgEj93SUyqiIJ5fFsaoTqEWxjOLw2ox5c2ev2fN9AqU8ipKfDAzwFdGEXKtnN0FzQC+jPNOpVZHo/ERGVSylJIZaktRSEU8pjqEWJ9KKgRRoJYmMimhsYTK9IgybndhSYWZ7+5uli5PxpbHMwhRSaSytPJJUkMqovBvwMoKSk8WBfae5a82WVdHw3CR+Qyyp0DkXCpoFuutnH47MzaIWx7CLExkVmkd1ovFZaZyqUHhGHLU8mVMTiclJp5XHUIriySUx5OIYakk8ozwKlx9HLMpk18YRi5LoZfO/WWDt+jiGWpJBKoskFMSyK2JwJXHU0nh6aRyxMJYEZNL65c2ffz4eFBwa8RcfUQlxof6BCXHx9qG+O9yub3G9YvDsqqbXXU23W4c87uxzvKbtenv7E/NzQfaz7H7Z7HFtj+sNTbdb+xyv6Xjd1/J5sMf1xgH324c87mi53FruZmUb7B0VGBoQGxEJgcZHxwSFAfmPioiMCINAY6J8w4JjgyEBsRFbPa4vf2W60sl8jaPFOgegF1jpAmzhtMHxkoaDxXb3656hgekRsYERkKiY6KiISGgYJCoyPCwqIgYKDYuIjokODw6CREdF1N4zaHh4NCoy3Mc7IC42Ijw6JiosDBoTFQ6Brtu5K445lNwyGoWUpDJH0+h9McSuBGJnQDEeBJqtf8E8EiWJJ/XH0/tiMLJkSnciSQwCgX74XjMZ2xvPeheB705vGY3HdEVQulLow/H4gSh8dyJLEU+TR+F6EuiKGAIgfrgWmDxvNigePxCBk6dQ+2Jp8lhqXyRRnkOUHbF6mEaSxtLkEfieOOpQMppn45EUAhfGMRW5rDeBMGECezABIzxyyzYKwU9jjsbjB3LIvcv2HXuVVBFPHkxhjEfhu5Log9FkeQyxO7X14y/WN5OYY7HkziiKLJUxnMN95wsT5XHHb/mlW7tAkrBjcaTOR5DMfy5Zd8cDEs8cjSV0R5K7klteJ1E6o3B9sdS+B5D8BaB50YSeKFJXCLLjqqOfqblJRDgkNAwaFRUTFRkeGRkZDg3x8HK/ff9FZGJFM7GnCtVeh+uox0vrMZImQpdq4O+E4aRNhK4mQlcjvrMWIYKROrD0XlcPyKzZc8+ZXW8myqqxYhixs54oiU6Bbd62Bww+iqZ2w4idCMJgM767FsXDMrphmI4mQhcM34GgdAOpETsa8Z0oWjcMJ62Ct+Pokq07dpuaXEdQumuQIgx9oBYlbibKiutZ1x/71qIFSMrg3G/mnjtn3QAXVqMlCOLwJZtnc7+al1tJrUG21yGlRIa8vJ4BPmqGIIia8JI6XAeK1luNEDfiZU3Ezjp0B54x0ojiNeAkzRQAkVQjuY3UgSZcJ2jWXFfv8EZ857TUgAaqAkHuC4Dm3r7/yNfPMyIiKjI66i9m04iQCGhwOETH5fZSV8u9TtcOOFw94Hdfy+nmAffbmr73d7+wOup8b43b5a89LXe8svnhpdXBFzbgoKffvbTUcruzx+HKQdsr2p73lrpb3Qpy9YWGxEMjI6Dh0KjIyZ45IjwuKjoiJCw4NCQqIjIgPOyY79MlLpfWOQMesDZ7XNngar38lekqV2BT+tVOFps8rwSFhYZAIWER4RFRkZNlh4ZHQMMjI6Mh0ODomISwoMDA0JAaZ2v0le3hoUFRqgMCgURHR4eFhUEgkMjIyKdPnx4GH9Iz0NQ11DkIPnrkiOFTM81yuz3SUM3ROO2+aM3OUJ2BIIM3YdqvQ7S73bSFLw803T1U80Cr2vRQnt2taPcX8GtnJBcOMH/RbLHQov18kKB7AKtzoOHw7vgDO+4c2qWvr6mrc8jY2OgIGGysr3vj5pWwEEhcTLx3CDAkJcTFx0REBoeGhEVB15/UWet5ea3j9IP4tCP7fxep4WC2ysfmoMOV9IJs0/MXBocndxhWy2p+/fVXFPojJFgpbFf8Do5gMBhDQ8OOjg6FQvHjjz/evn07Ly+vu7vbzclxx40z6s4U2CfPyWKjq/UWz6szZW6hw4WT0Y7DE2+UHyaUHybkH8Z+irD/xm7m9c0q1/KA9aur9UoHYNffnebHx1+P/j1w5MGDB1/CERgMtnDhwr1796qxxZT/FaVS+dNPP4FAoJqamikUMhU4evSoeju9T58+dXZ2BgcHe3h4+Hr7BAYHBAcGeTi7f71qUQwmL5pWmMwojyIVTEtBiLRoXH4EMT8cmx7LKH0CdZ8FAumcPRaJzYsg58WSCqPweXGMYrsYX9DX83XPHwnCZcWxK4KQ6Un0sjBkRjQuL4ZYEEXKi8RnRpPzobgcKCo7mVyaQilNIObHoLMuPr++cNnSeGxRGCkrmVwaQSyKIhfGEYti0XlxzBL7JP9Fq5afuHo2kVkejMlKJBaZP7oKmgtyyQtP4FRB4ckQQnYcruBnm/PxhLxgTDqAe6hlkYSiGAKQsVBqQRQ+L5yQF4bPiaEWx1CKYogFCdQSCDY7llo8b8Fca5eHUGJeCqk0glgAIefHEIrDcXkxlKIEalEMpSgKl3/6pomhoX5oaKjvX3x4e3p5+/pEBYcFQkK3PTHb9uJSSFyUo6+nt6+PT4C/u7dXQEiws59XeGz0mgfntj8xd/L1dAnwcfL19PT18XT3cHV28fHx8fT20vO8v+aZiXdIYHRgqEewf6Cvn4+PT0BIsKenp5+fn783EPYJCogOCnMP9l979+waVTvf4Gqt9ke8yvUSsEmC7cVF9iYH3G+7+HqFevo6e7p7enu5e3oAj/v7egf6B/n4uHv7BQX6BgdBIsIhCac3Jf/yXWQE1N8vOCTYz9PXL8DLyzvQ383FdeP2vZFEeRxjJBQjhdCGQgndoUR5FGXE0tYXNGueqa1nHG00giSH0hUQnDySPOhdQwbNmb1x5/5YnDSKLveGsWPo8kTOmxTy62CMNJKliKePhTZ0xhEG0znjfnBRFGkwgtB1MzQTNAsUiZRGUUYSqP0R5D4otisE1ZWAEenbPIvBdsSxxuOog1G4jjtR1c8SYQX8sThyNxQpTWa9j6cMnHzsH1BFjSD2QumjwbiuJHp/KLwtCitLpCqicH1ReGkirS+GPBBD7ApCSA/oH4WipQmUkUiiHILsjiUOxrfIozG8Xaetrjp5h+I6M5nj0CbxgZ9OL9q4PZ2igGB7wmn9EYT+WKosHD8QTe297ps4d9Y/oNiuKGpvKEpq4+Bz0dQEEhbi4+vv6+vv7eXh6+sbGOBja29nbnUzMDwPTupvIMiayN0NhM5GPCCiqMdIa1GSWpSkHiNVUxOhuw4rg2E6T/9ydc7c+V4BcSiqvBbXWYVqh5FlcELPjz+dW7lqHTSxvLCBWYeUoqjyGqSoFiWubBY2E3uqEeJalKQB21mLlVYhO2qxUiRNAacMNWD5W3fuP3/xah26ow7d0UzsqUN31GOkOKY8t5KKYfQ/cwya9/XC4NAsDHWwBtOBIMn2aR1ZuXoLjNiJpPTDCX1l9ZzsYsy1e64YWk8dUlLcIEJRB6oREhRV3kiS1SJlRdVCNKWvDt2OoA3UozobcOJaAiC8mfuPbxzcwhqwndNSE05Wj5HUoTtcfZOu3Ljt5e0WEBDk4eX5F7Opb7iXf3homObzy5ufmvlBQqLCoE89nAK8fNw83D2D/H2CAvzCQ3c/s1x2/4yN28uASIiXn6+zu1tAUGBoZLiTh1tASPAtH8etzy2uur509vEM8vHz9fbx8fP19/Xz8/H19PXx9gcY1s3LExIaFgoJO+pw+x+PTmm4WG1ytNzgeGnFywsa9qbbvK4Bk/sX5759ed7V08PdG+g6fP39fH19fXx8fL1V5Ovv5e0WFAwJCfAPDA1JvHYkw2BeeGiQt+pwd3cPDAwMCAgIDg728/MzMzMDnI4YgfUNDX401Lt3Xif96SFOsM5ovNFwouHbFJ33ceDhULDQ7yDc8VDyLV1fE50np/RvnNa9c1TL99WLwEDPwDPaNSe+o1zQbDm7l350L0F/D9Jgb7PBzpLDO70P7rY5fFDfUFf32JF9hw/v27fnvPlFT1+fcEiEj7enu7u7h5cn0LH4+cfERH1rsHup3YW/YaHv+lcWi2zPgQ6sMfjRaA4IBJoFmj9/PmgW6KuvFoBAc5cuXaoLfnHyOHX7DzpzQLNnz50zS3WAUlNTtbW1lUqlRCK5ePFiVVXVgwcP/uUq/tzpU1ssflxpZ7JCZeGx1t5sswuwl+9McGS1u9UGF6tQVAlW2IIRMIPghWsdLTTcZrQ1We1ksd4Z2Ap4/SuLFc7ARjYHr5z9NAG4ypuSpCk/Kf8iZc2DBw++XFkjlUpBIND27dsBGZ5qS8gpzLFhw4ZFixaxWKwvBSdKpVIoFGpoaEyz7zaQ/4m342+IWNx3h3fF4wuC8Zmh6EwoPndaCsFmJdPKIonZIbi0GGqxntmJWbNB94McoNjcUGJmOD47DJMFoeY9ivQAfbPgB+2dQajUaHJ+ECo1nJiTwCiBErKhxJxAVDqEmhdIzIpilIRhs6Npxa710VGU/BhCtrndzfmLv45C5flgk+NJRSHorEhyXhgmC4rOim8tv2x/f/b8efeg9rGs4lBEeiQud7f2gWWbVvpUx8YyC8Nw6QmsCq8CqInt1QhifiA5N4Vb41ce8yDK5VGCh22abxq1LJ5SHE8vDcFmhWCzAFyCzVajEyg+b9Yc0FW3R4H4jBhiAZSYF4BMAUAJLgeKz4VgM0Mw6VBs7k3nh35+PlO1/RcGfgVsTj+Ov/3w5u394hijKIeuMQWwT69qd3KgzamEYm/evDFOcNkX8nhI/nnPsCkvSUDgk07A48vJ/oDnY7V7x08qXyaqfE8qa9TWcxPK0Xdv4on1q92tlrtdWupstszBZJntheV2F9c4Axbcyx0t/BHFgATusw5h8nEl4G71s7IGYIePH97xg64KQm4CKh2AN37zyjo2Mrpuu2Youi+aqoggdEHJA8GYdghlIBzft1dX7+tvVzyMyY+kjgUhpBCaHEqQh+Fl5174gWbN3Wd8FoKTxbNHwzHtYbgeX6QsnDUOJfCD6okQTGcc71d/kswdzotljYeR+0NxXc+SqkFz5/uUkUMpQ1C8LAzXE01VQEj9/tVUHZunEUhRILrXDyGLbxk2snwQDucksl67NXaEUkcS6CO2MRV65vejKQN+qK5wxkgoWhSG4Kdwx4MwfaFoWQQJgFAh2M4gTF8MfdCruXPTAd1gXG84sT+M3A8hdPs3iyLI3UFVlMXfgbV/tgijd/jUy+K5yguPn4FmzY5sFgeSFeHEwSBUJ5TSHYAbiCD3mtj6Lly6BoKTQUj9fo3i56GJ0bExQN8yeajFnxMcHjcgJDoysaIO3VkBb6/FSmswABSoQbZPoYcGbGc9RgrACJSkvLmjHtW5duNO0OxZ2UXN9bi+akxnFbKzEtVBYo2eOnsRBJrr4pdaiRTAMLIKeHsFXFreLKlCteNYY5WISRRSh5XV43rLmkQViM4GwkBhLf27vdrnTK7UY7rq0J0l9fwGrKwaIalFAS9twHYYHj296Nv1ReW0OlxnJUJaCWv5evG3J8/YlDbxyuHCGmR7DULg4p8clVrdiJeV1otQlKGS+tYGbGcToSuzlIilj9Yi+urQHYC8hNRT1ShpInaWwSUwlHjuP76xd4XWoqTTE6K9GiGsx3RBYktiE1O6ZBKVfuNzFf5lv29U/BCGr9ILt62gYlT6FpV1N+CzG+DW8U8fL+WE7II8LiAjJnX6U3asHwFutiuKX+FooVC+/8xQkwOK+ma1pZd6iPn04WMWtkEr5OlyN6tVntZLXM0X2V9Y9cpslbPFQrvzm9wun4h1Upu6f7ajVRX7t5PflDXdhcFCB6OxIdVyvN9XzsjISFFRkf7hfVo62tp6YLOTByPv72GG7BtOODgcp6VIODKRDv6QBGb76qQ/0LS7pHXxhD4YrKOnq79PT+/IsZ+fObk4+/qd0N73UH9H1Alws/Euot4eGngvyWAXUX8n6uCurN17vH7Yc1RTE2xooK2nf+7kaQgkVNDRDuRCpaBUFxkYWD+8//G+1SbPKxtdrWccx2fQfvzZ+9fam23zvr7v1nkKjQyrbwgNB0wjVCoboL+bmJjw8W1KiFH+UVlz/PhxW1tbpVL54sWLnJwcpVKpo6MjFot1Dh3cZ33qe6/rix0ubnK3WW1rst4Z8Fo2U7Y2ul2ec//YVq9rmv739vve2exxZdbdoxvdLs90/0onYOO9FY5mGvama7xsVtqZGN+2+KRqi38DHLl///6XcESpVG7ZsmXNmjXv3k0aa6s1NcDSIxDI2Nj47VvANc6Xh5OT040bN76MmQyr4Aiw9Q+Zsn7f1jB4uj82JRCVGoxJn5ZCibnh+GxfeKwfPjkcnbN8s8bcb+a4FENDsFmhpHQINjMIl+GBjP/lgTVoFujIxWPh+MygxngoIdulLiqBVeZRHwfB5USjcyJJhQ5VkWHYbJ/q2GROtQcqKZCY5Y9NuxMI2I6ENWZ4YpOguKxgTGYoPj0ImR6KSA3ApB08afCPpYuCmlKCiCnRuBwvVOrcJYt0zx+JQqaFIRJCiZkhxDwrr3u26T6B2NQAbOadCAdL+xuPYl1soM+1LI136e31roqKJueH4TIDkCmhuMwgdFoINiOEkOXXlAKaA7oXaBtATFfF5PghEsLwOSHYjFBcZhguPRCV6gNLvPDI2s39bzJlnfy0n5TxhLr19pcCmgrVWlX1zheTS2w+Kff631/haCEc6FYxDwBi1KDlnVIJ5zPWOFwKbC5Ss5a6v1OhB+DjT8ER4ESFqhky8XZH62+f/bLw5S+bva7uDrq32d1mxcsLK578csjjDkIA7Pilbu2TFqzAyR/hiFI5gbE7hbE7o5ZzfglH5AODGj/s90PIwnB9UKQ0FN0Xgu4Ip8l9mgRz58/S+G6vUxkFQn3tCxMF4bshWECkoX/K7Kuvvtp/ytK+RhhEkENQHVBcb7t7KVYAACAASURBVCih17WSrH3m6tfLtoEtH7/MbLgbWXQ9pCgY2eOH7Q6nDnlX0EALlz+OyA4kDvoixKHYXu/m7jDqsG8tY9c5m7tBKVBkR0qb0rFepP+LlT+S/7KhG0L/GMsauh6Uon/pybPEEj+0NIY68DIL8/OjQF2zh1pWLyLwPcH4vjDcQBBaEoRsD0F1R5G6fZsk2w/rhxN6IMhuv+aOONpoKH7QF9+X1al0LqJ4V9CCCV3emP4A3MAu3aMbt+52q+f70UehyL4QjMwP3+mLkUMIMmPre5v3GkaQ+/xQ3e61bQ8DYqLj49S2jFOfRqmcaOVy3L1DAqC55TBxaaO4EiEpbxZXwdsrm8XVCEk9pqsBK6tBdlTB26sREhiuu7y5I68MP/+f/9ywbRuSIK1Bd5cjBZUIaRlcXNnI36t5GASaHRxdVouVVjd1VCKFMLwcSVaUN3GzyyjFdTx625vCmpaSRm4NUtRM6SuqF9Rie0sa2Jq6J4+duFDRJKrHdBXX8erR3Q2YnjKYoAreXt7YtnLVuoNaPzfiOsrRgipEd0RMKWg2yMMrtgYtq0J2lje2/cvu9ZTp40o4t6JJUI2SBUAzL99yvP0k+KzFi5/PXw+LL8XQh4oaWiubgQKWNYjrMZIimLCyngUCzfMISK2GS6elOqS0Ci4qgwm8gzOi4hJVC33Vw8lkP/cX/QC2Du+VaBF7m/s1q4wggGcnAAacXNqmQiZHofZfPf8lk9ioXobzUbXrL+Cg4aOS/3pAx+/Rj0luADOqDjUXA1mfWmXz20oTpWi4/0pGMOj6kRXPgIVv231u7PS9teSVyZxnJ43DbZPwNWrsMZnIVIqT57/BEWaMfaPFxvGRz3OYyZcDP0NDQykpKUa6ulq6hsZHDWyvaDf4acqzDv6apzOaqvs60WAoUYcerBVxT8fyhI6xgb6ugf5+vYPa+lpgQyOb67fsHF0eP3m57xDg6uy8voGPoWYh+BBZaz9Dazfl4C7c3j3l23fFbf7OZt++YwbamlqHTxkfjQwO7FIvDFSNp0CVqqpR+WnixKMrS1+cW+404zg+03j9Z+NX2JussTPVuWXy9u24RCI5efbM59YzOf0yMQ15dG+4Xw5s2TFVvaBVq1YRCIT+/v7jx4+rtwEMCAh48eKFg73t6afXtztfXuoMbMC76sWFdc6WazxmRFWrnC2AHWrcrRbZnlv48pdVrpeW2V5Y5Tyjjmq5k9l6N+tv7S8ut7u4IeDG8sdnLe3uq7MGZO5z0/mLpCN/cIOmVCqhUCgIBMJgMOpvp5aR1NbWzp49+w/ABRh4fv1148aNVCpVffPv/n+GIyQCceWOdYGNib6EVH90qj86eVoKwKV6w+PdGiNDGLkBVYnzvp6/4rs13sgkH0QSBJ8WjEz2J6U710doHjk4BwS68OKqFy41kpIfgEyJbyl3K4KcsLcE3zuz6+zhSy9vXHC8fuGl9fdHdr3K9A8n5foik31QyY45/qB5ILeCcB9Cql9zYjA+3QcZ549OjaDkeMKiNXZsWL91cyK38kltIASV7tWcBJo1++QtEwg+zRceE0zMcK6KOvnMzLcpLhAR518dt+OI5oETWh51kWGt+bcgtnO/nm/mf8uzNjIUmxaITgaADibFH53sg0q0zwmZu2i+XbJXADXNEx4XiM8IRCf7Y9M8m2J9UImh+NQQUmYQOuPiUxUcmWqPv6vK/+XJ1OYUygnl4OiwRYznQb8HnR8A5aCaJqVivyqNgp9rBjzseae69OtnU7iPSkG/7H4WFBz0FNctmJxpqXZ8/B0cUbO9Kkk1ZEkiw8wSvZe9uDj7yan5tuf+YXtew8VqX8CDWhFDXTy1F3n1rjeqapgGjtDcTafds2ZkaHjF9997wzt80b3+yJ4A/GgQpi8I1/soHQmaBdqlfyYA0RHDngjF9nuje/zg/YHYvvU79wPOWO88TxB8dKxpveibcT8LE0DsMXWMOvnQ76Z3nPkrnx3GZmdveUMaRCGMMQ+4NIIxHtAg+GrjHrOnLkEkhWdTezB2AEoa9Ub2Qkj9p20Dth85Z3zNzqcE/yiu/JD58zBiTzR5JKSUbHjt0a7TVqau8QG0YU9EBxTOt/LLdM9En7n+YrP28Rhshyuy1w895N7cEYofDMLKvWFip+r27TrHvOGdIbhB9yZpIKInED3wslbsiuz1x/YHEAbcm7rTxR+vBufMXbzZ2hnqhun1RfcGYfrCcH0eKGkgYSQY0b7H6CTY5H4EVe7V3OkJk9wPjIuMjVF+Aj4UcKghoHKCzWn19o8IjSqpQ8kq4B3lzeLiBmE5TFzR2F7V3FENl5bDxCV1gpI6QVmDqKCyrRwmdvaKAM0CnTx7qbxelF7KqUAIiur59QRZUjbqq4WLZs2em5iFLYGJ/h971wHXxpH1Se6Sy32XOIl7wXFiO4njxE7c6Ahwb/QmEL33LkAFEL2DwZjeuxCqIBAdbGPHnd57NeCGO0Xsd7MrCezgXHyX5C6x9ZufNJrdnZ15M+/Nf968eUNld5HZN9g1Q+nkH0mhGZbOERb2wdGJdGd8rK17mJmjf1FNZ1F1D6umv+x8v6Kaxbe7D9DK2kvqBkvPD1FLuxjlvSV1g4yK7uS8+r/85R1La1JR1UBm0S1O/W17l0Chd4Uysi8wKodYlQPMyp408kV1Q1z5pQFyaUtecds3P4hEnMu73vQ4M6/+pDLmw9VbsqiX6m5NFlcPFpR1sSoHiqp76JX9GTm1QkLvxaZXsKp6lw3Mst6iakANn+CscwnJd+9NIP2ZR8Pf7mcegmYB+LAujN0TYHmhqwmaQVykQk9nYdNEeKPvRqwG81Y9KAU8jZh9PgPmDQuQEzVhh6tOaSvPwfdimWE2B/wFGzciTI8MhOzOG+oxXl95Ga50U//ARekTrOpqrNoPvuYhZeQHT2F3hS9Vlvcw2H8MD1XgDJbOVM8a7a2LfWzJI0+ePMnIyJCSOiwhLoM+LpbouK83ce9MocgcFfWs4CCUJ94QJhphJaFyXGrvASlRURlZOSlpmf0ismJH5A5iXXBuOHe0mqqU7CFxlJyUhOQhWUmclChL9Icre767tHtX3c49nC+/pW39Av/VV4piP3wjsktSViI4yG9weAAuG6ivQDsCQVwDkvNqe4VNQYavCy9e9/7VRE1hZ9XTDkYQxJ2dn9svJsoHHdyH00//ubygo3vO3WV+6h73BTjy8ccf9/f3k8lkHI63weHRo0dr166tqa50DvdZZ3Bks78BMO2BjVh/BlWtxWtsJekJ++iudFX5FKu8kYTZStL7GTiyhqDxmZfOJ7BybIO3jrDF6aC4M78nHHlp7+7Dhw8PHz6sp6d37do1pC8NDAzo6Ohoa2t3d3dDECRQnHC53KqqqqUe5blcAd5GhB34e/P6jTXfbPavSPC+lOhdE+9TG7d8uJAQcDkt4Hyq38U0HR/gt3vHob1hV/J8axICauO8yqJCbuYQy86s27buHSEh03Asri4hpDZdxPJkQFmiCl7fLtnLryIJlx30zj+EtD0stQjG/9i+AhNgEVafSSw5E3Qlw7ci5r1P/2YY6BBwOc2zPCbwx1TPqmj/C8muVVFhl1K/Ed2xUni1f12a1/XUoOpkrUCrd98RktI8HHAjK7wp16ci3jTWXc1D36c2zv9iXGhdmqTOCTmT066l4aFNuS7JPkJ/EVIJMPBgRwRfSvGri/c/n+BXFx9wIdGnNg7ja716+wYvxhn/awmeFdE+51P8LySS6uJ86+K9amO9qmKIVWeJnJjTlupAOwKPw0tY+NePClQXwFnIHERtvrQZjzHOjrjz7BF4GdyAyHi1199yp7/ZyH348F6kYAvQg7lnvuV5H7qqxNWywG38oY2Hm2H8wZuQwY/wKgSj6vKOm2bZkfsCrLa6Y/Z5m9sXxNLar4ApC6xbBhE+JIJzWAaO/IhTuOyuCEoJ8n1hsWbV1q/9zo/7X7nnf3mSVDtml16h758somj8948+/Eb8uEEk2Tn/qn9Fv++FsYDa29514wd17d5bseqwjsXZ8z1WcTRVj1hXZrPPxXF78s0znbMhNya1/ZIVsSEeJY0RLU8dWR2eVQPBVx/6lPd+dURb4pRq0KUpn9rRwPOTAZUD2KKu8JtPoy+Pq7uHfbBt/3ubdrz30cc7JY6hNIw27ZJcsenbVbvlrGKLktvmPC5NhF554MVqPEnKPPfj+FbUyQPK+iR2u/+PTzxZ7YZxRWbnigyji/TCcs3jyzZu/dI4hqUfnWORQtcNybCJZ4ddGAquGwmqHvGtGgq9+sQhpXjHIb1jph4eVZ2Blx8FFncTL48H1o0T6oYjrj/xoN3c+M0PqviE4B8n/GrGXVntJr7n4pKSeUPFYutwu3q6fQKifEOyqaXdFE43vbKPWT1AL+tlVQ6wKkGExulhlPcVVQ0WVQ1WXLxbXNVz+JS6kNC7gcHpJVXjuawuemU/hdNRfGEoILJQ6J133//bPwqLO0ovjrMqenwj86gl7Y6EWGJAWj79utxJjAjqREAoWUXb/nvRkxmUS5wLw3mspuKqPme3M5+sWl9eP0wubkHgCIXdAQBQcfvZ1Gqhd4RcXMMZpcNF54fZtT2HTqoIvStEZ3awKoYY5b3UklZrl6jIeDazsoNW2RmXfVHoLx86uEdSGF119bcNTR2FhD6ksG7lFbcVVw6SOZ2MyiF6WQ+rYsjXP3XFp2sL2K2M8t5lA62ki1XVSy/r8Q7KjEtKfTANliF4vfrX587FHOcAGgFa8pvDPT/4mstGuNT3tCAdH+GvGQhSSCRtwGtRG+uRFFAquGRJlzlfB5jp54QvzMLn4wmKy+cv8Bo4UeBGCBmt26ZG7PPPSYY6rHXT+NbbxDgjLPNSOXCEuESuLxZxOTjSkeJRrr4Z4s4u3saPPXr0KC0t7QcREWmxvU5quy/4756l7IeKRJ8zxGZo4o8KRHPcpLRPyImKyuwTlUDJSh46KC0tBs6vOXXsuJmdgwPOVeaIpOwRGRlJKVkZyW8kJdUkRSJEfyj5/rtLO3df/nrPha92Xdi+I2Hjl+Z79uzb/73UQVRIWODo+AivsvyJPVwcbgw5fYPFqTVeP2dE8brIY9n7VxM1tzqp2wd7QgsArqmhNTubW5EyQAtAY2RolGhn9XD6MV+qwdeEhIWFmUymnp7e9evAbwzik/Tjjz+ur6u93HLjK4OTn3nprMKpga1BHlo/49ZsLVZ1g5v6J+6q35AMdnjpr3BV3uCmvs7159ytbCJqrcKpbfbErHJR/t5W4/rNa7/bYo21tXVgYCBMgcWvmzdv6sKfyspKFoulq6t78uTJlpaWxTvg2MLCgq6u7lIvai/cwNeO3Lp1a/U3G71Ko/F15/AVZz2qY5YN7lURpOo42wRPdIjtd/Jif/nor98rSVskELGF/oSaM1hOuM/lJO+a2G+Pi/xlxQcqTrqksnhcpt9RrDqJc07F1xjHjvK5mKoRaC70vlBARVpMA8081oVYdsbvSop7SbhH7TmP2pivD+yQ1DnmW5NALDvjdTEOXx3pUR3rXB7hWx930lFj4w/bdIJtAs6nOuUESBgf2YHas19Z2okRii86YxrjctpLzyHb0+9ykmtNNL4uzpUV5sOJCb2cQaSGn7BU+fsXn9qTvf3q4r3PxxOrzhIqo4nlUaS6OI/ac5Lax3fI7vWtS8SdD/euOEusiSVWRRNrYjxrQJFIdbGkC/E+tUnKjjrePrA33heI+Bv8QWQTwpwQNM2dcS5O3eaO8S7OutrfAYQUYpixAO31Mf+aZHRnkg9HFqC+6Sl8UfrBM65HzuIezIC96C/JqUVfavyC8yQhcrANPEF5BHGHH9/jHYWD6E8Fh4vyRQb81DJw5CpB6YanOp9xF+HIncmpldu+9bs4Sbo4RaoddmK2qPgkHLHy2H1EfZ+SwQE1S1mnYNWAHHdGM9Ac1I3hq4cJzNZdJ/TWHji5x8DzkH2QbWJZ2OX7bhyAOZzpzcfcklSImf4V/R7nh+0Yzed+fOJVNeRWM+5ZPaRKiBH++ltsUYdnzahnzWjQxdtBl6bsmD248pHAqn5sdu1xU7ePV3y4YstXn++RFFHRs4nOi6ge8r94371qxJlxC1vSF3zlLqFi0D61XGj1FvvkIkL1hGflsGFIuqSRs5iOjRjGUVrb6oSNz1+FhOTMXMU0bVCG2D1qVgd03ezyzhMqe7xqhnE1g66Ua2I6LiJGXkE1vS7F7T41Uz4l3a51t0nV4+51I4HnJ42i6Cu/2O6Qfw1XO+BTO+7G7jHxjz+XkAjgCH8gQejc2t5G8ov0C81jlPdRy/qp5b3U8t7Cki5GeR+9rJfC7qRxeoqrhxjlfXnMVlppS/i5ws+37fzH/30SF8fMZzaUX54oZA9Qy3vy2B1nEspXrFzzwd9XZBc2UDgdYXFUK+zZ+Mx6U8fQ5JyLDW2zB1DyO/dJMNld4bFFls4RjLIu9vnRHFYLtbT7TCzj3Q8+yGM1ZdMaWZX9jPK+ktoRGqeHWdFfUNyx+YvvTsrrZZGvlZ4fiExin1Q0+mTNBpJvJp3Tnku/HhlbZOsSRSluzqE2ltaN5LPbcxnXKi+Ps6tHcwqv7D1w+Pu9R0qrBvNLemklvYUVPZRSgLHopX1aGJe9BySAIqe0e9nALOtjVvYUFLfjvZPOxib9btoRYCLChU/cnoNia5i7giyVE7yv9bQBp++wLmQeguTPeWzEaRU1/8hXdAHNSGZj3ZfuOieicFdHugF78jgQjiyNw/qUxZmDAKnMQc/mZrvujvc9uiNY1QWjoeAGQYTP40u1I93ppGqtL6B53sLI4i0Q9Pjx44yMjAOiew/KiDhiREr8RUayJB/QZJ8yUBD7wIUoMSeMlJiYrLgESg4FjuqVQklKioAzbYxN9BV0dJyw+AMS+8UPSciISEqhJMXFpGUlxYxF9yft3nP+6+/rv9xV+vUPhd/sOffFTqt9YtJ7RWRRckFBAcPDg7CQAhMYUFneggi3e6Bnl7kysjdlWRjxayWucVX90lKJVlEMgSPUoTMxZ9MTkxG+gxag/Px8FyzV1Wn28TNB2QDNhMTFxYlEIgqFElCws7NTRkbGwcpqFpqTtsNswoFduMIe2uB8mVdv9F2P09iER+8KtSQyUwiM5G+DzTfh0Rtf7cUV7DVy11jngf7Sz+gj6xOHXI0h4J0dkA0Umi+gf6PFGjs7u2VdiQDnSB0d2dnZbDZ7KRBZ6lzk6dOn77///sTExNLE2Vk+LubDkebm5lU7NxKLI91qotw4EfiqqGWDe22EEy3kkInifu1DuxXERY9JSOqd3K8poxNqjr90DlsX7cAMDL6eYZng9a2s6Ibdm1G28jsV9rozwt3rYp2Lw0gX4t1LwsUwklv3bXPnxNqURbpxIrDVZxwrQvzqzhHKw52rwg6rHPlc+htPDsAKrtVn8DVn3Mui/C8k2nH8vS4kYnxs954SEdOWO2in6pzuTSxL3K8m/YOahJi2HNrLSC/NLaIx16UkyLs62YYd5HczyZ7pqxZocUBddrP0DrM4HLHijEdtjGtFBK46ilAd7VYegas848wJ/Vrme1HVw/5XU+05vr6VZ90rol1KQ/E10fiqKFzlGfeyCJeycPeSqFPWGl4kwqLsEPTCXz2yAB9EzgXMCWTGLPhrmh35ju0Jm4JzfXdvc+d4pwPsD7T+Pshq6vE0Yi40OTnpzcz42FlZMc7r0QzPhAhxXCYQajw/ZjC3CaQWIgNnBDYlMGZ5yU4FKFngXEC+vKnYMnDkCl6xwRvNZ9xFOHLvzt0VW7/xqBp24wx5VowTq++Z59/EV4/6XbztffGeJ2fAldPlVNRJujztfvG2R9WwY8WQw4X73pw2D1aTS+kgrqwHX97nWjXuVjXoWtR01CFIKzDV6+KoPWfQMb/Ru2LAsWbYq2rIljPg8+Mdt9zav674WC+5zq1iyLV6xIEz4FU1hK8YJl1+ZM8ZJF15bBZfJvS3Twg1Q3jOoGvtuFP1kGfVmAO736l2zLN6xLVmyKls2LNq4ogxYe327/1KOk1Yw6TKDq9LD+2KOzyqhkk1k25F7dji/i+lT7iV9ZBqJm2ZbT61o+6cHkL9JLZq1KNynFA+KqHrrOge4XfrvmNJ+2liJr58AHd+yL180rPqtmvtKI7ddcI9ZvW2r4KuTNtyOjyqBm0Km/S8os8mJCyFIzDJud09fSS/SK+ATAq7k8zuLijtKijtIrM6aaV91JLefGYHpbibWtKbmnczOLpsx/7Du0UOrdv02ScfrT4gcnLngWNxuVU09nAhpy+nqKv8/PjREwp/++Ajz4ACYkjOQQW9vOJ2Cqc7reDS+esPYpLqv9ora+7kTmF00Tn9+axWdvV4Jq2jgNNLLRvMJNe/839/d/MGSpqiyuHknOt0zmAOrZ1a0ktmdcYmlX35nYiajiXGDK+h55OefUXPxGHnD1K6Fp4WDoFaBvhM8iUAOBjtheweakkvtaQ/jdoQlV6jb+39xdf7svJq6SUD+aUDebQOetVANqODWtqdz2iXkFJVVNEsLOuhFHcvH4o6qKVd5KJ2r4D0xJTM6Yd3+ZqFX50zX8wQ5p+H0DxgDS4UVcv4zEP30Fn3K33tj6E5hEcU47zW4DQpty4gRXr6/FlaVdGXngbb/U0axvuh50C/grAhyBqOIcwI4giX8SMCFuYpKZfiGATSLOXnxUyRMi8u1nSnk2ox26A5HpJZWiVksUZaXEJcXO7EESlnnb2p2H214aixTDmIIRppJ3biiMQ3ohIyB8UPy0juF5U6IC5xSGo/Slwa70eQU1YiOnhKiuwTlRORExUTlxQ7LiW7FyUlKynm9cOBkq++L/3q23O7dnvsFTXd991plOQPB8RR0odCgoLHx4YgaG4eXk4CdYd9RoPKz3OP2utvdv3N/Y58TtD+zkzp/vQ9aJa7AEFVdbXuLliE7/45uBOJxOSUVqI71Df4gA+VAM2Edu7c+fnnnyOeWBHVCB6Pz8vL27t37+zTZ8Hp8RvNTq9y19iMx2zBY1YS0Rv5W5Y34jQ3wQE5fWY1UXOPt8nog8kF4FqVO3hnbLen4Uo8sFIGPijhO5c+u8FX9x9mR8CCjgd6k7l8LDWHNyb9LnDEzMzsp9qRpX1o2ThiXhAbG6ugoLDsDfzEuXkIar3WvH7HZmxJqFNFgEtZmGt56GsFbFnIssGikICvDrdl++M44T7lZ02Lgr3r04W/WfediQypPMazPMY8h+hcHIzlhLlXhrtVhNmWB7hn+wp9IORJDrUsC7Ap8yZUBDuVv3Z58GVh2CI//+ooh2J/wwQn3SCrzaf27D0s5sAJca8IcuEEuldEe3LOYDm+juW+ZnleQp8KWcS5eZ2PdSr2w5eFYMtDnStCnUsDnEtC3WoinYuDcZVn7Fi+p2w0fXz8eMKCT77f8zesji4SYL0Wq66e4l/Z21Tf36abFLDWEzM2OVHR3WBOifkMp73dQ9+Dk903PYVAh9+2eLCxHn9nzeKJvteIqj+FI3en7qzd9q1TxYhD+TiufMSxfBhb1ufMGXStGMJyhpcNLqWDzsV97hVjuOrbjmxwm2flMK6oY7eikZpvhjOtLbh+Us0/a7+xh0P+FUL1bbfyURdOv3vVGLaoQ9bC55uj6NjLoyYlY8TSfrfSYQvOlHd5h3PlqNP5J+KqBpu+l1j2pVjOMK60z/38NKm07a+rvjIOTDNNKj1sEWLP6XQvG8bXDllzhjzL+x2r7zgzOz7bK+1UPoSt6LUv7SdUT7izh2wYg6RLM1jyTQl1M61Qmn3uDWzej1qe8XswLlh6K7Fm0pnVi2P1mhbf8ea0v791l2Uix4Lc7Hd+3Lli0JrWYUiKiYtLgKUz0nRAPkIQt6urw8s3wtMvO5fVk83qzCvqzGd25RWByC8P+azWXEZzQXF7Dr0pMKrYxjXBI7Agi9qQw27LKx5gVjXnUTpSsy8KffCeTziZWT1YWjueTm6iFPcWsgfS8htL60YzCq8eUbI5qaSXW3i9kD2QQW/J53SmUBtzi3oLOUOU4u5sakta/q20/FvZ1JZ8Zkc+syOH1pqcczM17ya5qC2f1UZmdRay+3Jo7XmM9nxmR9i5El0Tz2MKBjJH0T5hOeyaoRxmdzalnVE5lMVsS6M2ZFEvCb37aUg0uZDd96qa5rI6slnteUXdRN/0mPikB/cnwb4yPmT+7ViAhw+QHY7w8M9oqD8Y4iRM0pOOxuZcq74y0q0ST9rpZRR3ufTmYLdzafq+ACthJ3XT7MiGyUEEfAiWUn+7csI5vwBH6nS2L8y+vOMB4mtHpKXEJCXFJSQkpKTFjh8W01UWdzKQIFlKHzokd/CgrAzw0wq7kJeSkJYGx9CoqChZWJiZm5uqqCgdOXJISkpCTEwEhQLrNShZSVkZSXlxScweSZ09ksoikodQkmJiIocOyYmKHpCWlgwKChobG0PqDrq6AEUBHTC39Oal1YqSQBfgqraRgF7ngV7triaMR2/xwPzMVpVXaU3WYVU3kjBrvLTWuatvwWtt8cCsx2mswqmtMj4elhK38ByeOy1ATx88FBUXg4sENA779u27cHEe6zhz/yFfqsHXhDAYzHvvvYcUHfmWk5ObmpoKCwtLTUzqnRg9irP43FVrnZfOCmflL0gGa4lAWYIEBGoguOQLIkY3N3SpGzTtrKAteK1NOHBOHgJZBA+uJQLVyNYg4/UkzN/0UKc8bduG+n5POGJraxseHr601r88vmvXLiaT+bP3AzjScrVp7Q5hJ3awQ5mfMyfUmRP8WsGpNGjZ4FYZ6VQa4lgebk/2XSX5uWNukEG0m9B7Qgo+en7lsdoxNlJ4ZQuyJ7E2yqk0yJrh7VwRjCsK3a0kKoKW9qo+61AV7MQJcGAHvFZhnDnB5uUBjjWRlkxfm5pQS7afV1mUZrjtp1+t+V5TGscJdaoJtmX52zL86I6XyQAAIABJREFUncv8PThh0qanflCTcCoMwNZE2BX7uHKCbNn+DpwgbFmIY3GQS3W4PSvArSLMmuF9wkrd29v3vwhHoDnoUneLIz3xOx/TL4i6270MPraRX+mq9ne708I4bVSIg3V2FKPx0jRiLcJTYPxs4/+HF18Tjqz6YqdD2ZA1Z8SNM2TPGXYq7XMsGXAqH3IqHVw2uFaMulaMulWOOZQOO5QO46pvm2bfkHRLPmobgtKyWSH85Tsr1m46cFjVKzmgbsKRPeLA7ncsGXCpGHerHDOMLVmPUlf0TPSpv4+tnMQW99pXTmLZndjqKYv8lnU7fth1VHvZlzqVDrqW9pvRh+xpjZskFKUs/I96Z2mHMGxLe5xKhu1Le605Y9iiLsfqO67MztU7RV3LB11KB+1LRlwqxj2qx4hVw3YFt8T13IXeWwF8GPzlXaH3//b+mvXrDxyxzfnRtfqeQ/mUI2fE//w9ST381ycNrCiNbhfv2Rd1uZSOWFHbDbyWhyOdnZ0IHMlhdmcxO3JZHbn0rhxm52uFfGZHLh0AAmpJbw6tNSn7Wlr+LWpJL4XT7R1S5EiMYLH7LG3PvPPhSmbZQFzaTRfPDGJAQVL2tUJ2Xza1LZ/ZkU0DOOZvH23KyL9ILelNITfTKoczGe1kdm9qQVNBUU8uvSOT0pJJacmld5BZ3fnMrlx6Rw6tM5PSkkNrzWO0ZxQ0p5Ob8hidBUVdhSWdKbk3UnJv5NOvH1Mw3LZTOjqhJJvaAtQ8BS2Z9M7iuhG0Me6YkmE6+VIBa+BnKpvFbMtldRF80mLikn83OIIgiQWBdRYMT9pvD/mzcyTCHTc4qe0kGX/spva+w+kvfYxXO6t+RdRXTfDOuFp55/ljAJYQq5DfSaD8IjgyPT2dmpoqLrFfTOLAAQmRA+Ji4uLiKAnxo1KSp1GSMjLSKJSUlJSEhIQYEiQlxSUlxRUV5W1srGxtrZWVFWVlURISYmJiYAlHHCUmjhKTlBaTkRQ7LCZ2SFxMWkpMRFYMhZI6duyIhISYrCwqJCRkdHR0UQ7B1BDogXonRpVcLDbh0cIknU+xymuxqtv8DFcTNT90kv83NgBv8sJ84qq8lqj5hY/+epwGEt/sidlnoXGzpQniwn4QYDwkc+jg9P0HEARMWQ8ePFhV/ZTgBi3dWXP37l2hpKSkDz744NKlS0jp+/r6kPNr2tra0Bqa0AKkbmawTl12o4/+Ol/g1X8jgRfWEwGwWk9Eb8IDL5NrsaqKSV7PoDnEDdpj7nP5BI81Liqf4cANgpsFj6+yk98SZvoRVmmb4ckMFnxiO9KHfhftiI2Nzb+hHYEgqLm5ef369S/Yri42uyAG4EjTtaY1X29yKAq0KfG2KwmwZfv+SiHQhulvww4yTnET2vyujq+FqOmJLVJfoRxOocPMDhJUToXou3CCHcuCLYt8HKqC7dneNiX+xkkun+xdZx3vhi2PsCsP/jdK4sAOsM4kyJoft8zzNCsm2Zf641nhK7es+NvK/3NiBDpdCjUpxNtXhTuWheqFWK76boNeootLZYRlqa91kbcTJ8CcSbIp8XcpCbJh+tlVBFozvJ1Kg8xoxKOWqiSSz+8kPQTtsySCzBzmIbBxhn7rYkAFWT3J92gsIaKOkddwvml8AFgcwA4PwALii6c9L8nm14u+JhxZ+fk3tpwhc/awY3G/NXvIrqTPurjftqTftnhg2WBG77JjDzqUDpszes2Zfa41kzbMrpOhTGv2mDO1STsw9YRbpHZsuTV7xK7yjim9z75kyJrVZ1U8bFE86lk3dcDCf7uqvX32JfPSSZvCJsfyUdPCDqfySZ0zbKEP1520i1j2pbbFA05lwxbMMceKIc0wygnvXPnoCmxJn0P5uC171ILZY1UybkNtt+NM2FNbVnwrac/osKN1WTIHjQp7zRnd2Moxa1aPZmTxKadI3ZA8Bd+so4QkZZ90jfBCYs2ETcmoVVGfY/Udo8jCTZIqRvGVZsVD9rVTVkV9tkUjZpRWPc+zsbB2hNfN+BKms7PT0yec6JOdRevOoLdlM9qyqR2ZtLbXCumFbakFLakFLRnU9lxWT35xXzajK7WgJT6zXkOfJPzVD6FnqPKqth+t3XwuqSqzoFHbPDDgLDuT1pJBbU2jtGZQ2zNpHbmsLqlDGhp62GzqzQL2UEx6Qxa9M5PWQmZ1ZjNAkTKorRnU1ix6ezajI5vRkUVvz6J3Ii8CWIrWncPsppT2hiVU4H3Ty+rvZ9EH2dXjvkGpQkIfqqLtChgtmbSWhOxGcvFgXOb5z76S9vRPyyxsSKN0v6qyWfT2dFpzNqMLR0o5GyvQjvx6/fxncpoFuy3gRVXY5AFZCuVCw9zHzK7rUbUMk5xIpSgCnpqc8COncWroCTiZBgYiMO8A90I/k/mveekXwZGHDx+mpaWhUFJAq3FQGnVIWkpOWhL4dUeJi6FQKClELwLrToAGRUpKQkpKQkZGGoPR0tXFHDlySFJSXHCPlJSENDgJGNwjjpIQg4M4SkJU9ICsLOrAgX0yMtLh4eETE2AnFPjwVSOL1rsLELu2cpPhMWE8eqOf3jpXtTXOyquJmms9tTa82hjjVdqR9Z7AW8dGd+By+lOc2mpP9EZ3jbWmx89kJCGvfg4vuy1AkIWdzaXa88BtwYUfbW1tETgyPrnoeIlMJgvJy8sfP34cgSDgIN+cnLNnzyK1EBERiQ0/o6SgKGeoscb4xOf+xh86Km7CAcdlm901QWUIAGcgiGQ9CbPFA5PyY+n40/tjT+4l1hdvJmitJ2EQLLKeCG4WxqORZ0Emvnr/cDy9xuSYW1wIAE3zwP8YkBd8YQHQ3G/jBo3L5Zqbm3t6evIa7HV+9PT0kPN9fvYhGI5cb/j0yw02TB/zYqJVsa95Mem1glmR17LBguVlwyLZlgcYFeCV/HRPk7QUwozNsgmyOKXjPloa5yxcOMHOFaH6ZFdjBtGK42fFIOoy3B3LgsUtDosaHTbN8rQtDbAsJr5WYcyLSXYVgcfdVIU+EJK1Pa1T5GlY6etSGvHplk9Wblmrn+lmXxtgQHZxunjWKAcvbiAnbnDEqiTQsszPkIGzZpPsOP5GDE/zIh87lq853cuqzMeUSrAp8TWm4g+bK5JIPkBh91/6gE6HcCwfcyDmp6BE8PCFXOQz9W9fyteEIx9/vtOyZMioCIAGs6JBq6IeC9agefGABat/+cAetioetGYPmbIGDKjdZkWDDmUjdux+o6Ihs9Ixi7LbFmW3Hc9PW5eN6xe02Jf2WxYNWDH7rdljmnldbvWPLApuyLrFouyizUrv2NA7nSqnDKjd1uwxrajiFd8f1I4qX/6lrH4zZrdN0YQlZ9i5asCM3GZK77MqGzFnDlkVj1qw+s3ZY5bULouScStqx5fKVpaMHoeyIYfKu1Ylk5aMEevicX3GqA592LZiypA5Ylxyx6z0jlPllDmzz4pzG5PfZsnq1c9q2qOPO0FKdaq5a8EaNqZ0W3EmjJn9BuQWbY9XwhEP73A8KTOd0pEKkEFrZkFHemHba4VMalcmtSud0pGc15KS35pR2JlW0J6Y05TP7PIPZ6GOoS0dwt08k6ycfdT1CEparn5RRdnMllxWV0LOrXRKRya1Kym3OZ3SEZNQuuOHY0T/zLLzd+MzQT5JeTfSyQDopFFakSKlUQCCQUJqQUsuqyc++2ZyXksquS2L3hmTcfGwsuPHq78+m1IXldoUn309Jokq9O4/TiiYZJKbk8gN5OLBrMJWtJHHMQWLhIxLqeS2DFrXz1Q2hdKUQW138wBwZPrB77SzBjDYHMIDAFXMLnC5yIlOCAfCg+oTCJoEvkhgKzDEPRp8508tyn9jdv1FcOTRo0cZGRki+0XFRETFxfZLiO8Xl9grBqxERMSkRaWlJQXLNAgQQRZr9u/fi6zjiIoeQHQeKJSUuLioFEoaJSUtKwW+pVAgoKSkD0lIi4mJyMhI7937g7S0ZGhoqGCx5mU4ghjNLEAWPm6fmZz8BK+2Ncxstb3CBieVrwJNPnV77aP11rmrC+PRm1zV17qprfPTBR7oDY+tl9sz1NePLG0jY/o8BBWyGIG+fhDEDfAPKSgoqL+04Gz/bKl2RFdXF5xQU1FR8d133129ehWCIHl5+cbGRsTADo1Gf7fjm97Orp7RoU0y+7Y6aGwMMl5qC4IYqyKIZANe812bo1+S9EXDbEVCbbZ56r5jfWQDXhO5upEAdCRLbU02BBqsNDysgbdp6GwRkAyBIIIK/EZw5Pnz50FBQUlJSf9GZxUTE2tqavpXDwJb4qbrDR9vX2NG8zRiuhszPYyY+NcKxizCssGi1FO/wMm63FuPiXOoCtRIt3WsCTUrJpkWEEwKiRYsL6tSXwMqTp+Ksyz11afizJlEYxbOnEMyIRP3Wh075qVjnI8zZLi9VmGMmHhtlqtWov03R77T9jV2LAk2LSAo+hi+t/IDlI2iPgVvVeplRHHVoXnIeqpLWh+xYJCMizwNmDhDmqs1m2RW5KVPJ5oWeZkxPIypeLNSD/1Cd/Nikh7FTc5c4b8LRwDPwNLvMRfeHYiwKzwrg9EIr6kFoORfNf1/fP014chHW741Kx7SYwyY0/sNWYNmRf3GzEET1oAJY3DZYFk2aUjvN6D1mBYNGxeN6NMHjBh9ZoxeC9agMX3AmD6AyWo2ym22ZPQYFPYZF0/pFfaYMwccOLd1Crr1mYP2lbctyM3iLqlqmc3a2c0GjGF9aq85e9iqqE/5TJFL3f1lX2rCGDRm9JnRh7QoXablgya0fivOhBqlw4g2YEjrsWAPGzMHLdjDJiW3LdiDqmdLLMsmjRh9erR+I9qQBWPIitlvzhwwYQHUZVrYYUrvMaT1mBUNmrIGLDgT+vQB24qp40HFx3yyXaqnNCiD4H56vx5z3IjerZPbjCbGxMQnQQvI4LE44eno6CB4hbp7pqeS25Py4YE/ry0lv/W1QlpBOxJS8luTcpsRcADgRfKNlJyWfFZram5rdmF3HrM1OuliOrUhk9aRQm4+l34jMacpm96Tkt8am3Ezg9qeld9k5xajouPmH8HOpHYnZDdmUNvjsxqTcptT8ltTyW2pZFA25BUp+a0JObeyGV0IHAGAprDtbPqFo6rOBw8rh0bTSy/eSyZfU9Qw+9tHG0iB2WfTGhPygP7GAZd4Utk6Mr40l9abnN+RQml4VWVTyW2JeY2p5DYsISn6XPLvBkcQ0++X0D+CMwAUmYcVIXzOfD47I/CEBhhvyYziP+bDX5LBL4Ij09PT6enp0tLSKBRKFiUjiwLrMzIyMrKysrIH5RAIsvQbASgSEmLICo64OIAsKJQUsogjhpISQwFXaZLSUks/hw7JHT9+VEJC7NAhuYiIiEU4wleQLJIUpt7ExLgG3uY9tMQmf/1twSZrHZXWYVXXv9qv2Ku0I5uJ2isdFdcT0VsCjVYRNNbZyEtbog3MjKo55dACNAurRhAVw/DE+MnjJyCIq6ig2tHRcf0GZG/96C5YvQHj//T0tJycnBCdTn/27NnWrVv19PQeP34sJgbsTbq6unQM9F2cnHd89TVolgXo0LGju3ROf2J9ehVBAwnrCMAoRKAj+adqZLMvsEt9z/b4X22OrSFoCPvofu6pI9CLbMRpriNoCh5/z0DmNMGy5mItcGTLJ9nvA0eQNZe+vj7w3tf8UCiUf/EEaGwARxqu3fpw2yqjQpwuzVmPhtOju/0qAUNzRZMd9Vl4bbqrFg1rwCbq0ly18xxN2B5mpV66NFdMoYshC2/IwOnT3Izo4L2WxURtmrN+sYdelqu462mtDHuD4tcuj06Bg3GR50Gcyl7Lg18bHPhGfc/Xavv2aMrqUtzMyrx18uzNmUTlDDtpoqJ2ghWmBKdDxepRXYzobsYMdx0qVqfQzaiIYMB006Ng9dnu2mQnYxYBU+Asayb/34Ujz4CBHizIYHUIIt1ACsK+iIDja0p4uw3/RQ/4zy6/Jhz5x2ffGRUNaVP7jal9eowheBQf1GMM6NH6lw3ahX3aBd06hb369AED1ogBa0SPMaBL61XN7cJQeqw4ty1KxnTpg/qs2zrM2xjGuD5zUJ/aa1DYa8QY0Cns1aX2WZbe1kxrBCmsUYOiCX1Gv1ZBp27RiCF7BMMcWvalerR+86JRDBU8rs8ZQRd0WbLH1Qo6TZijGHK7GWsEQ+kxLBrSogNcZcbuMyiaMGWN6VIH9GiDOrQ+rYJ2Q3qvefGQIaXHuHhCnzWmVTigWdCnRenVpfdrkbu0KV2amVfNaH16tAk0ecCY1mHIHtakjZhTujSzm9QJ0QgcAQ0DNyvSvh0dHXjPEFdielJuS3xOExjps1uTclteK8RnNcRl3orPakCAQlJuMxKhV4zGZl6Pz74Zm96cTR2JzWxKyGlNym9NymmLTW+My2xIzgO4B7k5taAlJQcszVhj4/UswmIzr6dTOmIzbmVR+5JyW+A721Ly25LzFouXkN2YWtCSnN+UUdiZmNOUnNeSV9QdkVStgbZV18FZOsep6BL2SigfVTDNZrTF5/Ul5LRHJtVr6HuSgvNzaO0p5O64rOb43Gs/U9m47Iak3BZnHIAjD6d/r5018FazOWTtRaC5XBxL+YwJmhCefgv4FE5B+BeMI7/H5xfBkXv37qWnp+8V3XNAQkRcUkJCUlpCQkpMTExU9ICI6F4EZCyFI0vj0tLAuERaWlJcXBTRkUhJASCCYBEZSSlpSRAXkZHavfs7EZH9u3Z9KykpHhwcPDw8vCwBlqA37uWm6wpu5h/qyKzxQG/w1vnERekzr1d6UX8VHBH20P4Iq7TJV28jAf2BLkoWb5JZSmu9fkNNTQ15FygGn+kOiIo8ejQtLSU3PT195SrkZPdUAEfq6+ttbGyEnjx5AkEQCoVSVFQMCAiwsbFpamoyNzdPSEiYmpiMiIjIzM6CFiBOMfuEtto2RdktLurr3dRX4tVXETTA5l7YUnU9Eb3SFZzN+zlBe5un7lYPnc9w6C+8dFe7qwE4Am+rAQa3BI2VePD4Fhf1Y85GrAsVMBZBDN3hQsNFR4QFAk1+o42+yzbVr5MISs+DI/+3daUexQ1d6KBV6IIudHytoEV1WjZok510WTgMw02f4a6Z72BYTDyZYmrMwmmQHdXzHTTIjnpMnGExUSPPXinNQofsrF7gaEDFalLslSl2VqXep2L0tSnOGPprl8eQjlUrwWkWYtEUrHqOg2GOi0KylX6JrxbNWavQRTHdQp8BQIZ6mpV5iZdinhWa4owpdNKluWhRnTTIjphCFzjuqE120GFhNfJs9ehumvkO0qYn4VWz/9piDQ92wCs2PCk2B9zCIwvWiFhEPLry+OrX6SWvzuU14cjfNn+rTx9Qp/TpFfRoUwf1aP1ahQPa1H4AO5YLaEo/QBv0Ae3CPg1yLxjUCwd06YPG7BEdWq9qTos6pUeTOqBB7tYr7DKitBiwRjQLetRyOzCUHgPqoHZBvzZlQJ81ol3Yh4Hfgqb0q+V1qlP6dIpuq+V1LvtS7cI+3YIB5cJuPUq/DmtYldyln9+tTe1HU3rRBV261CHtgl7Ngh71/D51codO0YBGXp9qTrtmXocuvR/DHFEp7FOn9mNoI+iCIQy5S6egywAgj0EMtR/gG+agDn3QrGxUlzYsn9pmxBrXonSpUrq1GcMG5D6VrCYV/NmzsHaE14L85eCOji4cMRRLSEvIaonNakjIbkrMaI3Pany9kNOUmNcCcEZ+azK5LZnclpDbHJvVEHK2MrWgCaCKrIZzGY1x2Y2plI5zGY1n024l5bWnUbrjc5rOpt9IzGtJJrfFZNyMy2yAMUqL3xlObOb13KKB4NgL8TmNCbnNSIjPaVoaEnJa47IbE3KbEnKbo1KvnUm+npDbnEppj0m+EBFX7UTIdHBPiUmoySoAaCY6vTEprzM27SopiE5m9SbmtZzLaogHIOaV9U3IajkHYFajk3tyVEwKOGudL6Ff3Xd/jSuzwNWHAH4IIjyHHvDEANktD142s2glIthCDx5eTP41ivTKPH4RHHn8+DGFQhGVEpOQkZQ+iJI9KCMjJyUjKyGNEpFGiSBwZOk3YtAqLi4qLi6KmJJISIghcRRKSgY2g0UBuxEQpGC7VwkpcUQvIikpfuzYkcjIyMHBQV6plxATUIaP9mCDOO7lhmtKLmabTE9u8NJeT8IAE5DXPLMGHPNCwoDVD9OTx5yNKLWlsC9T7t79+548A95XeR+4IdHaWkVFTE0NzD8hR3XNM3eX+Yk7YPP2P9fHcThcSUmJEHK3g4MDhUIRFhaOjIyUk5Mjk8lIj7h14+apU6cWIOjBgwc7d+7Uwmj/YKW23QE4IFmNVxfAkbVEzdVEcCTeCvvT67y013pqfWR3ajNBa62nFjhRnQ9HwCNu6tsd1H6wUrt6/QoyJ4WNlpZgXr6w+BPAkb9v/ViHjNUotEVTnDUK7F8raFIclg0GZCdlsq1Svo1Wrh0610Yt3wZT5KqQa6lNcVTLsdaiOmlSHJSyLYGOhIHTyLHToLmo59poFjpq0Z2Uk42Ni3HaxW4KGZavVRiNAnu9PAf5fGsDKhZT6HQsw8SQ4aacZ6VKtdfMt9XIs9di4NQL7LUL7NFUJ/kcawOyi2aBkzrZTr3AXqXAToPipFvojCbbqZKt0Hl2mgwH5RwrbZqzeq6dpPFxDw8PuCfwO+7v/isQeQi7zkCwhxIkden37yOOXxOOvLfpGx1an2p+n05+lzqlD0Pt1SwY0Cjs1yzoWTagqcOa+b3qOR2a5G40pV89v08tD4AShYx2DOu2ct6Aen6fLqVHO79ThzqinDeinN2mQR3SLr6tltOFzuk2oI8rZ3epFXQrFfSr5nagyR0alCEd2ph2XrdmXo8+tW/Zl4LE3H6V4kGt3C6NvD4N5oBWZqsBa0StoBcUNW9IjzqqkterVTCoRelWp3Rh8vtU6QNalG5MXod2Xrc2BehCNMjd6pQ+NHVEI68HTe5TLxhQyYOVOrQhFXKfWk6XGrnfsHhMMaNZhz6qmt2tRxtULRhQzmxUxkUvC0fa2ztxxFAXfGp8ZjMy9Cakt8SmN75WiE69GZ/dkpDTGp1680zy9Zh0AD6iUm6k5/XGJN2KjL+VWtATlnAJwRyxmS2JuW1n025Fp11HsEVMekN06s1zGc2xWbeiU5viMtrSAWq5FpVyI6WgPSb7x/jsltjMppj0BiTncxmN5zIa4XhzVMqN2KwGAGWympPzu6JTG84k34zL7o7PbotKuJya2RiXeCshtTU6+UZc9s1zaU2JmY25hX1RiY1nUm9FZlyJzboVmwxUNcuG+MxmkHNGk6Nb0u8JR3gWl3wTh5dm2AiHgm94/oIs4iAzB2QSi0CZ3wmNLHES351OetVG34WFhbKysuAgcEB3cIh/cHBgUFBAYGBgcGBYWGB4aGjw0hASEhQcHBgcHBgeHhoWFhIcHBgYCB6JiAgLDw/19/cNCQlCQnBoUGAYCCEhQaEhQWFhIVFRkd7gBF8PNpuNaBmAKIXHUx5BYGnGE3fAJocLcbmXr1w65Wj0scmR9Z5gG+zrwpH1OI3P/PRXWp4Qt9JkVpZA8yBPCOJiMJj21jakvUAzgXQIPn/GgYD3giCIXXKP4AaNTTxH4IioqOjk5CQPjqSnp8fExLz//vsbN27s7e1FRgTkGDkxMbHbt28PDQ2tXLmyra3tn8e7fPLlZ7JY4zUWpz/BqgoHmWz00l3lorrOHaCTDe4aG5Gdve5Ad7LOXX2lq9oaD+1N/oZr8eiP9Q9/b6QclpE4PnH7lYPOHx+OzENzz549a2vp/PDLlVpplsfS9bTynFXyrd8GlXxrhRw7RbKNYoohhmyrnmsnbXacRPKEUfsre8SbdeEVcGTZM2umJib/tmm7JrnzKOOOfF6nNmNYJa9XLbdVldKplNfzNijl9RxPbTxq75+angbBR/rCcpkLLcxCC9zOzk53QpidU0ZcevfZtObwhCuxmW3RqTffhujUm2EpP57LaYtIvGrtci46Iesu8DuCeMF5s9jxZ2v7i7QjSA53fuPP1NTUnTt37t69++DBgydPnszOziI7Q15ZfkTmwsDu4YNpUlzkFt3jm1w0PnVSXOeqtpWk9yVJf4Ob+mpn5bV4jfWeWsIkHWC1StBah1X9wksX2Gl4aH/iorTWWW2bkbxjqM/AwAAAH/xsmUymk5PTS29vaGjYuvXzpkaAIi7/CDnbP3v4BCDLweEheXl54AYNeaC+vn779u2ffvrpqVOnSktLBbnMzs5mZmaSSCQDAwNTU9OkpKTJkbHTSoohKXF6fm57bNArDY6udVT5zEtvqU+RpfEtvoar7ZVWGR7bY4M2C/PKr2BP3b/HK7TgNUsjf3Q4ArQ63LmZ2evXr/9l2z/Uss1PMkyOks1O5xi/DadzjBWzTJUoZgo5Bmp0q6OZxt8bShE8sf9d7cjS3vffj78OHLk7dUdozQ6V1KaT5AmFrC6F7MGjaYMnMvuOZg+ezut5G07n9SjkjxzGno1KSIZmF1XHsMycbetucSMFW7nEn01rjk5vDIm/HJFwKzK54W2ITG6ISLwZn9kbGX/L1ikx+lzu1NTUWyb9iXB4DTjyk2d/k4SFhQUul/svgAjyZpgHwBdfEVVWX6ePc9jrbbLRXukflsc+clYApqle2pu9dbd46qx2Vv7MS2eNB3otSfsjZ4W/Wxzd4qqxwx2jjbXJZBYCZQzf9g5kvwCNjY0pKiq+VMl79+6tWvXp3TvTEARdrOe6ODxHFmvOREch+3kBHLl8+fK5c+eEhIRoNBqTybSysnr27NnSKn3xxRcYDKatre348ePRMWcTExOhBejp06cVly8YkVylbHQ+0zqynYDZ4g5v+HFRWeuisslVfYs7ejsB87nWUSlrjEOEH6u6/MHDaQSIIBDqpbLy/v7R4QjQIoLVsNbmltW7NqrYvaKJAAAgAElEQVREG6jkWqhm25yg2L0NJyh2ygwHRZbjiXyL47kWEjF6e00P+0f6/Q7eHpfvbP+Dqa8DR6bvP1ghpqSU2XKKMqpS0HOaPHSadle16P5pxpQ85fbbIE+5fTyiRt4pPCUnHz5CD7EFQnZTQd19w55+0VYOMRGx9YmZjcnZzRn5fYkZrW9DYkZrWvbN9LzWqHPnHV1jEpPJ9+8D25G3nxcp8D8HR14s3s/+g8dZnoXcHO84p+n7D+hsJj7C/6i9/k4L5Y2Wp1dan1rjoLjWRWWDm/qXJP2V1qe+xKK/MDyxW+u4po0xo6wY7HXiK0X4v7D/Xgg6evTo7dsvLIM8fPhwxYoPpx8Ac9XqmmduznPIYs3Bw4eAcgWChK5fv25lZRUWFvbOO++MjIw8ePDAxsYG2I5A8NHqEDh8b9WqVdHR0RAEiYqKSh2UvXipngepuNDMs+ePnz9r6e2yCSCYemN18HZqrhZqrhY6eDtTb6xNAOF6U8PYJOySBSksjER+bofCHxyOLAA71rnZ2dm2W20iEuKHMKfE1OVQaseOKhx6G44qHDp4XOKogsyxU9KnVI+e1lHWQKsnR8Zyn/73TFl/lmf/CxdfB448e/L0uy82ndDQkzytdkheQfqkkpwi+oiSmtSxU7KnFN8G2VOKhzG22ia2ubm5iPsKxIIPNOsC1Nbe5EnyUlLVUVIzOH5a8+ARBRk5hWOnNN6GY6c0jpxQOXoafUJRV0VD/2xM7Nj4EG+Q+S+wxP/sK/+H4Ah3yWepKuFVtEPMbpCrsO3vAh+qA+OPO3cmL966EpOfZhNEVHO3Ou1kfNReX83dysDTKTwzIZdJSctI9cTjoHmwaQM2Iub5DFuqbvDw8ECAhKAMFy5c+P77XXW19RAEVVQ+JrhBdx9A9yfvScvwjswTUlVVTUtLGx4e3r17d2pqKqIsOXz48OPHj4EV7vx8aGionZ2diYnJPzcAa2trK546jaAh4LtMgDAQY2akioJExNYZ2SQJoxCgR5qH7Wh/ZvT5w8ORuTnExIkLdbX2PLj/eGJk8vntR7fHJt6G22MTd+7ce/Dg4b2Ju7fHJoYnJnqHRu89egrQ8tsPQoFXwJFlz6zhzs1PT009fDY3OHr77p3bExPjYP14cvT2cP+9yYm34d7kxOhAz+ToIHfm+eLOC8R2DkikuTtTY4MDPROTo3fujj94cPvhw8mJyaG3YWJyaHJqeGxiaGC0f2ikf2b2CbxZhb8F8i2r8ijwPwRHXrdNeLsF+Ss1sH4BDL2PubxTZnhOXPg+DkD+yMgOp3R3dx8+fuzu00cvYAD+zYjl7PXr13V1dZceNIvH44lEPB4HHJBW1zwjukMPn0AFOWQ8kYCUX+jy5csQBHE4HCMjIzQajaSGh4djsViwwHPxoqam5tTUFAqFmpqaOnz48MGDB19Vc8GeZsQ6eumKjACi8J5deu2l7P7gcAReYeXx7aJZOHygIgIk3/BvBIPzttQCZgCHTILw9oNQ4HXgCHLwNehRwMcXcoAniMDHWL4gKAQM+KZFkHF0Sefi9zSEEHya84glkLlvGpl+Wl8wHIEz85YupP6M2F5C4Tcn+geGI6CR+M3JY4Wl0OQnbSjoIM+f804ttrCwqKupRUxGlmS2+OTMzIycnNzdu8BjDfKRlZW9deuG/GllxHbE3WV+8u68hbH5hfqLyA1CyN2qqqpXr17V0NCYngZmJrOzs8ePH+dwOEQiEVGZhISEhIaGSktLyx05fP/RQ14FkDxe+MN78eKPoB5wEjJC80ajxZuWxP7ocITfxohukz/6Iq6MAYe/6QFG0HwxhwycCE2W9IE3OfqacATIFIR+CKNxwYY6EIDvhbdhbh52AsSHZos9bQGaRQIEPYcBHHILmEi8DUCG8We6gBcRioBfPph7kzl0se7/Q3AEHLECL5gslu7nY3CbvqRBQMZlQf8HGSB/5uA1DXhoQx5ZgKDiEralpSV/sYYna3ijH38QtLKyOn/+PFKQBw8eSElJQRD36JGT9+/f//EK2FnT3Xf39LFTAg8lQsAuFYJEREQePXokKioqOByOzWYfP35cWRkAGQiCHj16JCwsHB4eriqvODo4NDcHjmXhrT/xK8YvA/IEvw/zU/m//Bry7vrJzx8cjvCqicz7+Sz9dra62MVhAoEvJEnQi37SEd7QhFfAkasEFTBEAMLB2lQuF2hEkZv56AMeLZ7DKIRHXQHZ39gIBD3l0Y3PjKBfgYVyZGTlAxRY7PCY9w3teS9WG5AHOZgOJhRMGi40++JNb/i//yE48u+3xJL5DF8kw5kt+SNQIixlkPn5eRERkTv37i6VNQI5g5QnLS0tNDQUwUkNDQ3a2toQxFWQV+ns7PzxCuRg87ixZVj++GlBtkKampp1dXW2trYQBFlbW7e1tSHHlt69e3fNmjUpKSnA990M8In317/+tbq6OrewICgoCHRUmIEBnkIKi7xfUBzBG2DMsghc4L6NrC0hpUReh6hkQB5/FDjCX3/h+SpG6CAgAjImIHNULkCOSwnzJsQRSix+I3Xm8qU+8pd/+U0gyEt1hOagGbhXgMMjETrwewngDi6wEeN7euBeJags63eE/ySfjm9/f0oBmLiLcyf4hjnuvKA5Fp+A5bIg/Q2JAHkLXFTx+iCQ5QvcOS5/u4SACnwyCRL+ZBEBK71UL6TngNovvYBA2V/mBo1PuT/Dr0BbAUHQw4cPk5OTo6KillqH/LSSu3btQhJjYmLgc+K48XHJsbGx5y/MeXtAljaEKk6lACwISUtLW1tb19bWQhCUkpLi5+eHPGxlZeXn56epqdna2oqc9Gtubq6urj4+cVtGTlYAl+Yg6PHsc0SQIi239BuxcOUvWPC0KUiz/rTcMzMzs7PA0w4o3AK4+Tc6Qu+nr/53UngTU1BIXo34JUdyQ0iEnAj1Qlde2q3/vHGwAx5aQEQbkP58RaKg5wEq/Xmr/y+rhrAGQgBBJ0F6/ls48u/w4yuemZ+fn5mbRei82Chw1xN0QCR9HoLuzT5dvOeN6pxLqIfUG7H/ewnG/Zl5FlGTISq0pU2PUAZOgU+PgAcmZD795sERRIwLQMng4KCkpOSSvrNM9MSJE5OTkxAEGRgYXLkCXLHXX7xiZmZWd36W4AapqJv0d/UJBgUhRUXFXbt2wV5uoL6+vtOnT0MQVF9fr6SkxOVyveEPBEEKCgrXrl2TlJR8eOfeoSOH7zx5CNSd/IXq+afwIR8vtSVy/NgMcEqPaEbh5oTHJS6EOGxBii+oHvjLH9T/1+GIQP+B0BJRecFijjfrhVEYT3MEe8JfCtT+9HGkZRG+nodPCV/K44L+BxY84cnZn54gL1UQUACeY/H0i3C3R+Jv4cgyUu3fTRL0OoAzEKNpvoRBVLyA5oiGE55gvNRMf/q/gCz8j0AmI0TjJ78wbfjTE+SlCgo6CaATny48NPLmwRFBlxBoRNBo9MWLPENUwdWlEX9//9zcXMQgBKgbIO7zZ/NiYmK1dTNuznPySvq8JWj4GaFt27YJ1Cn37t2Tl5cfGxuTlpa+desWBEF37txRVVXNzs7GYDBPnjyJjIxMSkoKDw8PCggE7cSFpu8/qLl6yedc5FEbfTkrHUlTzQMmagdM1CRNNeWsdI7a6IekxLGqykaHR5D7l/Z+QaFnZ2cXEQlfWPyvwxFYf7PIyzAUewbk2gKypRDUlL+kBWoqkItvSETQuvwIn5dfIIaA+d80+iDSjbfdbhZ0D57B+nK2I28Xa/id6LV/F3sddwHAEZhtn0Gw5Q1sGjEPDkyExdI8bHvzhrAnv5oCtaWAsmCCIPBtxb9NcPXPyqeL/WSxqiAGzw1A/+AdpjMPpDqPVd88OCIYpmdmZpD4tWvXtLS0XqTZC/9u3ryJRqPHxsYOHToEXwA8iEKh2CX3cFgujhj6AhxRU1P75JNPLl26hOQhLS0dHBzs7e2NmK8iyzQHDx5MT0+HIKi/v19cUmxkeNDc2GhgoC8sPU7EVHWt/mFhrPrnnjrCBK21bmqfuCgBV/ZuasIErc89ddY5KH1lr3aaYBmVk9zT08U/whc4sp2fX9ThI29H2ACR1H8IOIIUEmHRWyO9ttlRT2aew7INdN/nfDvNpbf9Wfn55XrByjMu2NkAA0wYuCGmmC/0VsEfgeB7MyKICg32hgjUv7SWy6HsvMHREZ516lvbEUHH+M8igmkcz1INgu7NPLnZ24EtTOh+MIHMkWYgLsKqL/fhN6ArIj7FuVyuwIYPofeyVQfuK5e98MdPRGoA6r4YA9En0Dxi+pd1uSKymnaPC458AxfA509hyopU5Zd9/3TI5nK5KBQKWY55VR5iYmK5ubkEAuJcBHQhLBYbn9CIw3Kr6xpegCNKSkp///vfLSwsaDQaBEGamprff/894gMNyX1mZkZYWDg2Nhb5a6lvkE3O2bBvxz4Ltc2W8utd1TZ6aq9wUfzMA7MJj17nrr7KTXWVGzhRbxMe/ZkHZhUOAJR/WB5bb3JcztXIPy2me6BH4GdiGQf7fxDtCG8Vhr8jbh6CirtubHHRtKXENk8OgR48C4MRviXvq5rqz5rOM14WsDePgZdU9yURtuTKGxFFdi3AeIQz1CIaYnci3HXoyf23cORXbn3+6AK8VkJAc3n3+eOrnS2biTpW+Wf7700AVuUbEcN2Ab/y+//HsxPw5fz8vGDuK7BsBYV/c/j0xZryJPwc6BRZTee3u2G0Ev3GnjyA5kAvgj9vEBz5qRaNRwMIio6ODgwMFPz9acTIyEhPT6+srAy+BOBIWVmZo1OBq9PsvWmgbRJ0QqE9e/b88+Q9Ly8vAwOD2NhYPT09OTk50AlhG4+ZmZmioiJFRUUDA4OxsTFgTRIWIG2o+pGG5BpX1Q9xKhtJmO1eettx2htxmhvcwYm+S8NGnOYXrprfBph+HW6xgqAmZIjaaHzcKoLEuVCFODhBHL/COwnAQjp46R8EjizuFYJpuQBB96D5gJrCz9y0jDLCKjpvPeMiU18g6xBt8Iu9/WU2/5NdfTD37Ck0z+NbpG7IpIJvw48saT2HFp6/kfRB9MAjj+5lXK2UP+ch5mMZU0UH3mnfLtb8VJ79JylgzRS2UOLrYsGUd27GiZks7mWuFUM6P9SO7I1G+uqfjA3/ZXWePn8mGAx4CpIFCCg1BU/C48Uc/8gfQfKfLMLrYvxaIZbmT6H5qWePIi+ydgVYoMKcqvuaEbK8gYs1Ai3jUl5EQMLk5OSpU6eWujtbeg8EQcXFxdu2bbtz5w6cDtDHxMSEskoI1nHm8bMX4Yi3t3d6enpMTExjYyMKhdq9e7eCgsLS7NTV1bu7ux0dHRMSEtLS0r4yUxC2VvjMA7PRUxucROyh86HD6TU+mHXu6utxGhsJaGGCljBBayMBvR6nsc5d/WOi+kpXlXVOypuJ2p/7GWzEaW6ykt9ucppOpyOIBKnSIjD/g8ARwMNw352HwI5NoMGbg57NzfrVUH7wt1jrpnEqieTJzky6WEK9eYF+ta6w4eIbFW72dvRPjT+Zm0GEHW+jDV+ZtABB92efNo8NVLRep928UHjj/J+VOJRbF5YNcXVF5rlR0uFOG9zRe0NtOT0NALfCeuC3pqxL5c9/Gl8AkxzeiMsfbBDODaggf+5n9BlBRymK4MPKzLpezWio/7P2Q2pj/bKht7/vwcNpASJZRCFw0jPu3ODdifquZsbNi5TrdZTGP60Qy2s4j9Su4Ob5goYLWTdqwquobgUJe33MN+K05CKxjVNDgDiwyhvwKfi8QdoRpMKI4mBxsOanYjAYxL07P+GF3+np6XfffZefBODIwsLCwUMEwRF6gu4ndOnSpUePHh0+fHh8fHzfvn2KioqrV69+9uzZDATNzczev39fUgYFzXPnph+u+W4rwCJY9c88MGuJmms80KvxYGlGmKSzhqCxnojeSMJ86qaylqi5jqC5Aa+51dfgYwf5DXgQ/2n40k41JDcRAjt7gVkZKBAfiCBxxN4iob5kMx7TNTXKr8wyvwvQXE425O3xBK4V7NVYUL9lbv9tkxYgqG1iOLKaduIsfpO71kdOSqtxmpu99Tfhtd+osM5VY42H9tc+xpb5Z9seTwKN5yxsAjbPLW2/rpEeuImIWeOqvsldawNe61MPrTeKOJvw2itcVb/1NjFMC8n7sWr44d3FDvtWO/LbMuhi7jMQ1HZ3NLys4ES461dE/TUe2is80W9aP/wCr7MWjz4Z75l+kTM9+wyBI88hqP3JFJGZtsNddzVWbbO3/maizjpXjY2EP60QEyZgNhN1hAmYDe7o9VgNYTf0NqLeDm9j28wzzMZLCGWAvSMyVPFUvG8iHFnknyWxK1euqKmpIQlPnz5dcgVEL1y4ICwsPDY2BqfzzOLEJZzwrgu3p2ZfWKyBIGh6evrYsWN2dnZxcXGjo6M7duwwNze/PzEFcSE3Z5ekhMQFiHu2IH21mtRGAvoTvNomL8w6rOpmV43PPXU24jSF8ej/Z+864KI4vv/aYlewItiNmlgSo9FYwIYCCiId7ugIiAgi7Y474KhWbChGjGisEbA37IodEFBEsIFKUem9HFyZP3sPxvUA4+8fC+ruhw83Ozv17czb77z35o28u54C10iBayTH1u/vzezradjddaGcl9GwQMvGQARi5Bw1Z7Ktdh07iISkUoOq+/iq4Qj0RCwRmRQLqp8X597LTLv97GFMeup39XfhceKWq8fNtgWOdjcZ5W0ZcOFgBUKVlZWaYf4TA5ZM9Lax37cp4sHNGxmPbjxPuZn5+LsiTkx66svKovzaSlIQAjuwsH0cDUekmNknupVskYAlULmw5k158aOczJhnKd/bONwbf2Vp5NYZa5aP4pprhfo+zCVlAOG3L/V10f3V39Z899rN109GPYq/+Twl7sXjhMxn3yp9Yp8/uvvySXzWs4RM8u/BqxdP819llORn15SRqpmGbZJvTeLIYUnDkfrJWV5ePn/+/AbAIT1jt27damRkBKfNgG7m4cOH+gYb3J1rmoAjCKH58+dPnz4dvK9u2LBh+vTp7q5ucYkJSkpKSIyi7lz92VpzuK+5DFevt5vOQG9jElL4MBUCzHp4GfTi6vfzZvTnGvV11+3H1h/gxezva9KTo9fZSb2Xu06zcMTLSGax6hQHxuXb11CDWw78Lf8K3KBJ07z+vn4/GGUEQ7CZ5N9utETWxUfoVm665l++P/ktso7cbLLO6ye/Rexze+8VZ5MaLhCeg3+ab5cSTfcM+i55BmY0NaD1o+FI0/T6yLGww/ztS8B6nI9cT4svTkAqCTOqitfdOD42wFY5yNU+IkSew7DcHRSedKNMTPqlBN3EW1q1+D59hAZCb2GRQBqSSHYINnCshvJpOEJSAnSha9euXblyZQNl3vllMBjHjx/X0tKSxJLKGn9/f/+Ai27L+flF5BlbWDZMIMmadfbs2SoqKgih6urqzMxMfX39DZs2aujraGpqVlRUqDlbdrOZO3ilZV+W3hAPo34eBj3Zur089OTd9fq76g7yMBrGM1XwM+nJ1lXgGvVx1+3N0h3ob6bgY6zgIwEuTSlrBgaa9/Iy7GapbB7gnpmdVd8iySD4uqUjDUNWit9hdvedBEhAWSthdQKUWVm87EioggdDhmuw79pZ0vclfIElUrHv04SQOgwkc7ph3NBw5B1W9slu8AuQEB7GI95hgx9+84H6sSfp+cG7V0d6W/TyMNAPX1dcW0Xy4QYuVv/BkHw5vkmawDiDrtWPuYYbgYj0V4M/mdgSiZaOUCdncXGxoqIihTj1D4VC4R9//MHn8xUVFSsrK0E6Mm/evMNHXsGJvtJwZMWKFc7Oztjba3l5uaKioqCyeuDAgUwjhoWrY39bdbmV5j+4avRl6fXxMuzB0hnAM/7R36I/l4QmvT0NurC0ZDl63dwWDgowH+xn1sN5YW83HTmOgSy7WekIadPqZyLjpiVnNmfVnlASgEs2eGMLkq/UdqR+xS/hceQLgbUFyPi+yXncfKfIJ2IxqiAdsdx9na662kVr3yrAmuTrFpEzHLBIPdGaL+obTICFQ416TZuyUtncpwo35xS80ev4BscepY+kJkIkJlcOks00joe3/eZj8/DVC+g1zNC3mvTvgY+9OzGlKSBBJQ3QhJaO1M9OMG61t7c/fvy41ITNzc2dM2cOQsjW1vby5csIifJyi1RUVK7fEHDcRalPct6BI/fv39fT00tLS9PU1Hzz5g2UNXPmzAf3k5hGjFWb1g/WV+7iskCGpf3LChsSfHgb9eEaDPQxkWXr/LB8voKP8axgN9OdK/5YuUTeVber84IBfqakNoetP9jHtK+3UXPKGgWWvhxLb8gqq872atOWmyUlP0BCyRaVBoPWrxSOvKtcJCd1gyDg22Zr0r2D9QRWXfEROnglKv51OnDChkVXw9CVvHQKk5Qu7dt7hBk7cD/YnwVaahqONAyLT/grdSYLDLB3v0Tf/iCsXw/UkjwKxl5izovgy0frTZqA/A2kESBU/VaE920SB/jSO3NT4skXweZnyf5n2AMsoQ0NR96ZoYmJidra2tQosVh86tQpcIB25MgRDoeDkOjI4RMcDufmLZG7c034oQvvwBErKyvwuLpy5cr9+/fD1nMejzdbTeXIsaO80I0DXPR/cNVQWeV06GmM2j5/eU+jvp6Gsu7a8q66BmH+B+9HZxfnIpHoenaq/+WDgzmMbm4L5XnM3q7ag3gmcjxGs3CEa6TA0h8UYC7vbypnNc8/bAs5wCX8ABbQXykcqZ+mlLUXwJFvc/o2DxPq7b9A/iF5s0UVZfBm3xmvkgRv7UiaL/D7ISANR6gj5FOFqSONWgc1/jsIg3dgIUL1fpLEqLi8jKq6IucdcDPwmP4d0KRZViMZJxJ6wLeKhiMkRSQn0dRPoToXZS9fvqTOJzs7OzjUpqioaP78+QJBjfUiu1u3bt24KXRbzl/u6v8OHDE0NITMJ06ccHd3h/CxY8f69pOrrq5WMtWRcdMZuNpq69mI2Ocp5IYaT0ZfH6YMS3v6asfjD2+/ri6+8DB2x+0z+Xk5558lTFph18Vt4eCVlnIsvQFezB6sZpU1PTx0B3kbyy7XHLLKqru1qqqrdU5pEYnSv3LpCF51wYAl6QkTmPqKvoMw+U2VKKTrV1rvap3fkuUtmb4DolC7KOn4O6LghqFCwxEqnT5TGH9lP1N9LaYaiX0XyaMEpPCDXBiAAlVCEJAEYEcMYNPaYpr+8RuCRwFmSyApAX++WNZLkou8aDgi/Qo2bdok5aF13LhxsEUGITR58uS8vJxxv/4uFApv3hKxXQXzNIzfgSM5OTlQJJ/PnzhxIoSDgoJ+HPXTP7v3dnPRklum/fPKxa8qikf4WPbzNu7DNRjgZ9qbpXvg1rlbGSlj19l3Z+vI8RiT1y9/U5jv/E9If2+TflxGFx8jWRftYb6WA1hGvdz15LyNf2Qbt+eSvhaGsJltPbR7cwy7uWiNWmXXg60vu1yrl5PWkfNnyOH+lcMR6fdD338yCkidsvHJ6vm8BdOmrJ+X3nRtNAX+vxSg4Yg05crLy3/99Vds0FpUVDRjxgycaOvWrc7OTtaL7BBC8QnIxjJXdT6jqhQchpGpyJ01+NLW1s7KyqqoqFBWVv5xxHAPP54s6XfVbEn4lispCcMDrWU5Bj09Dbq5LZwdtPzS00TDDRxZd+0hPqa9ly/s6q7zJCfLeM+art6GwzyM5d0NpqxZ5nR0u/ou/35cRk9vxmAWo7ePsX1EiOM/Wxbs9FcMdLDZv9Hj1N+/rVwyiGss56rnuU6yTYiGI/h90IHvkAI0HPkOXzrd5a+SAjQcaeK1sViskydPghLn5s2bjo6OONHjx48nTfo9IvwIQij6Wo2Hm9DYzPFpyhMsi3oHjqxfv37//v03b960tLQ0MTFRtWL0dNEZ5Gt+9nEC99hOeX/zHs7aw7jMH71Nw+6e/zPhXGdnjW5e+gP9zfpxDXu56j7NzZ4XzOnDMw48+8+hh7fj817WCbV8zh0YyGbI+jD7uOsP8jWPfvagqKz0VWnha0FFRlXx/phLYwNsZTz0+3gytB0Wgb0I2TjJFlAkRl+dV1ZMejrw/6YAVRn54YU0earCh2dvKSlpONJS3gTdjnoK4MVucxSprq5u7hHE/2sJ78/eUp/ScOSdNwMc+Pbt22ABIhKJAgICpPbatG/fLj0tgzzI5kzhmhVo5ZrQ3Tv+bgKOiMXi1NTUOkcjbm5uZ86c2bVr15AF04ewmT09DJ4V5UwOcurA0h7Os+jDNfjNz/pWftrvvtbtXNR/CrDq5aE3yNtYJ9Q3+vWT39Y5tnGcZ7VnnffpPQduX0RCtOnC4QEu+r39TPuwDeR5JncynyRnP7/8+N7+mEvuh7cr+i7pxjXoztbr5208xVSbhiPvvN7v+wZrHL8vMtBw5Pt633Rvv14K0HCkiXdXVVU1b9687OxshNC8efPwdl2EyJPzBg0acPXKDYRQ1NniVQHo4pUEE0NjaTiC0evQoUM1NDTKysqio6M7zhk3ZsXi7q7aGXlvZm5y7+SycJCveW9/Y/fwrfFZTwaxDOR5zOEezFZOaj96Gp9Nuet3KVzB10zWXXeon+VgP4tlB0MqEVp7+XA/N/1+PBMFlqE8z+RA0nXLvet+9LH4LdCuu7cRYTen12rLn/wWDWYxxhioVfDJQxNo6UgTL/nbjWp8xgFC6OzZs7a2tmfPnpXqd0VFhVRMaWmpp6cnm82Wiv9ab2k48rW+uW+83fgbgfv54MEDBweH0NBQHAOBxpMUIbRixQpHR8fc3FypxF/zLQ1Hmn57oaGhPB6vjo3/8ccf1BQhISFubi7LHF0QQndikLtzTdbrygm/jJeGIzjP6NGjbW1tEUKvXr3qqj21v5+5jLPWvWePwuIvTV/nQtjN7eG88EZGSuCxXV38DNt4aI/XqxAAACAASURBVHZfpjF6zeJtt0/HvnysuHqZrIv2SC/z7q7aCj6mvsd3ixFaffmQHMeop4dBXxfdYTzzmBePQq+dYh0LWxX1j+3J0HE86/bOC+Rd9eXcDUYYz6uoqqThCH4X30ng1KlTjRGJg4MDQRCmpqZUIpSVlZ07dw7HAH98/Phxt27dOnXqlJaW9v/T8uACW0SAhiMt4jXQjXiHAgkJCZmZme9EIbRt2zaCIJSUlKSQyuHDh6VSlpSUDBw4sC6xxBGW1MOv95aGI02/O/DQevPmTRMTE2qKBQsWJCTcnTVzbnV19cMUtMSmsLQCzZ05J68gHyGUmppKvHr1is8nnUQghLKysubOnQtOS7IzswYYzengptWba8Q+/Nf9/My/bpxR28Ca6GeTkP9iztrl3b0NfvKzNNzK23v7XFrhK4OwQFmWXi8ec7CfRQcXTQUv45VR/yAxWns+Qt6T2YOtL8c27M9h3n/x9FbawwuPE08k3b7+MvVM3I0JaxzkvJh9fUwGM1Ty8/NpOEJ9f99D2NzcnCrQgy5funTJycnp4sWLVArcvHnT19eXGoMQqqiocHFxcXZ2boxppFJ+Hbc0HPk63tP31cqgoKBr165J9TkxMXHJkiXgtgo/Ki0ttbKywrc4sGrVqqVLlzae6TjBVxig4UizL83JycnR0XHbtm04RXZ2tqqqKkIihpHp/fv3Y+PQcoeKwhIU6BNw5NhRhFBgYCAxduxYOzs7Fovl5ubG4/Hk5eUnT5589OjRo4ePDNKcLuOuO2iNzQ+LVU7cu5VTWvSk6M2F1LiiksKdMWdDb566+fjey9LczOqihZs8+noYDvAy6cM26OlppBBgoeDBcD28HSG08nw4HEv9o59VO+cFq8+Fq4V692DptXde4HN6rxghp1Nhg73N+rjr/2isVis53ZdW1uBX+D0ERowYIeU5B3rd2D5u9+7dNjY276HJt2DNSsOR97xg+tEXooCpqenRo+Q341+v5ORkKRE9eBD/14xfYQIajjT70uLi4kaPHn3lyhWc4tq1a4sXL0ZItCJwTWRkZNTZYh4Xvc7lX4y64M5mlZaWTpkyhfjll1/uSa7jx49PmzbN09Nz0KBBfpKrq+IYeX/z7ssXDvIylfdkso/uuPT0fkFpoUDipa+2pjq5MNP//P4J/jZybP1eHnr9PAz6ehrK85h9PfQHeBh6ndolRKLAqxHyHMNhXGYvrr4Cx1BxtUNXru5AHxN5d4NfvReVIVFS+pNezjr9/MwmGKqTZiO07Qh+gc0HBAIBVtDW1tZWVVU1/hI/efIEFwBmoVIyVfwUxGPl5eU4BgJFRUUQkPLw0SR/aTISF4hLkGpDcHDwwIEDHz58SDoVEpAOwKQunD4nJ2f8+PEcDgdicHWNUUthYSHpzEkoxHmlyoRbnBGIg1uIE38Z1Q8NR/AL+BoCUoMERhH85/P51DlVW1tbUlKCxy0EqLYUUsMVlwwpYXbAoIUYSI9njVR2KXeZH0hLaiFYan7lypVBgwYdO3ZMqpDG8sjKykp9fX1dXV2pR8CscI+kymnyFveLPFRHJGoyDURCsUBzaq73ZPlIj2g4QhKyubfToUOHvLw8/NTMzCw2NhYh0fP0TCUlpeSHyNmx8k1eTVlhqdKM6Vu3bt20aRNhZGSUkpIiFAqzs7O1tLTy8/MdHR2jo6MRX6C13GYQz6yvJ0PBg9GFq9/bTW+816K0/Owjj++4H9uus5k7OchxkK9pDw/dXjyjAZ6MgWzD/myD/p6Mviy9ASwDz6M7SCh0YvdgH9MBfqb9PAxWRO3LLi9wOBwywtu0xxrL0b6LMkrybz9KGuBlouBjqrXchoYjHzJPtmzZAnZh8fHxN27c+Pvvv7dv325ubs7j8YqKilJSUrZt27Zq1So/Pz8Wi/WvLOD169c8Ho/BYBgYGDx9+tTf39/JyWnZsmVgGk2aQEdFsdlsExMTKysrJpN5+vRpOAV6zZo1xsbGhoaG+/fvP3funJubm5mZmaur6/79+6EXwIPEYvGePXtcXFwsLCwYDMaqVasSExNBU7hmzZrRo0cTBMHj8by8vIKDg589e1ZaWnrhwgU2mz1//nx/f384ZXrXrl1Lly4lCGLMmDEBAQGurq4nTpwQCoUlJSUrVqxQV1dfuHAhyIFLS0sRQnl5ecHBwY6OjosWLbK3t1+yZMmLFy+gVdevX/fw8NDQ0LC3ty8vL9+3bx+bzbazs3N2dn769Cmmf35+fmho6OLFi0Fq6OjouHPnTvz0EwZoOPIJifupisZfccx8w8LCgoKCmExmamrqs2fPtmzZsnHjRg6Hs3z58ufPn6empm7fvn3Lli0cDsfS0pLP54vFYviU4qJqa2txWCQSrVu3zszMjMFgnD9//tixY4sWLbK0tCwoKIAa79+/v3btWlNTU0tLS2tr6z179kBXg4KCrKysNDU1Dx06dOLECWdnZ2NjYzs7uyNHjuDCIeXZs2cXL15saWlpY2PDYDBSUlIQQgUFBb6+vtOnTycIwtLS0sfHx9/f/8GDB0Kh8NGjRz4+Pmpqag4ODlBCVFSUl5cXQRCtW7devXq1l5fXxo0bEUJ8Pn/btm2Wlpaqqqp3797F70AoFIaHh9vb29dNPSaT6enp+eDBA3j68uXL1atXz58/X0tL6+nTpzExMU5OTq6urkuXLj1x4gS1BBcXl7WSKyAgwM3NzdXVFT/99AEajjRL44KCglGjRmHdukAgmDt3rgR8k/651dTUDh955eOJ8otESIRmzJqprq5+//59Yvfu3YGBgQihv/76a+VK0hHZgQMH1q5dixBa7OfRY+mCoats+rnoKayx7uppoLLdG4mEgWf3j11p29ddt7PDvG4umv09GUO8jHtx9QfwjBX8THr4GHVw0ejN0vW+uL8aidaePyjjtKALS2uwj2nYrTMlZcXGOwK6cHUJRzWzv9eUCfgnH9wZsMKqn5u+61p/JDmviFbWNPuSEbp58+apU6cKCgoGDhxoZ2d3+vRp8Kv76NGjAQMGuLm5Xbp0CaQa9+7d69q1a1JSUnOCB1zL0aNHFyxYALAgMTHR2tq6T58+ADv27ds3a9YsPz8/SBwSEjJq1Kg7d+4ghK5du+bu7k4QhKKi4qFDh/Ly8sRicXBw8KhRo8CsGrIEBgaqqqqeP38ehBAaGhpaWlqwajx79qyNjU27du0OHz58WnIBb83Ozg4JCfnhhx8YDAYU8vDhw6NHj3bt2pXJZEZHR1+8eDE1NRUenT59WlVVtc7uNT09HWIqKip0dXW9vLzS0tIQQiUlJbt371ZRUYEd8OXl5REREUpKSq1atQoNDQWNeE5OzsKFC5WVlSVHYJPFKCoqXrp0CQosKSnhcrl2dqQzwU9+0XDkk5P4I1dQW1srtSh/8+bN2rVrRSLRrFmz1NTUwsLCsrKywM6pb9++XC736NGjILwsKSnp3bs39RMrFosxpsEBhNDVq1cBkS9evPjYsWMhISEEQYSEhCCEMjMzp06dyuVyi4uLEUKHDx+eMGECIJK4uLjQ0FCCIOTk5CIiIsAc9ciRI6NHjzY2NsaECAsLmzJlCgDuoqKizZs3DxkypA5wkO6qoqO5XG67du2Cg4OvXr0aFRUFEp0669Rdu3bJy8uPGjUKyklOTo6KihoyZMjUqVNjYmLOnDlz//59eHTt2jVTU9O2bdueOnUKV+rh4WFjYwPG6SKRKDw8fMyYMdhc7MyZMxoaGgRBrF+/PjIyEiGUk5OzePFiZWVlLP50cHAAFVJtbW1RUdGOHTukjnDDdX2aAA1HmqVrVFSUi4vLxIkTYQynpqZqaGhIUpNwxM3NLWRrgp83eplVhkRo9hzl2bNnk15ZS0pKJk2axOfzJ0yYAKP59evXkydPFiAUduSgnNW8wattejpoyvNMBvuY70q4LBTUMP/y787RHbzSksQfPsZD/M17uZNn0yhwDPuy9AZxGZP8bfW3eO25dVYsFh59EqO5zWvMCps2jqrq2zyjXtxzPPpnf3d9vY2ep5JjYp4kM7cHEk7z5KzmRZ45QUtHmn29DQ/Wr18PcguCIFxcXGBmgsSMIAhvb29sLJaWlkYQREJCQkPW9/3u37+/TZs2bm5uCKGYmJg1a9ZUVVXV1tZOmTJFUVERljjwaR86dCiTyYSyEhMT27Zty+Px8Fe8oqLC0tKya9eucXFx5G6uO3cUFBSoG2TS0tJkZWU3b94MwmQ/P7927doBl6SqS0QikYKCgpmZGebI5eXlXbp0adJKLjg4mCBIo2xo1YoVK+Tk5DArhMZPmTLFxMQEa7g8PT2B02GpsqWlZefOnUG4UlRUJCsrGx8fj0l2+fLlrVu34ttPGKDhyCck7ucourS09OTJk7AMGDZsmLa2NlUj06VLF1NTUywGIFlwA6rA4grqRKC2+N69e7DdTCAQFBYWrlu3Li0tTSQS6enp9erViyrbmz179rRp0yBvZWVlq1atzMzMqECHy+V279593759dSe/v379euTIkdra2niulZWV9e7dG1ansEDt0KGDlD8r4Dmamprjx4+nNnLcuHHKysrUGAgfP368a9eu4K8TIXTs2DFZWVkpexQ7O7vx48cDfxMKhceOHYM1EtYar1+/vm79g9cJAwYM2LVrF64rLS3N2dkZvmI48lMGaDiC8KAFOuMhtHz58lu3bi1atAigdkhIyPr16yVpSDhy/vx5L+8zyx0qcgtI049Jk/9Yvnx5vZN4HR2dXbt2GRkZgcYdITR9+nQkEGa8eDnSUFXGWWsAz7QHW3841zT+xZM3VcVKaxyJpXP6+5rIexj05uj34TFkPHQVfIx7uevIOGv+HrTU+9zeo09irmU8vJ/xJO5Z8qW0e1tjzvwaaNPPQdM7IvTm8+Qnr1+ceX7/0suHNmFrBvqYdXRdONPJ/FVWNshFaOnIe6bQgwcPamtrr1271rp1a6yAEIlER44cIQgiLy8P2ERtbW1ERESHDh3wmURS40aqigMHDnTo0AGrhyHxyZMn+/btCxu/cXomkzlu3DhIQG7NIgjMEUDZXLf/hSAIWKZwOBx5eXlgHyKRqLa2ViQSdezYEQt4eTweQRAFBQW4fKxu7927t4GBAY6vrKwkCGLRokU4Bi9JN2/eTBAE4DChUDhmzBi8YsvPzwfmzmazsf67ji97e3t369YtI4P0DwhXUFBQx44dnz17Brft2rVTVFQMCQkBM9vq6urs7Ox/1Xw1FPYffmk48h+I92WzAi8WiUQxMTEIoQcPHhAEERERAa0qLy/Py8v74Ycf/vnnH4h5/fp1cnJyly5dUlNTRSJRTU0NBiJNztbk5OS2bdv6+PhQu/n48WMZGRkQdVRVVYFxydKlS3/66SdA+WKxuFWrVnjilJWVIYQyMjK6du06evRohNCOHTtat24NihU8p37++WcNDY2SkhKE0N69e1u3bk2FI7h5dULHcePGUdvTv39/fPYZ7g5C6PLly+3atcNwRE9Pr127dtAY+I8QioyMJAgC6FNdXR0REdG6deu9e/diO5gTJ060adMGJJo1NTVKSkqTJ09et25dSkoKMDrM7qhN+mRhGo7UkxajEByYNm1aRUVFUlKSvr4+QkhdXb1hozgJR4qLiw2NNtnbFgnEKDnxwew5yrDEJZ3Enzx58qeffgILEijezc0t+tJlMb/WguvcyXz2yI0OshyDcQGLHxe+vvA0YXKgXVfnBYN5JgNYBvIeBgpco4HexvK+xn19mJ05Ol3Z2j/7WoxfsXgIl9nLccFgT+YwL5M+bjrdvfR7Bhj3YeuN8DSZusZBeb3bpED7H+zVOnH1+jtoe29ai4TkEbC0Kev7Jw98EV1dXceOHQspIcbX13fMmDE1NTV4QLi7uw8bNgyXRmUNOBIHdu7c2ViUEhAQQBDE/PnzeTwem812d3dfvny5muQC5BEfH9+5c+c1a9ZgLoYQKi8vl5WVhebNnTuXIIi6XbgsFsvR0dHf33/VqlWjRo3atGkT8KDVq1e3atXq1atXjZsnKytrbm6OW1hbW9uxY0cnJyccgwN//vln27ZtATeUlZURBAF8FidACG3ZsoUgiC1btkCkm5sbQRBU5sXhcDCmgdVbnz59CILo3LmznJwcj8fDln3UYj9+mIYjH5+mn7ZEkeQiWZeYXEnhb2dkZOTQoUNhWMKs3LlzZ/v27UECByl37drVvXt3LNgTCAR4/lILhMR3797t2LEjRv8IoZqamjt37tR9wkeMGMHlct3d3evcNPj4+CgpKc2aNQsAukgkqkP8eAEARSGEBg8e3KZNm6KiIldX19atW+vr63M4nLp54evr6+DgoKamZm1tDY05dOhQly5doqKicF4cmDFjxi+//AK30P0xY8bMmTMHJ8CB8+fPt2nTBvsdkZGR6datG34KRLt16xZBEEuWLIH4rVu3tmnTBo6nhxhYdOFCYmNj27VrRxBEv379+vTpw+FwQAX2OZYNZINoOFL/Aqn8HywLp06dCoNHWVn5xo0bU6dOrU/acICvESPYk40KisU8jvefodtgiUvCkcTExK5du2KBPCBZR2dSeJKQnNRbd/pAb9MuyzXl2UYB5/7R3ObVy1W7G0tbjmPQ29NAzte4J1u3nzejl5Pmj57GQwMs+vAYPd20u7kt7Oal32elWSe2lhyP0V9i6DrEy7ivh35nV00ZX6Muzgu7sXT7BJr39zb5w54RE38XiSRHW9M7axre23t+J06caGFhgRMIBII6Iae1tTWOKSgoGD58uJeXF9ij4fjmAocOHSIIAis4YCSFhITgZVOTGePj46nSEbxFhSAIWVnZumMHDAwMunTpArar2Aabyiz8/Pw6duyIzT6ou4F69uyJtUIgtyMIAitrgINDjSAdgbzJyckEQaioqODqoOUbN24kCGLDhg1w6+Pj06pVq6KiIgwyVqxY0apVKywdQQilpaUdPHjQyspq4MCBMjIyLi6kM8FPftFw5JOT+BNWQOXLixcv/uWXX6g429zc/Ndff6VWP3nyZC0tLVCDQjx1dlBTktw4IYEgCDCkwNAHNBosFgsS4+pwgM/nt2/fvvHo/fnnnwmCEAqFdeuE1q1bY/chMKfAhBwm0YEDBwiCwC6SsdlWnTZWVVV1zJgx1HaOGTNm5syZ0LyKigqMri5cuEAQxPnz5yHxDz/8IAVHwBytdevWeNaHhYUBU8KdPXfuHEEQZ86cgUIqKytra2sjIyMtLCwGDx4sIyPTYKBAbdGnC9NwpJ628ILwa4qJicGYMjQ01MzMjMvlNrwGUjqCEFqz9rqfN7p6PclI17C4tERLSysjI4OEI6tXrx41ahRstoQ8JSUl48b/RmYTIJlJP/e2XzDYz6IrR3+AB4M8LY+rP8zfQsFNrw9bb4CfaS9XbXmOYT8fpgJLv5erdi+u/kAfkwE8YzmOgQJL/0cfMxlnzb4+zJ4cPVl37UErLPpzjcg9OH7mPVh6A33MFGw0mFwnUNCQtdNwpOG9NfdbWVnZqVOnHTt24AQCgaBbt25//vknXlHdvn2bIIiUlJTq6uro6Gi8qRVnkQoAHAGbefzo+PHjBEFQj2TE6jxI8/jxY4IgwsLCcBaE0LNnzwiCANMka2trgiColnqQEg9cNpvdtm1bwBbp6ekbNmzAxhzDhg2jKmtA5owXeVR7lNWrV3fs2BFUzjU1NXW2sZhFYm7o4eHRsWNHvOuHy+XWGd9gKXEd2/X29m7Tps3z589hYw7Yd2NMY2Rk1LdvX2o3P1WYhiOfirKfsFw8nql1TJw4EVYIGKPU6RCpqpb8/Py2bduC/cT58+fxTjRqIdQwoH+AI3gmpqamtm3bFgy8qIlxWCwW1wkCpQyxy8vLZWRk+vTpgxD6888/W7duDdsXcC4cEIlEUVFR2KFqnVsBFouFbcWUlZWllDVDhgyZNWsWmM+vW7fu8ePHUNS1a9fatGmDRSzDhg3r2LEjXgxAmt27dxMEsWrVKioMaiwdAWBUJwn29vbG7ayzPPD19e3SpQtWYVMffZowDUfeoSsg4MrKyu3bt8Pnqba2VigU9u7dG9SXktT1cOT4iVy35fzjp6472jmIEYLD9giRSPTbb78dOHAATv3A80pTUzM946UIiZez3MYx1GUXzx+xYansci15T6M+bD3Ss4gXc6AXsx9bn7z1NurHNWzyr4eHrhzHoD/XqD/boB9bv5+HgRzHQI6t39NFRyHAosfi+ToeS1Ofkh4y4Pw8fJYv2XQx+vN2VH9P42d59VaK7/S+4UaMBAf2Iz/vSgnqEokbxEENz7+1X1hnNKjiyN6dOXOGIAj4lEJvLS0tQT4GBvAwUGDhhZdNkBJuw8PD6ww+wP4O06u0tPSPP/7An2FYNpWVlXE4HOBHDx48aNWq1YoVK3CWukUVm81u3749mNDX7Tru27cvmCXhNCkpKUFBQcB8g4KCCIIAJJGYmLhlyxZsnNurVy+qsqaysrJz584YoFhbW2Muv3r1amr3AeIANfB4HjZs2KxZszCrAlNWbKeCEPLz86uzTYEdEM+fPx87diwozoE+SUlJXbp0wQtH3JePH6DhyMen6RcosbS0lCCIGzdu4C9uWlpaHW7AZpgIoVWrVsnKykLjtmzZgr/xGARLtRvQ/99//w3xGGpraGj06NED7MZgwBcUFLi5uYFJllAopMIRmHe7du3q2LEjYKOCgoIff/wRI3hIUFJS4uvrC40/fPhwq1atsNmplZUVTIo6Kxk1NbWff/4Zt1MoFE6aNGnEiBEQ4+/v/+LFC1gLXbt2jSCICxcuwKONGzfKysrCQqW6uhqabWFh0bVrV8zHtm7d2q5duxs3yBPXgHfBqon0QyG5Bg0ahBVSoLrq1q0blsVCmk/5n4YjTVNXS0srPT0d3mlFRUWfPn3Cw8MbktbDkdt3kMuyKmUV/dcZr8QI3bt3z8rKirS0CgwMfPPmDWm+SrkcHBzOXrwglhx9NHjiLyOsF7a3Uh4RtKSvh34/b4a8r7Ecj9GLS2IReQ+DgZxm4cgwnqkCx7AnW7e3p0E/H2Zfb6M+XIM+XIPha+262s0ba6e3+9QRqLZeQCJuwCU0HKG8Dmpw5cqVgwcPpsaw2exx48YBewJNNpvNBhCwfv16MLnHzIuaEcJ5eXlBQUGDBg3666+/pOQo+/btmzNnDih9EEKFhYURERHY9W9SUhJBEHPnzoV9NAihU6dOKSoqgvwZCvfw8Jg4cSLmZdnZ2b6+vpihXLhwQUZGBqzVTpw4gU+7ePHixfDhw6dPn46FJXVbftTU1FRUVCoqKgQCAdba5Obm8ng8BQUF7AHwyZMnSkpKbm5ur1+/BiYVGxs7ZswY2M6DEEpOTl68ePHgwYPj4uKALCUlJUuWLOnVq9e5c+fgqwBKKMBGfD7/8OHDZmZmjUn38WNoOPLxafoFSty9e3eHDh0AZ0P1hw8fbtu2LXkORsO1devWefPmvXr1av/+/XgGYZDdkKr+t7KyMioqqkePHqtXr6ZK9WD/2ujRo5cuXQpwubCw8MaNG3gjWFVVFUEQQ4cOxVAgOjp6+vTp8+bNwwBo27ZtEydOxPOaz+d7eXnhyZienj5y5EjQB8XHx+OSc3Jy1NTUxo0bR+2UnZ3d6NGjYeIsWbIEEH9VVdXff//dv3//ffv2wTYZPp+voaFhZGSE969dvXp16NChGGzx+fz169f36tXrwIEDQILMzMxt27YNGDBg69atUGyHDh2whySxWHzx4kUVFRUqx5Ci4ce+peFIExQVi8VKSkowtGprax88eGBoaKirq9uQtB6O3IlBbsv5mtoWSEiqYTIzM9XV1UktO8jT9PX1r1+/jqX92dnZZhbmx48fNzc2kZeX9/0ruK/R7N4sfRKOcA3l2Pq93cjNvQP9zRR8jHuzdJsUjfTjGsq6a/fm6MvxGP28SUUPuR/Yi6HgY9zDWXuYtWbAzhDy+ycRa0j+kRKRejEJDUcaXqDU7+bNm8ERCKwYBAJBUFBQwzaq+rQxMTEsFis4OBjWFni91ZjZPXnyxNTU9KeffurRo8dvv/02c+ZMzLagrGPHjhkbG0+dOnXx4sU2Njb79+8H2Mvn8x88eNCxY0cTE5NNmzaxWCwGgwF2r5ARyxLCwsKA9VhaWi5ZsgSXD2svf3//MWPGmJqaenp6Al8DVyU9e/acNGmSkpJSUlIS1Hj58mVFRUU9PT0mkwn+lG7fvq2jozNq1KhOnTrNnTsXC29fvnzp7e2tra1tYmJiYGCwcOFCzO4vX75saWk5dOjQDh06TJgwgc1mHz161MTE5KeffurevbuKioqLi8vVq1enTJnC5XKXL1/u6+tbx1VdXV2pQmOpN/Ixb2k48jGp+cXKioyMlLjErm+AUCg8efLksmXLqA16+vSph4dHeHj4iRMnYGIKJRc1DYQLCgpsbW1/++03GRmZsWPHTpgwITw8nCrmTE5ONjMz+/33352dnZcsWbJ9+/bbt29DXrFY3L59eyaTuX79eldXV3Nz87pdbz4+PlQzKYTQwYMHtbW1VVRUTE1NsTsQ3BJ/f/9p06ZZW1vb2dmBiDE0NFRNTa2v5FJWVr579y7M96dPn6qrq//xxx/Ozs5gj5KTk2NiYjJ69Oi2bdvW2Zj7+PgAYnj58uXatWsZDIaWlpaGhoa1tTXehXTv3j1jY+OhQ4d27dp1ypQpqqqqGRkZ5ubmw4cP792797hx46ysrJ4/f66srLxy5UoPDw8Wi2Vqaurv7w96nPfY3+AefYwADUfeoSIs7V6+fKmmpoYfcDicQ4cOLVy4sEFtVw9Hrl2v5XGRsoo+KDPEYjHp+wo2ZPL5/Lp9XFS9Zm5uroyMjKur684dYepzVZ+/fOG3d9tg6wW9Ofr9vZkDvY0VWPpyztpyrjp9PQ17+9RDjcagpIeXQT9vhgLHUM5ZW95dj3QPz2P2YOkMMFPz3rmZtr+lPQAAIABJREFU3CMuJCEIeTX8p8KRrbfO9Pc0Tssnl7nNXd+bsqa6uloKVWCBsJTHM0gG3/LmqAcyj8ZPxZILx4MWkMoBEUJPnz4FKYJAIODz+dSdijgjBAoKCgBqSJUAT8vKyqAEuMVbD6gSHZyxpKQEr+qwwZ1UdQC/SktLgfFRKVAjuaTSY8cG2BUmSIlKS0sLCwtBHiOV5VPd0nDkU1H2c5cLyj5ca5PfyJqaGupqHg9UPNpx9sYx+BGeJkKhMDc3l7ptHgokCMLJyUksFguFwoqKCjzIoQS8bIC1aHV1NS6QOiurqqqKi4tBlYOrhoBAIICKcPuLioqo29ZwLsxVcHeEQiGwKTzroUzqHIcYzPfEYjFIX0BTAwbppaWlVDYo1cJPc0vDkXfoCu/xyJEj4E0bnv3+++95eXmRkZFwNC9qMKXYtz9thR+aOFm1IQK5urrWb/KGnMOHD4dBkJ6ezuZ4jBw+4tChQ0KELC0tHyUlVwpqGK72MiYzezpo9PMzGbRmEWmv6qoj56qj4NUsHFGQWI0MYBmQCCbAjNTyOGvLW89btSf0TX4eefoNxWqEvHlXOhJy87QCl0nDEXhB1P+YZVAjISz1SOoWQxnMO6RySaXH5ePZjjPGxMQQBIHlqzglToCVvvgRDuDScExzAUAGjZ9S+Xjjp/9TDLXBoN9pMrtUsibT/NdIGo78Vwp+lfmlJh31Fk9Y6Bh12Es9ova8SnJBTJs2bbANOC75wwczhg5QmlgsxtAKl0atmhpushYc2WT7pcqENFTMRC2/cVgqe+MEHy+GhiNN0NLJyQkEySKRKC8vD/Y6lZWVKSkpSYZNvXTEzf2INwfpGdo+epAKgoh//vmH3FmDB4eNjc3Dhw9v3rxpbGy8YdPGzZuCd+/eXYOQG9cjMjwCCUR6Orpem1apsqxlrVVaO6j08DEatMJigBcTFDeNRSOkWoelJ8fWJ7UzPkZtlqp0t5qj5+u04/D+6soqEouIUQ0SgbuRJqUjAEfSC9400e+GqO9NOtLQ73//xW8Wkkqxlffnx4doNJesvLz8yZMn7du3X716NV79NMlfmivhPfFUCPI/Nfs9Zf7rIylySfXlMzWDhiP/+p6+hgQwlvBnu7kmS40xqWRSA5L6lGo+8p5kCKGHDx927NjR0dHxPXU11873j/nm6n1/LmovINxcOY1TUmPe0x1qsk8ZpuGINHWFQqGqqiqWz23evBkbJDk5OR06dAikI9XV1Wbm25bZl4XuiNy4dgPAEdJSm4o6T58+PXv2bF1d3WPHjlXX8LMyMg309Cv41XcS7npwOX/v3GVvuxgJRLfv3lkaxPtlia6C/YL+bAMFL0YfrkGTWKQf13BQgLm8p5Gcq85AR63xDgZ2qz3vxMcgAXlwDuCPel2N5CxfsnPvSke23DilwGXScET6tf+P91IMorkFxIfP8OrqagcHh+7du9f5FuvZs6e5uTl1o/i/tu4DGZBUs6HY5hrfuNImszdO1rJiaDjSst7HJ2kN1V/7f6mAOmEbQ4qsrKwNGzaoqakRkgtbB/6XGiEvrlcoFFLrxfH/vQoo4cMn+8eq8X8ph4Yj0tTKzc1VVVXFserq6nBwGMBiye4KUjqyd+9eL+8zzo6V9x5k6GrqABwRCASkdARf7u7uPXv2BC83Yol7zQm/jRfU1CKEBg0bOm3G9FdvXpPbaEUiJBRdvx5t68/6adGCvg4LBnobNwdHFLwYPe3n/2ilbhvocTvmluSQPJEQiQB+QDtIXFIfouEIfhsfGvjATztORmUfH1pHU+kKCwvLJFd+fj6cn9dUqo8Z9/+DFx+uFfqYbf1/l0XDkf836b62jNSlYOO2f/iXuHE5eLLn5+c/f/68srKyoqIiJyfnw8ts3B46phEFaDgiTZLHjx9jL3ZVVVWTJk2ippgxY0Zu7hskRnPnzo2IzPTnoVc51VN+n1xRVQnJ6uFIcnJy3RFK3t7e9vb2eOND3elKtra24ItCRkaG6pwYA4j0jJfbdu+0dVk2c4nxhEW6Q03n9WbM7s2YPdR03oRFujOXGC9lu+7Yv+d5puRwECrsoDaTGpakqWgwKLHat37C6qVCscTGhJqMEqaVNRRi0MGvnAJiEXmolFhUQyJzCb9Dgrte2nHe2khERiJUS9p6g9UVBvFfeafp5tMU+Loo0LDfQgAL6We7eZdNfhbX1H9Wv66+/MfWwnoPMDGHw8EHn0VGRq5evZrq2+ngwYNstvv1a7eXLFkSdbbY14uEI35evidOnYSlJglHNm/ebGxsDAcXXb9+HRs9welKGzZs+PvvvxUVFalHKIkEIOAg34UAIT6pYhFXlJVnvcpOefYk5dmTrFfZFWXlSCgura2ukchCyD5/GByRMGKEalF6Sd7vax0N9q5+P9el4ch/HE909hZEARKOSJAI2SZYfgnuchfEe+sgoUjCBAGjSAD6+ydGC+oV3RSaAt8UBRrgiMQwU4ye7eZdZI4U15R/U5383ztjZGSUnJwM+ZYtW3bu3DlqGUVFRRMnTrC0sDl16tTtO4jjLnqTVxN3K9bWbjEkI9zd3ZctW4Y92eXn5yspKWFZX3Fx8aRJk/T09Pz9/eHIx3oGCMBCciNukGTUow38SBLA23jfPpXAEmor3wmLEV8oQLVkoZtjo37kmOyLv0Lmbf6i4UjztKGffG0UAGUN/JecKYnEAEf0EKzERPU/H4Ltv7bO0+2lKfC1UIAEIuABXIxIOHLJ6EdUW/G1tP7jthNshgoLC2fPng3Ckurq6lmzZsFmb5B8gKLQ1tb6l7Hj63xaxsQitqsgv0gk4gsnTPwdhCuEnp4e9dyyuhPXHBwcsA/NuqNQe/bsuXLlykePHuno6JCbcsUiEqxQMYekZ0IJKKFGQ0y9Yx/qg/fDEZBDi9HR9ISJm5wXrnbn19bQcOTjjh66tJZLAXKvGamKkWhkJMhDLEj01onl6SGhJFIEO+Xqra9abkfoltEU+JYpQE5DWGyLEXq62/MyYzgSVn3LPW6+bwBH7t27Z2hoCKkSExOxEQlINwCOODjY/zSSPHPx8pUql2VVxWUkbjBkGIHFKjF+PAlV8CUSieLi4vAx7tHR0WPHjoWTBcaPH4+lJu/AESrUwGIMqUjqLa6sqYBAAlbCE6/96G3+x9pllx/fqz9Ur6nEEEdLR5qnDf3ka6PAO3CkVjLRRHe9dO8GGoBBCRKTQIS2Hfna3ivd3m+MAuRSAcv+n/3NvWo8Uiz4TuEIvNq9e/di5+ArV64E8w/qW6+pqfn117HaWvoJCQl340npSFEpyckORoTDuYnkSY/Y9gRy8vn84cOHV0suJpPJ4XDAyZqmpiY+gYxMSUUYEJbEYTGJdBoRnNVLbV5TYTEqF9b4nd6nEcS6/iSpXhP0PktW0uLvuzpCrymq0XHfCgXehSMA72O89eP9tZFYIDFllViQ1LtW/lZ6TfeDpsBXRoF66QjZajF6/JdrtPmo2prqr6wTH6+5tbW1S5cuxSf3zpgxA9xwvxVhILRnzx53d9cjh08sX778bjzy8URv8mqQCL3JzZk9e3ZNTQ2RlpamoqICwhbse4rFYp05c2bv3r0cDufFixcqKipisXjTpk3kuXwNyAOfcF3fo8bohJKS2muxUIRtW6nx9WGJKDqzpvQNv4xUnYtQZQ0fdOhNJJZE0XCkOcrQ8V8jBUhTVhFgDgGA+wdrrW85TUc1VWDKKtHj0KasX+O7pdv8jVAA1gn1Bq1iQeJG25uLxmHdwDfSyf+lG1VVVXPmzAF/mBkZGXPmzJHKXV5evmDBgpyc1yXFFXPnzg2PyPBwE77KqYaFlbq6elZWFrmzRlVVFQ59xfljYmKYTOa0adPAt9WYMWNqamouXLjg4uJChSMYgZBnFkhEI2QJDaH6pxJ01BAnqeGdG1xnfaDhBZO3AgHJjgUIge8T6aQN9zQcaaAE/fstUIAKR8jBj9CL7e7nmCPFua8lk4ucFLSy5lt403QfvloKwHdK8l9UU1p0K5AZazdRMjG/2i79t4YLBIKJEydCGcePH4dDXqlFpqenq6urk4xLjNzd3XfuSnVZVgXKGjFCbm5uV65cIeFIUlIStjrBMg+CIM6cOQPF+fj4nDx5Mi8vb/LkydQKWkiYhiMt5EXQzfjvFKDKNuHMs9ra2pqammu2U64u+v3O0sn3WbPvus665TTzznLlOOe5sa5z6L/3UCDObW6c29wYF+U7zrNjXefEs1TjWaqxrnNiXJRb1B/5Qp1nx7nNveuuEuf29rU210icBnoEt3fdVZpLT8d/XArEOivHeqjfcJkbv3xGtMmoq8vnFcad/Z6lI+Hh4evWrQPpyLx589LT06msDCFkZWV15coVgCNZWVn6BhvcnWtKyklTVjFCaWlpWlpaJBwpKCgwNja+d+8ePh81MjJy+vTpW7ZsAfZ67tw5Z2dnhNDs2bOljqn87/z3v5dAw5H/TkO6hBZCAak5LBKJBAJBbW1t0fWI1H0r7wQtiQm0jAu0iF9tGb/GPHal8f0VpvTfeyiQtNIMP00MMI73Y8T7Me4FmrS0v/srTKFJCf7MeD/GXV+jeD9Ggj+zuXYm+DPhDxLH+RhClubS0/EflwJxPvoJK03uBDIfbrRLDXHJOBWGqkv4LYSJfIlmBAQEREREIIQqKipmz55dXFxMbcWLFy8WLFggsQaRWGMgtMR+r7tzDdiOiBF69erVrFmzSDhS5wP+77//dnV1hXBeXt6CBQsOHjxoYGAAMXw+//fff0cI2dvbX79+HSJbzn8ajrScd0G35D9SAJ/ADuXA4SbkbnlQgwprkYBP/gn5SMxH4qp6lWiDjpS+pSlAU+AzUID0ikz+1ZIzsbYW9uV/t8qa8vJyJpMJDtBOnjxpZ2cnxQYDAgIaNt2IwMV68OY4d+ea0goQl5DJ7e3t6+FIdXW1qqoqbJzh8Xj+/v7gxgSMYxFCc+bMycrKOnDgAGzIkarsy97ScOTL0p+u/SNSQAqOQMlkZAPgkDhBRtWI/CNXY/gBHaApQFPgc1EAjLrA0hzCEk3Ne7eAfkQ20cKKKiwsnD9/PmyFsbOzo54zAyoXJSWlhlPf66UjFy9VuDvX5BYIQFmDENq/f389HEEIrVy5MigoKDY2lslkAgrh8XjkVhrJFRQUtHfv3mfPnmlqarYwUtAbfVvaC6Hb8/+ngJSy5m1BwGclht2kL0jSIkyAJA7l36ahQzQFaAp8HgqIJOJJ0n04oJH6r+znqbyl1ZKamspgMKBV06dPx1t0IWbPnj3kJpj6q55QsXGk35HtYYdgZw2SmI+8hSOlpaVz5swxMjLCbkiSkpJMTU2hkJiYGAj/8ccfUpU1VPPFfmnpyBcjPV3x56JAtYTtkSuwelxCViwgHZEAN6T/0xSgKfD5KCBApPfkGokv8vq1wXvPef1cfOLL1LN79+41a9YghFJTU/X19aUaMW3atNevX4MzEaybib5Ww3EXKavoYziCEHoLRxBCU6ZMoZ4ILBKJFixYABqc8vJyJSUlgUCgo6Pz+PFjqfq+7C0NR74s/enaPxEF3lXcCOrFIXBmTb0Rv2Sp8bkE1LRiqMVSgPwU0sPgs1JAgEQi8k8s+ZOcsP3d7qwxNTVNSkqC43h37NhB5YdxcXG6urqUmLfKGk82MmDY3YtLxHR7C0eysrJmzpz5jid4hJydnU+dOgW4RllZOS0tzcvL69KlS3BMDqWOLxmk4ciXpD5d96ehAGAR/J/82Eh0NOCJp95ojvwK0X/vo0BGxoubN69funQhLe3pV0QrkUhQXFyYnZ35IW0uLy999SqrqKjgQxLTaT4SBST4T4IC4Vh7yTeV9Bn0HV6//PKLxHejSF9fX0paYWZmdv36dYpGpR6OXI3me7LRgfCzXHfOO3AEzrYxNDQ8efKkhYXFpUuXMEFfvXo1d+5cUkIsFv/1119//vlnbGystbU1TtAggcERXyBAw5EvQHS6SpoCLYwCsP1IqlE7duwwNjYmCOLOnTvvWUQ1a7IjVZzktsmKgIs2lfyduMZ5q6qqGkc+e/asQ4cO3bp1q6mpgbZB47Ozs98pjvTfK7K1tSUIYsOGDVKP6FuaAp+BAm/evFFRUUEI4QCuNDc3d8aMGe/Ou7dwhMdFL7PKlCYrVlbXn/VTLx05duyYra1tfn5+cnIy1VhVIBCoqqoWFBQghJ4+faqrq1tQUDBv3jxcX0sI0HCkJbwFug00BVogBcRi8fr16xUUFHJzcz9D8xoDC2qlGLJQ0U92dnbjjZFPnz4dPXq0rKxseno6LqG0tNTOzq6wsBDHQMDV1bVt27Y+Pj6wQpV6Sr2tra2l3jYXfn8vmstFx3+fFLh48aKHhwdC6OTJk+7u7lQi+Pv7b968mRpDiqYkwpBbt8Usl9rcAkEAz3/HzjBIQ8KR8vJyAwOD8+fPQ5SGhkZ8fDwuYtWqVaGhoXD766+/CgQCJSWl8vJyhBCgnpoaycFeOMNnD9Bw5LOTnK6QpsBXQ4HFixdPnjwZvsT/+j3G3KxJue+71jxvKYBxBkRR0cbbRE2FRCLRjRs33NzcGmfJyMgoLS2FTK9fv4aAkpJS4y6Ul5dXVlY2Vfz/HPfuQvZ/zk5n+A4pwGazQaNib29/7tw5TAE+nz9jxgyQZeBIgCNisTjuLnJaWl5agZ6mPFGbXy/gIOGIn5+fp6cnZBCLxVevXsWbdhBCWVlZysrKoK8xMzOLj4+3srKKjY3FSLzJeUup/pMHaTjyyUlMV0BT4GuggNSyXiQSCYXCQYMGNRY/UHsjlUsKGcDSC7M7yIgjqfFNckIppILrBTZdWVlpa2vr5uaG4+GsLuotDl+4cIEgCIoavn5BiBM0GaAiFanGNNngxnCnyWLpSJoCQIEZM2YUFxeXlZVJOWPdt28fZX8vpla9dCQmloQjpJN4EdLV14PT8YjExMSFCxe+efMGAAeu4OXLl3imTZs2DSbPsWPHuFzuP//800gCgyv7AgEajnwBotNV0hRoSRQASCGFJJDE+XSHDh3Onj37nsaWlpY+ffr0xIkTaWlpfD4/ISFBcrjG2xwvX77cIbmOHTuGJcdFRUVJSUm3b99OTk4WCARZWVnXrl27c+dOXFwcztng+gmlpKTs378/JCQkJiYGmC1CqLi4+Pjx4127djU3N8/JycnPz8/Ly4O8Dx48gNIwVIqOjjY3N+/cufOLFy+eP3+elpYGKSsqKh49enTx4sXU1FSIATxRU1Nz+/btvXv3hoaGUs0BYYWZkJBw69atoqIihNDDhw9jY2Nv374ttZB9/fp1bGzs1q1b9+7dm5iYiMXnuHd0gKZATU0N7MaNj4/HbtyBLAsXLnz06FEjEtXDkes3BPVu0ETo8NEjDg4O5EZffX39I0eO4NNqIPPff//NYrFwQStXrgwLI7U7ubm5c+bMSU1NtbS0BLEeni048ecP0HDk89OcrpGmQEujAF76JyQkrFmzZuPGjQcOHAgJCenSpQt85qmQBQOX6urqDRs2zJ07t3Xr1u7u7l5eXps3b+7UqdOiRYugg4cOHZo6dWpkZOSNGzfWrVu3YMGCo0ePghPJ+fPnd+zYcejQof7+/qtXr96+fTuXy1VSUgoKCqISx8XFZeHCheHh4SkpKRYWFsBCEUJr1641MjIiCEJRUXHhwoUMBmPz5s1lZWUZGRm2trbdu3cnCKK8vDw3NzcxMdHKyqpnz54EQdjb26urq5uYmDx79kwkEq1bt05RUZEgCE9PTyw4efXq1bJly8zNzaOjoxMTE93c3DQ0NMBXZk1Nja+v708//dSmTZtNmzatX7/+r7/+2rVr16JFi5SUlLCpSkZGxqJFi/bt25ebm5uVlcVms/v160ftFB2mKYAQio+Ph5myZcsWbNSBELp//76WllZTor56OHLlajWXJX6VU41ESCgWKSoqvnnzhsCzjiqjq6mpUVVVffr0KVA8PT0dbx1WU1N7+vSpiooKVQb4ZV8MDUe+LP3p2mkKtBwKeHt7M5nMxMREhFBERMTvv/9O9aXUXDszMjJ69er1888/X7t2LTU19eeff4blWlxc3JgxY9zd3YHdVVZWMhiMqVOnYjXH2LFjBwwYcOnSJbDzEAqF/v7+srKyx48fBzOU4ODgESNGwJJPJBLl5+dPmzbNysoKVoCZmZmDBg3C3iZx88rKyvz8/Nq1a4e30vD5fAcHBzk5uaysLJwMAtnZ2V26dHF0dMTx+vr6mpqa2OIEIeTi4qKuro5ZemxsbKtWrRQVFWNiYiBXdHT0Dz/8sGfPHrhduXKlra0tLvDly5caGhq0ZQkmCB0ACqxatSoiIkIoFOrq6uKRKRaL3dzcIiMjm6JSPRy5Gs3nuIty8mvBttXX13fnzp1ETk5OU3kQi8U6dOgQnnWTJk0Ci25ra+u4uDhFRcWqqvrNOU1m/5yRNBz5nNSm66Ip0GIpsG/fvpEjRz5//hwhBGigW7ducBo5tBlLULB0BPdl4MCBgwcPhltYm9XW1pqbmxMEAWIVYIYHDhzo2rXrjRs3IKWKisrQoUMhAQgnKisre/XqBbKE2trakSNHTpgwAddSpytZtGjR4MGDgZ2WlZWBVAYnwA0LDg6uk4WAXAfA0NKlS1u3bt0k423Xrt3SpUuhkIsXL/bu3RskNFh6nZaWRhDEpk2bIE1ubi5BEAsWLMD1QktgiwRCyMLCYty4caWlpfgTQCUjzkUHvnMK6OjopKWlVVRUjBw5EpOitLR09OjR+PbdQD0cuXFTyHKpLSwhbUcqq6tevnypra391g0a5IHBJxaLS0pKfv31V2w+smXLlrVr1yKEoqOjHRwcNm3atHfvXsiCZ/i7tX6+OxqOfD5a0zXRFGipFKioqOjcuTOPx8MNfP78OUEQFy9exDEIIfyFpkYihPr27aunpycV2apVq759+168ePHq1asnTpyIi4tbv359586dsVx62rRpo0aNksplbW3drl27qKioa9eu1bk8UVVVPXPmzFXJdfnyZWNjYxkZGfAWVVVV1apVq6Ys/tCGDRsIgsDSEYSQnZ1d69at8d4fqBTgC0EQTk5OEGNvb9+pUycp8xeEUPv27YcPHw5p3rx507ZtW9jBAAxcJBIRBAEyIYFAcOnSpfbt2xMEoaKiwmKxrl69KtVH+va7okDjWQNQAUDCzp07g4ODMXINDAzct28flhe+S6i3tiMsl9q8QiFIR/h8vp2dHcFms3FqKWDBYrEOHDgATx88eACGKtnZ2fPmzbtw4QLG0Tj7lwrQcORLUZ6ul6ZAy6EAyC2oZpt79+7t1KmTlIUmNBgLIXD7+/XrZ2Zmhm8RQhUVFT/88EPPnj2vXbt27ty5CxcuHD16NDo6+vjx41hVPWvWrDFjxlBzIYTMzMwIgti/f3+duUmXLl1mzZp1+fLls2fPnj9//sqVK5cvXwa+yufzy8vLCYJYtmwZlEBtalBQEEEQIAsBaY2joyNBEBiOYO6PEGrbtq2vry8UMnv2bIIgGlsREgQxYsQISJOTk1Mn9fHy8sItz8/P79ChA8Y0CKFz586pq6v36NGDkFxLlizBiekATQGRSJSdnQ1WHAwGIyEhAdNk2rRpr169gluqEYgkpmk4ghA6ffo0wWAw4Mw8PD/xcH/w4AFYo0C58+bNA0MnMMWaM2cOrv7LBmg48mXpT9dOU6AlUEBTUxNrW6A9Wlpa48aN+8C2DRw40MLCgppYJBLJy8t36dIFIURVkVBNKFRVVak2ngARXFxc2rRpc/bsWZLDEoSOjg7etwhLRtgnDModgiDc3Nwg4759+3AD1q9f36ZNm2fPnuGYJUuWEES9PDsvL48KvNq2bctms8VisUAgsLGxwZuJMFcnty0QBDjzRgjl5+dT4YhIJCorK+vQoYOrqytUB/t0xGJxnbnMkydPjIyM2rRpc/nyZdwYOkBT4NChQ+vXry8rK5s4cSKmxtGjR7HVkVAoxCNQLBZL5B3NwpGKigri1q1bGhoaeO8ZLhQCxsbGWEu6bt068EPs6el5+vTpSZMmlZWVSaX/Irc0HPkiZKcrpSnQoigwefLkYcOGgVQDGvbbb7+BS4/bt2//a1NHjhzZ+DBSbW3tVq1aAXvEwuPk5OTHjx+D+HrOnDkgr6aWP2bMmO7du1dXV9fU1AwaNAhaRU1w7tw5WDVWV1cTBIElzYsXL8ZYZ/PmzXVmJVgMU11d7ebmVud9Fcq5e/fuli1bMAdu3bo13pQQFhbWqVOn4OBgSAmgJykpqUOHDjY2NhBZWFjYoUOHwMBAaqsIgli+fDnEaGlp3b17F5vgIITqLGDA8Ss1Cx3+nilgbW0dGxt79uxZqhn1rFmzMjIyYORg0QbAcQk0aRaO1J/ou3HjRiwtpAoA6874PX/+PBiBI4RevHgBrulv3bplY2OzaNEiOMTvi78PGo588VdAN4CmwBengJGRkaqqKm5GQkICQRBxcXGVlZXr1q2jijdwGhzIz88fP368jo4O/sDDo5s3b44bN05fXx9jkdTU1LVr12KhxeTJk2VkZNLT0yFBdXV1cHBw586dQ0JCoITg4OAhQ4bs3LkT1xUfH8/hcMCUtaSkZOjQoSA+KS8vt7S0hGQCgYDH47Vt2xb8P0Hk5s2bCYIAlHDgwAHsAbO4uLhXr14Yarx582bGjBlqamqZmZmQkc/nW1lZzZgxA0vUU1JSZGVl7e3tcasyMzN/+OEHOzs7gFlWVlaurq4lJSU4gaqqKmwVxjF04HujABZ1QMcnTpzI5/OdnJyuX78OMffv31dTU4MwNjcRCAR4+mAn8ddvCKi2I5CFFP3BYP3rr78gSur/rFmzsBpSTU0tPT29oqJi4sSJu3btAmckUuk//y0NRz4/zekaaQq0KAqIRKKQkBAGg5GVlSUUCp88ebJ+/XqCIO7du5eWlhYREdFca6uqqi5evMhmswmC6NNz+ru0AAAHRklEQVSnj7+///Hjx6mJ9+zZM2PGjICAgMTExOTk5LVr12I7VoQQnM8XGBh44cKFgoKC0NBQLS0tJycnKuN2d3dXVlYODg5+9uzZvn37tm3bBvpxqCUwMFBBQSEqKur69evgXjIzM3PdunXjx48nCMLExAQrZRISEsaNG8fhcOLj47lcLqwG9+/f7+rqShDEqFGjPDw84GiehIQECwsLDw+PGzduPHz4MCQkRFtbG05+FwqFe/bscXJygiwrVqxISkoKDw+3s7Nr06bNr7/+GhAQkJKSoqenN27cuA0bNrx58yY9PX3btm0LFy5sfFwOlVB0+JunAHVUFxQUTJ8+HSE0e/ZsbPNkZmaGUTKmBsYlkph/k44ghGJiYphMptTRwFDctm3bvL29IRwaGrpu3TqEkLa29smTJxtvl8ct+JwBGo58TmrTddEUaJkUePPmjbOz86ZNm3bs2BEeHn7x4sU1a9a4u7uHhYW9X1nz6NGjy5cvh4WFnTp1au/evVI7cRBCaWlpISEha9eu3bRpE3g0QQiB5GDKlCnjx49/9epVeHj4mjVrgoODG29pqWOYSUlJoaGhXl5ekZGRKSkpQEDsaT4qKorH40VERIDFRmlp6fnz5yMiIk6cOAGRWGh97969OhmJr6/vvXv3oJD79++fO3du9+7dZ86cOX36NBaPFxUVRUVFBQQEBAUFhYWFweZnyHLlypVjx47t3LnzwoULx44dKy8vT0pKioyM3LNnz+7du8+dO1deXn7x4sWMjIzY2FhfX18Oh3P+/Hlw4doyXz3dqs9PgaioKBaL9eDBAyaTCZrHhw8fYvGkSCTCgxbaBoZN/y4dgdRhYWE2NjbvApn6Po4dOxZAd15e3syZMxFCK1asOHjwYGOl6ecnCqmUQoID+5Gfd6XkpECRuOHMwC/SGLpSmgI0BT4/BcDkoqCgoLa2tri4GITDAoEgLy8Pf/UbGfnXNxN/whs3u7ksOKWKisqPP/4It1R9EF5HSjFlnPGjBHAt7ymNIicnT0t9T8p/ffQh1f1rIXSCb4MCQUFBERERW7duxSfGbN68eevWrbh3eLRAoGEcfoB0BIowNzffvXs3Lg4H9uzZ4+fnB7egr0lJSWEymcrKyi0EMu/bifx8K4WoConre4sbTwdoCtAUoCnwiSgwderU33777RMVThdLU6BFUQDQOcD3adOmVVRUzJw5EzypCoXCxjvem2i8GCGxQIz45y8iL3ZlXgEpLkGoFlK+4wYtNzdXXV0dztaDxwDts7KyZs+eDRbae/bsCQgIqKysnDZtGovFahnnKvH370a+PtVCUlRCw5EmxgAdRVOApsDHpUBGRkZ4ePiAAQO6d+++e/dufILdx62FLo2mQAukAJ/PV1RUzM7OVlNTA8Hkzp07/fz88L6w97VZjMSo9tJVxHUvf5UjQBKlBqQn4QiAHZCoREZGLliwoEGu8rZMDocDBlwlJSVTp05FCM2dO3fPnj1N+hN8m+0zhar+2VfL866shyOfqVK6GpoCNAW+FwpIscTa2tobN274+fl5enouXrx4zZo1Fy5c+KR6me+F0HQ/WzYFAC0kJCSYmJgcOXIEu1GdP39+WlraB0wBgcSYovbyNeTJqiCP0KMYV9RLR6ighs1mgz94IAtUX1hYiE+iWrhwYWZmJriNnzVr1pemngghUfgBobdXuQSOvIO2vnTb6PppCtAU+GYpgC3tQHL8zfaT7hhNgQYKAB7Ytm1bnX20mZkZGInHxcUxmcyGJO//BThSdSlaxOPU5BaIEHr7yX5HWQPF1NTUqKurR0dHS5VqaWkJW+AOHDjAYrEKCgrU1NQUFRW/9FQkO3NwP+LxSkg4gvhU4Y9UF+hbmgI0BWgK/HcKYGEJDvz3MukSaAq0cArg0W5mZpaQkPDHH39Ag21sbE6fPv2hjSftKaouXhXzOLVvcsUkHGm4SDhCNQiH+EuXLmlra8Nhkg0pUXJysrq6OkKkeTacUfn777//38LDw+GXVsNV0pfx98+v/2tX/4eOjow2R+gb+qO2jYbAiA0BtKFpSMdxxIbGqMeHfQhAEvynT58cHR0PHDgAOenj8ePH9vb2xPr9H2Ry5u+Wbf/rKr8/fwUZGgEtZ4Weyvr//3/MEY7a2trOzk40O0JCQiCDMzExMWfPns3KysrJyZk3bx6aMrpzf+/b/7+y7PuTR6NLWeke9qMWjobACAsBgrt/R1h4jHp3ZIXAzZs3AwICampqIKf5dXR09Pf3kxAE//7//ft/yZJ/LY3fvvwEHdQBHyDBMlkDN9fGxubUqVNw7v////fv35+VlfXv37/ly5e3t7evXLkyJycnPj4eWQ292SDPvL9w5X9Jwc+TR/79+goe+UFarEtv94zaNxoCoyEwHEMAfo4CHs8RowaP9lGp0RAYtCEAWSn16dOno0eP5ufnOzg4QA5jNTAw+A0GxLr8399XL/5PnfSzp+sHqLYGjYxAR0cAxerpXoLNeoIAAAAASUVORK5CYII=)"
      ],
      "metadata": {
        "id": "NDzPeL3rSEW4"
      }
    },
    {
      "cell_type": "code",
      "source": [
        "# @title QDI layer\n",
        "@qml.qnode(dev, interface='torch', diff_method=\"adjoint\")\n",
        "def qdi_circuit(weights, input_array, wires=range(num_qubits)):\n",
        "    for r in range(qdi_reps1):\n",
        "        for i in range(len(wires)):\n",
        "            qml.RX(weights[r][i], wires=wires[i])\n",
        "        for j in range(len(wires)-1):\n",
        "            qml.CNOT(wires=[wires[j], wires[j+1]])\n",
        "        qml.CNOT(wires=[wires[len(wires)-1], wires[0]])\n",
        "        qml.Barrier()\n",
        "    for d in range(qdi_depth):\n",
        "        qml.AngleEmbedding(input_array[d*num_qubits:(d+1)*num_qubits], wires=range(num_qubits), rotation='Z')\n",
        "        for r in range(qdi_reps2):\n",
        "            for i in range(len(wires)):\n",
        "                qml.RX(weights[qdi_reps1+d*r][i], wires=wires[i])\n",
        "            for j in range(len(wires)-1):\n",
        "                qml.CNOT(wires=[wires[j], wires[j+1]])\n",
        "            qml.CNOT(wires=[wires[len(wires)-1], wires[0]])\n",
        "            qml.Barrier()\n",
        "        qml.Barrier()\n",
        "    return [qml.expval(qml.PauliY(w)) for w in range(num_qubits)]\n",
        "\n"
      ],
      "metadata": {
        "id": "Af4xhUpzkqHG"
      },
      "execution_count": 18,
      "outputs": []
    },
    {
      "cell_type": "code",
      "execution_count": 19,
      "metadata": {
        "id": "UOGGLKYcRIvu",
        "colab": {
          "base_uri": "https://localhost:8080/"
        },
        "outputId": "d42dd4c6-7fbd-4077-8ed5-eaa11abc72d8"
      },
      "outputs": [
        {
          "output_type": "stream",
          "name": "stdout",
          "text": [
            "0: ──RX(1.00)─╭●───────╭X──||─╭AngleEmbedding(M0)──RX(1.00)─╭●───────╭X──||──||─╭AngleEmbedding(M1)\n",
            "1: ──RX(1.00)─╰X─╭●────│───||─├AngleEmbedding(M0)──RX(1.00)─╰X─╭●────│───||──||─├AngleEmbedding(M1)\n",
            "2: ──RX(1.00)────╰X─╭●─│───||─├AngleEmbedding(M0)──RX(1.00)────╰X─╭●─│───||──||─├AngleEmbedding(M1)\n",
            "3: ──RX(1.00)───────╰X─╰●──||─╰AngleEmbedding(M0)──RX(1.00)───────╰X─╰●──||──||─╰AngleEmbedding(M1)\n",
            "\n",
            "───RX(1.00)─╭●───────╭X──||──||─╭AngleEmbedding(M2)──RX(1.00)─╭●───────╭X──||──||\n",
            "───RX(1.00)─╰X─╭●────│───||──||─├AngleEmbedding(M2)──RX(1.00)─╰X─╭●────│───||──||\n",
            "───RX(1.00)────╰X─╭●─│───||──||─├AngleEmbedding(M2)──RX(1.00)────╰X─╭●─│───||──||\n",
            "───RX(1.00)───────╰X─╰●──||──||─╰AngleEmbedding(M2)──RX(1.00)───────╰X─╰●──||──||\n",
            "\n",
            "──╭AngleEmbedding(M3)──RX(1.00)─╭●───────╭X──||──||─┤  <Y>\n",
            "──├AngleEmbedding(M3)──RX(1.00)─╰X─╭●────│───||──||─┤  <Y>\n",
            "──├AngleEmbedding(M3)──RX(1.00)────╰X─╭●─│───||──||─┤  <Y>\n",
            "──╰AngleEmbedding(M3)──RX(1.00)───────╰X─╰●──||──||─┤  <Y>\n",
            "\n",
            "M0 = \n",
            "[0 1 2 3]\n",
            "M1 = \n",
            "[4 5 6 7]\n",
            "M2 = \n",
            "[ 8  9 10 11]\n",
            "M3 = \n",
            "[12 13 14 15]\n"
          ]
        }
      ],
      "source": [
        "print(qml.draw(qdi_circuit)(np.ones((qdi_reps1 + qdi_depth*qdi_reps2, num_qubits)), np.arange(0, 16)))"
      ]
    },
    {
      "cell_type": "code",
      "execution_count": 20,
      "metadata": {
        "id": "CVapZNt66Ki3"
      },
      "outputs": [],
      "source": [
        "# @title EFQ layer\n",
        "def efq_subroutine(params, input_array, wires=range(num_qubits)):\n",
        "    j = 0\n",
        "    for i in range(len(wires)):\n",
        "        qml.RY(params[i+j], wires=i)\n",
        "        qml.RZ(params[i+j+1], wires=i)\n",
        "        qml.RX(params[i+j+2], wires=i)\n",
        "        j += 2\n",
        "\n",
        "    for i in range(len(wires)):\n",
        "        qml.CNOT(wires=[i, (i + 1) % len(wires)])\n",
        "\n",
        "    j = 0\n",
        "    for i in range(len(wires)):\n",
        "        qml.RY(params[3*len(wires)+i+j], wires=i)\n",
        "        qml.RZ(params[3*len(wires)+i+j+1], wires=i)\n",
        "        qml.RX(params[3*len(wires)+i+j+2], wires=i)\n",
        "        j += 2\n",
        "    qml.Barrier()\n",
        "    for i in range(len(wires)):\n",
        "        qml.AngleEmbedding(2**i*input_array[i].reshape((1,)), wires=[i], rotation='Z')\n",
        "    j = 0\n",
        "    qml.Barrier()\n",
        "    for i in range(len(wires)):\n",
        "        qml.RY(params[6*len(wires)+i+j], wires=i)\n",
        "        qml.RZ(params[6*len(wires)+i+j+1], wires=i)\n",
        "        qml.RX(params[6*len(wires)+i+j+2], wires=i)\n",
        "        j += 2\n",
        "\n",
        "    for i in range(len(wires)):\n",
        "        qml.CNOT(wires=[i, (i + 1) % len(wires)])\n",
        "\n",
        "    j = 0\n",
        "    for i in range(len(wires)):\n",
        "        qml.RY(params[9*len(wires)+i+j], wires=i)\n",
        "        qml.RZ(params[9*len(wires)+i+j+1], wires=i)\n",
        "        qml.RX(params[9*len(wires)+i+j+2], wires=i)\n",
        "        j += 2\n",
        "    qml.Barrier()\n",
        "    for i in range(len(wires)-1, 0, -1):\n",
        "        qml.CNOT(wires=[i, 0])\n",
        "\n",
        "@qml.qnode(dev, interface=\"torch\", diff_method=\"adjoint\")\n",
        "def efq_circuit(weights, input_array, wires=range(num_qubits)):\n",
        "    qml.layer(efq_subroutine, efq_depth, params = weights, input_array = input_array, wires = wires)\n",
        "    return qml.expval(qml.PauliZ(0))\n"
      ]
    },
    {
      "cell_type": "code",
      "execution_count": 21,
      "metadata": {
        "collapsed": true,
        "id": "CpySUk9nRwNP",
        "colab": {
          "base_uri": "https://localhost:8080/"
        },
        "outputId": "ac308d6d-24e3-45a0-a342-e92c44b26fbf"
      },
      "outputs": [
        {
          "output_type": "stream",
          "name": "stdout",
          "text": [
            "0: ──RY(1.00)──RZ(1.00)──RX(1.00)─╭●───────╭X──RY(1.00)──RZ(1.00)──RX(1.00)──||──AngleEmbedding(M0)\n",
            "1: ──RY(1.00)──RZ(1.00)──RX(1.00)─╰X─╭●────│───RY(1.00)──RZ(1.00)──RX(1.00)──||──AngleEmbedding(M1)\n",
            "2: ──RY(1.00)──RZ(1.00)──RX(1.00)────╰X─╭●─│───RY(1.00)──RZ(1.00)──RX(1.00)──||──AngleEmbedding(M2)\n",
            "3: ──RY(1.00)──RZ(1.00)──RX(1.00)───────╰X─╰●──RY(1.00)──RZ(1.00)──RX(1.00)──||──AngleEmbedding(M3)\n",
            "\n",
            "───||──RY(1.00)──RZ(1.00)──RX(1.00)─╭●───────╭X──RY(1.00)──RZ(1.00)──RX(1.00)──||─╭X─╭X───────\n",
            "───||──RY(1.00)──RZ(1.00)──RX(1.00)─╰X─╭●────│───RY(1.00)──RZ(1.00)──RX(1.00)──||─│──│────────\n",
            "───||──RY(1.00)──RZ(1.00)──RX(1.00)────╰X─╭●─│───RY(1.00)──RZ(1.00)──RX(1.00)──||─│──╰●───────\n",
            "───||──RY(1.00)──RZ(1.00)──RX(1.00)───────╰X─╰●──RY(1.00)──RZ(1.00)──RX(1.00)──||─╰●──RY(1.00)\n",
            "\n",
            "──╭X─────────RY(1.00)──RZ(1.00)──RX(1.00)─╭●───────╭X──RY(1.00)──RZ(1.00)──RX(1.00)──||\n",
            "──╰●─────────RY(1.00)──RZ(1.00)──RX(1.00)─╰X─╭●────│───RY(1.00)──RZ(1.00)──RX(1.00)──||\n",
            "───RY(1.00)──RZ(1.00)──RX(1.00)──────────────╰X─╭●─│───RY(1.00)──RZ(1.00)──RX(1.00)──||\n",
            "───RZ(1.00)──RX(1.00)───────────────────────────╰X─╰●──RY(1.00)──RZ(1.00)──RX(1.00)──||\n",
            "\n",
            "───AngleEmbedding(M0)──||──RY(1.00)──RZ(1.00)──RX(1.00)─╭●───────╭X──RY(1.00)──RZ(1.00)──RX(1.00)\n",
            "───AngleEmbedding(M1)──||──RY(1.00)──RZ(1.00)──RX(1.00)─╰X─╭●────│───RY(1.00)──RZ(1.00)──RX(1.00)\n",
            "───AngleEmbedding(M2)──||──RY(1.00)──RZ(1.00)──RX(1.00)────╰X─╭●─│───RY(1.00)──RZ(1.00)──RX(1.00)\n",
            "───AngleEmbedding(M3)──||──RY(1.00)──RZ(1.00)──RX(1.00)───────╰X─╰●──RY(1.00)──RZ(1.00)──RX(1.00)\n",
            "\n",
            "───||─╭X─╭X─╭X─┤  <Z>\n",
            "───||─│──│──╰●─┤     \n",
            "───||─│──╰●────┤     \n",
            "───||─╰●───────┤     \n",
            "\n",
            "M0 = \n",
            "tensor([1.])\n",
            "M1 = \n",
            "tensor([2.])\n",
            "M2 = \n",
            "tensor([4.])\n",
            "M3 = \n",
            "tensor([8.])\n"
          ]
        }
      ],
      "source": [
        "print(qml.draw(efq_circuit)(torch.ones((12*efq_depth*num_qubits,)), torch.ones(num_qubits)))"
      ]
    },
    {
      "cell_type": "code",
      "source": [
        "# @qml.qnode(dev, interface='torch', diff_method=\"adjoint\")\n",
        "def pqn_circuit(weights, input_array):\n",
        "    result = torch.zeros(pqn_c).to(device)\n",
        "    for i in range(pqn_c):\n",
        "        result[i] = efq_circuit(weights[i], input_array[i*par_qubits:(i+1)*par_qubits], wires = range(i*par_qubits, (i+1)*par_qubits))\n",
        "    return result\n",
        "\n",
        "# (efq_circuit)(torch.ones((12*efq_depth*num_qubits,)), torch.ones(num_qubits))"
      ],
      "metadata": {
        "id": "zRK_X7CKBCNm"
      },
      "execution_count": 22,
      "outputs": []
    },
    {
      "cell_type": "code",
      "execution_count": 23,
      "metadata": {
        "id": "Z2h7AxM4iO0b",
        "colab": {
          "base_uri": "https://localhost:8080/"
        },
        "outputId": "ec53d3dd-535c-4c52-a414-215322be3ebe"
      },
      "outputs": [
        {
          "output_type": "stream",
          "name": "stdout",
          "text": [
            "0: ──RZ(1.00)──RZ(1.00)──RZ(1.00)──RZ(1.00)─┤  \n",
            "1: ──RZ(2.00)──RZ(2.00)──RZ(2.00)──RZ(2.00)─┤  \n"
          ]
        }
      ],
      "source": [
        "# print(qml.draw(pqn_circuit)(np.ones((pqn_c, qdi_reps1 + qdi_depth*qdi_reps2, num_qubits//pqn_c, )), np.ones(num_qubits)))\n",
        "print(qml.draw(pqn_circuit)(np.ones((pqn_c, 12*efq_depth*num_qubits)), np.ones(num_qubits)))"
      ]
    },
    {
      "cell_type": "code",
      "source": [
        "pqn_circuit(np.ones((pqn_c, 12*efq_depth*num_qubits)), np.array([1, 2, 3, 4]))"
      ],
      "metadata": {
        "colab": {
          "base_uri": "https://localhost:8080/"
        },
        "id": "BN_UwgKtngoT",
        "outputId": "de814a15-0baa-494f-f6d5-88de62dc1d6a"
      },
      "execution_count": 24,
      "outputs": [
        {
          "output_type": "execute_result",
          "data": {
            "text/plain": [
              "tensor([0.5640, 0.3534], device='cuda:0')"
            ]
          },
          "metadata": {},
          "execution_count": 24
        }
      ]
    },
    {
      "cell_type": "code",
      "source": [
        "print(efq_circuit(torch.ones((12*efq_depth*2,)), np.array([1, 2]), wires = range(2)),\n",
        "efq_circuit(torch.ones((12*efq_depth*2,)), np.array([3, 4]), wires = range(2)))"
      ],
      "metadata": {
        "colab": {
          "base_uri": "https://localhost:8080/"
        },
        "id": "GGt8GH6uyrjH",
        "outputId": "61363fa9-6382-4db9-815f-9ded6ee7f701"
      },
      "execution_count": 69,
      "outputs": [
        {
          "output_type": "stream",
          "name": "stdout",
          "text": [
            "tensor(0.5640) tensor(0.3534)\n"
          ]
        }
      ]
    },
    {
      "cell_type": "code",
      "execution_count": 31,
      "metadata": {
        "id": "I5iScbqNcbDj"
      },
      "outputs": [],
      "source": [
        "class QDIHybridModel(nn.Module):\n",
        "    def __init__(self):\n",
        "        super(QDIHybridModel, self).__init__()\n",
        "        self.classical_layer = nn.Linear(num_qubits, 1)\n",
        "        self.q_params = nn.Parameter(torch.randn((qdi_reps1 + qdi_depth*qdi_reps2, num_qubits)))\n",
        "    def forward(self, x):\n",
        "        q_out = torch.zeros((x.size(0), 4), device=device)\n",
        "        for i in range(x.size(0)):\n",
        "            q_out[i] = torch.tensor(qdi_circuit(self.q_params, x[i])).to(device)\n",
        "        output = self.classical_layer(q_out)\n",
        "        return torch.sigmoid(output).squeeze(1)"
      ]
    },
    {
      "cell_type": "code",
      "execution_count": 25,
      "metadata": {
        "id": "ShE-nVFQ50Hf"
      },
      "outputs": [],
      "source": [
        "class EFQHybridModel(nn.Module):\n",
        "    def __init__(self):\n",
        "        super(EFQHybridModel, self).__init__()\n",
        "        self.classical_layer = nn.Linear(input_dim, num_qubits)\n",
        "        self.q_params = nn.Parameter(torch.randn((12*efq_depth*num_qubits,)))\n",
        "    def forward(self, x):\n",
        "        x = torch.relu(self.classical_layer(x))\n",
        "        q_out = torch.zeros(x.size(0), device=device)\n",
        "        for i in range(x.size(0)):\n",
        "            q_out[i] = efq_circuit(self.q_params, x[i])\n",
        "        return torch.sigmoid(q_out)"
      ]
    },
    {
      "cell_type": "code",
      "execution_count": 70,
      "metadata": {
        "id": "FfUq7U9iopBS"
      },
      "outputs": [],
      "source": [
        "class PQNHybridModel(nn.Module):\n",
        "    def __init__(self):\n",
        "        super(PQNHybridModel, self).__init__()\n",
        "        self.classical_layer_1 = nn.Linear(input_dim, num_qubits)\n",
        "        self.classical_layer_2 = nn.Linear(num_qubits//2, 1)\n",
        "        self.q_params = nn.Parameter(torch.randn(pqn_c, 12*efq_depth*num_qubits))\n",
        "    def forward(self, x):\n",
        "        x = torch.relu(self.classical_layer_1(x))\n",
        "        q_out = torch.zeros((x.size(0), 2), device=device)\n",
        "        for i in range(x.size(0)):\n",
        "            q_out[i] = pqn_circuit(self.q_params, x[i])\n",
        "        output = self.classical_layer_2(q_out)\n",
        "        return torch.sigmoid(output).squeeze(1)"
      ]
    },
    {
      "cell_type": "code",
      "execution_count": 32,
      "metadata": {
        "id": "7tKcnGWd54i8"
      },
      "outputs": [],
      "source": [
        "QDI_model = QDIHybridModel().to(device)\n",
        "optimizer_for_qdi = optim.Adam(QDI_model.parameters(), lr=learning_rate)"
      ]
    },
    {
      "cell_type": "code",
      "execution_count": 35,
      "metadata": {
        "id": "4Tpm4p6WgDUl"
      },
      "outputs": [],
      "source": [
        "EFQ_model = EFQHybridModel().to(device)\n",
        "optimizer_for_efq = optim.Adam(EFQ_model.parameters(), lr=learning_rate)"
      ]
    },
    {
      "cell_type": "code",
      "execution_count": 71,
      "metadata": {
        "id": "Z4Iyc3K4hG8d"
      },
      "outputs": [],
      "source": [
        "PQN_model = PQNHybridModel().to(device)\n",
        "optimizer_for_pqn = optim.Adam(PQN_model.parameters(), lr=learning_rate)"
      ]
    },
    {
      "cell_type": "code",
      "execution_count": 33,
      "metadata": {
        "id": "sxv0t7loH3zf",
        "colab": {
          "base_uri": "https://localhost:8080/",
          "height": 49,
          "referenced_widgets": [
            "f91a3e7866b44870a5ae8dd88d704b74",
            "f6efa280f00d49f6b1176dea66f38033",
            "3674e9236c784d76872d9970046038f3",
            "82972fd59b60430e8203b76d500ac865",
            "ce4feadf48a246dcaa86d1e09f093cf5",
            "d4b9b3ad41b146538d8e4f06740a9226",
            "eb0ca91382d94e6f88c6e4c580001930",
            "df236ff19ed444c5a0f01b8e1553bf44",
            "03a28c1143c346ecb9b929925f761616",
            "4d8f60eba56246a181c697a6e597ed98",
            "237b04f6f2004c079056ca9cfaea3827"
          ]
        },
        "outputId": "632e4d09-b6d2-471f-ef93-2cefdbe70482"
      },
      "outputs": [
        {
          "output_type": "display_data",
          "data": {
            "text/plain": [
              "  0%|          | 0/100 [00:00<?, ?it/s]"
            ],
            "application/vnd.jupyter.widget-view+json": {
              "version_major": 2,
              "version_minor": 0,
              "model_id": "f91a3e7866b44870a5ae8dd88d704b74"
            }
          },
          "metadata": {}
        }
      ],
      "source": [
        "QDI_losses, \\\n",
        "    QDI_accuracies = train(QDI_model, criterion=criterion,\n",
        "                              optimizer=optimizer_for_qdi,\n",
        "                              train_dataloader=train_dataloader,\n",
        "                              test_dataloader=test_dataloader,\n",
        "                              num_epochs=epochs)"
      ]
    },
    {
      "cell_type": "code",
      "execution_count": null,
      "metadata": {
        "id": "FXfCIiWN18r7"
      },
      "outputs": [],
      "source": [
        "# fig, ax = plt.subplots(1, 2, figsize = (15, 5))\n",
        "# # ax.set_title('Comparison of QDI, EFQ and PQN performances for noiseless case')\n",
        "\n",
        "# ax[0].plot(np.arange(1, QDI_losses.shape[0] + 1), QDI_losses, label='QDI')\n",
        "# # ax[0].plot(np.arange(1, EFQ_losses.shape[0] + 1), EFQ_losses, label='EFQ')\n",
        "# # ax[0].plot(np.arange(1, PQN_losses.shape[0] + 1), PQN_losses, label='PQN')\n",
        "# ax[0].set_xticks(np.arange(1, QDI_losses.shape[0] + 1, 4))\n",
        "# ax[0].set_xlabel('num_epoch')\n",
        "# ax[0].set_ylabel('loss')\n",
        "# ax[0].legend()\n",
        "# ax[0].grid()\n",
        "\n",
        "# ax[1].plot(np.arange(QDI_accuracies.shape[0]), QDI_accuracies,\n",
        "#            label='QDI')\n",
        "# # ax[1].plot(np.arange(EFQ_accuracies.shape[0]), EFQ_accuracies,\n",
        "# #            label='EFQ')\n",
        "# # ax[1].plot(np.arange(PQN_accuracies.shape[0]), PQN_accuracies,\n",
        "# #            label='PQN')\n",
        "# ax[1].set_xticks(np.arange(0, QDI_accuracies.shape[0], 4))\n",
        "# ax[1].set_xlabel('num_epoch')\n",
        "# ax[1].set_ylabel('accuracy')\n",
        "# ax[1].legend()\n",
        "# ax[1].grid()\n",
        "# plt.title('Comparison of performances of QDI, EFQ and PQN layers for noiseless case')\n",
        "# plt.show()"
      ]
    },
    {
      "cell_type": "code",
      "execution_count": 36,
      "metadata": {
        "collapsed": true,
        "id": "fg5UTY0OMYFA",
        "colab": {
          "base_uri": "https://localhost:8080/",
          "height": 49,
          "referenced_widgets": [
            "b42b0137b91f4d80b69efb07b83ce364",
            "cb14776164c643e4a352a603de91c5fa",
            "621492b8306a419798f4e9eb8329eb3c",
            "5a416bdb028c4f6e92b469eeca65540a",
            "aacba13fdb254345b88ac25b23a4bc1f",
            "012819c972484ca49cd9eaeb2153dce6",
            "21e05d1961d042f783f220e4677033bc",
            "ff678f8a38cf4a2bbda330141ab66b37",
            "ea2a5bb40534449fac022171353908d7",
            "85e0b439de3747a893181dbb2ce386e2",
            "8ecb6b98c88641e4acd476b8b70a2424"
          ]
        },
        "outputId": "afb548d3-4d93-4ef8-accb-80281b04f300"
      },
      "outputs": [
        {
          "output_type": "display_data",
          "data": {
            "text/plain": [
              "  0%|          | 0/100 [00:00<?, ?it/s]"
            ],
            "application/vnd.jupyter.widget-view+json": {
              "version_major": 2,
              "version_minor": 0,
              "model_id": "b42b0137b91f4d80b69efb07b83ce364"
            }
          },
          "metadata": {}
        }
      ],
      "source": [
        "EFQ_losses, \\\n",
        "    EFQ_accuracies = train(EFQ_model, criterion=criterion,\n",
        "                              optimizer=optimizer_for_efq,\n",
        "                              train_dataloader=train_dataloader,\n",
        "                              test_dataloader=test_dataloader,\n",
        "                              num_epochs=epochs)"
      ]
    },
    {
      "cell_type": "code",
      "execution_count": 72,
      "metadata": {
        "id": "VRYcgnRGMglq",
        "colab": {
          "base_uri": "https://localhost:8080/",
          "height": 49,
          "referenced_widgets": [
            "ef85d93d304a444db8c47bbaf852d867",
            "d32db23828904f7aa2145d2016a8d87f",
            "dfda907bc43b47aba17cbc646d6beb06",
            "0ecc8e0700444eddb1e4f1f50544ddb0",
            "94fb03ac57b34f8d80f98152bee0b74c",
            "ab0f239851014fb78496c1f89b3067fd",
            "2d0cfdaaecb841ac8572725becd517b6",
            "5b9b598d5d18419eb634328ac4a80a8e",
            "79684c2296e5413884c9b97a0d1cfaee",
            "93282c0bce5446fcbdd6af089ad97d61",
            "8ff9c0274abd4da889f4a49ef9299323"
          ]
        },
        "outputId": "39b9a088-d8b3-4961-a0a8-bc7dd4707634"
      },
      "outputs": [
        {
          "output_type": "display_data",
          "data": {
            "text/plain": [
              "  0%|          | 0/100 [00:00<?, ?it/s]"
            ],
            "application/vnd.jupyter.widget-view+json": {
              "version_major": 2,
              "version_minor": 0,
              "model_id": "ef85d93d304a444db8c47bbaf852d867"
            }
          },
          "metadata": {}
        }
      ],
      "source": [
        "PQN_losses, \\\n",
        "    PQN_accuracies = train(PQN_model, criterion=criterion,\n",
        "                              optimizer=optimizer_for_pqn,\n",
        "                              train_dataloader=train_dataloader,\n",
        "                              test_dataloader=test_dataloader,\n",
        "                              num_epochs=epochs)"
      ]
    },
    {
      "cell_type": "code",
      "execution_count": 73,
      "metadata": {
        "id": "Sdl0GFagmVbW",
        "colab": {
          "base_uri": "https://localhost:8080/",
          "height": 487
        },
        "outputId": "688b8858-c1b6-4c34-e301-7f6880cc5206"
      },
      "outputs": [
        {
          "output_type": "display_data",
          "data": {
            "text/plain": [
              "<Figure size 1500x500 with 2 Axes>"
            ],
            "image/png": "[encoded data removed]"
          },
          "metadata": {}
        }
      ],
      "source": [
        "fig, ax = plt.subplots(1, 2, figsize = (15, 5))\n",
        "# ax.set_title('Comparison of QDI, EFQ and PQN performances for noiseless case')\n",
        "\n",
        "ax[0].plot(np.arange(1, QDI_losses.shape[0] + 1), QDI_losses, label='QDI')\n",
        "ax[0].plot(np.arange(1, EFQ_losses.shape[0] + 1), EFQ_losses, label='EFQ')\n",
        "ax[0].plot(np.arange(1, PQN_losses.shape[0] + 1), PQN_losses, label='PQN')\n",
        "ax[0].set_xticks(np.arange(1, QDI_losses.shape[0] + 1, 4))\n",
        "ax[0].set_xlabel('num_epoch')\n",
        "ax[0].set_ylabel('loss')\n",
        "ax[0].legend()\n",
        "ax[0].grid()\n",
        "\n",
        "ax[1].plot(np.arange(QDI_accuracies.shape[0]), QDI_accuracies,\n",
        "           label='QDI')\n",
        "ax[1].plot(np.arange(EFQ_accuracies.shape[0]), EFQ_accuracies,\n",
        "           label='EFQ')\n",
        "ax[1].plot(np.arange(PQN_accuracies.shape[0]), PQN_accuracies,\n",
        "           label='PQN')\n",
        "ax[1].set_xticks(np.arange(0, PQN_accuracies.shape[0], 4))\n",
        "ax[1].set_xlabel('num_epoch')\n",
        "ax[1].set_ylabel('accuracy')\n",
        "ax[1].legend()\n",
        "ax[1].grid()\n",
        "plt.title('Comparison of performances of QDI, EFQ and PQN layers for noiseless case')\n",
        "plt.show()"
      ]
    },
    {
      "cell_type": "markdown",
      "metadata": {
        "id": "nlFljpXQpOVh"
      },
      "source": [
        "# Simulator with noise model specific to IBM Sherbrooke"
      ]
    },
    {
      "cell_type": "code",
      "source": [
        "from qiskit_aer import AerSimulator\n",
        "from qiskit_aer.noise import NoiseModel\n",
        "from qiskit_ibm_runtime import QiskitRuntimeService\n",
        "from qiskit_ibm_provider import IBMProvider\n",
        "\n",
        "# Load your IBMQ account\n",
        "IBMProvider.save_account(token='d4d5a9ed2d4b576b105b9476fd9d61b464bae4f7fc0d1e543e698e576f59f537ffbf3f97a26668e5840fd0b53ab5f84541e03529de75bf2297236b8b79873dff',\n",
        "                         overwrite=True)\n",
        "service = QiskitRuntimeService()\n",
        "backend = service.backend(\"ibm_sherbrooke\")\n",
        "noise_model = NoiseModel.from_backend(backend)\n"
      ],
      "metadata": {
        "colab": {
          "base_uri": "https://localhost:8080/"
        },
        "id": "GcJvTdmff7-1",
        "outputId": "e9595420-43d7-4419-9b87-654c3e7dddd4"
      },
      "execution_count": 25,
      "outputs": [
        {
          "output_type": "stream",
          "name": "stderr",
          "text": [
            "<ipython-input-25-07736bff2e06>:4: DeprecationWarning: The package qiskit_ibm_provider is being deprecated. Please see https://docs.quantum.ibm.com/api/migration-guides/qiskit-runtime to get instructions on how to migrate to qiskit-ibm-runtime (https://github.com/Qiskit/qiskit-ibm-runtime).\n",
            "  from qiskit_ibm_provider import IBMProvider\n"
          ]
        }
      ]
    },
    {
      "cell_type": "code",
      "source": [
        "dev = qml.device('qiskit.aer', wires=range(num_qubits), backend='aer_simulator_statevector',\n",
        "                 shots=1024, noise_model=noise_model,\n",
        "                 qiskit_backend_options={\"method\": \"statevector\", \"device\": \"GPU\"})"
      ],
      "metadata": {
        "id": "DdMqiBGvgMC5"
      },
      "execution_count": 26,
      "outputs": []
    },
    {
      "cell_type": "code",
      "execution_count": 27,
      "metadata": {
        "id": "eq3vaGiGqZtE"
      },
      "outputs": [],
      "source": [
        "# from qiskit_aer import noise\n",
        "# from qiskit_ibm_runtime import QiskitRuntimeService\n",
        "# from qiskit_ibm_provider import IBMProvider\n",
        "# from qiskit_aer.noise import (\n",
        "#     NoiseModel,\n",
        "#     QuantumError,\n",
        "#     ReadoutError,\n",
        "#     depolarizing_error,\n",
        "#     pauli_error,\n",
        "#     thermal_relaxation_error,\n",
        "# )\n",
        "\n",
        "# IBMProvider.save_account(token='d4d5a9ed2d4b576b105b9476fd9d61b464bae4f7fc0d1e543e698e576f59f537ffbf3f97a26668e5840fd0b53ab5f84541e03529de75bf2297236b8b79873dff',\n",
        "#                          overwrite=True)\n",
        "# service = QiskitRuntimeService()\n",
        "# backend = service.backend(\"ibm_sherbrooke\")\n",
        "# noise_model = NoiseModel.from_backend(backend)\n",
        "# dev = qml.device('qiskit.aer', wires=range(num_qubits), method=\"statevector\", noise_model=noise_model, device=\"GPU\")\n",
        "# # backend = AerSimulator.from_backend(backend)"
      ]
    },
    {
      "cell_type": "code",
      "source": [
        "@qml.qnode(dev, interface='torch')\n",
        "def qdi_circuit(weights, input_array, wires=range(num_qubits)):\n",
        "    for r in range(qdi_reps1):\n",
        "        for i in range(len(wires)):\n",
        "            qml.RX(weights[r][i], wires=wires[i])\n",
        "        for j in range(len(wires)-1):\n",
        "            qml.CNOT(wires=[wires[j], wires[j+1]])\n",
        "        qml.CNOT(wires=[wires[len(wires)-1], wires[0]])\n",
        "        qml.Barrier()\n",
        "    for d in range(qdi_depth):\n",
        "        qml.AngleEmbedding(input_array[d*num_qubits:(d+1)*num_qubits], wires=range(num_qubits), rotation='Z')\n",
        "        for r in range(qdi_reps2):\n",
        "            for i in range(len(wires)):\n",
        "                qml.RX(weights[qdi_reps1+d*r][i], wires=wires[i])\n",
        "            for j in range(len(wires)-1):\n",
        "                qml.CNOT(wires=[wires[j], wires[j+1]])\n",
        "            qml.CNOT(wires=[wires[len(wires)-1], wires[0]])\n",
        "            qml.Barrier()\n",
        "        qml.Barrier()\n",
        "    return [qml.expval(qml.PauliY(w)) for w in range(num_qubits)]\n",
        "\n",
        "@qml.qnode(dev, interface=\"torch\")\n",
        "def efq_circuit(weights, input_array, wires=range(num_qubits)):\n",
        "    qml.layer(efq_subroutine, efq_depth, params = weights, input_array = input_array, wires = wires)\n",
        "    return qml.expval(qml.PauliZ(0))\n"
      ],
      "metadata": {
        "id": "yKQScmHt-zXf"
      },
      "execution_count": 29,
      "outputs": []
    },
    {
      "cell_type": "code",
      "execution_count": 38,
      "metadata": {
        "id": "Q9uMdeQlvSQc"
      },
      "outputs": [],
      "source": [
        "class QDIHybridModel_nsy(nn.Module):\n",
        "    def __init__(self):\n",
        "        super(QDIHybridModel_nsy, self).__init__()\n",
        "        self.classical_layer = nn.Linear(num_qubits, 1)\n",
        "        self.q_params = nn.Parameter(torch.randn((qdi_reps1 + qdi_depth*qdi_reps2, num_qubits)))\n",
        "    def forward(self, x):\n",
        "        q_out = torch.zeros((x.size(0), 4), device=device)\n",
        "        for i in range(x.size(0)):\n",
        "            q_out[i] = torch.tensor(qdi_circuit(self.q_params, x[i])).to(device)\n",
        "        output = self.classical_layer(q_out)\n",
        "        return torch.sigmoid(output).squeeze(1)"
      ]
    },
    {
      "cell_type": "code",
      "execution_count": 39,
      "metadata": {
        "id": "9agjU9KRvSQr"
      },
      "outputs": [],
      "source": [
        "class EFQHybridModel_nsy(nn.Module):\n",
        "    def __init__(self):\n",
        "        super(EFQHybridModel_nsy, self).__init__()\n",
        "        self.classical_layer = nn.Linear(input_dim, num_qubits)\n",
        "        self.q_params = nn.Parameter(torch.randn((12*efq_depth*num_qubits, )))\n",
        "    def forward(self, x):\n",
        "        x = torch.relu(self.classical_layer(x))\n",
        "        q_out = torch.zeros(x.size(0), device=device)\n",
        "        for i in range(x.size(0)):\n",
        "            q_out[i] = efq_circuit(self.q_params, x[i])\n",
        "        return torch.sigmoid(q_out)"
      ]
    },
    {
      "cell_type": "code",
      "execution_count": 40,
      "metadata": {
        "id": "NEkTcuhyvSQs"
      },
      "outputs": [],
      "source": [
        "class PQNHybridModel_nsy(nn.Module):\n",
        "    def __init__(self):\n",
        "        super(PQNHybridModel_nsy, self).__init__()\n",
        "        self.classical_layer_1 = nn.Linear(input_dim, num_qubits)\n",
        "        self.classical_layer_2 = nn.Linear(num_qubits//2, 1)\n",
        "        self.q_params = nn.Parameter(torch.randn(pqn_c, 12*efq_depth*num_qubits))\n",
        "    def forward(self, x):\n",
        "        x = torch.relu(self.classical_layer_1(x))\n",
        "        q_out = torch.zeros((x.size(0), 2), device=device)\n",
        "        for i in range(x.size(0)):\n",
        "            q_out[i] = pqn_circuit(self.q_params, x[i])\n",
        "        output = self.classical_layer_2(q_out)\n",
        "        return torch.sigmoid(output).squeeze(1)"
      ]
    },
    {
      "cell_type": "code",
      "execution_count": 41,
      "metadata": {
        "id": "czfTNK8GvSQt"
      },
      "outputs": [],
      "source": [
        "criterion = nn.BCELoss()\n"
      ]
    },
    {
      "cell_type": "code",
      "execution_count": 42,
      "metadata": {
        "id": "7AFPW8k6vSQt"
      },
      "outputs": [],
      "source": [
        "QDI_model_nsy = QDIHybridModel_nsy().to(device)\n",
        "optimizer_for_nsy_qdi = optim.Adam(QDI_model_nsy.parameters(), lr=learning_rate)"
      ]
    },
    {
      "cell_type": "code",
      "execution_count": 43,
      "metadata": {
        "id": "mSl7G_zPvSQu"
      },
      "outputs": [],
      "source": [
        "EFQ_model_nsy = EFQHybridModel_nsy().to(device)\n",
        "optimizer_for_nsy_efq = optim.Adam(EFQ_model_nsy.parameters(), lr=learning_rate)"
      ]
    },
    {
      "cell_type": "code",
      "execution_count": 44,
      "metadata": {
        "id": "OTrF4MVQvSQv"
      },
      "outputs": [],
      "source": [
        "PQN_model_nsy = PQNHybridModel_nsy().to(device)\n",
        "optimizer_for_nsy_pqn = optim.Adam(PQN_model_nsy.parameters(), lr=learning_rate)"
      ]
    },
    {
      "cell_type": "code",
      "execution_count": 45,
      "metadata": {
        "id": "se6AVPehROwx",
        "colab": {
          "base_uri": "https://localhost:8080/",
          "height": 388,
          "referenced_widgets": [
            "1bd307a7baeb49b2b8b78f3c9aedef2f",
            "5974e0a685bb41a3ae8e5918c912244b",
            "33bd01e6f76e4c44993ff35e53ae9f36",
            "5639b36d1e5040f585d9e207d321eb17",
            "d756b90fcbff4da695d73ca9e9387f36",
            "b0d8d8a75bcb436c99a42c4e9e57525f",
            "dccf374c821541b19a0063c41cb2c9d3",
            "9ce1f60fe47542e682bdbaa1b059aed7",
            "274570d1b17c40369dc29be796d6635b",
            "7a80b9eb46a940c6932cf704ea323d06",
            "57cd02c39fd74c0183a760e3ed910a5d"
          ]
        },
        "outputId": "ce3b22b2-5538-449c-8178-f12847e0668b"
      },
      "outputs": [
        {
          "output_type": "display_data",
          "data": {
            "text/plain": [
              "  0%|          | 0/100 [00:00<?, ?it/s]"
            ],
            "application/vnd.jupyter.widget-view+json": {
              "version_major": 2,
              "version_minor": 0,
              "model_id": "1bd307a7baeb49b2b8b78f3c9aedef2f"
            }
          },
          "metadata": {}
        },
        {
          "output_type": "error",
          "ename": "KeyboardInterrupt",
          "evalue": "",
          "traceback": [
            "\u001b[0;31m---------------------------------------------------------------------------\u001b[0m",
            "\u001b[0;31mKeyboardInterrupt\u001b[0m                         Traceback (most recent call last)",
            "\u001b[0;32m<ipython-input-45-693bf5fdbf5d>\u001b[0m in \u001b[0;36m<cell line: 2>\u001b[0;34m()\u001b[0m\n\u001b[1;32m      1\u001b[0m \u001b[0mQDI_losses_nsy\u001b[0m\u001b[0;34m,\u001b[0m\u001b[0;31m \u001b[0m\u001b[0;31m\\\u001b[0m\u001b[0;34m\u001b[0m\u001b[0;34m\u001b[0m\u001b[0m\n\u001b[0;32m----> 2\u001b[0;31m     QDI_accuracies_nsy = train(QDI_model_nsy, criterion=criterion,\n\u001b[0m\u001b[1;32m      3\u001b[0m                               \u001b[0moptimizer\u001b[0m\u001b[0;34m=\u001b[0m\u001b[0moptimizer_for_nsy_qdi\u001b[0m\u001b[0;34m,\u001b[0m\u001b[0;34m\u001b[0m\u001b[0;34m\u001b[0m\u001b[0m\n\u001b[1;32m      4\u001b[0m                               \u001b[0mtrain_dataloader\u001b[0m\u001b[0;34m=\u001b[0m\u001b[0mtrain_dataloader\u001b[0m\u001b[0;34m,\u001b[0m\u001b[0;34m\u001b[0m\u001b[0;34m\u001b[0m\u001b[0m\n\u001b[1;32m      5\u001b[0m                               \u001b[0mtest_dataloader\u001b[0m\u001b[0;34m=\u001b[0m\u001b[0mtest_dataloader\u001b[0m\u001b[0;34m,\u001b[0m\u001b[0;34m\u001b[0m\u001b[0;34m\u001b[0m\u001b[0m\n",
            "\u001b[0;32m<ipython-input-16-0a1ebc7c19a2>\u001b[0m in \u001b[0;36mtrain\u001b[0;34m(model, criterion, optimizer, train_dataloader, test_dataloader, num_epochs)\u001b[0m\n\u001b[1;32m     15\u001b[0m             \u001b[0my\u001b[0m \u001b[0;34m=\u001b[0m \u001b[0mbatch\u001b[0m\u001b[0;34m[\u001b[0m\u001b[0;36m1\u001b[0m\u001b[0;34m]\u001b[0m\u001b[0;34m.\u001b[0m\u001b[0mto\u001b[0m\u001b[0;34m(\u001b[0m\u001b[0mdevice\u001b[0m\u001b[0;34m)\u001b[0m\u001b[0;34m\u001b[0m\u001b[0;34m\u001b[0m\u001b[0m\n\u001b[1;32m     16\u001b[0m \u001b[0;34m\u001b[0m\u001b[0m\n\u001b[0;32m---> 17\u001b[0;31m             \u001b[0mpreds\u001b[0m \u001b[0;34m=\u001b[0m \u001b[0mmodel\u001b[0m\u001b[0;34m(\u001b[0m\u001b[0mX\u001b[0m\u001b[0;34m)\u001b[0m\u001b[0;34m\u001b[0m\u001b[0;34m\u001b[0m\u001b[0m\n\u001b[0m\u001b[1;32m     18\u001b[0m \u001b[0;34m\u001b[0m\u001b[0m\n\u001b[1;32m     19\u001b[0m             \u001b[0moptimizer\u001b[0m\u001b[0;34m.\u001b[0m\u001b[0mzero_grad\u001b[0m\u001b[0;34m(\u001b[0m\u001b[0;34m)\u001b[0m\u001b[0;34m\u001b[0m\u001b[0;34m\u001b[0m\u001b[0m\n",
            "\u001b[0;32m/usr/local/lib/python3.10/dist-packages/torch/nn/modules/module.py\u001b[0m in \u001b[0;36m_wrapped_call_impl\u001b[0;34m(self, *args, **kwargs)\u001b[0m\n\u001b[1;32m   1551\u001b[0m             \u001b[0;32mreturn\u001b[0m \u001b[0mself\u001b[0m\u001b[0;34m.\u001b[0m\u001b[0m_compiled_call_impl\u001b[0m\u001b[0;34m(\u001b[0m\u001b[0;34m*\u001b[0m\u001b[0margs\u001b[0m\u001b[0;34m,\u001b[0m \u001b[0;34m**\u001b[0m\u001b[0mkwargs\u001b[0m\u001b[0;34m)\u001b[0m  \u001b[0;31m# type: ignore[misc]\u001b[0m\u001b[0;34m\u001b[0m\u001b[0;34m\u001b[0m\u001b[0m\n\u001b[1;32m   1552\u001b[0m         \u001b[0;32melse\u001b[0m\u001b[0;34m:\u001b[0m\u001b[0;34m\u001b[0m\u001b[0;34m\u001b[0m\u001b[0m\n\u001b[0;32m-> 1553\u001b[0;31m             \u001b[0;32mreturn\u001b[0m \u001b[0mself\u001b[0m\u001b[0;34m.\u001b[0m\u001b[0m_call_impl\u001b[0m\u001b[0;34m(\u001b[0m\u001b[0;34m*\u001b[0m\u001b[0margs\u001b[0m\u001b[0;34m,\u001b[0m \u001b[0;34m**\u001b[0m\u001b[0mkwargs\u001b[0m\u001b[0;34m)\u001b[0m\u001b[0;34m\u001b[0m\u001b[0;34m\u001b[0m\u001b[0m\n\u001b[0m\u001b[1;32m   1554\u001b[0m \u001b[0;34m\u001b[0m\u001b[0m\n\u001b[1;32m   1555\u001b[0m     \u001b[0;32mdef\u001b[0m \u001b[0m_call_impl\u001b[0m\u001b[0;34m(\u001b[0m\u001b[0mself\u001b[0m\u001b[0;34m,\u001b[0m \u001b[0;34m*\u001b[0m\u001b[0margs\u001b[0m\u001b[0;34m,\u001b[0m \u001b[0;34m**\u001b[0m\u001b[0mkwargs\u001b[0m\u001b[0;34m)\u001b[0m\u001b[0;34m:\u001b[0m\u001b[0;34m\u001b[0m\u001b[0;34m\u001b[0m\u001b[0m\n",
            "\u001b[0;32m/usr/local/lib/python3.10/dist-packages/torch/nn/modules/module.py\u001b[0m in \u001b[0;36m_call_impl\u001b[0;34m(self, *args, **kwargs)\u001b[0m\n\u001b[1;32m   1560\u001b[0m                 \u001b[0;32mor\u001b[0m \u001b[0m_global_backward_pre_hooks\u001b[0m \u001b[0;32mor\u001b[0m \u001b[0m_global_backward_hooks\u001b[0m\u001b[0;34m\u001b[0m\u001b[0;34m\u001b[0m\u001b[0m\n\u001b[1;32m   1561\u001b[0m                 or _global_forward_hooks or _global_forward_pre_hooks):\n\u001b[0;32m-> 1562\u001b[0;31m             \u001b[0;32mreturn\u001b[0m \u001b[0mforward_call\u001b[0m\u001b[0;34m(\u001b[0m\u001b[0;34m*\u001b[0m\u001b[0margs\u001b[0m\u001b[0;34m,\u001b[0m \u001b[0;34m**\u001b[0m\u001b[0mkwargs\u001b[0m\u001b[0;34m)\u001b[0m\u001b[0;34m\u001b[0m\u001b[0;34m\u001b[0m\u001b[0m\n\u001b[0m\u001b[1;32m   1563\u001b[0m \u001b[0;34m\u001b[0m\u001b[0m\n\u001b[1;32m   1564\u001b[0m         \u001b[0;32mtry\u001b[0m\u001b[0;34m:\u001b[0m\u001b[0;34m\u001b[0m\u001b[0;34m\u001b[0m\u001b[0m\n",
            "\u001b[0;32m<ipython-input-38-2615f4a49899>\u001b[0m in \u001b[0;36mforward\u001b[0;34m(self, x)\u001b[0m\n\u001b[1;32m      7\u001b[0m         \u001b[0mq_out\u001b[0m \u001b[0;34m=\u001b[0m \u001b[0mtorch\u001b[0m\u001b[0;34m.\u001b[0m\u001b[0mzeros\u001b[0m\u001b[0;34m(\u001b[0m\u001b[0;34m(\u001b[0m\u001b[0mx\u001b[0m\u001b[0;34m.\u001b[0m\u001b[0msize\u001b[0m\u001b[0;34m(\u001b[0m\u001b[0;36m0\u001b[0m\u001b[0;34m)\u001b[0m\u001b[0;34m,\u001b[0m \u001b[0;36m4\u001b[0m\u001b[0;34m)\u001b[0m\u001b[0;34m,\u001b[0m \u001b[0mdevice\u001b[0m\u001b[0;34m=\u001b[0m\u001b[0mdevice\u001b[0m\u001b[0;34m)\u001b[0m\u001b[0;34m\u001b[0m\u001b[0;34m\u001b[0m\u001b[0m\n\u001b[1;32m      8\u001b[0m         \u001b[0;32mfor\u001b[0m \u001b[0mi\u001b[0m \u001b[0;32min\u001b[0m \u001b[0mrange\u001b[0m\u001b[0;34m(\u001b[0m\u001b[0mx\u001b[0m\u001b[0;34m.\u001b[0m\u001b[0msize\u001b[0m\u001b[0;34m(\u001b[0m\u001b[0;36m0\u001b[0m\u001b[0;34m)\u001b[0m\u001b[0;34m)\u001b[0m\u001b[0;34m:\u001b[0m\u001b[0;34m\u001b[0m\u001b[0;34m\u001b[0m\u001b[0m\n\u001b[0;32m----> 9\u001b[0;31m             \u001b[0mq_out\u001b[0m\u001b[0;34m[\u001b[0m\u001b[0mi\u001b[0m\u001b[0;34m]\u001b[0m \u001b[0;34m=\u001b[0m \u001b[0mtorch\u001b[0m\u001b[0;34m.\u001b[0m\u001b[0mtensor\u001b[0m\u001b[0;34m(\u001b[0m\u001b[0mqdi_circuit\u001b[0m\u001b[0;34m(\u001b[0m\u001b[0mself\u001b[0m\u001b[0;34m.\u001b[0m\u001b[0mq_params\u001b[0m\u001b[0;34m,\u001b[0m \u001b[0mx\u001b[0m\u001b[0;34m[\u001b[0m\u001b[0mi\u001b[0m\u001b[0;34m]\u001b[0m\u001b[0;34m)\u001b[0m\u001b[0;34m)\u001b[0m\u001b[0;34m.\u001b[0m\u001b[0mto\u001b[0m\u001b[0;34m(\u001b[0m\u001b[0mdevice\u001b[0m\u001b[0;34m)\u001b[0m\u001b[0;34m\u001b[0m\u001b[0;34m\u001b[0m\u001b[0m\n\u001b[0m\u001b[1;32m     10\u001b[0m         \u001b[0moutput\u001b[0m \u001b[0;34m=\u001b[0m \u001b[0mself\u001b[0m\u001b[0;34m.\u001b[0m\u001b[0mclassical_layer\u001b[0m\u001b[0;34m(\u001b[0m\u001b[0mq_out\u001b[0m\u001b[0;34m)\u001b[0m\u001b[0;34m\u001b[0m\u001b[0;34m\u001b[0m\u001b[0m\n\u001b[1;32m     11\u001b[0m         \u001b[0;32mreturn\u001b[0m \u001b[0mtorch\u001b[0m\u001b[0;34m.\u001b[0m\u001b[0msigmoid\u001b[0m\u001b[0;34m(\u001b[0m\u001b[0moutput\u001b[0m\u001b[0;34m)\u001b[0m\u001b[0;34m.\u001b[0m\u001b[0msqueeze\u001b[0m\u001b[0;34m(\u001b[0m\u001b[0;36m1\u001b[0m\u001b[0;34m)\u001b[0m\u001b[0;34m\u001b[0m\u001b[0;34m\u001b[0m\u001b[0m\n",
            "\u001b[0;32m/usr/local/lib/python3.10/dist-packages/pennylane/workflow/qnode.py\u001b[0m in \u001b[0;36m__call__\u001b[0;34m(self, *args, **kwargs)\u001b[0m\n\u001b[1;32m   1162\u001b[0m         \u001b[0;32mif\u001b[0m \u001b[0mqml\u001b[0m\u001b[0;34m.\u001b[0m\u001b[0mcapture\u001b[0m\u001b[0;34m.\u001b[0m\u001b[0menabled\u001b[0m\u001b[0;34m(\u001b[0m\u001b[0;34m)\u001b[0m\u001b[0;34m:\u001b[0m\u001b[0;34m\u001b[0m\u001b[0;34m\u001b[0m\u001b[0m\n\u001b[1;32m   1163\u001b[0m             \u001b[0;32mreturn\u001b[0m \u001b[0mqml\u001b[0m\u001b[0;34m.\u001b[0m\u001b[0mcapture\u001b[0m\u001b[0;34m.\u001b[0m\u001b[0mqnode_call\u001b[0m\u001b[0;34m(\u001b[0m\u001b[0mself\u001b[0m\u001b[0;34m,\u001b[0m \u001b[0;34m*\u001b[0m\u001b[0margs\u001b[0m\u001b[0;34m,\u001b[0m \u001b[0;34m**\u001b[0m\u001b[0mkwargs\u001b[0m\u001b[0;34m)\u001b[0m\u001b[0;34m\u001b[0m\u001b[0;34m\u001b[0m\u001b[0m\n\u001b[0;32m-> 1164\u001b[0;31m         \u001b[0;32mreturn\u001b[0m \u001b[0mself\u001b[0m\u001b[0;34m.\u001b[0m\u001b[0m_impl_call\u001b[0m\u001b[0;34m(\u001b[0m\u001b[0;34m*\u001b[0m\u001b[0margs\u001b[0m\u001b[0;34m,\u001b[0m \u001b[0;34m**\u001b[0m\u001b[0mkwargs\u001b[0m\u001b[0;34m)\u001b[0m\u001b[0;34m\u001b[0m\u001b[0;34m\u001b[0m\u001b[0m\n\u001b[0m\u001b[1;32m   1165\u001b[0m \u001b[0;34m\u001b[0m\u001b[0m\n\u001b[1;32m   1166\u001b[0m \u001b[0;34m\u001b[0m\u001b[0m\n",
            "\u001b[0;32m/usr/local/lib/python3.10/dist-packages/pennylane/workflow/qnode.py\u001b[0m in \u001b[0;36m_impl_call\u001b[0;34m(self, *args, **kwargs)\u001b[0m\n\u001b[1;32m   1148\u001b[0m \u001b[0;34m\u001b[0m\u001b[0m\n\u001b[1;32m   1149\u001b[0m         \u001b[0;32mtry\u001b[0m\u001b[0;34m:\u001b[0m\u001b[0;34m\u001b[0m\u001b[0;34m\u001b[0m\u001b[0m\n\u001b[0;32m-> 1150\u001b[0;31m             \u001b[0mres\u001b[0m \u001b[0;34m=\u001b[0m \u001b[0mself\u001b[0m\u001b[0;34m.\u001b[0m\u001b[0m_execution_component\u001b[0m\u001b[0;34m(\u001b[0m\u001b[0margs\u001b[0m\u001b[0;34m,\u001b[0m \u001b[0mkwargs\u001b[0m\u001b[0;34m,\u001b[0m \u001b[0moverride_shots\u001b[0m\u001b[0;34m=\u001b[0m\u001b[0moverride_shots\u001b[0m\u001b[0;34m)\u001b[0m\u001b[0;34m\u001b[0m\u001b[0;34m\u001b[0m\u001b[0m\n\u001b[0m\u001b[1;32m   1151\u001b[0m         \u001b[0;32mfinally\u001b[0m\u001b[0;34m:\u001b[0m\u001b[0;34m\u001b[0m\u001b[0;34m\u001b[0m\u001b[0m\n\u001b[1;32m   1152\u001b[0m             \u001b[0;32mif\u001b[0m \u001b[0mold_interface\u001b[0m \u001b[0;34m==\u001b[0m \u001b[0;34m\"auto\"\u001b[0m\u001b[0;34m:\u001b[0m\u001b[0;34m\u001b[0m\u001b[0;34m\u001b[0m\u001b[0m\n",
            "\u001b[0;32m/usr/local/lib/python3.10/dist-packages/pennylane/workflow/qnode.py\u001b[0m in \u001b[0;36m_execution_component\u001b[0;34m(self, args, kwargs, override_shots)\u001b[0m\n\u001b[1;32m   1101\u001b[0m \u001b[0;34m\u001b[0m\u001b[0m\n\u001b[1;32m   1102\u001b[0m         \u001b[0;31m# pylint: disable=unexpected-keyword-arg\u001b[0m\u001b[0;34m\u001b[0m\u001b[0;34m\u001b[0m\u001b[0m\n\u001b[0;32m-> 1103\u001b[0;31m         res = qml.execute(\n\u001b[0m\u001b[1;32m   1104\u001b[0m             \u001b[0;34m(\u001b[0m\u001b[0mself\u001b[0m\u001b[0;34m.\u001b[0m\u001b[0m_tape\u001b[0m\u001b[0;34m,\u001b[0m\u001b[0;34m)\u001b[0m\u001b[0;34m,\u001b[0m\u001b[0;34m\u001b[0m\u001b[0;34m\u001b[0m\u001b[0m\n\u001b[1;32m   1105\u001b[0m             \u001b[0mdevice\u001b[0m\u001b[0;34m=\u001b[0m\u001b[0mself\u001b[0m\u001b[0;34m.\u001b[0m\u001b[0mdevice\u001b[0m\u001b[0;34m,\u001b[0m\u001b[0;34m\u001b[0m\u001b[0;34m\u001b[0m\u001b[0m\n",
            "\u001b[0;32m/usr/local/lib/python3.10/dist-packages/pennylane/workflow/execution.py\u001b[0m in \u001b[0;36mexecute\u001b[0;34m(tapes, device, gradient_fn, interface, transform_program, inner_transform, config, grad_on_execution, gradient_kwargs, cache, cachesize, max_diff, override_shots, expand_fn, max_expansion, device_batch_transform, device_vjp, mcm_config)\u001b[0m\n\u001b[1;32m    833\u001b[0m \u001b[0;34m\u001b[0m\u001b[0m\n\u001b[1;32m    834\u001b[0m     \u001b[0;32mif\u001b[0m \u001b[0minterface\u001b[0m \u001b[0;32min\u001b[0m \u001b[0mjpc_interfaces\u001b[0m\u001b[0;34m:\u001b[0m\u001b[0;34m\u001b[0m\u001b[0;34m\u001b[0m\u001b[0m\n\u001b[0;32m--> 835\u001b[0;31m         \u001b[0mresults\u001b[0m \u001b[0;34m=\u001b[0m \u001b[0mml_boundary_execute\u001b[0m\u001b[0;34m(\u001b[0m\u001b[0mtapes\u001b[0m\u001b[0;34m,\u001b[0m \u001b[0mexecute_fn\u001b[0m\u001b[0;34m,\u001b[0m \u001b[0mjpc\u001b[0m\u001b[0;34m,\u001b[0m \u001b[0mdevice\u001b[0m\u001b[0;34m=\u001b[0m\u001b[0mdevice\u001b[0m\u001b[0;34m)\u001b[0m\u001b[0;34m\u001b[0m\u001b[0;34m\u001b[0m\u001b[0m\n\u001b[0m\u001b[1;32m    836\u001b[0m     \u001b[0;32melse\u001b[0m\u001b[0;34m:\u001b[0m\u001b[0;34m\u001b[0m\u001b[0;34m\u001b[0m\u001b[0m\n\u001b[1;32m    837\u001b[0m         results = ml_boundary_execute(\n",
            "\u001b[0;32m/usr/local/lib/python3.10/dist-packages/pennylane/workflow/interfaces/torch.py\u001b[0m in \u001b[0;36mexecute\u001b[0;34m(tapes, execute_fn, jpc, device)\u001b[0m\n\u001b[1;32m    234\u001b[0m     }\n\u001b[1;32m    235\u001b[0m \u001b[0;34m\u001b[0m\u001b[0m\n\u001b[0;32m--> 236\u001b[0;31m     \u001b[0;32mreturn\u001b[0m \u001b[0mExecuteTapes\u001b[0m\u001b[0;34m.\u001b[0m\u001b[0mapply\u001b[0m\u001b[0;34m(\u001b[0m\u001b[0mkwargs\u001b[0m\u001b[0;34m,\u001b[0m \u001b[0;34m*\u001b[0m\u001b[0mparameters\u001b[0m\u001b[0;34m)\u001b[0m\u001b[0;34m\u001b[0m\u001b[0;34m\u001b[0m\u001b[0m\n\u001b[0m\u001b[1;32m    237\u001b[0m \u001b[0;34m\u001b[0m\u001b[0m\n\u001b[1;32m    238\u001b[0m \u001b[0;34m\u001b[0m\u001b[0m\n",
            "\u001b[0;32m/usr/local/lib/python3.10/dist-packages/pennylane/workflow/interfaces/torch.py\u001b[0m in \u001b[0;36mnew_apply\u001b[0;34m(*inp)\u001b[0m\n\u001b[1;32m     87\u001b[0m         \u001b[0;31m# Inputs already flat\u001b[0m\u001b[0;34m\u001b[0m\u001b[0;34m\u001b[0m\u001b[0m\n\u001b[1;32m     88\u001b[0m         \u001b[0mout_struct_holder\u001b[0m \u001b[0;34m=\u001b[0m \u001b[0;34m[\u001b[0m\u001b[0;34m]\u001b[0m\u001b[0;34m\u001b[0m\u001b[0;34m\u001b[0m\u001b[0m\n\u001b[0;32m---> 89\u001b[0;31m         \u001b[0mflat_out\u001b[0m \u001b[0;34m=\u001b[0m \u001b[0morig_apply\u001b[0m\u001b[0;34m(\u001b[0m\u001b[0mout_struct_holder\u001b[0m\u001b[0;34m,\u001b[0m \u001b[0;34m*\u001b[0m\u001b[0minp\u001b[0m\u001b[0;34m)\u001b[0m\u001b[0;34m\u001b[0m\u001b[0;34m\u001b[0m\u001b[0m\n\u001b[0m\u001b[1;32m     90\u001b[0m         \u001b[0;32mreturn\u001b[0m \u001b[0mpytree\u001b[0m\u001b[0;34m.\u001b[0m\u001b[0mtree_unflatten\u001b[0m\u001b[0;34m(\u001b[0m\u001b[0mflat_out\u001b[0m\u001b[0;34m,\u001b[0m \u001b[0mout_struct_holder\u001b[0m\u001b[0;34m[\u001b[0m\u001b[0;36m0\u001b[0m\u001b[0;34m]\u001b[0m\u001b[0;34m)\u001b[0m\u001b[0;34m\u001b[0m\u001b[0;34m\u001b[0m\u001b[0m\n\u001b[1;32m     91\u001b[0m \u001b[0;34m\u001b[0m\u001b[0m\n",
            "\u001b[0;32m/usr/local/lib/python3.10/dist-packages/torch/autograd/function.py\u001b[0m in \u001b[0;36mapply\u001b[0;34m(cls, *args, **kwargs)\u001b[0m\n\u001b[1;32m    572\u001b[0m             \u001b[0;31m# See NOTE: [functorch vjp and autograd interaction]\u001b[0m\u001b[0;34m\u001b[0m\u001b[0;34m\u001b[0m\u001b[0m\n\u001b[1;32m    573\u001b[0m             \u001b[0margs\u001b[0m \u001b[0;34m=\u001b[0m \u001b[0m_functorch\u001b[0m\u001b[0;34m.\u001b[0m\u001b[0mutils\u001b[0m\u001b[0;34m.\u001b[0m\u001b[0munwrap_dead_wrappers\u001b[0m\u001b[0;34m(\u001b[0m\u001b[0margs\u001b[0m\u001b[0;34m)\u001b[0m\u001b[0;34m\u001b[0m\u001b[0;34m\u001b[0m\u001b[0m\n\u001b[0;32m--> 574\u001b[0;31m             \u001b[0;32mreturn\u001b[0m \u001b[0msuper\u001b[0m\u001b[0;34m(\u001b[0m\u001b[0;34m)\u001b[0m\u001b[0;34m.\u001b[0m\u001b[0mapply\u001b[0m\u001b[0;34m(\u001b[0m\u001b[0;34m*\u001b[0m\u001b[0margs\u001b[0m\u001b[0;34m,\u001b[0m \u001b[0;34m**\u001b[0m\u001b[0mkwargs\u001b[0m\u001b[0;34m)\u001b[0m  \u001b[0;31m# type: ignore[misc]\u001b[0m\u001b[0;34m\u001b[0m\u001b[0;34m\u001b[0m\u001b[0m\n\u001b[0m\u001b[1;32m    575\u001b[0m \u001b[0;34m\u001b[0m\u001b[0m\n\u001b[1;32m    576\u001b[0m         \u001b[0;32mif\u001b[0m \u001b[0;32mnot\u001b[0m \u001b[0mis_setup_ctx_defined\u001b[0m\u001b[0;34m:\u001b[0m\u001b[0;34m\u001b[0m\u001b[0;34m\u001b[0m\u001b[0m\n",
            "\u001b[0;32m/usr/local/lib/python3.10/dist-packages/pennylane/workflow/interfaces/torch.py\u001b[0m in \u001b[0;36mnew_forward\u001b[0;34m(ctx, out_struct_holder, *inp)\u001b[0m\n\u001b[1;32m     91\u001b[0m \u001b[0;34m\u001b[0m\u001b[0m\n\u001b[1;32m     92\u001b[0m     \u001b[0;32mdef\u001b[0m \u001b[0mnew_forward\u001b[0m\u001b[0;34m(\u001b[0m\u001b[0mctx\u001b[0m\u001b[0;34m,\u001b[0m \u001b[0mout_struct_holder\u001b[0m\u001b[0;34m,\u001b[0m \u001b[0;34m*\u001b[0m\u001b[0minp\u001b[0m\u001b[0;34m)\u001b[0m\u001b[0;34m:\u001b[0m\u001b[0;34m\u001b[0m\u001b[0;34m\u001b[0m\u001b[0m\n\u001b[0;32m---> 93\u001b[0;31m         \u001b[0mout\u001b[0m \u001b[0;34m=\u001b[0m \u001b[0morig_fw\u001b[0m\u001b[0;34m(\u001b[0m\u001b[0mctx\u001b[0m\u001b[0;34m,\u001b[0m \u001b[0;34m*\u001b[0m\u001b[0minp\u001b[0m\u001b[0;34m)\u001b[0m\u001b[0;34m\u001b[0m\u001b[0;34m\u001b[0m\u001b[0m\n\u001b[0m\u001b[1;32m     94\u001b[0m         \u001b[0mflat_out\u001b[0m\u001b[0;34m,\u001b[0m \u001b[0mout_struct\u001b[0m \u001b[0;34m=\u001b[0m \u001b[0mpytree\u001b[0m\u001b[0;34m.\u001b[0m\u001b[0mtree_flatten\u001b[0m\u001b[0;34m(\u001b[0m\u001b[0mout\u001b[0m\u001b[0;34m)\u001b[0m\u001b[0;34m\u001b[0m\u001b[0;34m\u001b[0m\u001b[0m\n\u001b[1;32m     95\u001b[0m         \u001b[0mctx\u001b[0m\u001b[0;34m.\u001b[0m\u001b[0m_out_struct\u001b[0m \u001b[0;34m=\u001b[0m \u001b[0mout_struct\u001b[0m\u001b[0;34m\u001b[0m\u001b[0;34m\u001b[0m\u001b[0m\n",
            "\u001b[0;32m/usr/local/lib/python3.10/dist-packages/pennylane/workflow/interfaces/torch.py\u001b[0m in \u001b[0;36mforward\u001b[0;34m(ctx, kwargs, *parameters)\u001b[0m\n\u001b[1;32m    156\u001b[0m         \u001b[0mctx\u001b[0m\u001b[0;34m.\u001b[0m\u001b[0mjpc\u001b[0m \u001b[0;34m=\u001b[0m \u001b[0mkwargs\u001b[0m\u001b[0;34m[\u001b[0m\u001b[0;34m\"jpc\"\u001b[0m\u001b[0;34m]\u001b[0m\u001b[0;34m\u001b[0m\u001b[0;34m\u001b[0m\u001b[0m\n\u001b[1;32m    157\u001b[0m \u001b[0;34m\u001b[0m\u001b[0m\n\u001b[0;32m--> 158\u001b[0;31m         \u001b[0mres\u001b[0m \u001b[0;34m=\u001b[0m \u001b[0mtuple\u001b[0m\u001b[0;34m(\u001b[0m\u001b[0mkwargs\u001b[0m\u001b[0;34m[\u001b[0m\u001b[0;34m\"execute_fn\"\u001b[0m\u001b[0;34m]\u001b[0m\u001b[0;34m(\u001b[0m\u001b[0mctx\u001b[0m\u001b[0;34m.\u001b[0m\u001b[0mtapes\u001b[0m\u001b[0;34m)\u001b[0m\u001b[0;34m)\u001b[0m\u001b[0;34m\u001b[0m\u001b[0;34m\u001b[0m\u001b[0m\n\u001b[0m\u001b[1;32m    159\u001b[0m \u001b[0;34m\u001b[0m\u001b[0m\n\u001b[1;32m    160\u001b[0m         \u001b[0;31m# if any input tensor uses the GPU, the output should as well\u001b[0m\u001b[0;34m\u001b[0m\u001b[0;34m\u001b[0m\u001b[0m\n",
            "\u001b[0;32m/usr/local/lib/python3.10/dist-packages/pennylane/workflow/execution.py\u001b[0m in \u001b[0;36minner_execute\u001b[0;34m(tapes, **_)\u001b[0m\n\u001b[1;32m    314\u001b[0m \u001b[0;34m\u001b[0m\u001b[0m\n\u001b[1;32m    315\u001b[0m         \u001b[0;32mif\u001b[0m \u001b[0mtransformed_tapes\u001b[0m\u001b[0;34m:\u001b[0m\u001b[0;34m\u001b[0m\u001b[0;34m\u001b[0m\u001b[0m\n\u001b[0;32m--> 316\u001b[0;31m             \u001b[0mresults\u001b[0m \u001b[0;34m=\u001b[0m \u001b[0mdevice_execution\u001b[0m\u001b[0;34m(\u001b[0m\u001b[0mtransformed_tapes\u001b[0m\u001b[0;34m)\u001b[0m\u001b[0;34m\u001b[0m\u001b[0;34m\u001b[0m\u001b[0m\n\u001b[0m\u001b[1;32m    317\u001b[0m         \u001b[0;32melse\u001b[0m\u001b[0;34m:\u001b[0m\u001b[0;34m\u001b[0m\u001b[0;34m\u001b[0m\u001b[0m\n\u001b[1;32m    318\u001b[0m             \u001b[0mresults\u001b[0m \u001b[0;34m=\u001b[0m \u001b[0;34m(\u001b[0m\u001b[0;34m)\u001b[0m\u001b[0;34m\u001b[0m\u001b[0;34m\u001b[0m\u001b[0m\n",
            "\u001b[0;32m/usr/lib/python3.10/contextlib.py\u001b[0m in \u001b[0;36minner\u001b[0;34m(*args, **kwds)\u001b[0m\n\u001b[1;32m     77\u001b[0m         \u001b[0;32mdef\u001b[0m \u001b[0minner\u001b[0m\u001b[0;34m(\u001b[0m\u001b[0;34m*\u001b[0m\u001b[0margs\u001b[0m\u001b[0;34m,\u001b[0m \u001b[0;34m**\u001b[0m\u001b[0mkwds\u001b[0m\u001b[0;34m)\u001b[0m\u001b[0;34m:\u001b[0m\u001b[0;34m\u001b[0m\u001b[0;34m\u001b[0m\u001b[0m\n\u001b[1;32m     78\u001b[0m             \u001b[0;32mwith\u001b[0m \u001b[0mself\u001b[0m\u001b[0;34m.\u001b[0m\u001b[0m_recreate_cm\u001b[0m\u001b[0;34m(\u001b[0m\u001b[0;34m)\u001b[0m\u001b[0;34m:\u001b[0m\u001b[0;34m\u001b[0m\u001b[0;34m\u001b[0m\u001b[0m\n\u001b[0;32m---> 79\u001b[0;31m                 \u001b[0;32mreturn\u001b[0m \u001b[0mfunc\u001b[0m\u001b[0;34m(\u001b[0m\u001b[0;34m*\u001b[0m\u001b[0margs\u001b[0m\u001b[0;34m,\u001b[0m \u001b[0;34m**\u001b[0m\u001b[0mkwds\u001b[0m\u001b[0;34m)\u001b[0m\u001b[0;34m\u001b[0m\u001b[0;34m\u001b[0m\u001b[0m\n\u001b[0m\u001b[1;32m     80\u001b[0m         \u001b[0;32mreturn\u001b[0m \u001b[0minner\u001b[0m\u001b[0;34m\u001b[0m\u001b[0;34m\u001b[0m\u001b[0m\n\u001b[1;32m     81\u001b[0m \u001b[0;34m\u001b[0m\u001b[0m\n",
            "\u001b[0;32m/usr/local/lib/python3.10/dist-packages/pennylane_qiskit/qiskit_device.py\u001b[0m in \u001b[0;36mbatch_execute\u001b[0;34m(self, circuits, timeout)\u001b[0m\n\u001b[1;32m    499\u001b[0m \u001b[0;34m\u001b[0m\u001b[0m\n\u001b[1;32m    500\u001b[0m         \u001b[0;32mtry\u001b[0m\u001b[0;34m:\u001b[0m\u001b[0;34m\u001b[0m\u001b[0;34m\u001b[0m\u001b[0m\n\u001b[0;32m--> 501\u001b[0;31m             \u001b[0mresult\u001b[0m \u001b[0;34m=\u001b[0m \u001b[0mself\u001b[0m\u001b[0;34m.\u001b[0m\u001b[0m_current_job\u001b[0m\u001b[0;34m.\u001b[0m\u001b[0mresult\u001b[0m\u001b[0;34m(\u001b[0m\u001b[0mtimeout\u001b[0m\u001b[0;34m=\u001b[0m\u001b[0mtimeout\u001b[0m\u001b[0;34m)\u001b[0m\u001b[0;34m\u001b[0m\u001b[0;34m\u001b[0m\u001b[0m\n\u001b[0m\u001b[1;32m    502\u001b[0m         \u001b[0;32mexcept\u001b[0m \u001b[0mTypeError\u001b[0m\u001b[0;34m:\u001b[0m  \u001b[0;31m# pragma: no cover\u001b[0m\u001b[0;34m\u001b[0m\u001b[0;34m\u001b[0m\u001b[0m\n\u001b[1;32m    503\u001b[0m             \u001b[0;31m# timeout not supported\u001b[0m\u001b[0;34m\u001b[0m\u001b[0;34m\u001b[0m\u001b[0m\n",
            "\u001b[0;32m/usr/local/lib/python3.10/dist-packages/qiskit_aer/jobs/utils.py\u001b[0m in \u001b[0;36m_wrapper\u001b[0;34m(self, *args, **kwargs)\u001b[0m\n\u001b[1;32m     36\u001b[0m         \u001b[0;32mif\u001b[0m \u001b[0mself\u001b[0m\u001b[0;34m.\u001b[0m\u001b[0m_future\u001b[0m \u001b[0;32mis\u001b[0m \u001b[0;32mNone\u001b[0m\u001b[0;34m:\u001b[0m\u001b[0;34m\u001b[0m\u001b[0;34m\u001b[0m\u001b[0m\n\u001b[1;32m     37\u001b[0m             \u001b[0;32mraise\u001b[0m \u001b[0mJobError\u001b[0m\u001b[0;34m(\u001b[0m\u001b[0;34m\"Job not submitted yet!. You have to .submit() first!\"\u001b[0m\u001b[0;34m)\u001b[0m\u001b[0;34m\u001b[0m\u001b[0;34m\u001b[0m\u001b[0m\n\u001b[0;32m---> 38\u001b[0;31m         \u001b[0;32mreturn\u001b[0m \u001b[0mfunc\u001b[0m\u001b[0;34m(\u001b[0m\u001b[0mself\u001b[0m\u001b[0;34m,\u001b[0m \u001b[0;34m*\u001b[0m\u001b[0margs\u001b[0m\u001b[0;34m,\u001b[0m \u001b[0;34m**\u001b[0m\u001b[0mkwargs\u001b[0m\u001b[0;34m)\u001b[0m\u001b[0;34m\u001b[0m\u001b[0;34m\u001b[0m\u001b[0m\n\u001b[0m\u001b[1;32m     39\u001b[0m \u001b[0;34m\u001b[0m\u001b[0m\n\u001b[1;32m     40\u001b[0m     \u001b[0;32mreturn\u001b[0m \u001b[0m_wrapper\u001b[0m\u001b[0;34m\u001b[0m\u001b[0;34m\u001b[0m\u001b[0m\n",
            "\u001b[0;32m/usr/local/lib/python3.10/dist-packages/qiskit_aer/jobs/aerjob.py\u001b[0m in \u001b[0;36mresult\u001b[0;34m(self, timeout)\u001b[0m\n\u001b[1;32m     94\u001b[0m             \u001b[0mconcurrent\u001b[0m\u001b[0;34m.\u001b[0m\u001b[0mfutures\u001b[0m\u001b[0;34m.\u001b[0m\u001b[0mCancelledError\u001b[0m\u001b[0;34m:\u001b[0m \u001b[0;32mif\u001b[0m \u001b[0mjob\u001b[0m \u001b[0mcancelled\u001b[0m \u001b[0mbefore\u001b[0m \u001b[0mcompleted\u001b[0m\u001b[0;34m.\u001b[0m\u001b[0;34m\u001b[0m\u001b[0;34m\u001b[0m\u001b[0m\n\u001b[1;32m     95\u001b[0m         \"\"\"\n\u001b[0;32m---> 96\u001b[0;31m         \u001b[0;32mreturn\u001b[0m \u001b[0mself\u001b[0m\u001b[0;34m.\u001b[0m\u001b[0m_future\u001b[0m\u001b[0;34m.\u001b[0m\u001b[0mresult\u001b[0m\u001b[0;34m(\u001b[0m\u001b[0mtimeout\u001b[0m\u001b[0;34m=\u001b[0m\u001b[0mtimeout\u001b[0m\u001b[0;34m)\u001b[0m\u001b[0;34m\u001b[0m\u001b[0;34m\u001b[0m\u001b[0m\n\u001b[0m\u001b[1;32m     97\u001b[0m \u001b[0;34m\u001b[0m\u001b[0m\n\u001b[1;32m     98\u001b[0m     \u001b[0;34m@\u001b[0m\u001b[0mrequires_submit\u001b[0m\u001b[0;34m\u001b[0m\u001b[0;34m\u001b[0m\u001b[0m\n",
            "\u001b[0;32m/usr/lib/python3.10/concurrent/futures/_base.py\u001b[0m in \u001b[0;36mresult\u001b[0;34m(self, timeout)\u001b[0m\n\u001b[1;32m    451\u001b[0m                     \u001b[0;32mreturn\u001b[0m \u001b[0mself\u001b[0m\u001b[0;34m.\u001b[0m\u001b[0m__get_result\u001b[0m\u001b[0;34m(\u001b[0m\u001b[0;34m)\u001b[0m\u001b[0;34m\u001b[0m\u001b[0;34m\u001b[0m\u001b[0m\n\u001b[1;32m    452\u001b[0m \u001b[0;34m\u001b[0m\u001b[0m\n\u001b[0;32m--> 453\u001b[0;31m                 \u001b[0mself\u001b[0m\u001b[0;34m.\u001b[0m\u001b[0m_condition\u001b[0m\u001b[0;34m.\u001b[0m\u001b[0mwait\u001b[0m\u001b[0;34m(\u001b[0m\u001b[0mtimeout\u001b[0m\u001b[0;34m)\u001b[0m\u001b[0;34m\u001b[0m\u001b[0;34m\u001b[0m\u001b[0m\n\u001b[0m\u001b[1;32m    454\u001b[0m \u001b[0;34m\u001b[0m\u001b[0m\n\u001b[1;32m    455\u001b[0m                 \u001b[0;32mif\u001b[0m \u001b[0mself\u001b[0m\u001b[0;34m.\u001b[0m\u001b[0m_state\u001b[0m \u001b[0;32min\u001b[0m \u001b[0;34m[\u001b[0m\u001b[0mCANCELLED\u001b[0m\u001b[0;34m,\u001b[0m \u001b[0mCANCELLED_AND_NOTIFIED\u001b[0m\u001b[0;34m]\u001b[0m\u001b[0;34m:\u001b[0m\u001b[0;34m\u001b[0m\u001b[0;34m\u001b[0m\u001b[0m\n",
            "\u001b[0;32m/usr/lib/python3.10/threading.py\u001b[0m in \u001b[0;36mwait\u001b[0;34m(self, timeout)\u001b[0m\n\u001b[1;32m    318\u001b[0m         \u001b[0;32mtry\u001b[0m\u001b[0;34m:\u001b[0m    \u001b[0;31m# restore state no matter what (e.g., KeyboardInterrupt)\u001b[0m\u001b[0;34m\u001b[0m\u001b[0;34m\u001b[0m\u001b[0m\n\u001b[1;32m    319\u001b[0m             \u001b[0;32mif\u001b[0m \u001b[0mtimeout\u001b[0m \u001b[0;32mis\u001b[0m \u001b[0;32mNone\u001b[0m\u001b[0;34m:\u001b[0m\u001b[0;34m\u001b[0m\u001b[0;34m\u001b[0m\u001b[0m\n\u001b[0;32m--> 320\u001b[0;31m                 \u001b[0mwaiter\u001b[0m\u001b[0;34m.\u001b[0m\u001b[0macquire\u001b[0m\u001b[0;34m(\u001b[0m\u001b[0;34m)\u001b[0m\u001b[0;34m\u001b[0m\u001b[0;34m\u001b[0m\u001b[0m\n\u001b[0m\u001b[1;32m    321\u001b[0m                 \u001b[0mgotit\u001b[0m \u001b[0;34m=\u001b[0m \u001b[0;32mTrue\u001b[0m\u001b[0;34m\u001b[0m\u001b[0;34m\u001b[0m\u001b[0m\n\u001b[1;32m    322\u001b[0m             \u001b[0;32melse\u001b[0m\u001b[0;34m:\u001b[0m\u001b[0;34m\u001b[0m\u001b[0;34m\u001b[0m\u001b[0m\n",
            "\u001b[0;31mKeyboardInterrupt\u001b[0m: "
          ]
        }
      ],
      "source": [
        "QDI_losses_nsy, \\\n",
        "    QDI_accuracies_nsy = train(QDI_model_nsy, criterion=criterion,\n",
        "                              optimizer=optimizer_for_nsy_qdi,\n",
        "                              train_dataloader=train_dataloader,\n",
        "                              test_dataloader=test_dataloader,\n",
        "                              num_epochs=epochs)"
      ]
    },
    {
      "cell_type": "code",
      "execution_count": null,
      "metadata": {
        "collapsed": true,
        "id": "pyB6Hbp-ROxB"
      },
      "outputs": [],
      "source": [
        "EFQ_losses_nsy, \\\n",
        "    EFQ_accuracies_nsy = train(EFQ_model_nsy, criterion=criterion,\n",
        "                              optimizer=optimizer_for_nsy_efq,\n",
        "                              train_dataloader=train_dataloader,\n",
        "                              test_dataloader=test_dataloader,\n",
        "                              num_epochs=epochs)"
      ]
    },
    {
      "cell_type": "code",
      "execution_count": null,
      "metadata": {
        "id": "DjUNzuvDROxB"
      },
      "outputs": [],
      "source": [
        "PQN_losses_nsy, \\\n",
        "    PQN_accuracies_nsy = train(PQN_model_nsy, criterion=criterion,\n",
        "                              optimizer=optimizer_for_nsy_pqn,\n",
        "                              train_dataloader=train_dataloader,\n",
        "                              test_dataloader=test_dataloader,\n",
        "                              num_epochs=epochs)"
      ]
    },
    {
      "cell_type": "code",
      "execution_count": null,
      "metadata": {
        "id": "Eh48-NyQvSQw"
      },
      "outputs": [],
      "source": [
        "fig, ax = plt.subplots(1, 2, figsize = (15, 5))\n",
        "\n",
        "ax[0].plot(np.arange(1, QDI_losses_nsy.shape[0] + 1), QDI_losses_nsy, label='QDI')\n",
        "ax[0].plot(np.arange(1, EFQ_losses_nsy.shape[0] + 1), EFQ_losses_nsy, label='EFQ')\n",
        "ax[0].plot(np.arange(1, PQN_losses_nsy.shape[0] + 1), PQN_losses_nsy, label='PQN')\n",
        "ax[0].set_xticks(np.arange(1, QDI_losses_nsy.shape[0]+ 1, 4))\n",
        "ax[0].set_xlabel('num_epoch')\n",
        "ax[0].set_ylabel('loss')\n",
        "ax[0].legend()\n",
        "ax[0].grid()\n",
        "\n",
        "ax[1].plot(np.arange(QDI_accuracies_nsy.shape[0]), QDI_accuracies_nsy,\n",
        "           label='QDI')\n",
        "ax[1].plot(np.arange(EFQ_accuracies_nsy.shape[0]), EFQ_accuracies_nsy,\n",
        "           label='EFQ')\n",
        "ax[1].plot(np.arange(PQN_accuracies_nsy.shape[0]), PQN_accuracies_nsy,\n",
        "           label='PQN')\n",
        "ax[1].set_xticks(np.arange(0, PQN_accuracies_nsy.shape[0], 4))\n",
        "ax[1].set_xlabel('num_epoch')\n",
        "ax[1].set_ylabel('accuracy')\n",
        "ax[1].legend()\n",
        "ax[1].grid()\n",
        "plt.title('Comparison of performances of QDI, EFQ and PQN layers for noisy case')\n",
        "plt.show()"
      ]
    },
    {
      "cell_type": "code",
      "execution_count": null,
      "metadata": {
        "id": "IHxLsHdCzGrr"
      },
      "outputs": [],
      "source": [
        "fig, ax = plt.subplots(2, 3, figsize = (15, 5))\n",
        "\n",
        "ax[0, 0].plot(np.arange(1, QDI_losses.shape[0] + 1), QDI_losses, label='QDI, noiseless case')\n",
        "ax[0, 0].plot(np.arange(1, QDI_losses_nsy.shape[0] + 1), QDI_losses_nsy, label='QDI, noisy case')\n",
        "ax[0, 0].set_xticks(np.arange(1, QDI_losses_nsy.shape[0] + 1, 4))\n",
        "ax[0, 0].set_xlabel('num_epoch')\n",
        "ax[0, 0].set_ylabel('loss')\n",
        "ax[0, 0].legend()\n",
        "ax[0, 0].grid()\n",
        "\n",
        "ax[0, 1].plot(np.arange(1, EFQ_losses.shape[0] + 1), EFQ_losses, label='EFQ, noiseless case')\n",
        "ax[0, 1].plot(np.arange(1, EFQ_losses_nsy.shape[0] + 1), EFQ_losses_nsy, label='EFQ, noisy case')\n",
        "ax[0, 1].set_xticks(np.arange(1, EFQ_losses_nsy.shape[0] + 1, 4))\n",
        "ax[0, 1].set_xlabel('num_epoch')\n",
        "ax[0, 1].set_ylabel('loss')\n",
        "ax[0, 1].legend()\n",
        "ax[0, 1].grid()\n",
        "\n",
        "ax[0, 2].plot(np.arange(1, PQN_losses.shape[0] + 1), PQN_losses, label='PQN, noiseless case')\n",
        "ax[0, 2].plot(np.arange(1, PQN_losses_nsy.shape[0] + 1), PQN_losses_nsy, label='PQN, noisy case')\n",
        "ax[0, 2].set_xticks(np.arange(1, PQN_losses_nsy.shape[0]+ 1, 4))\n",
        "ax[0, 2].set_xlabel('num_epoch')\n",
        "ax[0, 2].set_ylabel('loss')\n",
        "ax[0, 2].legend()\n",
        "ax[0, 2].grid()\n",
        "\n",
        "ax[1, 0].plot(np.arange(QDI_accuracies.shape[0]), QDI_accuracies, label='QDI, noiseless case')\n",
        "ax[1, 0].plot(np.arange(QDI_accuracies_nsy.shape[0]), QDI_accuracies_nsy, label='QDI, noisy case')\n",
        "ax[1, 0].set_xticks(np.arange(0, QDI_accuracies_nsy.shape[0], 4))\n",
        "ax[1, 0].set_xlabel('num_epoch')\n",
        "ax[1, 0].set_ylabel('accuracy')\n",
        "ax[1, 0].legend()\n",
        "ax[1, 0].grid()\n",
        "\n",
        "ax[1, 1].plot(np.arange(EFQ_accuracies.shape[0]), EFQ_accuracies, label='EFQ, noiseless case')\n",
        "ax[1, 1].plot(np.arange((EFQ_accuracies_nsy)), EFQ_accuracies_nsy, label='EFQ, noisy case')\n",
        "ax[1, 1].set_xticks(np.arange(0, EFQ_accuracies_nsy.shape[0], 4))\n",
        "ax[1, 1].set_xlabel('num_epoch')\n",
        "ax[1, 1].set_ylabel('accuracy')\n",
        "ax[1, 1].legend()\n",
        "ax[1, 1].grid()\n",
        "\n",
        "ax[1, 2].plot(np.arange(PQN_accuracies.shape[0]), PQN_accuracies, label='PQN, noiseless case')\n",
        "ax[1, 2].plot(np.arange(PQN_accuracies_nsy.shape[0]), PQN_accuracies_nsy, label='PQN, noisy case')\n",
        "ax[1, 2].set_xticks(np.arange(0, PQN_accuracies_nsy.shape[0], 4))\n",
        "ax[1, 2].set_xlabel('num_epoch')\n",
        "ax[1, 2].set_ylabel('accuracy')\n",
        "ax[1, 2].legend()\n",
        "ax[1, 2].grid()\n",
        "plt.title(\"Comparison performances of layers for noiseless and noisy cases\")\n",
        "\n",
        "plt.show()"
      ]
    },
    {
      "cell_type": "markdown",
      "metadata": {
        "id": "IPR68JULtD6i"
      },
      "source": [
        "# Forward pass with the IBM Sherbrooke device"
      ]
    },
    {
      "cell_type": "code",
      "execution_count": null,
      "metadata": {
        "id": "355uskdkt2SY"
      },
      "outputs": [],
      "source": [
        "dev = qml.device(\"qiskit.ibmq\", wires=range(num_qubits), backend=backend)"
      ]
    },
    {
      "cell_type": "code",
      "execution_count": null,
      "metadata": {
        "id": "azpqLMfLyIVo"
      },
      "outputs": [],
      "source": [
        "@qml.qnode(dev, interface=\"torch\")\n",
        "def efq_circuit(weights, input_array, wires=range(num_qubits)):\n",
        "    qml.layer(efq_subroutine, efq_depth, params = weights, input_array = input_array, wires = wires)\n",
        "    return qml.expval(qml.PauliZ(0))\n",
        "\n",
        "def pqn_circuit(weights, input_array):\n",
        "    result = torch.zeros(pqn_c).to(device)\n",
        "    for i in range(pqn_c):\n",
        "        result[i] = efq_circuit(weights[i], input_array[i*par_qubits:(i+1)*par_qubits], wires = range(i*par_qubits, (i+1)*par_qubits))\n",
        "    return result"
      ]
    },
    {
      "cell_type": "code",
      "source": [
        "class PQNModel_ibmq_unmitigated(nn.Module):\n",
        "    def __init__(self):\n",
        "        super(PQNModel_ibmq_unmitigated, self).__init__()\n",
        "        self.classical_layer_1 = nn.Linear(input_dim, num_qubits)\n",
        "        self.classical_layer_2 = nn.Linear(num_qubits//2, 1)\n",
        "        self.q_params = nn.Parameter(torch.randn(pqn_c, 12*efq_depth*num_qubits))\n",
        "    def forward(self, x):\n",
        "        x = torch.relu(self.classical_layer_1(x))\n",
        "        q_out = torch.zeros((x.size(0), 2), device=device)\n",
        "        for i in range(x.size(0)):\n",
        "            q_out[i] = pqn_circuit(self.q_params, x[i])\n",
        "        output = self.classical_layer_2(q_out)\n",
        "        return torch.sigmoid(output).squeeze(1)"
      ],
      "metadata": {
        "id": "6XLXHRKLAdgz"
      },
      "execution_count": null,
      "outputs": []
    },
    {
      "cell_type": "code",
      "execution_count": null,
      "metadata": {
        "id": "5ZtWDdNCzLPw"
      },
      "outputs": [],
      "source": [
        "PQN_model_ibmq = PQNModel_ibmq_unmitigated().to(device)"
      ]
    },
    {
      "cell_type": "code",
      "execution_count": null,
      "metadata": {
        "id": "JHUOhwPusUMM"
      },
      "outputs": [],
      "source": [
        "PQN_model_ibmq.load_state_dict(PQN_model.state_dict())"
      ]
    },
    {
      "cell_type": "code",
      "execution_count": null,
      "metadata": {
        "id": "sPnqdCFBzBzr"
      },
      "outputs": [],
      "source": [
        "unmitigated_accuracy = 0\n",
        "\n",
        "PQN_model_ibmq.eval()\n",
        "for batch in test_dataloader:\n",
        "    X = batch[0].to(device)\n",
        "    y = batch[1].to(device)\n",
        "\n",
        "    with torch.no_grad():\n",
        "        preds = (PQN_model_ibmq(X)>0.5).float()\n",
        "        unmitigated_accuracy += (preds == y).cpu().numpy().mean()\n",
        "\n",
        "unmitigated_accuracy /= len(test_dataloader)\n",
        "print(f\"Unmitigated accuracy {unmitigated_accuracy:.3f}\")"
      ]
    },
    {
      "cell_type": "code",
      "execution_count": null,
      "metadata": {
        "id": "IkFDV4ik-3Rd"
      },
      "outputs": [],
      "source": [
        "from mitiq.zne.scaling import fold_global\n",
        "from mitiq.zne.inference import RichardsonFactory\n",
        "\n",
        "scale_factors = [1, 2, 3]\n",
        "noise_scale_method = fold_global\n",
        "\n",
        "mitigated_efq_circuit = qml.transforms.mitigate_with_zne(\n",
        "    efq_circuit,\n",
        "    scale_factors,\n",
        "    noise_scale_method,\n",
        "    RichardsonFactory.extrapolate,\n",
        ")\n",
        "def pqn_circuit(weights, input_array):\n",
        "    result = torch.zeros(pqn_c).to(device)\n",
        "    for i in range(pqn_c):\n",
        "        result[i] = mitigated_efq_circuit(weights[i], input_array[i*par_qubits:(i+1)*par_qubits], wires = range(i*par_qubits, (i+1)*par_qubits))\n",
        "    return result"
      ]
    },
    {
      "cell_type": "code",
      "execution_count": null,
      "metadata": {
        "id": "317FcjXL_Xed"
      },
      "outputs": [],
      "source": [
        "class PQNModel_ibmq_mitigated(nn.Module):\n",
        "    def __init__(self):\n",
        "        super(PQNModel_ibmq_mitigated, self).__init__()\n",
        "        self.classical_layer_1 = nn.Linear(input_dim, num_qubits)\n",
        "        self.classical_layer_2 = nn.Linear(num_qubits//2, 1)\n",
        "        self.q_params = nn.Parameter(torch.randn(pqn_c, 12*efq_depth*num_qubits))\n",
        "    def forward(self, x):\n",
        "        x = torch.relu(self.classical_layer_1(x))\n",
        "        q_out = torch.zeros((x.size(0), 2), device=device)\n",
        "        for i in range(x.size(0)):\n",
        "            q_out[i] = pqn_circuit(self.q_params, x[i])\n",
        "        output = self.classical_layer_2(q_out)\n",
        "        return torch.sigmoid(output).squeeze(1)"
      ]
    },
    {
      "cell_type": "code",
      "execution_count": null,
      "metadata": {
        "id": "jwnv8jQN_k1b"
      },
      "outputs": [],
      "source": [
        "PQN_model_ibmq = PQNModel_ibmq_mitigated().to(device)"
      ]
    },
    {
      "cell_type": "code",
      "execution_count": null,
      "metadata": {
        "id": "osYRn3LmtvMx"
      },
      "outputs": [],
      "source": [
        "PQN_model_ibmq.load_state_dict(PQN_model.state_dict())"
      ]
    },
    {
      "cell_type": "code",
      "execution_count": null,
      "metadata": {
        "id": "F-6jEXLv_pBo"
      },
      "outputs": [],
      "source": [
        "mitigated_accuracy = 0\n",
        "\n",
        "PQN_model_ibmq.eval()\n",
        "for batch in test_dataloader:\n",
        "    X = batch[0].to(device)\n",
        "    y = batch[1].to(device)\n",
        "\n",
        "    with torch.no_grad():\n",
        "        preds = (PQN_model_ibmq(X)>0.5).float()\n",
        "        mitigated_accuracy += (preds == y).cpu().numpy().mean()\n",
        "\n",
        "mitigated_accuracy /= len(test_dataloader)\n",
        "print(f\"Mitigated accuracy {mitigated_accuracy:.3f}\")"
      ]
    },
    {
      "cell_type": "code",
      "execution_count": null,
      "metadata": {
        "id": "zAO6r8Or_vZQ"
      },
      "outputs": [],
      "source": [
        "print(f\"Unmitigated accuracy {unmitigated_accuracy:.3f}\")\n",
        "print(f\"Mitigated accuracy {mitigated_accuracy:.3f}\")"
      ]
    }
  ],
  "metadata": {
    "accelerator": "GPU",
    "colab": {
      "gpuType": "T4",
      "provenance": [],
      "include_colab_link": true
    },
    "kernelspec": {
      "display_name": "Python 3",
      "name": "python3"
    },
    "language_info": {
      "name": "python"
    },
    "widgets": {
      "application/vnd.jupyter.widget-state+json": {
        "f91a3e7866b44870a5ae8dd88d704b74": {
          "model_module": "@jupyter-widgets/controls",
          "model_name": "HBoxModel",
          "model_module_version": "1.5.0",
          "state": {
            "_dom_classes": [],
            "_model_module": "@jupyter-widgets/controls",
            "_model_module_version": "1.5.0",
            "_model_name": "HBoxModel",
            "_view_count": null,
            "_view_module": "@jupyter-widgets/controls",
            "_view_module_version": "1.5.0",
            "_view_name": "HBoxView",
            "box_style": "",
            "children": [
              "IPY_MODEL_f6efa280f00d49f6b1176dea66f38033",
              "IPY_MODEL_3674e9236c784d76872d9970046038f3",
              "IPY_MODEL_82972fd59b60430e8203b76d500ac865"
            ],
            "layout": "IPY_MODEL_ce4feadf48a246dcaa86d1e09f093cf5"
          }
        },
        "f6efa280f00d49f6b1176dea66f38033": {
          "model_module": "@jupyter-widgets/controls",
          "model_name": "HTMLModel",
          "model_module_version": "1.5.0",
          "state": {
            "_dom_classes": [],
            "_model_module": "@jupyter-widgets/controls",
            "_model_module_version": "1.5.0",
            "_model_name": "HTMLModel",
            "_view_count": null,
            "_view_module": "@jupyter-widgets/controls",
            "_view_module_version": "1.5.0",
            "_view_name": "HTMLView",
            "description": "",
            "description_tooltip": null,
            "layout": "IPY_MODEL_d4b9b3ad41b146538d8e4f06740a9226",
            "placeholder": "​",
            "style": "IPY_MODEL_eb0ca91382d94e6f88c6e4c580001930",
            "value": "100%"
          }
        },
        "3674e9236c784d76872d9970046038f3": {
          "model_module": "@jupyter-widgets/controls",
          "model_name": "FloatProgressModel",
          "model_module_version": "1.5.0",
          "state": {
            "_dom_classes": [],
            "_model_module": "@jupyter-widgets/controls",
            "_model_module_version": "1.5.0",
            "_model_name": "FloatProgressModel",
            "_view_count": null,
            "_view_module": "@jupyter-widgets/controls",
            "_view_module_version": "1.5.0",
            "_view_name": "ProgressView",
            "bar_style": "success",
            "description": "",
            "description_tooltip": null,
            "layout": "IPY_MODEL_df236ff19ed444c5a0f01b8e1553bf44",
            "max": 100,
            "min": 0,
            "orientation": "horizontal",
            "style": "IPY_MODEL_03a28c1143c346ecb9b929925f761616",
            "value": 100
          }
        },
        "82972fd59b60430e8203b76d500ac865": {
          "model_module": "@jupyter-widgets/controls",
          "model_name": "HTMLModel",
          "model_module_version": "1.5.0",
          "state": {
            "_dom_classes": [],
            "_model_module": "@jupyter-widgets/controls",
            "_model_module_version": "1.5.0",
            "_model_name": "HTMLModel",
            "_view_count": null,
            "_view_module": "@jupyter-widgets/controls",
            "_view_module_version": "1.5.0",
            "_view_name": "HTMLView",
            "description": "",
            "description_tooltip": null,
            "layout": "IPY_MODEL_4d8f60eba56246a181c697a6e597ed98",
            "placeholder": "​",
            "style": "IPY_MODEL_237b04f6f2004c079056ca9cfaea3827",
            "value": " 100/100 [05:09&lt;00:00,  2.94s/it]"
          }
        },
        "ce4feadf48a246dcaa86d1e09f093cf5": {
          "model_module": "@jupyter-widgets/base",
          "model_name": "LayoutModel",
          "model_module_version": "1.2.0",
          "state": {
            "_model_module": "@jupyter-widgets/base",
            "_model_module_version": "1.2.0",
            "_model_name": "LayoutModel",
            "_view_count": null,
            "_view_module": "@jupyter-widgets/base",
            "_view_module_version": "1.2.0",
            "_view_name": "LayoutView",
            "align_content": null,
            "align_items": null,
            "align_self": null,
            "border": null,
            "bottom": null,
            "display": null,
            "flex": null,
            "flex_flow": null,
            "grid_area": null,
            "grid_auto_columns": null,
            "grid_auto_flow": null,
            "grid_auto_rows": null,
            "grid_column": null,
            "grid_gap": null,
            "grid_row": null,
            "grid_template_areas": null,
            "grid_template_columns": null,
            "grid_template_rows": null,
            "height": null,
            "justify_content": null,
            "justify_items": null,
            "left": null,
            "margin": null,
            "max_height": null,
            "max_width": null,
            "min_height": null,
            "min_width": null,
            "object_fit": null,
            "object_position": null,
            "order": null,
            "overflow": null,
            "overflow_x": null,
            "overflow_y": null,
            "padding": null,
            "right": null,
            "top": null,
            "visibility": null,
            "width": null
          }
        },
        "d4b9b3ad41b146538d8e4f06740a9226": {
          "model_module": "@jupyter-widgets/base",
          "model_name": "LayoutModel",
          "model_module_version": "1.2.0",
          "state": {
            "_model_module": "@jupyter-widgets/base",
            "_model_module_version": "1.2.0",
            "_model_name": "LayoutModel",
            "_view_count": null,
            "_view_module": "@jupyter-widgets/base",
            "_view_module_version": "1.2.0",
            "_view_name": "LayoutView",
            "align_content": null,
            "align_items": null,
            "align_self": null,
            "border": null,
            "bottom": null,
            "display": null,
            "flex": null,
            "flex_flow": null,
            "grid_area": null,
            "grid_auto_columns": null,
            "grid_auto_flow": null,
            "grid_auto_rows": null,
            "grid_column": null,
            "grid_gap": null,
            "grid_row": null,
            "grid_template_areas": null,
            "grid_template_columns": null,
            "grid_template_rows": null,
            "height": null,
            "justify_content": null,
            "justify_items": null,
            "left": null,
            "margin": null,
            "max_height": null,
            "max_width": null,
            "min_height": null,
            "min_width": null,
            "object_fit": null,
            "object_position": null,
            "order": null,
            "overflow": null,
            "overflow_x": null,
            "overflow_y": null,
            "padding": null,
            "right": null,
            "top": null,
            "visibility": null,
            "width": null
          }
        },
        "eb0ca91382d94e6f88c6e4c580001930": {
          "model_module": "@jupyter-widgets/controls",
          "model_name": "DescriptionStyleModel",
          "model_module_version": "1.5.0",
          "state": {
            "_model_module": "@jupyter-widgets/controls",
            "_model_module_version": "1.5.0",
            "_model_name": "DescriptionStyleModel",
            "_view_count": null,
            "_view_module": "@jupyter-widgets/base",
            "_view_module_version": "1.2.0",
            "_view_name": "StyleView",
            "description_width": ""
          }
        },
        "df236ff19ed444c5a0f01b8e1553bf44": {
          "model_module": "@jupyter-widgets/base",
          "model_name": "LayoutModel",
          "model_module_version": "1.2.0",
          "state": {
            "_model_module": "@jupyter-widgets/base",
            "_model_module_version": "1.2.0",
            "_model_name": "LayoutModel",
            "_view_count": null,
            "_view_module": "@jupyter-widgets/base",
            "_view_module_version": "1.2.0",
            "_view_name": "LayoutView",
            "align_content": null,
            "align_items": null,
            "align_self": null,
            "border": null,
            "bottom": null,
            "display": null,
            "flex": null,
            "flex_flow": null,
            "grid_area": null,
            "grid_auto_columns": null,
            "grid_auto_flow": null,
            "grid_auto_rows": null,
            "grid_column": null,
            "grid_gap": null,
            "grid_row": null,
            "grid_template_areas": null,
            "grid_template_columns": null,
            "grid_template_rows": null,
            "height": null,
            "justify_content": null,
            "justify_items": null,
            "left": null,
            "margin": null,
            "max_height": null,
            "max_width": null,
            "min_height": null,
            "min_width": null,
            "object_fit": null,
            "object_position": null,
            "order": null,
            "overflow": null,
            "overflow_x": null,
            "overflow_y": null,
            "padding": null,
            "right": null,
            "top": null,
            "visibility": null,
            "width": null
          }
        },
        "03a28c1143c346ecb9b929925f761616": {
          "model_module": "@jupyter-widgets/controls",
          "model_name": "ProgressStyleModel",
          "model_module_version": "1.5.0",
          "state": {
            "_model_module": "@jupyter-widgets/controls",
            "_model_module_version": "1.5.0",
            "_model_name": "ProgressStyleModel",
            "_view_count": null,
            "_view_module": "@jupyter-widgets/base",
            "_view_module_version": "1.2.0",
            "_view_name": "StyleView",
            "bar_color": null,
            "description_width": ""
          }
        },
        "4d8f60eba56246a181c697a6e597ed98": {
          "model_module": "@jupyter-widgets/base",
          "model_name": "LayoutModel",
          "model_module_version": "1.2.0",
          "state": {
            "_model_module": "@jupyter-widgets/base",
            "_model_module_version": "1.2.0",
            "_model_name": "LayoutModel",
            "_view_count": null,
            "_view_module": "@jupyter-widgets/base",
            "_view_module_version": "1.2.0",
            "_view_name": "LayoutView",
            "align_content": null,
            "align_items": null,
            "align_self": null,
            "border": null,
            "bottom": null,
            "display": null,
            "flex": null,
            "flex_flow": null,
            "grid_area": null,
            "grid_auto_columns": null,
            "grid_auto_flow": null,
            "grid_auto_rows": null,
            "grid_column": null,
            "grid_gap": null,
            "grid_row": null,
            "grid_template_areas": null,
            "grid_template_columns": null,
            "grid_template_rows": null,
            "height": null,
            "justify_content": null,
            "justify_items": null,
            "left": null,
            "margin": null,
            "max_height": null,
            "max_width": null,
            "min_height": null,
            "min_width": null,
            "object_fit": null,
            "object_position": null,
            "order": null,
            "overflow": null,
            "overflow_x": null,
            "overflow_y": null,
            "padding": null,
            "right": null,
            "top": null,
            "visibility": null,
            "width": null
          }
        },
        "237b04f6f2004c079056ca9cfaea3827": {
          "model_module": "@jupyter-widgets/controls",
          "model_name": "DescriptionStyleModel",
          "model_module_version": "1.5.0",
          "state": {
            "_model_module": "@jupyter-widgets/controls",
            "_model_module_version": "1.5.0",
            "_model_name": "DescriptionStyleModel",
            "_view_count": null,
            "_view_module": "@jupyter-widgets/base",
            "_view_module_version": "1.2.0",
            "_view_name": "StyleView",
            "description_width": ""
          }
        },
        "b42b0137b91f4d80b69efb07b83ce364": {
          "model_module": "@jupyter-widgets/controls",
          "model_name": "HBoxModel",
          "model_module_version": "1.5.0",
          "state": {
            "_dom_classes": [],
            "_model_module": "@jupyter-widgets/controls",
            "_model_module_version": "1.5.0",
            "_model_name": "HBoxModel",
            "_view_count": null,
            "_view_module": "@jupyter-widgets/controls",
            "_view_module_version": "1.5.0",
            "_view_name": "HBoxView",
            "box_style": "",
            "children": [
              "IPY_MODEL_cb14776164c643e4a352a603de91c5fa",
              "IPY_MODEL_621492b8306a419798f4e9eb8329eb3c",
              "IPY_MODEL_5a416bdb028c4f6e92b469eeca65540a"
            ],
            "layout": "IPY_MODEL_aacba13fdb254345b88ac25b23a4bc1f"
          }
        },
        "cb14776164c643e4a352a603de91c5fa": {
          "model_module": "@jupyter-widgets/controls",
          "model_name": "HTMLModel",
          "model_module_version": "1.5.0",
          "state": {
            "_dom_classes": [],
            "_model_module": "@jupyter-widgets/controls",
            "_model_module_version": "1.5.0",
            "_model_name": "HTMLModel",
            "_view_count": null,
            "_view_module": "@jupyter-widgets/controls",
            "_view_module_version": "1.5.0",
            "_view_name": "HTMLView",
            "description": "",
            "description_tooltip": null,
            "layout": "IPY_MODEL_012819c972484ca49cd9eaeb2153dce6",
            "placeholder": "​",
            "style": "IPY_MODEL_21e05d1961d042f783f220e4677033bc",
            "value": "100%"
          }
        },
        "621492b8306a419798f4e9eb8329eb3c": {
          "model_module": "@jupyter-widgets/controls",
          "model_name": "FloatProgressModel",
          "model_module_version": "1.5.0",
          "state": {
            "_dom_classes": [],
            "_model_module": "@jupyter-widgets/controls",
            "_model_module_version": "1.5.0",
            "_model_name": "FloatProgressModel",
            "_view_count": null,
            "_view_module": "@jupyter-widgets/controls",
            "_view_module_version": "1.5.0",
            "_view_name": "ProgressView",
            "bar_style": "success",
            "description": "",
            "description_tooltip": null,
            "layout": "IPY_MODEL_ff678f8a38cf4a2bbda330141ab66b37",
            "max": 100,
            "min": 0,
            "orientation": "horizontal",
            "style": "IPY_MODEL_ea2a5bb40534449fac022171353908d7",
            "value": 100
          }
        },
        "5a416bdb028c4f6e92b469eeca65540a": {
          "model_module": "@jupyter-widgets/controls",
          "model_name": "HTMLModel",
          "model_module_version": "1.5.0",
          "state": {
            "_dom_classes": [],
            "_model_module": "@jupyter-widgets/controls",
            "_model_module_version": "1.5.0",
            "_model_name": "HTMLModel",
            "_view_count": null,
            "_view_module": "@jupyter-widgets/controls",
            "_view_module_version": "1.5.0",
            "_view_name": "HTMLView",
            "description": "",
            "description_tooltip": null,
            "layout": "IPY_MODEL_85e0b439de3747a893181dbb2ce386e2",
            "placeholder": "​",
            "style": "IPY_MODEL_8ecb6b98c88641e4acd476b8b70a2424",
            "value": " 100/100 [18:00&lt;00:00, 10.76s/it]"
          }
        },
        "aacba13fdb254345b88ac25b23a4bc1f": {
          "model_module": "@jupyter-widgets/base",
          "model_name": "LayoutModel",
          "model_module_version": "1.2.0",
          "state": {
            "_model_module": "@jupyter-widgets/base",
            "_model_module_version": "1.2.0",
            "_model_name": "LayoutModel",
            "_view_count": null,
            "_view_module": "@jupyter-widgets/base",
            "_view_module_version": "1.2.0",
            "_view_name": "LayoutView",
            "align_content": null,
            "align_items": null,
            "align_self": null,
            "border": null,
            "bottom": null,
            "display": null,
            "flex": null,
            "flex_flow": null,
            "grid_area": null,
            "grid_auto_columns": null,
            "grid_auto_flow": null,
            "grid_auto_rows": null,
            "grid_column": null,
            "grid_gap": null,
            "grid_row": null,
            "grid_template_areas": null,
            "grid_template_columns": null,
            "grid_template_rows": null,
            "height": null,
            "justify_content": null,
            "justify_items": null,
            "left": null,
            "margin": null,
            "max_height": null,
            "max_width": null,
            "min_height": null,
            "min_width": null,
            "object_fit": null,
            "object_position": null,
            "order": null,
            "overflow": null,
            "overflow_x": null,
            "overflow_y": null,
            "padding": null,
            "right": null,
            "top": null,
            "visibility": null,
            "width": null
          }
        },
        "012819c972484ca49cd9eaeb2153dce6": {
          "model_module": "@jupyter-widgets/base",
          "model_name": "LayoutModel",
          "model_module_version": "1.2.0",
          "state": {
            "_model_module": "@jupyter-widgets/base",
            "_model_module_version": "1.2.0",
            "_model_name": "LayoutModel",
            "_view_count": null,
            "_view_module": "@jupyter-widgets/base",
            "_view_module_version": "1.2.0",
            "_view_name": "LayoutView",
            "align_content": null,
            "align_items": null,
            "align_self": null,
            "border": null,
            "bottom": null,
            "display": null,
            "flex": null,
            "flex_flow": null,
            "grid_area": null,
            "grid_auto_columns": null,
            "grid_auto_flow": null,
            "grid_auto_rows": null,
            "grid_column": null,
            "grid_gap": null,
            "grid_row": null,
            "grid_template_areas": null,
            "grid_template_columns": null,
            "grid_template_rows": null,
            "height": null,
            "justify_content": null,
            "justify_items": null,
            "left": null,
            "margin": null,
            "max_height": null,
            "max_width": null,
            "min_height": null,
            "min_width": null,
            "object_fit": null,
            "object_position": null,
            "order": null,
            "overflow": null,
            "overflow_x": null,
            "overflow_y": null,
            "padding": null,
            "right": null,
            "top": null,
            "visibility": null,
            "width": null
          }
        },
        "21e05d1961d042f783f220e4677033bc": {
          "model_module": "@jupyter-widgets/controls",
          "model_name": "DescriptionStyleModel",
          "model_module_version": "1.5.0",
          "state": {
            "_model_module": "@jupyter-widgets/controls",
            "_model_module_version": "1.5.0",
            "_model_name": "DescriptionStyleModel",
            "_view_count": null,
            "_view_module": "@jupyter-widgets/base",
            "_view_module_version": "1.2.0",
            "_view_name": "StyleView",
            "description_width": ""
          }
        },
        "ff678f8a38cf4a2bbda330141ab66b37": {
          "model_module": "@jupyter-widgets/base",
          "model_name": "LayoutModel",
          "model_module_version": "1.2.0",
          "state": {
            "_model_module": "@jupyter-widgets/base",
            "_model_module_version": "1.2.0",
            "_model_name": "LayoutModel",
            "_view_count": null,
            "_view_module": "@jupyter-widgets/base",
            "_view_module_version": "1.2.0",
            "_view_name": "LayoutView",
            "align_content": null,
            "align_items": null,
            "align_self": null,
            "border": null,
            "bottom": null,
            "display": null,
            "flex": null,
            "flex_flow": null,
            "grid_area": null,
            "grid_auto_columns": null,
            "grid_auto_flow": null,
            "grid_auto_rows": null,
            "grid_column": null,
            "grid_gap": null,
            "grid_row": null,
            "grid_template_areas": null,
            "grid_template_columns": null,
            "grid_template_rows": null,
            "height": null,
            "justify_content": null,
            "justify_items": null,
            "left": null,
            "margin": null,
            "max_height": null,
            "max_width": null,
            "min_height": null,
            "min_width": null,
            "object_fit": null,
            "object_position": null,
            "order": null,
            "overflow": null,
            "overflow_x": null,
            "overflow_y": null,
            "padding": null,
            "right": null,
            "top": null,
            "visibility": null,
            "width": null
          }
        },
        "ea2a5bb40534449fac022171353908d7": {
          "model_module": "@jupyter-widgets/controls",
          "model_name": "ProgressStyleModel",
          "model_module_version": "1.5.0",
          "state": {
            "_model_module": "@jupyter-widgets/controls",
            "_model_module_version": "1.5.0",
            "_model_name": "ProgressStyleModel",
            "_view_count": null,
            "_view_module": "@jupyter-widgets/base",
            "_view_module_version": "1.2.0",
            "_view_name": "StyleView",
            "bar_color": null,
            "description_width": ""
          }
        },
        "85e0b439de3747a893181dbb2ce386e2": {
          "model_module": "@jupyter-widgets/base",
          "model_name": "LayoutModel",
          "model_module_version": "1.2.0",
          "state": {
            "_model_module": "@jupyter-widgets/base",
            "_model_module_version": "1.2.0",
            "_model_name": "LayoutModel",
            "_view_count": null,
            "_view_module": "@jupyter-widgets/base",
            "_view_module_version": "1.2.0",
            "_view_name": "LayoutView",
            "align_content": null,
            "align_items": null,
            "align_self": null,
            "border": null,
            "bottom": null,
            "display": null,
            "flex": null,
            "flex_flow": null,
            "grid_area": null,
            "grid_auto_columns": null,
            "grid_auto_flow": null,
            "grid_auto_rows": null,
            "grid_column": null,
            "grid_gap": null,
            "grid_row": null,
            "grid_template_areas": null,
            "grid_template_columns": null,
            "grid_template_rows": null,
            "height": null,
            "justify_content": null,
            "justify_items": null,
            "left": null,
            "margin": null,
            "max_height": null,
            "max_width": null,
            "min_height": null,
            "min_width": null,
            "object_fit": null,
            "object_position": null,
            "order": null,
            "overflow": null,
            "overflow_x": null,
            "overflow_y": null,
            "padding": null,
            "right": null,
            "top": null,
            "visibility": null,
            "width": null
          }
        },
        "8ecb6b98c88641e4acd476b8b70a2424": {
          "model_module": "@jupyter-widgets/controls",
          "model_name": "DescriptionStyleModel",
          "model_module_version": "1.5.0",
          "state": {
            "_model_module": "@jupyter-widgets/controls",
            "_model_module_version": "1.5.0",
            "_model_name": "DescriptionStyleModel",
            "_view_count": null,
            "_view_module": "@jupyter-widgets/base",
            "_view_module_version": "1.2.0",
            "_view_name": "StyleView",
            "description_width": ""
          }
        },
        "ef85d93d304a444db8c47bbaf852d867": {
          "model_module": "@jupyter-widgets/controls",
          "model_name": "HBoxModel",
          "model_module_version": "1.5.0",
          "state": {
            "_dom_classes": [],
            "_model_module": "@jupyter-widgets/controls",
            "_model_module_version": "1.5.0",
            "_model_name": "HBoxModel",
            "_view_count": null,
            "_view_module": "@jupyter-widgets/controls",
            "_view_module_version": "1.5.0",
            "_view_name": "HBoxView",
            "box_style": "",
            "children": [
              "IPY_MODEL_d32db23828904f7aa2145d2016a8d87f",
              "IPY_MODEL_dfda907bc43b47aba17cbc646d6beb06",
              "IPY_MODEL_0ecc8e0700444eddb1e4f1f50544ddb0"
            ],
            "layout": "IPY_MODEL_94fb03ac57b34f8d80f98152bee0b74c"
          }
        },
        "d32db23828904f7aa2145d2016a8d87f": {
          "model_module": "@jupyter-widgets/controls",
          "model_name": "HTMLModel",
          "model_module_version": "1.5.0",
          "state": {
            "_dom_classes": [],
            "_model_module": "@jupyter-widgets/controls",
            "_model_module_version": "1.5.0",
            "_model_name": "HTMLModel",
            "_view_count": null,
            "_view_module": "@jupyter-widgets/controls",
            "_view_module_version": "1.5.0",
            "_view_name": "HTMLView",
            "description": "",
            "description_tooltip": null,
            "layout": "IPY_MODEL_ab0f239851014fb78496c1f89b3067fd",
            "placeholder": "​",
            "style": "IPY_MODEL_2d0cfdaaecb841ac8572725becd517b6",
            "value": "100%"
          }
        },
        "dfda907bc43b47aba17cbc646d6beb06": {
          "model_module": "@jupyter-widgets/controls",
          "model_name": "FloatProgressModel",
          "model_module_version": "1.5.0",
          "state": {
            "_dom_classes": [],
            "_model_module": "@jupyter-widgets/controls",
            "_model_module_version": "1.5.0",
            "_model_name": "FloatProgressModel",
            "_view_count": null,
            "_view_module": "@jupyter-widgets/controls",
            "_view_module_version": "1.5.0",
            "_view_name": "ProgressView",
            "bar_style": "success",
            "description": "",
            "description_tooltip": null,
            "layout": "IPY_MODEL_5b9b598d5d18419eb634328ac4a80a8e",
            "max": 100,
            "min": 0,
            "orientation": "horizontal",
            "style": "IPY_MODEL_79684c2296e5413884c9b97a0d1cfaee",
            "value": 100
          }
        },
        "0ecc8e0700444eddb1e4f1f50544ddb0": {
          "model_module": "@jupyter-widgets/controls",
          "model_name": "HTMLModel",
          "model_module_version": "1.5.0",
          "state": {
            "_dom_classes": [],
            "_model_module": "@jupyter-widgets/controls",
            "_model_module_version": "1.5.0",
            "_model_name": "HTMLModel",
            "_view_count": null,
            "_view_module": "@jupyter-widgets/controls",
            "_view_module_version": "1.5.0",
            "_view_name": "HTMLView",
            "description": "",
            "description_tooltip": null,
            "layout": "IPY_MODEL_93282c0bce5446fcbdd6af089ad97d61",
            "placeholder": "​",
            "style": "IPY_MODEL_8ff9c0274abd4da889f4a49ef9299323",
            "value": " 100/100 [18:55&lt;00:00, 11.28s/it]"
          }
        },
        "94fb03ac57b34f8d80f98152bee0b74c": {
          "model_module": "@jupyter-widgets/base",
          "model_name": "LayoutModel",
          "model_module_version": "1.2.0",
          "state": {
            "_model_module": "@jupyter-widgets/base",
            "_model_module_version": "1.2.0",
            "_model_name": "LayoutModel",
            "_view_count": null,
            "_view_module": "@jupyter-widgets/base",
            "_view_module_version": "1.2.0",
            "_view_name": "LayoutView",
            "align_content": null,
            "align_items": null,
            "align_self": null,
            "border": null,
            "bottom": null,
            "display": null,
            "flex": null,
            "flex_flow": null,
            "grid_area": null,
            "grid_auto_columns": null,
            "grid_auto_flow": null,
            "grid_auto_rows": null,
            "grid_column": null,
            "grid_gap": null,
            "grid_row": null,
            "grid_template_areas": null,
            "grid_template_columns": null,
            "grid_template_rows": null,
            "height": null,
            "justify_content": null,
            "justify_items": null,
            "left": null,
            "margin": null,
            "max_height": null,
            "max_width": null,
            "min_height": null,
            "min_width": null,
            "object_fit": null,
            "object_position": null,
            "order": null,
            "overflow": null,
            "overflow_x": null,
            "overflow_y": null,
            "padding": null,
            "right": null,
            "top": null,
            "visibility": null,
            "width": null
          }
        },
        "ab0f239851014fb78496c1f89b3067fd": {
          "model_module": "@jupyter-widgets/base",
          "model_name": "LayoutModel",
          "model_module_version": "1.2.0",
          "state": {
            "_model_module": "@jupyter-widgets/base",
            "_model_module_version": "1.2.0",
            "_model_name": "LayoutModel",
            "_view_count": null,
            "_view_module": "@jupyter-widgets/base",
            "_view_module_version": "1.2.0",
            "_view_name": "LayoutView",
            "align_content": null,
            "align_items": null,
            "align_self": null,
            "border": null,
            "bottom": null,
            "display": null,
            "flex": null,
            "flex_flow": null,
            "grid_area": null,
            "grid_auto_columns": null,
            "grid_auto_flow": null,
            "grid_auto_rows": null,
            "grid_column": null,
            "grid_gap": null,
            "grid_row": null,
            "grid_template_areas": null,
            "grid_template_columns": null,
            "grid_template_rows": null,
            "height": null,
            "justify_content": null,
            "justify_items": null,
            "left": null,
            "margin": null,
            "max_height": null,
            "max_width": null,
            "min_height": null,
            "min_width": null,
            "object_fit": null,
            "object_position": null,
            "order": null,
            "overflow": null,
            "overflow_x": null,
            "overflow_y": null,
            "padding": null,
            "right": null,
            "top": null,
            "visibility": null,
            "width": null
          }
        },
        "2d0cfdaaecb841ac8572725becd517b6": {
          "model_module": "@jupyter-widgets/controls",
          "model_name": "DescriptionStyleModel",
          "model_module_version": "1.5.0",
          "state": {
            "_model_module": "@jupyter-widgets/controls",
            "_model_module_version": "1.5.0",
            "_model_name": "DescriptionStyleModel",
            "_view_count": null,
            "_view_module": "@jupyter-widgets/base",
            "_view_module_version": "1.2.0",
            "_view_name": "StyleView",
            "description_width": ""
          }
        },
        "5b9b598d5d18419eb634328ac4a80a8e": {
          "model_module": "@jupyter-widgets/base",
          "model_name": "LayoutModel",
          "model_module_version": "1.2.0",
          "state": {
            "_model_module": "@jupyter-widgets/base",
            "_model_module_version": "1.2.0",
            "_model_name": "LayoutModel",
            "_view_count": null,
            "_view_module": "@jupyter-widgets/base",
            "_view_module_version": "1.2.0",
            "_view_name": "LayoutView",
            "align_content": null,
            "align_items": null,
            "align_self": null,
            "border": null,
            "bottom": null,
            "display": null,
            "flex": null,
            "flex_flow": null,
            "grid_area": null,
            "grid_auto_columns": null,
            "grid_auto_flow": null,
            "grid_auto_rows": null,
            "grid_column": null,
            "grid_gap": null,
            "grid_row": null,
            "grid_template_areas": null,
            "grid_template_columns": null,
            "grid_template_rows": null,
            "height": null,
            "justify_content": null,
            "justify_items": null,
            "left": null,
            "margin": null,
            "max_height": null,
            "max_width": null,
            "min_height": null,
            "min_width": null,
            "object_fit": null,
            "object_position": null,
            "order": null,
            "overflow": null,
            "overflow_x": null,
            "overflow_y": null,
            "padding": null,
            "right": null,
            "top": null,
            "visibility": null,
            "width": null
          }
        },
        "79684c2296e5413884c9b97a0d1cfaee": {
          "model_module": "@jupyter-widgets/controls",
          "model_name": "ProgressStyleModel",
          "model_module_version": "1.5.0",
          "state": {
            "_model_module": "@jupyter-widgets/controls",
            "_model_module_version": "1.5.0",
            "_model_name": "ProgressStyleModel",
            "_view_count": null,
            "_view_module": "@jupyter-widgets/base",
            "_view_module_version": "1.2.0",
            "_view_name": "StyleView",
            "bar_color": null,
            "description_width": ""
          }
        },
        "93282c0bce5446fcbdd6af089ad97d61": {
          "model_module": "@jupyter-widgets/base",
          "model_name": "LayoutModel",
          "model_module_version": "1.2.0",
          "state": {
            "_model_module": "@jupyter-widgets/base",
            "_model_module_version": "1.2.0",
            "_model_name": "LayoutModel",
            "_view_count": null,
            "_view_module": "@jupyter-widgets/base",
            "_view_module_version": "1.2.0",
            "_view_name": "LayoutView",
            "align_content": null,
            "align_items": null,
            "align_self": null,
            "border": null,
            "bottom": null,
            "display": null,
            "flex": null,
            "flex_flow": null,
            "grid_area": null,
            "grid_auto_columns": null,
            "grid_auto_flow": null,
            "grid_auto_rows": null,
            "grid_column": null,
            "grid_gap": null,
            "grid_row": null,
            "grid_template_areas": null,
            "grid_template_columns": null,
            "grid_template_rows": null,
            "height": null,
            "justify_content": null,
            "justify_items": null,
            "left": null,
            "margin": null,
            "max_height": null,
            "max_width": null,
            "min_height": null,
            "min_width": null,
            "object_fit": null,
            "object_position": null,
            "order": null,
            "overflow": null,
            "overflow_x": null,
            "overflow_y": null,
            "padding": null,
            "right": null,
            "top": null,
            "visibility": null,
            "width": null
          }
        },
        "8ff9c0274abd4da889f4a49ef9299323": {
          "model_module": "@jupyter-widgets/controls",
          "model_name": "DescriptionStyleModel",
          "model_module_version": "1.5.0",
          "state": {
            "_model_module": "@jupyter-widgets/controls",
            "_model_module_version": "1.5.0",
            "_model_name": "DescriptionStyleModel",
            "_view_count": null,
            "_view_module": "@jupyter-widgets/base",
            "_view_module_version": "1.2.0",
            "_view_name": "StyleView",
            "description_width": ""
          }
        },
        "1bd307a7baeb49b2b8b78f3c9aedef2f": {
          "model_module": "@jupyter-widgets/controls",
          "model_name": "HBoxModel",
          "model_module_version": "1.5.0",
          "state": {
            "_dom_classes": [],
            "_model_module": "@jupyter-widgets/controls",
            "_model_module_version": "1.5.0",
            "_model_name": "HBoxModel",
            "_view_count": null,
            "_view_module": "@jupyter-widgets/controls",
            "_view_module_version": "1.5.0",
            "_view_name": "HBoxView",
            "box_style": "",
            "children": [
              "IPY_MODEL_5974e0a685bb41a3ae8e5918c912244b",
              "IPY_MODEL_33bd01e6f76e4c44993ff35e53ae9f36",
              "IPY_MODEL_5639b36d1e5040f585d9e207d321eb17"
            ],
            "layout": "IPY_MODEL_d756b90fcbff4da695d73ca9e9387f36"
          }
        },
        "5974e0a685bb41a3ae8e5918c912244b": {
          "model_module": "@jupyter-widgets/controls",
          "model_name": "HTMLModel",
          "model_module_version": "1.5.0",
          "state": {
            "_dom_classes": [],
            "_model_module": "@jupyter-widgets/controls",
            "_model_module_version": "1.5.0",
            "_model_name": "HTMLModel",
            "_view_count": null,
            "_view_module": "@jupyter-widgets/controls",
            "_view_module_version": "1.5.0",
            "_view_name": "HTMLView",
            "description": "",
            "description_tooltip": null,
            "layout": "IPY_MODEL_b0d8d8a75bcb436c99a42c4e9e57525f",
            "placeholder": "​",
            "style": "IPY_MODEL_dccf374c821541b19a0063c41cb2c9d3",
            "value": "  0%"
          }
        },
        "33bd01e6f76e4c44993ff35e53ae9f36": {
          "model_module": "@jupyter-widgets/controls",
          "model_name": "FloatProgressModel",
          "model_module_version": "1.5.0",
          "state": {
            "_dom_classes": [],
            "_model_module": "@jupyter-widgets/controls",
            "_model_module_version": "1.5.0",
            "_model_name": "FloatProgressModel",
            "_view_count": null,
            "_view_module": "@jupyter-widgets/controls",
            "_view_module_version": "1.5.0",
            "_view_name": "ProgressView",
            "bar_style": "danger",
            "description": "",
            "description_tooltip": null,
            "layout": "IPY_MODEL_9ce1f60fe47542e682bdbaa1b059aed7",
            "max": 100,
            "min": 0,
            "orientation": "horizontal",
            "style": "IPY_MODEL_274570d1b17c40369dc29be796d6635b",
            "value": 0
          }
        },
        "5639b36d1e5040f585d9e207d321eb17": {
          "model_module": "@jupyter-widgets/controls",
          "model_name": "HTMLModel",
          "model_module_version": "1.5.0",
          "state": {
            "_dom_classes": [],
            "_model_module": "@jupyter-widgets/controls",
            "_model_module_version": "1.5.0",
            "_model_name": "HTMLModel",
            "_view_count": null,
            "_view_module": "@jupyter-widgets/controls",
            "_view_module_version": "1.5.0",
            "_view_name": "HTMLView",
            "description": "",
            "description_tooltip": null,
            "layout": "IPY_MODEL_7a80b9eb46a940c6932cf704ea323d06",
            "placeholder": "​",
            "style": "IPY_MODEL_57cd02c39fd74c0183a760e3ed910a5d",
            "value": " 0/100 [01:05&lt;?, ?it/s]"
          }
        },
        "d756b90fcbff4da695d73ca9e9387f36": {
          "model_module": "@jupyter-widgets/base",
          "model_name": "LayoutModel",
          "model_module_version": "1.2.0",
          "state": {
            "_model_module": "@jupyter-widgets/base",
            "_model_module_version": "1.2.0",
            "_model_name": "LayoutModel",
            "_view_count": null,
            "_view_module": "@jupyter-widgets/base",
            "_view_module_version": "1.2.0",
            "_view_name": "LayoutView",
            "align_content": null,
            "align_items": null,
            "align_self": null,
            "border": null,
            "bottom": null,
            "display": null,
            "flex": null,
            "flex_flow": null,
            "grid_area": null,
            "grid_auto_columns": null,
            "grid_auto_flow": null,
            "grid_auto_rows": null,
            "grid_column": null,
            "grid_gap": null,
            "grid_row": null,
            "grid_template_areas": null,
            "grid_template_columns": null,
            "grid_template_rows": null,
            "height": null,
            "justify_content": null,
            "justify_items": null,
            "left": null,
            "margin": null,
            "max_height": null,
            "max_width": null,
            "min_height": null,
            "min_width": null,
            "object_fit": null,
            "object_position": null,
            "order": null,
            "overflow": null,
            "overflow_x": null,
            "overflow_y": null,
            "padding": null,
            "right": null,
            "top": null,
            "visibility": null,
            "width": null
          }
        },
        "b0d8d8a75bcb436c99a42c4e9e57525f": {
          "model_module": "@jupyter-widgets/base",
          "model_name": "LayoutModel",
          "model_module_version": "1.2.0",
          "state": {
            "_model_module": "@jupyter-widgets/base",
            "_model_module_version": "1.2.0",
            "_model_name": "LayoutModel",
            "_view_count": null,
            "_view_module": "@jupyter-widgets/base",
            "_view_module_version": "1.2.0",
            "_view_name": "LayoutView",
            "align_content": null,
            "align_items": null,
            "align_self": null,
            "border": null,
            "bottom": null,
            "display": null,
            "flex": null,
            "flex_flow": null,
            "grid_area": null,
            "grid_auto_columns": null,
            "grid_auto_flow": null,
            "grid_auto_rows": null,
            "grid_column": null,
            "grid_gap": null,
            "grid_row": null,
            "grid_template_areas": null,
            "grid_template_columns": null,
            "grid_template_rows": null,
            "height": null,
            "justify_content": null,
            "justify_items": null,
            "left": null,
            "margin": null,
            "max_height": null,
            "max_width": null,
            "min_height": null,
            "min_width": null,
            "object_fit": null,
            "object_position": null,
            "order": null,
            "overflow": null,
            "overflow_x": null,
            "overflow_y": null,
            "padding": null,
            "right": null,
            "top": null,
            "visibility": null,
            "width": null
          }
        },
        "dccf374c821541b19a0063c41cb2c9d3": {
          "model_module": "@jupyter-widgets/controls",
          "model_name": "DescriptionStyleModel",
          "model_module_version": "1.5.0",
          "state": {
            "_model_module": "@jupyter-widgets/controls",
            "_model_module_version": "1.5.0",
            "_model_name": "DescriptionStyleModel",
            "_view_count": null,
            "_view_module": "@jupyter-widgets/base",
            "_view_module_version": "1.2.0",
            "_view_name": "StyleView",
            "description_width": ""
          }
        },
        "9ce1f60fe47542e682bdbaa1b059aed7": {
          "model_module": "@jupyter-widgets/base",
          "model_name": "LayoutModel",
          "model_module_version": "1.2.0",
          "state": {
            "_model_module": "@jupyter-widgets/base",
            "_model_module_version": "1.2.0",
            "_model_name": "LayoutModel",
            "_view_count": null,
            "_view_module": "@jupyter-widgets/base",
            "_view_module_version": "1.2.0",
            "_view_name": "LayoutView",
            "align_content": null,
            "align_items": null,
            "align_self": null,
            "border": null,
            "bottom": null,
            "display": null,
            "flex": null,
            "flex_flow": null,
            "grid_area": null,
            "grid_auto_columns": null,
            "grid_auto_flow": null,
            "grid_auto_rows": null,
            "grid_column": null,
            "grid_gap": null,
            "grid_row": null,
            "grid_template_areas": null,
            "grid_template_columns": null,
            "grid_template_rows": null,
            "height": null,
            "justify_content": null,
            "justify_items": null,
            "left": null,
            "margin": null,
            "max_height": null,
            "max_width": null,
            "min_height": null,
            "min_width": null,
            "object_fit": null,
            "object_position": null,
            "order": null,
            "overflow": null,
            "overflow_x": null,
            "overflow_y": null,
            "padding": null,
            "right": null,
            "top": null,
            "visibility": null,
            "width": null
          }
        },
        "274570d1b17c40369dc29be796d6635b": {
          "model_module": "@jupyter-widgets/controls",
          "model_name": "ProgressStyleModel",
          "model_module_version": "1.5.0",
          "state": {
            "_model_module": "@jupyter-widgets/controls",
            "_model_module_version": "1.5.0",
            "_model_name": "ProgressStyleModel",
            "_view_count": null,
            "_view_module": "@jupyter-widgets/base",
            "_view_module_version": "1.2.0",
            "_view_name": "StyleView",
            "bar_color": null,
            "description_width": ""
          }
        },
        "7a80b9eb46a940c6932cf704ea323d06": {
          "model_module": "@jupyter-widgets/base",
          "model_name": "LayoutModel",
          "model_module_version": "1.2.0",
          "state": {
            "_model_module": "@jupyter-widgets/base",
            "_model_module_version": "1.2.0",
            "_model_name": "LayoutModel",
            "_view_count": null,
            "_view_module": "@jupyter-widgets/base",
            "_view_module_version": "1.2.0",
            "_view_name": "LayoutView",
            "align_content": null,
            "align_items": null,
            "align_self": null,
            "border": null,
            "bottom": null,
            "display": null,
            "flex": null,
            "flex_flow": null,
            "grid_area": null,
            "grid_auto_columns": null,
            "grid_auto_flow": null,
            "grid_auto_rows": null,
            "grid_column": null,
            "grid_gap": null,
            "grid_row": null,
            "grid_template_areas": null,
            "grid_template_columns": null,
            "grid_template_rows": null,
            "height": null,
            "justify_content": null,
            "justify_items": null,
            "left": null,
            "margin": null,
            "max_height": null,
            "max_width": null,
            "min_height": null,
            "min_width": null,
            "object_fit": null,
            "object_position": null,
            "order": null,
            "overflow": null,
            "overflow_x": null,
            "overflow_y": null,
            "padding": null,
            "right": null,
            "top": null,
            "visibility": null,
            "width": null
          }
        },
        "57cd02c39fd74c0183a760e3ed910a5d": {
          "model_module": "@jupyter-widgets/controls",
          "model_name": "DescriptionStyleModel",
          "model_module_version": "1.5.0",
          "state": {
            "_model_module": "@jupyter-widgets/controls",
            "_model_module_version": "1.5.0",
            "_model_name": "DescriptionStyleModel",
            "_view_count": null,
            "_view_module": "@jupyter-widgets/base",
            "_view_module_version": "1.2.0",
            "_view_name": "StyleView",
            "description_width": ""
          }
        }
      }
    }
  },
  "nbformat": 4,
  "nbformat_minor": 0
}