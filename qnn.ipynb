{
  "cells": [
    {
      "cell_type": "markdown",
      "metadata": {
        "id": "view-in-github",
        "colab_type": "text"
      },
      "source": [
        "<a href=\"https://colab.research.google.com/github/den1shh/summer-school-qml/blob/main/qnn.ipynb\" target=\"_parent\"><img src=\"https://colab.research.google.com/assets/colab-badge.svg\" alt=\"Open In Colab\"/></a>"
      ]
    },
    {
      "cell_type": "markdown",
      "source": [
        "# Building a binary classificator using quantum layers"
      ],
      "metadata": {
        "id": "SW5IfP_q5Otc"
      }
    },
    {
      "cell_type": "code",
      "execution_count": 33,
      "metadata": {
        "collapsed": true,
        "id": "PNLus8UehOVs",
        "colab": {
          "base_uri": "https://localhost:8080/"
        },
        "outputId": "de63f8dc-d941-4ddb-8e6e-1ad2b05c4df1"
      },
      "outputs": [
        {
          "output_type": "stream",
          "name": "stdout",
          "text": [
            "Requirement already satisfied: pennylane in /usr/local/lib/python3.10/dist-packages (0.37.0)\n",
            "Requirement already satisfied: qiskit in /usr/local/lib/python3.10/dist-packages (1.1.1)\n",
            "Requirement already satisfied: pennylane-qiskit in /usr/local/lib/python3.10/dist-packages (0.37.0)\n",
            "Requirement already satisfied: ply in /usr/local/lib/python3.10/dist-packages (3.11)\n",
            "Requirement already satisfied: mitiq in /usr/local/lib/python3.10/dist-packages (0.38.0)\n",
            "Requirement already satisfied: numpy<2.0 in /usr/local/lib/python3.10/dist-packages (from pennylane) (1.26.4)\n",
            "Requirement already satisfied: scipy in /usr/local/lib/python3.10/dist-packages (from pennylane) (1.13.1)\n",
            "Requirement already satisfied: networkx in /usr/local/lib/python3.10/dist-packages (from pennylane) (3.3)\n",
            "Requirement already satisfied: rustworkx in /usr/local/lib/python3.10/dist-packages (from pennylane) (0.15.1)\n",
            "Requirement already satisfied: autograd in /usr/local/lib/python3.10/dist-packages (from pennylane) (1.6.2)\n",
            "Requirement already satisfied: toml in /usr/local/lib/python3.10/dist-packages (from pennylane) (0.10.2)\n",
            "Requirement already satisfied: appdirs in /usr/local/lib/python3.10/dist-packages (from pennylane) (1.4.4)\n",
            "Requirement already satisfied: semantic-version>=2.7 in /usr/local/lib/python3.10/dist-packages (from pennylane) (2.10.0)\n",
            "Requirement already satisfied: autoray>=0.6.11 in /usr/local/lib/python3.10/dist-packages (from pennylane) (0.6.12)\n",
            "Requirement already satisfied: cachetools in /usr/local/lib/python3.10/dist-packages (from pennylane) (5.4.0)\n",
            "Requirement already satisfied: pennylane-lightning>=0.37 in /usr/local/lib/python3.10/dist-packages (from pennylane) (0.37.0)\n",
            "Requirement already satisfied: requests in /usr/local/lib/python3.10/dist-packages (from pennylane) (2.31.0)\n",
            "Requirement already satisfied: typing-extensions in /usr/local/lib/python3.10/dist-packages (from pennylane) (4.12.2)\n",
            "Requirement already satisfied: packaging in /usr/local/lib/python3.10/dist-packages (from pennylane) (24.1)\n",
            "Requirement already satisfied: sympy>=1.3 in /usr/local/lib/python3.10/dist-packages (from qiskit) (1.12.1)\n",
            "Requirement already satisfied: dill>=0.3 in /usr/local/lib/python3.10/dist-packages (from qiskit) (0.3.8)\n",
            "Requirement already satisfied: python-dateutil>=2.8.0 in /usr/local/lib/python3.10/dist-packages (from qiskit) (2.8.2)\n",
            "Requirement already satisfied: stevedore>=3.0.0 in /usr/local/lib/python3.10/dist-packages (from qiskit) (5.2.0)\n",
            "Requirement already satisfied: symengine>=0.11 in /usr/local/lib/python3.10/dist-packages (from qiskit) (0.11.0)\n",
            "Requirement already satisfied: qiskit-aer in /usr/local/lib/python3.10/dist-packages (from pennylane-qiskit) (0.14.2)\n",
            "Requirement already satisfied: qiskit-ibm-provider in /usr/local/lib/python3.10/dist-packages (from pennylane-qiskit) (0.11.0)\n",
            "Requirement already satisfied: qiskit-ibm-runtime in /usr/local/lib/python3.10/dist-packages (from pennylane-qiskit) (0.26.0)\n",
            "Requirement already satisfied: cirq-core<1.4.0,>=1.0.0 in /usr/local/lib/python3.10/dist-packages (from mitiq) (1.3.0)\n",
            "Requirement already satisfied: tabulate in /usr/local/lib/python3.10/dist-packages (from mitiq) (0.9.0)\n",
            "Requirement already satisfied: duet~=0.2.8 in /usr/local/lib/python3.10/dist-packages (from cirq-core<1.4.0,>=1.0.0->mitiq) (0.2.9)\n",
            "Requirement already satisfied: matplotlib~=3.0 in /usr/local/lib/python3.10/dist-packages (from cirq-core<1.4.0,>=1.0.0->mitiq) (3.7.1)\n",
            "Requirement already satisfied: pandas in /usr/local/lib/python3.10/dist-packages (from cirq-core<1.4.0,>=1.0.0->mitiq) (2.1.4)\n",
            "Requirement already satisfied: sortedcontainers~=2.0 in /usr/local/lib/python3.10/dist-packages (from cirq-core<1.4.0,>=1.0.0->mitiq) (2.4.0)\n",
            "Requirement already satisfied: tqdm in /usr/local/lib/python3.10/dist-packages (from cirq-core<1.4.0,>=1.0.0->mitiq) (4.66.4)\n",
            "Requirement already satisfied: six>=1.5 in /usr/local/lib/python3.10/dist-packages (from python-dateutil>=2.8.0->qiskit) (1.16.0)\n",
            "Requirement already satisfied: pbr!=2.1.0,>=2.0.0 in /usr/local/lib/python3.10/dist-packages (from stevedore>=3.0.0->qiskit) (6.0.0)\n",
            "Requirement already satisfied: mpmath<1.4.0,>=1.1.0 in /usr/local/lib/python3.10/dist-packages (from sympy>=1.3->qiskit) (1.3.0)\n",
            "Requirement already satisfied: future>=0.15.2 in /usr/local/lib/python3.10/dist-packages (from autograd->pennylane) (1.0.0)\n",
            "Requirement already satisfied: psutil>=5 in /usr/local/lib/python3.10/dist-packages (from qiskit-aer->pennylane-qiskit) (5.9.5)\n",
            "Requirement already satisfied: requests-ntlm>=1.1.0 in /usr/local/lib/python3.10/dist-packages (from qiskit-ibm-provider->pennylane-qiskit) (1.3.0)\n",
            "Requirement already satisfied: urllib3>=1.21.1 in /usr/local/lib/python3.10/dist-packages (from qiskit-ibm-provider->pennylane-qiskit) (2.2.2)\n",
            "Requirement already satisfied: websocket-client>=1.5.1 in /usr/local/lib/python3.10/dist-packages (from qiskit-ibm-provider->pennylane-qiskit) (1.8.0)\n",
            "Requirement already satisfied: websockets>=10.0 in /usr/local/lib/python3.10/dist-packages (from qiskit-ibm-provider->pennylane-qiskit) (12.0)\n",
            "Requirement already satisfied: charset-normalizer<4,>=2 in /usr/local/lib/python3.10/dist-packages (from requests->pennylane) (3.3.2)\n",
            "Requirement already satisfied: idna<4,>=2.5 in /usr/local/lib/python3.10/dist-packages (from requests->pennylane) (3.7)\n",
            "Requirement already satisfied: certifi>=2017.4.17 in /usr/local/lib/python3.10/dist-packages (from requests->pennylane) (2024.7.4)\n",
            "Requirement already satisfied: ibm-platform-services>=0.22.6 in /usr/local/lib/python3.10/dist-packages (from qiskit-ibm-runtime->pennylane-qiskit) (0.55.2)\n",
            "Requirement already satisfied: pydantic>=2.5.0 in /usr/local/lib/python3.10/dist-packages (from qiskit-ibm-runtime->pennylane-qiskit) (2.8.2)\n",
            "Requirement already satisfied: ibm-cloud-sdk-core<4.0.0,>=3.20.4 in /usr/local/lib/python3.10/dist-packages (from ibm-platform-services>=0.22.6->qiskit-ibm-runtime->pennylane-qiskit) (3.20.4)\n",
            "Requirement already satisfied: contourpy>=1.0.1 in /usr/local/lib/python3.10/dist-packages (from matplotlib~=3.0->cirq-core<1.4.0,>=1.0.0->mitiq) (1.2.1)\n",
            "Requirement already satisfied: cycler>=0.10 in /usr/local/lib/python3.10/dist-packages (from matplotlib~=3.0->cirq-core<1.4.0,>=1.0.0->mitiq) (0.12.1)\n",
            "Requirement already satisfied: fonttools>=4.22.0 in /usr/local/lib/python3.10/dist-packages (from matplotlib~=3.0->cirq-core<1.4.0,>=1.0.0->mitiq) (4.53.1)\n",
            "Requirement already satisfied: kiwisolver>=1.0.1 in /usr/local/lib/python3.10/dist-packages (from matplotlib~=3.0->cirq-core<1.4.0,>=1.0.0->mitiq) (1.4.5)\n",
            "Requirement already satisfied: pillow>=6.2.0 in /usr/local/lib/python3.10/dist-packages (from matplotlib~=3.0->cirq-core<1.4.0,>=1.0.0->mitiq) (9.4.0)\n",
            "Requirement already satisfied: pyparsing>=2.3.1 in /usr/local/lib/python3.10/dist-packages (from matplotlib~=3.0->cirq-core<1.4.0,>=1.0.0->mitiq) (3.1.2)\n",
            "Requirement already satisfied: annotated-types>=0.4.0 in /usr/local/lib/python3.10/dist-packages (from pydantic>=2.5.0->qiskit-ibm-runtime->pennylane-qiskit) (0.7.0)\n",
            "Requirement already satisfied: pydantic-core==2.20.1 in /usr/local/lib/python3.10/dist-packages (from pydantic>=2.5.0->qiskit-ibm-runtime->pennylane-qiskit) (2.20.1)\n",
            "Requirement already satisfied: cryptography>=1.3 in /usr/local/lib/python3.10/dist-packages (from requests-ntlm>=1.1.0->qiskit-ibm-provider->pennylane-qiskit) (42.0.8)\n",
            "Requirement already satisfied: pyspnego>=0.4.0 in /usr/local/lib/python3.10/dist-packages (from requests-ntlm>=1.1.0->qiskit-ibm-provider->pennylane-qiskit) (0.11.1)\n",
            "Requirement already satisfied: pytz>=2020.1 in /usr/local/lib/python3.10/dist-packages (from pandas->cirq-core<1.4.0,>=1.0.0->mitiq) (2024.1)\n",
            "Requirement already satisfied: tzdata>=2022.1 in /usr/local/lib/python3.10/dist-packages (from pandas->cirq-core<1.4.0,>=1.0.0->mitiq) (2024.1)\n",
            "Requirement already satisfied: cffi>=1.12 in /usr/local/lib/python3.10/dist-packages (from cryptography>=1.3->requests-ntlm>=1.1.0->qiskit-ibm-provider->pennylane-qiskit) (1.16.0)\n",
            "Requirement already satisfied: PyJWT<3.0.0,>=2.8.0 in /usr/local/lib/python3.10/dist-packages (from ibm-cloud-sdk-core<4.0.0,>=3.20.4->ibm-platform-services>=0.22.6->qiskit-ibm-runtime->pennylane-qiskit) (2.8.0)\n",
            "Requirement already satisfied: pycparser in /usr/local/lib/python3.10/dist-packages (from cffi>=1.12->cryptography>=1.3->requests-ntlm>=1.1.0->qiskit-ibm-provider->pennylane-qiskit) (2.22)\n"
          ]
        }
      ],
      "source": [
        "!pip install pennylane qiskit pennylane-qiskit ply mitiq"
      ]
    },
    {
      "cell_type": "code",
      "execution_count": 34,
      "metadata": {
        "id": "PGpiOqJm5TXT"
      },
      "outputs": [],
      "source": [
        "import torch\n",
        "import torch.nn as nn\n",
        "import torch.optim as optim\n",
        "import pennylane as qml\n",
        "import mitiq\n",
        "import matplotlib.pyplot as plt\n",
        "import numpy as np\n",
        "from torch.utils.data import Dataset, DataLoader\n",
        "from tqdm.notebook import tqdm"
      ]
    },
    {
      "cell_type": "code",
      "execution_count": 35,
      "metadata": {
        "id": "N159-lP-5U-c",
        "colab": {
          "base_uri": "https://localhost:8080/"
        },
        "outputId": "fe38fab4-fab6-4664-9a02-6ad06ae46ab6"
      },
      "outputs": [
        {
          "output_type": "execute_result",
          "data": {
            "text/plain": [
              "<torch._C.Generator at 0x7f2d22f39510>"
            ]
          },
          "metadata": {},
          "execution_count": 35
        }
      ],
      "source": [
        "np.random.seed(42)\n",
        "torch.manual_seed(42)"
      ]
    },
    {
      "cell_type": "code",
      "execution_count": 36,
      "metadata": {
        "id": "uC1Fp9EF5YKx"
      },
      "outputs": [],
      "source": [
        "input_dim = 16\n",
        "num_qubits = 4\n",
        "reduced_dim = num_qubits\n",
        "repeats1 = 2\n",
        "repeats2 = 2\n",
        "learning_rate = 0.1\n",
        "epochs = 100\n"
      ]
    },
    {
      "cell_type": "code",
      "execution_count": 37,
      "metadata": {
        "id": "Ldv5AFSq5cuf"
      },
      "outputs": [],
      "source": [
        "device = \"cuda\" if torch.cuda.is_available() else \"cpu\""
      ]
    },
    {
      "cell_type": "code",
      "execution_count": 38,
      "metadata": {
        "id": "YfkljeeC5nWv"
      },
      "outputs": [],
      "source": [
        "# [ds] = qml.data.load(\"other\", name=\"bars-and-stripes\")\n",
        "\n",
        "# train_features = (np.sign(np.array(ds.train['4']['inputs']))+1)/2\n",
        "# train_labels =(np.array(ds.train['4']['labels']) + 1) / 2\n",
        "# test_features = (np.sign(np.array(ds.test['4']['inputs']))+1)/2\n",
        "# test_labels =(np.array(ds.test['4']['labels']) + 1) / 2"
      ]
    },
    {
      "cell_type": "markdown",
      "source": [
        " a simplified version of the MNIST handwritten digits dataset. This version involves distinguishing between digits 3 and 5 rather than the full range 0-9."
      ],
      "metadata": {
        "id": "M_YqBtAR_i_h"
      }
    },
    {
      "cell_type": "code",
      "source": [
        "# [ds] = qml.data.load(\"other\", name=\"mnist-pca\")\n",
        "\n",
        "# train_features = np.array(ds.train['16']['inputs'])\n",
        "# train_labels =(np.array(ds.train['16']['labels']) + 1) / 2\n",
        "# test_features = np.array(ds.test['16']['inputs'])\n",
        "# test_labels =(np.array(ds.test['16']['labels']) + 1) / 2"
      ],
      "metadata": {
        "id": "Vp9iffEz9Ch1"
      },
      "execution_count": 39,
      "outputs": []
    },
    {
      "cell_type": "code",
      "source": [
        "[ds] = qml.data.load(\"other\", name=\"linearly-separable\")\n",
        "\n",
        "train_features = np.array(ds.train['16']['inputs'])\n",
        "train_labels =(np.array(ds.train['16']['labels']) + 1) / 2\n",
        "test_features = np.array(ds.test['16']['inputs'])\n",
        "test_labels =(np.array(ds.test['16']['labels']) + 1) / 2"
      ],
      "metadata": {
        "id": "BDHwVLNuV3Ya"
      },
      "execution_count": 40,
      "outputs": []
    },
    {
      "cell_type": "code",
      "execution_count": 41,
      "metadata": {
        "id": "PDO3W1jIZIlL"
      },
      "outputs": [],
      "source": [
        "class BaSDataset(Dataset):\n",
        "    def __init__(self, data_x, data_y):\n",
        "        self.X = torch.tensor(data_x).float()\n",
        "        self.y = torch.tensor(data_y).float()\n",
        "\n",
        "    def __len__(self):\n",
        "        return self.X.shape[0]\n",
        "\n",
        "    def __getitem__(self, index):\n",
        "        return self.X[index], self.y[index]\n"
      ]
    },
    {
      "cell_type": "code",
      "execution_count": 42,
      "metadata": {
        "id": "dmuFu8JOcaSx"
      },
      "outputs": [],
      "source": [
        "train_dataset = BaSDataset(train_features, train_labels)\n",
        "test_dataset = BaSDataset(test_features, test_labels)"
      ]
    },
    {
      "cell_type": "code",
      "execution_count": 43,
      "metadata": {
        "id": "kZOlvd0sd-8K"
      },
      "outputs": [],
      "source": [
        "batch_size = 64\n",
        "train_dataloader = DataLoader(train_dataset, batch_size=batch_size, shuffle=True, drop_last=True, pin_memory=True)\n",
        "test_dataloader = DataLoader(test_dataset, batch_size=batch_size, shuffle=False)"
      ]
    },
    {
      "cell_type": "markdown",
      "metadata": {
        "id": "3o_dst17omf_"
      },
      "source": [
        "# Noiseless simulator"
      ]
    },
    {
      "cell_type": "code",
      "execution_count": 44,
      "metadata": {
        "id": "jVRrFsv-5ec_"
      },
      "outputs": [],
      "source": [
        "dev = qml.device(\"lightning.qubit\", wires=range(num_qubits))"
      ]
    },
    {
      "cell_type": "code",
      "execution_count": 45,
      "metadata": {
        "id": "Ite7Bv7k5ske"
      },
      "outputs": [],
      "source": [
        "# @title QDI layer\n",
        "\n",
        "def qdi_subroutine_1(params, wires):\n",
        "    for i in range(len(wires)):\n",
        "        qml.RX(params[i], wires=wires[i])\n",
        "    for j in range(len(wires)-1):\n",
        "        qml.ECR(wires=[wires[j], wires[j+1]])\n",
        "    qml.ECR(wires=[wires[len(wires)-1], wires[0]])\n",
        "    qml.Barrier()\n",
        "\n",
        "def qdi_subroutine_2(params, wires):\n",
        "    for i in range(len(wires)):\n",
        "        qml.RX(params[i], wires=wires[i])\n",
        "    for j in range(len(wires)-1):\n",
        "        qml.ECR(wires=[wires[j], wires[j+1]])\n",
        "    qml.ECR(wires=[wires[len(wires)-1], wires[0]])\n",
        "    qml.Barrier()\n",
        "\n",
        "def qdi_subroutine_3(wires):\n",
        "    for i in range(1, len(wires)):\n",
        "        qml.ECR(wires=[wires[i], wires[0]])\n",
        "    qml.Barrier()\n",
        "\n",
        "@qml.qnode(dev, interface='torch', diff_method=\"adjoint\")\n",
        "def qdi_circuit(weights, input_array):\n",
        "    qml.layer(qdi_subroutine_1, repeats1, weights[:repeats1 * num_qubits].reshape(repeats1, num_qubits), wires=range(num_qubits))\n",
        "    qml.AngleEmbedding(input_array, wires=range(num_qubits), rotation='Z')\n",
        "    qml.layer(qdi_subroutine_2, repeats2, weights[repeats1 * num_qubits:].reshape(repeats2, num_qubits), wires=range(num_qubits))\n",
        "    qml.layer(qdi_subroutine_3, 1, wires=range(num_qubits))\n",
        "    return qml.expval(qml.PauliY(0))"
      ]
    },
    {
      "cell_type": "code",
      "execution_count": 46,
      "metadata": {
        "id": "UOGGLKYcRIvu",
        "colab": {
          "base_uri": "https://localhost:8080/"
        },
        "outputId": "e2a8e544-466f-460d-eb3d-4d7bf945f99d"
      },
      "outputs": [
        {
          "output_type": "stream",
          "name": "stdout",
          "text": [
            "0: ──RX(1.00)─╭ECR───────────╭ECR──||──RX(1.00)─╭ECR───────────╭ECR──||─╭AngleEmbedding(M0)\n",
            "1: ──RX(1.00)─╰ECR─╭ECR──────│─────||──RX(1.00)─╰ECR─╭ECR──────│─────||─├AngleEmbedding(M0)\n",
            "2: ──RX(1.00)──────╰ECR─╭ECR─│─────||──RX(1.00)──────╰ECR─╭ECR─│─────||─├AngleEmbedding(M0)\n",
            "3: ──RX(1.00)───────────╰ECR─╰ECR──||──RX(1.00)───────────╰ECR─╰ECR──||─╰AngleEmbedding(M0)\n",
            "\n",
            "───RX(1.00)─╭ECR───────────╭ECR──||──RX(1.00)─╭ECR───────────╭ECR──||─╭ECR─╭ECR─╭ECR──||─┤  <Y>\n",
            "───RX(1.00)─╰ECR─╭ECR──────│─────||──RX(1.00)─╰ECR─╭ECR──────│─────||─╰ECR─│────│─────||─┤     \n",
            "───RX(1.00)──────╰ECR─╭ECR─│─────||──RX(1.00)──────╰ECR─╭ECR─│─────||──────╰ECR─│─────||─┤     \n",
            "───RX(1.00)───────────╰ECR─╰ECR──||──RX(1.00)───────────╰ECR─╰ECR──||───────────╰ECR──||─┤     \n",
            "\n",
            "M0 = \n",
            "[1. 1. 1. 1.]\n"
          ]
        }
      ],
      "source": [
        "print(qml.draw(qdi_circuit)(np.ones(((repeats1 + repeats2) * num_qubits,)), np.ones(num_qubits)))"
      ]
    },
    {
      "cell_type": "code",
      "execution_count": 47,
      "metadata": {
        "id": "CVapZNt66Ki3"
      },
      "outputs": [],
      "source": [
        "# @title EFQ layer\n",
        "def efq_subroutine_1(params, wires):\n",
        "    j = 0\n",
        "    for i in range(len(wires)):\n",
        "        qml.RY(params[i+j], wires=i)\n",
        "        qml.RZ(params[i+j+1], wires=i)\n",
        "        qml.RX(params[i+j+2], wires=i)\n",
        "        j += 2\n",
        "\n",
        "    for i in range(len(wires)):\n",
        "        qml.ECR(wires=[i, (i + 1) % len(wires)])\n",
        "\n",
        "    j = 0\n",
        "    for i in range(len(wires)):\n",
        "        qml.RY(params[3*len(wires)+i+j], wires=i)\n",
        "        qml.RZ(params[3*len(wires)+i+j+1], wires=i)\n",
        "        qml.RX(params[3*len(wires)+i+j+2], wires=i)\n",
        "        j += 2\n",
        "\n",
        "def efq_subroutine_2(input_array, wires):\n",
        "    for i in range(len(wires)):\n",
        "        qml.AngleEmbedding(2**i*input_array[i].reshape((1,)), wires=[i], rotation='Z')\n",
        "\n",
        "def efq_subroutine_3(params, wires):\n",
        "    j = 0\n",
        "    for i in range(len(wires)):\n",
        "        qml.RY(params[6*len(wires)+i+j], wires=i)\n",
        "        qml.RZ(params[6*len(wires)+i+j+1], wires=i)\n",
        "        qml.RX(params[6*len(wires)+i+j+2], wires=i)\n",
        "        j += 2\n",
        "\n",
        "    for i in range(len(wires)):\n",
        "        qml.ECR(wires=[i, (i + 1) % len(wires)])\n",
        "\n",
        "    j = 0\n",
        "    for i in range(len(wires)):\n",
        "        qml.RY(params[9*len(wires)+i+j], wires=i)\n",
        "        qml.RZ(params[9*len(wires)+i+j+1], wires=i)\n",
        "        qml.RX(params[9*len(wires)+i+j+2], wires=i)\n",
        "        j += 2\n",
        "\n",
        "def efq_subroutine_4(wires):\n",
        "    for i in range(len(wires)-1, 0, -1):\n",
        "        qml.ECR(wires=[i, 0])\n",
        "\n",
        "@qml.qnode(dev, interface=\"torch\", diff_method=\"adjoint\")\n",
        "def efq_circuit(weights, input_array):\n",
        "    qml.layer(efq_subroutine_1, 1, weights.reshape((1, 12*num_qubits)), wires=range(num_qubits))\n",
        "    qml.Barrier()\n",
        "    qml.layer(efq_subroutine_2, 1, input_array = input_array, wires=range(num_qubits))\n",
        "    qml.Barrier()\n",
        "    qml.layer(efq_subroutine_3, 1, weights.reshape((1, 12*num_qubits)), wires=range(num_qubits))\n",
        "    qml.layer(efq_subroutine_4, 1, wires=range(num_qubits))\n",
        "    return qml.expval(qml.PauliZ(0))"
      ]
    },
    {
      "cell_type": "code",
      "execution_count": 48,
      "metadata": {
        "collapsed": true,
        "id": "CpySUk9nRwNP",
        "colab": {
          "base_uri": "https://localhost:8080/"
        },
        "outputId": "678a248f-c0ad-4a8b-c9a1-175bc604a721"
      },
      "outputs": [
        {
          "output_type": "stream",
          "name": "stdout",
          "text": [
            "0: ──RY(1.00)──RZ(1.00)──RX(1.00)─╭ECR───────────╭ECR──RY(1.00)──RZ(1.00)──RX(1.00)──||\n",
            "1: ──RY(1.00)──RZ(1.00)──RX(1.00)─╰ECR─╭ECR──────│─────RY(1.00)──RZ(1.00)──RX(1.00)──||\n",
            "2: ──RY(1.00)──RZ(1.00)──RX(1.00)──────╰ECR─╭ECR─│─────RY(1.00)──RZ(1.00)──RX(1.00)──||\n",
            "3: ──RY(1.00)──RZ(1.00)──RX(1.00)───────────╰ECR─╰ECR──RY(1.00)──RZ(1.00)──RX(1.00)──||\n",
            "\n",
            "───AngleEmbedding(M0)──||──RY(1.00)──RZ(1.00)──RX(1.00)─╭ECR───────────╭ECR──RY(1.00)──RZ(1.00)\n",
            "───AngleEmbedding(M1)──||──RY(1.00)──RZ(1.00)──RX(1.00)─╰ECR─╭ECR──────│─────RY(1.00)──RZ(1.00)\n",
            "───AngleEmbedding(M2)──||──RY(1.00)──RZ(1.00)──RX(1.00)──────╰ECR─╭ECR─│─────RY(1.00)──RZ(1.00)\n",
            "───AngleEmbedding(M3)──||──RY(1.00)──RZ(1.00)──RX(1.00)───────────╰ECR─╰ECR──RY(1.00)──RZ(1.00)\n",
            "\n",
            "───RX(1.00)─╭ECR─╭ECR─╭ECR─┤  <Z>\n",
            "───RX(1.00)─│────│────╰ECR─┤     \n",
            "───RX(1.00)─│────╰ECR──────┤     \n",
            "───RX(1.00)─╰ECR───────────┤     \n",
            "\n",
            "M0 = \n",
            "tensor([1.])\n",
            "M1 = \n",
            "tensor([2.])\n",
            "M2 = \n",
            "tensor([4.])\n",
            "M3 = \n",
            "tensor([8.])\n"
          ]
        }
      ],
      "source": [
        "print(qml.draw(efq_circuit)(torch.ones((12*num_qubits,)), torch.ones(num_qubits)))"
      ]
    },
    {
      "cell_type": "code",
      "execution_count": 49,
      "metadata": {
        "id": "TjwNG_DPfAtW"
      },
      "outputs": [],
      "source": [
        "# @title PQN QDI QDI layer\n",
        "@qml.qnode(dev, interface='torch', diff_method=\"adjoint\")\n",
        "def pqn_circuit(weights, input_array):\n",
        "    qml.layer(qdi_subroutine_1, repeats1, weights[:repeats1 * num_qubits//2].reshape(repeats1, num_qubits//2), wires=[0,1])\n",
        "    qml.layer(qdi_subroutine_1, repeats1, weights[(repeats1+repeats2)*num_qubits//2:(2*repeats1+repeats2) * num_qubits//2].reshape(repeats1, num_qubits//2), wires=[2,3])\n",
        "    qml.AngleEmbedding(input_array, wires=range(num_qubits), rotation='Z')\n",
        "    qml.layer(qdi_subroutine_2, repeats2, weights[repeats1 * num_qubits//2:(repeats1+repeats2)*num_qubits//2].reshape(repeats2, num_qubits//2), wires=[0,1])\n",
        "    qml.layer(qdi_subroutine_2, repeats2, weights[(2*repeats1+repeats2) * num_qubits//2:].reshape(repeats2, num_qubits//2), wires=[2,3])\n",
        "    qml.layer(qdi_subroutine_3, 1, wires=[0, 1])\n",
        "    qml.layer(qdi_subroutine_3, 1, wires=[2, 3])\n",
        "\n",
        "\n",
        "    return [qml.expval(qml.PauliY(w)) for w in [0, 2]]"
      ]
    },
    {
      "cell_type": "code",
      "execution_count": 50,
      "metadata": {
        "id": "Z2h7AxM4iO0b",
        "colab": {
          "base_uri": "https://localhost:8080/"
        },
        "outputId": "a402a277-f8b3-4a8f-c6f3-816dc2720391"
      },
      "outputs": [
        {
          "output_type": "stream",
          "name": "stdout",
          "text": [
            "0: ──RX(1.00)─╭ECR─╭ECR──||──RX(1.00)─╭ECR─╭ECR──||──────────────────────||──────────────────────||\n",
            "1: ──RX(1.00)─╰ECR─╰ECR──||──RX(1.00)─╰ECR─╰ECR──||──────────────────────||──────────────────────||\n",
            "2: ──────────────────────||──────────────────────||──RX(1.00)─╭ECR─╭ECR──||──RX(1.00)─╭ECR─╭ECR──||\n",
            "3: ──────────────────────||──────────────────────||──RX(1.00)─╰ECR─╰ECR──||──RX(1.00)─╰ECR─╰ECR──||\n",
            "\n",
            "──╭AngleEmbedding(M0)──RX(1.00)─╭ECR─╭ECR──||──RX(1.00)─╭ECR─╭ECR──||──────────────────────||\n",
            "──├AngleEmbedding(M0)──RX(1.00)─╰ECR─╰ECR──||──RX(1.00)─╰ECR─╰ECR──||──────────────────────||\n",
            "──├AngleEmbedding(M0)──────────────────────||──────────────────────||──RX(1.00)─╭ECR─╭ECR──||\n",
            "──╰AngleEmbedding(M0)──────────────────────||──────────────────────||──RX(1.00)─╰ECR─╰ECR──||\n",
            "\n",
            "───────────────────────||─╭ECR──||───────||─┤  <Y>\n",
            "───────────────────────||─╰ECR──||───────||─┤     \n",
            "───RX(1.00)─╭ECR─╭ECR──||───────||─╭ECR──||─┤  <Y>\n",
            "───RX(1.00)─╰ECR─╰ECR──||───────||─╰ECR──||─┤     \n",
            "\n",
            "M0 = \n",
            "[1. 1. 1. 1.]\n"
          ]
        }
      ],
      "source": [
        "print(qml.draw(pqn_circuit)(np.ones(((repeats1 + repeats2) * num_qubits,)), np.ones(num_qubits)))"
      ]
    },
    {
      "cell_type": "code",
      "execution_count": 51,
      "metadata": {
        "id": "I5iScbqNcbDj"
      },
      "outputs": [],
      "source": [
        "class QDIHybridModel(nn.Module):\n",
        "    def __init__(self):\n",
        "        super(QDIHybridModel, self).__init__()\n",
        "        self.classical_layer = nn.Linear(input_dim, reduced_dim)\n",
        "        self.q_params = nn.Parameter(torch.randn((repeats1 + repeats2) * num_qubits))\n",
        "    def forward(self, x):\n",
        "        x = torch.relu(self.classical_layer(x))\n",
        "        q_out = torch.zeros(x.size(0), device=device)\n",
        "        for i in range(x.size(0)):\n",
        "            q_out[i] = qdi_circuit(self.q_params, x[i])\n",
        "        return torch.sigmoid(q_out)"
      ]
    },
    {
      "cell_type": "code",
      "execution_count": 52,
      "metadata": {
        "id": "ShE-nVFQ50Hf"
      },
      "outputs": [],
      "source": [
        "class EFQHybridModel(nn.Module):\n",
        "    def __init__(self):\n",
        "        super(EFQHybridModel, self).__init__()\n",
        "        self.classical_layer = nn.Linear(input_dim, reduced_dim)\n",
        "        self.q_params = nn.Parameter(torch.randn(12*num_qubits))\n",
        "    def forward(self, x):\n",
        "        x = torch.relu(self.classical_layer(x))\n",
        "        q_out = torch.zeros(x.size(0), device=device)\n",
        "        for i in range(x.size(0)):\n",
        "            q_out[i] = efq_circuit(self.q_params, x[i])\n",
        "        return torch.sigmoid(q_out)"
      ]
    },
    {
      "cell_type": "code",
      "execution_count": 53,
      "metadata": {
        "id": "FfUq7U9iopBS"
      },
      "outputs": [],
      "source": [
        "class PQNHybridModel(nn.Module):\n",
        "    def __init__(self):\n",
        "        super(PQNHybridModel, self).__init__()\n",
        "        self.classical_layer_1 = nn.Linear(input_dim, reduced_dim)\n",
        "        self.classical_layer_2 = nn.Linear(reduced_dim//2, 1)\n",
        "        self.q_params = nn.Parameter(torch.randn((repeats1 + repeats2) * num_qubits))\n",
        "    def forward(self, x):\n",
        "        x = torch.relu(self.classical_layer_1(x))\n",
        "        q_out = torch.zeros((x.size(0), 2), device=device)\n",
        "        for i in range(x.size(0)):\n",
        "            q_out[i] = torch.tensor(pqn_circuit(self.q_params, x[i]), device = device)\n",
        "        output = self.classical_layer_2(q_out)\n",
        "        return torch.sigmoid(output).squeeze(1)"
      ]
    },
    {
      "cell_type": "code",
      "execution_count": 54,
      "metadata": {
        "id": "0_ThLVVTeGq1"
      },
      "outputs": [],
      "source": [
        "criterion = nn.BCELoss()"
      ]
    },
    {
      "cell_type": "code",
      "execution_count": 55,
      "metadata": {
        "id": "NZZBmoNjgrgk"
      },
      "outputs": [],
      "source": [
        "def train(model, criterion, optimizer,\n",
        "          train_dataloader, test_dataloader, num_epochs):\n",
        "\n",
        "    train_losses = np.zeros(num_epochs)\n",
        "\n",
        "    test_accuracy_arr = np.zeros(num_epochs)\n",
        "\n",
        "    for i_epoch in tqdm(range(num_epochs)):\n",
        "        train_loss = 0\n",
        "        test_accuracy = 0\n",
        "\n",
        "        model.train()\n",
        "        for batch in train_dataloader:\n",
        "            X = batch[0].to(device)\n",
        "            y = batch[1].to(device)\n",
        "\n",
        "            preds = model(X)\n",
        "\n",
        "            optimizer.zero_grad()\n",
        "            loss = criterion(preds, y)\n",
        "            loss.backward()\n",
        "            optimizer.step()\n",
        "\n",
        "            train_loss += loss.detach().cpu().numpy()\n",
        "\n",
        "        train_loss /= len(train_dataloader)\n",
        "        train_losses[i_epoch] = train_loss\n",
        "\n",
        "        model.eval()\n",
        "        for batch in test_dataloader:\n",
        "            X = batch[0].to(device)\n",
        "            y = batch[1].to(device)\n",
        "\n",
        "            with torch.no_grad():\n",
        "                preds = (model(X)>0.5).float()\n",
        "                test_accuracy += (preds == y).cpu().numpy().mean()\n",
        "\n",
        "\n",
        "        test_accuracy /= len(test_dataloader)\n",
        "\n",
        "        test_accuracy_arr[i_epoch] = test_accuracy\n",
        "\n",
        "    return train_losses, test_accuracy_arr"
      ]
    },
    {
      "cell_type": "code",
      "execution_count": 56,
      "metadata": {
        "id": "7tKcnGWd54i8"
      },
      "outputs": [],
      "source": [
        "QDI_model = QDIHybridModel().to(device)\n",
        "optimizer_for_qdi = optim.Adam(QDI_model.parameters(), lr=learning_rate)"
      ]
    },
    {
      "cell_type": "code",
      "execution_count": 57,
      "metadata": {
        "id": "4Tpm4p6WgDUl"
      },
      "outputs": [],
      "source": [
        "EFQ_model = EFQHybridModel().to(device)\n",
        "optimizer_for_efq = optim.Adam(EFQ_model.parameters(), lr=learning_rate)"
      ]
    },
    {
      "cell_type": "code",
      "execution_count": 58,
      "metadata": {
        "id": "Z4Iyc3K4hG8d"
      },
      "outputs": [],
      "source": [
        "PQN_model = PQNHybridModel().to(device)\n",
        "optimizer_for_pqn = optim.Adam(PQN_model.parameters(), lr=learning_rate)"
      ]
    },
    {
      "cell_type": "code",
      "execution_count": 59,
      "metadata": {
        "id": "sxv0t7loH3zf",
        "colab": {
          "base_uri": "https://localhost:8080/",
          "height": 49,
          "referenced_widgets": [
            "70e83d60bc0f4276a7895b3624f362ff",
            "51f2236430c04146abfaf3a0b45570f9",
            "b3114ed8eb044c28a328cb01780c0398",
            "8c70ae6ae0ff4fc2ae51a99610b33ac0",
            "4afca8abc42a4f1caf8f66af77ac18b3",
            "a9ed52a31358492b83d353fcc34b7ed5",
            "73d0faed28bf4475a5e7d3e445e756e8",
            "e327e550be7b4632afbbe8f91a8f042c",
            "d72bf068153e4a3faf10095c77c312f0",
            "b1494f068bca4aeaba83da5c523dbe97",
            "cfbebf832cfa40f49aeb4f16a32af586"
          ]
        },
        "outputId": "975bc886-9bf5-47b5-b2d1-14c5bf5d0c32"
      },
      "outputs": [
        {
          "output_type": "display_data",
          "data": {
            "text/plain": [
              "  0%|          | 0/100 [00:00<?, ?it/s]"
            ],
            "application/vnd.jupyter.widget-view+json": {
              "version_major": 2,
              "version_minor": 0,
              "model_id": "70e83d60bc0f4276a7895b3624f362ff"
            }
          },
          "metadata": {}
        }
      ],
      "source": [
        "QDI_losses, \\\n",
        "    QDI_accuracies = train(QDI_model, criterion=criterion,\n",
        "                              optimizer=optimizer_for_qdi,\n",
        "                              train_dataloader=train_dataloader,\n",
        "                              test_dataloader=test_dataloader,\n",
        "                              num_epochs=epochs)"
      ]
    },
    {
      "cell_type": "code",
      "execution_count": 60,
      "metadata": {
        "id": "FXfCIiWN18r7"
      },
      "outputs": [],
      "source": [
        "# fig, ax = plt.subplots(1, 2, figsize = (15, 5))\n",
        "# # ax.set_title('Comparison of QDI, EFQ and PQN performances for noiseless case')\n",
        "\n",
        "# ax[0].plot(np.arange(1, QDI_losses.shape[0] + 1), QDI_losses, label='QDI')\n",
        "# # ax[0].plot(np.arange(1, EFQ_losses.shape[0] + 1), EFQ_losses, label='EFQ')\n",
        "# # ax[0].plot(np.arange(1, PQN_losses.shape[0] + 1), PQN_losses, label='PQN')\n",
        "# ax[0].set_xticks(np.arange(1, QDI_losses.shape[0] + 1, 4))\n",
        "# ax[0].set_xlabel('num_epoch')\n",
        "# ax[0].set_ylabel('loss')\n",
        "# ax[0].legend()\n",
        "# ax[0].grid()\n",
        "\n",
        "# ax[1].plot(np.arange(QDI_accuracies.shape[0]), QDI_accuracies,\n",
        "#            label='QDI')\n",
        "# # ax[1].plot(np.arange(EFQ_accuracies.shape[0]), EFQ_accuracies,\n",
        "# #            label='EFQ')\n",
        "# # ax[1].plot(np.arange(PQN_accuracies.shape[0]), PQN_accuracies,\n",
        "# #            label='PQN')\n",
        "# ax[1].set_xticks(np.arange(0, QDI_accuracies.shape[0], 4))\n",
        "# ax[1].set_xlabel('num_epoch')\n",
        "# ax[1].set_ylabel('accuracy')\n",
        "# ax[1].legend()\n",
        "# ax[1].grid()\n",
        "# plt.title('Comparison of performances of QDI, EFQ and PQN layers for noiseless case')\n",
        "# plt.show()"
      ]
    },
    {
      "cell_type": "code",
      "execution_count": 61,
      "metadata": {
        "collapsed": true,
        "id": "fg5UTY0OMYFA",
        "colab": {
          "base_uri": "https://localhost:8080/",
          "height": 49,
          "referenced_widgets": [
            "e82a27c238a84c0d932becb2ecb05807",
            "620e82b9f57d4a7a80626eb6418a599c",
            "c54d9a3962304030bb0d7a3d8019ad42",
            "c50dcce6c50b438bba2a8c96cb18959e",
            "407cfc1bd91d40cf8eb6d7f7373d3bb5",
            "3c719859e4124dd1bc11b63b1d2c1348",
            "6400eb4954454b83ad6e5a83af7dfb0d",
            "ab4beebb83434c35b0de008831b7d462",
            "972fa3b1a5c346c6b3b745eee1d8d465",
            "a5fdcb4dda8c42eca91bbef9a425b82b",
            "c320e25d52414c29afd8cf9414344c95"
          ]
        },
        "outputId": "5c03b7af-c954-4908-a805-e450522de271"
      },
      "outputs": [
        {
          "output_type": "display_data",
          "data": {
            "text/plain": [
              "  0%|          | 0/100 [00:00<?, ?it/s]"
            ],
            "application/vnd.jupyter.widget-view+json": {
              "version_major": 2,
              "version_minor": 0,
              "model_id": "e82a27c238a84c0d932becb2ecb05807"
            }
          },
          "metadata": {}
        }
      ],
      "source": [
        "EFQ_losses, \\\n",
        "    EFQ_accuracies = train(EFQ_model, criterion=criterion,\n",
        "                              optimizer=optimizer_for_efq,\n",
        "                              train_dataloader=train_dataloader,\n",
        "                              test_dataloader=test_dataloader,\n",
        "                              num_epochs=epochs)"
      ]
    },
    {
      "cell_type": "code",
      "execution_count": 62,
      "metadata": {
        "id": "VRYcgnRGMglq",
        "colab": {
          "base_uri": "https://localhost:8080/",
          "height": 49,
          "referenced_widgets": [
            "7fa18761a0c14dbf9345a8fc21f1b2d1",
            "04ea995d41db4228b8a11af428f031dc",
            "bdfc7b6e6f3d4560b5e69093e5afd9cb",
            "82ae1c5fd1844e2da8d05c5e94ab8dd0",
            "6ad072ecd23441eeb416b845250b49d5",
            "06d5df8ac7df41a3aa3557075cac7905",
            "868ea2780dd441e78bf3cb89ca8412a3",
            "708063c7e4274d1384d27c6dbea4b046",
            "38974dfd51564abab25c51b9e1b0ac10",
            "e21f11df95af4db690a09abcb135d0d6",
            "b40f6acb24cb41e58fb7f392c7c1c247"
          ]
        },
        "outputId": "33f62101-eb29-40a2-cc30-4843b9ef04cd"
      },
      "outputs": [
        {
          "output_type": "display_data",
          "data": {
            "text/plain": [
              "  0%|          | 0/100 [00:00<?, ?it/s]"
            ],
            "application/vnd.jupyter.widget-view+json": {
              "version_major": 2,
              "version_minor": 0,
              "model_id": "7fa18761a0c14dbf9345a8fc21f1b2d1"
            }
          },
          "metadata": {}
        }
      ],
      "source": [
        "PQN_losses, \\\n",
        "    PQN_accuracies = train(PQN_model, criterion=criterion,\n",
        "                              optimizer=optimizer_for_pqn,\n",
        "                              train_dataloader=train_dataloader,\n",
        "                              test_dataloader=test_dataloader,\n",
        "                              num_epochs=epochs)"
      ]
    },
    {
      "cell_type": "code",
      "execution_count": 65,
      "metadata": {
        "id": "Sdl0GFagmVbW",
        "colab": {
          "base_uri": "https://localhost:8080/",
          "height": 487
        },
        "outputId": "13dac3eb-a325-4a3f-cf92-0b96805bf058"
      },
      "outputs": [
        {
          "output_type": "display_data",
          "data": {
            "text/plain": [
              "<Figure size 1500x500 with 2 Axes>"
            ],
            "image/png": "[encoded data removed]"
          },
          "metadata": {}
        }
      ],
      "source": [
        "fig, ax = plt.subplots(1, 2, figsize = (15, 5))\n",
        "# ax.set_title('Comparison of QDI, EFQ and PQN performances for noiseless case')\n",
        "\n",
        "ax[0].plot(np.arange(1, QDI_losses.shape[0] + 1), QDI_losses, label='QDI')\n",
        "ax[0].plot(np.arange(1, EFQ_losses.shape[0] + 1), EFQ_losses, label='EFQ')\n",
        "ax[0].plot(np.arange(1, PQN_losses.shape[0] + 1), PQN_losses, label='PQN')\n",
        "ax[0].set_xticks(np.arange(1, QDI_losses.shape[0] + 1, 4))\n",
        "ax[0].set_xlabel('num_epoch')\n",
        "ax[0].set_ylabel('loss')\n",
        "ax[0].legend()\n",
        "ax[0].grid()\n",
        "\n",
        "ax[1].plot(np.arange(QDI_accuracies.shape[0]), QDI_accuracies,\n",
        "           label='QDI')\n",
        "ax[1].plot(np.arange(EFQ_accuracies.shape[0]), EFQ_accuracies,\n",
        "           label='EFQ')\n",
        "ax[1].plot(np.arange(PQN_accuracies.shape[0]), PQN_accuracies,\n",
        "           label='PQN')\n",
        "ax[1].set_xticks(np.arange(0, PQN_accuracies.shape[0], 4))\n",
        "ax[1].set_xlabel('num_epoch')\n",
        "ax[1].set_ylabel('accuracy')\n",
        "ax[1].legend()\n",
        "ax[1].grid()\n",
        "plt.title('Comparison of performances of QDI, EFQ and PQN layers for noiseless case')\n",
        "plt.show()"
      ]
    },
    {
      "cell_type": "markdown",
      "metadata": {
        "id": "nlFljpXQpOVh"
      },
      "source": [
        "# Simulator with noise model specific to IBM Sherbrooke"
      ]
    },
    {
      "cell_type": "code",
      "execution_count": 66,
      "metadata": {
        "id": "eq3vaGiGqZtE"
      },
      "outputs": [],
      "source": [
        "from qiskit_aer import noise\n",
        "from qiskit_ibm_runtime import QiskitRuntimeService\n",
        "from qiskit_ibm_provider import IBMProvider\n",
        "from qiskit_aer.noise import (\n",
        "    NoiseModel,\n",
        "    QuantumError,\n",
        "    ReadoutError,\n",
        "    depolarizing_error,\n",
        "    pauli_error,\n",
        "    thermal_relaxation_error,\n",
        ")\n",
        "\n",
        "IBMProvider.save_account(token='my_token',\n",
        "                         overwrite=True)\n",
        "service = QiskitRuntimeService()\n",
        "backend = service.backend(\"ibm_sherbrooke\")\n",
        "noise_model = NoiseModel.from_backend(backend)\n",
        "dev = qml.device('qiskit.aer', wires=range(num_qubits), noise_model=noise_model)"
      ]
    },
    {
      "cell_type": "code",
      "execution_count": 67,
      "metadata": {
        "id": "kaYYAErarlgy"
      },
      "outputs": [],
      "source": [
        "@qml.qnode(dev, interface='torch')\n",
        "def qdi_circuit(weights, input_array):\n",
        "    qml.layer(qdi_subroutine_1, repeats1, weights[:repeats1 * num_qubits].reshape(repeats1, num_qubits), wires=range(num_qubits))\n",
        "    qml.AngleEmbedding(input_array, wires=range(num_qubits), rotation='Z')\n",
        "    qml.layer(qdi_subroutine_2, repeats2, weights[repeats1 * num_qubits:].reshape(repeats2, num_qubits), wires=range(num_qubits))\n",
        "    qml.layer(qdi_subroutine_3, 1, wires=range(num_qubits))\n",
        "    return qml.expval(qml.PauliY(0))\n",
        "@qml.qnode(dev, interface=\"torch\")\n",
        "def efq_circuit(weights, input_array):\n",
        "    qml.layer(efq_subroutine_1, 1, weights.reshape((1, 12*num_qubits)), wires=range(num_qubits))\n",
        "    qml.Barrier()\n",
        "    qml.layer(efq_subroutine_2, 1, input_array = input_array, wires=range(num_qubits))\n",
        "    qml.Barrier()\n",
        "    qml.layer(efq_subroutine_3, 1, weights.reshape((1, 12*num_qubits)), wires=range(num_qubits))\n",
        "    qml.layer(efq_subroutine_4, 1, wires=range(num_qubits))\n",
        "    return qml.expval(qml.PauliZ(0))\n",
        "@qml.qnode(dev, interface='torch')\n",
        "def pqn_circuit(weights, input_array):\n",
        "    qml.layer(qdi_subroutine_1, repeats1, weights[:repeats1 * num_qubits//2].reshape(repeats1, num_qubits//2), wires=[0,1])\n",
        "    qml.layer(qdi_subroutine_1, repeats1, weights[(repeats1+repeats2)*num_qubits//2:(2*repeats1+repeats2) * num_qubits//2].reshape(repeats1, num_qubits//2), wires=[2,3])\n",
        "    qml.AngleEmbedding(input_array, wires=range(num_qubits), rotation='Z')\n",
        "    qml.layer(qdi_subroutine_2, repeats2, weights[repeats1 * num_qubits//2:(repeats1+repeats2)*num_qubits//2].reshape(repeats2, num_qubits//2), wires=[0,1])\n",
        "    qml.layer(qdi_subroutine_2, repeats2, weights[(2*repeats1+repeats2) * num_qubits//2:].reshape(repeats2, num_qubits//2), wires=[2,3])\n",
        "    qml.layer(qdi_subroutine_3, 1, wires=[0, 1])\n",
        "    qml.layer(qdi_subroutine_3, 1, wires=[2, 3])\n",
        "    return [qml.expval(qml.PauliY(w)) for w in [0, 2]]"
      ]
    },
    {
      "cell_type": "code",
      "execution_count": 68,
      "metadata": {
        "id": "Q9uMdeQlvSQc"
      },
      "outputs": [],
      "source": [
        "class QDIHybridModel_nsy(nn.Module):\n",
        "    def __init__(self):\n",
        "        super(QDIHybridModel_nsy, self).__init__()\n",
        "        self.classical_layer = nn.Linear(input_dim, reduced_dim)\n",
        "        self.q_params = nn.Parameter(torch.randn((repeats1 + repeats2) * num_qubits))\n",
        "    def forward(self, x):\n",
        "        x = torch.relu(self.classical_layer(x))\n",
        "        q_out = torch.zeros(x.size(0), device=device)\n",
        "        for i in range(x.size(0)):\n",
        "            q_out[i] = qdi_circuit(self.q_params, x[i])\n",
        "        return torch.sigmoid(q_out)"
      ]
    },
    {
      "cell_type": "code",
      "execution_count": 69,
      "metadata": {
        "id": "9agjU9KRvSQr"
      },
      "outputs": [],
      "source": [
        "class EFQHybridModel_nsy(nn.Module):\n",
        "    def __init__(self):\n",
        "        super(EFQHybridModel_nsy, self).__init__()\n",
        "        self.classical_layer = nn.Linear(input_dim, reduced_dim)\n",
        "        self.q_params = nn.Parameter(torch.randn(12*num_qubits))\n",
        "    def forward(self, x):\n",
        "        x = torch.relu(self.classical_layer(x))\n",
        "        q_out = torch.zeros(x.size(0), device=device)\n",
        "        for i in range(x.size(0)):\n",
        "            q_out[i] = efq_circuit(self.q_params, x[i])\n",
        "        return torch.sigmoid(q_out)"
      ]
    },
    {
      "cell_type": "code",
      "execution_count": 70,
      "metadata": {
        "id": "NEkTcuhyvSQs"
      },
      "outputs": [],
      "source": [
        "class PQNHybridModel_nsy(nn.Module):\n",
        "    def __init__(self):\n",
        "        super(PQNHybridModel_nsy, self).__init__()\n",
        "        self.classical_layer_1 = nn.Linear(input_dim, reduced_dim)\n",
        "        self.classical_layer_2 = nn.Linear(reduced_dim//2, 1)\n",
        "        self.q_params = nn.Parameter(torch.randn((repeats1 + repeats2) * num_qubits))\n",
        "    def forward(self, x):\n",
        "        x = torch.relu(self.classical_layer_1(x))\n",
        "        q_out = torch.zeros((x.size(0), 2), device=device)\n",
        "        for i in range(x.size(0)):\n",
        "            q_out[i] = torch.tensor(pqn_circuit(self.q_params, x[i]), device = device)\n",
        "        output = self.classical_layer_2(q_out)\n",
        "        return torch.sigmoid(output).squeeze(1)"
      ]
    },
    {
      "cell_type": "code",
      "execution_count": 71,
      "metadata": {
        "id": "czfTNK8GvSQt"
      },
      "outputs": [],
      "source": [
        "criterion = nn.BCELoss()\n"
      ]
    },
    {
      "cell_type": "code",
      "execution_count": 72,
      "metadata": {
        "id": "7AFPW8k6vSQt"
      },
      "outputs": [],
      "source": [
        "QDI_model_nsy = QDIHybridModel_nsy().to(device)\n",
        "optimizer_for_nsy_qdi = optim.Adam(QDI_model_nsy.parameters(), lr=learning_rate)"
      ]
    },
    {
      "cell_type": "code",
      "execution_count": 73,
      "metadata": {
        "id": "mSl7G_zPvSQu"
      },
      "outputs": [],
      "source": [
        "EFQ_model_nsy = EFQHybridModel_nsy().to(device)\n",
        "optimizer_for_nsy_efq = optim.Adam(EFQ_model_nsy.parameters(), lr=learning_rate)"
      ]
    },
    {
      "cell_type": "code",
      "execution_count": 74,
      "metadata": {
        "id": "OTrF4MVQvSQv"
      },
      "outputs": [],
      "source": [
        "PQN_model_nsy = PQNHybridModel_nsy().to(device)\n",
        "optimizer_for_nsy_pqn = optim.Adam(PQN_model_nsy.parameters(), lr=learning_rate)"
      ]
    },
    {
      "cell_type": "code",
      "execution_count": null,
      "metadata": {
        "id": "se6AVPehROwx",
        "colab": {
          "base_uri": "https://localhost:8080/",
          "height": 49,
          "referenced_widgets": [
            "da4bcce27a25414bb5422518a26324b9",
            "59e3944e5a2245edbd8ccf4ea8238971",
            "9c2a71289f2441008c4d47f7814b773c",
            "29efa8bb1aef4a028e94c54acae163e6",
            "371084e80b8a4dac809ba134e715bf07",
            "0b57e6caa6924c2cb35ffa8bc8474825",
            "7a37045f011141ff8fef2e11007833dc",
            "312bbd00fde34738b127a394c719a9c8",
            "51cc275405df42d885516de5a029b8bc",
            "30b3adb6202f4077ba4b47d5711232b1",
            "2d0c804cc4eb4bebb09bab1e3ecbf564"
          ]
        },
        "outputId": "4ab6999c-1ecc-43a9-fceb-abaa03e1a5a9"
      },
      "outputs": [
        {
          "output_type": "display_data",
          "data": {
            "text/plain": [
              "  0%|          | 0/100 [00:00<?, ?it/s]"
            ],
            "application/vnd.jupyter.widget-view+json": {
              "version_major": 2,
              "version_minor": 0,
              "model_id": "da4bcce27a25414bb5422518a26324b9"
            }
          },
          "metadata": {}
        }
      ],
      "source": [
        "QDI_losses_nsy, \\\n",
        "    QDI_accuracies_nsy = train(QDI_model_nsy, criterion=criterion,\n",
        "                              optimizer=optimizer_for_nsy_qdi,\n",
        "                              train_dataloader=train_dataloader,\n",
        "                              test_dataloader=test_dataloader,\n",
        "                              num_epochs=epochs)"
      ]
    },
    {
      "cell_type": "code",
      "execution_count": null,
      "metadata": {
        "collapsed": true,
        "id": "pyB6Hbp-ROxB"
      },
      "outputs": [],
      "source": [
        "EFQ_losses_nsy, \\\n",
        "    EFQ_accuracies_nsy = train(EFQ_model_nsy, criterion=criterion,\n",
        "                              optimizer=optimizer_for_nsy_efq,\n",
        "                              train_dataloader=train_dataloader,\n",
        "                              test_dataloader=test_dataloader,\n",
        "                              num_epochs=epochs)"
      ]
    },
    {
      "cell_type": "code",
      "execution_count": null,
      "metadata": {
        "id": "DjUNzuvDROxB"
      },
      "outputs": [],
      "source": [
        "PQN_losses_nsy, \\\n",
        "    PQN_accuracies_nsy = train(PQN_model_nsy, criterion=criterion,\n",
        "                              optimizer=optimizer_for_nsy_pqn,\n",
        "                              train_dataloader=train_dataloader,\n",
        "                              test_dataloader=test_dataloader,\n",
        "                              num_epochs=epochs)"
      ]
    },
    {
      "cell_type": "code",
      "execution_count": null,
      "metadata": {
        "id": "Eh48-NyQvSQw"
      },
      "outputs": [],
      "source": [
        "fig, ax = plt.subplots(1, 2, figsize = (15, 5))\n",
        "\n",
        "ax[0].plot(np.arange(1, QDI_losses_nsy.shape[0] + 1), QDI_losses_nsy, label='QDI')\n",
        "ax[0].plot(np.arange(1, EFQ_losses_nsy.shape[0] + 1), EFQ_losses_nsy, label='EFQ')\n",
        "ax[0].plot(np.arange(1, PQN_losses_nsy.shape[0] + 1), PQN_losses_nsy, label='PQN')\n",
        "ax[0].set_xticks(np.arange(1, QDI_losses_nsy.shape[0]+ 1, 4))\n",
        "ax[0].set_xlabel('num_epoch')\n",
        "ax[0].set_ylabel('loss')\n",
        "ax[0].legend()\n",
        "ax[0].grid()\n",
        "\n",
        "ax[1].plot(np.arange(QDI_accuracies_nsy.shape[0]), QDI_accuracies_nsy,\n",
        "           label='QDI')\n",
        "ax[1].plot(np.arange(EFQ_accuracies_nsy.shape[0]), EFQ_accuracies_nsy,\n",
        "           label='EFQ')\n",
        "ax[1].plot(np.arange(PQN_accuracies_nsy.shape[0]), PQN_accuracies_nsy,\n",
        "           label='PQN')\n",
        "ax[1].set_xticks(np.arange(0, PQN_accuracies_nsy.shape[0], 4))\n",
        "ax[1].set_xlabel('num_epoch')\n",
        "ax[1].set_ylabel('accuracy')\n",
        "ax[1].legend()\n",
        "ax[1].grid()\n",
        "plt.title('Comparison of performances of QDI, EFQ and PQN layers for noisy case')\n",
        "plt.show()"
      ]
    },
    {
      "cell_type": "code",
      "execution_count": null,
      "metadata": {
        "id": "IHxLsHdCzGrr"
      },
      "outputs": [],
      "source": [
        "fig, ax = plt.subplots(2, 3, figsize = (15, 5))\n",
        "\n",
        "ax[0, 0].plot(np.arange(1, QDI_losses.shape[0] + 1), QDI_losses, label='QDI, noiseless case')\n",
        "ax[0, 0].plot(np.arange(1, QDI_losses_nsy.shape[0] + 1), QDI_losses_nsy, label='QDI, noisy case')\n",
        "ax[0, 0].set_xticks(np.arange(1, QDI_losses_nsy.shape[0] + 1, 4))\n",
        "ax[0, 0].set_xlabel('num_epoch')\n",
        "ax[0, 0].set_ylabel('loss')\n",
        "ax[0, 0].legend()\n",
        "ax[0, 0].grid()\n",
        "\n",
        "ax[0, 1].plot(np.arange(1, EFQ_losses.shape[0] + 1), EFQ_losses, label='EFQ, noiseless case')\n",
        "ax[0, 1].plot(np.arange(1, EFQ_losses_nsy.shape[0] + 1), EFQ_losses_nsy, label='EFQ, noisy case')\n",
        "ax[0, 1].set_xticks(np.arange(1, EFQ_losses_nsy.shape[0] + 1, 4))\n",
        "ax[0, 1].set_xlabel('num_epoch')\n",
        "ax[0, 1].set_ylabel('loss')\n",
        "ax[0, 1].legend()\n",
        "ax[0, 1].grid()\n",
        "\n",
        "ax[0, 2].plot(np.arange(1, PQN_losses.shape[0] + 1), PQN_losses, label='PQN, noiseless case')\n",
        "ax[0, 2].plot(np.arange(1, PQN_losses_nsy.shape[0] + 1), PQN_losses_nsy, label='PQN, noisy case')\n",
        "ax[0, 2].set_xticks(np.arange(1, PQN_losses_nsy.shape[0]+ 1, 4))\n",
        "ax[0, 2].set_xlabel('num_epoch')\n",
        "ax[0, 2].set_ylabel('loss')\n",
        "ax[0, 2].legend()\n",
        "ax[0, 2].grid()\n",
        "\n",
        "ax[1, 0].plot(np.arange(QDI_accuracies.shape[0]), QDI_accuracies, label='QDI, noiseless case')\n",
        "ax[1, 0].plot(np.arange(QDI_accuracies_nsy.shape[0]), QDI_accuracies_nsy, label='QDI, noisy case')\n",
        "ax[1, 0].set_xticks(np.arange(0, QDI_accuracies_nsy.shape[0], 4))\n",
        "ax[1, 0].set_xlabel('num_epoch')\n",
        "ax[1, 0].set_ylabel('accuracy')\n",
        "ax[1, 0].legend()\n",
        "ax[1, 0].grid()\n",
        "\n",
        "ax[1, 1].plot(np.arange(EFQ_accuracies.shape[0]), EFQ_accuracies, label='EFQ, noiseless case')\n",
        "ax[1, 1].plot(np.arange((EFQ_accuracies_nsy)), EFQ_accuracies_nsy, label='EFQ, noisy case')\n",
        "ax[1, 1].set_xticks(np.arange(0, EFQ_accuracies_nsy.shape[0], 4))\n",
        "ax[1, 1].set_xlabel('num_epoch')\n",
        "ax[1, 1].set_ylabel('accuracy')\n",
        "ax[1, 1].legend()\n",
        "ax[1, 1].grid()\n",
        "\n",
        "ax[1, 2].plot(np.arange(PQN_accuracies.shape[0]), PQN_accuracies, label='PQN, noiseless case')\n",
        "ax[1, 2].plot(np.arange(PQN_accuracies_nsy.shape[0]), PQN_accuracies_nsy, label='PQN, noisy case')\n",
        "ax[1, 2].set_xticks(np.arange(0, PQN_accuracies_nsy.shape[0], 4))\n",
        "ax[1, 2].set_xlabel('num_epoch')\n",
        "ax[1, 2].set_ylabel('accuracy')\n",
        "ax[1, 2].legend()\n",
        "ax[1, 2].grid()\n",
        "plt.title(\"Comparison performances of layers for noiseless and noisy cases\")\n",
        "\n",
        "plt.show()"
      ]
    },
    {
      "cell_type": "markdown",
      "metadata": {
        "id": "IPR68JULtD6i"
      },
      "source": [
        "# Forward pass with the IBM Sherbrooke device"
      ]
    },
    {
      "cell_type": "code",
      "execution_count": null,
      "metadata": {
        "id": "355uskdkt2SY"
      },
      "outputs": [],
      "source": [
        "dev = qml.device(\"qiskit.ibmq\", wires=range(num_qubits), backend=backend)"
      ]
    },
    {
      "cell_type": "code",
      "execution_count": null,
      "metadata": {
        "id": "azpqLMfLyIVo"
      },
      "outputs": [],
      "source": [
        "@qml.qnode(dev, interface='torch')\n",
        "def qdi_circuit_for_ibmq(weights, input_array):\n",
        "    qml.layer(qdi_subroutine_1, repeats1, weights[:repeats1 * num_qubits].reshape(repeats1, num_qubits), wires=range(num_qubits))\n",
        "    qml.AngleEmbedding(input_array, wires=range(num_qubits), rotation='Z')\n",
        "    qml.layer(qdi_subroutine_2, repeats2, weights[repeats1 * num_qubits:].reshape(repeats2, num_qubits), wires=range(num_qubits))\n",
        "    qml.layer(qdi_subroutine_3, 1, wires=range(num_qubits))\n",
        "    return qml.expval(qml.PauliY(0))"
      ]
    },
    {
      "cell_type": "code",
      "execution_count": null,
      "metadata": {
        "id": "2DTZC0c_yXw-"
      },
      "outputs": [],
      "source": [
        "class QDIHybridModel_ibmq_unmitigated(nn.Module):\n",
        "    def __init__(self):\n",
        "        super(QDIHybridModel_ibmq_unmitigated, self).__init__()\n",
        "        self.classical_layer = nn.Linear(input_dim, reduced_dim)\n",
        "        self.q_params = nn.Parameter(torch.randn((repeats1 + repeats2) * num_qubits))\n",
        "    def forward(self, x):\n",
        "        x = torch.relu(self.classical_layer(x))\n",
        "        q_out = torch.zeros(x.size(0), device=device)\n",
        "        for i in range(x.size(0)):\n",
        "            q_out[i] = qdi_circuit_for_ibmq(self.q_params, x[i])\n",
        "        return torch.sigmoid(q_out)"
      ]
    },
    {
      "cell_type": "code",
      "execution_count": null,
      "metadata": {
        "id": "5ZtWDdNCzLPw"
      },
      "outputs": [],
      "source": [
        "QDI_model_ibmq = QDIHybridModel_ibmq_unmitigated().to(device)"
      ]
    },
    {
      "cell_type": "code",
      "execution_count": null,
      "metadata": {
        "id": "JHUOhwPusUMM"
      },
      "outputs": [],
      "source": [
        "QDI_model_ibmq.load_state_dict(QDI_model.state_dict())"
      ]
    },
    {
      "cell_type": "code",
      "execution_count": null,
      "metadata": {
        "id": "sPnqdCFBzBzr"
      },
      "outputs": [],
      "source": [
        "unmitigated_accuracy = 0\n",
        "\n",
        "QDI_model_ibmq.eval()\n",
        "for batch in test_dataloader:\n",
        "    X = batch[0].to(device)\n",
        "    y = batch[1].to(device)\n",
        "\n",
        "    with torch.no_grad():\n",
        "        preds = QDI_model_ibmq(X)\n",
        "        unmitigated_accuracy += (preds.argmax(-1) == y).cpu().numpy().mean()\n",
        "\n",
        "unmitigated_accuracy /= len(test_dataloader)\n",
        "print(f\"Unmitigated accuracy {unmitigated_accuracy:.3f}\")"
      ]
    },
    {
      "cell_type": "code",
      "execution_count": null,
      "metadata": {
        "id": "IkFDV4ik-3Rd"
      },
      "outputs": [],
      "source": [
        "from mitiq.zne.scaling import fold_global\n",
        "from mitiq.zne.inference import RichardsonFactory\n",
        "\n",
        "scale_factors = [1, 2, 3]\n",
        "noise_scale_method = fold_global\n",
        "\n",
        "mitigated_qdi_circuit = qml.transforms.mitigate_with_zne(\n",
        "    qdi_circuit_for_ibmq,\n",
        "    scale_factors,\n",
        "    noise_scale_method,\n",
        "    RichardsonFactory.extrapolate,\n",
        ")"
      ]
    },
    {
      "cell_type": "code",
      "execution_count": null,
      "metadata": {
        "id": "317FcjXL_Xed"
      },
      "outputs": [],
      "source": [
        "class QDIHybridModel_ibmq_mitigated(nn.Module):\n",
        "    def __init__(self):\n",
        "        super(QDIHybridModel_ibmq_mitigated, self).__init__()\n",
        "        self.classical_layer = nn.Linear(input_dim, reduced_dim)\n",
        "        self.q_params = nn.Parameter(torch.randn((repeats1 + repeats2) * num_qubits))\n",
        "    def forward(self, x):\n",
        "        x = torch.relu(self.classical_layer(x))\n",
        "        q_out = torch.zeros(x.size(0), device=device)\n",
        "        for i in range(x.size(0)):\n",
        "            q_out[i] = mitigated_qdi_circuit(self.q_params, x[i])\n",
        "        return torch.sigmoid(q_out)"
      ]
    },
    {
      "cell_type": "code",
      "execution_count": null,
      "metadata": {
        "id": "jwnv8jQN_k1b"
      },
      "outputs": [],
      "source": [
        "QDI_model_ibmq = QDIHybridModel_ibmq_mitigated().to(device)"
      ]
    },
    {
      "cell_type": "code",
      "execution_count": null,
      "metadata": {
        "id": "osYRn3LmtvMx"
      },
      "outputs": [],
      "source": [
        "QDI_model_ibmq.load_state_dict(QDI_model.state_dict())"
      ]
    },
    {
      "cell_type": "code",
      "execution_count": null,
      "metadata": {
        "id": "F-6jEXLv_pBo"
      },
      "outputs": [],
      "source": [
        "mitigated_accuracy = 0\n",
        "\n",
        "QDI_model_ibmq.eval()\n",
        "for batch in test_dataloader:\n",
        "    X = batch[0].to(device)\n",
        "    y = batch[1].to(device)\n",
        "\n",
        "    with torch.no_grad():\n",
        "        preds = QDI_model_ibmq(X)\n",
        "        mitigated_accuracy += (preds.argmax(-1) == y).cpu().numpy().mean()\n",
        "\n",
        "mitigated_accuracy /= len(test_dataloader)\n",
        "print(f\"Mitigated accuracy {mitigated_accuracy:.3f}\")"
      ]
    },
    {
      "cell_type": "code",
      "execution_count": null,
      "metadata": {
        "id": "zAO6r8Or_vZQ"
      },
      "outputs": [],
      "source": [
        "print(f\"Unmitigated accuracy {unmitigated_accuracy:.3f}\")\n",
        "print(f\"Mitigated accuracy {mitigated_accuracy:.3f}\")"
      ]
    }
  ],
  "metadata": {
    "accelerator": "GPU",
    "colab": {
      "gpuType": "T4",
      "provenance": [],
      "include_colab_link": true
    },
    "kernelspec": {
      "display_name": "Python 3",
      "name": "python3"
    },
    "language_info": {
      "name": "python"
    },
    "widgets": {
      "application/vnd.jupyter.widget-state+json": {
        "70e83d60bc0f4276a7895b3624f362ff": {
          "model_module": "@jupyter-widgets/controls",
          "model_name": "HBoxModel",
          "model_module_version": "1.5.0",
          "state": {
            "_dom_classes": [],
            "_model_module": "@jupyter-widgets/controls",
            "_model_module_version": "1.5.0",
            "_model_name": "HBoxModel",
            "_view_count": null,
            "_view_module": "@jupyter-widgets/controls",
            "_view_module_version": "1.5.0",
            "_view_name": "HBoxView",
            "box_style": "",
            "children": [
              "IPY_MODEL_51f2236430c04146abfaf3a0b45570f9",
              "IPY_MODEL_b3114ed8eb044c28a328cb01780c0398",
              "IPY_MODEL_8c70ae6ae0ff4fc2ae51a99610b33ac0"
            ],
            "layout": "IPY_MODEL_4afca8abc42a4f1caf8f66af77ac18b3"
          }
        },
        "51f2236430c04146abfaf3a0b45570f9": {
          "model_module": "@jupyter-widgets/controls",
          "model_name": "HTMLModel",
          "model_module_version": "1.5.0",
          "state": {
            "_dom_classes": [],
            "_model_module": "@jupyter-widgets/controls",
            "_model_module_version": "1.5.0",
            "_model_name": "HTMLModel",
            "_view_count": null,
            "_view_module": "@jupyter-widgets/controls",
            "_view_module_version": "1.5.0",
            "_view_name": "HTMLView",
            "description": "",
            "description_tooltip": null,
            "layout": "IPY_MODEL_a9ed52a31358492b83d353fcc34b7ed5",
            "placeholder": "​",
            "style": "IPY_MODEL_73d0faed28bf4475a5e7d3e445e756e8",
            "value": "100%"
          }
        },
        "b3114ed8eb044c28a328cb01780c0398": {
          "model_module": "@jupyter-widgets/controls",
          "model_name": "FloatProgressModel",
          "model_module_version": "1.5.0",
          "state": {
            "_dom_classes": [],
            "_model_module": "@jupyter-widgets/controls",
            "_model_module_version": "1.5.0",
            "_model_name": "FloatProgressModel",
            "_view_count": null,
            "_view_module": "@jupyter-widgets/controls",
            "_view_module_version": "1.5.0",
            "_view_name": "ProgressView",
            "bar_style": "success",
            "description": "",
            "description_tooltip": null,
            "layout": "IPY_MODEL_e327e550be7b4632afbbe8f91a8f042c",
            "max": 100,
            "min": 0,
            "orientation": "horizontal",
            "style": "IPY_MODEL_d72bf068153e4a3faf10095c77c312f0",
            "value": 100
          }
        },
        "8c70ae6ae0ff4fc2ae51a99610b33ac0": {
          "model_module": "@jupyter-widgets/controls",
          "model_name": "HTMLModel",
          "model_module_version": "1.5.0",
          "state": {
            "_dom_classes": [],
            "_model_module": "@jupyter-widgets/controls",
            "_model_module_version": "1.5.0",
            "_model_name": "HTMLModel",
            "_view_count": null,
            "_view_module": "@jupyter-widgets/controls",
            "_view_module_version": "1.5.0",
            "_view_name": "HTMLView",
            "description": "",
            "description_tooltip": null,
            "layout": "IPY_MODEL_b1494f068bca4aeaba83da5c523dbe97",
            "placeholder": "​",
            "style": "IPY_MODEL_cfbebf832cfa40f49aeb4f16a32af586",
            "value": " 100/100 [04:20&lt;00:00,  2.50s/it]"
          }
        },
        "4afca8abc42a4f1caf8f66af77ac18b3": {
          "model_module": "@jupyter-widgets/base",
          "model_name": "LayoutModel",
          "model_module_version": "1.2.0",
          "state": {
            "_model_module": "@jupyter-widgets/base",
            "_model_module_version": "1.2.0",
            "_model_name": "LayoutModel",
            "_view_count": null,
            "_view_module": "@jupyter-widgets/base",
            "_view_module_version": "1.2.0",
            "_view_name": "LayoutView",
            "align_content": null,
            "align_items": null,
            "align_self": null,
            "border": null,
            "bottom": null,
            "display": null,
            "flex": null,
            "flex_flow": null,
            "grid_area": null,
            "grid_auto_columns": null,
            "grid_auto_flow": null,
            "grid_auto_rows": null,
            "grid_column": null,
            "grid_gap": null,
            "grid_row": null,
            "grid_template_areas": null,
            "grid_template_columns": null,
            "grid_template_rows": null,
            "height": null,
            "justify_content": null,
            "justify_items": null,
            "left": null,
            "margin": null,
            "max_height": null,
            "max_width": null,
            "min_height": null,
            "min_width": null,
            "object_fit": null,
            "object_position": null,
            "order": null,
            "overflow": null,
            "overflow_x": null,
            "overflow_y": null,
            "padding": null,
            "right": null,
            "top": null,
            "visibility": null,
            "width": null
          }
        },
        "a9ed52a31358492b83d353fcc34b7ed5": {
          "model_module": "@jupyter-widgets/base",
          "model_name": "LayoutModel",
          "model_module_version": "1.2.0",
          "state": {
            "_model_module": "@jupyter-widgets/base",
            "_model_module_version": "1.2.0",
            "_model_name": "LayoutModel",
            "_view_count": null,
            "_view_module": "@jupyter-widgets/base",
            "_view_module_version": "1.2.0",
            "_view_name": "LayoutView",
            "align_content": null,
            "align_items": null,
            "align_self": null,
            "border": null,
            "bottom": null,
            "display": null,
            "flex": null,
            "flex_flow": null,
            "grid_area": null,
            "grid_auto_columns": null,
            "grid_auto_flow": null,
            "grid_auto_rows": null,
            "grid_column": null,
            "grid_gap": null,
            "grid_row": null,
            "grid_template_areas": null,
            "grid_template_columns": null,
            "grid_template_rows": null,
            "height": null,
            "justify_content": null,
            "justify_items": null,
            "left": null,
            "margin": null,
            "max_height": null,
            "max_width": null,
            "min_height": null,
            "min_width": null,
            "object_fit": null,
            "object_position": null,
            "order": null,
            "overflow": null,
            "overflow_x": null,
            "overflow_y": null,
            "padding": null,
            "right": null,
            "top": null,
            "visibility": null,
            "width": null
          }
        },
        "73d0faed28bf4475a5e7d3e445e756e8": {
          "model_module": "@jupyter-widgets/controls",
          "model_name": "DescriptionStyleModel",
          "model_module_version": "1.5.0",
          "state": {
            "_model_module": "@jupyter-widgets/controls",
            "_model_module_version": "1.5.0",
            "_model_name": "DescriptionStyleModel",
            "_view_count": null,
            "_view_module": "@jupyter-widgets/base",
            "_view_module_version": "1.2.0",
            "_view_name": "StyleView",
            "description_width": ""
          }
        },
        "e327e550be7b4632afbbe8f91a8f042c": {
          "model_module": "@jupyter-widgets/base",
          "model_name": "LayoutModel",
          "model_module_version": "1.2.0",
          "state": {
            "_model_module": "@jupyter-widgets/base",
            "_model_module_version": "1.2.0",
            "_model_name": "LayoutModel",
            "_view_count": null,
            "_view_module": "@jupyter-widgets/base",
            "_view_module_version": "1.2.0",
            "_view_name": "LayoutView",
            "align_content": null,
            "align_items": null,
            "align_self": null,
            "border": null,
            "bottom": null,
            "display": null,
            "flex": null,
            "flex_flow": null,
            "grid_area": null,
            "grid_auto_columns": null,
            "grid_auto_flow": null,
            "grid_auto_rows": null,
            "grid_column": null,
            "grid_gap": null,
            "grid_row": null,
            "grid_template_areas": null,
            "grid_template_columns": null,
            "grid_template_rows": null,
            "height": null,
            "justify_content": null,
            "justify_items": null,
            "left": null,
            "margin": null,
            "max_height": null,
            "max_width": null,
            "min_height": null,
            "min_width": null,
            "object_fit": null,
            "object_position": null,
            "order": null,
            "overflow": null,
            "overflow_x": null,
            "overflow_y": null,
            "padding": null,
            "right": null,
            "top": null,
            "visibility": null,
            "width": null
          }
        },
        "d72bf068153e4a3faf10095c77c312f0": {
          "model_module": "@jupyter-widgets/controls",
          "model_name": "ProgressStyleModel",
          "model_module_version": "1.5.0",
          "state": {
            "_model_module": "@jupyter-widgets/controls",
            "_model_module_version": "1.5.0",
            "_model_name": "ProgressStyleModel",
            "_view_count": null,
            "_view_module": "@jupyter-widgets/base",
            "_view_module_version": "1.2.0",
            "_view_name": "StyleView",
            "bar_color": null,
            "description_width": ""
          }
        },
        "b1494f068bca4aeaba83da5c523dbe97": {
          "model_module": "@jupyter-widgets/base",
          "model_name": "LayoutModel",
          "model_module_version": "1.2.0",
          "state": {
            "_model_module": "@jupyter-widgets/base",
            "_model_module_version": "1.2.0",
            "_model_name": "LayoutModel",
            "_view_count": null,
            "_view_module": "@jupyter-widgets/base",
            "_view_module_version": "1.2.0",
            "_view_name": "LayoutView",
            "align_content": null,
            "align_items": null,
            "align_self": null,
            "border": null,
            "bottom": null,
            "display": null,
            "flex": null,
            "flex_flow": null,
            "grid_area": null,
            "grid_auto_columns": null,
            "grid_auto_flow": null,
            "grid_auto_rows": null,
            "grid_column": null,
            "grid_gap": null,
            "grid_row": null,
            "grid_template_areas": null,
            "grid_template_columns": null,
            "grid_template_rows": null,
            "height": null,
            "justify_content": null,
            "justify_items": null,
            "left": null,
            "margin": null,
            "max_height": null,
            "max_width": null,
            "min_height": null,
            "min_width": null,
            "object_fit": null,
            "object_position": null,
            "order": null,
            "overflow": null,
            "overflow_x": null,
            "overflow_y": null,
            "padding": null,
            "right": null,
            "top": null,
            "visibility": null,
            "width": null
          }
        },
        "cfbebf832cfa40f49aeb4f16a32af586": {
          "model_module": "@jupyter-widgets/controls",
          "model_name": "DescriptionStyleModel",
          "model_module_version": "1.5.0",
          "state": {
            "_model_module": "@jupyter-widgets/controls",
            "_model_module_version": "1.5.0",
            "_model_name": "DescriptionStyleModel",
            "_view_count": null,
            "_view_module": "@jupyter-widgets/base",
            "_view_module_version": "1.2.0",
            "_view_name": "StyleView",
            "description_width": ""
          }
        },
        "e82a27c238a84c0d932becb2ecb05807": {
          "model_module": "@jupyter-widgets/controls",
          "model_name": "HBoxModel",
          "model_module_version": "1.5.0",
          "state": {
            "_dom_classes": [],
            "_model_module": "@jupyter-widgets/controls",
            "_model_module_version": "1.5.0",
            "_model_name": "HBoxModel",
            "_view_count": null,
            "_view_module": "@jupyter-widgets/controls",
            "_view_module_version": "1.5.0",
            "_view_name": "HBoxView",
            "box_style": "",
            "children": [
              "IPY_MODEL_620e82b9f57d4a7a80626eb6418a599c",
              "IPY_MODEL_c54d9a3962304030bb0d7a3d8019ad42",
              "IPY_MODEL_c50dcce6c50b438bba2a8c96cb18959e"
            ],
            "layout": "IPY_MODEL_407cfc1bd91d40cf8eb6d7f7373d3bb5"
          }
        },
        "620e82b9f57d4a7a80626eb6418a599c": {
          "model_module": "@jupyter-widgets/controls",
          "model_name": "HTMLModel",
          "model_module_version": "1.5.0",
          "state": {
            "_dom_classes": [],
            "_model_module": "@jupyter-widgets/controls",
            "_model_module_version": "1.5.0",
            "_model_name": "HTMLModel",
            "_view_count": null,
            "_view_module": "@jupyter-widgets/controls",
            "_view_module_version": "1.5.0",
            "_view_name": "HTMLView",
            "description": "",
            "description_tooltip": null,
            "layout": "IPY_MODEL_3c719859e4124dd1bc11b63b1d2c1348",
            "placeholder": "​",
            "style": "IPY_MODEL_6400eb4954454b83ad6e5a83af7dfb0d",
            "value": "100%"
          }
        },
        "c54d9a3962304030bb0d7a3d8019ad42": {
          "model_module": "@jupyter-widgets/controls",
          "model_name": "FloatProgressModel",
          "model_module_version": "1.5.0",
          "state": {
            "_dom_classes": [],
            "_model_module": "@jupyter-widgets/controls",
            "_model_module_version": "1.5.0",
            "_model_name": "FloatProgressModel",
            "_view_count": null,
            "_view_module": "@jupyter-widgets/controls",
            "_view_module_version": "1.5.0",
            "_view_name": "ProgressView",
            "bar_style": "success",
            "description": "",
            "description_tooltip": null,
            "layout": "IPY_MODEL_ab4beebb83434c35b0de008831b7d462",
            "max": 100,
            "min": 0,
            "orientation": "horizontal",
            "style": "IPY_MODEL_972fa3b1a5c346c6b3b745eee1d8d465",
            "value": 100
          }
        },
        "c50dcce6c50b438bba2a8c96cb18959e": {
          "model_module": "@jupyter-widgets/controls",
          "model_name": "HTMLModel",
          "model_module_version": "1.5.0",
          "state": {
            "_dom_classes": [],
            "_model_module": "@jupyter-widgets/controls",
            "_model_module_version": "1.5.0",
            "_model_name": "HTMLModel",
            "_view_count": null,
            "_view_module": "@jupyter-widgets/controls",
            "_view_module_version": "1.5.0",
            "_view_name": "HTMLView",
            "description": "",
            "description_tooltip": null,
            "layout": "IPY_MODEL_a5fdcb4dda8c42eca91bbef9a425b82b",
            "placeholder": "​",
            "style": "IPY_MODEL_c320e25d52414c29afd8cf9414344c95",
            "value": " 100/100 [07:23&lt;00:00,  4.26s/it]"
          }
        },
        "407cfc1bd91d40cf8eb6d7f7373d3bb5": {
          "model_module": "@jupyter-widgets/base",
          "model_name": "LayoutModel",
          "model_module_version": "1.2.0",
          "state": {
            "_model_module": "@jupyter-widgets/base",
            "_model_module_version": "1.2.0",
            "_model_name": "LayoutModel",
            "_view_count": null,
            "_view_module": "@jupyter-widgets/base",
            "_view_module_version": "1.2.0",
            "_view_name": "LayoutView",
            "align_content": null,
            "align_items": null,
            "align_self": null,
            "border": null,
            "bottom": null,
            "display": null,
            "flex": null,
            "flex_flow": null,
            "grid_area": null,
            "grid_auto_columns": null,
            "grid_auto_flow": null,
            "grid_auto_rows": null,
            "grid_column": null,
            "grid_gap": null,
            "grid_row": null,
            "grid_template_areas": null,
            "grid_template_columns": null,
            "grid_template_rows": null,
            "height": null,
            "justify_content": null,
            "justify_items": null,
            "left": null,
            "margin": null,
            "max_height": null,
            "max_width": null,
            "min_height": null,
            "min_width": null,
            "object_fit": null,
            "object_position": null,
            "order": null,
            "overflow": null,
            "overflow_x": null,
            "overflow_y": null,
            "padding": null,
            "right": null,
            "top": null,
            "visibility": null,
            "width": null
          }
        },
        "3c719859e4124dd1bc11b63b1d2c1348": {
          "model_module": "@jupyter-widgets/base",
          "model_name": "LayoutModel",
          "model_module_version": "1.2.0",
          "state": {
            "_model_module": "@jupyter-widgets/base",
            "_model_module_version": "1.2.0",
            "_model_name": "LayoutModel",
            "_view_count": null,
            "_view_module": "@jupyter-widgets/base",
            "_view_module_version": "1.2.0",
            "_view_name": "LayoutView",
            "align_content": null,
            "align_items": null,
            "align_self": null,
            "border": null,
            "bottom": null,
            "display": null,
            "flex": null,
            "flex_flow": null,
            "grid_area": null,
            "grid_auto_columns": null,
            "grid_auto_flow": null,
            "grid_auto_rows": null,
            "grid_column": null,
            "grid_gap": null,
            "grid_row": null,
            "grid_template_areas": null,
            "grid_template_columns": null,
            "grid_template_rows": null,
            "height": null,
            "justify_content": null,
            "justify_items": null,
            "left": null,
            "margin": null,
            "max_height": null,
            "max_width": null,
            "min_height": null,
            "min_width": null,
            "object_fit": null,
            "object_position": null,
            "order": null,
            "overflow": null,
            "overflow_x": null,
            "overflow_y": null,
            "padding": null,
            "right": null,
            "top": null,
            "visibility": null,
            "width": null
          }
        },
        "6400eb4954454b83ad6e5a83af7dfb0d": {
          "model_module": "@jupyter-widgets/controls",
          "model_name": "DescriptionStyleModel",
          "model_module_version": "1.5.0",
          "state": {
            "_model_module": "@jupyter-widgets/controls",
            "_model_module_version": "1.5.0",
            "_model_name": "DescriptionStyleModel",
            "_view_count": null,
            "_view_module": "@jupyter-widgets/base",
            "_view_module_version": "1.2.0",
            "_view_name": "StyleView",
            "description_width": ""
          }
        },
        "ab4beebb83434c35b0de008831b7d462": {
          "model_module": "@jupyter-widgets/base",
          "model_name": "LayoutModel",
          "model_module_version": "1.2.0",
          "state": {
            "_model_module": "@jupyter-widgets/base",
            "_model_module_version": "1.2.0",
            "_model_name": "LayoutModel",
            "_view_count": null,
            "_view_module": "@jupyter-widgets/base",
            "_view_module_version": "1.2.0",
            "_view_name": "LayoutView",
            "align_content": null,
            "align_items": null,
            "align_self": null,
            "border": null,
            "bottom": null,
            "display": null,
            "flex": null,
            "flex_flow": null,
            "grid_area": null,
            "grid_auto_columns": null,
            "grid_auto_flow": null,
            "grid_auto_rows": null,
            "grid_column": null,
            "grid_gap": null,
            "grid_row": null,
            "grid_template_areas": null,
            "grid_template_columns": null,
            "grid_template_rows": null,
            "height": null,
            "justify_content": null,
            "justify_items": null,
            "left": null,
            "margin": null,
            "max_height": null,
            "max_width": null,
            "min_height": null,
            "min_width": null,
            "object_fit": null,
            "object_position": null,
            "order": null,
            "overflow": null,
            "overflow_x": null,
            "overflow_y": null,
            "padding": null,
            "right": null,
            "top": null,
            "visibility": null,
            "width": null
          }
        },
        "972fa3b1a5c346c6b3b745eee1d8d465": {
          "model_module": "@jupyter-widgets/controls",
          "model_name": "ProgressStyleModel",
          "model_module_version": "1.5.0",
          "state": {
            "_model_module": "@jupyter-widgets/controls",
            "_model_module_version": "1.5.0",
            "_model_name": "ProgressStyleModel",
            "_view_count": null,
            "_view_module": "@jupyter-widgets/base",
            "_view_module_version": "1.2.0",
            "_view_name": "StyleView",
            "bar_color": null,
            "description_width": ""
          }
        },
        "a5fdcb4dda8c42eca91bbef9a425b82b": {
          "model_module": "@jupyter-widgets/base",
          "model_name": "LayoutModel",
          "model_module_version": "1.2.0",
          "state": {
            "_model_module": "@jupyter-widgets/base",
            "_model_module_version": "1.2.0",
            "_model_name": "LayoutModel",
            "_view_count": null,
            "_view_module": "@jupyter-widgets/base",
            "_view_module_version": "1.2.0",
            "_view_name": "LayoutView",
            "align_content": null,
            "align_items": null,
            "align_self": null,
            "border": null,
            "bottom": null,
            "display": null,
            "flex": null,
            "flex_flow": null,
            "grid_area": null,
            "grid_auto_columns": null,
            "grid_auto_flow": null,
            "grid_auto_rows": null,
            "grid_column": null,
            "grid_gap": null,
            "grid_row": null,
            "grid_template_areas": null,
            "grid_template_columns": null,
            "grid_template_rows": null,
            "height": null,
            "justify_content": null,
            "justify_items": null,
            "left": null,
            "margin": null,
            "max_height": null,
            "max_width": null,
            "min_height": null,
            "min_width": null,
            "object_fit": null,
            "object_position": null,
            "order": null,
            "overflow": null,
            "overflow_x": null,
            "overflow_y": null,
            "padding": null,
            "right": null,
            "top": null,
            "visibility": null,
            "width": null
          }
        },
        "c320e25d52414c29afd8cf9414344c95": {
          "model_module": "@jupyter-widgets/controls",
          "model_name": "DescriptionStyleModel",
          "model_module_version": "1.5.0",
          "state": {
            "_model_module": "@jupyter-widgets/controls",
            "_model_module_version": "1.5.0",
            "_model_name": "DescriptionStyleModel",
            "_view_count": null,
            "_view_module": "@jupyter-widgets/base",
            "_view_module_version": "1.2.0",
            "_view_name": "StyleView",
            "description_width": ""
          }
        },
        "7fa18761a0c14dbf9345a8fc21f1b2d1": {
          "model_module": "@jupyter-widgets/controls",
          "model_name": "HBoxModel",
          "model_module_version": "1.5.0",
          "state": {
            "_dom_classes": [],
            "_model_module": "@jupyter-widgets/controls",
            "_model_module_version": "1.5.0",
            "_model_name": "HBoxModel",
            "_view_count": null,
            "_view_module": "@jupyter-widgets/controls",
            "_view_module_version": "1.5.0",
            "_view_name": "HBoxView",
            "box_style": "",
            "children": [
              "IPY_MODEL_04ea995d41db4228b8a11af428f031dc",
              "IPY_MODEL_bdfc7b6e6f3d4560b5e69093e5afd9cb",
              "IPY_MODEL_82ae1c5fd1844e2da8d05c5e94ab8dd0"
            ],
            "layout": "IPY_MODEL_6ad072ecd23441eeb416b845250b49d5"
          }
        },
        "04ea995d41db4228b8a11af428f031dc": {
          "model_module": "@jupyter-widgets/controls",
          "model_name": "HTMLModel",
          "model_module_version": "1.5.0",
          "state": {
            "_dom_classes": [],
            "_model_module": "@jupyter-widgets/controls",
            "_model_module_version": "1.5.0",
            "_model_name": "HTMLModel",
            "_view_count": null,
            "_view_module": "@jupyter-widgets/controls",
            "_view_module_version": "1.5.0",
            "_view_name": "HTMLView",
            "description": "",
            "description_tooltip": null,
            "layout": "IPY_MODEL_06d5df8ac7df41a3aa3557075cac7905",
            "placeholder": "​",
            "style": "IPY_MODEL_868ea2780dd441e78bf3cb89ca8412a3",
            "value": "100%"
          }
        },
        "bdfc7b6e6f3d4560b5e69093e5afd9cb": {
          "model_module": "@jupyter-widgets/controls",
          "model_name": "FloatProgressModel",
          "model_module_version": "1.5.0",
          "state": {
            "_dom_classes": [],
            "_model_module": "@jupyter-widgets/controls",
            "_model_module_version": "1.5.0",
            "_model_name": "FloatProgressModel",
            "_view_count": null,
            "_view_module": "@jupyter-widgets/controls",
            "_view_module_version": "1.5.0",
            "_view_name": "ProgressView",
            "bar_style": "success",
            "description": "",
            "description_tooltip": null,
            "layout": "IPY_MODEL_708063c7e4274d1384d27c6dbea4b046",
            "max": 100,
            "min": 0,
            "orientation": "horizontal",
            "style": "IPY_MODEL_38974dfd51564abab25c51b9e1b0ac10",
            "value": 100
          }
        },
        "82ae1c5fd1844e2da8d05c5e94ab8dd0": {
          "model_module": "@jupyter-widgets/controls",
          "model_name": "HTMLModel",
          "model_module_version": "1.5.0",
          "state": {
            "_dom_classes": [],
            "_model_module": "@jupyter-widgets/controls",
            "_model_module_version": "1.5.0",
            "_model_name": "HTMLModel",
            "_view_count": null,
            "_view_module": "@jupyter-widgets/controls",
            "_view_module_version": "1.5.0",
            "_view_name": "HTMLView",
            "description": "",
            "description_tooltip": null,
            "layout": "IPY_MODEL_e21f11df95af4db690a09abcb135d0d6",
            "placeholder": "​",
            "style": "IPY_MODEL_b40f6acb24cb41e58fb7f392c7c1c247",
            "value": " 100/100 [02:36&lt;00:00,  1.48s/it]"
          }
        },
        "6ad072ecd23441eeb416b845250b49d5": {
          "model_module": "@jupyter-widgets/base",
          "model_name": "LayoutModel",
          "model_module_version": "1.2.0",
          "state": {
            "_model_module": "@jupyter-widgets/base",
            "_model_module_version": "1.2.0",
            "_model_name": "LayoutModel",
            "_view_count": null,
            "_view_module": "@jupyter-widgets/base",
            "_view_module_version": "1.2.0",
            "_view_name": "LayoutView",
            "align_content": null,
            "align_items": null,
            "align_self": null,
            "border": null,
            "bottom": null,
            "display": null,
            "flex": null,
            "flex_flow": null,
            "grid_area": null,
            "grid_auto_columns": null,
            "grid_auto_flow": null,
            "grid_auto_rows": null,
            "grid_column": null,
            "grid_gap": null,
            "grid_row": null,
            "grid_template_areas": null,
            "grid_template_columns": null,
            "grid_template_rows": null,
            "height": null,
            "justify_content": null,
            "justify_items": null,
            "left": null,
            "margin": null,
            "max_height": null,
            "max_width": null,
            "min_height": null,
            "min_width": null,
            "object_fit": null,
            "object_position": null,
            "order": null,
            "overflow": null,
            "overflow_x": null,
            "overflow_y": null,
            "padding": null,
            "right": null,
            "top": null,
            "visibility": null,
            "width": null
          }
        },
        "06d5df8ac7df41a3aa3557075cac7905": {
          "model_module": "@jupyter-widgets/base",
          "model_name": "LayoutModel",
          "model_module_version": "1.2.0",
          "state": {
            "_model_module": "@jupyter-widgets/base",
            "_model_module_version": "1.2.0",
            "_model_name": "LayoutModel",
            "_view_count": null,
            "_view_module": "@jupyter-widgets/base",
            "_view_module_version": "1.2.0",
            "_view_name": "LayoutView",
            "align_content": null,
            "align_items": null,
            "align_self": null,
            "border": null,
            "bottom": null,
            "display": null,
            "flex": null,
            "flex_flow": null,
            "grid_area": null,
            "grid_auto_columns": null,
            "grid_auto_flow": null,
            "grid_auto_rows": null,
            "grid_column": null,
            "grid_gap": null,
            "grid_row": null,
            "grid_template_areas": null,
            "grid_template_columns": null,
            "grid_template_rows": null,
            "height": null,
            "justify_content": null,
            "justify_items": null,
            "left": null,
            "margin": null,
            "max_height": null,
            "max_width": null,
            "min_height": null,
            "min_width": null,
            "object_fit": null,
            "object_position": null,
            "order": null,
            "overflow": null,
            "overflow_x": null,
            "overflow_y": null,
            "padding": null,
            "right": null,
            "top": null,
            "visibility": null,
            "width": null
          }
        },
        "868ea2780dd441e78bf3cb89ca8412a3": {
          "model_module": "@jupyter-widgets/controls",
          "model_name": "DescriptionStyleModel",
          "model_module_version": "1.5.0",
          "state": {
            "_model_module": "@jupyter-widgets/controls",
            "_model_module_version": "1.5.0",
            "_model_name": "DescriptionStyleModel",
            "_view_count": null,
            "_view_module": "@jupyter-widgets/base",
            "_view_module_version": "1.2.0",
            "_view_name": "StyleView",
            "description_width": ""
          }
        },
        "708063c7e4274d1384d27c6dbea4b046": {
          "model_module": "@jupyter-widgets/base",
          "model_name": "LayoutModel",
          "model_module_version": "1.2.0",
          "state": {
            "_model_module": "@jupyter-widgets/base",
            "_model_module_version": "1.2.0",
            "_model_name": "LayoutModel",
            "_view_count": null,
            "_view_module": "@jupyter-widgets/base",
            "_view_module_version": "1.2.0",
            "_view_name": "LayoutView",
            "align_content": null,
            "align_items": null,
            "align_self": null,
            "border": null,
            "bottom": null,
            "display": null,
            "flex": null,
            "flex_flow": null,
            "grid_area": null,
            "grid_auto_columns": null,
            "grid_auto_flow": null,
            "grid_auto_rows": null,
            "grid_column": null,
            "grid_gap": null,
            "grid_row": null,
            "grid_template_areas": null,
            "grid_template_columns": null,
            "grid_template_rows": null,
            "height": null,
            "justify_content": null,
            "justify_items": null,
            "left": null,
            "margin": null,
            "max_height": null,
            "max_width": null,
            "min_height": null,
            "min_width": null,
            "object_fit": null,
            "object_position": null,
            "order": null,
            "overflow": null,
            "overflow_x": null,
            "overflow_y": null,
            "padding": null,
            "right": null,
            "top": null,
            "visibility": null,
            "width": null
          }
        },
        "38974dfd51564abab25c51b9e1b0ac10": {
          "model_module": "@jupyter-widgets/controls",
          "model_name": "ProgressStyleModel",
          "model_module_version": "1.5.0",
          "state": {
            "_model_module": "@jupyter-widgets/controls",
            "_model_module_version": "1.5.0",
            "_model_name": "ProgressStyleModel",
            "_view_count": null,
            "_view_module": "@jupyter-widgets/base",
            "_view_module_version": "1.2.0",
            "_view_name": "StyleView",
            "bar_color": null,
            "description_width": ""
          }
        },
        "e21f11df95af4db690a09abcb135d0d6": {
          "model_module": "@jupyter-widgets/base",
          "model_name": "LayoutModel",
          "model_module_version": "1.2.0",
          "state": {
            "_model_module": "@jupyter-widgets/base",
            "_model_module_version": "1.2.0",
            "_model_name": "LayoutModel",
            "_view_count": null,
            "_view_module": "@jupyter-widgets/base",
            "_view_module_version": "1.2.0",
            "_view_name": "LayoutView",
            "align_content": null,
            "align_items": null,
            "align_self": null,
            "border": null,
            "bottom": null,
            "display": null,
            "flex": null,
            "flex_flow": null,
            "grid_area": null,
            "grid_auto_columns": null,
            "grid_auto_flow": null,
            "grid_auto_rows": null,
            "grid_column": null,
            "grid_gap": null,
            "grid_row": null,
            "grid_template_areas": null,
            "grid_template_columns": null,
            "grid_template_rows": null,
            "height": null,
            "justify_content": null,
            "justify_items": null,
            "left": null,
            "margin": null,
            "max_height": null,
            "max_width": null,
            "min_height": null,
            "min_width": null,
            "object_fit": null,
            "object_position": null,
            "order": null,
            "overflow": null,
            "overflow_x": null,
            "overflow_y": null,
            "padding": null,
            "right": null,
            "top": null,
            "visibility": null,
            "width": null
          }
        },
        "b40f6acb24cb41e58fb7f392c7c1c247": {
          "model_module": "@jupyter-widgets/controls",
          "model_name": "DescriptionStyleModel",
          "model_module_version": "1.5.0",
          "state": {
            "_model_module": "@jupyter-widgets/controls",
            "_model_module_version": "1.5.0",
            "_model_name": "DescriptionStyleModel",
            "_view_count": null,
            "_view_module": "@jupyter-widgets/base",
            "_view_module_version": "1.2.0",
            "_view_name": "StyleView",
            "description_width": ""
          }
        },
        "da4bcce27a25414bb5422518a26324b9": {
          "model_module": "@jupyter-widgets/controls",
          "model_name": "HBoxModel",
          "model_module_version": "1.5.0",
          "state": {
            "_dom_classes": [],
            "_model_module": "@jupyter-widgets/controls",
            "_model_module_version": "1.5.0",
            "_model_name": "HBoxModel",
            "_view_count": null,
            "_view_module": "@jupyter-widgets/controls",
            "_view_module_version": "1.5.0",
            "_view_name": "HBoxView",
            "box_style": "",
            "children": [
              "IPY_MODEL_59e3944e5a2245edbd8ccf4ea8238971",
              "IPY_MODEL_9c2a71289f2441008c4d47f7814b773c",
              "IPY_MODEL_29efa8bb1aef4a028e94c54acae163e6"
            ],
            "layout": "IPY_MODEL_371084e80b8a4dac809ba134e715bf07"
          }
        },
        "59e3944e5a2245edbd8ccf4ea8238971": {
          "model_module": "@jupyter-widgets/controls",
          "model_name": "HTMLModel",
          "model_module_version": "1.5.0",
          "state": {
            "_dom_classes": [],
            "_model_module": "@jupyter-widgets/controls",
            "_model_module_version": "1.5.0",
            "_model_name": "HTMLModel",
            "_view_count": null,
            "_view_module": "@jupyter-widgets/controls",
            "_view_module_version": "1.5.0",
            "_view_name": "HTMLView",
            "description": "",
            "description_tooltip": null,
            "layout": "IPY_MODEL_0b57e6caa6924c2cb35ffa8bc8474825",
            "placeholder": "​",
            "style": "IPY_MODEL_7a37045f011141ff8fef2e11007833dc",
            "value": "  0%"
          }
        },
        "9c2a71289f2441008c4d47f7814b773c": {
          "model_module": "@jupyter-widgets/controls",
          "model_name": "FloatProgressModel",
          "model_module_version": "1.5.0",
          "state": {
            "_dom_classes": [],
            "_model_module": "@jupyter-widgets/controls",
            "_model_module_version": "1.5.0",
            "_model_name": "FloatProgressModel",
            "_view_count": null,
            "_view_module": "@jupyter-widgets/controls",
            "_view_module_version": "1.5.0",
            "_view_name": "ProgressView",
            "bar_style": "",
            "description": "",
            "description_tooltip": null,
            "layout": "IPY_MODEL_312bbd00fde34738b127a394c719a9c8",
            "max": 100,
            "min": 0,
            "orientation": "horizontal",
            "style": "IPY_MODEL_51cc275405df42d885516de5a029b8bc",
            "value": 0
          }
        },
        "29efa8bb1aef4a028e94c54acae163e6": {
          "model_module": "@jupyter-widgets/controls",
          "model_name": "HTMLModel",
          "model_module_version": "1.5.0",
          "state": {
            "_dom_classes": [],
            "_model_module": "@jupyter-widgets/controls",
            "_model_module_version": "1.5.0",
            "_model_name": "HTMLModel",
            "_view_count": null,
            "_view_module": "@jupyter-widgets/controls",
            "_view_module_version": "1.5.0",
            "_view_name": "HTMLView",
            "description": "",
            "description_tooltip": null,
            "layout": "IPY_MODEL_30b3adb6202f4077ba4b47d5711232b1",
            "placeholder": "​",
            "style": "IPY_MODEL_2d0c804cc4eb4bebb09bab1e3ecbf564",
            "value": " 0/100 [00:00&lt;?, ?it/s]"
          }
        },
        "371084e80b8a4dac809ba134e715bf07": {
          "model_module": "@jupyter-widgets/base",
          "model_name": "LayoutModel",
          "model_module_version": "1.2.0",
          "state": {
            "_model_module": "@jupyter-widgets/base",
            "_model_module_version": "1.2.0",
            "_model_name": "LayoutModel",
            "_view_count": null,
            "_view_module": "@jupyter-widgets/base",
            "_view_module_version": "1.2.0",
            "_view_name": "LayoutView",
            "align_content": null,
            "align_items": null,
            "align_self": null,
            "border": null,
            "bottom": null,
            "display": null,
            "flex": null,
            "flex_flow": null,
            "grid_area": null,
            "grid_auto_columns": null,
            "grid_auto_flow": null,
            "grid_auto_rows": null,
            "grid_column": null,
            "grid_gap": null,
            "grid_row": null,
            "grid_template_areas": null,
            "grid_template_columns": null,
            "grid_template_rows": null,
            "height": null,
            "justify_content": null,
            "justify_items": null,
            "left": null,
            "margin": null,
            "max_height": null,
            "max_width": null,
            "min_height": null,
            "min_width": null,
            "object_fit": null,
            "object_position": null,
            "order": null,
            "overflow": null,
            "overflow_x": null,
            "overflow_y": null,
            "padding": null,
            "right": null,
            "top": null,
            "visibility": null,
            "width": null
          }
        },
        "0b57e6caa6924c2cb35ffa8bc8474825": {
          "model_module": "@jupyter-widgets/base",
          "model_name": "LayoutModel",
          "model_module_version": "1.2.0",
          "state": {
            "_model_module": "@jupyter-widgets/base",
            "_model_module_version": "1.2.0",
            "_model_name": "LayoutModel",
            "_view_count": null,
            "_view_module": "@jupyter-widgets/base",
            "_view_module_version": "1.2.0",
            "_view_name": "LayoutView",
            "align_content": null,
            "align_items": null,
            "align_self": null,
            "border": null,
            "bottom": null,
            "display": null,
            "flex": null,
            "flex_flow": null,
            "grid_area": null,
            "grid_auto_columns": null,
            "grid_auto_flow": null,
            "grid_auto_rows": null,
            "grid_column": null,
            "grid_gap": null,
            "grid_row": null,
            "grid_template_areas": null,
            "grid_template_columns": null,
            "grid_template_rows": null,
            "height": null,
            "justify_content": null,
            "justify_items": null,
            "left": null,
            "margin": null,
            "max_height": null,
            "max_width": null,
            "min_height": null,
            "min_width": null,
            "object_fit": null,
            "object_position": null,
            "order": null,
            "overflow": null,
            "overflow_x": null,
            "overflow_y": null,
            "padding": null,
            "right": null,
            "top": null,
            "visibility": null,
            "width": null
          }
        },
        "7a37045f011141ff8fef2e11007833dc": {
          "model_module": "@jupyter-widgets/controls",
          "model_name": "DescriptionStyleModel",
          "model_module_version": "1.5.0",
          "state": {
            "_model_module": "@jupyter-widgets/controls",
            "_model_module_version": "1.5.0",
            "_model_name": "DescriptionStyleModel",
            "_view_count": null,
            "_view_module": "@jupyter-widgets/base",
            "_view_module_version": "1.2.0",
            "_view_name": "StyleView",
            "description_width": ""
          }
        },
        "312bbd00fde34738b127a394c719a9c8": {
          "model_module": "@jupyter-widgets/base",
          "model_name": "LayoutModel",
          "model_module_version": "1.2.0",
          "state": {
            "_model_module": "@jupyter-widgets/base",
            "_model_module_version": "1.2.0",
            "_model_name": "LayoutModel",
            "_view_count": null,
            "_view_module": "@jupyter-widgets/base",
            "_view_module_version": "1.2.0",
            "_view_name": "LayoutView",
            "align_content": null,
            "align_items": null,
            "align_self": null,
            "border": null,
            "bottom": null,
            "display": null,
            "flex": null,
            "flex_flow": null,
            "grid_area": null,
            "grid_auto_columns": null,
            "grid_auto_flow": null,
            "grid_auto_rows": null,
            "grid_column": null,
            "grid_gap": null,
            "grid_row": null,
            "grid_template_areas": null,
            "grid_template_columns": null,
            "grid_template_rows": null,
            "height": null,
            "justify_content": null,
            "justify_items": null,
            "left": null,
            "margin": null,
            "max_height": null,
            "max_width": null,
            "min_height": null,
            "min_width": null,
            "object_fit": null,
            "object_position": null,
            "order": null,
            "overflow": null,
            "overflow_x": null,
            "overflow_y": null,
            "padding": null,
            "right": null,
            "top": null,
            "visibility": null,
            "width": null
          }
        },
        "51cc275405df42d885516de5a029b8bc": {
          "model_module": "@jupyter-widgets/controls",
          "model_name": "ProgressStyleModel",
          "model_module_version": "1.5.0",
          "state": {
            "_model_module": "@jupyter-widgets/controls",
            "_model_module_version": "1.5.0",
            "_model_name": "ProgressStyleModel",
            "_view_count": null,
            "_view_module": "@jupyter-widgets/base",
            "_view_module_version": "1.2.0",
            "_view_name": "StyleView",
            "bar_color": null,
            "description_width": ""
          }
        },
        "30b3adb6202f4077ba4b47d5711232b1": {
          "model_module": "@jupyter-widgets/base",
          "model_name": "LayoutModel",
          "model_module_version": "1.2.0",
          "state": {
            "_model_module": "@jupyter-widgets/base",
            "_model_module_version": "1.2.0",
            "_model_name": "LayoutModel",
            "_view_count": null,
            "_view_module": "@jupyter-widgets/base",
            "_view_module_version": "1.2.0",
            "_view_name": "LayoutView",
            "align_content": null,
            "align_items": null,
            "align_self": null,
            "border": null,
            "bottom": null,
            "display": null,
            "flex": null,
            "flex_flow": null,
            "grid_area": null,
            "grid_auto_columns": null,
            "grid_auto_flow": null,
            "grid_auto_rows": null,
            "grid_column": null,
            "grid_gap": null,
            "grid_row": null,
            "grid_template_areas": null,
            "grid_template_columns": null,
            "grid_template_rows": null,
            "height": null,
            "justify_content": null,
            "justify_items": null,
            "left": null,
            "margin": null,
            "max_height": null,
            "max_width": null,
            "min_height": null,
            "min_width": null,
            "object_fit": null,
            "object_position": null,
            "order": null,
            "overflow": null,
            "overflow_x": null,
            "overflow_y": null,
            "padding": null,
            "right": null,
            "top": null,
            "visibility": null,
            "width": null
          }
        },
        "2d0c804cc4eb4bebb09bab1e3ecbf564": {
          "model_module": "@jupyter-widgets/controls",
          "model_name": "DescriptionStyleModel",
          "model_module_version": "1.5.0",
          "state": {
            "_model_module": "@jupyter-widgets/controls",
            "_model_module_version": "1.5.0",
            "_model_name": "DescriptionStyleModel",
            "_view_count": null,
            "_view_module": "@jupyter-widgets/base",
            "_view_module_version": "1.2.0",
            "_view_name": "StyleView",
            "description_width": ""
          }
        }
      }
    }
  },
  "nbformat": 4,
  "nbformat_minor": 0
}
